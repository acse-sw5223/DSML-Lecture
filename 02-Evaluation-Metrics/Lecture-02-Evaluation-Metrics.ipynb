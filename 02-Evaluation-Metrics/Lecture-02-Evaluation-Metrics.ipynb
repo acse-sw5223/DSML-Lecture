{
 "cells": [
  {
   "cell_type": "markdown",
   "id": "87101ca1-0910-4a85-a7a9-e4e81c695e98",
   "metadata": {
    "editable": true,
    "slideshow": {
     "slide_type": ""
    },
    "tags": []
   },
   "source": [
    "**Day 2**: Performance metrics 📏 (***live in 1.49/1.50***)"
   ]
  },
  {
   "cell_type": "markdown",
   "id": "00302d80-9b13-4bcf-a238-311aaced1466",
   "metadata": {},
   "source": [
    "# The two cells below load some helper functions used in the class"
   ]
  },
  {
   "cell_type": "code",
   "execution_count": 3,
   "id": "d051b776-0b86-4d23-8be6-dee6dff545ee",
   "metadata": {
    "editable": true,
    "raw_mimetype": "",
    "slideshow": {
     "slide_type": "skip"
    },
    "tags": []
   },
   "outputs": [],
   "source": [
    "%matplotlib widget"
   ]
  },
  {
   "cell_type": "code",
   "execution_count": 4,
   "id": "ac890393-4cec-4522-8b63-0a5ba68e9199",
   "metadata": {
    "editable": true,
    "slideshow": {
     "slide_type": "skip"
    },
    "tags": []
   },
   "outputs": [],
   "source": [
    "# RUN THIS CELL TO LOAD GRAPHIC GENERATING FUNCTION\n",
    "\n",
    "from ipywidgets import interact, IntSlider, FloatSlider\n",
    "import numpy as np\n",
    "import pandas as pd\n",
    "import matplotlib as mpl\n",
    "\n",
    "import matplotlib.pyplot as plt\n",
    "from matplotlib.patches import Polygon\n",
    "import seaborn as sns\n",
    "\n",
    "from sklearn.model_selection import train_test_split\n",
    "from sklearn.preprocessing import StandardScaler\n",
    "from sklearn.metrics import precision_score, accuracy_score, recall_score, f1_score\n",
    "\n",
    "def sigmoid(x):\n",
    "    return 1/(1+np.exp(-x))\n",
    "\n",
    "def calculate_proba(x, threshold):\n",
    "    data = np.linspace(-5, 5, num=11)\n",
    "    true_class = [0,0,1, 0, 0, 1, 0, 1, 0, 1, 1]\n",
    "    proba = sigmoid(data)\n",
    "    predictions = [1 if p  >= threshold else 0 for p in proba]\n",
    "    \n",
    "    return (data, true_class, proba, predictions)\n",
    "    \n",
    "\n",
    "def calculate_matrix(predictions, true_class):\n",
    "    cf_data = list(zip(predictions, true_class))\n",
    "    tp = sum([1 if d==(1, 1) else 0 for d in cf_data])\n",
    "    tn = sum([1 if d==(0, 0) else 0 for d in cf_data])\n",
    "    fp = sum([1 if d==(1, 0) else 0 for d in cf_data])\n",
    "    fn = sum([1 if d==(0, 1) else 0 for d in cf_data])\n",
    "    \n",
    "    #array = [[tp,fp],[tn,fn]]\n",
    "    array = [[1,2],[3,4]]\n",
    "    \n",
    "    df_cm = pd.DataFrame(array, index = ['Negative', 'Positive'],\n",
    "                  columns = ['Negative', 'Positive'])\n",
    "    \n",
    "    annotations = pd.DataFrame([[f'TN\\n{tn}',f'FP\\n{fp}'],[f'FN\\n{fn}',f'TP\\n{tp}' ]])\n",
    "    return df_cm, annotations\n",
    "\n",
    "def calculate_metrics(predictions, true_class):\n",
    "    precision = precision_score(true_class, predictions,zero_division=0)\n",
    "    recall = recall_score(true_class, predictions)\n",
    "    f1 = f1_score(true_class, predictions)\n",
    "    accuracy = accuracy_score(true_class, predictions)\n",
    "    return  precision, recall, accuracy, f1\n",
    "\n",
    "def update_original(threshold = 0.5):\n",
    "    data, true_class, proba, predictions = calculate_proba(x, threshold)\n",
    "    df_cm = calculate_matrix(predictions, true_class)\n",
    "    \n",
    "    axes[0][1].clear()\n",
    "    axes[1][0].clear()\n",
    "    sns.heatmap(df_cm, annot=True, ax=axes[0][1],cbar=False, cmap='Purples')\n",
    "    threshold_line.set_ydata()\n",
    "    metrics = calculate_metrics(predictions, true_class)\n",
    "    \n",
    "    axes[1][0].barh(['Precision','Recall'],metrics)\n",
    "    \n",
    "    fig.canvas.draw_idle()\n",
    "  \n",
    "def create_plot(threshold = 0.5):\n",
    "    \n",
    "    fig, axes = plt.subplots(2,2, figsize=(10, 10))\n",
    "    draw_plot(axes, threshold)\n",
    "    \n",
    "    return fig, axes\n",
    "\n",
    "def separate_classes(data, true_class, predictions, proba):\n",
    "    all_data = zip(data, true_class, predictions, proba)\n",
    "    \n",
    "    tp = []\n",
    "    tn = []\n",
    "    fp = []\n",
    "    fn = []\n",
    "    \n",
    "    for d in all_data:\n",
    "        if d[1] == d[2] and d[1] == 0:\n",
    "            tn.append(d) \n",
    "        if d[1] == d[2] and d[1] == 1:\n",
    "            tp.append(d) \n",
    "        if d[1] != d[2] and d[1] == 1:\n",
    "            fn.append(d) \n",
    "        if d[1] != d[2] and d[1] == 0:\n",
    "            fp.append(d) \n",
    "    \n",
    "    return {'tp':tp, 'tn':tn, 'fp':fp, 'fn':fn}\n",
    "        \n",
    "\n",
    "def draw_plot(axes, threshold):\n",
    "    x = np.linspace(-6, 6)\n",
    "    data, true_class, proba, predictions = calculate_proba(x, threshold)\n",
    "    label_font = {'size':'12', 'weight':'bold'}\n",
    "    \n",
    "    classes = separate_classes(data, true_class, predictions, proba)\n",
    "    \n",
    "    axes[0][0].axhspan(-.18, threshold, facecolor='dimgrey', alpha=0.2)\n",
    "    axes[0][0].axhspan(threshold, 1.18, facecolor='powderblue', alpha=0.2)\n",
    "    \n",
    "    sigmoid_curve, = axes[0][0].plot(x, sigmoid(x))\n",
    "    threshold_line, = axes[0][0].plot(x, np.ones(len(x))*threshold, c='r', linestyle='--')\n",
    "    axes[0][0].set_xlim(-6,6)\n",
    "    axes[0][0].set_ylim(-.18,1.18)\n",
    "    axes[0][0].set_xlabel(\"Feature Space\", fontdict=label_font)\n",
    "    axes[0][0].set_ylabel(\"Probability\", fontdict=label_font)\n",
    "    \n",
    "    axes[0][0].tick_params(\n",
    "        axis='x',          # changes apply to the x-axis\n",
    "        which='both',      # both major and minor ticks are affected\n",
    "        bottom=False,      # ticks along the bottom edge are off\n",
    "        top=False,         # ticks along the top edge are off\n",
    "        labelbottom=False)\n",
    "    \n",
    "    #axes[0][0] = axes[0][0].scatter(data, sigmoid(data), marker = symbols, s=400, c=true_class)\n",
    "    \n",
    "    colors = {'tp':'darkorchid', 'tn':'mediumpurple', 'fp':'lightcoral', 'fn':'lightsalmon'}\n",
    "    \n",
    "    for k, v in classes.items():\n",
    "        if k == 'tp' or k == 'fn':\n",
    "            m = 's'\n",
    "            s = 300\n",
    "        else:\n",
    "            m = 'o'\n",
    "            s = 400\n",
    "        c = colors.get(k)\n",
    "        \n",
    "        values = np.array([d[0] for d in v])\n",
    "        \n",
    "        axes[0][0].scatter(values,sigmoid(values), marker=m,s=s, color=c)\n",
    "    \n",
    "    precision, recall, accuracy, f1 = calculate_metrics(predictions, true_class)\n",
    "        \n",
    "    axes[1][0].barh(['Precision','Recall'],[precision, recall], color=['darkgreen','coral'])\n",
    "    axes[1][1].barh(['Accuracy','F1-Score'],[accuracy, f1], color=['mediumturquoise','plum'])\n",
    "    axes[1][1].yaxis.set_label_position(\"right\")\n",
    "    axes[1][1].yaxis.tick_right()\n",
    "    \n",
    "    axes[1][1].annotate(  f'{f1:.02}', (f1/2, 1), size=12, weight='bold', color='white')\n",
    "    axes[1][1].annotate(f'{accuracy:.01%}', (accuracy/2, 0),size=12, weight='bold', color='white')\n",
    "    axes[1][0].annotate(  f'{precision:.01%}', (precision/2, 0), size=12, weight='bold', color='white')\n",
    "    axes[1][0].annotate(f'{recall:.01%}', (recall/2, 1),size=12, weight='bold', color='white')\n",
    "    \n",
    "    axes[1][0].set_xlim(0,1)\n",
    "    axes[1][1].set_xlim(0,1)\n",
    "    df_cm, annotations = calculate_matrix(predictions, true_class)\n",
    "    \n",
    "    #create a discrete color mapping\n",
    "    colors = ['darkorchid', 'lightcoral','lightsalmon','mediumpurple']\n",
    "    levels = [0,1,2,3,4]\n",
    "    cmap, norm = mpl.colors.from_levels_and_colors(levels=levels, colors=colors)\n",
    "\n",
    "    cfm = sns.heatmap(df_cm,square=True, annot=annotations,fmt='', \n",
    "                      ax=axes[0][1],cbar=False, linewidth=.5, linecolor='k',\n",
    "                      annot_kws={\"size\": 14,'weight':'bold'}, cmap=cmap)\n",
    "    \n",
    "    axes[0][1].set_xlabel('Predicted labels', fontdict=label_font);\n",
    "    axes[0][1].set_ylabel('Actual labels', fontdict=label_font);\n",
    "    \n",
    "    return None\n",
    "    \n",
    "\n",
    "def update_plot(threshold = 0.5):\n",
    "    \n",
    "    for ax in axes.flatten():\n",
    "        ax.clear()\n",
    "    \n",
    "    draw_plot(axes, threshold)\n",
    "    \n",
    "    fig.canvas.draw_idle()\n",
    "    \n",
    "\n",
    "\n",
    "def draw_roc_plot(select, auc, compare, ax):\n",
    "    #plt.close()\n",
    "    fpr= np.array([0,.03,.06,.11,.2,.3,.5,1])\n",
    "    tpr =np.array([0,.3,.55,.8,.9,.95,.98,1])\n",
    "    ratio = tpr[1:]/fpr[1:]\n",
    "    text_y_pos = [0,0.01,.2, .35, .4, .45, .6, .5]\n",
    "    \n",
    "    if auc or compare:\n",
    "        pts = np.array(list(zip(fpr,tpr))+[[1,0]])\n",
    "        p = Polygon(pts, closed=False, color='gold', alpha=.2)\n",
    "        ax.add_patch(p)\n",
    "        ax.annotate(  f'AUC = 0.79', (.4, 0.93), size=20, weight='bold', color='maroon');\n",
    "    else:\n",
    "        ax.plot(np.ones(5)*fpr[select], np.linspace(0,tpr[select],5), color='gold',alpha=.2, linestyle='-', linewidth=40);\n",
    "        ax.annotate(  f'TPR/FPR: {ratio[select-1]:.01f}', (fpr[select]-.01,text_y_pos[select]), size=16,rotation=90, weight='bold', color='maroon');\n",
    "    \n",
    "    if compare:\n",
    "        fpr_b= np.array([0,.031,.09,.15,.23,.4,.6,1])\n",
    "        tpr_b =np.array([0,.2,.5,.6,.71,.85,.91,1])\n",
    "        pts = np.array(list(zip(fpr_b,tpr_b))+[[1,0]])\n",
    "        p = Polygon(pts, closed=False, color='darkgreen', alpha=.5)\n",
    "        ax.add_patch(p)\n",
    "        ax.annotate(  f'AUC = 0.68', (.4, 0.75), size=20, weight='bold', color='white');\n",
    "        ax.plot(fpr_b, tpr_b, color='b');\n",
    "        ax.scatter(fpr_b, tpr_b, color='b', s=180);\n",
    "        \n",
    "        \n",
    "        \n",
    "    ax.plot(fpr, tpr, color='k');\n",
    "    ax.scatter(fpr, tpr, color='k', s=180);\n",
    "    ax.plot(np.linspace(0,1,5), np.linspace(0,1,5), color='r', linestyle='--');\n",
    "    label_font = {'size':'12', 'weight':'bold'}\n",
    "    ax.set_xlabel('False Positive Rate\\n(1-Specificity)',fontdict=label_font);\n",
    "    ax.set_ylabel('True Positive Rate\\n(Sensitivity/Recall)',fontdict=label_font);\n",
    "    ax.set_xlim(0, 1.02);\n",
    "    ax.set_ylim(0, 1.02);\n",
    "    return None  \n",
    "\n",
    "\n",
    "def update_roc_plot(select, auc, compare, ax):\n",
    "    ax.clear()\n",
    "    \n",
    "    draw_roc_plot(select, auc, compare, ax)\n",
    "    \n",
    "    fig.canvas.draw_idle()\n",
    "\n",
    "  \n",
    "def create_roc_plot(select=1, auc=False, compare=False):\n",
    "    \n",
    "    fig, ax = plt.subplots(1,1,figsize=(8,8))\n",
    "    draw_roc_plot(select=1, auc=False, compare=False,ax=ax)\n",
    "    \n",
    "    return fig, ax\n",
    "\n",
    "\n",
    "# Hekper function to prepare the regression dataset\n",
    "\n",
    "def split_and_scale(X, y):\n",
    "    \n",
    "    X_train, X_test, y_train, y_test = train_test_split(X, y, train_size=.7, random_state=42)\n",
    "\n",
    "    scaler = StandardScaler().fit(X_train)\n",
    "    X_train = pd.DataFrame(scaler.transform(X_train), columns=X_train.columns)\n",
    "    X_test = pd.DataFrame(scaler.transform(X_test), columns=X_test.columns)\n",
    "\n",
    "    return X_train, X_test, y_train, y_test\n",
    "    \n",
    "\n",
    "def prep_regression():\n",
    "    data = pd.read_csv('Lecture_data/fish.csv')\n",
    "    # Prepare X and y\n",
    "    X = data[['Length1', 'Length2', 'Length3', 'Height', 'Width']]\n",
    "    y = data['Weight']\n",
    "\n",
    "    return split_and_scale(X, y)\n",
    "\n",
    "\n",
    "# Hekper function to prepare the classification dataset\n",
    "\n",
    "def prep_classification():\n",
    "    data = pd.read_csv('Lecture_data/wines_binary.csv')\n",
    "    \n",
    "    X=data.drop(columns=['is_good_quality'])\n",
    "    y=data.is_good_quality\n",
    "    \n",
    "    return split_and_scale(X, y)"
   ]
  },
  {
   "cell_type": "markdown",
   "id": "d5d7673b-71a7-4c1e-aa2e-49e84f30ac9f",
   "metadata": {
    "ExecuteTime": {
     "end_time": "2021-10-13T14:47:58.027327Z",
     "start_time": "2021-10-13T14:47:58.010958Z"
    },
    "slideshow": {
     "slide_type": "slide"
    },
    "tags": []
   },
   "source": [
    "<center><h1 style=\"color:maroon\">Performance Metrics</h1>\n",
    "<img src=\"https://drive.google.com/uc?id=12A_ZQ1a-C_Lo-VCkvU0TD-AEYMXZMT0U\" style=\"width:1300px;\">\n",
    "    <h3><span style=\"color: #045F5F\">Data Science & Machine Learning for Planet Earth Lecture Series</span></h3><h6><i> by Cédric M. John <span style=\"size:6pts\">(2023)</span></i></h6></center>"
   ]
  },
  {
   "cell_type": "markdown",
   "id": "da0b3d00-e103-43ab-a870-7da43b210360",
   "metadata": {
    "editable": true,
    "slideshow": {
     "slide_type": "subslide"
    },
    "tags": []
   },
   "source": [
    "## Plan for today's Lecture 🗓\n",
    "* Algorithm of the Day: Logistic Regression and KNN\n",
    "* Baseline score\n",
    "* Regression Metrics\n",
    "* Classification Metrics\n",
    "* ROC-AUC"
   ]
  },
  {
   "cell_type": "markdown",
   "id": "21944f9f-2e95-45bc-995e-f5764db3e47d",
   "metadata": {
    "editable": true,
    "slideshow": {
     "slide_type": "fragment"
    },
    "tags": []
   },
   "source": [
    "## Intended learning outcomes 👩‍🎓\n",
    "* Confidently choose the right evaluation metric\n",
    "* Compare different model performance\n",
    "* Use different metrics in CrossValidation\n",
    "* Use of KNN for classification and regression"
   ]
  },
  {
   "cell_type": "markdown",
   "id": "b8499db1-9f47-47ec-b38f-a673f2551153",
   "metadata": {
    "editable": true,
    "slideshow": {
     "slide_type": "subslide"
    },
    "tags": []
   },
   "source": [
    "# Regression Dataset\n",
    "Today's dataset for regression: <a href=\"https://www.kaggle.com/aungpyaeap/fish-market\">Kaggle fish market dataset</a>.\n",
    "<img src=\"https://drive.google.com/uc?id=11nKFH6_UuaUexqoVQqEfSrKvDDdTQWVw\" style=\"width:1300px;\">"
   ]
  },
  {
   "cell_type": "markdown",
   "id": "7a95fd08-82c1-43d0-986f-1e3710bd1dc4",
   "metadata": {
    "editable": true,
    "slideshow": {
     "slide_type": "subslide"
    },
    "tags": []
   },
   "source": [
    "# Classification Dataset\n",
    "**<span style=\"color:teal\">Dataset for classification today:</span>** <a href=\"https://drive.google.com/uc?id=12A1GYnyQa3HJMKJnBNQHk4flA_l4_uA7\">UCI Wine Dataset</a><br>\n",
    "<img src=\"figures/wines.png\" width=\"800\"/>"
   ]
  },
  {
   "cell_type": "markdown",
   "id": "dd515d93-dd31-4501-a7ee-ec6b4b9ab574",
   "metadata": {
    "editable": true,
    "slideshow": {
     "slide_type": "slide"
    },
    "tags": []
   },
   "source": [
    "# Algorithm of the Day: Classification with Logistic Regression\n",
    "<br>\n",
    "\n",
    "<center><img src=\"https://drive.google.com/uc?id=11rZhkAicPBeNHKositWRftquEN2KoYyx\" style=\"width:900px;\"><br>\n",
    " © Cédric John, 2023; Image generated with <a href=\"https://openai.com/blog/dall-e/\">DALL-E</a>\n",
    "<br>Prompt: Algorithm of the Day.</center>"
   ]
  },
  {
   "cell_type": "markdown",
   "id": "55222588-46fd-4c25-af9f-0ade2719a5e3",
   "metadata": {
    "editable": true,
    "slideshow": {
     "slide_type": "subslide"
    },
    "tags": []
   },
   "source": [
    "# How can we achieve classification with two classes?"
   ]
  },
  {
   "cell_type": "markdown",
   "id": "403647b0-6b76-417e-a16a-3d1da7d605e4",
   "metadata": {
    "editable": true,
    "slideshow": {
     "slide_type": "fragment"
    },
    "tags": []
   },
   "source": [
    "\n",
    "<ul>\n",
    "<li>Predict the <strong>probability</strong> of an outcome (0 or 1)<ul>\n",
    "</ul>\n"
   ]
  },
  {
   "cell_type": "markdown",
   "id": "6ffd216b-3b31-44c6-bcc3-86bfbcdfb7ac",
   "metadata": {
    "editable": true,
    "slideshow": {
     "slide_type": "fragment"
    },
    "tags": []
   },
   "source": [
    "<p><img src=\"https://drive.google.com/uc?id=12Ei3cF_bi7D6EjVnObwkwKXPsYwt28fM\" width=\"1000\"/></p>"
   ]
  },
  {
   "cell_type": "markdown",
   "id": "d849e57b-7e4e-4a6c-9557-a98eb035d5f1",
   "metadata": {
    "editable": true,
    "slideshow": {
     "slide_type": "subslide"
    },
    "tags": []
   },
   "source": [
    "# Fitting a linear model in probability space"
   ]
  },
  {
   "cell_type": "markdown",
   "id": "360a94b2-fa82-4205-9954-7a4586acd89c",
   "metadata": {
    "editable": true,
    "slideshow": {
     "slide_type": ""
    },
    "tags": []
   },
   "source": [
    "<p><img src=\"https://drive.google.com/uc?id=12ALOmXt3TnVpGB0nlya1SjsdEc9XRNXC\" width=\"1000\"/></p>"
   ]
  },
  {
   "cell_type": "markdown",
   "id": "ca10c5e6-6a0b-4a19-88a1-1b75c1e5f14c",
   "metadata": {
    "editable": true,
    "slideshow": {
     "slide_type": "fragment"
    },
    "tags": []
   },
   "source": [
    "\n",
    "<ul>\n",
    "<li>OLS too gradual and sensitive to outliers</li>\n",
    "</ul>\n"
   ]
  },
  {
   "cell_type": "markdown",
   "id": "88ffe6d7-a533-40bf-a478-af29e76cc71f",
   "metadata": {
    "editable": true,
    "slideshow": {
     "slide_type": "fragment"
    },
    "tags": []
   },
   "source": [
    "\n",
    "<ul>\n",
    "    <li>Values are not capped</li>\n",
    "</ul>\n"
   ]
  },
  {
   "cell_type": "markdown",
   "id": "c63d9866-42dc-4bdd-95ff-2337f7404ae0",
   "metadata": {
    "editable": true,
    "slideshow": {
     "slide_type": "subslide"
    },
    "tags": []
   },
   "source": [
    "# The logistic function"
   ]
  },
  {
   "cell_type": "markdown",
   "id": "9447cfb9-e2ac-406a-a78b-9bc794d16c1d",
   "metadata": {
    "editable": true,
    "slideshow": {
     "slide_type": "fragment"
    },
    "tags": []
   },
   "source": [
    "\n",
    "<ul>\n",
    "<li>We need a function that better represents probability<ul>\n",
    "</ul>\n"
   ]
  },
  {
   "cell_type": "markdown",
   "id": "874078fc-778b-49d2-b6bd-d2554407a338",
   "metadata": {
    "editable": true,
    "slideshow": {
     "slide_type": "fragment"
    },
    "tags": []
   },
   "source": [
    "\n",
    "<ul>\n",
    "<li>Values capped between 0 and 1<ul>\n",
    "</ul>\n"
   ]
  },
  {
   "cell_type": "markdown",
   "id": "41fd88c6-edee-4eaf-8b85-168b33ad3a53",
   "metadata": {
    "editable": true,
    "slideshow": {
     "slide_type": "fragment"
    },
    "tags": []
   },
   "source": [
    "\n",
    "<ul>\n",
    "<li>Less sensitive to outliers<ul>\n",
    "</ul>\n"
   ]
  },
  {
   "cell_type": "markdown",
   "id": "14cd9668-81c5-4108-a412-f97abe9b820c",
   "metadata": {
    "editable": true,
    "slideshow": {
     "slide_type": "fragment"
    },
    "tags": []
   },
   "source": [
    "Logistic Function:\n",
    "\n",
    "$$\\sigma(X) = \\frac{1}{1+e^{-X}}$$\n"
   ]
  },
  {
   "cell_type": "markdown",
   "id": "fbc6b16c-a8a3-403d-b45f-1e1b98c479b9",
   "metadata": {
    "editable": true,
    "slideshow": {
     "slide_type": "subslide"
    },
    "tags": []
   },
   "source": [
    "<p><img src=\"https://drive.google.com/uc?id=11s48xEjlEU9vWEKI9bP7KpiTC5gZgZja\" width=\"1000\"/></p>"
   ]
  },
  {
   "cell_type": "markdown",
   "id": "cf0ed62b-a0b0-4fdd-abbb-1e75cbce3b01",
   "metadata": {
    "editable": true,
    "slideshow": {
     "slide_type": "subslide"
    },
    "tags": []
   },
   "source": [
    "# Fitting a linear model"
   ]
  },
  {
   "cell_type": "markdown",
   "id": "e27daa21-8b21-4bd3-a464-ee44edf2cdcc",
   "metadata": {
    "editable": true,
    "slideshow": {
     "slide_type": "fragment"
    },
    "tags": []
   },
   "source": [
    "<p><img src=\"https://drive.google.com/uc?id=11wOdqlyC5-0CrhOLJo_dvyJx2T44j5Df\" width=\"1800\"/></p>"
   ]
  },
  {
   "cell_type": "markdown",
   "id": "b4e7a67a-5afc-4234-a62a-8a54e4ece833",
   "metadata": {
    "editable": true,
    "slideshow": {
     "slide_type": ""
    },
    "tags": []
   },
   "source": [
    "Clearly *NOT* a linear function!"
   ]
  },
  {
   "cell_type": "markdown",
   "id": "5b8b64a1-7544-497e-b7ac-4c10b7c88bc4",
   "metadata": {
    "editable": true,
    "slideshow": {
     "slide_type": "subslide"
    },
    "tags": []
   },
   "source": [
    "# From probability to logit to achieve linearity"
   ]
  },
  {
   "cell_type": "markdown",
   "id": "5da6b735-c1eb-48b8-946d-aae73a8cf0c0",
   "metadata": {
    "editable": true,
    "slideshow": {
     "slide_type": ""
    },
    "tags": []
   },
   "source": [
    "$P_{y=1}$ can be simplified as $(P)$ (probability of positive outcome)."
   ]
  },
  {
   "cell_type": "markdown",
   "id": "4e84b4dd-d5e1-4696-9ace-53e77a1d36f8",
   "metadata": {
    "editable": true,
    "slideshow": {
     "slide_type": "fragment"
    },
    "tags": []
   },
   "source": [
    "By extension: $P_{y=0} = 1-P$"
   ]
  },
  {
   "cell_type": "markdown",
   "id": "ae93bde2-f55e-4a5f-bcdb-996dd6e301c8",
   "metadata": {
    "editable": true,
    "slideshow": {
     "slide_type": "fragment"
    },
    "tags": []
   },
   "source": [
    "Odds = $\\frac{P}{1-P}$ "
   ]
  },
  {
   "cell_type": "markdown",
   "id": "f51a8d99-43c0-465b-b9eb-0b696dd00566",
   "metadata": {
    "editable": true,
    "slideshow": {
     "slide_type": "fragment"
    },
    "tags": []
   },
   "source": [
    "if $P=0.8$, $odds =\\frac{P}{1-P}=\\frac{0.8}{0.2} = 4$ "
   ]
  },
  {
   "cell_type": "markdown",
   "id": "e0541827-d2aa-47e3-acfd-24d65237d8dc",
   "metadata": {
    "editable": true,
    "slideshow": {
     "slide_type": "fragment"
    },
    "tags": []
   },
   "source": [
    "logit (\"log odds) = $ln(\\frac{P}{1-P})$ "
   ]
  },
  {
   "cell_type": "markdown",
   "id": "62d350f7-9464-4586-935a-04d0a260c9e7",
   "metadata": {
    "editable": true,
    "slideshow": {
     "slide_type": "subslide"
    },
    "tags": []
   },
   "source": [
    "<p><img src=\"https://drive.google.com/uc?id=11wPUNG-TMt7lIaPVu-7MdSgq6-t7hWpB\" width=\"1800\"/></p>"
   ]
  },
  {
   "cell_type": "markdown",
   "id": "c9ed5fea-c5c3-447f-9219-b3125385cf9c",
   "metadata": {
    "editable": true,
    "slideshow": {
     "slide_type": "fragment"
    },
    "tags": []
   },
   "source": [
    "$$ln(\\frac{P}{1-P})=\\beta_0 + \\beta_1 x1 + ... + \\beta_n x_n$$"
   ]
  },
  {
   "cell_type": "markdown",
   "id": "15fd346b-e32a-4f6f-8464-521d80bdade0",
   "metadata": {
    "editable": true,
    "slideshow": {
     "slide_type": "fragment"
    },
    "tags": []
   },
   "source": [
    "$$ln(\\frac{P}{1-P})=\\beta X$$"
   ]
  },
  {
   "cell_type": "markdown",
   "id": "a383fe46-6155-4066-8f43-ab954e3cd4a1",
   "metadata": {
    "editable": true,
    "slideshow": {
     "slide_type": "subslide"
    },
    "tags": []
   },
   "source": [
    "<p><img src=\"https://drive.google.com/uc?id=11j2QOk8eSGwAcnJxxs2pciFeuzmVefk8\" width=\"1800\"/></p>"
   ]
  },
  {
   "cell_type": "markdown",
   "id": "e1c5065f-fe33-4c44-9488-5b319f33583e",
   "metadata": {
    "editable": true,
    "slideshow": {
     "slide_type": "fragment"
    },
    "tags": []
   },
   "source": [
    "Logistic Regression simply solves for $ln(\\frac{P}{1-P})=\\beta X$. We will see how on Wednesday."
   ]
  },
  {
   "cell_type": "markdown",
   "id": "0cb8c947-2711-427b-a833-ebe267776ab9",
   "metadata": {
    "editable": true,
    "slideshow": {
     "slide_type": "fragment"
    },
    "tags": []
   },
   "source": [
    "Logistic Regression is a Linear Model -> Easy to interpret the parameters ($\\beta$'s)"
   ]
  },
  {
   "cell_type": "markdown",
   "id": "27f55075-8c29-4e41-b222-32e18e723904",
   "metadata": {
    "editable": true,
    "slideshow": {
     "slide_type": "fragment"
    },
    "tags": []
   },
   "source": [
    "Relatively efficient: the most common classifiers in industry"
   ]
  },
  {
   "cell_type": "markdown",
   "id": "1480f89c-73fb-4e8b-a9f9-c7275f398b15",
   "metadata": {
    "editable": true,
    "slideshow": {
     "slide_type": "slide"
    },
    "tags": []
   },
   "source": [
    "# Logistic Regression in practice"
   ]
  },
  {
   "cell_type": "code",
   "execution_count": 5,
   "id": "e902cda7-cec2-4ea6-b188-3f7ddf9160cb",
   "metadata": {
    "editable": true,
    "slideshow": {
     "slide_type": ""
    },
    "tags": []
   },
   "outputs": [],
   "source": [
    "X_train, X_test, y_train, y_test = prep_classification()"
   ]
  },
  {
   "cell_type": "code",
   "execution_count": 6,
   "id": "5e060c7e-1df2-439d-a96a-fe68321cc06d",
   "metadata": {
    "editable": true,
    "slideshow": {
     "slide_type": "fragment"
    },
    "tags": []
   },
   "outputs": [
    {
     "data": {
      "text/plain": [
       "0.8627"
      ]
     },
     "execution_count": 6,
     "metadata": {},
     "output_type": "execute_result"
    }
   ],
   "source": [
    "from sklearn.linear_model import LogisticRegression\n",
    "from sklearn.metrics import accuracy_score\n",
    "\n",
    "lr = LogisticRegression()\n",
    "\n",
    "lr.fit(X_train, y_train)\n",
    "accuracy_score(y_test, lr.predict(X_test))"
   ]
  },
  {
   "cell_type": "markdown",
   "id": "64932125-a057-44a1-8eac-d1916d5f027f",
   "metadata": {
    "editable": true,
    "slideshow": {
     "slide_type": "slide"
    },
    "tags": []
   },
   "source": [
    "# Algorithm of the Day: K-Nearest Neighbors (KNN)\n",
    "<br>\n",
    "\n",
    "<center><img src=\"https://drive.google.com/uc?id=126wqxbkAMx8HTs6QuFzznk-IV1zaBHv2\" style=\"width:900px;\"><br>\n",
    " © Cédric John, 2023; Image generated with <a href=\"https://openai.com/blog/dall-e/\">DALL-E</a>\n",
    "<br>Prompt: Algorithm of the Day.</center>"
   ]
  },
  {
   "cell_type": "markdown",
   "id": "acc8a9d4-5e7c-4c84-ab4c-14672e245da0",
   "metadata": {
    "editable": true,
    "slideshow": {
     "slide_type": "subslide"
    },
    "tags": []
   },
   "source": [
    "K-Nearest Neighbors (KNN) is a non-linear, distance based model capable of solving both Regression and Classification tasks.<br><br>"
   ]
  },
  {
   "cell_type": "markdown",
   "id": "e0921107-3bc0-4372-8e34-b4a605427181",
   "metadata": {
    "editable": true,
    "slideshow": {
     "slide_type": "fragment"
    },
    "tags": []
   },
   "source": [
    "* Looks at <code>K</code> closest samples to make a prediction"
   ]
  },
  {
   "cell_type": "markdown",
   "id": "f5fd2af7-b489-4832-b77e-13ab4d0843bc",
   "metadata": {
    "slideshow": {
     "slide_type": "fragment"
    },
    "tags": []
   },
   "source": [
    "* Up to us to determine <code>K</code> (hyperparameter)"
   ]
  },
  {
   "cell_type": "markdown",
   "id": "6964cc19-adf0-48e1-8ea8-044b5b2eea19",
   "metadata": {
    "editable": true,
    "slideshow": {
     "slide_type": "fragment"
    },
    "tags": []
   },
   "source": [
    "* No parameters are trained: instead, the **entire training dataset** is kept in memory and compared to for each prediction"
   ]
  },
  {
   "cell_type": "markdown",
   "id": "ff5305fd-1074-47a3-8264-5e4a8ffaf47c",
   "metadata": {
    "editable": true,
    "slideshow": {
     "slide_type": "subslide"
    },
    "tags": []
   },
   "source": [
    "### Calculate distance from sample\n",
    "<img align=\"center\" src=\"https://drive.google.com/uc?id=12-T333hJEesJmh8HrxJuidqY_Tx-AFK0\" width=\"1200\"/>\n",
    "<a href=https://link.springer.com/chapter/10.1007/978-981-16-3342-3_10>Suddarao et al (2022)</a>\n"
   ]
  },
  {
   "cell_type": "markdown",
   "id": "120cf167-79ba-4fe8-a5c0-4adda01ffc60",
   "metadata": {
    "editable": true,
    "slideshow": {
     "slide_type": "subslide"
    },
    "tags": []
   },
   "source": [
    "## KNN decisions\n",
    "**Majority vote for classification:**\n",
    "* For <code>k=6</code> Class A (4 vs 1)\n",
    "* For <code>k=3</code> Class B (1 vs 2)\n",
    "<img align=\"center\" src=\"https://drive.google.com/uc?id=12-T333hJEesJmh8HrxJuidqY_Tx-AFK0\" width=\"800\"/><br>\n",
    "<a href=https://link.springer.com/chapter/10.1007/978-981-16-3342-3_10>Suddarao et al (2022)</a>\n"
   ]
  },
  {
   "cell_type": "markdown",
   "id": "d59b8556-e8cd-426c-a4f4-e100143c0ebd",
   "metadata": {
    "editable": true,
    "slideshow": {
     "slide_type": "subslide"
    },
    "tags": []
   },
   "source": [
    "**Average value for regression:**\n",
    "* For <code>k=6</code> average 6 values\n",
    "* For <code>k=3</code> average 3 values\n",
    "\n",
    "<img align=\"center\" src=\"https://drive.google.com/uc?id=12-T333hJEesJmh8HrxJuidqY_Tx-AFK0\" width=\"800\"/><br>\n",
    "<a href=https://link.springer.com/chapter/10.1007/978-981-16-3342-3_10>Suddarao et al (2022)</a>"
   ]
  },
  {
   "cell_type": "markdown",
   "id": "0912d2b7-103a-4f0f-96d7-3234c8b42daf",
   "metadata": {
    "editable": true,
    "slideshow": {
     "slide_type": "subslide"
    },
    "tags": []
   },
   "source": [
    "## Let's try it!"
   ]
  },
  {
   "cell_type": "code",
   "execution_count": 7,
   "id": "c2fcdf55-0da8-4e44-909b-a4a24fd563be",
   "metadata": {
    "editable": true,
    "slideshow": {
     "slide_type": ""
    },
    "tags": []
   },
   "outputs": [
    {
     "data": {
      "text/html": [
       "<style>#sk-container-id-1 {color: black;}#sk-container-id-1 pre{padding: 0;}#sk-container-id-1 div.sk-toggleable {background-color: white;}#sk-container-id-1 label.sk-toggleable__label {cursor: pointer;display: block;width: 100%;margin-bottom: 0;padding: 0.3em;box-sizing: border-box;text-align: center;}#sk-container-id-1 label.sk-toggleable__label-arrow:before {content: \"▸\";float: left;margin-right: 0.25em;color: #696969;}#sk-container-id-1 label.sk-toggleable__label-arrow:hover:before {color: black;}#sk-container-id-1 div.sk-estimator:hover label.sk-toggleable__label-arrow:before {color: black;}#sk-container-id-1 div.sk-toggleable__content {max-height: 0;max-width: 0;overflow: hidden;text-align: left;background-color: #f0f8ff;}#sk-container-id-1 div.sk-toggleable__content pre {margin: 0.2em;color: black;border-radius: 0.25em;background-color: #f0f8ff;}#sk-container-id-1 input.sk-toggleable__control:checked~div.sk-toggleable__content {max-height: 200px;max-width: 100%;overflow: auto;}#sk-container-id-1 input.sk-toggleable__control:checked~label.sk-toggleable__label-arrow:before {content: \"▾\";}#sk-container-id-1 div.sk-estimator input.sk-toggleable__control:checked~label.sk-toggleable__label {background-color: #d4ebff;}#sk-container-id-1 div.sk-label input.sk-toggleable__control:checked~label.sk-toggleable__label {background-color: #d4ebff;}#sk-container-id-1 input.sk-hidden--visually {border: 0;clip: rect(1px 1px 1px 1px);clip: rect(1px, 1px, 1px, 1px);height: 1px;margin: -1px;overflow: hidden;padding: 0;position: absolute;width: 1px;}#sk-container-id-1 div.sk-estimator {font-family: monospace;background-color: #f0f8ff;border: 1px dotted black;border-radius: 0.25em;box-sizing: border-box;margin-bottom: 0.5em;}#sk-container-id-1 div.sk-estimator:hover {background-color: #d4ebff;}#sk-container-id-1 div.sk-parallel-item::after {content: \"\";width: 100%;border-bottom: 1px solid gray;flex-grow: 1;}#sk-container-id-1 div.sk-label:hover label.sk-toggleable__label {background-color: #d4ebff;}#sk-container-id-1 div.sk-serial::before {content: \"\";position: absolute;border-left: 1px solid gray;box-sizing: border-box;top: 0;bottom: 0;left: 50%;z-index: 0;}#sk-container-id-1 div.sk-serial {display: flex;flex-direction: column;align-items: center;background-color: white;padding-right: 0.2em;padding-left: 0.2em;position: relative;}#sk-container-id-1 div.sk-item {position: relative;z-index: 1;}#sk-container-id-1 div.sk-parallel {display: flex;align-items: stretch;justify-content: center;background-color: white;position: relative;}#sk-container-id-1 div.sk-item::before, #sk-container-id-1 div.sk-parallel-item::before {content: \"\";position: absolute;border-left: 1px solid gray;box-sizing: border-box;top: 0;bottom: 0;left: 50%;z-index: -1;}#sk-container-id-1 div.sk-parallel-item {display: flex;flex-direction: column;z-index: 1;position: relative;background-color: white;}#sk-container-id-1 div.sk-parallel-item:first-child::after {align-self: flex-end;width: 50%;}#sk-container-id-1 div.sk-parallel-item:last-child::after {align-self: flex-start;width: 50%;}#sk-container-id-1 div.sk-parallel-item:only-child::after {width: 0;}#sk-container-id-1 div.sk-dashed-wrapped {border: 1px dashed gray;margin: 0 0.4em 0.5em 0.4em;box-sizing: border-box;padding-bottom: 0.4em;background-color: white;}#sk-container-id-1 div.sk-label label {font-family: monospace;font-weight: bold;display: inline-block;line-height: 1.2em;}#sk-container-id-1 div.sk-label-container {text-align: center;}#sk-container-id-1 div.sk-container {/* jupyter's `normalize.less` sets `[hidden] { display: none; }` but bootstrap.min.css set `[hidden] { display: none !important; }` so we also need the `!important` here to be able to override the default hidden behavior on the sphinx rendered scikit-learn.org. See: https://github.com/scikit-learn/scikit-learn/issues/21755 */display: inline-block !important;position: relative;}#sk-container-id-1 div.sk-text-repr-fallback {display: none;}</style><div id=\"sk-container-id-1\" class=\"sk-top-container\"><div class=\"sk-text-repr-fallback\"><pre>KNeighborsClassifier()</pre><b>In a Jupyter environment, please rerun this cell to show the HTML representation or trust the notebook. <br />On GitHub, the HTML representation is unable to render, please try loading this page with nbviewer.org.</b></div><div class=\"sk-container\" hidden><div class=\"sk-item\"><div class=\"sk-estimator sk-toggleable\"><input class=\"sk-toggleable__control sk-hidden--visually\" id=\"sk-estimator-id-1\" type=\"checkbox\" checked><label for=\"sk-estimator-id-1\" class=\"sk-toggleable__label sk-toggleable__label-arrow\">KNeighborsClassifier</label><div class=\"sk-toggleable__content\"><pre>KNeighborsClassifier()</pre></div></div></div></div></div>"
      ],
      "text/plain": [
       "KNeighborsClassifier()"
      ]
     },
     "execution_count": 7,
     "metadata": {},
     "output_type": "execute_result"
    }
   ],
   "source": [
    "from sklearn.neighbors import KNeighborsClassifier\n",
    "\n",
    "knn_model = KNeighborsClassifier()\n",
    "\n",
    "knn_model.fit(X_train, y_train)"
   ]
  },
  {
   "cell_type": "code",
   "execution_count": 8,
   "id": "9b8983c5-fafb-4d38-83b0-0b641c659d76",
   "metadata": {
    "editable": true,
    "slideshow": {
     "slide_type": ""
    },
    "tags": []
   },
   "outputs": [
    {
     "data": {
      "text/plain": [
       "0.9147"
      ]
     },
     "execution_count": 8,
     "metadata": {},
     "output_type": "execute_result"
    }
   ],
   "source": [
    "scores = accuracy_score(y_test,knn_model.predict(X_test))\n",
    "\n",
    "scores\n"
   ]
  },
  {
   "cell_type": "markdown",
   "id": "c07885ea-8ec2-4e65-896f-5fe8fd6ac507",
   "metadata": {
    "editable": true,
    "slideshow": {
     "slide_type": "subslide"
    },
    "tags": []
   },
   "source": [
    "## Choosing k\n",
    "The optimal 𝑘 will vary from dataset to dataset.\n",
    "* Lower k values, less observations to use to make a prediction, prone to overfitting\n",
    "* Higher k values, signal can be diluted, prone to underfitting\n",
    "* <code>sklearn</code> default is 5"
   ]
  },
  {
   "cell_type": "markdown",
   "id": "4882ad57-ff71-4476-bf0d-11db19444ec4",
   "metadata": {
    "editable": true,
    "slideshow": {
     "slide_type": "slide"
    },
    "tags": []
   },
   "source": [
    "# Baseline Score\n",
    "<br>\n",
    "\n",
    "<center><img src=\"https://drive.google.com/uc?id=11p2OJb3t0QUoI9tmSNdOz0XZddINPWDs\" style=\"width:900px;\"><br>\n",
    " © Cédric John, 2023; Image generated with <a href=\"https://openai.com/blog/dall-e/\">DALL-E</a>\n",
    "<br>Prompt: Algorithm of the Day.</center>"
   ]
  },
  {
   "cell_type": "markdown",
   "id": "81abbfd7-256c-4780-baaf-3c6da322e406",
   "metadata": {
    "editable": true,
    "slideshow": {
     "slide_type": "subslide"
    },
    "tags": []
   },
   "source": [
    "## What is a baseline score"
   ]
  },
  {
   "cell_type": "markdown",
   "id": "d56211ac-be09-49bd-a65b-a594a0855925",
   "metadata": {
    "editable": true,
    "slideshow": {
     "slide_type": "skip"
    },
    "tags": []
   },
   "source": [
    "Evaluation metrics are used to compare different iteration of a model, or different models against another.<br>"
   ]
  },
  {
   "cell_type": "markdown",
   "id": "0ab56676-85c7-41a4-b7d9-3ecc10d79ff6",
   "metadata": {
    "editable": true,
    "slideshow": {
     "slide_type": "fragment"
    },
    "tags": []
   },
   "source": [
    "We start with a baseline score for the initial model utilizing very simple strategies for prediction:\n",
    "* **Classification**: Predicts a random (balanced) or most frequent (imbalanced) class\n",
    "* **Regression**: Predicts a central tendency measure e.g. mean, median or mode"
   ]
  },
  {
   "cell_type": "markdown",
   "id": "a9b48529-fdfa-428c-aa2f-767eb6b5464c",
   "metadata": {
    "editable": true,
    "slideshow": {
     "slide_type": "subslide"
    },
    "tags": []
   },
   "source": [
    "## 💻 Regression baseline"
   ]
  },
  {
   "cell_type": "code",
   "execution_count": 9,
   "id": "76c4ce45",
   "metadata": {
    "ExecuteTime": {
     "end_time": "2021-10-13T10:05:07.027533Z",
     "start_time": "2021-10-13T10:05:06.971Z"
    },
    "editable": true,
    "slideshow": {
     "slide_type": ""
    },
    "tags": []
   },
   "outputs": [],
   "source": [
    "X_train, X_test, y_train, y_test = prep_regression()"
   ]
  },
  {
   "cell_type": "code",
   "execution_count": 10,
   "id": "60cc7fc6-6ea1-4ebc-b86c-4e59e6b4efec",
   "metadata": {
    "ExecuteTime": {
     "end_time": "2021-10-13T10:05:07.027533Z",
     "start_time": "2021-10-13T10:05:06.971Z"
    },
    "editable": true,
    "slideshow": {
     "slide_type": "-"
    },
    "tags": []
   },
   "outputs": [
    {
     "data": {
      "text/plain": [
       "-0.00069268305185477"
      ]
     },
     "execution_count": 10,
     "metadata": {},
     "output_type": "execute_result"
    }
   ],
   "source": [
    "from sklearn.dummy import DummyRegressor\n",
    "\n",
    "dummy_model = DummyRegressor(strategy=\"mean\") # Baseline\n",
    "\n",
    "dummy_model.fit(X_train, y_train) # Calculate value for strategy\n",
    "dummy_model.score(X_test, y_test) # Score model based on consistently predicting the strategy"
   ]
  },
  {
   "cell_type": "code",
   "execution_count": 11,
   "id": "3cda2226-7c46-41f0-820d-5b115cd010a9",
   "metadata": {
    "ExecuteTime": {
     "end_time": "2021-10-13T10:05:07.028421Z",
     "start_time": "2021-10-13T10:05:06.973Z"
    },
    "editable": true,
    "slideshow": {
     "slide_type": "-"
    },
    "tags": []
   },
   "outputs": [
    {
     "data": {
      "text/plain": [
       "0.8676045498644966"
      ]
     },
     "execution_count": 11,
     "metadata": {},
     "output_type": "execute_result"
    }
   ],
   "source": [
    "from sklearn.linear_model import LinearRegression\n",
    "\n",
    "baseline_model = LinearRegression().fit(X_train, y_train) # instantiate and fit model \n",
    "\n",
    "baseline_model.score(X_test, y_test) # Score model"
   ]
  },
  {
   "cell_type": "markdown",
   "id": "15fffd8a-bece-46da-a714-dbb59ddcd4c6",
   "metadata": {
    "editable": true,
    "slideshow": {
     "slide_type": "subslide"
    },
    "tags": []
   },
   "source": [
    "### \n",
    "Why use a dummy model?\n",
    "* Scikit-learn objects can be chained within data pipelines\n",
    "* Move rapidly through each step of pipeline construction\n",
    "* Obstacles can be identifed downstream more quickly\n",
    "* Actual model can be substituted later in the pipeline\n"
   ]
  },
  {
   "cell_type": "markdown",
   "id": "a8486598-bb84-46b1-a526-6f0804b14500",
   "metadata": {
    "editable": true,
    "slideshow": {
     "slide_type": "slide"
    },
    "tags": []
   },
   "source": [
    "# Regression Metrics\n",
    "<br>\n",
    "\n",
    "<center><img src=\"https://drive.google.com/uc?id=125RoaTVPbjEpqCf7_X9TNxS0WdOhM8CW\" style=\"width:900px;\"><br>\n",
    " © Cédric John, 2022; Image generated with <a href=\"https://openai.com/blog/dall-e/\">DALL-E</a><br>\n",
    "<br>Prompt: four cute little bears standing in a row and sorted from left to right from tallest to shortest, digital art.</center>"
   ]
  },
  {
   "cell_type": "markdown",
   "id": "1290570e",
   "metadata": {
    "editable": true,
    "slideshow": {
     "slide_type": "subslide"
    },
    "tags": []
   },
   "source": [
    "### Measuring a *distance* between y and $\\hat{y}$"
   ]
  },
  {
   "cell_type": "markdown",
   "id": "a2b32e05",
   "metadata": {
    "editable": true,
    "slideshow": {
     "slide_type": ""
    },
    "tags": []
   },
   "source": [
    "\n",
    " <img src=\"https://drive.google.com/uc?id=1245GsCoc3Uu41TwsNdqxv0uPF_qCMfvi\" style=\"width:800px;\">\n",
    "<a href=https://towardsdatascience.com/9-distance-measures-in-data-science-918109d069fa>Grootendorf, 2021</a>\n"
   ]
  },
  {
   "cell_type": "markdown",
   "id": "ee1f37aa-c8af-4d00-bdc9-3f5756677278",
   "metadata": {
    "editable": true,
    "slideshow": {
     "slide_type": "subslide"
    },
    "tags": []
   },
   "source": [
    "### Mean Squared Error (MSE)\n",
    "$$\\text{MSE} = {\\frac{1}{n} \\sum_{i = 1}^{n} (y_i - \\hat y_i)^2}$$"
   ]
  },
  {
   "cell_type": "markdown",
   "id": "a9ee933a-4a3c-4558-995f-80efed423a02",
   "metadata": {
    "editable": true,
    "jp-MarkdownHeadingCollapsed": true,
    "slideshow": {
     "slide_type": "fragment"
    },
    "tags": []
   },
   "source": [
    "### Root Mean squared error (RMSE)\n",
    "$$\\text{RMSE} = \\sqrt{ \\frac{1}{n} \\sum_{i = 1}^{n} (y_i - \\hat y_i)^2 }$$\n"
   ]
  },
  {
   "cell_type": "markdown",
   "id": "a3c53282-dd91-4bea-8280-94e73fe044e4",
   "metadata": {
    "editable": true,
    "jp-MarkdownHeadingCollapsed": true,
    "slideshow": {
     "slide_type": "subslide"
    },
    "tags": []
   },
   "source": [
    "### Mean absolute error\n",
    "* Less sensitive to outliers\n",
    "$$\\text{MAE} = \\frac{1}{n} \\sum_{i=1}^{n} |y_i - \\hat{y_i}|$$\n"
   ]
  },
  {
   "cell_type": "markdown",
   "id": "9a434702-1cdc-47c3-b8e3-ed6f11ac3aaf",
   "metadata": {
    "editable": true,
    "slideshow": {
     "slide_type": "fragment"
    },
    "tags": []
   },
   "source": [
    "### Max Error\n",
    "$$ ME = \\max_{i=1}^{n} |y_i - \\hat{y_i}|$$\n"
   ]
  },
  {
   "cell_type": "markdown",
   "id": "63bf03ea-fbbb-43ab-a840-127714c04b4d",
   "metadata": {
    "editable": true,
    "slideshow": {
     "slide_type": "fragment"
    },
    "tags": []
   },
   "source": [
    "### Coefficient of determination $R^2$\n",
    "$$ R^2 = 1 - \\frac{\\sum_{i=1}^{n}(y_i - \\hat{y_i})^2}{\\sum_{i=1}^{n}(y_i - \\overline{y})^2}$$"
   ]
  },
  {
   "cell_type": "markdown",
   "id": "ff0a8aa9",
   "metadata": {
    "editable": true,
    "slideshow": {
     "slide_type": "subslide"
    },
    "tags": []
   },
   "source": [
    "## Choosing the right regression metric"
   ]
  },
  {
   "cell_type": "markdown",
   "id": "df5f2cc0",
   "metadata": {
    "editable": true,
    "slideshow": {
     "slide_type": "fragment"
    },
    "tags": []
   },
   "source": [
    "* 👉 Use MSE when you need to penalize large errors / sign of error not important"
   ]
  },
  {
   "cell_type": "markdown",
   "id": "a3bb4dbf",
   "metadata": {
    "editable": true,
    "slideshow": {
     "slide_type": "fragment"
    },
    "tags": []
   },
   "source": [
    "* 👉 Use RMSE when you want to penalize large errors, but see it in the unit of the target."
   ]
  },
  {
   "cell_type": "markdown",
   "id": "e575d621",
   "metadata": {
    "editable": true,
    "slideshow": {
     "slide_type": "fragment"
    },
    "tags": []
   },
   "source": [
    "* 👉 Use MAE when all errors, large or small, have equal importance."
   ]
  },
  {
   "cell_type": "markdown",
   "id": "73f6a658",
   "metadata": {
    "editable": true,
    "slideshow": {
     "slide_type": "fragment"
    },
    "tags": []
   },
   "source": [
    "* 👉 Use Max Error when you want to limit the magnitude of the errors."
   ]
  },
  {
   "cell_type": "markdown",
   "id": "ee23c385-0798-4d0a-b598-a43fe147f84c",
   "metadata": {
    "editable": true,
    "slideshow": {
     "slide_type": "fragment"
    },
    "tags": []
   },
   "source": [
    "* 👉 Use $R^{2}$ when you want a general/comparable performance metric / units not required."
   ]
  },
  {
   "cell_type": "markdown",
   "id": "3058de5a-bfc5-43dd-8396-f8cfc5014d15",
   "metadata": {
    "editable": true,
    "slideshow": {
     "slide_type": "subslide"
    },
    "tags": []
   },
   "source": [
    "## 💻 Metrics in Sklearn"
   ]
  },
  {
   "cell_type": "code",
   "execution_count": 12,
   "id": "44816e7c-fbfb-4159-9480-401861bbcc0e",
   "metadata": {
    "ExecuteTime": {
     "end_time": "2021-10-13T10:05:07.029148Z",
     "start_time": "2021-10-13T10:05:06.978Z"
    },
    "editable": true,
    "slideshow": {
     "slide_type": "fragment"
    },
    "tags": []
   },
   "outputs": [
    {
     "name": "stdout",
     "output_type": "stream",
     "text": [
      "MSE = 16217.63\n",
      "RMSE = 127.35\n",
      "MAE = 95.58\n",
      "R2 = 0.87\n",
      "Max Error = 282.65\n"
     ]
    }
   ],
   "source": [
    "from sklearn.metrics import mean_squared_error, mean_absolute_error, r2_score, max_error\n",
    "import math\n",
    "\n",
    "y_pred = baseline_model.predict(X_test)\n",
    "\n",
    "mse = mean_squared_error(y_test, y_pred)\n",
    "\n",
    "rmse = math.sqrt(mse)\n",
    "\n",
    "mae = mean_absolute_error(y_test, y_pred)\n",
    "\n",
    "rsquared = r2_score(y_test, y_pred)\n",
    "\n",
    "max_error = max_error(y_test, y_pred)\n",
    "\n",
    "print('MSE =', round(mse, 2))\n",
    "print('RMSE =', round(rmse, 2))\n",
    "print('MAE =', round(mae, 2))\n",
    "print('R2 =', round(rsquared, 2))\n",
    "print('Max Error =', round(max_error, 2))"
   ]
  },
  {
   "cell_type": "markdown",
   "id": "d51a23d8",
   "metadata": {
    "editable": true,
    "slideshow": {
     "slide_type": "fragment"
    },
    "tags": []
   },
   "source": [
    "🚨There is no standardized value for Mean Square Error, Root Mean Square Error and Mean Abosulte Error. Scores will be relative to the magnitude of the units within the dataset\n"
   ]
  },
  {
   "cell_type": "markdown",
   "id": "94c4c24a-bc8a-474f-b98d-ba511c3007ca",
   "metadata": {
    "editable": true,
    "slideshow": {
     "slide_type": "subslide"
    },
    "tags": []
   },
   "source": [
    "### 💻 Metrics during Cross-validation\n",
    "* A metric of choice can be specified directly with algorithms.\n",
    "* If <code>scoring</code> is not set, the model's default scoring metric is used."
   ]
  },
  {
   "cell_type": "code",
   "execution_count": 13,
   "id": "ea2407f8-3589-476b-8945-3f59dd230354",
   "metadata": {
    "ExecuteTime": {
     "end_time": "2021-10-13T10:05:07.029993Z",
     "start_time": "2021-10-13T10:05:06.980Z"
    },
    "editable": true,
    "slideshow": {
     "slide_type": "fragment"
    },
    "tags": []
   },
   "outputs": [
    {
     "data": {
      "text/html": [
       "<div>\n",
       "<style scoped>\n",
       "    .dataframe tbody tr th:only-of-type {\n",
       "        vertical-align: middle;\n",
       "    }\n",
       "\n",
       "    .dataframe tbody tr th {\n",
       "        vertical-align: top;\n",
       "    }\n",
       "\n",
       "    .dataframe thead th {\n",
       "        text-align: right;\n",
       "    }\n",
       "</style>\n",
       "<table border=\"1\" class=\"dataframe\">\n",
       "  <thead>\n",
       "    <tr style=\"text-align: right;\">\n",
       "      <th></th>\n",
       "      <th>fit_time</th>\n",
       "      <th>score_time</th>\n",
       "      <th>test_max_error</th>\n",
       "      <th>test_r2</th>\n",
       "      <th>test_neg_mean_absolute_error</th>\n",
       "      <th>test_neg_mean_squared_error</th>\n",
       "    </tr>\n",
       "  </thead>\n",
       "  <tbody>\n",
       "    <tr>\n",
       "      <th>0</th>\n",
       "      <td>0.001673</td>\n",
       "      <td>0.001379</td>\n",
       "      <td>-336.080723</td>\n",
       "      <td>0.840449</td>\n",
       "      <td>-89.720506</td>\n",
       "      <td>-15567.300902</td>\n",
       "    </tr>\n",
       "    <tr>\n",
       "      <th>1</th>\n",
       "      <td>0.001030</td>\n",
       "      <td>0.001316</td>\n",
       "      <td>-423.829702</td>\n",
       "      <td>0.879118</td>\n",
       "      <td>-115.563939</td>\n",
       "      <td>-23011.831620</td>\n",
       "    </tr>\n",
       "    <tr>\n",
       "      <th>2</th>\n",
       "      <td>0.001095</td>\n",
       "      <td>0.001217</td>\n",
       "      <td>-396.512088</td>\n",
       "      <td>0.919412</td>\n",
       "      <td>-74.969312</td>\n",
       "      <td>-11763.339562</td>\n",
       "    </tr>\n",
       "    <tr>\n",
       "      <th>3</th>\n",
       "      <td>0.000790</td>\n",
       "      <td>0.001022</td>\n",
       "      <td>-316.379705</td>\n",
       "      <td>0.852831</td>\n",
       "      <td>-104.515769</td>\n",
       "      <td>-18943.822954</td>\n",
       "    </tr>\n",
       "    <tr>\n",
       "      <th>4</th>\n",
       "      <td>0.000754</td>\n",
       "      <td>0.001008</td>\n",
       "      <td>-234.342973</td>\n",
       "      <td>0.809597</td>\n",
       "      <td>-102.697382</td>\n",
       "      <td>-13985.709798</td>\n",
       "    </tr>\n",
       "  </tbody>\n",
       "</table>\n",
       "</div>"
      ],
      "text/plain": [
       "   fit_time  score_time  test_max_error   test_r2  \\\n",
       "0  0.001673    0.001379     -336.080723  0.840449   \n",
       "1  0.001030    0.001316     -423.829702  0.879118   \n",
       "2  0.001095    0.001217     -396.512088  0.919412   \n",
       "3  0.000790    0.001022     -316.379705  0.852831   \n",
       "4  0.000754    0.001008     -234.342973  0.809597   \n",
       "\n",
       "   test_neg_mean_absolute_error  test_neg_mean_squared_error  \n",
       "0                    -89.720506                -15567.300902  \n",
       "1                   -115.563939                -23011.831620  \n",
       "2                    -74.969312                -11763.339562  \n",
       "3                   -104.515769                -18943.822954  \n",
       "4                   -102.697382                -13985.709798  "
      ]
     },
     "execution_count": 13,
     "metadata": {},
     "output_type": "execute_result"
    }
   ],
   "source": [
    "from sklearn.model_selection import cross_validate\n",
    "# 5-Fold Cross validate model\n",
    "model = LinearRegression()\n",
    "cv_results = cross_validate(model, X_train, y_train, cv=5, \n",
    "                            scoring=['max_error',\n",
    "                                     'r2', \n",
    "                                     'neg_mean_absolute_error',\n",
    "                                     'neg_mean_squared_error']\n",
    "                           )\n",
    "pd.DataFrame(cv_results)  # Cross validation output"
   ]
  },
  {
   "cell_type": "code",
   "execution_count": 14,
   "id": "9e0c0bb7-d998-4e9a-a4c3-13ab1db4e1ad",
   "metadata": {
    "ExecuteTime": {
     "end_time": "2021-10-13T10:05:07.030556Z",
     "start_time": "2021-10-13T10:05:06.982Z"
    },
    "editable": true,
    "slideshow": {
     "slide_type": "fragment"
    },
    "tags": []
   },
   "outputs": [
    {
     "data": {
      "text/plain": [
       "0.8602813744337965"
      ]
     },
     "execution_count": 14,
     "metadata": {},
     "output_type": "execute_result"
    }
   ],
   "source": [
    "\n",
    "cv_results['test_r2'].mean()  # Cross validation results\n",
    "\n"
   ]
  },
  {
   "cell_type": "markdown",
   "id": "4ea41152-4e4b-47f7-9096-352d8760a784",
   "metadata": {
    "editable": true,
    "slideshow": {
     "slide_type": "slide"
    },
    "tags": []
   },
   "source": [
    "# Classification Metrics\n",
    "<br>\n",
    "\n",
    "<center><img src=\"https://drive.google.com/uc?id=11vFqBAgv12QOoRs7NohyB7_wvDcKVMEA\" style=\"width:900px;\"><br>\n",
    " © Cédric John, 2022; Image generated with <a href=\"https://openai.com/blog/dall-e/\">DALL-E</a><br>\n",
    "<br>Prompt: four different species of colorful flowers sorted by color\" by Paul Kleh.</center>"
   ]
  },
  {
   "cell_type": "code",
   "execution_count": 15,
   "id": "7d815783",
   "metadata": {
    "editable": true,
    "slideshow": {
     "slide_type": "subslide"
    },
    "tags": []
   },
   "outputs": [],
   "source": [
    "X_train, X_test, y_train, y_test = prep_classification()"
   ]
  },
  {
   "cell_type": "code",
   "execution_count": 16,
   "id": "acfb09df",
   "metadata": {
    "editable": true,
    "slideshow": {
     "slide_type": "-"
    },
    "tags": []
   },
   "outputs": [],
   "source": [
    "from sklearn.linear_model import LogisticRegression\n",
    "\n",
    "model = LogisticRegression(max_iter=1000).fit(X_train, y_train)"
   ]
  },
  {
   "cell_type": "code",
   "execution_count": 17,
   "id": "6e861a17",
   "metadata": {
    "editable": true,
    "slideshow": {
     "slide_type": "-"
    },
    "tags": []
   },
   "outputs": [
    {
     "data": {
      "text/plain": [
       "array([1., 1., 0., ..., 1., 1., 0.])"
      ]
     },
     "execution_count": 17,
     "metadata": {},
     "output_type": "execute_result"
    }
   ],
   "source": [
    "y_pred = model.predict(X_test)\n",
    "y_pred"
   ]
  },
  {
   "cell_type": "code",
   "execution_count": 18,
   "id": "460c533d",
   "metadata": {
    "editable": true,
    "slideshow": {
     "slide_type": "-"
    },
    "tags": []
   },
   "outputs": [
    {
     "data": {
      "text/plain": [
       "array([[0.00901364, 0.99098636],\n",
       "       [0.09197031, 0.90802969],\n",
       "       [0.84573164, 0.15426836],\n",
       "       ...,\n",
       "       [0.06110844, 0.93889156],\n",
       "       [0.01401553, 0.98598447],\n",
       "       [0.90254191, 0.09745809]])"
      ]
     },
     "execution_count": 18,
     "metadata": {},
     "output_type": "execute_result"
    }
   ],
   "source": [
    "y_prob = model.predict_proba(X_test) \n",
    "y_prob"
   ]
  },
  {
   "cell_type": "markdown",
   "id": "9f36d6c2",
   "metadata": {
    "editable": true,
    "slideshow": {
     "slide_type": "subslide"
    },
    "tags": []
   },
   "source": [
    "## Two possible correct outcomes for binary classification\n",
    " <img src=\"https://drive.google.com/uc?id=11hhMo0tbgG61H0umV_s1e9g5ZR18yjTF\" style=\"width:720px\">"
   ]
  },
  {
   "cell_type": "markdown",
   "id": "681d8ca8",
   "metadata": {
    "editable": true,
    "slideshow": {
     "slide_type": "fragment"
    },
    "tags": []
   },
   "source": [
    "* **True Negative (TN):** A member of the negative (<span style=\"color:red\">0</span>) class correctly identified"
   ]
  },
  {
   "cell_type": "markdown",
   "id": "9774f335",
   "metadata": {
    "editable": true,
    "slideshow": {
     "slide_type": "fragment"
    },
    "tags": []
   },
   "source": [
    "* **True Positive (TP):** A member of the positive (<span style=\"color:blue\">1</span>) class correctly identified"
   ]
  },
  {
   "cell_type": "markdown",
   "id": "6222ff5f",
   "metadata": {
    "editable": true,
    "slideshow": {
     "slide_type": "subslide"
    },
    "tags": []
   },
   "source": [
    "## Two possible Errors\n",
    " <img src=\"https://drive.google.com/uc?id=11yeWaxeTyyUnLmKtOC0uMBrT-rqjZHBN\" style=\"width:720px\">"
   ]
  },
  {
   "cell_type": "markdown",
   "id": "61e0bfaf",
   "metadata": {
    "editable": true,
    "slideshow": {
     "slide_type": "fragment"
    },
    "tags": []
   },
   "source": [
    "* **False Negative (FN):** A member of the positive (<span style=\"color:blue\">1</span>) class identified as negative (<span style=\"color:red\">0</span>) (aka ***Type I Error***)"
   ]
  },
  {
   "cell_type": "markdown",
   "id": "60e02a77",
   "metadata": {
    "editable": true,
    "slideshow": {
     "slide_type": "fragment"
    },
    "tags": []
   },
   "source": [
    "* **False Positive (FP):** A member of the negative (<span style=\"color:red\">0</span>) class identified as positive (<span style=\"color:blue\">1</span>) (aka ***Type II Error***)"
   ]
  },
  {
   "cell_type": "markdown",
   "id": "96bcdb06-c6fa-4afd-a14b-c2d50b8c5d11",
   "metadata": {
    "editable": true,
    "slideshow": {
     "slide_type": "subslide"
    },
    "tags": []
   },
   "source": [
    "### Confusion Matrix\n",
    "<img src=\"https://drive.google.com/uc?id=11ow07RtJkcsa8egdkiUFxAHzoS6BzlRX\" style=\"width:720px\">"
   ]
  },
  {
   "cell_type": "markdown",
   "id": "7704364b",
   "metadata": {
    "editable": true,
    "slideshow": {
     "slide_type": "fragment"
    },
    "tags": []
   },
   "source": [
    "* **Correct Values** on one of the two diagonals, matrix can be larger for multiclass classifications"
   ]
  },
  {
   "cell_type": "markdown",
   "id": "899b07c0",
   "metadata": {
    "editable": true,
    "slideshow": {
     "slide_type": "fragment"
    },
    "tags": []
   },
   "source": [
    "* **Often plotted with number of samples** or precentage of sample in each quadrant"
   ]
  },
  {
   "cell_type": "markdown",
   "id": "c8c2982f",
   "metadata": {
    "editable": true,
    "slideshow": {
     "slide_type": "fragment"
    },
    "tags": []
   },
   "source": [
    "* **Generally plotted as a heatmap** where the color represents the abundance in each quandrant (not here)"
   ]
  },
  {
   "cell_type": "markdown",
   "id": "70ec799b-484d-4307-888b-6c555ecd4455",
   "metadata": {
    "editable": true,
    "slideshow": {
     "slide_type": "subslide"
    },
    "tags": []
   },
   "source": [
    "## Accuracy\n",
    "Sum of the correct predictions divided by the sum of the overall number of predictions\n",
    "$$\\text{accuracy} = \\frac{TP + TN}{TP + TN + FP + FN}$$\n"
   ]
  },
  {
   "cell_type": "markdown",
   "id": "438a753c-6880-4b9e-874c-4988e37ee4e5",
   "metadata": {
    "editable": true,
    "slideshow": {
     "slide_type": "fragment"
    },
    "tags": []
   },
   "source": [
    "<img src=\"https://drive.google.com/uc?id=11kx1FzJno0L8giQKlh5gtvHC2FMRjW4s\" style=\"width:720px\">\n",
    "$\\text{accuracy} = \\frac{4 + 3}{4 + 3 + 2 + 1} = 0.7$\n"
   ]
  },
  {
   "cell_type": "markdown",
   "id": "bb9d140a-d2e8-4293-ac1a-d04a277dec3a",
   "metadata": {
    "editable": true,
    "slideshow": {
     "slide_type": "subslide"
    },
    "tags": []
   },
   "source": [
    "### Limitations of accuracy\n",
    "<img src=\"https://drive.google.com/uc?id=11qvDN7jVoVt9rbEIllebh1jlQY2a3KzD\" style=\"width:720px\">\n"
   ]
  },
  {
   "cell_type": "markdown",
   "id": "f5e1d7d8-a705-404a-acc6-fe4f8e87fb6f",
   "metadata": {
    "editable": true,
    "slideshow": {
     "slide_type": "fragment"
    },
    "tags": []
   },
   "source": [
    "$accuracy = \\frac{TP + TN}{TP + TN + FP + FN} = \\frac{0 + 99}{0 + 99 + 1 + 0} = 0.99$"
   ]
  },
  {
   "cell_type": "markdown",
   "id": "e487fb50-a796-4899-9178-dbe2f3ee6863",
   "metadata": {
    "editable": true,
    "slideshow": {
     "slide_type": "fragment"
    },
    "tags": []
   },
   "source": [
    "🚨Using accuracy alone can give overly confident scores, especially when dealing with imbalanced datasets🚨"
   ]
  },
  {
   "cell_type": "markdown",
   "id": "edf91834",
   "metadata": {
    "editable": true,
    "slideshow": {
     "slide_type": "slide"
    },
    "tags": []
   },
   "source": [
    "## Balancing datasets\n",
    "<img src=\"https://drive.google.com/uc?id=12-7bPfTCNNAwakeqFlEdnF-5nDrJ0E-I\" width=\"1500\"/>"
   ]
  },
  {
   "cell_type": "markdown",
   "id": "53506d44",
   "metadata": {
    "editable": true,
    "slideshow": {
     "slide_type": "fragment"
    },
    "tags": []
   },
   "source": [
    "### Why balancing?\n",
    "* ML algorithms learn by example \n",
    "* Will tend to predict under represented class poorly \n",
    "* ~30:70 split for binary classification would be considered imbalanced \n"
   ]
  },
  {
   "cell_type": "markdown",
   "id": "5228673b",
   "metadata": {
    "editable": true,
    "slideshow": {
     "slide_type": "subslide"
    },
    "tags": []
   },
   "source": [
    "### Oversampling or Undersampling \n",
    "Duplicating instances of the minority class or sampling down the majority class.\n",
    "<img src=\"https://drive.google.com/uc?id=11r-ozAwbfoK8U7qgWw6ezmXMJtQ9abAP\" style=\"width:1200px\">\n",
    "<a href=\"https://www.kaggle.com/rafjaa/resampling-strategies-for-imbalanced-datasets#t1\">Alencar, 2017</a>\n"
   ]
  },
  {
   "cell_type": "markdown",
   "id": "edae0b8f",
   "metadata": {
    "editable": true,
    "slideshow": {
     "slide_type": "fragment"
    },
    "tags": []
   },
   "source": [
    "* 🚨 Oversampling can cause data leakage between training and testing."
   ]
  },
  {
   "cell_type": "markdown",
   "id": "ca410f9e",
   "metadata": {
    "editable": true,
    "slideshow": {
     "slide_type": "fragment"
    },
    "tags": []
   },
   "source": [
    " \n",
    "* Only use balancing techniques on the training set."
   ]
  },
  {
   "cell_type": "markdown",
   "id": "41412404",
   "metadata": {
    "editable": true,
    "slideshow": {
     "slide_type": "fragment"
    },
    "tags": []
   },
   "source": [
    "* We want to keep our test set as representative of real life as possible."
   ]
  },
  {
   "cell_type": "markdown",
   "id": "492f7dc8",
   "metadata": {
    "editable": true,
    "slideshow": {
     "slide_type": "subslide"
    },
    "tags": []
   },
   "source": [
    "## Synthetic Minority Over-sampling TEchnique - SMOTE \n",
    "SMOTE is an oversampling algorithm that generates new minority instances from existing minority instances based on linear combinations of existing points.\n",
    "<img src=\"https://drive.google.com/uc?id=11fjHaVEFamOmyzWlNohtLcMEYx3zRp0r\" style=\"width=1200px\">\n",
    "<a href=\"https://iq.opengenus.org/smote-for-imbalanced-dataset/\">Source: Maheshwari / OpenGenus</a>\n"
   ]
  },
  {
   "cell_type": "markdown",
   "id": "c7ec6465",
   "metadata": {
    "editable": true,
    "slideshow": {
     "slide_type": "fragment"
    },
    "tags": []
   },
   "source": [
    "### 👷 How SMOTE works:\n",
    "**1.** Using KNN find <span style=\"color:teal\">***k-nearest neighbors***</span> of minority sample"
   ]
  },
  {
   "cell_type": "markdown",
   "id": "2c3c890d",
   "metadata": {
    "editable": true,
    "slideshow": {
     "slide_type": "fragment"
    },
    "tags": []
   },
   "source": [
    "**2.** Generate **<span style=\"color:teal\">*m* synthetic samples</span>** at random on the hyperplane defined by the *k-neighbors*"
   ]
  },
  {
   "cell_type": "markdown",
   "id": "b258caf6-f98b-4500-afe0-0f7de8195339",
   "metadata": {
    "editable": true,
    "slideshow": {
     "slide_type": "subslide"
    },
    "tags": []
   },
   "source": [
    "## Recall\n",
    "Measures the ability of the model to detect occurrences of a class.\n",
    "$$recall = \\frac{TP}{TP + FN}$$\n"
   ]
  },
  {
   "cell_type": "markdown",
   "id": "fe801cff-21d6-4005-99a6-eccc6c08be10",
   "metadata": {
    "editable": true,
    "slideshow": {
     "slide_type": "fragment"
    },
    "tags": []
   },
   "source": [
    "<img src=\"https://drive.google.com/uc?id=11kx1FzJno0L8giQKlh5gtvHC2FMRjW4s\" style=\"width:720px\">\n",
    "$\\text{recall=}\\frac{4}{4 + 1}=0.8$<br>"
   ]
  },
  {
   "cell_type": "markdown",
   "id": "95c107d1-3afc-42dc-bd65-ba5be5757f6c",
   "metadata": {
    "editable": true,
    "slideshow": {
     "slide_type": "subslide"
    },
    "tags": []
   },
   "source": [
    "### Limitations of recall"
   ]
  },
  {
   "cell_type": "markdown",
   "id": "4d502baf-0e70-4470-b2f3-215ead58d8b5",
   "metadata": {
    "editable": true,
    "slideshow": {
     "slide_type": "-"
    },
    "tags": []
   },
   "source": [
    "<img src=\"https://drive.google.com/uc?id=11z8D8vTujs0SidCByDSbIhmEYi8R8ysk\" style=\"width:720px\">"
   ]
  },
  {
   "cell_type": "markdown",
   "id": "4a18b324-7396-4eeb-98ec-94fc965dd462",
   "metadata": {
    "editable": true,
    "slideshow": {
     "slide_type": "fragment"
    },
    "tags": []
   },
   "source": [
    "$recall = \\frac{TP}{TP + FN} = \\frac{27}{27 + 3} = 0.89$"
   ]
  },
  {
   "cell_type": "markdown",
   "id": "4214d3dd-6c38-458b-8427-23e11903e9c7",
   "metadata": {
    "editable": true,
    "slideshow": {
     "slide_type": "fragment"
    },
    "tags": []
   },
   "source": [
    "* A lot of false positive acceptable for task such as cancer identification\n",
    "* But could also be terrible for a smoke alarm\n"
   ]
  },
  {
   "cell_type": "markdown",
   "id": "cc042f99-bbf2-4082-9839-41d0953e1eba",
   "metadata": {
    "editable": true,
    "slideshow": {
     "slide_type": "subslide"
    },
    "tags": []
   },
   "source": [
    "## Precision\n",
    "Measures the ability of a model to correctly identify TPs.\n",
    "$$precision = \\frac{TP}{TP + FP}$$"
   ]
  },
  {
   "cell_type": "markdown",
   "id": "35c7d436-4d1d-47dc-9bba-7c05da94546b",
   "metadata": {
    "editable": true,
    "slideshow": {
     "slide_type": "fragment"
    },
    "tags": []
   },
   "source": [
    "<img src=\"https://drive.google.com/uc?id=11kx1FzJno0L8giQKlh5gtvHC2FMRjW4s\" style=\"width:720px\">\n",
    "$\\text{precision}=\\frac{4}{4 + 2} = 0.67$<br>"
   ]
  },
  {
   "cell_type": "markdown",
   "id": "4e55cc41-b1ca-4b32-a4ec-3c53d48b9997",
   "metadata": {
    "editable": true,
    "slideshow": {
     "slide_type": "subslide"
    },
    "tags": []
   },
   "source": [
    "### Limitations of precision"
   ]
  },
  {
   "cell_type": "markdown",
   "id": "d403fbe6-6925-409d-9298-5f0c5b41be8b",
   "metadata": {
    "editable": true,
    "slideshow": {
     "slide_type": "fragment"
    },
    "tags": []
   },
   "source": [
    "<img src=\"https://drive.google.com/uc?id=12BRkkKnctGOPO3j4juoFQyNbfQxjYMYT\" style=\"width:720px\">"
   ]
  },
  {
   "cell_type": "markdown",
   "id": "4ff22032-2130-474c-845b-d67c0bb77773",
   "metadata": {
    "editable": true,
    "slideshow": {
     "slide_type": ""
    },
    "tags": []
   },
   "source": [
    "$\\text{precision} = \\frac{TP}{TP + FP} = \\frac{356}{356 + 44} = 0.89$"
   ]
  },
  {
   "cell_type": "markdown",
   "id": "35d12e43-193a-4c5a-b9f6-b3e311753e1d",
   "metadata": {
    "editable": true,
    "slideshow": {
     "slide_type": "fragment"
    },
    "tags": []
   },
   "source": [
    "$\\text{recall} = \\frac{TP}{TP + FN} = \\frac{356}{356 + 900} = 0.28$"
   ]
  },
  {
   "cell_type": "markdown",
   "id": "dc116727",
   "metadata": {
    "editable": true,
    "slideshow": {
     "slide_type": "subslide"
    },
    "tags": []
   },
   "source": [
    "### Other metrics similar to precision and recall:\n",
    "\n",
    "* Recall = <span style=\"color:blue\">True positive rate</span> = sensitivity = $\\frac{TP}{TP + FN}$\n",
    "* Specificity = $\\frac{TN}{FP + TN}$<br>\n",
    "* <span style=\"color:red\">False positive rate</span> = (1-specificity) = $\\frac{FP}{FP + TN}$<br>"
   ]
  },
  {
   "cell_type": "markdown",
   "id": "e3860b0f-11e1-4367-af80-40a3c17f4391",
   "metadata": {
    "editable": true,
    "slideshow": {
     "slide_type": "subslide"
    },
    "tags": []
   },
   "source": [
    "## $F_1-score$\n",
    "A combination of precision and recall into a single metric.\n",
    "\n",
    "$$F_1=2 \\times \\frac{precision \\times recall}{precision + recall}$$"
   ]
  },
  {
   "cell_type": "markdown",
   "id": "864d4dd2-d242-4ff1-bbd3-f041647a9866",
   "metadata": {
    "editable": true,
    "slideshow": {
     "slide_type": "fragment"
    },
    "tags": []
   },
   "source": [
    "* Also known as the harmonic mean of precision and recall\n",
    "* It will be influenced more by the lower of the two values"
   ]
  },
  {
   "cell_type": "markdown",
   "id": "fc4ab94b-aa65-4499-8026-01fbe1f1bd73",
   "metadata": {
    "editable": true,
    "slideshow": {
     "slide_type": "subslide"
    },
    "tags": []
   },
   "source": [
    "<img src=\"https://drive.google.com/uc?id=11kx1FzJno0L8giQKlh5gtvHC2FMRjW4s\" style=\"width:720px\">\n",
    "$\\text{F}_1\\text{ score}=2 ·\\frac{0.67 \\times 0.8}{0.67 + 0.8} = 0.73$<br>\n"
   ]
  },
  {
   "cell_type": "markdown",
   "id": "4372b1cb",
   "metadata": {
    "editable": true,
    "slideshow": {
     "slide_type": "subslide"
    },
    "tags": []
   },
   "source": [
    "## What each metric gives you"
   ]
  },
  {
   "cell_type": "markdown",
   "id": "8783fff6",
   "metadata": {
    "editable": true,
    "slideshow": {
     "slide_type": "fragment"
    },
    "tags": []
   },
   "source": [
    "* 👉 Use **Accuracy** when you have balanced classes and predicting each class is important"
   ]
  },
  {
   "cell_type": "markdown",
   "id": "beaffe41",
   "metadata": {
    "editable": true,
    "slideshow": {
     "slide_type": "fragment"
    },
    "tags": []
   },
   "source": [
    "* 👉 Use **Recall** when it is important to identify as many occurences of a class as possible."
   ]
  },
  {
   "cell_type": "markdown",
   "id": "5f3848b8",
   "metadata": {
    "editable": true,
    "slideshow": {
     "slide_type": "fragment"
    },
    "tags": []
   },
   "source": [
    "* 👉 Use **Precision** when it is important to correctly identify the positive class."
   ]
  },
  {
   "cell_type": "markdown",
   "id": "49cbb938-a93b-40cb-a4cb-e263860560d6",
   "metadata": {
    "editable": true,
    "slideshow": {
     "slide_type": "fragment"
    },
    "tags": []
   },
   "source": [
    "* 👉 Use **$F_{1}$** when you want a generic metric to compare across models and dataset"
   ]
  },
  {
   "cell_type": "markdown",
   "id": "e2ec36bf-cc07-4c67-9ee2-b9cbff41cfca",
   "metadata": {
    "editable": true,
    "slideshow": {
     "slide_type": "subslide"
    },
    "tags": []
   },
   "source": [
    "## 💻 Classification metrics in Sklearn"
   ]
  },
  {
   "cell_type": "code",
   "execution_count": 19,
   "id": "5448d248-101b-41ee-ae51-156c67d68a91",
   "metadata": {
    "ExecuteTime": {
     "end_time": "2021-10-13T10:05:07.031819Z",
     "start_time": "2021-10-13T10:05:06.996Z"
    },
    "editable": true,
    "slideshow": {
     "slide_type": "fragment"
    },
    "tags": []
   },
   "outputs": [
    {
     "name": "stdout",
     "output_type": "stream",
     "text": [
      "Accuracy = 0.86\n",
      "Precision = 0.88\n",
      "Recall = 0.84\n",
      "F1 score = 0.86\n"
     ]
    }
   ],
   "source": [
    "from sklearn.metrics import accuracy_score, precision_score, recall_score, f1_score\n",
    "\n",
    "print('Accuracy =', round(accuracy_score(y_test, y_pred), 2)) # Accuracy\n",
    "\n",
    "print('Precision =', round(precision_score(y_test, y_pred), 2)) # Precision\n",
    "\n",
    "print('Recall =', round(recall_score(y_test, y_pred), 2)) # Recall\n",
    "\n",
    "print('F1 score =', round(f1_score(y_test, y_pred), 2)) # F1 score\n"
   ]
  },
  {
   "cell_type": "markdown",
   "id": "ee33a8fc-be49-47db-a44b-b98aae095377",
   "metadata": {
    "editable": true,
    "slideshow": {
     "slide_type": "slide"
    },
    "tags": []
   },
   "source": [
    "# Decision Threshold (for binary classifiers)\n",
    "<br>\n",
    "\n",
    "<center><img src=\"https://drive.google.com/uc?id=11pFyOGIt21V4ZWtd9uINMI4jGOq5-wYN\" style=\"width:900px;\"><br>\n",
    " © Cédric John, 2022; Image generated with <a href=\"https://openai.com/blog/dall-e/\">DALL-E</a><br>\n",
    "<br>Prompt: A 35 mm photo of a Greek door step painted in vivid blue opening up in a white wall and showing the sea on the horizon.</center>"
   ]
  },
  {
   "cell_type": "markdown",
   "id": "0a839625",
   "metadata": {
    "editable": true,
    "slideshow": {
     "slide_type": "subslide"
    },
    "tags": []
   },
   "source": [
    "## 🖥 <code>precision_recall_curve</code>\n",
    "The <code>precision_recall_curve</code> let us compare precision and recall for **binary classifiers** across a variety of thresholds.<br>\n",
    "We can use this to find a threshold that guarantees a score for one metric whilst maintaining a minimum score for the other.\n"
   ]
  },
  {
   "cell_type": "markdown",
   "id": "0b0730ee-17c7-4350-b51e-ac4c8e35d92e",
   "metadata": {
    "editable": true,
    "slideshow": {
     "slide_type": "subslide"
    },
    "tags": []
   },
   "source": [
    "## The Precision-Recall Tradeoff\n",
    "* In **binary classification**: inverse relationship between precision and recall\n",
    "* Typically, we will trade one off against the other"
   ]
  },
  {
   "cell_type": "code",
   "execution_count": 20,
   "id": "b5413f91",
   "metadata": {
    "editable": true,
    "slideshow": {
     "slide_type": "subslide"
    },
    "tags": []
   },
   "outputs": [
    {
     "data": {
      "application/vnd.jupyter.widget-view+json": {
       "model_id": "92783955da28463e930a8863756f0485",
       "version_major": 2,
       "version_minor": 0
      },
      "text/plain": [
       "interactive(children=(FloatSlider(value=0.5, description='threshold', max=0.99, min=0.01, step=0.01), Output()…"
      ]
     },
     "metadata": {},
     "output_type": "display_data"
    },
    {
     "data": {
      "application/vnd.jupyter.widget-view+json": {
       "model_id": "f71de54d065345639696e1539754164c",
       "version_major": 2,
       "version_minor": 0
      },
      "image/png": "[encoded data removed]",
      "text/html": [
       "\n",
       "            <div style=\"display: inline-block;\">\n",
       "                <div class=\"jupyter-widgets widget-label\" style=\"text-align: center;\">\n",
       "                    Figure\n",
       "                </div>\n",
       "                <img src='data:image/png;base64,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' width=1000.0/>\n",
       "            </div>\n",
       "        "
      ],
      "text/plain": [
       "Canvas(toolbar=Toolbar(toolitems=[('Home', 'Reset original view', 'home', 'home'), ('Back', 'Back to previous …"
      ]
     },
     "metadata": {},
     "output_type": "display_data"
    }
   ],
   "source": [
    "fig, axes = create_plot();\n",
    "@interact(threshold=FloatSlider(min=0.01,max=0.99,step=.01,value=.5))\n",
    "def plot(threshold):\n",
    "    update_plot(threshold)"
   ]
  },
  {
   "cell_type": "code",
   "execution_count": 21,
   "id": "2d7cca8c",
   "metadata": {
    "editable": true,
    "slideshow": {
     "slide_type": "subslide"
    },
    "tags": []
   },
   "outputs": [
    {
     "data": {
      "application/vnd.jupyter.widget-view+json": {
       "model_id": "d6fe8c1877a548a396a1fe681b051b0a",
       "version_major": 2,
       "version_minor": 0
      },
      "image/png": "[encoded data removed]",
      "text/html": [
       "\n",
       "            <div style=\"display: inline-block;\">\n",
       "                <div class=\"jupyter-widgets widget-label\" style=\"text-align: center;\">\n",
       "                    Figure\n",
       "                </div>\n",
       "                <img src='data:image/png;base64,iVBORw0KGgoAAAANSUhEUgAAA+gAAAK8CAYAAAB8y5WxAAAAOXRFWHRTb2Z0d2FyZQBNYXRwbG90bGliIHZlcnNpb24zLjguMCwgaHR0cHM6Ly9tYXRwbG90bGliLm9yZy81sbWrAAAACXBIWXMAAA9hAAAPYQGoP6dpAACr3klEQVR4nOzdd3xT9eLG8SdJm+6mUNpSSqHsvRFkCSgKiANcXPU6cKO4UK9wHYhXRe8PvOp14EBRrxsHKAgiioKgyJYNMspqKZSmdDfj90cgUNtCC21P0nzer1dffHNykjytpPLkfM/3mNxut1sAAAAAAMBQZqMDAAAAAAAACjoAAAAAAD6Bgg4AAAAAgA+goAMAAAAA4AMo6AAAAAAA+AAKOgAAAAAAPoCCDgAAAACAD6CgAwAAAADgAyjoAAAAAAD4AAo6AAAAAAA+gIIOAAAAAIAPoKADAAAAAOADKOgAAAAAAPgACjoAAAAAAD6Agg4AAAAAgA+goAMAAAAA4AMo6AAAAAAA+AAKOgAAAAAAPoCCDgAAAACAD6CgAwAAAADgAyjoAAAAAAD4AAo6AAAAAAA+gIIOAAAAAIAPoKADAAAAAOADKOgAAAAAAPgACjoAAAAAAD6Agg4AAAAAgA+goAMAAAAA4AMo6AAAAAAA+AAKOgAAAAAAPoCCDgAAAACAD6CgAwAAAADgAyjoAAAAAAD4AAo6AAAAAAA+gIIOAAAAAIAPoKADAAAAAOADKOgAAAAAAPgACjoAAAAAAD6Agg4AAAAAgA+goAMAAAAA4AMo6AAAAAAA+AAKOgAAAAAAPoCCDgAAAACAD6CgAwAAAADgAyjoAAAAAAD4AAo6AAAAAAA+gIIOAAAAAIAPoKADAAAAAOADKOgAAAAAAPgACjoAAAAAAD6Agg4AAAAAgA+goAMAAAAA4AMo6AAAAAAA+AAKOgAAAAAAPoCCDgAAAACAD6CgAwAAAADgAyjoAAAAAAD4AAo6AAAAAAA+gIIOAAAAAIAPoKADAAAAAOADKOgAAAAAAPgACjoAAAAAAD6Agg4AAAAAgA+goAMAAAAA4AMo6AAAAAAA+AAKOgAAAAAAPoCCDgAAAACAD6CgAwAAAADgAyjoAAAAAAD4AAo6AAAAAAA+gIIOAAAAAIAPoKADAAAAAOADKOgAAAAAAPgACjoAAAAAAD6Agg4AAAAAgA+goAMAAAAA4AMo6AAAAAAA+AAKOgAAAAAAPoCCDgAAAACAD6CgAwAAAADgAyjoAAAAAAD4AAo6AAAAAAA+IMjoAKhZLpdL+/btU1RUlEwmk9FxAAAAABjE7XbryJEjatCggcxmjt36Agp6gNm3b5+Sk5ONjgEAAADAR+zevVsNGzY0OgZEQQ84UVFRkjxvwujoaIPTAAAAwEiOAoe++PsXkqTL/neZgkKpB4EkOztbycnJ3o4A4/EODDDHprVHR0dT0AEAAAJckaVIe+fvlSRFRkTKGmE1OBGMwKmvvoMTDQAAAAAA8AEUdAAAAAAAfAAFHQAAAAAAH0BBN9DPP/+siy++WA0aNJDJZNJXX311yscsXLhQXbt2VUhIiJo3b67p06dXe04AAAAAQPWjoBsoNzdXnTp10iuvvFKh/Xfs2KFhw4Zp4MCBWr16te677z7dcsstmjdvXjUnBQAAAABUN1ZxN9DQoUM1dOjQCu8/depUNWnSRFOmTJEktWnTRosXL9Z//vMfDR48uLpiAgAAAABqAAXdjyxdulSDBg0qsW3w4MG67777Kv1cb/z8p8Iiyr7eYfskm/q3jDudiAAAAPAj1girJrgnGB0DwFEUdD+SlpamhISEEtsSEhKUnZ2t/Px8hYWFlXpMYWGhCgsLvbezs7MlSS8t2CZzSHiZr2Mxm7Ti0UGKCec6mAAAAABQUyjotdykSZM0ceLEUtsv65KkkPDIUts/Wb5bTpdbew7na9XuLCXXCVfz+NL7SZLT5VZBsVMRIfw1AgAAAIAzRbPyI/Xr11d6enqJbenp6YqOji7z6LkkjR8/XmPHjvXezs7OVnJysp4c3l7R0dGl9v9k+W5J0kX/XSxJig4N0vJHz5c9v1grUw9r3V67NqUd0Z8ZOdqdmSeny63/jOysSzsnVdW3CQAAgBriKHDoy+u+lCSNeH+EgkKpB4CReAf6kV69emnOnDklts2fP1+9evUq9zEhISEKCQk57dfMLnBo4OSF2puVX+4+D362plRBd7ncSssuUHxUiIIsxl8swO12K7/Yqay8Ytnzi5VT6FCbxGhFcvQfAAAEMJfTpQ0zNkiSLp1+qcFpANBODJSTk6Nt27Z5b+/YsUOrV69W3bp11ahRI40fP1579+7Ve++9J0m644479PLLL+sf//iHbrrpJv3www/69NNPNXv27CrL9OSl7fTT5gw9NaK9ek36QZK0NytfJpPUIj5SnZNj1CYxWi3io/T3ab9Jkoqdbl01damu7N5Qq3dnad2+bG3cn60ih0uStPmpIXK7pW0HcmQxm9QmMVpOl1s5BQ7ZwoMrnK2g2CmL2aTgo4Xf4XTpYE6R0rMLdOBIoTKOFOpgjufrUG6RDuUUKiuvWJm5RcrKK1aR01Xm8/ZIqaus/CJtSc/xbkuKCdPFnRpoxa5MDeuQKLPZpOz8YmUXOHSkoFh7Dudr0daDuqp7Q0WGBOtIgaf05xQ6dKTAodW7s7zP9bezkmULC9aRQoe+/WO/kuqE6YquDZUQHar07AK1SYxWl0Z1lHv08fUiQxRmtVTqvxsAAAAA/2dyu91uo0MEqoULF2rgwIGltt9www2aPn26brzxRu3cuVMLFy4s8Zj7779fGzZsUMOGDfXYY4/pxhtvrPBrZmdny2azyW63lznF/URPz96gfVkFOr9tgs5pGae6ESUXjXt78Q49+c2GCr2u2SS5yvmb1j4pWuv2ZuvKbg1V6HBp8baDahEfqbNS6mpXZp52Z+Zpz+F8HczxLHbXLC5CuYVOHThSUO5zlifYYlKx0z/+yteLDFHnZJu+33hAkjTpsg5KiglTTqFDqZl5apMYLZfLrSOFDuUe/copdMieX6xv/0jTuW3iFRcZolW7sxRkNumijomymE0qdLiUX+RUbpHD82ehU3lFDuUVOZVX5FRBsVM7DuZ6Z03c2DtFW9KP6PedmbpvUEvlFDp0Tos4BVlMMpskySSTSTJJSq4brjrhVlk8dwAAAB9XlFukSZGTJEnjc8bLGsEiwYGkMt0ANYOCHmCq8k3odrv1v1936bGZ6xVkNqlzcoy6NIpRx4YxapMYpUHP/1xFqctnMZsUFxmi+OgQxUWGKC4qRLGRVsVGeP6sG2FVnXCrYsKDVSfcqnCrRSaTSXuz8nXn/1aoRUKUzm0dr+jQYKVlF+jZbzd5PwgIMpvkOPoJwJB29WULC1Z0WJCiQoO1MvWwFm7OUPfGdXRWk7qKDAlSdGiQIkKCFBkSpOfnb9GmtCOSpDaJ0erTLFYWs0mv/7zdm715fKS2Hcgp/U3VEh0b2uRwurUtI8c7m+LCDvVV7HTL4XTJ4XLL4XTL4XKp0OFSXpHT+/PolBwjh9Mlp8utYqdLh47Ogjjmhl6N1bVxHXVIspV4nmKnW/lFTsVGWr2nL8RFhSg02DMjodjpUn6xUxaTicUNAQAQBT3QUdB9DwU9wFTHmzC30CGL2eQtQcdsSsvWHe+v0OgBzdS/Zbz+2GvXQzPWaNKIDooICdL1by/TgFZxahATplWpWeqQFK16kSF6deGfkqRrezZS49hwNaobroZ1wrVqd5beXrxD/xjcSg1iwpRoC1VsZIjfH63dl5WvcKtFkSFB2m8v0Kw1+zT5u80a3La++rSop8e+Wufdt3X9KO23F8ie7ymrHZJsigjxPDbi6FeavUA/bDqgCKtFI7om6X+/pkqSzmkZJ4fTpWCLWZEhQQqzWhRhtSjMGnT0T4vCrUEKt1qUX+zU+C/+kCTdNbCZvl6zX6mZeSVyN6kXIbfbLZfbc7rBPntBDf3ETo/FbJLzFFMuLmiboPjoELndnqsUOF1uOd1uuVxuOVxuudyebRv3H1FqZp7qR4fqnJb11Dm5jgodTuUWOvT9xgPq3SxWdcKt6tjQJpPJM9PAZJJMJpNM0vFtx2YfmKRgi1n1baGKCgmSyeTff6cBAP6Dgh7YKOi+h4IeYHgTorq4XG4VOJz680CuNuy3KzYiRMFBZgWbTbrmrd+UXDdMt/ZrqiCzWUEWk4ItJlnMnvutQWaFWS1asu2Qgi1mtU+K9q43YDGbZDaZ9L9fd+nAkQL9uj2zxOvWjfBMqQ8++kHNsQ8KwoI9HzT4o+jQIGUXOLy3r+7RSBazFGQ2y2wyedZ4cLp08dHTFrYeyFHvZrGqFxmi+KhQNawTJrOff3AFAKgZFPTARjfwPRT0AMObEIHE7XbrwJFCmSS5JYUGWRRqNetQTpFMJsntlu7+aJXq20I1e+1+/f3sRoqNCJHJ5DnFwWw2yWIyeT8ksJg9X6tSs/T5yj3e1xnUJkGhwWZlHCnUbzuOf4BQPzpU4VaL3JJcbrfc7uN/6oRtadnVN/vg8q4NFRUaJIfLJYfTrU+X75bLLV3WNUl9mtXTgSOF6tGkrmIjrGocG87RewAIMBT0wEY38D0U9ADDmxDwTW63W9n5Du3KzJXZZNIHv6Vq+c5MZeYW6YbeKXKeMMX+2Gkgwzomaumfh5SZW1SlWRrVDS9xSsPQ9vXVNC5CS/48pHNbxSvMalHr+tGKCQ9WmNWiRFuowoItlHsA8ENut1vFR9d5CQ4P5nd5gKEb+B4KeoDhTQjUbgXFTr38wzbNWrNPRwqKdWX3ZAVbTAoymxVsMWnyd1uqPcM1PRspKjRI0aHBapUQpUax4YoICVLdcKtCg8384w8AAB9BN/A9FPQAw5sQQFkyjhRqwcZ0JRw9Gn4op0gfLUvV4m0H1Tk5RvUird5L/p2pv17u8OoejWQ2eRacnLc+XVd2b6iE6NCjpxWoxOkFOw7mqn50qFomRCnI4in6LROiFB8VQvEHAKCS6Aa+h4IeYHgTAqhKLpdb+cVOfbFyjx6buV5S6QJek7o3rqM6EVZd2KG+9tsL1CW5joItJdcTaJsYzSJ6AHCUo9Chb27/RpJ00esXKYjLkAYUuoHvoaAHGN6EAIzgdruVmVvkuSyfy6WVu7J014crFRth9Z5jv26vXQs2HVCnhja1qh8lp0ve8+6dbrecTrfmrk+T5LnE4B977VWWr3X9KF3Ts5F2Z+bp2p6N1SAmTNYgc5U9PwD4KhaJC2x0A9/DR2QAgGpnMpkUGxnivT2sY5iGdRxWJc9tzy/Wyl2H9dCMtTqYU1jq/pTYcDndbu3OzC/3OTalHdHjR2cAvLloR6n7b+3XRO2TbEo9lKdrz26suvwDFgAAVAMKOgDAr9nCgjWwdbyWPzrolPsWOVz6dt1+JcWEafQHK3Uop1CuCswjO7G0T5nvWWgvNsKqY6e9H8w5vpL+6AHNtG6vXd0a11GL+CilZxeoY0ObmsVFKoYVkgEAwElQ0AEAAcMaZNalnZMkSb8/UnahL3a6lFfk1IpdmRr3+R86cKT0UXlJOlTO5e1eO3oZvEVbD540S7O4CAWZzdpxKFdFDpckqV2DaDldbkWFBumKbg01oktDptoDABBAKOgAAJwg2GKWLcysc1snaNkjCaXuP3CkQFl5xTq2gotbbuUXOXX3R6u053C+runZSMt3Zio9u1D2/OJyX+fPjNxS29bvy/aOf995WA9//keZj71/UEsl1QnThR3qK9zK/8oBAKgt+L86AACVEB8Vqvio0FLbFz987kkfV1Ds1N6sfP2xx64GMWFyud1yON3KzCvStMU7tGZ3lro2itHK1KxTZvjP955p9g9+tsa7rUeTujJJ+m1HpiTp0WFtFBJk1p8ZuTorpa66NIpRnXCrQoLMrGIPAICPoqADAFADQoMtahYXqWZxkaXuu6RTg1Lb3G63MnIK5XS5lVvo0H9/2KaZq/eV+/zLjhbzY56avdE7nr5kZ7mPu7F3ii7u1EDBFpOCzGaZTFLTuAiFBFkq8F0BAICqxGXWAgyXUgCA2sHtdmtT2hE5XW5t2J+tcKtFRQ6Xxn7qOareq2msVqQe9p7ffrou7dxAzeIi1bdFPXVqGCMLR9+BWsXtdivvYJ4kKbxeOAtZBhi6ge+hoAcY3oQAEJgcTpcKHC7lFTm061CeRr6+1LuCfZDZpPioEO2zF1T4+To2tGntHrsirBYNaBWvBwe3UqO64RR4APAjdAPfQ0EPMLwJAQAn43a79c8v/9BHy3af0fPUiwxRt8YxGje0jRrXDee8dwDwQXQD30NBDzC8CQEAp6PY6dKirRnaczhfB7IL1SAmTFN/+lOpmXmVep464cHq2DBG/VrUU/+WcWoeH8mUWsBAjkKH5o2dJ0ka/PxgBYWwRFUgoRv4Hgp6gOFNCACoDk6XWxv3Z2vh5gPauP+IZv+x/7Sep31StILMZnVOjlGXRjFKrhuuzg1jOAIPVJOi3CJNipwkSRqfM17WCKvBiVCT6Aa+h4/IAADAGbOYTWqfZFP7JJsk6ZWj24scLi3bkanPVuw+6Sr0x6zb67kW/OrdWZq+pPT9jeqGa8zA5sovdqpXs1i14Ag8AKAWoaADAIBqYw0yq2+Leurbop5e/FuXEvcVFDv1+85M7Tmcr5+3ZOjbdWmnfL7UzDz94/O1pbb/7+ae6tm0roIt5irLDgBATaOgAwAAQ4QGW9SvRZwk6eoejcrcp6DYqSV/HtTW9BxN+naTJKlnk7r67S/Xff/7tN/KfPwzIzpoWIdE2cKDqzA5AADVg3PQAwznmQAAaov1++wa9tLiSj2mdf0oTR/VQ/VtodWUCvAvnIMe2OgGvocj6AAAwC+1a2DTzmeHSfKc655f5FRGToGW7zyscV/8UeZjNqUd0dmTFnhvX9QxUfWjQ/XQkFYKCbLUSG4AAMpDQQcAAH7PGmSWNcgsW3iwmsdH6W8nTJnfnZmnyd9tLnORum/Welabf2vxDu+2d0adpd7NYinsAIAaxxT3AMM0FgBAoNuekaPrpi1TkMWkXYfKv457SJBZ/7ulp85KqVuD6YCa5Xa5ZU+1S5JsjWwycUnDgEI38D0U9ADDmxAAgNL2HM5T3+d+POV+fZvX05XdG6pZXKTaNYjmEm8A/BrdwPdQ0AMMb0IAAE7O6XLr/+Zt1tSf/qzQ/q3rR+nLO/sozMqUeAD+hW7geyjoAYY3IQAAFZd6KE/fb0zXk99s8G4LtphU7Cz7n08f3tJTvZvXq6l4wBlzFjm14BHPwonnPX2eLHzQFFDoBr6Hgh5geBMCAHDm8oocmjhrgz5Zvrvcfd658Sz1aV5P1iBzDSYDKofLrAU2uoHvYRV3AACASgq3Bum5KzrquSs6qtjp0qfLd+uRL9eV2GfU9N9L3L61XxNdd3aKGsWG12RUAIAfoaADAACcgWCLWdf2bKxrezbWoq0Z+vC3VH27Lq3Ufm8u2qE3Fx2/nFu/FvU0bmhrtU1ksTkAgAcFHQAAoIr0axGnfi3iJEnFTpd+256pv0/7rcx9F209qEVbF3tv39qviVrER+nK7g0p7AAQoCjoAAAA1SDYYlbfFvW089lh3m0HjhRo3ro0PTNnk/KLnSX2P3Z0/R+fr5UkDWgVp9vPaabuKXUUbOE8dgAIBBR0AACAGhIfFarreqXoul4pkqRCh1Nv/rxdk7/bUmrfhZsztHBzhve2LSxYEy5uqyHt6yvcyj/hAKA24uNYAAAAg4QEWTTm3Bba+eww7Xx2mF69tmu5+9rzizX20zVq+/g8/XvuphpMCQCoKVxmLcBwKQUAAPyH2+3WZyv26B8z1pZ5vzXIrDeu66Z+LeJkMXPeOirP7XIrY6NnpkZcmziZ+HsUUOgGvoeCHmB4EwIA4L8Kip3qOPE7FTlcZd5/VfeG+vcVnWo4FQB/RTfwPRT0AMObEAAA/5eeXaDLXl2ivVn5Zd4fEx6sFY+ez1F1ACdFN/A9FPQAw5sQAIDapcjh0t/f+k3LdmaWef+4oa11W7+mMlPWUQZnkVOLnlkkSer3z36yWC0GJ0JNohv4Hgp6gOFNCABA7bU3K199nv2h3Psbx4bro1vPVoOYsBpMBV9WlFukSZGTJEnjc8bLGmE1OBFqEt3A93CNDgAAgFoiKSZMO58dprwih+atT9P9n6wpcf+uQ3nqfbTAv3PjWRrYOt6ImACAclDQAQAAaplwa5BGdGmoEV0aqqDYqaV/HtK0xTu0eNtB7z6jpv8uSZp8ZScNbpegqNBgo+ICAI6ioAMAANRiocEWDWwdr4Gt4+V2u/XSgm36z/dbvPc/+NkaPfiZZ9yxoU3jhrZWr6axMpk4Zx0AahoFHQAAIECYTCbdO6iFRg9oppaPflvq/rV77Lrmzd9KbHvz+u46v21CTUUEgIBGQQcAAAgw1iCzdj47zHv7lR+36f/mbS5z31vfWy5JGtq+vl77e7cayQcAgYqCDgAAEODuGthcdw1sLkmy5xVrwaZ0jf205AJz365LU8q42UqKCdOM0b2UaGMleACoalxmLcBwKQUAAFAZm9OOaPALP5d53+eje6lb47o1nAhVyeV0af/K/ZKkxK6JMlvMBidCTaIb+B4KeoDhTQgAAE7HO7/s0Os/bVdadkGp+8wmaf3EIQqzWgxIBuB00Q18DwU9wPAmBAAAZ+qtRdv11OyNZd53S98mGje0tYI4Egv4PLqB76GgBxjehAAAoCq4XG6t2ZOlEa8uKfP+kCCz5t/fX41iw2s4GSrDWeTUry/+Kkk6+96zZWEWREChG/geCnqA4U0IAACqWkGxU8Nf+UWb0o6Uef+ifwxUcl2Kui8qyi3SpMhJkqTxOeNljbAanAg1iW7ge1jFHQAAAGckNNiiufedI0k6nFukLv+aX+L+fv/+Ua3rR+mru/ooNJgjtABQHgo6AAAAqkydCKt2PjtMLpdbE2at1/u/7pIkbUo7otaPzfXut+bxC2QLDzYqJgD4JFbvAAAAQJUzm0361/D2+v2RQWXe3+nJ75QybrYOlLEqPAAEKo6gAwAAoNrERYVo57PDlF/k1MLNBzT6g5Ul7u/xzAJJ0qTLOujqHo2MiAgAPoMj6AAAAKh2YVaLhnZI1M5nh2n7MxeWun/8F38oZdxsOZwuA9IBgG+goAMAAKBGmc0mb1G/b1CLEvc1f+RbbdyfbVAyADAWl1kLMFxKAQAA+KKUcbNLbfvxwQFqUi/CgDSBw+V0KXVRqiSpUb9GMls4fhdI6Aa+h4IeYHgTAgAAX/Xi91v1n++3lNr+8JDWGj2gmQGJgNqNbuB7KOgBhjchAADwZQdzCnXOv39UXpGz1H3L/nme4qNDDUgF1E50A99DQQ8wvAkBAIA/cLvd+mz5Hv3j87Wl7lv0j4FKrhtuQKrax1ns1Io3VkiSut3WTZZgi8GJUJPoBr6Hk0wAAADgc0wmk646K1k7nx2mQW3iS9zX798/6qrXlxqUrHZxFjn17Zhv9e2Yb+UsY9YCgJpFQQcAAIBPe+uGs7TlqaFKignzblu2I1Mp42brk99TDUwGAFWLgg4AAACfZw0y65dx52rN4xeU2P7w557rp+84mGtQMgCoOhR0AAAA+A1beLB2PjtM1/ZsVGL7wMkLlTJutrLyigxKBgBnjoIOAAAAv/P0iA7a+ewwXd2jZFHv/OR8jXj1F4NSAcCZoaADAADAb026rIP+fOZCXdYlybttVWqWUsbN1rtLdhoXDABOAwUdAAAAfs1iNun5kZ214cnBJbZPmLVeKeNmq9DB6uQA/AMFHQAAALVCuDVIO58dpkeHtSmxvdWjc7Vi12GDUvm2oJAgXf3N1br6m6sVFBJkdBwg4Jncbrfb6BCoOdnZ2bLZbLLb7YqOjjY6DgAAQLUoKHbqvo9Xa+76tBLb108crAiKKCCJbuCLOIIOAACAWic02KKp13XT/13RscT2dhPmKT27wKBUAHByFHQAAADUWld2T9aOSReqc3KMd1vPZxZo2EuLODddkrPYqdXTV2v19NVyFvPzAIxGQQcAAECtZjKZ9NVdffTvE46mr9+XrVaPztWW9CMGJjOes8ipmaNmauaomXIWUdABo1HQAQAAEBCu6p6sb+7uW2LbBf/5Wa8t/NOgRABQEgUdAAAAAaN9kk07nx2m/4zs5N323NxNShk3W89+u8nAZABAQQcAAEAAGtGloebdd06JbVN/+lMp42Zrc1pgT3sHYBwKOgAAAAJSq/pR2vnsMH16e68S2we/8LOemLXeoFQAAhkFHQAAAAGtR5O62jHpQj1xcVvvtulLdurGd5bJ7XYbmAxAoKGgAwAAIOCZTCbd2KeJNj81xLtt4eYMNRk/RzmFDgOTAQgkJjcfCwaU7Oxs2Ww22e12RUdHGx0HAADA5+w8mKsBkxeW2r716aEKttSu41suh0sbv9woSWozoo3MQbXr+8PJ0Q18DwU9wPAmBAAAqJiXf9iqyd9tKbHthl6NNfHS9gYlAqoW3cD38BEZAAAAUIYx57bQikcHldj27tJduubNXzk3HUC1oKADAAAA5YiNDNHOZ4fpm7v7erct+fOQmoyfo9+2HzIwWdVwOVxa/9l6rf9svVwOl9FxgIBHQQcAAABOoX2STVufHqpWCVHebSPf+FVvLdpuYKoz5yh0aMZVMzTjqhlysBgeYDgKOgAAAFABwRaz5t1/jl67tqt321OzNypl3GzlUm4BVAEKOgAAAFAJQzsk6qeHBshsOr6t3YR5lHQAZ4yCDgAAAFRS49gIbZ80TPec29y7rd2Eefpq1V4DUwHwdxR0AAAA4DSNvaCVHji/pff2fZ+sVsq42XI4WXANQOVR0AEAAIAzcPd5LfThLT1LbGv+yLdat9duUCIA/oqCDgAAAJyh3s3racekC0tsu+i/i/Xc3E0GJQLgj4KMDgAAAADUBiaTyXPN9LX7NObDVZKk1xb+qZYJkRrRpaHB6cpmsVp06TuXescAjGVyu91uo0Og5mRnZ8tms8lutys6OtroOAAAALVSdkGxOj7xnfd2nfBgrXr8AgMTAaXRDXwPU9wBAACAKhYdGlzieumH84qVMm62gYkA+AMKOgAAAFANhnZI1Nanh5bYljJutpwu35nA6nK4tGX2Fm2ZvUUuByvPA0ajoBvslVdeUUpKikJDQ9WzZ08tW7as3H2Li4v15JNPqlmzZgoNDVWnTp00d+7cGkwLAACAygi2mEstHtfsn3N078er5AtnmjoKHfrooo/00UUfyVHoMDoOEPAo6Ab65JNPNHbsWE2YMEErV65Up06dNHjwYB04cKDM/R999FG9/vrr+u9//6sNGzbojjvu0IgRI7Rq1aoaTu47TCbPV0pK5R/7xBPHHz99ehUHAwAAOMpkMmnHpAvVNvH4Ob4zV+9Tk/FzlEMpBnACCrqBnn/+ed16660aNWqU2rZtq6lTpyo8PFxvv/12mfu///77+uc//6kLL7xQTZs21ejRo3XhhRdqypQpVZ7txPJ64pfNJvXpI02bJvnAh74B4/vvpUGDPD//8HCpa1dp6lTJVYmZaHv2SKNHS82aSaGhUkiI54ONm2+W/vyz/MdlZUkNGhz/O1C//pl+NwAABB6TyaQ59/bT+omDNahNvHd7+wnztGhrhoHJAPgSLrNmkKKiIq1YsULjx4/3bjObzRo0aJCWLl1a5mMKCwsVGhpaYltYWJgWL15c7usUFhaqsLDQezs7O/uMcmdnS0uWeL5++UUq57OEGrNokefPv/xYKuSmmzylV5Jatqy6TFXtnXc8JfrED0RWrfKU7eXLpbfeOvVzZGRIZ50lpaWV3L5rl+e/4VdfSWvXSklJpR/70EPS/v1n9C0AAICjIkKC9NYNZ2nc52v18e+7JUnXTVumKVd20uXdfPNSbABqDkfQDXLw4EE5nU4lJCSU2J6QkKC0v7aoowYPHqznn39eW7dulcvl0vz58/XFF19o/0na06RJk2Sz2bxfycnJlc46dKinCM+fL91yy/Ht77zjKYgn43JJBQWVfskK69vX89W9e+Uf26jR8cfHx596fyPs3y/dfbennAcFSc8/L3388fEiPW2aNLsCC8J+9NHxct64sTRjhvT5556xJGVmep73rxYu9LzG6XwAAgAAyvfs5R01864+3tsPfLZGy3dmGpgIgC+goPuRF198US1atFDr1q1ltVo1ZswYjRo1SmZz+f8Zx48fL7vd7v3avXt3pV83Pt5TYgcNkt54Q2rS5Ph9x45gnzgl/u23paee8pS/4GDp1189+7jdnlLfp48UHS2FhUmdOkkvvlj2VO2NG6Ubb/Q8T0iIFBcnnXuutGDB8X3KOgfd5ZKeflpq397zGqGhnjI+bJinbB5zsnPQV66UrrzSM53bavX8ecUV0ooVJfebPv34czzxhPS//3leNyTEc1T+009L7r9z5/H9Bww46Y9dkvT++1Jurmd8883S/fdLI0dKkycf32fq1FM/j91+fHzlldLll0uXXeYZH+P4yylwBQXSrbd6/rs9/vipXwMAAFROp+QYLXxwgPf2FVOXKmXcbDmcrKYOBCoKukHq1asni8Wi9PT0EtvT09NVv5yTfOPi4vTVV18pNzdXu3bt0qZNmxQZGammTZuW+zohISGKjo4u8XUmTCZPuT6mqKj0Pk8/LT32mJSaWrJ433ijZ1r5kiXSkSOeArh2rXTffdI115R8jnnzpG7dpHff9TxPUZF08KD044/HPxQoz9NPS48+Kq1f73mNwkJp925pzhzPBwSnMmuWdPbZnqPM6elScbHnz88/l3r18txflvffl667zvO6RUXS1q3S1VdLmzef+jXLc+LZC717lz0+yRkOXid+GPDpp57v5Ysvjn+AEBbmKe0neuIJads2zwcbV19d2eQAAKAiUupF6I3rupXY1vyRb7Xfnm9QIgBGoqAbxGq1qlu3blpwwuFgl8ulBQsWqFevXid9bGhoqJKSkuRwOPT555/r0ksvre64kjxF9/33PaX6mA4dSu+3fbt07bWeqdfvveeZjj1jhmcsSa1aeaZcf/21pwhL0iefeL4kKS9Puv56Kf/o/5f69fPcN2uWNHasFBFx8pwzZ3r+jInxHNH+/nvPa99xh5SYePLH5uZ6jlQXF3tujx7tKfZ33um5XVzsuf/YUe2/ft833yx984103nmebS5Xxc4RL8/OncfHJ54NceKU/Kws6fDhkz9Pv37SSy95PlxJTfXMBrj8cs+4b19PyW/e/Pj+q1ZJU6ZIUVHSa6+dfn4AAHBqF7Srr/UTB+uCtsf/Z99r0g/anZlX7a9tsVo09OWhGvryUFmslmp/PQAnxyJxBho7dqxuuOEGde/eXT169NALL7yg3NxcjRo1SpJ0/fXXKykpSZMmTZIk/fbbb9q7d686d+6svXv36oknnpDL5dI//vGPas357ruer7/q3l0aPLj09j59PMX4RA89dHx8111Sw6NroNx88/Ep8P/7n2f69nffSceuNNekiefc95AQz+2LLz513uBgz58REZ4Vyzt29Kx8ft11p37sd995jtRLniP4r77qGQ8dKv32m2eK+8GDnkzDh5d8bKdOx8t4vXrHp+Jv23Z8n5SUyq1+f+IHAVZr2eNj+9Wpc/LnSknx/Nw3bCi5fcUKz4cKXbt6bjudnrUGHA7p2Wel5OSSHxQAAICqFxESpDeu767J8zbr5R89/3jo9+8fq33xOEuwRT3u6lFtzw+gcjiCbqCRI0dq8uTJevzxx9W5c2etXr1ac+fO9S4cl5qaWmIBuIKCAj366KNq27atRowYoaSkJC1evFgxMTE1mttqlf7+d2nuXMlSxgetF11UetuWLcfH99zjOaLbr5/nHOdjNm4sve+gQcfLeUXdfLPnz717PVPSIyM9R4dvv73kc5flxPt79ix5X48eZe93TP/+x8exscfHWVkVil2mE2cLnLAYf6lTC041q+CHHzwfKGzY4DlivmePZwG6c87xzFSYMEH68EPPvtOmec7B79PHM4MAAADUnAcHt9J/r+7ivf3AZ2uUMm62ihyclw4EAo6gG2zMmDEaM2ZMmfctXLiwxO3+/ftrw18Pf9aAoUOlf/7Tc/55VJTUooXnnOXy/GVh+gora9r46bjlFs+R4g8/9EzV3rrVc53vP//0TJPfuNEz/b2yTKaT33/iEeygE95ZZ3K9+JQU6Y8/POMTlys4caH/mJhTHz2fNu34egB33318Ffi77pJ+/tkz/uorz1oA+/Z5bv/yi1TW+oPp6Z6fxb33Si+8ULnvBwAAnNrFnRqobYNonTflJ++2lo9+q/+M7KQRXar2aLrL6VLqolRJUqN+jWS2cPwOMBLvQJzSsVXc+/TxTBc/WTmXyi6yJ15n/McfPaX1r19//ll63++/L3shupNxu6UhQzznnf/xh5ST41mITvIU2yVLyn/sia+9bFnJ+068XVPXTe/b9/j4xNxLl5a9T3mOTduXPD+PY44cKXs7AAAwVrO4SG1/5kJd1iXJu+3+T9bo/aU7q/R1HAUOvTvwXb078F05ChynfgCAasURdNSIa689vnjbdddJjzziORKfkeE5wj17tudI/YQJ0gUXeD4UOHBA2rHDc3vMGM/l0hYv9kwfP/Gc9r+64grPkf5+/TxH0h2OktdrP3Gq+F9dcIHn+Q8d8jxmzBjPKuZz5hx/jnr1pPPPP72fw86dxy9T17+/5zrjJ3PdddKTT3pmF0ybJrVuLTVoID344PF97rjj+Hj6dOnoEgaaMMGzErsktWvnOb9ekv71L8/Px2TyXA7vmM6dPX8OGVJ6hkFmpudxkuexTz4pdekiAABQjcxmk54f2Vn3nNdCAyYvlCQ9NnO9YsKturhTA2PDAagWFHTUiCuv9KzM/t57nvOfyzq3ecgQz5/h4Z6iOWKEp0z/9JPn65gJE07+Wna75xJiZS1sl5DguZZ6eSIiPEX4yis9K7a/8orn65jgYM/9pzrnu6okJkr//a/nvHqn07OK/YluvtnzAcKp3HefZxG+jAzPhwRXXVXy/gYNPGsDSJ6V9Y+trn/Mzp3HC3p4+PEZCQAAoPql1IvQ4ocHqu9zP0qS7v5ole7+aJVm3NFL3VPqGpwOQFViijtqzLvvegp6//6SzeZZbK5RI88lyV566filzCTP0fQVKzxHkBs29BTj2FjP9bz79Tv569x5p2c1+GbNPAvEBQV5zrm+9lrPEXib7eSPv/RSzxTyK67wHMkPCpLi4qTLLvNMM7/kkjP+UVTKqFGe68Kfd57n6HVYmOfo9WuvSW+8UbHnaNTIMwPgttukpk09P3ur1TMePdozfb9+/er9PgAAwOlrWCdc00edVWLbFVOXKq+IaelAbWJyu89kCSv4m+zsbNlsNtntdkVHRxsdBwAAAJX01qLtemr2Ru/tnc9WYDpdOYpyizQp0nNJ3/E542WNsJ7iEahN6Aa+hyPoAAAAgB+5pV9TDe98/Bz0J7+u+av8AKgeFHQAAADAz/zflZ2847d/2UFJB2oJCjoAAADgZ4ItZq167PhlZd7+ZYdufGfZSR5RNkuwRYP+PUiD/j1IlmBLVUYEcBo4Bz3AcJ4JAABA7ZFb6FC7CfNKbDuTc9IRWOgGvocj6AAAAICfiggJ0qZ/DSmxLWXcbDldHIMD/BEFHQAAAPBjocEW7Zh0YYltzf45RxWZKOtyurT3973a+/teuZyu6ooIoIIo6AAAAICfM5lMpUp6k/Fz9Ov2Qyd9nKPAobd6vKW3erwlRwHXVAeMRkEHAAAAagGTyaSdzw5T03oR3m1/e+NXPTFrvYGpAFQGBR0AAACoRX54cIC+HtPXe3v6kp0a+uKiCk15B2AsCjoAAABQy3RoaNOv48/z3t64P1tNxs8xMBGAiqCgAwAAALVQfVuolj86qMS2puNnG5QGQEVQ0AEAAIBaql5kiP585kJZLZ5/9rvc0lWvLzU4FYDyUNABAACAWsxiNmnjv4bIGuT5p/+yHZmatniHwakAlIWCDgAAANRyFrNJG58c4r39r282KGXcbJmDzOo/ob/6T+gvS7DFwIQAJMnkZjnHgJKdnS2bzaaMjAxFR0eXut9sNisoKMh7u6ioqNznMplMCg4OPq19i4uLy11JtLr2lSSr1Xpa+zocDrlcrirZNzg4WCaTqVr3dTqdcjqdVbJvUFCQzGazz+zrcrnkcJR/nVaLxSKLxeIz+7rdbhUXF1fJvie+P6trX+nk72V+R5S9L78j+B3B74jK78vviNPb90x/R6RnF2jg5IUl9lv9+AWKDA8t93lQex3rBna7vcxugJoXdOpdUBtNmTJFoaGlfxG3aNFC11xzjff25MmTy/2fduPGjXXjjTd6b7/44ovKy8src98GDRro1ltv9d5+5ZVXZLfby9w3Li5Od955p/f2m2++qYyMjDL3tdlsuu+++7y3p0+frn379pW5b3h4uB566CHv7Q8++EC7du0qc9/g4GD985//9N7+9NNPtXXr1jL3laQJEyZ4x19++aU2bNhQ7r7jx4/3/o/4m2++0Zo1a8rd98EHH1REhOdapvPmzdPy5cvL3ffee+9VTEyMJGnBggVaurT888tGjx6t+Ph4SdKiRYv0008/lbvvLbfcoqSkJEnSr7/+qu+//77cfW+44QalpKRIklasWKFvv/223H2vvvpqtWzZUpL0xx9/aObMmeXue8UVV6hdu3aSpI0bN2rGjBnl7nvppZeqc+fOkqRt27bpo48+KnffoUOHqkePHpKk1NRUvfvuu+XuO2jQIPXp00eStH//fr311lvl7tu/f38NGDBAkpSRkaHXXnut3H179eqlCy64QJJkt9v14osvlrtv9+7dNWzYMElSXl6eJk+eXO6+nTp10vDhwyV5/hE5adKkcvdt27atrrzySu/tk+3L7wgPfkccx+8ID35HePA7wsPXf0dcF1Zyvyn/t0qPP/64t8wDMA5T3AEAAIAAd87oD+Ryln80HkDNYIp7gGGKu/9PTavIvkxfZfoq01crv6/E74jT2ZffEWe2L78j+B1R2X2r+ndEl3Ff6yrbOklSWuJ5eu22vuU+H2ofprj7Hgp6gOFNCAAAgGNyDudoyktTJEkf2Tvqu0cGq1FsuMGpUFPoBr6HKe4AAAAAJEnn/N+PyisqfwYIgOpFQQcAAADg1fbxeSedvg+g+lDQAQAAAOiugS2847OeLv+KDACqDwUdAAAAgEb1TfGOD+YU6f2lOw3LAgQqCjoAAAAASdKmfw3xjh+buV4uF1PdgZpEQQcAAAAClDXUqsSiRCUWJcoaalVosEWfj+7lvf/VhdsMTAcEHi6zFmC4lAIAAABOJWXcbO94zeMXyBYefJK94a/oBr6HI+gAAAAASljx6CDv+Mbpy1jVHaghFHQAAAAgQLmcLqWuS1XqulS5nC7v9tjIEN3Rv5kkaVVqlp6Ytd6oiEBAoaADAAAAASovO0/vfP6O3vn8HeVl55W476HBrbzjd5fu0kfLUms6HhBwKOgAAAAASrGYTdr81PFV3cd/8YfyihwGJgJqPwo6AAAAgDKFBFm08rHzvbdHvv6rgWmA2o+CDgAAAKBcdSOseuyitpKkP/batSr1sMGJgNqLgg4AAADgpG7o1dg7HvHqErlcrOoOVAcKOgAAAICTCrKY9eLfOntvP/LVOuPCALUYBR0AAADAKV3aOUmNY8MlSR8tS9WhnEKDEwG1DwUdAAAACFBB1iDF5cUpLi9OQdagU+4/775zvONuT30vt5up7kBVMrl5VwWU7Oxs2Ww22e12RUdHGx0HAAAAfua9pTv1+Mz1kqTW9aM094TSDv9CN/A9HEEHAAAAUGHX90rxjjelHVGRw2VcGKCWoaADAAAAAcrlcikjNUMZqRlyuSpetLc+PdQ7vu395dURDQhIFHQAAAAgQOXZ8/TqO6/q1XdeVZ49r8KPC7aY1bBOmCRp4eYM/bLtYHVFBAIKBR0AAABApX13//Fzz6996zcdKSg2MA1QO1DQAQAAAFRauDVIH992tvf26P+tNDANUDtQ0AEAAACclrObxurRYW0kSYu3HdTynZkGJwL826kvdogSduzYoUWLFmnXrl3Ky8tTXFycunTpol69eik0NNToeAAAAECNurlvEz01e6Mk6YqpS7X68fMVE241OBXgnziCXkEffPCBevTooWbNmunhhx/WV199pUWLFumtt97SkCFDlJCQoDvvvFO7du0yOioAAABQY0wmk96/uYf3ducn58vtdhuYCPBfFPQK6NKli1566SXdeOON2rVrl/bv368VK1Zo8eLF2rBhg7KzszVz5ky5XC51795dn332mdGRAQAAgBrTr0WchnVI9N5+fOZ6A9MA/ouCXgHPPvusfvvtN915551KTk4udX9ISIgGDBigqVOnatOmTWratKkBKQEAAIDKCbIGqc6ROqpzpI6CrGd29usr13ZVj5S6kqT3f92lX7cfqoqIQEAxuZl/ElCys7Nls9lkt9sVHR1tdBwAAADUItkFxer4xHfe29ueHqogC8cEfRXdwPewSFwlpaWl6bffflNaWpokqX79+urZs6fq169vcDIAAADAWNGhwXr12q668wPPJdcem7leky7rYHAqwH9Q0CsoNzdXt99+uz7++GOZTCbVreuZvpOZmSm3262rr75ar7/+usLDww1OCgAAAFSMy+VSnj1PkhRuC5fZfOZHuy/skKgW8ZHaeiBHHy1L1bihrWULCz7j5wUCAfNNKujee+/VsmXLNHv2bBUUFCg9PV3p6ekqKCjQnDlztGzZMt17771GxwQAAAAqLM+epykvTdGUl6Z4i3pVmHNvP++408TvTrIngBNR0Cvo888/1/Tp0zV48GBZLBbvdovFogsuuEBvv/22ZsyYYWBCAAAAwDcEW8zq3zLOezs9u8DANID/oKBXkMvlktVqLfd+q9Uql8tVg4kAAAAA3/XG9d284+e+3WRgEsB/UNAr6KKLLtJtt92mVatWlbpv1apVGj16tC6++GIDkgEAAAC+JyTIogfObylJ+mLVXhU5OJgFnAoFvYJefvllJSQkqFu3boqNjVWbNm3Upk0bxcbGqnv37oqPj9fLL79sdEwAAADAZ/ytRyPvuOPEeQYmAfwDq7hXUJ06dfTtt99q06ZNWrp0aYnLrPXq1UutW7c2OCEAAADgW+KiQjSsY6Jmr92vgmKXLn9tiT4f3dvoWIDPoqBXUuvWrSnjAAAAQAW9fHUXzV67X5K0YtdhzVufpsHt6hucCvBNTHGvIvv371dqaqrRMQAAAIAKCwoOUpQ9SlH2KAUFV8+xO5PJpO3PXOi9ffv7K+R2u6vltQB/Z3Lz7qgSbdq00ZYtW+R0Oo2OclLZ2dmy2Wyy2+2Kjo42Og4AAAACxJI/D+qaN3+TJF3auYFe/FsXgxOBbuB7mOJeRd577z3l5eUZHQMAYICdO3fq3XfflSR16tRJw4cPNzZQOSZOnChJstlsuu+++6r0uadPn65du3ZJku69917FxMScdP8XXnhBdrtdkjRhwoQqzQLAN/VuVk8J0SFKzy7UzNX71LNJrK7p2ejUDwQCCAW9ipx11llGRwAAVJETy+Op3HDDDdWcBtUhJydHCxcu1NatW5WTk6PIyEi1aNFCAwYMUGRkZIWe46uvvtKaNWvKvf+vH1S43W4tX75cK1eu1MGDB2WxWNSgQQP17dtXTZs2PdNvCfALPz00UK0fmytJ+ueXf+iKbg1lDeKsW+AY3g0AACCg2O12vfnmm1qxYoWys7PlcrmUnZ2tFStW6K233lJ2dna1vO7MmTM1Z84cpaWlyeFwqLCwUDt27ND7779/0qIPVKecwzmaOHGiJk6cqJzDOdX+eqHBFi18cID3dven5lf7awL+hCPoVWTNmjXq2rWrz5+DDgA4tauuukoOh8N7+7PPPlNOjucfrkOGDFFiYqL3vvj4eO+lN8+U2+2W0+lUUBD/e65Oc+fO9ZbwNm3aqFOnTlqzZo02btwou92uefPm6corr6zw80VGRpa5/4lH4jdv3uwt4VFRUbrggguUk5Oj+fPny+Vyac6cOWrWrFmFj94D/iylXoSGdUjU7D/2K7vAod2ZeUquG250LMAn8C+AKsR6ewBQOzRo0KDEbYvF4h0nJCSoUaOTnzO5Y8cOLViwQGlpaYqIiFDv3r3Vs2dP7/0LFy7UTz/9JEm65JJLdOTIEa1cuVLZ2dm6/vrrlZKSIrfbrdWrV2vVqlVKT0+Xy+VSbGysOnfurJ49e8pkMnmfLy0tTQsXLtTu3btVUFCgkJAQRUdHq2HDhurXr59sNlupjFlZWZo3b562b98us9msdu3aaciQISU+HHC73Vq5cqVWrVqljIwMOZ1OxcTEqE2bNurTp49CQ0NP+bMsLi7W999/r3Xr1qm4uFhNmjTR0KFDT/m4EzkcDu3bt69C+8bHx580V05OjjZv3ixJCgkJ0WWXXaagoCA1a9ZMkydPVmFhoTZu3Oid9l4RFovllH8nli9f7h1fcMEFat++vSTp4MGDWrFihYqKirR27Vr17s31oREYXr6mi2aP91x6rd+/f9TOZ4cZnAjwDRT0CrrssstOer/dbi/xjyUAQGDavXu3/vjjD7lcLkmeFXLnzp2ruLi4Ms8zXrRokQ4fPlxq+8yZM0tNe05PT9e8efO0Z88eXXHFFZKkvLw8vf/++yUWKs3Pz1d+fr7S09PVtm3bUgW9sLBQ06ZN884KkKQVK1YoPDxc5557riRPOf/iiy+0bt26Eo89dOiQFi9erE2bNummm25SWFjYSX8en332mbZu3eq9vWXLFqWlpam4uPikjztRTk6O3nnnnQrte8MNNyglJaXc+3fv3u39QD0xMdH7gURQUJASExO1c+dOud1u7dmzR61bt65wvilTpigvL09RUVFq3ry5+vfvr6ioKEmen+Xu3bu9+ycnJ5cYr1ixQpKUmppKQUfAMJlMeunqLrrno1WSpG/W7tNFHRuc4lFA7cc56BX09ddfq6CgQDabrcwvpqQBACQpMzNTLVq00NVXX+09SirJW8L+6vDhw+rQoYOuueYaDR8+XFFRUdqwYYO3nMfGxuryyy/X1VdfrYYNG0qS1q9f7y3Oe/bs8Zbz9u3b67rrrtPIkSN1/vnnq3HjxmV+eFxQUKDQ0FBdddVVGjhwYJkZT3yN0NBQXXTRRRo5cqQSEhIkeY78Lliw4KQ/i23btnnLeVBQkAYPHqyRI0cqMjJS+fn5J31sdcnKyvKO//r/7oiICO+4rA9NyuN0OpWTkyOXyyW73a4VK1bozTff1JEjRyR5ft6FhYVlvs6J4xOzAYHgkk7HC/mYD1cxGxUQR9ArrE2bNrr88st18803l3n/6tWr9c0339RwKgCAr4mIiNAVV1yhoKAgNWjQwFtyMzMzy9w/OTm51Cyt+fOPL5p01llnea9N26VLF+3Zs0eS9Mcff6h9+/Yym49/1h4dHa3Y2FhFR0fLZDKd9Gjs5Zdfrvr166tNmzb6448/dPDgQeXl5XnL+4lHzgcOHKhu3bpJkurWravXXntNkqfEDxs2rNwZZMemkktSjx49dPbZZ0uS4uLi9PLLL5eb7a9iYmKq7FJsRUVF3vGJpy789XZFjvCHhoaqS5cuSklJUUREhNLS0rRo0SIVFhbqyJEj+vHHH3XJJZeUeM2/vs6J47/uBwSCj287W39741dJ0us/b9cd/ZsZnAgwFgW9grp166aVK1eWW9BDQkJOef4ZAKD2a9iwoXfadHj48UWPCgoKyty/ZcuWpbYdOnTIO547d26Zj8vIyJAkNW7cWHXr1lVmZqaWLFmiJUuWyGq1KjExUR06dFDXrl1LFeiQkBDVr1/fe/vEaerHCvqJGZKSkrzj+Ph4BQcHq7i4WAUFBcrLyytxFPhEJx6FPvG8/tjYWIWGhpb7M/mrqjwH3Wq1lnjeE5240GtwcPApX2vIkCElbjdr1kzh4eGaNWuWJM8Mgr++5rHXOfZ35MTX/Ot+QCA4u2msQoLMKnS49Oy3mzSqT4pCgiynfiBQS1HQK2jq1KknXaG9TZs22rFjRw0mAgD4ohPL4YlHt8ubulleuT2VY0d4g4ODddNNN2n58uXatWuXMjIylJOTo127dmnXrl3Kz89X3759y83415w1pTLrtlTlOegnXpc8Nze31OscU6dOnQrnO9GJH2Yce/7Q0FCFhIR4p7nn5OR4c5z4midmA2pKUHCQwrPCvWMjLHxogHpN+kGSNGnOJj1xSTtDcgC+gIJeQSEhIUZHAADUQmUV1djYWB08eFBS+YXzWEF3u92KiIhQ//79vfcdPnxYU6dOVVFRkTZu3FiqoFfEiRn27t3rLZ4HDhzwvnZoaGiJWQJ/dWLJ3bdvn9q18/yjOzMz07Bz0JOTk2UymeR2u7V//345HA4FBQXJ4XB4L5dnMpm85/uXp7CwUDk5OYqNjS2xfe/evd7xsXPcTSaTkpOTvUfUd+/e7S3jJy4ex0w8GCE0MlQP/echQzMk2sLUODZcuw7lafqSnRp/YWuOoiNgUdABAPAxHTp08J6//eWXX6pfv36qW7eu8vLydOjQIW3dulXNmzfXgAEDtHv3bs2dO1dt2rRR3bp1FR4ervT0dG+JPtnsr5Np3769N8PChQsVFBSk8PBw7+XhJKldu3YnPRLeqlUr7+XFfv/9d0VHRysmJkaLFi2qVJaqPAc9MjJSrVq10qZNm1RYWKjPP/9cnTt31urVq71HuNu0aVNiAbmJEydKkmw2m+677z5JnpXyX331VbVp00YtW7ZUZGSk9u/fX+J7a9WqlXfcvXt3b0H/7rvvZDKZlJOTo1WrPCtYW61WdezYsUq+R8Afzbmnn9pNmCdJuu29FXr3ph4GJwKMQUEHAMDHtGvXTlu3btWaNWuUnZ2t2bNnl9qnefPm3vH+/fu1f//+Mp/rxJXkK5th06ZNWr9+vfLz8/X111+XuL9evXo677zzTvoczZs3V/PmzbVt2zYVFxd7z6cPDw8vMeW7pg0ZMkT79u1Tdna2Nm3apE2bNnnvs9lsGjx4cIWex+Vyaf369Vq/fn2p+2JjYzVgwADv7VatWqlTp05as2aNcnJy9Pnnn5fY/8ILL+SKMAhoESFBuve8FnpxwVb9tCVDz83dpIeHVOxSh0BtQkEHAMAHDR8+XE2aNNGqVauUlpYmh8OhyMhI1a1bV61atfIW79jYWPXp00e7du3S4cOHlZ+fr6CgINWrV0+dO3dW9+7dT+v1TSaTLr/8cqWkpGj16tU6cOCAXC6XYmJi1Lp1a/Xt2/eki7Edc+WVV+r777/XunXr5HA41KhRIw0ZMkT/+9//DCvoNptNt956qxYuXKgtW7YoNzdXERERatmypQYMGFChohwVFaURI0Zo06ZNSktLU05Ojtxut+rWravWrVurd+/epU6Pu/TSS5WUlKSVK1fq4MGDslgsatCggfr27aumTZtW17cLnFTO4RxNmTxFkvTAgw8oso5xHxSNObe5XlzguTTjawv/1C19myg2ktNMEVhMbi44GFCys7Nls9lkt9u9l+0BAABAYMo5nKMpLx0t6PcYW9AlqaDYqdaPeWbbNKobrp//MdDQPLUd3cD31PyyrQAAAABQhtBgi85K8SwwmZqZp+yCYoMTATWLgn4a3nvvPc2cObPEtpkzZ+q9994zKBEAAABQO0wfdXyBuI5PfGdgEqDmUdBPw4033qjx48eX2Pbwww9r1KhRBiUCAAAAaoeIkCB1bRTjvb3twBHjwgA1jIJ+GlwulzZs2FBi26ZNm077UjYAAAAAjptxR2/veNDzPxuYBKhZFHQAAAAAPsVsNunxi9p6b09bvMPANEDNoaBXQHZ2doW/AAAAAH9htpgVcjhEIYdDZLb4VjW4qW8T7/hf32w4yZ5A7cF10CsgJiZGJpPppPu43W6ZTCamuQMAAMBvhEeHa9wL44yOUa6nR7TXI1+uk+Q5F715fJTBiYDqRUGvgB9//NHoCAAAAEDA+dtZjbwF/fb3V2jBAwOMDQRUMwp6BfTv39/oCAAAAEDAsZhNGtgqTj9uztCfGblGxwGqnW+daOInFi1apL///e/q3bu39u7dK0l6//33tXjxYoOTAQAAABWXczhHE8dN1MRxE5VzOMfoOGWadFlH73jm6r0GJgGqHwW9kj7//HMNHjxYYWFhWrlypQoLCyVJdrtdzzzzjMHpAAAAgEoKO/rlo+rbQr3jez9erQPZBQamAaoXBb2SnnrqKU2dOlVvvvmmgoODvdv79OmjlStXGpgMAAAAqJ3m33+OdzyRFd1Ri1HQK2nz5s0655xzSm232WzKysqq+UAAAABALdciIUr3DWohSZq/Pt3gNED1oaBXUv369bVt27ZS2xcvXqymTZsakAgAAACo/S7u1ECSVOR06fWf/jQ4DVA9KOiVdOutt+ree+/Vb7/9JpPJpH379umDDz7Qgw8+qNGjRxsdDwAAAKiVmsVFeseTvt1kYBKg+lDQK2ncuHG65pprdN555yknJ0fnnHOObrnlFt1+++26++67K/18r7zyilJSUhQaGqqePXtq2bJlJ93/hRdeUKtWrRQWFqbk5GTdf//9KihgoQwAAADUfr+MO9c7vvfjVQYmAaoHBb2STCaTHnnkEWVmZmrdunX69ddflZGRoX/961+Vfq5PPvlEY8eO1YQJE7Ry5Up16tRJgwcP1oEDB8rc/8MPP9S4ceM0YcIEbdy4UdOmTdMnn3yif/7zn2f6bQEAACAAmS1mBWcFKzgrWGaL71eDpJjjy83PXL3PwCRA9TC53W630SH81e7duyVJycnJp/X4nj176qyzztLLL78sSXK5XEpOTtbdd9+tcePGldp/zJgx2rhxoxYsWODd9sADD+i3336r8DXYs7OzZbPZZLfbFR0dfVq5AQAAAKMczi1Sl3/NlyR9PaavOjS0GZzIf9ENfI/vf0zmYxwOhx577DHZbDalpKQoJSVFNptNjz76qIqLiyv8PEVFRVqxYoUGDRrk3WY2mzVo0CAtXbq0zMf07t1bK1as8E6D3759u+bMmaMLL7zwzL4pAAAAwE/UibCqdf0oSdI1b/1qcBqgagUZHcDf3H333friiy/073//W7169ZIkLV26VE888YQOHTqk1157rULPc/DgQTmdTiUkJJTYnpCQoE2byl704pprrtHBgwfVt29fud1uORwO3XHHHSed4l5YWKjCwkLv7ezs7ArlAwAAAHzVVd2T9eQ3G3SkwCGnyy2L2WR0JKBKcAS9kj788ENNnz5dt99+uzp27KiOHTvq9ttv17Rp0/Thhx9W62svXLhQzzzzjF599VWtXLlSX3zxhWbPnn3S898nTZokm83m/Trd6fgAAACoffLseXrywSf15INPKs+eZ3ScCruie0Pv+P/mbTYwCVC1KOiVFBISopSUlFLbmzRpIqvVWuHnqVevniwWi9LT00tsT09PV/369ct8zGOPPabrrrtOt9xyizp06KARI0bomWee0aRJk+Ryucp8zPjx42W3271fx86bBwAAAFwul9xRbrmj3OX+e9IXRYcGK8JqkSRN/elPuVwsq4XagYJeSWPGjNG//vWvEtPGCwsL9fTTT2vMmDEVfh6r1apu3bqVWPDN5XJpwYIF3qnzf5WXlyezueR/MovF84upvLX+QkJCFB0dXeILAAAA8Hdf3tXHO3581joDkwBVh3PQK+Cyyy4rcfv7779Xw4YN1alTJ0nSmjVrVFRUpPPOO69Szzt27FjdcMMN6t69u3r06KEXXnhBubm5GjVqlCTp+uuvV1JSkiZNmiRJuvjii/X888+rS5cu6tmzp7Zt26bHHntMF198sbeoAwAAAIGgZUKUzkqpo993Htb/fk3VfYNaql5kiNGxgDNCQa8Am63kpRsuv/zyErdP97zukSNHKiMjQ48//rjS0tLUuXNnzZ0717twXGpqaokj5o8++qhMJpMeffRR7d27V3Fxcbr44ov19NNPn9brAwAAAP7sf7f0VKtH50qSek/6QVueHmpwIuDMcB30AMO1DgEAAHBMzuEcTXlpiiTpgXseUGSdSIMTVd4rP27zLhT3/s091K9FnMGJ/AfdwPdwDjoAAAAAv3VH/2be8XXTlim/yGlgGuDMMMX9NMyYMUOffvqpUlNTVVRUVOK+lStXGpQKAAAAqByz2SyL3eId+yOL2aR3bjxLo6b/Lkl6Z8kO3TmgucGpgNPjn+9CA7300ksaNWqUEhIStGrVKvXo0UOxsbHavn27hg7lnBcAAAD4j3BbuB59/lE9+vyjCreFGx3ntA1sHa+zm9aVJL2/dJfBaYDTR0GvpFdffVVvvPGG/vvf/8pqteof//iH5s+fr3vuuUd2u93oeAAAAEBAuufcFpKk/fYC7TyYa3Aa4PRQ0CspNTVVvXv3liSFhYXpyJEjkqTrrrtOH330kZHRAAAAgIDVu3k973jQ8z8ZmAQ4fRT0Sqpfv74yMzMlSY0aNdKvv/4qSdqxY4dYEB8AAAD+JM+ep6fGPqWnxj6lPHue0XHO2K39mkiSHC63VuzKNDgNUHkU9Eo699xzNWvWLEnSqFGjdP/99+v888/XyJEjNWLECIPTAQAAABXncrnktDnltDnlcrmMjnPGHhnWVpEhnnWwL39tqcFpgMpjFfdKeuONN7y/vO666y7FxsZqyZIluuSSS3T77bcbnA4AAAAIbM9d3lF3fei5slJekUPhVioP/Ad/WyvJbDaXuATF3/72N/3tb38zMBEAAACAYy7sUN87vn7aMs0Y3dvANEDlUNArYO3atRXet2PHjtWYBAAAAMDJmEwm3X5OU73+83Yt33VYOw7mqkm9CKNjARVCQa+Azp07y2QynXIROJPJJKfTWUOpAAAAAJRl3NDWev3n7ZKkS19erLVPDDY4EVAxFPQK2LFjh9ERAAAAAFSQyWTSi3/rrHs/Xq3sAoc+Xb5bV3VPNjoWcEoU9Apo3Lix0REAAACAKmc2m2U6YvKOa5NLOjXQvR+vliT9Y8ZaCjr8AgUdAAAACFDhtnA9Pvlxo2NUC5PJpBl39NIVUz2XW8vMLVLdCKvBqYCTq10fkwEAAADAUV0b1VHU0euiP/vtRoPTAKdGQQcAAABQK5nNJl3cuYEk6dPlewxOA5waBR0AAAAIUHnZeXrm/mf0zP3PKC87z+g41WLc0Nbe8ZerKOnwbRT005CVlaW33npL48ePV2ZmpiRp5cqV2rt3r8HJAAAAgIpzOV0qjilWcUyxXE6X0XGqRXRosHd8/ydrTnnpZMBIFPRKWrt2rVq2bKnnnntOkydPVlZWliTpiy++0Pjx440NBwAAAKCU78ee4x1/vpKDavBdFPRKGjt2rG688UZt3bpVoaGh3u0XXnihfv75ZwOTAQAAAChL8/go1Y/2/Nv9i5VMc4fvoqBX0u+//67bb7+91PakpCSlpaUZkAgAAADAqdxzXgtJ0pI/Dymn0GFwGqBsFPRKCgkJUXZ2dqntW7ZsUVxcnAGJAAAAAJzKZV2TvONezywwMAlQPgp6JV1yySV68sknVVxcLEkymUxKTU3Vww8/rMsvv9zgdAAAAADKEhps0V0Dm0mSjhQ6WCwOPomCXklTpkxRTk6O4uPjlZ+fr/79+6t58+aKiorS008/bXQ8AAAAoHLyj34FgLvPbeEdv7rwTwOTAGUzufno6LQsXrxYa9euVU5Ojrp27apBgwYZHalCsrOzZbPZZLfbFR0dbXQcAAAAoEa1eGSOip2eCrTz2WEGpzEW3cD3BBkdwN/s3r1bycnJ6tu3r/r27Wt0HAAAAACV8Mo1XXXb+yskSb9tP6SeTWMNTgQcxxT3SkpJSVH//v315ptv6vDhw0bHAQAAAFAJ57dN8I5HvvGrgUmA0ijolbR8+XL16NFDTz75pBITEzV8+HDNmDFDhYWFRkcDAAAAKiUvO0/P3vesnr3vWeVl5xkdp0aYTCa9em1X7+3sgmID0wAlUdArqUuXLvq///s/paam6ttvv1VcXJxuu+02JSQk6KabbjI6HgAAAFBhLqdLhXUKVVinUC6ny+g4NWZo+/re8S9bDxqYBCiJgn6aTCaTBg4cqDfffFPff/+9mjRponfffdfoWAAAAABOwWQyKSrEsxzX2E/XGJwGOI6Cfpr27Nmjf//73+rcubN69OihyMhIvfLKK0bHAgAAAFABj13cVpKUX+zU3qwAuc4cfB4FvZJef/119e/fXykpKXrvvfc0cuRI/fnnn1q0aJHuuOMOo+MBAAAAqIArujb0jifOWm9gEuA4CnolPfXUU+rZs6dWrFihdevWafz48WrcuLHRsQAAAABUgtls0sRL2kmSvtuQLpfLbXAigOugV1pqaqpMJpPRMQAAAACcoZFnJWvC0aPnby3ertvOaWZwIgQ6CnoFrF27Vu3bt5fZbNYff/xx0n07duxYQ6kAAACAKlBkdADjhAZblBIbrp2H8vTMnE0UdBjO5Ha7mctxCmazWWlpaYqPj5fZbJbJZNKJP7Zjt00mk5xOp4FJTy07O1s2m012u13R0dFGxwEAAAAMteTPg7rmzd8843HnqkFMmMGJag7dwPdwBL0CduzYobi4OO8YAAAAQO3Qu1k97/iSlxdr+aPnG5gGgY5F4iqgcePG3vPOd+3apaSkJDVu3LjEV1JSknbt2mVwUgAAAACV9dhFnkuuHcwp0q5DuQanQSCjoFfSwIEDlZmZWWq73W7XwIEDDUgEAAAAnJ6CnAL93/3/p/+7//9UkFNgdBzD3Ny3ibo1riNJen8pB91gHAp6JR071/yvDh06pIiICAMSAQAAAKfHUexQXkye8mLy5Ch2GB3HUH2a15PJJL21mFNaYRzOQa+gyy67TJJnQbgbb7xRISEh3vucTqfWrl2r3r17GxUPAAAAwBm4oG2CXlqwVZK0OzNPyXXDDU6EQERBryCbzSbJcwQ9KipKYWHHV3e0Wq06++yzdeuttxoVDwAAAMAZaJ9k847v/GClvr67r4FpEKgo6BX0zjvvSJJSUlL04IMPMp0dAAAAqGWGd26gr1bv0x977UZHQYDiHPRKmjBhAuUcAAAAqIUeGtLaO567Ls3AJAhUHEGvgK5du2rBggWqU6eOunTpUuYiccesXLmyBpMBAAAAqCpJMcdPY73jfyu089lhBqZBIKKgV8Cll17qXRRu+PDhxoYBAAAAUG0+vu1s/e2NXyVJP2xK17mtEwxOhEBicrvdbqNDoOZkZ2fLZrPJbrcrOjra6DgAAACAz0kZN9s7rs1H0ekGvodz0Ctp9+7d2rNnj/f2smXLdN999+mNN94wMBUAAACAqvLwCeei7ziYa2ASBBoKeiVdc801+vHHHyVJaWlpGjRokJYtW6ZHHnlETz75pMHpAAAAAJypO/o39Y7/b94mA5Mg0FDQK2ndunXq0aOHJOnTTz9Vhw4dtGTJEn3wwQeaPn26seEAAACASijIKdDzY5/X82OfV0FOgdFxfIbJZNLfzkqWJM35g9XcUXMo6JVUXFzsXTDu+++/1yWXXCJJat26tfbv329kNAAAAKBSHMUOHbEd0RHbETmKHUbH8SmD29f3jvdl5RuYBIGEgl5J7dq109SpU7Vo0SLNnz9fQ4YMkSTt27dPsbGxBqcDAAAAUBUGtIzzjifMWm9gEgQSCnolPffcc3r99dc1YMAAXX311erUqZMkadasWd6p7wAAAAD8m8lk0kUdEyVJ8zekG5wGgYLroFfSgAEDdPDgQWVnZ6tOnTre7bfddpvCw8MNTAYAAACgKo0b2lrfrPWcxrpur13tk2wGJ0JtxxH002CxWORwOLR48WItXrxYGRkZSklJUXx8vNHRAAAAAFSRhnWOH4B7ccFWA5MgUFDQKyk3N1c33XSTEhMTdc455+icc85RgwYNdPPNNysvL8/oeAAAAACq0LmtPQfhmOaOmkBBr6SxY8fqp59+0tdff62srCxlZWVp5syZ+umnn/TAAw8YHQ8AAABAFXpocCvvuNDhNDAJAoHJ7Xa7jQ7hT+rVq6cZM2ZowIABJbb/+OOPuuqqq5SRkWFMsArKzs6WzWaT3W5XdHS00XEAAABgIJfLpTy7ZxZouC1cZjPH7/7K7Xaryfg5kqRnRnTQNT0bGZyo6tANfA/vwErKy8tTQkJCqe3x8fFMcQcAAIBfMZvNiqwTqcg6kZTzcphMJu/4+flbDEyCQMC7sJJ69eqlCRMmqKCgwLstPz9fEydOVK9evQxMBgAAAKA6jB/aWpJ0MKfQ4CSo7bjMWiW98MILGjx4sBo2bOi9BvqaNWsUGhqqefPmGZwOAAAAqLiC3AK9MeENSdJtE29TaESowYl80zU9G2nSt5skSV+u2qMRXRoanAi1FQW9kjp06KBt27bpww8/1MaNGyVJV199ta699lqFhYUZnA4AAACoOEeRQ4ejDnvHijA4kI+KCg2W1WJWkdOl+z9ZQ0FHtaGgV8Kvv/6qr7/+WkVFRTr33HN1yy23GB0JAAAAQA2YfFUn3fPRKkmeheNOPDcdqCqcg15BM2bMUJ8+ffTiiy/qrbfe0kUXXaTJkycbHQsAAABADbig7fGFoj9clmpgEtRmFPQKmjRpkm699VbZ7XYdPnxYTz31lJ555hmjYwEAAACoAaHBFl3WJUmS9OFvFHRUDwp6BW3evFkPPvigLBaLJOmBBx7QkSNHdODAAYOTAQAAAKgJg44eRd+wP1tOl9vgNKiNKOgVlJeXp+joaO9tq9Wq0NBQ5eTkGJgKAAAAQE25oG2CTCbJ7Zbe+Hm70XFQC7FIXCW89dZbioyM9N52OByaPn266tWr5912zz33GBENAAAAQDULsph1edeGmrFij56bu0mjBzQzOhJqGZPb7WZuRgWkpKSccqVGk8mk7dt9+5O07Oxs2Ww22e32EjMCAAAAEHhcLpcO7TkkSYptGCuzmQm2p7Iq9bBGvLpEkrThycEKt/rvMU+6ge/x379NNWznzp1GRwAAAACqlNlsVlyjOKNj+JXOyTHe8eR5W/T4xW2NC4Nah4/IAAAAAKCCTCaTBrTyfKjx9i87DE6D2oaCXgEff/xxhffdvXu3fvnll2pMAwAAAFSNgtwCvfrwq3r14VdVkFtgdBy/cWu/pt7xhn3ZBiZBbUNBr4DXXntNbdq00b///W9t3Lix1P12u11z5szRNddco65du+rQoUMGpAQAAAAqx1HkUEZ4hjLCM+Qochgdx2/0bhbrHY98Y6mBSVDbUNAr4KefftJzzz2n+fPnq3379oqOjlaLFi3UoUMHNWzYULGxsbrpppvUqFEjrVu3TpdcconRkQEAAABUE5PJpBt6NZYkHSnggw1UHRaJq6BLLrlEl1xyiQ4ePKjFixdr165dys/PV7169dSlSxd16dKFVS8BAACAAPH3sxvr3aW7JElut/uUV3wCKoKCXkn16tXT8OHDjY4BAAAAwEDJdcO94z2H80vcBk4Xh3wBAAAAoJJCgy3e8TNzSq9TBZwOCjoAAAAAnIYm9SIkSd+uSzM4CWoLCjoAAAAAnIa7z23uHbtcbgOToLagoAMAAAABKjw6XKMuH6VRl49SeDTnUFfWhR0SvePfd2YamAS1BQUdAAAACFBmi1mN2jdSo/aNZLZQDSorNNiiTskxkqRPl+8xNgxqBVZxrySn06np06drwYIFOnDggFwuV4n7f/jhB4OSAQAAAKhpKbHhWrM7S9sycoyOglqAgl5J9957r6ZPn65hw4apffv2XO8QAAAAfqsov0jTn5ouSbrx0RtlDbMaG8gPXXd2Y81cvU9rdmcpv8ipMKvl1A8CykFBr6SPP/5Yn376qS688EKjowAAAABnpKigSPut+71jCnrldWlURxFWi3KLnFq3z66zUuoaHQl+jBNNKslqtap58+an3hEAAABArWcxm9S1cR1J0vtLdxmcBv6Ogl5JDzzwgF588UW53VxGAQAAAICnpEuSPb/Y4CTwd0xxr6TFixfrxx9/1Lfffqt27dopODi4xP1ffPGFQckAAAAAGKFv83pauDlD2w+yUBzODAW9kmJiYjRixAijYwAAAADwEZd2TtJTszdqd2a+/szIUbO4SKMjwU9R0CvpnXfeMToCAAAAAB8SFxXiHb/w/Vb99+ouBqaBP6Ogn6aMjAxt3rxZktSqVSvFxcUZnAgAAACAUcKCLcovdmrtniyjo8CPsUhcJeXm5uqmm25SYmKizjnnHJ1zzjlq0KCBbr75ZuXl5RkdDwAAAKiw8OhwjTx/pEaeP1Lh0eFGx/Fr1/duLEk6nFtkcBL4Mwp6JY0dO1Y//fSTvv76a2VlZSkrK0szZ87UTz/9pAceeMDoeAAAAECFmS1mte7dWq17t5bZQjU4E3ef20KSlF3g0Lq9doPTwF+Z3FwvrFLq1aunGTNmaMCAASW2//jjj7rqqquUkZFhTLAKys7Ols1mk91uV3R0tNFxAAAAgFojZdxsSVJkSJDWTRxscJpToxv4Hj4mq6S8vDwlJCSU2h4fH88UdwAAAPiVovwiTX9iuqY/MV1F+UzNPlPDOzeQJOUUOgxOAn9FQa+kXr16acKECSooKPBuy8/P18SJE9WrVy8DkwEAAACVU1RQpF2mXdpl2qWiAgr6mXrgglbecX6R08Ak8FcU9Ep68cUX9csvv6hhw4Y677zzdN555yk5OVlLlizRiy++WOnne+WVV5SSkqLQ0FD17NlTy5YtK3ffAQMGyGQylfoaNmzYmXxLAAAAAKpAwzph3vHz8zcbmAT+isusVVL79u21detWffDBB9q0aZMk6eqrr9a1116rsLCwUzy6pE8++URjx47V1KlT1bNnT73wwgsaPHiwNm/erPj4+FL7f/HFFyoqOv7J5qFDh9SpUyddeeWVZ/ZNAQAAADhjJpPJO169O8u4IPBbFPTTEB4erltvvfWMn+f555/XrbfeqlGjRkmSpk6dqtmzZ+vtt9/WuHHjSu1ft27dErc//vhjhYeHU9ABAAAAH/H4RW315Dcb9PvOw0ZHgR+ioFfArFmzNHToUAUHB2vWrFkn3feSSy6p0HMWFRVpxYoVGj9+vHeb2WzWoEGDtHTp0go9x7Rp0/S3v/1NERERFdofAAAAQPW6ontDPfnNBknSxv3ZapPI6uioOAp6BQwfPlxpaWmKj4/X8OHDy93PZDLJ6azYYhAHDx6U0+kstSJ8QkKCd+r8ySxbtkzr1q3TtGnTTrpfYWGhCgsLvbezs7MrlA8AAABA5UWHBnvHP2w6QEFHpbBIXAW4XC7vOeEul6vcr4qW86owbdo0dejQQT169DjpfpMmTZLNZvN+JScn11BCAAAAIDBd1jVJkrRw8wGDk8DfUNCrQFZWVqUfU69ePVksFqWnp5fYnp6ervr165/0sbm5ufr444918803n/J1xo8fL7vd7v3avXt3pbMCAACgdgqNDNWlvS/Vpb0vVWhkqNFxao3+LeMkifPQUWkU9Ep67rnn9Mknn3hvX3nllapbt66SkpK0Zs2aCj+P1WpVt27dtGDBAu82l8ulBQsWnPJ66p999pkKCwv197///ZSvExISoujo6BJfAAAAgCQFBQep8/md1fn8zgoK5uzXqtKvRZx3nFfkMDAJ/A0FvZKmTp3qnSY+f/58ff/995o7d66GDh2qhx56qFLPNXbsWL355pt69913tXHjRo0ePVq5ubneVd2vv/76EovIHTNt2jQNHz5csbGxZ/4NAQAAAKhSdcJLnocOVBQfk1VSWlqat6B/8803uuqqq3TBBRcoJSVFPXv2rNRzjRw5UhkZGXr88ceVlpamzp07a+7cud6F41JTU2U2l/wMZfPmzVq8eLG+++67qvmGAAAAELCK8ov02X8+kyRdef+VsoZZDU5UO5hMJjWqG67UzDzNXrtfF3VsYHQk+AkKeiXVqVNHu3fvVnJysubOnaunnnpKkuR2u09rkbgxY8ZozJgxZd63cOHCUttatWolt9td6dcBAAAA/qqooEjbird5xxT0qtOzSV2lZubp23VpRkeBH2GKeyVddtlluuaaa3T++efr0KFDGjp0qCRp1apVat68ucHpAAAAAPiCa3o28o4PHCkwMAn8CQW9kv7zn/9ozJgxatu2rebPn6/IyEhJ0v79+3XnnXcanA4AAACAL+jSqI53PH9D+kn2BI5jinslBQcH68EHHyy1/f777zcgDQAAAABf1b9lnH7akqFVqVm6tmdjo+PAD1DQK2DWrFkaOnSogoODNWvWrJPue8kll9RQKgAAAAC+LCE6RJI0d12aJl/ZyeA08AcU9AoYPny40tLSFB8fr+HDh5e7n8lkOq2F4gAAAADUPp2T6+jT5XuUU8i10FExFPQKcLlcZY4BAAAAoDxnpRw/Dz230KGIEOoXTo6/IQAAAECACo0M1eBOg71jVK3m8ZHe8fJdh9W/ZZyBaeAPWMW9ku655x699NJLpba//PLLuu+++2o+EAAAAHCagoKDdPbws3X28LMVFMyxu6pmMpnUq2msJGn5zkyD08AfUNAr6fPPP1efPn1Kbe/du7dmzJhhQCIAAAAAviqlXoQkae0eu8FJ4A8o6JV06NAh2Wy2Utujo6N18OBBAxIBAAAAp6eooEifTf5Mn03+TEUFRUbHqZWGtK8vSfppS4ZcLrfBaeDrKOiV1Lx5c82dO7fU9m+//VZNmzY1IBEAAABweoryi7Qhd4M25G5QUT4FvTqc3bSud/zz1gwDk8AfcKJJJY0dO1ZjxoxRRkaGzj33XEnSggULNGXKFL3wwgvGhgMAAADgU0KCLIqNsOpQbpH+M3+LBrSKNzoSfBgFvZJuuukmFRYW6umnn9a//vUvSVJKSopee+01XX/99QanAwAAAOBrbu/fVM/M2aQ1nIeOU2CK+2kYPXq09uzZo/T0dGVnZ2v79u2UcwAAAABlurpHI+94S/oRA5PA11HQT4PD4dD333+vL774Qm63Z6GHffv2KScnx+BkAAAAAHxNVGiwd7xw8wEDk8DXUdAradeuXerQoYMuvfRS3XXXXcrI8Cz08Nxzz+nBBx80OB0AAAAAX3R514aSpCnfbTE4CXwZBb2S7r33XnXv3l2HDx9WWFiYd/uIESO0YMECA5MBAAAA8FUXd0qUJBU6XN5ZuMBfsUhcJS1atEhLliyR1WotsT0lJUV79+41KBUAAABQeaERoTqn+TneMapPjybHL7eWmpmnxrERBqaBr6KgV5LL5ZLT6Sy1fc+ePYqKijIgEQAAAHB6gqxBGnjtQKNjBIRw6/Hq9fWafRpzbgsD08BXMcW9ki644IIS1zs3mUzKycnRhAkTdOGFFxoXDAAAAIBPS4rxnCK753C+wUngqyjolTR58mT98ssvatu2rQoKCnTNNdd4p7c/99xzRscDAAAAKqyooEizXp6lWS/PUlFBkdFxar2Hh7aWJH38+26Dk8BXMcW9kpKTk7VmzRp98sknWrNmjXJycnTzzTfr2muvLbFoHAAAAODrivKLtOrQKknSufnnyhpqPcUjcCa6N67jHRcUOxUabDEwDXwRBb0SiouL1bp1a33zzTe69tprde211xodCQAAAICfSLQdX4jvsxV7dN3ZjQ1MA1/EFPdKCA4OVkFBgdExAAAAAPghk8mkLo1iJEkZ2fQKlEZBr6S77rpLzz33nBwOh9FRAAAAAPiZwe3qS5Je+mGbwUngi5jiXkm///67FixYoO+++04dOnRQRETJ6xd+8cUXBiUDAAAA4Ov6Nq/nHdvzi2ULCzYwDXwNBb2SYmJidPnllxsdAwAAAIAfap9kU1RokI4UOPTFyj0a1aeJ0ZHgQyjolfTOO+8YHQEAAACAH7NaPGcaH87l0nYoiXPQK8jlcum5555Tnz59dNZZZ2ncuHHKz883OhYAAABw2kIjQnV2w7N1dsOzFRoReuoHoEpc0a2hJGn+xgMGJ4Gv4Qh6BT399NN64oknNGjQIIWFhenFF1/UgQMH9PbbbxsdDQAAADgtQdYgDb55sNExAk7rxChJ0rYDRwxOAl/DEfQKeu+99/Tqq69q3rx5+uqrr/T111/rgw8+kMvlMjoaAAAAAD/So0msJKnY6dbBnEKD08CXUNArKDU1VRdeeKH39qBBg2QymbRv3z4DUwEAAACnz1Hk0Lxp8zRv2jw5iriMcE1JiglTA5vnlIJPft9tcBr4Egp6BTkcDoWGljwvJzg4WMXFxQYlAgAAAM5MQW6Bft3zq37d86sKcguMjhNQejSpK0matZoDfjiOc9AryO1268Ybb1RISIh3W0FBge64444S10LnOugAAAAATiUxJkyStDmd89BxHAW9gm644YZS2/7+978bkAQAAACAvxvUJkGvLfxTkpRb6FBECNUMFPQK4/rnAAAAAKpK10Yx3vGSPw/p/LYJxoWBz+AcdAAAAACoYSaTSQ3reKa5v7lou8Fp4Cso6AAAAABggHNaxkmSlu3INDgJfAUFHQAAAAAMcHnXJO/4SAFXhwIFHQAAAAhY1jCrusR2UZfYLrKGWY2OE3C6NqrjHS/585CBSeArWCQOAAAACFDWUKsuGXOJ0TEClslkUr3IEB3MKdRv2zM1uF19oyPBYBxBBwAAAACDHFu9/dPluw1OAl/AEXQAAAAgQDmKHFr02SJJUr8r+ynISj2oaSmx4ZKkcKvF4CTwBbwDAQAAgABVkFugn7f9LEk6K/csRVojDU4UeM5qUleSdOBIodxut0wmk8GJYCSmuAMAAACAQdo3sMli9pTy33ceNjgNjEZBBwAAAACDWIPMcrrckqR1e+0Gp4HRKOgAAAAAYKBOyTGSpJxCh7FBYDgKOgAAAAAY6OKOiZKkL1ftNTgJjEZBBwAAAAADNY6NkCTtOJhrcBIYjYIOAAAAAAZqmXB89fyCYqeBSWA0LrMGAAAABChrmFVtI9p6xzBGcp1w73i/vUBN6kUYmAZGoqADAAAAAcoaatWVD15pdIyAZzab1LBOmPYcztdPmw+oSb0mRkeCQZjiDgAAAAAG690sVpL0xNcbDE4CI3EEHQAAAAhQjmKHls9eLknqPqy7goKpB0ZpXT/a6AjwAbwDAQAAgABVkFOgeWvmSZLa92+vyDqRp3gEqkv3lDrescvlltlsMjANjMIUdwAAAAAwWLsGNu/4tx2ZBiaBkSjoAAAAAGAwi9mkqFDPBOcvV+0xOA2MQkEHAAAAAB8QFxUiSfp1O0fQAxUFHQAAAAB8wKQRHSRJqZl5KnK4DE4DI1DQAQAAAMAHnJVS1ztelXrYwCQwCgUdAAAAAHyA+YTz0Of8sd/gNDACBR0AAAAIUNZQq5oHN1fz4OayhlqNjgNJTeM8l7rbfjDX4CQwAtdBBwAAAAKUNcyqa/95rdExcILbz2mqOz9YqUVbDxodBQbgCDoAAAAA+Igm9SK8Y6fLbWASGIGCDgAAAAQoR7FDq+ev1ur5q+UodhgdB5JaxEd6xzsO5hiYBEagoAMAAAABqiCnQDOXzNTMJTNVkFNgdBxICrIcr2ifLt9jYBIYgYIOAAAAAD4kITpEkvTOLzsMToKaRkEHAAAAAB8y5twWkqRiJ+egBxoKOgAAAAD4kAvb1/eOixwuA5OgplHQAQAAAMCHxIQfvyZ9Zm6RgUlQ0yjoAAAAAOBDLGaTd7zfnm9gEtQ0CjoAAAAA+JiujWIkSfuyWF0/kFDQAQAAgABlDbWqsbuxGrsbyxpqPfUDUGOS64ZLkt5dstPYIKhRQUYHAAAAAGAMa5hVNz5xo9ExUIakmDBJ0qa0bIOToCZxBB0AAAAAfMyNvVMkSdkFDs5DDyAUdAAAACBAuZwubVqySZuWbJLLyeW8fEl8dKjiokIkSct3HjY4DWoKBR0AAAAIUHnZefpk/if6ZP4nysvOMzoO/qJ9g2hJ0szV+wxOgppCQQcAAAAAH2QLC5Yk/bE3y9ggqDEUdAAAAADwQR0bxkiS0rMLjQ2CGkNBBwAAAAAfdGGHRO94bxYLxQUCCjoAAAAA+KD6tlBFhXqujL1md5axYVAjKOgAAAAA4KPaJHoWivt0+W6Dk6AmUNABAAAAwEcNahMvSdp5MNfgJKgJQUYHAAAAAGAMa6hViUWJ3jF8T4v4KElSVn6xwUlQEyjoAAAAQICyhll129O3GR0DJ3FWk7qSpKy8Yi3bkakeR2+jdmKKOwAAAAD4qMiQIPVtXk+S9PmKPQanQXWjoAMAAAAByuV0KXVdqlLXpcrldBkdB+VoHh8pSVq1+7DBSVDdKOgAAABAgMrLztM7n7+jdz5/R3nZeUbHQTmOFfQt6TkGJ0F1o6ADAAAAgA9rVT/KO3a53AYmQXWjoAMAAACAD+ucHOMdbz3AUfTajIIOAAAAAD4s2GKW1eKpbst2ZhqcBtWJgg4AAAAAPq5381hJ0pa0IwYnQXWioAMAAACAj2tcN1yStPNQrsFJUJ0o6AAAAADg4wa2jpckLdp60OAkqE5BRgcAAAAAYIwga5Di8uK8Y/iuhOhQ79jlcstsNhmYBtWFI+gGe+WVV5SSkqLQ0FD17NlTy5YtO+n+WVlZuuuuu5SYmKiQkBC1bNlSc+bMqaG0AAAAqE1CI0J153N36s7n7lRoROipHwDDHLsWuiQdOFJoYBJUJwq6gT755BONHTtWEyZM0MqVK9WpUycNHjxYBw4cKHP/oqIinX/++dq5c6dmzJihzZs3680331RSUlINJwcAAABQk4ItZjWO9ZyH/vYvOwxOg+rCPBYDPf/887r11ls1atQoSdLUqVM1e/Zsvf322xo3blyp/d9++21lZmZqyZIlCg4OliSlpKTUZGQAAADUIi6XS4f2HJIkxTaMldnM8TtfFhLk+e+zOjXL2CCoNrwDDVJUVKQVK1Zo0KBB3m1ms1mDBg3S0qVLy3zMrFmz1KtXL911111KSEhQ+/bt9cwzz8jpdJb7OoWFhcrOzi7xBQAAAEhSnj1Pr77zql5951Xl2fOMjoNTOLtprNERUM0o6AY5ePCgnE6nEhISSmxPSEhQWlpamY/Zvn27ZsyYIafTqTlz5uixxx7TlClT9NRTT5X7OpMmTZLNZvN+JScnV+n3AQAAAKBmtGsQLUnanM610GsrCrofcblcio+P1xtvvKFu3bpp5MiReuSRRzR16tRyHzN+/HjZ7Xbv1+7du2swMQAAAICq0iIhSpJkzy9WQXH5s2jhvzgH3SD16tWTxWJRenp6ie3p6emqX79+mY9JTExUcHCwLBaLd1ubNm2UlpamoqIiWa3WUo8JCQlRSEhI1YYHAAAAUOO6JMd4xxv3Z6tLozrGhUG14Ai6QaxWq7p166YFCxZ4t7lcLi1YsEC9evUq8zF9+vTRtm3b5HK5vNu2bNmixMTEMss5AAAAgNrDZDIp3Oo5WLd2j93gNKgOFHQDjR07Vm+++abeffddbdy4UaNHj1Zubq53Vffrr79e48eP9+4/evRoZWZm6t5779WWLVs0e/ZsPfPMM7rrrruM+hYAAAAA1KCU2AhJ0g+byr40M/wbU9wNNHLkSGVkZOjxxx9XWlqaOnfurLlz53oXjktNTS1xqYvk5GTNmzdP999/vzp27KikpCTde++9evjhh436FgAAAADUoObxkdqwP1vZBcVGR0E1oKAbbMyYMRozZkyZ9y1cuLDUtl69eunXX3+t5lQAAAAIBEHWINU5Usc7hu87p2WcZq3Zpx0Hc42OgmrAuxAAAAAIUKERobpn8j1Gx0AlDGgVJ0nKyitWZm6R6kawFlVtwjnoAAAAAOAn6kUev0LTmj1ZxgVBtaCgAwAAAAHK5XIp53COcg7nlLhSEHxbVIhnIvTmtCMGJ0FVo6ADAAAAASrPnqcpL03RlJemKM+eZ3QcVFBiTKgk6QgLxdU6FHQAAAAA8CPtGtgkSbsO8aFKbUNBBwAAAAA/khQTJkmy53MEvbahoAMAAACAH+nW2HNpvEVbDxqcBFWNgg4AAAAAfiQmPNjoCKgmFHQAAAAA8CPHprhLksPJ6vu1CQUdAAAAAPzIiddC35XJQnG1CQUdAAAACFBBwUGKskcpyh6loOAgo+Oggsxmk3e87UCOgUlQ1XgXAgAAAAEqNDJUY58fa3QMnIakmDDtzcrXbo6g1yocQQcAAAAAPzO4XX1J0vcb0w1OgqpEQQcAAAAAPxMRYpEk/bo90+AkqEoUdAAAACBA5RzO0cSJEzVx4kTlHOZcZn8yoFW80RFQDSjoAAAAAOBnWiREesc5hQ4Dk6AqUdABAAAAwM9EhQTJcnQ19/kb0gxOg6pCQQcAAAAAP2MymdQ4NlySNGv1PoPToKpQ0AEAAADAD9WLDJEkNYgJMzgJqgoFHQAAAAD80AVtEyRJCzdnGJwEVYWCDgAAAAB+KC7KcwQ93GoxOAmqSpDRAQAAAAAYIyg4SOFZ4d4x/EvHhjGSpK0HclRQ7FRoMEXd3/EuBAAAAAJUaGSoHvrPQ0bHwGlKObpInCQt3HxAQ9onGpgGVYEp7gAAAADgh0wmk1rXj5IkbT+Ya3AaVAUKOgAAAAD4qQva1ZckLdh4wOAkqApMcQcAAAACVM7hHE2ZPEWS9MCDDyiyTqTBiVBZtrBgSVJ+kdPgJKgKFHQAAAAgkFmNDoAzcew89A37sw1OgqrAFHcAAAAA8FON6h5fKM7tdhuYBFWBgg4AAAAAfqrRCSu5ZxwpNDAJqgIFHQAAAAD8VEiQRQ1soZKk33ceNjgNzhQFHQAAAAD8WMOj09zX7skyNgjOGAUdAAAAAPxY28RoSVJqZp7BSXCmWMUdAAAACFBmi1khh0O8Y/inMKtFkpSWXWBwEpwpCjoAAAAQoMKjwzXuhXFGx8AZalovQpLkcLKKu7/jYzIAAAAA8GONYz0F/Y+9doOT4ExR0AEAAADAj9WNsEqSLGaTnC6OovszCjoAAAAQoHIO52jiuImaOG6icg7nGB0Hp6nJ0SnuTpdb+7LyDU6DM0FBBwAAAAJZ2NEv+C2L2aRGRy+1tvswK7n7Mwo6AAAAAPi5hnU8n7JsTWcmhD+joAMAAACAn0uu4zmCPmPFHoOT4ExQ0AEAAADAzx07gs5K7v6Ngg4AAAAAfq59Q5uk4yu6wz9R0AEAAADAz3VNriNJyswtUsaRQoPT4HRR0AEAAIAAZbaYFZwVrOCsYJktVAN/ZgsPlsVskiQt2pphcBqcriCjAwAAAAAwRnh0uP75n38aHQNVJDIkSPb8YqVncwTdX/ExGQAAAADUAt0ae6a5b0k/YnASnC4KOgAAAADUAvFRIZIkl9ttcBKcLgo6AAAAEKDy7Hl68sEn9eSDTyrPnmd0HJyh9kmeldxTM/lv6a84Bx0AAAAIUC6XS+4ot3cM/9bx6KXWVqVmGRsEp40j6AAAAABQCyTawrzjIgcfuPgjCjoAAAAA1AL1Iq3e8dYDLBTnjyjoAAAAAFALmEwm73hfVoGBSXC6KOgAAAAAUEt0OnoeesYRroXujyjoAAAAAFBLdDha0HceyjU4CU4HBR0AAAAIUGazWRa7RRa7RWYz1aA2aFQ3XJI0b32awUlwOrjMGgAAABCgwm3hevT5R42OgWoQFmwxOgJOAx+TAQAAAEAtkRIbIUnadSjP4CQ4HRR0AAAAAKglosOCJUlFTq6D7o+Y4g4AAAAEqDx7np6f+LwkaeyEsQq3hRucCGfq2LXQnS63wUlwOjiCDgAAAAQol8slp80pp80pl4sjrrVBfHSod5xb6DAwCU4HBR0AAAAAaomokOOTpLPyiw1MgtNBQQcAAACAWsJkMik2wjPN/UB2gcFpUFkUdAAAAACoRQ7lFkmSihyctuBvKOgAAAAAUIt0SLJJknI4B93vUNABAABQM554QjKZPF/Tpx/fnpJyfDuAMxYT7rnU2qGcIoOToLIo6AAAAP7oxLJ77CsoSIqPl4YMkb791uiExkhLk+64Q0pOlqxWz5+jR0vp6RV/DqdT+u9/pZ49pehoz8+1Xj1p0CDp889L7jtgQOn/Dn/9OvHDCB9jNptlOmKS6YhJZjPVoLaoFxkiSfp9Z6bBSVBZXAcdZXI6nSouZtVHINAFBwfLYrEYHQNARTmdUkaGNG+e9N130pdfSpdeanSqmrN7t9S7t7Rnz/Fte/ZIU6dKc+ZIS5ZISUmnfp7bb5emTSu57dAhacECz9err3pKf0UFB1d83xoWbgvX45MfNzoGqpjj6DXQ/8zIMTgJKouCjhLcbrfS0tKUlZVldBQAPiImJkb169eXiamngO8aOlT65z+lgwc9R9bXrJHcbs9R4EAq6Pfee7ycX3aZdMMN0rvvSl98IaWmSvfdJ3322cmfIytLeued47efespzJH3aNOnjjz3bTizo//2vZLeXfI7Dhz0/d7dbCg31zGgAalBClOcIemJMmMFJUFkUdJRwrJzHx8crPDycf5ADAcztdisvL08HDhyQJCUmJhqcCEC54uOlvn09Y5dLuvxyz3j37tL7rl0rTZokLVzoOSocF+cp+E88ITVsWHLf/HzpP/+RZsyQtmzxFM6UFM/zP/mkZ5+ff/aU1NWrPUfv8/I808H79pUefVTq2PH0v68BA6SffvKMd+zwvHZ50tKkmTM9Y5tN+uADTzm+4AKpfn1Pif7yS89U94SE8p/nyBHPz1DyfB+PPOIZJyYeL+iOExbe6tCh9HNMmeL5WUnSyJFSbOypvlOgSrVMiJIkbU47YnASVBYFHV5Op9NbzmP5HwkASWFhnk/eDxw4oPj4eKa7A//f3p2HRVX2fQD/Dtuwg4qIIOBCKJqgohjyKmoYLvGIuSYpGpqmuJGW1quQZvaaiGW45AK2ueXyuCeiGG6PpmC4Ea48GWgmguwI9/vHkYGRAcGAmaHv57rmauac+5zzO8fTML9zb9qgNDEEAFtb5XUHDwJDhgAFBWXL/vhDqh3ev19qAt6qlbQ8Kwvw9pYS7/KuXAFycsoS9FOnpAS+vLQ0qaZ6/37gl18AF5daObUqnTpVllh36SIl54D03y5dgGPHpC4Ap08D/v6V76dFC8DJCbh+XWqRsHixVIO+fn1Zmbfeqnx7IaQm9aWmTn3hU6oPuVm5WBG6AgAw8+OZMDY3Vm9AVCtK69iKijnNmrZhgk4KpX3OjY35xUxEZUq/E4qKipigE2mq+/eBEyekhHLRorLlkyaVvc/NlZp8FxRIg559/DHQrRtw5AiwdKlUAz1lStngch99VJacN24MzJ8vJdopKcC+fWX79fCQatAdHQEzM6l2+cIF4IMPpGNGRABff13nlwC3b5e9f7aG3Nq67P2tW1XvRyaTatpHjwaSkqRWAKWaNJGub1X9zw8flpJ7QLq+3bpVK3x1KSkuQZFlkeI9NQzW5tIDqjt/5ao5EqopJuhUAZu1E1F5/E4g0gIHDyqP2m5tDXz+OTBqVNmyw4elJugA0K8f0KuX9N7PD9i2TUpwf/pJSvIbNwZ++KFs282bpabiAODrCwQHl6175RUgPl5Kwm/ckJLy8n755cXPKy6u+mVzcsreGxgoryv/uXy5yjRqBLRvLyXo5f31l9Qy4I03Km8mHxlZ9l7Da8+p4Wr0dJo1CyPNHaCQVONcCkTV0LJlS6xYseKFt4+OjoalpWWtxaOt4uLiIJPJ6mUQwr/++gvW1ta4Xb5GhZRcuXIFLVq0QE51fqwSkXb580/g8mXlZb/9Vvb+4EGgZ8+yV+l3pRDAtWtSkv7w6fRMcrk0vVhl3nxT6r+elFQxOQekQdfqg4lJ2fvyTfgBoLBQdTlVioqAPn2ArVulc4+NBbKzpX7lgNRUfswY1dumpkrN+gGptn3kyJqdA1EtaWQsPZTKzOOsTNqGCTppvXHjxsG/qr5kteDcuXN45513qlVWVTI/cuRI/Fb+h9Fz9O7dGzKZDDKZDIaGhnB2dsaSJUsgyvcr1EI9evRAWloaLCws6vxYixcvxuDBg9FSxYBCvr6+0NXVxblz5yqsGzdunOLaGxgYwMnJCQsXLsST8gMC1bL8/HxMnToVTZo0gampKYYOHYp7z5mv9969exg3bhxsbW1hbGyM/v37IyUlRWVZIQQGDBgAmUyG3bt3K5a3b98er7zyCpYvX16bp0NE6hAYKCWWhw4BxsZSor10KbB3b8339exDu9K5vFVJTQX27JHem5pKo5vHxSnXfJfUU7Pp8t/3z36HpqeXvS/tY1+ZuDipGT8A9O0rvUxMgJAQ6doCQEyM6ocRa9aUnW9QUFk/eKJ6Ziovayhd+IRdF7QJE3SiamjatOnf6ptvZGQE6/L936ph4sSJSEtLQ3JyMubNm4cFCxZgTflBZ+pAYfkahjpgYGBQL9N15ebmYsOGDQgKCqqwLjU1FadOnUJwcDA2btyocvv+/fsjLS0NKSkpeO+99xAWFobPP/+8zuKdNWsW9u7di+3bt+P48eP4448/8MYbb1RaXggBf39/3Lx5E//+97+RkJAAR0dH+Pj4qKwNX7FiRaXXfPz48Vi9enWdPoAgonqipyc1P3///bJl8+eXvXd2LnsfGCgl8c++cnKkfVhZSc28ASA/X+qnrsrdu2XvfX2lvtne3lLNc33r0QPQefrTNiFBihuQ/puQIL3X1QU8Pavez4MHZe+zy80hnZ8vPQRRtQ6QaulL507X0anZPOlEtczMsCxBzyng33htwgSdGrzjx4/Dw8MDcrkczZs3x9y5c5WSkcePHyMgIAAmJiZo3rw5IiIi0Lt3b8ycOVNRpnytuBACYWFhcHBwgFwuh62tLaZPnw5Aqvm+c+cOZs2apaiFBVQ3cd+7dy+6desGQ0NDWFlZYciQIUrrjY2NYWNjA0dHR4wfPx6urq6IiYlRrC8oKMDs2bNhZ2cHExMTdO/eHXHP9NVbt24d7O3tYWxsjCFDhmD58uVKcYSFhaFTp05Yv349WrVqBcOnT/ofPXqECRMmoGnTpjA3N0ffvn1x8eJFxXYXL15Enz59YGZmBnNzc7i7u+OXp30M79y5Az8/PzRq1AgmJibo0KEDDhw4AEB1E/cdO3agQ4cOkMvlaNmyJcJLmxCWu/affvop3n77bZiZmcHBwQFfP2ewoQMHDkAul+OVV16psC4qKgqvv/463n33XWzevBl5eXkVysjlcsW1f/fdd+Hj44M9pTVEtSwzMxMbNmzA8uXL0bdvX7i7uyMqKgqnTp3CmTNnVG6TkpKCM2fOYPXq1ejWrRvatm2L1atXIy8vD5s3b1Yqm5iYiPDw8EofRvTr1w8PHz7E8dJpjIhI+02bVlbTe/Gi1PcckPqdN20qvf/mG6lG+OBBacC3r76Smqp37Sqt19GRBkkrNXo08OWX0r7WrAEGDpSWOzqWlTl6VOqrvm1b1aOc10Tv3mU1+M/rsmRjUzbne2amdD5790qxZ2VJy4cMUe47Xrrv8rXvHTqUvY+Pl+ZBP3wYePvtsgTd1rbsWpbavl0arA+Qrk9VU8IR1TE9XR3I9aRU72Fu3VbAUO1igk4N2t27dzFw4EB069YNFy9exOrVq7FhwwZ88sknijIhISE4efIk9uzZg5iYGMTHx+PChQuV7nPHjh2IiIjA2rVrkZKSgt27d6Pj0zlQd+7ciRYtWmDhwoVIS0tDWlqayn3s378fQ4YMwcCBA5GQkIDY2Fh4eHioLCuEQHx8PK5duwaDcoPcBAcH4/Tp09iyZQt+/fVXDB8+XKmZ88mTJzF58mTMmDEDiYmJ6NevHxYvXlxh/9evX8eOHTuwc+dOJD4drXf48OG4f/8+Dh48iPPnz6NLly549dVX8fBpf8SAgAC0aNEC586dw/nz5zF37lzo60uDkEydOhUFBQX4+eefkZSUhP/7v/+DqampynM7f/48RowYgVGjRiEpKQlhYWGYP38+oqOjlcqFh4eja9euSEhIwJQpU/Duu+8iOTm5kn8hID4+Hu7u7iqvZVRUFN566y20a9cOTk5O+PHZqYFUMDIyqrJ1wYABA2Bqalrpq0P5H3sqrkFRURF8yvXvbNeuHRwcHHD69GmV2xQ87VtpWK7ppI6ODuRyOU6cOKFYlpubi9GjRyMyMhI2NjYq92VgYIBOnTohPj6+0hiJSMs0bgyMH1/2ubQFkIkJEB0t1W4LIY2uPnCgNEjctGnSHN/lm20vXlw2h/mDB8CMGWW15FeuSMttbYFBg6T3GRlSMjxypJQsq8MXX5TN5b57N/Cvf0kjsgOAgwNQnfFkXF2BESPKPs+fL513+QegS5ZUbPa/alXZe20bHC7v6YsalIKnTdtzC4rVHAnViKB/lMzMTAFAZGZmVliXl5cnrly5IvLy8hTLSkpKRE5BUb2/SkpKqn1OgYGBYvDgwSrXffjhh6Jt27ZK+4uMjBSmpqaiuLhYZGVlCX19fbF9+3bF+kePHgljY2MxY8YMxTJHR0cREREhhBAiPDxcODs7i8LCQpXHLF+2VFRUlLCwsFB89vT0FAEBAZWek7e3t9DX1xcmJiZCX19fABCGhobi5MmTQggh7ty5I3R1dcXdu3eVtnv11VfFvHnzhBBCjBw5UgwaNEhpfUBAgFIcoaGhQl9fX9y/f1+xLD4+Xpibm4v8/Hylbdu0aSPWrl0rhBDCzMxMREdHq4y9Y8eOIiwsTOW6Y8eOCQAiIyNDCCHE6NGjRb9+/ZTKzJkzR7Rv317x2dHRUbz11luKzyUlJcLa2lqsXr1a5TGEEGLw4MHi7bffrrD88OHDomnTpqKoqEgIIURERITw9vZWKlP+fiopKRExMTFCLpeL2bNnV3q833//XaSkpFT6un37dqXbfv/998LAwKDC8m7duon3339f5TaFhYXCwcFBDB8+XDx8+FAUFBSIzz77TAAQr732mqLcO++8I4KCghSfAYhdu3ZV2N+QIUPEuHHjKo1R1XcDEWmA0NCyxumBgcrrUlKE0NEpW3/hQtm6pCQhxowRokULIfT1hbCyEqJTJyFCQoQ4e1Z5Pzk5QixaJISbmxBGRkIYGwvh4iLE/PllZR4+lI5vZSWEpaW074cPy47t6Kg65qiosuWOjmXLy/P2Llt+61b1rktamhCTJglhZyedn52d9Dk9vWJZVTEKIURRkRArVgjh4SGEmZkQurpCNGkiRP/+Qhw8WHE/iYll+3JyEqIGv2OI6krfZceE4wf7xL8T71ZapqrcgNSD06xRlfKKitF+wU/1ftwrC31hbPD3b8+rV6/C09NTqf+tl5cXsrOz8fvvvyMjIwNFRUVKtdcWFhZo27ZtpfscPnw4VqxYgdatW6N///4YOHAg/Pz8oKdX/XgTExMxceLEKssEBATgo48+QkZGBkJDQ9GjRw/06NEDAJCUlITi4mI4l+9PCKlmtUmTJgCA5OTkCs3mPTw8sK/83LUAHB0d0bRcM72LFy8iOztbsZ9SeXl5uHHjBgCp1cGECRPw7bffwsfHB8OHD0ebNm0AANOnT8e7776Lw4cPw8fHB0OHDoVraQ3MM65evYrBpc0Rn/Ly8sKKFStQXFysmHO7/PYymQw2Nja4X9qMUIW8vDyl2uVSGzduxMiRIxX/Vm+++SbmzJmDGzduKOIHgH379sHU1BRFRUUoKSnB6NGjERYWVunx7OzsKl1XF/T19bFz504EBQWhcePG0NXVhY+PDwYMGKAYSHDPnj04evQoEkr7XVbByMgIuaoGOyIizRYWJr1UcXICiiupNXv5ZamJe3UYG0vzgJefC/xZjRpJNfPPUjWwaWUxV9Z8vSbTrJWysZGa4VdHZYOv6ulJLQZmzKjeftzcKt8XkZr8lSO1/nvC+e21Cpu4E9WQvb09kpOTsWrVKhgZGWHKlCno1asXioqqP42FkZHRc8tYWFjAyckJ3bp1w7Zt2/DVV1/hyNNBerKzs6Grq4vz588jMTFR8bp69Sq++OKLGp2PyTPTzWRnZ6N58+ZK+01MTERycjLmzJkDQOq7fvnyZQwaNAhHjx5F+/btsetpE8IJEybg5s2bGDNmDJKSktC1a1esXLmyRjE9q7T5fCmZTIaSKkYFtrKyQkZGhtKyhw8fYteuXVi1ahX09PSgp6cHOzs7PHnypEL/7D59+iAxMREpKSnIy8vDpk2bKlyn8v5OE3cbGxsUFhZWmHru3r17lTZLBwB3d3ckJibi0aNHSEtLw6FDh/DXX3+hdevWAICjR4/ixo0bsLS0VJwvAAwdOhS9e/eucG2aPtuXkoiIiLRaRztp1pybf3I6VW3CGnSqkpG+Lq4s9FXLcWuDi4sLduzYASGEohb95MmTMDMzQ4sWLdCoUSPo6+vj3LlzcHBwACAN2vXbb7+hV69elcdnZAQ/Pz/4+flh6tSpaNeuHZKSktClSxcYGBiguLJai6dcXV0RGxuL8eX7CFbB1NQUM2bMwOzZs5GQkIDOnTujuLgY9+/fR8+ePVVu07Zt2wrTiKmaVuxZXbp0QXp6OvT09FROUVbK2dkZzs7OmDVrFt58801ERUUpauzt7e0xefJkTJ48GfPmzcO6deswbdq0CvtwcXHByZMnlZadPHkSzs7OitrzF9G5c2d89913Ssu+//57tGjRQmmaMQA4fPgwwsPDsXDhQsUxTUxM4OTkVO3jrV+/XuVgc6WefcBQnru7O/T19REbG4uhQ4cCkFo/pKamwvN5Iw0DiinrUlJS8Msvv2DRokUAgLlz52LChAlKZTt27IiIiAj4+fkpLb906RKGDRv23GMREVHDk5uViy8XfAkAmL5wOozNX3zWGtIs2U9Hby8/ojtpPv5rUZVkMlmtNDWva5mZmYoBzko1adIEU6ZMwYoVKzBt2jQEBwcjOTkZoaGhCAkJgY6ODszMzBAYGIg5c+agcePGsLa2RmhoKHR0dCqdlio6OhrFxcXo3r07jI2N8d1338HIyAiOT0eybdmyJX7++WeMGjUKcrkcVlZWFfYRGhqKV199FW3atMGoUaPw5MkTHDhwAB988EGl5zhp0iQsWrQIO3bswLBhwxAQEICxY8ciPDwcnTt3xp9//onY2Fi4urpi0KBBmDZtGnr16oXly5fDz88PR48excGDB587xZmPjw88PT3h7++PpUuXwtnZGX/88YdiYLsOHTpgzpw5GDZsGFq1aoXff/8d586dUySXM2fOxIABA+Ds7IyMjAwcO3YMLi4uKo/13nvvoVu3bli0aBFGjhyJ06dP46uvvsKq8gPtvABfX1/MmzcPGRkZaPR0mqANGzZg2LBhePnll5XK2tvbY968eTh06BAGlQ50VEN/p4m7hYUFgoKCEBISgsaNG8Pc3BzTpk2Dp6en0ij07dq1w5IlSxQPQbZv346mTZvCwcEBSUlJmDFjBvz9/fHaa68BkGrmVdXAOzg4oFW5OYBv376Nu3fvKg1SR0RE/xwlxSUoaFSgeE8NRzsbcySkPlIMFkfagU3cqUGIi4tD586dlV4ff/wx7OzscODAAZw9exZubm6YPHkygoKC8L/l+tItX74cnp6eeP311+Hj4wMvLy+4uLio7MMMAJaWlli3bh28vLzg6uqKI0eOYO/evYo+2wsXLsTt27fRpk2bSpsN9+7dG9u3b8eePXvQqVMn9O3bF2fPnq3yHBs3boyxY8ciLCwMJSUliIqKwtixY/Hee++hbdu28Pf3V2oJ4OXlhTVr1mD58uVwc3PDoUOHMGvWrErPq5RMJsOBAwfQq1cvjB8/Hs7Ozhg1ahTu3LmDZs2aQVdXF3/99RfGjh0LZ2dnjBgxAgMGDMDHH38MACguLsbUqVPh4uKC/v37w9nZudKEu0uXLti2bRu2bNmCl19+GQsWLMDChQsxbty4KmN8no4dOyr2DUgjpV+8eFHxEKE8CwsLvPrqq9hQOnetGkREROD111/H0KFD0atXL9jY2GDnzp1KZZKTk5GZman4nJaWhjFjxqBdu3aYPn06xowZU2GKterYvHkzXnvtNcUDJiIiImoYDPWlVC/xv4/UGwjViEwIjmjxT5KVlQULCwtkZmbC3NxcaV1+fj5u3bqlNB/2P1FOTg7s7OwQHh6OoKAgdYdTqyZOnIhr1679I6bU2r9/P+bMmYNLly5BR4fPIlUpLCzESy+9hB9++AFeXl6VluN3AxFRw5WdkY3wL8MBAO9Nfw+mjVRPjUraJ2RbInZeuIueL1nh26DuKstUlRuQemh+22WiOpaQkIBr167Bw8MDmZmZWLhwIQBUGF1cGy1btgz9+vWDiYkJDh48iE2bNv3t5uPaYtCgQUhJScHdu3dhb2+v7nA0UmpqKj788MMqk3MiIiLSTm2aSg9b8go5D7o2YYJOBCmRTU5OhoGBAdzd3REfH6+y77i2OXv2LJYuXYrHjx+jdevW+PLLLysMHNaQzZw5U90haDQnJ6caDYZHRERE2qOpqRwAoK/LloTahAk6/eN17twZ58+fV3cYdaK0DzYRERER/bM0s5C6pf2ZXaDmSKgmmKATEREREf2TFao7AKoLzcylGvTr97PVHAnVBBN0IiIiIqJ/KNNGpghdHKruMKgOmBvqAwB0daqeYpc0CzskUAUc2J+IyuN3AhERkfYx0tcFABSXCBSX8G+5tmCCTgr6+tJTttzcXDVHQkSapPQ7ofQ7goiIiDSfvl5ZqldUXKLGSKgm2MSdFHR1dWFpaYn79+8DAIyNjSGTsUkM0T+VEAK5ubm4f/8+LC0toaurq+6QiIioluVn52Pl/JUAgGmLpsHQ1FDNEVFt0dct+x1fWFwCQ33+HdcGTNBJiY2NDQAoknQiIktLS8V3AxERNSxPip4g1zJX8Z4aDoNy06vlFDxR9EknzcYEnZTIZDI0b94c1tbWKCoqUnc4RKRm+vr6rDknIiLSQuVbwhY9YR90bcEEXc0iIyPx+eefIz09HW5ubli5ciU8PDxUlo2Ojsb48eOVlsnlcuTn59d6XLq6uvxRTkRERESkxRqbGOBhTiEKnhSrOxSqJg4Sp0Zbt25FSEgIQkNDceHCBbi5ucHX17fK5uXm5uZIS0tTvO7cuVOPERMRERERkbaQPx0oLreQCbq2YIKuRsuXL8fEiRMxfvx4tG/fHmvWrIGxsTE2btxY6TYymQw2NjaKV7NmzeoxYiIiIiIi0hYmcqnBdFY+u65qCyboalJYWIjz58/Dx8dHsUxHRwc+Pj44ffp0pdtlZ2fD0dER9vb2GDx4MC5fvlwf4RIRERERkZYpTdALijjNmrZgH3Q1efDgAYqLiyvUgDdr1gzXrl1TuU3btm2xceNGuLq6IjMzE8uWLUOPHj1w+fJltGjRQuU2BQUFKCgoUHzOzMwEAGRlZdXSmRARERGRtsrOylaMZ5SVlYUSXSZyDYluUR5KCnLx8NEjZGUZVVhfmhMIwUHkNAUTdC3i6ekJT09PxecePXrAxcUFa9euxaJFi1Rus2TJEnz88ccVltvb29dZnERERESkfT777DN1h0B1ZOSKqtc/fvwYFhYW9RILVY0JuppYWVlBV1cX9+7dU1p+7969as83rK+vj86dO+P69euVlpk3bx5CQkIUnx89egRHR0ekpqbyf0KqE1lZWbC3t8d///tfmJubqzscaqB4n1Fd4z1G9YH3GdW1591jQgg8fvwYtra2aoiOVGGCriYGBgZwd3dHbGws/P39AQAlJSWIjY1FcHBwtfZRXFyMpKQkDBw4sNIycrkccrm8wnILCwv+IaA6ZW5uznuM6hzvM6prvMeoPvA+o7pW1T3GSjvNwgRdjUJCQhAYGIiuXbvCw8MDK1asQE5OjmKu87Fjx8LOzg5LliwBACxcuBCvvPIKnJyc8OjRI3z++ee4c+cOJkyYoM7TICIiIiIiolrABF2NRo4ciT///BMLFixAeno6OnXqhEOHDikGjktNTYWOTtlA+xkZGZg4cSLS09PRqFEjuLu749SpU2jfvr26ToGIiIiIiIhqCRN0NQsODq60SXtcXJzS54iICERERPyt48nlcoSGhqps9k5UG3iPUX3gfUZ1jfcY1QfeZ1TXeI9pH5ngmPpEREREREREaqfz/CJEREREREREVNeYoBMRERERERFpACboRERERERERBqACToRERERERGRBmCC3gBFRkaiZcuWMDQ0RPfu3XH27Nkqy2/fvh3t2rWDoaEhOnbsiAMHDtRTpKStanKPrVu3Dj179kSjRo3QqFEj+Pj4PPeeJAJq/l1WasuWLZDJZPD396/bAEnr1fQee/ToEaZOnYrmzZtDLpfD2dmZfzPpuWp6n61YsQJt27aFkZER7O3tMWvWLOTn59dTtKRtfv75Z/j5+cHW1hYymQy7d+9+7jZxcXHo0qUL5HI5nJycEB0dXedxUvUxQW9gtm7dipCQEISGhuLChQtwc3ODr68v7t+/r7L8qVOn8OabbyIoKAgJCQnw9/eHv78/Ll26VM+Rk7ao6T0WFxeHN998E8eOHcPp06dhb2+P1157DXfv3q3nyEmb1PQ+K3X79m3Mnj0bPXv2rKdISVvV9B4rLCxEv379cPv2bfz4449ITk7GunXrYGdnV8+Rkzap6X32ww8/YO7cuQgNDcXVq1exYcMGbN26FR9++GE9R07aIicnB25uboiMjKxW+Vu3bmHQoEHo06cPEhMTMXPmTEyYMAE//fRTHUdK1SaoQfHw8BBTp05VfC4uLha2trZiyZIlKsuPGDFCDBo0SGlZ9+7dxaRJk+o0TtJeNb3HnvXkyRNhZmYmNm3aVFchUgPwIvfZkydPRI8ePcT69etFYGCgGDx4cD1EStqqpvfY6tWrRevWrUVhYWF9hUgNQE3vs6lTp4q+ffsqLQsJCRFeXl51Gic1DADErl27qizz/vvviw4dOigtGzlypPD19a3DyKgmWIPegBQWFuL8+fPw8fFRLNPR0YGPjw9Onz6tcpvTp08rlQcAX1/fSsvTP9uL3GPPys3NRVFRERo3blxXYZKWe9H7bOHChbC2tkZQUFB9hEla7EXusT179sDT0xNTp05Fs2bN8PLLL+PTTz9FcXFxfYVNWuZF7rMePXrg/PnzimbwN2/exIEDBzBw4MB6iZkaPv7213x66g6Aas+DBw9QXFyMZs2aKS1v1qwZrl27pnKb9PR0leXT09PrLE7SXi9yjz3rgw8+gK2tbYU/DkSlXuQ+O3HiBDZs2IDExMR6iJC03YvcYzdv3sTRo0cREBCAAwcO4Pr165gyZQqKiooQGhpaH2GTlnmR+2z06NF48OAB/ud//gdCCDx58gSTJ09mE3eqNZX99s/KykJeXh6MjIzUFBmVYg06EdWbzz77DFu2bMGuXbtgaGio7nCogXj8+DHGjBmDdevWwcrKSt3hUANVUlICa2trfP3113B3d8fIkSPx0UcfYc2aNeoOjRqQuLg4fPrpp1i1ahUuXLiAnTt3Yv/+/Vi0aJG6QyOiesIa9AbEysoKurq6uHfvntLye/fuwcbGRuU2NjY2NSpP/2wvco+VWrZsGT777DMcOXIErq6udRkmabma3mc3btzA7du34efnp1hWUlICANDT00NycjLatGlTt0GTVnmR77LmzZtDX18furq6imUuLi5IT09HYWEhDAwM6jRm0j4vcp/Nnz8fY8aMwYQJEwAAHTt2RE5ODt555x189NFH0NFh3Rr9PZX99jc3N2ftuYbg/+UNiIGBAdzd3REbG6tYVlJSgtjYWHh6eqrcxtPTU6k8AMTExFRanv7ZXuQeA4ClS5di0aJFOHToELp27VofoZIWq+l91q5dOyQlJSExMVHx+te//qUYodbe3r4+wyct8CLfZV5eXrh+/bri4Q8A/Pbbb2jevDmTc1LpRe6z3NzcCkl46UMhIUTdBUv/GPztrwXUPUod1a4tW7YIuVwuoqOjxZUrV8Q777wjLC0tRXp6uhBCiDFjxoi5c+cqyp88eVLo6emJZcuWiatXr4rQ0FChr68vkpKS1HUKpOFqeo999tlnwsDAQPz4448iLS1N8Xr8+LG6ToG0QE3vs2dxFHd6npreY6mpqcLMzEwEBweL5ORksW/fPmFtbS0++eQTdZ0CaYGa3mehoaHCzMxMbN68Wdy8eVMcPnxYtGnTRowYMUJdp0Aa7vHjxyIhIUEkJCQIAGL58uUiISFB3LlzRwghxNy5c8WYMWMU5W/evCmMjY3FnDlzxNWrV0VkZKTQ1dUVhw4dUtcp0DOYoDdAK1euFA4ODsLAwEB4eHiIM2fOKNZ5e3uLwMBApfLbtm0Tzs7OwsDAQHTo0EHs37+/niMmbVOTe8zR0VEAqPAKDQ2t/8BJq9T0u6w8JuhUHTW9x06dOiW6d+8u5HK5aN26tVi8eLF48uRJPUdN2qYm91lRUZEICwsTbdq0EYaGhsLe3l5MmTJFZGRk1H/gpBWOHTum8ndW6X0VGBgovL29K2zTqVMnYWBgIFq3bi2ioqLqPW6qnEwItpchIiIiIiIiUjf2QSciIiIiIiLSAEzQiYiIiIiIiDQAE3QiIiIiIiIiDcAEnYiIiIiIiEgDMEEnIiIiIiIi0gBM0ImIiIiIiIg0ABN0IiIiIiIiIg3ABJ2IiIiIiIhIAzBBJyIiqoJMJsPu3bsBALdv34ZMJkNiYmKV2yQnJ8PGxgaPHz+u+wABtGzZEitWrKiyTFhYGDp16lSncbzIMcpf3xc1btw4+Pv7/6191JZRo0YhPDxc3WEQEZGWYoJOREQaady4cZDJZJDJZNDX10erVq3w/vvvIz8/X92hPde8efMwbdo0mJmZAQDi4uIU5yKTydCsWTMMHToUN2/erJXjnTt3Du+8847is6qkd/bs2YiNja2V4zUEP//8M/z8/GBra1ujhwRxcXHo0qUL5HI5nJycEB0drbT+f//3f7F48WJkZmbWftBERNTgMUEnIiKN1b9/f6SlpeHmzZuIiIjA2rVrERoaqu6wqpSamop9+/Zh3LhxFdYlJyfjjz/+wPbt23H58mX4+fmhuLj4bx+zadOmMDY2rrKMqakpmjRp8reP1VDk5OTAzc0NkZGR1d7m1q1bGDRoEPr06YPExETMnDkTEyZMwE8//aQo8/LLL6NNmzb47rvv6iJsIiJq4JigExGRxpLL5bCxsYG9vT38/f3h4+ODmJgYxfqSkhIsWbIErVq1gpGREdzc3PDjjz8q7ePy5ct4/fXXYW5uDjMzM/Ts2RM3btwAINU89+vXD1ZWVrCwsIC3tzcuXLjwt2Letm0b3NzcYGdnV2GdtbU1mjdvjl69emHBggW4cuUKrl+/DgBYvXo12rRpAwMDA7Rt2xbffvutYjshBMLCwuDg4AC5XA5bW1tMnz5dsb58E/eWLVsCAIYMGQKZTKb4XL75+eHDh2FoaIhHjx4pxTdjxgz07dtX8fnEiRPo2bMnjIyMYG9vj+nTpyMnJ6fa16K61zctLQ0DBgyAkZERWrduXeHf8L///S9GjBgBS0tLNG7cGIMHD8bt27erHYcqAwYMwCeffIIhQ4ZUe5s1a9agVatWCA8Ph4uLC4KDgzFs2DBEREQolfPz88OWLVv+VnxERPTPxASdiIi0wqVLl3Dq1CkYGBgoli1ZsgTffPMN1qxZg8uXL2PWrFl46623cPz4cQDA3bt30atXL8jlchw9ehTnz5/H22+/jSdPngAAHj9+jMDAQJw4cQJnzpzBSy+9hIEDB/6tvuPx8fHo2rXrc8sZGRkBAAoLC7Fr1y7MmDED7733Hi5duoRJkyZh/PjxOHbsGABgx44dihYEKSkp2L17Nzp27Khyv+fOnQMAREVFIS0tTfG5vFdffRWWlpbYsWOHYllxcTG2bt2KgIAAAMCNGzfQv39/DB06FL/++iu2bt2KEydOIDg4uNrXorrXd/78+Rg6dCguXryIgIAAjBo1ClevXgUAFBUVwdfXF2ZmZoiPj8fJkydhamqK/v37o7CwUOVxo6OjIZPJqh1ndZ0+fRo+Pj5Ky3x9fXH69GmlZR4eHjh79iwKCgpqPQYiImrY9NQdABERUWX27dsHU1NTPHnyBAUFBdDR0cFXX30FACgoKMCnn36KI0eOwNPTEwDQunVrnDhxAmvXroW3tzciIyNhYWGBLVu2QF9fHwDg7Oys2H/52mIA+Prrr2FpaYnjx4/j9ddff6GY79y589wEPS0tDcuWLYOdnR3atm2LyZMnY9y4cZgyZQoAICQkBGfOnMGyZcvQp08fpKamwsbGBj4+PtDX14eDgwM8PDxU7rtp06YAAEtLS9jY2Kgso6uri1GjRuGHH35AUFAQACA2NhaPHj3C0KFDAUgPPwICAjBz5kwAwEsvvYQvv/wS3t7eWL16NQwNDZ97Lap7fYcPH44JEyYAABYtWoSYmBisXLkSq1atwtatW1FSUoL169crku6oqChYWloiLi4Or732WoXjWlhYoG3bts+Nr6bS09PRrFkzpWXNmjVDVlYW8vLyFA9dbG1tUVhYiPT0dDg6OtZ6HERE1HCxBp2IiDRWaV/f//znPwgMDMT48eMVCeT169eRm5uLfv36wdTUVPH65ptvFE3YExMT0bNnT0Vy/qx79+5h4sSJeOmll2BhYQFzc3NkZ2cjNTX1hWPOy8urNHlt0aIFTExMYGtri5ycHOzYsQMGBga4evUqvLy8lMp6eXkpapGHDx+OvLw8tG7dGhMnTsSuXbsUrQBeVEBAAOLi4vDHH38AAL7//nsMGjQIlpaWAICLFy8iOjpa6dr6+vqipKQEt27dqtYxqnt9Sx+wlP9ceu4XL17E9evXYWZmpoijcePGyM/PV/w7P2vIkCG4du1aTS5HrSpN1HNzc9UWAxERaSfWoBMRkcYyMTGBk5MTAGDjxo1wc3PDhg0bEBQUhOzsbADA/v37K/T3lsvlAMoSpcoEBgbir7/+whdffAFHR0fI5XJ4enpW2nS6OqysrJCRkaFyXXx8PMzNzWFtba0Y4b067O3tkZycjCNHjiAmJgZTpkzB559/juPHj1f68OF5unXrhjZt2mDLli149913sWvXLqURybOzszFp0iSlvu6lHBwcqnWM2ri+2dnZcHd3x/fff19hXWlrgfpiY2ODe/fuKS27d+8ezM3Nle61hw8fqiU+IiLSfkzQiYhIK+jo6ODDDz9ESEgIRo8ejfbt20MulyM1NRXe3t4qt3F1dcWmTZtQVFSkMpE9efIkVq1ahYEDBwKQBiN78ODB34qzc+fOuHLlisp1rVq1UtRQl+fi4oKTJ08iMDBQKbb27dsrPhsZGcHPzw9+fn6YOnUq2rVrh6SkJHTp0qXC/vT19as1OnxAQAC+//57tGjRAjo6Ohg0aJBiXZcuXXDlyhXFA5IXUd3re+bMGYwdO1bpc+fOnRVxbN26FdbW1jA3N3/hWGqDp6cnDhw4oLQsJiamQguAS5cuoUWLFrCysqrP8IiIqAFgE3ciItIaw4cPh66uLiIjI2FmZobZs2dj1qxZ2LRpE27cuIELFy5g5cqV2LRpEwAgODgYWVlZGDVqFH755RekpKTg22+/RXJyMgCpX/W3336Lq1ev4j//+Q8CAgKeW+v+PKWDhtVk+rQ5c+YgOjoaq1evRkpKCpYvX46dO3di9uzZAKRBzzZs2IBLly7h5s2b+O6772BkZFRp/+aWLVsiNjYW6enpldbmA1KCfuHCBSxevBjDhg1TtDwAgA8++ACnTp1CcHAwEhMTkZKSgn//+981GiSuutd3+/bt2LhxI3777TeEhobi7NmziuMEBATAysoKgwcPRnx8PG7duoW4uDhMnz4dv//+u8rj7tq1C+3atasytuzsbCQmJiIxMRGANIVaYmKiUvP7efPmKT04mDx5Mm7evIn3338f165dw6pVq7Bt2zbMmjVLad/x8fEq+8YTERE9DxN0IiLSGnp6eggODsbSpUuRk5ODRYsWYf78+ViyZAlcXFzQv39/7N+/H61atQIANGnSBEePHkV2dja8vb3h7u6OdevWKWrTN2zYgIyMDHTp0gVjxozB9OnTYW1t/bdiHDBgAPT09HDkyJFqb+Pv748vvvgCy5YtQ4cOHbB27VpERUWhd+/eAKQB39atWwcvLy+4urriyJEj2Lt3b6XzmoeHhyMmJgb29vaKmmhVnJyc4OHhgV9//VUxenspV1dXHD9+HL/99ht69uyJzp07Y8GCBbC1ta32eVX3+n788cfYsmULXF1d8c0332Dz5s2K1gPGxsb4+eef4eDggDfeeAMuLi4ICgpCfn5+pTXqmZmZiocwlfnll1/QuXNnxfUJCQlRnGOptLQ0pYS9VatW2L9/P2JiYuDm5obw8HCsX78evr6+ijL5+fnYvXs3Jk6cWO3rREREVEomhBDqDoKIiKghiYyMxJ49e/DTTz+pOxSqZ6tXr8auXbtw+PBhdYdCRERaiH3QiYiIatmkSZPw6NEjPH78uEaDwZH209fXx8qVK9UdBhERaSnWoBMRERERERFpAPZBJyIiIiIiItIATNCJiIiIiIiINAATdCIiIiIiIiINwASdiIiIiIiISAMwQSciIiIiIiLSAEzQiYiIiIiIiDQAE3QiIiIiIiIiDcAEnYiIiIiIiEgDMEEnIiIiIiIi0gBM0ImIiIiIiIg0ABN0IiIiIiIiIg3ABJ2IiIiIiIhIAzBBJyIiIiIiItIATNCJiIiIiIiINAATdCIiIiIiIiINwASdiIiIiIiISAMwQSciIiIiIiLSAEzQiYiIiIiIiDQAE3QiIiIiIiIiDcAEnYiIiIiIiEgDMEEnIiIiIiIi0gBM0ImIiIiIiIg0ABN0IiIiIiIiIg3ABJ2IiIiIiIhIAzBBJyIiIiIiItIATNCJiIiIiIiINAATdCIiIiIiIiINwASdiIiIiIiISAMwQSciIiIiIiLSAEzQiYiIiIiIiDQAE3QiIiIiIiIiDcAEnYiIiIiIiEgDMEEnIiIiIiIi0gD/DwXACcPMI/jkAAAAAElFTkSuQmCC' width=1000.0/>\n",
       "            </div>\n",
       "        "
      ],
      "text/plain": [
       "Canvas(toolbar=Toolbar(toolitems=[('Home', 'Reset original view', 'home', 'home'), ('Back', 'Back to previous …"
      ]
     },
     "metadata": {},
     "output_type": "display_data"
    }
   ],
   "source": [
    "from sklearn.metrics import PrecisionRecallDisplay, precision_recall_curve\n",
    "\n",
    "fig, ax = plt.subplots(1,1, figsize=(10,7))\n",
    "\n",
    "PrecisionRecallDisplay.from_estimator(model, X_train, y_train, ax=ax);\n",
    "ax.set_ylim(0.5, 1.01)\n",
    "ax.set_xlim(0, 1.01)\n",
    "ax.plot(np.ones(2)*0.8445266468790148,np.linspace(0.5,1.1,2), color='purple', linestyle='--')\n",
    "ax.plot(np.ones(2)*0.8445266468790148,np.linspace(0.5,0.8741316459178761,2), color='grey', linestyle='--')\n",
    "ax.plot(np.linspace(0,0.8445266468790148,2),np.ones(2)*0.8741316459178761, color='grey', linestyle='--');\n",
    "ax.annotate(  f'Threshold = 0.50', (.43,.82), size=12, weight='bold', color='grey')\n",
    "ax.annotate(  f'Precision: 0.84', (.01,.89), size=12, weight='bold', color='blue')\n",
    "ax.annotate(  f'Recall: 0.87', (.65,.52), size=12, weight='bold', color='red');"
   ]
  },
  {
   "cell_type": "markdown",
   "id": "a45bb118",
   "metadata": {
    "editable": true,
    "slideshow": {
     "slide_type": "subslide"
    },
    "tags": []
   },
   "source": [
    "## 🍷 Adjusting the Threshold\n",
    "What if I have specific requirements for my wine quality? For instance, let's say that I need a classifier that can give me at least a 90% precision on the win quality, with the maximum recall possible."
   ]
  },
  {
   "cell_type": "markdown",
   "id": "3053fbd1",
   "metadata": {
    "editable": true,
    "slideshow": {
     "slide_type": "fragment"
    },
    "tags": []
   },
   "source": [
    "We can use the <code>precision_recall_curve</code> tool to identify the best threshold for our requirements."
   ]
  },
  {
   "cell_type": "code",
   "execution_count": 22,
   "id": "d665fb69",
   "metadata": {
    "editable": true,
    "slideshow": {
     "slide_type": "subslide"
    },
    "tags": []
   },
   "outputs": [],
   "source": [
    "precision, recall, threshold = precision_recall_curve(y_test, y_prob[:,1])"
   ]
  },
  {
   "cell_type": "code",
   "execution_count": 23,
   "id": "74105bd4",
   "metadata": {
    "editable": true,
    "slideshow": {
     "slide_type": "fragment"
    },
    "tags": []
   },
   "outputs": [
    {
     "data": {
      "text/html": [
       "<div>\n",
       "<style scoped>\n",
       "    .dataframe tbody tr th:only-of-type {\n",
       "        vertical-align: middle;\n",
       "    }\n",
       "\n",
       "    .dataframe tbody tr th {\n",
       "        vertical-align: top;\n",
       "    }\n",
       "\n",
       "    .dataframe thead th {\n",
       "        text-align: right;\n",
       "    }\n",
       "</style>\n",
       "<table border=\"1\" class=\"dataframe\">\n",
       "  <thead>\n",
       "    <tr style=\"text-align: right;\">\n",
       "      <th></th>\n",
       "      <th>Precision</th>\n",
       "      <th>Recall</th>\n",
       "    </tr>\n",
       "  </thead>\n",
       "  <tbody>\n",
       "    <tr>\n",
       "      <th>0</th>\n",
       "      <td>0.500733</td>\n",
       "      <td>1.000000</td>\n",
       "    </tr>\n",
       "    <tr>\n",
       "      <th>1</th>\n",
       "      <td>0.500750</td>\n",
       "      <td>1.000000</td>\n",
       "    </tr>\n",
       "    <tr>\n",
       "      <th>2</th>\n",
       "      <td>0.500767</td>\n",
       "      <td>1.000000</td>\n",
       "    </tr>\n",
       "    <tr>\n",
       "      <th>3</th>\n",
       "      <td>0.500783</td>\n",
       "      <td>1.000000</td>\n",
       "    </tr>\n",
       "    <tr>\n",
       "      <th>4</th>\n",
       "      <td>0.500800</td>\n",
       "      <td>1.000000</td>\n",
       "    </tr>\n",
       "    <tr>\n",
       "      <th>...</th>\n",
       "      <td>...</td>\n",
       "      <td>...</td>\n",
       "    </tr>\n",
       "    <tr>\n",
       "      <th>29996</th>\n",
       "      <td>1.000000</td>\n",
       "      <td>0.000266</td>\n",
       "    </tr>\n",
       "    <tr>\n",
       "      <th>29997</th>\n",
       "      <td>1.000000</td>\n",
       "      <td>0.000200</td>\n",
       "    </tr>\n",
       "    <tr>\n",
       "      <th>29998</th>\n",
       "      <td>1.000000</td>\n",
       "      <td>0.000133</td>\n",
       "    </tr>\n",
       "    <tr>\n",
       "      <th>29999</th>\n",
       "      <td>1.000000</td>\n",
       "      <td>0.000067</td>\n",
       "    </tr>\n",
       "    <tr>\n",
       "      <th>30000</th>\n",
       "      <td>1.000000</td>\n",
       "      <td>0.000000</td>\n",
       "    </tr>\n",
       "  </tbody>\n",
       "</table>\n",
       "<p>30001 rows × 2 columns</p>\n",
       "</div>"
      ],
      "text/plain": [
       "       Precision    Recall\n",
       "0       0.500733  1.000000\n",
       "1       0.500750  1.000000\n",
       "2       0.500767  1.000000\n",
       "3       0.500783  1.000000\n",
       "4       0.500800  1.000000\n",
       "...          ...       ...\n",
       "29996   1.000000  0.000266\n",
       "29997   1.000000  0.000200\n",
       "29998   1.000000  0.000133\n",
       "29999   1.000000  0.000067\n",
       "30000   1.000000  0.000000\n",
       "\n",
       "[30001 rows x 2 columns]"
      ]
     },
     "execution_count": 23,
     "metadata": {},
     "output_type": "execute_result"
    }
   ],
   "source": [
    "prc_df = pd.DataFrame(precision,columns=['Precision'])\n",
    "prc_df['Recall'] = recall\n",
    "prc_df"
   ]
  },
  {
   "cell_type": "code",
   "execution_count": 24,
   "id": "1fe53394",
   "metadata": {
    "editable": true,
    "slideshow": {
     "slide_type": "subslide"
    },
    "tags": []
   },
   "outputs": [
    {
     "data": {
      "text/html": [
       "<div>\n",
       "<style scoped>\n",
       "    .dataframe tbody tr th:only-of-type {\n",
       "        vertical-align: middle;\n",
       "    }\n",
       "\n",
       "    .dataframe tbody tr th {\n",
       "        vertical-align: top;\n",
       "    }\n",
       "\n",
       "    .dataframe thead th {\n",
       "        text-align: right;\n",
       "    }\n",
       "</style>\n",
       "<table border=\"1\" class=\"dataframe\">\n",
       "  <thead>\n",
       "    <tr style=\"text-align: right;\">\n",
       "      <th></th>\n",
       "      <th>Precision</th>\n",
       "      <th>Recall</th>\n",
       "    </tr>\n",
       "  </thead>\n",
       "  <tbody>\n",
       "    <tr>\n",
       "      <th>16448</th>\n",
       "      <td>0.900015</td>\n",
       "      <td>0.811942</td>\n",
       "    </tr>\n",
       "    <tr>\n",
       "      <th>16449</th>\n",
       "      <td>0.900007</td>\n",
       "      <td>0.811876</td>\n",
       "    </tr>\n",
       "    <tr>\n",
       "      <th>16450</th>\n",
       "      <td>0.900000</td>\n",
       "      <td>0.811809</td>\n",
       "    </tr>\n",
       "    <tr>\n",
       "      <th>16453</th>\n",
       "      <td>0.900052</td>\n",
       "      <td>0.811676</td>\n",
       "    </tr>\n",
       "    <tr>\n",
       "      <th>16454</th>\n",
       "      <td>0.900044</td>\n",
       "      <td>0.811610</td>\n",
       "    </tr>\n",
       "    <tr>\n",
       "      <th>...</th>\n",
       "      <td>...</td>\n",
       "      <td>...</td>\n",
       "    </tr>\n",
       "    <tr>\n",
       "      <th>29996</th>\n",
       "      <td>1.000000</td>\n",
       "      <td>0.000266</td>\n",
       "    </tr>\n",
       "    <tr>\n",
       "      <th>29997</th>\n",
       "      <td>1.000000</td>\n",
       "      <td>0.000200</td>\n",
       "    </tr>\n",
       "    <tr>\n",
       "      <th>29998</th>\n",
       "      <td>1.000000</td>\n",
       "      <td>0.000133</td>\n",
       "    </tr>\n",
       "    <tr>\n",
       "      <th>29999</th>\n",
       "      <td>1.000000</td>\n",
       "      <td>0.000067</td>\n",
       "    </tr>\n",
       "    <tr>\n",
       "      <th>30000</th>\n",
       "      <td>1.000000</td>\n",
       "      <td>0.000000</td>\n",
       "    </tr>\n",
       "  </tbody>\n",
       "</table>\n",
       "<p>13551 rows × 2 columns</p>\n",
       "</div>"
      ],
      "text/plain": [
       "       Precision    Recall\n",
       "16448   0.900015  0.811942\n",
       "16449   0.900007  0.811876\n",
       "16450   0.900000  0.811809\n",
       "16453   0.900052  0.811676\n",
       "16454   0.900044  0.811610\n",
       "...          ...       ...\n",
       "29996   1.000000  0.000266\n",
       "29997   1.000000  0.000200\n",
       "29998   1.000000  0.000133\n",
       "29999   1.000000  0.000067\n",
       "30000   1.000000  0.000000\n",
       "\n",
       "[13551 rows x 2 columns]"
      ]
     },
     "execution_count": 24,
     "metadata": {},
     "output_type": "execute_result"
    }
   ],
   "source": [
    "prc_df[prc_df['Precision']>=.9].sort_values('Recall',ascending=False)"
   ]
  },
  {
   "cell_type": "code",
   "execution_count": 25,
   "id": "28d25c21",
   "metadata": {
    "editable": true,
    "slideshow": {
     "slide_type": "fragment"
    },
    "tags": []
   },
   "outputs": [
    {
     "data": {
      "text/plain": [
       "16448"
      ]
     },
     "execution_count": 25,
     "metadata": {},
     "output_type": "execute_result"
    }
   ],
   "source": [
    "th_index = prc_df[prc_df['Precision']>=.9].sort_values('Recall',ascending=False).index[0]\n",
    "th_index"
   ]
  },
  {
   "cell_type": "code",
   "execution_count": 26,
   "id": "0d6d72e2",
   "metadata": {
    "editable": true,
    "slideshow": {
     "slide_type": ""
    },
    "tags": []
   },
   "outputs": [
    {
     "data": {
      "text/plain": [
       "0.5704136606288632"
      ]
     },
     "execution_count": 26,
     "metadata": {},
     "output_type": "execute_result"
    }
   ],
   "source": [
    "threshold[th_index]"
   ]
  },
  {
   "cell_type": "code",
   "execution_count": 27,
   "id": "a9f9f7ee",
   "metadata": {
    "editable": true,
    "slideshow": {
     "slide_type": "subslide"
    },
    "tags": []
   },
   "outputs": [
    {
     "data": {
      "application/vnd.jupyter.widget-view+json": {
       "model_id": "6e2602ee16df40b8b3f9a0d46509a92b",
       "version_major": 2,
       "version_minor": 0
      },
      "image/png": "[encoded data removed]",
      "text/html": [
       "\n",
       "            <div style=\"display: inline-block;\">\n",
       "                <div class=\"jupyter-widgets widget-label\" style=\"text-align: center;\">\n",
       "                    Figure\n",
       "                </div>\n",
       "                <img src='data:image/png;base64,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' width=1000.0/>\n",
       "            </div>\n",
       "        "
      ],
      "text/plain": [
       "Canvas(toolbar=Toolbar(toolitems=[('Home', 'Reset original view', 'home', 'home'), ('Back', 'Back to previous …"
      ]
     },
     "metadata": {},
     "output_type": "display_data"
    }
   ],
   "source": [
    "from sklearn.metrics import PrecisionRecallDisplay, precision_recall_curve\n",
    "\n",
    "fig, ax = plt.subplots(1,1, figsize=(10,7))\n",
    "\n",
    "PrecisionRecallDisplay.from_estimator(model, X_train, y_train, ax=ax);\n",
    "ax.plot(np.ones(2)*recall[th_index],np.linspace(0.5,1.1,2), color='purple', linestyle='--')\n",
    "ax.plot(np.ones(2)*recall[th_index],np.linspace(0.5,precision[th_index],2), color='orange', linestyle='--')\n",
    "ax.plot(np.linspace(0,recall[th_index],2),np.ones(2)*precision[th_index], color='orange', linestyle='--');\n",
    "ax.annotate(  f'Adjusted threshold = {threshold[th_index]:.02}', (.35,.85), size=12, weight='bold', color='orange')\n",
    "ax.annotate(  f'Precision: 0.9', (.01,.91), size=12, weight='bold', color='blue')\n",
    "ax.annotate(  f'Recall: 0.81', (.6,.52), size=12, weight='bold', color='red')\n",
    "ax.set_ylim(0.5, 1.01)\n",
    "ax.set_xlim(0, 1.01);"
   ]
  },
  {
   "cell_type": "markdown",
   "id": "e9edcac4",
   "metadata": {
    "editable": true,
    "slideshow": {
     "slide_type": "subslide"
    },
    "tags": []
   },
   "source": [
    "## Receiver-Operator Curve Area Under the Curve (ROC-AUC)"
   ]
  },
  {
   "cell_type": "code",
   "execution_count": 28,
   "id": "7d286570",
   "metadata": {
    "editable": true,
    "slideshow": {
     "slide_type": "-"
    },
    "tags": []
   },
   "outputs": [
    {
     "data": {
      "application/vnd.jupyter.widget-view+json": {
       "model_id": "5e5b36660cdc444daed7b996b4c6ad3f",
       "version_major": 2,
       "version_minor": 0
      },
      "text/plain": [
       "interactive(children=(IntSlider(value=1, description='x', max=5, min=1), Checkbox(value=False, description='au…"
      ]
     },
     "metadata": {},
     "output_type": "display_data"
    },
    {
     "data": {
      "application/vnd.jupyter.widget-view+json": {
       "model_id": "494c53f901da4928953043b177ea0d69",
       "version_major": 2,
       "version_minor": 0
      },
      "image/png": "[encoded data removed]",
      "text/html": [
       "\n",
       "            <div style=\"display: inline-block;\">\n",
       "                <div class=\"jupyter-widgets widget-label\" style=\"text-align: center;\">\n",
       "                    Figure\n",
       "                </div>\n",
       "                <img src='data:image/png;base64,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' width=800.0/>\n",
       "            </div>\n",
       "        "
      ],
      "text/plain": [
       "Canvas(toolbar=Toolbar(toolitems=[('Home', 'Reset original view', 'home', 'home'), ('Back', 'Back to previous …"
      ]
     },
     "metadata": {},
     "output_type": "display_data"
    }
   ],
   "source": [
    "fig, ax = create_roc_plot()\n",
    "\n",
    "@interact(x=IntSlider(min=1,max=5, values=1), auc=False, compare=False)\n",
    "def plot(x, auc, compare):\n",
    "    update_roc_plot(select=x, auc=auc, compare=compare, ax=ax);"
   ]
  },
  {
   "cell_type": "markdown",
   "id": "84de53d0",
   "metadata": {
    "editable": true,
    "slideshow": {
     "slide_type": "subslide"
    },
    "tags": []
   },
   "source": [
    "## 🍷  ROC-AUC for our wine classifier"
   ]
  },
  {
   "cell_type": "markdown",
   "id": "46ed03ea-07ed-4aed-81fb-034750bea184",
   "metadata": {
    "editable": true,
    "slideshow": {
     "slide_type": "-"
    },
    "tags": []
   },
   "source": [
    "* Unlike F1, recall, precision and accuracy- AUC is not dependent on a threshold chosen\n",
    "* This makes it a great metric for measuring a models general performance 💪"
   ]
  },
  {
   "cell_type": "code",
   "execution_count": 29,
   "id": "6a3cfb6f",
   "metadata": {
    "ExecuteTime": {
     "end_time": "2021-10-13T10:05:07.032517Z",
     "start_time": "2021-10-13T10:05:07.004Z"
    },
    "editable": true,
    "slideshow": {
     "slide_type": "-"
    },
    "tags": []
   },
   "outputs": [
    {
     "data": {
      "text/plain": [
       "0.8627286958252834"
      ]
     },
     "execution_count": 29,
     "metadata": {},
     "output_type": "execute_result"
    }
   ],
   "source": [
    "from sklearn.metrics import roc_curve\n",
    "from sklearn.metrics import roc_auc_score\n",
    "\n",
    "# Compute AUC score\n",
    "auc_score = roc_auc_score(y_test, y_pred)\n",
    "auc_score"
   ]
  },
  {
   "cell_type": "code",
   "execution_count": 30,
   "id": "5bd397c7",
   "metadata": {
    "editable": true,
    "slideshow": {
     "slide_type": "subslide"
    },
    "tags": []
   },
   "outputs": [],
   "source": [
    "from sklearn.neighbors import KNeighborsClassifier\n",
    "\n",
    "knn = KNeighborsClassifier().fit(X_train, y_train)\n",
    "\n",
    "y_pred_knn = knn.predict(X_test)\n",
    "y_prob_knn = knn.predict_proba(X_test)"
   ]
  },
  {
   "cell_type": "code",
   "execution_count": 31,
   "id": "19503c67",
   "metadata": {
    "editable": true,
    "slideshow": {
     "slide_type": "-"
    },
    "tags": []
   },
   "outputs": [
    {
     "data": {
      "text/plain": [
       "0.9147069054139655"
      ]
     },
     "execution_count": 31,
     "metadata": {},
     "output_type": "execute_result"
    }
   ],
   "source": [
    "auc_score_knn = roc_auc_score(y_test, y_pred_knn)\n",
    "auc_score_knn"
   ]
  },
  {
   "cell_type": "code",
   "execution_count": 32,
   "id": "12f581ab",
   "metadata": {
    "editable": true,
    "slideshow": {
     "slide_type": "-"
    },
    "tags": []
   },
   "outputs": [],
   "source": [
    "# Compute AUC score\n",
    "fpr_lr, tpr_lr, thresholds_lr = roc_curve(y_test, y_prob[:,1], drop_intermediate=False)\n",
    "fpr_knn, tpr_knn, thresholds_knn = roc_curve(y_test, y_prob_knn[:,1], drop_intermediate=False)"
   ]
  },
  {
   "cell_type": "code",
   "execution_count": 33,
   "id": "a6095e19",
   "metadata": {
    "editable": true,
    "slideshow": {
     "slide_type": "subslide"
    },
    "tags": []
   },
   "outputs": [
    {
     "data": {
      "application/vnd.jupyter.widget-view+json": {
       "model_id": "88efa07a9c924a4fb129f18c76c7b7bb",
       "version_major": 2,
       "version_minor": 0
      },
      "image/png": "[encoded data removed]",
      "text/html": [
       "\n",
       "            <div style=\"display: inline-block;\">\n",
       "                <div class=\"jupyter-widgets widget-label\" style=\"text-align: center;\">\n",
       "                    Figure\n",
       "                </div>\n",
       "                <img src='data:image/png;base64,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' width=800.0/>\n",
       "            </div>\n",
       "        "
      ],
      "text/plain": [
       "Canvas(toolbar=Toolbar(toolitems=[('Home', 'Reset original view', 'home', 'home'), ('Back', 'Back to previous …"
      ]
     },
     "metadata": {},
     "output_type": "display_data"
    }
   ],
   "source": [
    "fig, ax = plt.subplots(1,1,figsize=(8,8))\n",
    "\n",
    "ax.plot(fpr_lr, tpr_lr, label='Logistic Regression', linewidth=2)\n",
    "ax.plot(fpr_knn, tpr_knn, label='KNN classifier', linewidth=2)\n",
    "ax.plot(np.linspace(0,1,5), np.linspace(0,1,5), color='k',linestyle='--')\n",
    "ax.set_xlabel('FPR')\n",
    "ax.set_ylabel('TPR')\n",
    "ax.legend();"
   ]
  },
  {
   "cell_type": "markdown",
   "id": "42294fa4-3772-4a1a-b291-5f734f04bf09",
   "metadata": {
    "editable": true,
    "slideshow": {
     "slide_type": "subslide"
    },
    "tags": []
   },
   "source": [
    "# Suggested Resources"
   ]
  },
  {
   "cell_type": "markdown",
   "id": "4a6fc53a-1d05-44a0-92cb-248fc73a0e51",
   "metadata": {
    "slideshow": {
     "slide_type": "-"
    },
    "tags": []
   },
   "source": [
    "## 📺 Videos \n",
    "#### Short videos from my Undegraduate Machine Learning Classes:\n",
    "\n",
    "* 📼 <a href=\"https://youtu.be/wZc0N3TOX_Y?list=PLZzjCZ3QdgQCcRIwQdd-_cJNAUgiEBB_n\">Types of Machine Learning</a>\n",
    "* 📼 <a href=\"https://youtu.be/Ij9s_eSC5C4?list=PLZzjCZ3QdgQCcRIwQdd-_cJNAUgiEBB_n\">Performance Metrics in Classification</a>"
   ]
  },
  {
   "cell_type": "markdown",
   "id": "288e41ff-612f-450a-808e-14c875b68fdb",
   "metadata": {
    "editable": true,
    "slideshow": {
     "slide_type": "-"
    },
    "tags": []
   },
   "source": [
    "## 📚 Further Reading \n",
    "* 📖 <a href=\"https://pubs.acs.org/doi/10.1021/acs.jcim.1c00160#\">GHOST: Adjusting the Decision Threshold to Handle Imbalanced Data in Machine Learning</a> by Esposito et al., 2021\n",
    "* 📖 <a href=\"https://towardsdatascience.com/how-to-add-decision-threshold-tuning-to-your-end-to-end-ml-pipelines-7077b82b71a\">How to add Decision Threshold tuning to your end to end ML pipelines</a> by Jerome Kafrouni, 2021\n",
    "* 📖 <a  href=\"https://developers.google.com/machine-learning/crash-course/classification/roc-and-auc\">The ROC Curve</a> by Google Developers\n",
    "* 📖 <a href=\"https://www.mygreatlearning.com/blog/knn-algorithm-introduction/\">A good introduction to KNN</a> by Marina Chatterjee"
   ]
  },
  {
   "cell_type": "markdown",
   "id": "541581bb-848a-42b6-85fe-febbf5010938",
   "metadata": {
    "editable": true,
    "slideshow": {
     "slide_type": "slide"
    },
    "tags": []
   },
   "source": [
    "## 💻🐍 Time to Code ! "
   ]
  }
 ],
 "metadata": {
  "celltoolbar": "Slideshow",
  "kernelspec": {
   "display_name": "Python 3 (ipykernel)",
   "language": "python",
   "name": "python3"
  },
  "language_info": {
   "codemirror_mode": {
    "name": "ipython",
    "version": 3
   },
   "file_extension": ".py",
   "mimetype": "text/x-python",
   "name": "python",
   "nbconvert_exporter": "python",
   "pygments_lexer": "ipython3",
   "version": "3.11.5"
  },
  "rise": {
   "scroll": true,
   "theme": "serif",
   "transition": "none"
  },
  "toc": {
   "base_numbering": 1,
   "nav_menu": {},
   "number_sections": false,
   "sideBar": true,
   "skip_h1_title": false,
   "title_cell": "Table of Contents",
   "title_sidebar": "Contents",
   "toc_cell": false,
   "toc_position": {},
   "toc_section_display": false,
   "toc_window_display": false
  },
  "voila": {
   "strip_sources": "False",
   "template": "reveal"
  }
 },
 "nbformat": 4,
 "nbformat_minor": 5
}
