{
 "cells": [
  {
   "cell_type": "markdown",
   "id": "7c73d296-839a-4d16-9018-852ac788cd2f",
   "metadata": {},
   "source": [
    "<img src=\"https://drive.google.com/uc?id=1-cL5eOpEsbuIEkvwW2KnpXC12-PAbamr\" style=\"Width:1000px\">"
   ]
  },
  {
   "cell_type": "markdown",
   "id": "d6022e16-db7b-4496-b8e3-39994fb4c11f",
   "metadata": {
    "tags": []
   },
   "source": [
    "# Data Preprocessing 101 \n",
    "\n",
    "In this first exercise, we will go step by step through the data preparation steps. This guide is not fully comprehensive but it gives you a good understanding of what to do. The main goal is to teach you the `sklearn` syntax for some of the operations.\n",
    "\n",
    "The skills you acquired with `NumPy` and with `Pandas` in the previous module will come handy here, as well as in the rest of the `machine learning` module!"
   ]
  },
  {
   "cell_type": "markdown",
   "id": "24970822",
   "metadata": {
    "slideshow": {
     "slide_type": "subslide"
    }
   },
   "source": [
    "## Dataset\n",
    "\n",
    "We will be using the <span style=\"color:teal\">**Todays's dataset:**</span><a href=\"https://www.kaggle.com/datasets/rohanrao/air-quality-data-in-india\"> India air quality data, Kaggle</a>, the very same dataset we have seen in the lecture."
   ]
  },
  {
   "cell_type": "markdown",
   "id": "3972f6a8-2eba-44ee-8f16-0f46064a791e",
   "metadata": {},
   "source": [
    "# Load the data \n",
    "\n",
    "Load the data `raw_data/India_air_quality.csv` into a new `Pandas.DataFrame` that you can call `data`:"
   ]
  },
  {
   "cell_type": "code",
   "execution_count": 68,
   "id": "ac7b2af5",
   "metadata": {},
   "outputs": [
    {
     "name": "stdout",
     "output_type": "stream",
     "text": [
      "100% [..........................................................................] 6338593 / 6338593"
     ]
    }
   ],
   "source": [
    "from nbta.utils import download_data\n",
    "download_data(id='1HtOHNoKtbqxsROzC0grJsXLR1CvM58xa')\n",
    "rds = 42"
   ]
  },
  {
   "cell_type": "code",
   "execution_count": 69,
   "id": "6ece650e",
   "metadata": {
    "ExecuteTime": {
     "end_time": "2021-10-06T14:49:15.067198Z",
     "start_time": "2021-10-06T14:49:15.059234Z"
    },
    "slideshow": {
     "slide_type": "fragment"
    }
   },
   "outputs": [
    {
     "data": {
      "text/html": [
       "<div>\n",
       "<style scoped>\n",
       "    .dataframe tbody tr th:only-of-type {\n",
       "        vertical-align: middle;\n",
       "    }\n",
       "\n",
       "    .dataframe tbody tr th {\n",
       "        vertical-align: top;\n",
       "    }\n",
       "\n",
       "    .dataframe thead th {\n",
       "        text-align: right;\n",
       "    }\n",
       "</style>\n",
       "<table border=\"1\" class=\"dataframe\">\n",
       "  <thead>\n",
       "    <tr style=\"text-align: right;\">\n",
       "      <th></th>\n",
       "      <th>stn_code</th>\n",
       "      <th>state</th>\n",
       "      <th>location</th>\n",
       "      <th>type</th>\n",
       "      <th>so2</th>\n",
       "      <th>no2</th>\n",
       "      <th>rspm</th>\n",
       "      <th>spm</th>\n",
       "      <th>pm2_5</th>\n",
       "      <th>date</th>\n",
       "      <th>rainfall</th>\n",
       "    </tr>\n",
       "  </thead>\n",
       "  <tbody>\n",
       "    <tr>\n",
       "      <th>0</th>\n",
       "      <td>NaN</td>\n",
       "      <td>Andhra Pradesh</td>\n",
       "      <td>Hyderabad</td>\n",
       "      <td>Others</td>\n",
       "      <td>5.1</td>\n",
       "      <td>14.2</td>\n",
       "      <td>50.0</td>\n",
       "      <td>128.0</td>\n",
       "      <td>NaN</td>\n",
       "      <td>29/02/2008</td>\n",
       "      <td>NaN</td>\n",
       "    </tr>\n",
       "    <tr>\n",
       "      <th>1</th>\n",
       "      <td>229</td>\n",
       "      <td>Odisha</td>\n",
       "      <td>Rayagada</td>\n",
       "      <td>Industrial</td>\n",
       "      <td>2.0</td>\n",
       "      <td>14.5</td>\n",
       "      <td>36.0</td>\n",
       "      <td>54.0</td>\n",
       "      <td>NaN</td>\n",
       "      <td>08/04/2010</td>\n",
       "      <td>53.897548</td>\n",
       "    </tr>\n",
       "    <tr>\n",
       "      <th>2</th>\n",
       "      <td>631</td>\n",
       "      <td>Goa</td>\n",
       "      <td>Honda</td>\n",
       "      <td>Residential</td>\n",
       "      <td>5.0</td>\n",
       "      <td>11.0</td>\n",
       "      <td>42.0</td>\n",
       "      <td>19.0</td>\n",
       "      <td>NaN</td>\n",
       "      <td>10/11/2013</td>\n",
       "      <td>NaN</td>\n",
       "    </tr>\n",
       "    <tr>\n",
       "      <th>3</th>\n",
       "      <td>674</td>\n",
       "      <td>Karnataka</td>\n",
       "      <td>Davangere</td>\n",
       "      <td>Residential</td>\n",
       "      <td>6.0</td>\n",
       "      <td>9.0</td>\n",
       "      <td>302.0</td>\n",
       "      <td>NaN</td>\n",
       "      <td>NaN</td>\n",
       "      <td>02/01/2015</td>\n",
       "      <td>95.685937</td>\n",
       "    </tr>\n",
       "    <tr>\n",
       "      <th>4</th>\n",
       "      <td>NaN</td>\n",
       "      <td>West Bengal</td>\n",
       "      <td>Kolkata</td>\n",
       "      <td>Industrial</td>\n",
       "      <td>7.4</td>\n",
       "      <td>69.5</td>\n",
       "      <td>77.0</td>\n",
       "      <td>164.0</td>\n",
       "      <td>NaN</td>\n",
       "      <td>20/08/2007</td>\n",
       "      <td>83.049383</td>\n",
       "    </tr>\n",
       "  </tbody>\n",
       "</table>\n",
       "</div>"
      ],
      "text/plain": [
       "  stn_code           state   location         type  so2   no2   rspm    spm  \\\n",
       "0      NaN  Andhra Pradesh  Hyderabad       Others  5.1  14.2   50.0  128.0   \n",
       "1      229          Odisha   Rayagada   Industrial  2.0  14.5   36.0   54.0   \n",
       "2      631             Goa      Honda  Residential  5.0  11.0   42.0   19.0   \n",
       "3      674       Karnataka  Davangere  Residential  6.0   9.0  302.0    NaN   \n",
       "4      NaN     West Bengal    Kolkata   Industrial  7.4  69.5   77.0  164.0   \n",
       "\n",
       "   pm2_5        date   rainfall  \n",
       "0    NaN  29/02/2008        NaN  \n",
       "1    NaN  08/04/2010  53.897548  \n",
       "2    NaN  10/11/2013        NaN  \n",
       "3    NaN  02/01/2015  95.685937  \n",
       "4    NaN  20/08/2007  83.049383  "
      ]
     },
     "execution_count": 69,
     "metadata": {},
     "output_type": "execute_result"
    }
   ],
   "source": [
    "import pandas as pd\n",
    "\n",
    "data = pd.read_csv('raw_data/India_air_quality.csv')\n",
    "data.head()\n"
   ]
  },
  {
   "cell_type": "markdown",
   "id": "930614ae",
   "metadata": {
    "slideshow": {
     "slide_type": "subslide"
    }
   },
   "source": [
    "# 💻 <code>drop_duplicates</code>\n",
    "\n",
    "Do the following:\n",
    "\n",
    "1. Check how many duplicates are in the dataframe by chaining together the pandas functions `.duplicated()` and `.sum()` on the dataframe `data`. Save this value as a variable called `duplicates_count`\n",
    "2. Remove the duplicates from the dataframe by calling the function `.drop_duplicates()` on `data`. NOTE: you need to reassign data to the return value to replace it (`data = data.drop_duplicates()`\n",
    "3. Check that the duplicates have been removed by doing step 1 again\n"
   ]
  },
  {
   "cell_type": "code",
   "execution_count": 70,
   "id": "a27e45a1",
   "metadata": {
    "ExecuteTime": {
     "end_time": "2021-10-06T14:49:15.067198Z",
     "start_time": "2021-10-06T14:49:15.059234Z"
    },
    "slideshow": {
     "slide_type": "-"
    }
   },
   "outputs": [
    {
     "data": {
      "text/plain": [
       "400"
      ]
     },
     "execution_count": 70,
     "metadata": {},
     "output_type": "execute_result"
    }
   ],
   "source": [
    "# Check number of duplicates\n",
    "duplicates_count = data.duplicated().sum()\n",
    "duplicates_count"
   ]
  },
  {
   "cell_type": "code",
   "execution_count": 71,
   "id": "261fcec6",
   "metadata": {
    "ExecuteTime": {
     "end_time": "2021-10-06T14:49:15.067198Z",
     "start_time": "2021-10-06T14:49:15.059234Z"
    },
    "slideshow": {
     "slide_type": "-"
    }
   },
   "outputs": [],
   "source": [
    "# Remove duplicates\n",
    "data = data.drop_duplicates() "
   ]
  },
  {
   "cell_type": "code",
   "execution_count": 72,
   "id": "3265711d",
   "metadata": {
    "ExecuteTime": {
     "end_time": "2021-10-06T14:49:15.067198Z",
     "start_time": "2021-10-06T14:49:15.059234Z"
    },
    "slideshow": {
     "slide_type": "-"
    }
   },
   "outputs": [
    {
     "data": {
      "text/plain": [
       "0"
      ]
     },
     "execution_count": 72,
     "metadata": {},
     "output_type": "execute_result"
    }
   ],
   "source": [
    "# Check number of duplicates\n",
    "data.duplicated().sum()"
   ]
  },
  {
   "cell_type": "markdown",
   "id": "022e2237-4d45-4bcb-9ec8-49bf316f6eb3",
   "metadata": {
    "slideshow": {
     "slide_type": "subslide"
    },
    "tags": []
   },
   "source": [
    "# 💻 <code>train_test_split</code>\n",
    "\n",
    "Do the following in this sections:\n",
    "1. Import the `train_test_split` function from `sklearn.model_selection`\n",
    "2. Create a `y` target series that contains `rspm`: this is what we will use as a label to our supervised training later, i.e. we will try to predict this property.\n",
    "3. Create an `X` feature matrix (dataframe) that contains all columns except `rspm` (use `data.drop(columns=\"rspm\")`) \n",
    "4. Create `X_train`, `y_train` (70% of the data) and a `X_test`, `y_test` (30% of the data) by using the `train_test_split` method\n",
    "5. Use the `shape` attribute of your `X_train` to verify the number of samples (should be 216741) and features (should be 11) that you have in the train set\n",
    "\n",
    "**hint 1:** When doing the `train_test_split`, you can set the `test_size` (or `train_size`) to the desired fraction\n",
    "**hint 2:** You can also split directly two dataframe / matrix together, for instance, `train_test_split(X, y, ...)`. Keep in mind that this returns `X_train, X_test, y_train, y_test` (in this order!)"
   ]
  },
  {
   "cell_type": "code",
   "execution_count": 73,
   "id": "d86cb11a",
   "metadata": {
    "ExecuteTime": {
     "end_time": "2021-10-06T14:49:14.861358Z",
     "start_time": "2021-10-06T14:49:13.697Z"
    },
    "slideshow": {
     "slide_type": "fragment"
    },
    "tags": []
   },
   "outputs": [],
   "source": [
    "from sklearn.model_selection import train_test_split\n",
    "\n",
    "#Create the features\n",
    "\n",
    "y = data['rspm']\n",
    "X = data.drop(columns='rspm')\n",
    "\n",
    "# Split the dataset\n",
    "X_train, X_test, y_train, y_test = train_test_split(X,y, test_size=0.3, random_state=rds)"
   ]
  },
  {
   "cell_type": "markdown",
   "id": "9e4724c6-967a-4a9d-94e3-bb405095a4e5",
   "metadata": {
    "slideshow": {
     "slide_type": "subslide"
    }
   },
   "source": [
    "### How many columns / samples?"
   ]
  },
  {
   "cell_type": "code",
   "execution_count": 74,
   "id": "31e992f3",
   "metadata": {
    "slideshow": {
     "slide_type": "-"
    }
   },
   "outputs": [
    {
     "data": {
      "text/plain": [
       "(216741, 10)"
      ]
     },
     "execution_count": 74,
     "metadata": {},
     "output_type": "execute_result"
    }
   ],
   "source": [
    "X_train.shape"
   ]
  },
  {
   "cell_type": "markdown",
   "id": "f1d2fe80-e96d-45e4-8192-7e3eb7ff7749",
   "metadata": {},
   "source": [
    "### ☑️ Test your code"
   ]
  },
  {
   "cell_type": "code",
   "execution_count": 75,
   "id": "b02fb0e2-c989-4cd4-804a-bf261844252f",
   "metadata": {
    "ExecuteTime": {
     "end_time": "2021-10-30T13:03:44.216915Z",
     "start_time": "2021-10-30T13:03:43.400038Z"
    },
    "tags": []
   },
   "outputs": [
    {
     "name": "stdout",
     "output_type": "stream",
     "text": [
      "\n",
      "\u001b[1m============================= test session starts ==============================\u001b[0m\n",
      "platform darwin -- Python 3.11.2, pytest-7.4.2, pluggy-1.3.0 -- /Users/cedric/.pyenv/versions/3.10/envs/dsml4pe/bin/python3\n",
      "cachedir: .pytest_cache\n",
      "rootdir: /Users/cedric/code/cedricmjohn/teaching/Machine-Learning-for-Planet-Earth-Practicals/01-Data-Preparation/02-Preprocessing-101/tests\n",
      "plugins: anyio-4.0.0\n",
      "\u001b[1mcollecting ... \u001b[0mcollected 2 items\n",
      "\n",
      "test_duplicates.py::TestDuplicates::test_dataset_length \u001b[32mPASSED\u001b[0m\u001b[32m           [ 50%]\u001b[0m\n",
      "test_duplicates.py::TestDuplicates::test_duplicate_count \u001b[32mPASSED\u001b[0m\u001b[32m          [100%]\u001b[0m\n",
      "\n",
      "\u001b[32m============================== \u001b[32m\u001b[1m2 passed\u001b[0m\u001b[32m in 0.24s\u001b[0m\u001b[32m ===============================\u001b[0m\n",
      "\n",
      "\n",
      "💯 You can commit your code:\n",
      "\n",
      "\u001b[1;32mgit\u001b[39m add tests/duplicates.pickle\n",
      "\n",
      "\u001b[32mgit\u001b[39m commit -m \u001b[33m'Completed duplicates step'\u001b[39m\n",
      "\n",
      "\u001b[32mgit\u001b[39m push origin master\n",
      "\n"
     ]
    }
   ],
   "source": [
    "from nbresult import ChallengeResult\n",
    "\n",
    "result = ChallengeResult('duplicates',\n",
    "                         duplicates = duplicates_count,\n",
    "                         dataset = X_train\n",
    ")\n",
    "\n",
    "result.write()\n",
    "print(result.check())"
   ]
  },
  {
   "cell_type": "markdown",
   "id": "03abec7e-13c5-481e-a684-97b16086c7bf",
   "metadata": {
    "slideshow": {
     "slide_type": "subslide"
    },
    "tags": []
   },
   "source": [
    "# 💻 Exploratory Data Analysis (EDA)\n",
    "\n",
    "Do the following in this sections:\n",
    "1. Check the **data type** of your train set by looking at the `X_train.dtypes`\n",
    "2. Use the `describe()` method on your `X_train` dataframe to find the various statistics on the numerical values\n",
    "3. Find the frequency of the different locations by calling the `value_counts()` method on the `X_train.location` series\n",
    "4. Plot a historgram of distribution of the `X_train.location` series\n",
    "5. Plot the histograms of all the numerical features in your `X_train` (explore the <a href=\"https://pandas.pydata.org/docs/reference/api/pandas.DataFrame.hist.html\">DataFrame.hist()</a> function)\n"
   ]
  },
  {
   "cell_type": "markdown",
   "id": "5f10857d",
   "metadata": {
    "slideshow": {
     "slide_type": "subslide"
    }
   },
   "source": [
    "### What type of data do we have?"
   ]
  },
  {
   "cell_type": "code",
   "execution_count": 76,
   "id": "46b86aa4",
   "metadata": {
    "slideshow": {
     "slide_type": "-"
    }
   },
   "outputs": [
    {
     "data": {
      "text/plain": [
       "stn_code     object\n",
       "state        object\n",
       "location     object\n",
       "type         object\n",
       "so2         float64\n",
       "no2         float64\n",
       "spm         float64\n",
       "pm2_5       float64\n",
       "date         object\n",
       "rainfall    float64\n",
       "dtype: object"
      ]
     },
     "execution_count": 76,
     "metadata": {},
     "output_type": "execute_result"
    }
   ],
   "source": [
    "X_train.dtypes"
   ]
  },
  {
   "cell_type": "markdown",
   "id": "dbe6def6",
   "metadata": {
    "slideshow": {
     "slide_type": "subslide"
    }
   },
   "source": [
    "### Describe gives us a lot of useful statistics on numerical columns"
   ]
  },
  {
   "cell_type": "code",
   "execution_count": 77,
   "id": "3bfb6d9c",
   "metadata": {
    "slideshow": {
     "slide_type": "-"
    }
   },
   "outputs": [
    {
     "data": {
      "text/html": [
       "<div>\n",
       "<style scoped>\n",
       "    .dataframe tbody tr th:only-of-type {\n",
       "        vertical-align: middle;\n",
       "    }\n",
       "\n",
       "    .dataframe tbody tr th {\n",
       "        vertical-align: top;\n",
       "    }\n",
       "\n",
       "    .dataframe thead th {\n",
       "        text-align: right;\n",
       "    }\n",
       "</style>\n",
       "<table border=\"1\" class=\"dataframe\">\n",
       "  <thead>\n",
       "    <tr style=\"text-align: right;\">\n",
       "      <th></th>\n",
       "      <th>so2</th>\n",
       "      <th>no2</th>\n",
       "      <th>spm</th>\n",
       "      <th>pm2_5</th>\n",
       "      <th>rainfall</th>\n",
       "    </tr>\n",
       "  </thead>\n",
       "  <tbody>\n",
       "    <tr>\n",
       "      <th>count</th>\n",
       "      <td>202025.000000</td>\n",
       "      <td>216741.000000</td>\n",
       "      <td>90875.000000</td>\n",
       "      <td>4583.000000</td>\n",
       "      <td>188881.000000</td>\n",
       "    </tr>\n",
       "    <tr>\n",
       "      <th>mean</th>\n",
       "      <td>11.133270</td>\n",
       "      <td>26.389450</td>\n",
       "      <td>217.544524</td>\n",
       "      <td>40.501726</td>\n",
       "      <td>79.911407</td>\n",
       "    </tr>\n",
       "    <tr>\n",
       "      <th>std</th>\n",
       "      <td>11.093978</td>\n",
       "      <td>17.986456</td>\n",
       "      <td>147.514219</td>\n",
       "      <td>30.202104</td>\n",
       "      <td>20.036673</td>\n",
       "    </tr>\n",
       "    <tr>\n",
       "      <th>min</th>\n",
       "      <td>0.000000</td>\n",
       "      <td>-66.400000</td>\n",
       "      <td>0.000000</td>\n",
       "      <td>4.000000</td>\n",
       "      <td>-24.682525</td>\n",
       "    </tr>\n",
       "    <tr>\n",
       "      <th>25%</th>\n",
       "      <td>5.000000</td>\n",
       "      <td>14.400000</td>\n",
       "      <td>110.333333</td>\n",
       "      <td>24.000000</td>\n",
       "      <td>66.362289</td>\n",
       "    </tr>\n",
       "    <tr>\n",
       "      <th>50%</th>\n",
       "      <td>8.200000</td>\n",
       "      <td>23.000000</td>\n",
       "      <td>184.000000</td>\n",
       "      <td>32.000000</td>\n",
       "      <td>79.861002</td>\n",
       "    </tr>\n",
       "    <tr>\n",
       "      <th>75%</th>\n",
       "      <td>14.000000</td>\n",
       "      <td>33.000000</td>\n",
       "      <td>289.000000</td>\n",
       "      <td>46.000000</td>\n",
       "      <td>93.447692</td>\n",
       "    </tr>\n",
       "    <tr>\n",
       "      <th>max</th>\n",
       "      <td>909.000000</td>\n",
       "      <td>876.000000</td>\n",
       "      <td>2610.000000</td>\n",
       "      <td>395.000000</td>\n",
       "      <td>166.455104</td>\n",
       "    </tr>\n",
       "  </tbody>\n",
       "</table>\n",
       "</div>"
      ],
      "text/plain": [
       "                 so2            no2           spm        pm2_5       rainfall\n",
       "count  202025.000000  216741.000000  90875.000000  4583.000000  188881.000000\n",
       "mean       11.133270      26.389450    217.544524    40.501726      79.911407\n",
       "std        11.093978      17.986456    147.514219    30.202104      20.036673\n",
       "min         0.000000     -66.400000      0.000000     4.000000     -24.682525\n",
       "25%         5.000000      14.400000    110.333333    24.000000      66.362289\n",
       "50%         8.200000      23.000000    184.000000    32.000000      79.861002\n",
       "75%        14.000000      33.000000    289.000000    46.000000      93.447692\n",
       "max       909.000000     876.000000   2610.000000   395.000000     166.455104"
      ]
     },
     "execution_count": 77,
     "metadata": {},
     "output_type": "execute_result"
    }
   ],
   "source": [
    "X_train.describe()\n"
   ]
  },
  {
   "cell_type": "markdown",
   "id": "17c2a411",
   "metadata": {
    "slideshow": {
     "slide_type": "subslide"
    }
   },
   "source": [
    "### We can query the frequency of values. Let's explore the different locations..."
   ]
  },
  {
   "cell_type": "code",
   "execution_count": 78,
   "id": "8ce543c1",
   "metadata": {
    "slideshow": {
     "slide_type": "-"
    }
   },
   "outputs": [
    {
     "data": {
      "text/plain": [
       "location\n",
       "Nagpur         6060\n",
       "Navi Mumbai    5037\n",
       "Guwahati       4784\n",
       "Nashik         4485\n",
       "Pune           4354\n",
       "               ... \n",
       "Bhuj              9\n",
       "Nizamabad         8\n",
       "Sarigam           7\n",
       "Khajuraho         7\n",
       "Gangtok           1\n",
       "Name: count, Length: 287, dtype: int64"
      ]
     },
     "execution_count": 78,
     "metadata": {},
     "output_type": "execute_result"
    }
   ],
   "source": [
    "X_train['location'].value_counts()"
   ]
  },
  {
   "cell_type": "markdown",
   "id": "8ce5eecf",
   "metadata": {
    "slideshow": {
     "slide_type": "subslide"
    }
   },
   "source": [
    "### We can also plot a histogram of the most frequent locations..."
   ]
  },
  {
   "cell_type": "code",
   "execution_count": 79,
   "id": "7444437c",
   "metadata": {
    "slideshow": {
     "slide_type": "-"
    }
   },
   "outputs": [
    {
     "data": {
      "image/png": "[encoded data removed]",
      "text/plain": [
       "<Figure size 1200x1000 with 1 Axes>"
      ]
     },
     "metadata": {},
     "output_type": "display_data"
    }
   ],
   "source": [
    "import matplotlib.pyplot as plt\n",
    "\n",
    "fig, ax = plt.subplots(1, 1, figsize=(12,10))\n",
    "\n",
    "top_ten = X_train['location'].value_counts()[:10]\n",
    "\n",
    "ax.bar(x=top_ten.index, height=top_ten.values)\n",
    "plt.xticks(rotation=45);"
   ]
  },
  {
   "cell_type": "markdown",
   "id": "d0abe147",
   "metadata": {
    "slideshow": {
     "slide_type": "subslide"
    }
   },
   "source": [
    "### Plot a histogram for the numerical features to explore the data distribution"
   ]
  },
  {
   "cell_type": "code",
   "execution_count": 80,
   "id": "b5806d56",
   "metadata": {},
   "outputs": [
    {
     "data": {
      "image/png": "[encoded data removed]",
      "text/plain": [
       "<Figure size 1000x1000 with 6 Axes>"
      ]
     },
     "metadata": {},
     "output_type": "display_data"
    }
   ],
   "source": [
    "X_train.hist(figsize=(10,10));"
   ]
  },
  {
   "cell_type": "markdown",
   "id": "facf363e-0cb8-4d08-864e-9e8fa63bba3d",
   "metadata": {
    "slideshow": {
     "slide_type": "subslide"
    },
    "tags": []
   },
   "source": [
    "# ❓ Missing Data "
   ]
  },
  {
   "cell_type": "markdown",
   "id": "9ab09b96-b576-40a4-b14d-0b4beb25fd25",
   "metadata": {
    "slideshow": {
     "slide_type": "subslide"
    }
   },
   "source": [
    "The goal of this step is to identify what data is missing in your `X_train`, and to remove columns with too many missing datapoints (in our case, we will use `>30% missing data` as our threshold to remove columns).\n",
    "\n",
    "Do the following:\n",
    "1. On your train set, call the function `.isnull()` and explore its output. What `dtype` is it? Do you understand what it does?\n",
    "2. Now chain both `.isnull()` with `.sum()`: this will give you the number of missing data in each column! Why?\n",
    "3. Let's sort this output to have the columns with the largest number of missing data at the top. Simply chain a new function, `sort_values()` to the two previous ones. You also need to pass the argument `ascending=False` to the function to have it in descending order.\n",
    "4. This is great, but how do we know whether a column has more or less then 30% missing data? Simple! Devide the output of step 3 above by the lengths of the `X_train` dataframe (or the position 0 on it's `.shape` tuple)! Anything above 0.3 means >0.3% missing data.\n"
   ]
  },
  {
   "cell_type": "code",
   "execution_count": 81,
   "id": "1f7c74e7",
   "metadata": {
    "ExecuteTime": {
     "end_time": "2021-10-06T14:49:15.358215Z",
     "start_time": "2021-10-06T14:49:15.351894Z"
    },
    "tags": []
   },
   "outputs": [
    {
     "data": {
      "text/plain": [
       "pm2_5       212158\n",
       "spm         125866\n",
       "stn_code     74057\n",
       "rainfall     27860\n",
       "so2          14716\n",
       "type           102\n",
       "date             3\n",
       "state            0\n",
       "location         0\n",
       "no2              0\n",
       "dtype: int64"
      ]
     },
     "execution_count": 81,
     "metadata": {},
     "output_type": "execute_result"
    }
   ],
   "source": [
    "#NaN count for each column\n",
    "X_train.isnull().sum().sort_values(ascending=False) "
   ]
  },
  {
   "cell_type": "code",
   "execution_count": 82,
   "id": "b40588d7-d8e1-4820-a9ef-3973c470527d",
   "metadata": {
    "ExecuteTime": {
     "end_time": "2021-10-06T14:49:15.358215Z",
     "start_time": "2021-10-06T14:49:15.351894Z"
    },
    "tags": []
   },
   "outputs": [
    {
     "data": {
      "text/plain": [
       "pm2_5       0.978855\n",
       "spm         0.580721\n",
       "stn_code    0.341684\n",
       "rainfall    0.128541\n",
       "so2         0.067897\n",
       "type        0.000471\n",
       "date        0.000014\n",
       "state       0.000000\n",
       "location    0.000000\n",
       "no2         0.000000\n",
       "dtype: float64"
      ]
     },
     "execution_count": 82,
     "metadata": {},
     "output_type": "execute_result"
    }
   ],
   "source": [
    "#NaN percentage for each column\n",
    "X_train.isnull().sum().sort_values(ascending=False)/len(X_train) \n"
   ]
  },
  {
   "cell_type": "markdown",
   "id": "9347bec6-1245-4f12-91b5-f692f6d6c5aa",
   "metadata": {
    "slideshow": {
     "slide_type": "subslide"
    }
   },
   "source": [
    "## Handling missing data\n",
    "\n",
    "Now you know what columns have more than 30% missing data. Let's handle them one by one:"
   ]
  },
  {
   "cell_type": "markdown",
   "id": "5f7b3f78-9902-4b1f-a779-fdd745419f3e",
   "metadata": {
    "slideshow": {
     "slide_type": "subslide"
    },
    "tags": []
   },
   "source": [
    "### <code>pm2_5</code>\n",
    "\n",
    "You should have learned from the exercise above that is >97% of data missing in this column. Simply drop the entire column by using the <a href=\"https://pandas.pydata.org/docs/reference/api/pandas.DataFrame.drop.html\">DataFrame.drop()</a> function.\n",
    "\n",
    "⚠️ You either need to use the `inplace=True` argument or assign the return value of this function back to `X_train` for this change to be reflected in the original `X_train`.\n",
    "\n",
    "Do the same for the other features (columns) with >30% missing data."
   ]
  },
  {
   "cell_type": "code",
   "execution_count": 83,
   "id": "3673d14b",
   "metadata": {
    "ExecuteTime": {
     "end_time": "2021-10-06T14:49:15.625993Z",
     "start_time": "2021-10-06T14:49:15.619323Z"
    },
    "tags": []
   },
   "outputs": [
    {
     "data": {
      "text/plain": [
       "97.8854946687521"
      ]
     },
     "execution_count": 83,
     "metadata": {},
     "output_type": "execute_result"
    }
   ],
   "source": [
    "(X_train.pm2_5.isnull().sum()/len(X_train))*100 # Percentage of missing values in pm2_5"
   ]
  },
  {
   "cell_type": "code",
   "execution_count": 84,
   "id": "dfae9aa3-1597-40dc-9ae0-0575eb8b8f45",
   "metadata": {
    "ExecuteTime": {
     "end_time": "2021-10-06T14:49:15.625993Z",
     "start_time": "2021-10-06T14:49:15.619323Z"
    },
    "tags": []
   },
   "outputs": [
    {
     "data": {
      "text/html": [
       "<div>\n",
       "<style scoped>\n",
       "    .dataframe tbody tr th:only-of-type {\n",
       "        vertical-align: middle;\n",
       "    }\n",
       "\n",
       "    .dataframe tbody tr th {\n",
       "        vertical-align: top;\n",
       "    }\n",
       "\n",
       "    .dataframe thead th {\n",
       "        text-align: right;\n",
       "    }\n",
       "</style>\n",
       "<table border=\"1\" class=\"dataframe\">\n",
       "  <thead>\n",
       "    <tr style=\"text-align: right;\">\n",
       "      <th></th>\n",
       "      <th>stn_code</th>\n",
       "      <th>state</th>\n",
       "      <th>location</th>\n",
       "      <th>type</th>\n",
       "      <th>so2</th>\n",
       "      <th>no2</th>\n",
       "      <th>spm</th>\n",
       "      <th>date</th>\n",
       "      <th>rainfall</th>\n",
       "    </tr>\n",
       "  </thead>\n",
       "  <tbody>\n",
       "    <tr>\n",
       "      <th>67566</th>\n",
       "      <td>193</td>\n",
       "      <td>Assam</td>\n",
       "      <td>Guwahati</td>\n",
       "      <td>Residential</td>\n",
       "      <td>6.0</td>\n",
       "      <td>13.0</td>\n",
       "      <td>NaN</td>\n",
       "      <td>05/01/2015</td>\n",
       "      <td>92.268021</td>\n",
       "    </tr>\n",
       "    <tr>\n",
       "      <th>295410</th>\n",
       "      <td>642</td>\n",
       "      <td>Maharashtra</td>\n",
       "      <td>Latur</td>\n",
       "      <td>Residential</td>\n",
       "      <td>5.0</td>\n",
       "      <td>16.0</td>\n",
       "      <td>NaN</td>\n",
       "      <td>18/10/2011</td>\n",
       "      <td>NaN</td>\n",
       "    </tr>\n",
       "    <tr>\n",
       "      <th>118557</th>\n",
       "      <td>494</td>\n",
       "      <td>Maharashtra</td>\n",
       "      <td>Navi Mumbai</td>\n",
       "      <td>Residential</td>\n",
       "      <td>12.0</td>\n",
       "      <td>44.0</td>\n",
       "      <td>NaN</td>\n",
       "      <td>05/10/2011</td>\n",
       "      <td>NaN</td>\n",
       "    </tr>\n",
       "    <tr>\n",
       "      <th>227449</th>\n",
       "      <td>NaN</td>\n",
       "      <td>Tamil Nadu</td>\n",
       "      <td>Madurai</td>\n",
       "      <td>Others</td>\n",
       "      <td>16.6</td>\n",
       "      <td>25.2</td>\n",
       "      <td>72.0</td>\n",
       "      <td>22/05/2006</td>\n",
       "      <td>59.468407</td>\n",
       "    </tr>\n",
       "    <tr>\n",
       "      <th>180266</th>\n",
       "      <td>458</td>\n",
       "      <td>Karnataka</td>\n",
       "      <td>Hassan</td>\n",
       "      <td>Residential</td>\n",
       "      <td>5.0</td>\n",
       "      <td>18.0</td>\n",
       "      <td>NaN</td>\n",
       "      <td>06/08/2012</td>\n",
       "      <td>75.121742</td>\n",
       "    </tr>\n",
       "  </tbody>\n",
       "</table>\n",
       "</div>"
      ],
      "text/plain": [
       "       stn_code        state     location         type   so2   no2   spm  \\\n",
       "67566       193        Assam     Guwahati  Residential   6.0  13.0   NaN   \n",
       "295410      642  Maharashtra        Latur  Residential   5.0  16.0   NaN   \n",
       "118557      494  Maharashtra  Navi Mumbai  Residential  12.0  44.0   NaN   \n",
       "227449      NaN   Tamil Nadu      Madurai       Others  16.6  25.2  72.0   \n",
       "180266      458    Karnataka       Hassan  Residential   5.0  18.0   NaN   \n",
       "\n",
       "              date   rainfall  \n",
       "67566   05/01/2015  92.268021  \n",
       "295410  18/10/2011        NaN  \n",
       "118557  05/10/2011        NaN  \n",
       "227449  22/05/2006  59.468407  \n",
       "180266  06/08/2012  75.121742  "
      ]
     },
     "execution_count": 84,
     "metadata": {},
     "output_type": "execute_result"
    }
   ],
   "source": [
    "X_train.drop(columns='pm2_5', inplace=True) # Drop entire column \n",
    "\n",
    "X_train.head()"
   ]
  },
  {
   "cell_type": "code",
   "execution_count": 85,
   "id": "fc4d2c66-ab66-4749-b6db-30e38edd83a9",
   "metadata": {},
   "outputs": [],
   "source": [
    "X_train.drop(columns='spm', inplace=True) # Drop entire column \n",
    "X_train.drop(columns='stn_code', inplace=True) # Drop entire column "
   ]
  },
  {
   "cell_type": "markdown",
   "id": "3bcfaaa6-33a9-4a37-b1bc-3651be9e05bf",
   "metadata": {
    "slideshow": {
     "slide_type": "subslide"
    }
   },
   "source": [
    "### <code>type</code>\n",
    "\n",
    "Type also has missing values. However, we will treat these missing values differently here. To understand why, do the following:\n",
    "\n",
    "1. Check the different categories and the number of instance of the `X_train.type` Series: you can see that there is a category named `Others`.\n",
    "2. Use the <a href=\"https://pandas.pydata.org/docs/reference/api/pandas.DataFrame.replace.html\">DataFrame.replace()</a> function to replace all of the missing values (`np.nan`) by `Others`. Make sure to reassign those values back to the `X_train` dataframe"
   ]
  },
  {
   "cell_type": "markdown",
   "id": "a02d5815-7b7c-47b1-95ab-0165c21188f0",
   "metadata": {
    "tags": []
   },
   "source": [
    "\n",
    "🚨 Missing data does not necessarily mean no information!\n"
   ]
  },
  {
   "cell_type": "code",
   "execution_count": 86,
   "id": "7b886089",
   "metadata": {
    "ExecuteTime": {
     "end_time": "2021-10-06T14:49:15.712743Z",
     "start_time": "2021-10-06T14:49:15.705836Z"
    },
    "tags": []
   },
   "outputs": [
    {
     "data": {
      "text/plain": [
       "102"
      ]
     },
     "execution_count": 86,
     "metadata": {},
     "output_type": "execute_result"
    }
   ],
   "source": [
    "import numpy as np\n",
    "\n",
    "X_train.type.isnull().sum() # Number of missing values in 'type'"
   ]
  },
  {
   "cell_type": "code",
   "execution_count": 87,
   "id": "fac384c7",
   "metadata": {
    "ExecuteTime": {
     "end_time": "2021-10-06T14:49:15.712743Z",
     "start_time": "2021-10-06T14:49:15.705836Z"
    },
    "tags": []
   },
   "outputs": [
    {
     "data": {
      "text/plain": [
       "type\n",
       "Residential    91352\n",
       "Industrial     72152\n",
       "Others         45692\n",
       "Sensitive       7443\n",
       "Name: count, dtype: int64"
      ]
     },
     "execution_count": 87,
     "metadata": {},
     "output_type": "execute_result"
    }
   ],
   "source": [
    "X_train.type.value_counts() #Check count of each category"
   ]
  },
  {
   "cell_type": "code",
   "execution_count": 88,
   "id": "9bec32a9",
   "metadata": {
    "ExecuteTime": {
     "end_time": "2021-10-06T14:49:15.712743Z",
     "start_time": "2021-10-06T14:49:15.705836Z"
    },
    "tags": []
   },
   "outputs": [],
   "source": [
    "X_train.type.replace(np.nan, 'Others', inplace=True) #Replace NaN by most generic type"
   ]
  },
  {
   "cell_type": "code",
   "execution_count": 89,
   "id": "d32d4f92-8dc2-40e9-a705-e4754427c282",
   "metadata": {
    "ExecuteTime": {
     "end_time": "2021-10-06T14:49:15.712743Z",
     "start_time": "2021-10-06T14:49:15.705836Z"
    },
    "tags": []
   },
   "outputs": [
    {
     "data": {
      "text/plain": [
       "type\n",
       "Residential    91352\n",
       "Industrial     72152\n",
       "Others         45794\n",
       "Sensitive       7443\n",
       "Name: count, dtype: int64"
      ]
     },
     "execution_count": 89,
     "metadata": {},
     "output_type": "execute_result"
    }
   ],
   "source": [
    "X_train.type.value_counts() #Check count of each category"
   ]
  },
  {
   "cell_type": "markdown",
   "id": "1106f273",
   "metadata": {
    "slideshow": {
     "slide_type": "subslide"
    }
   },
   "source": [
    "# Imputing missing data with Sklearn's <code>SimpleImputer</code>\n",
    "\n",
    "We have now dropped all of the features (columns) with too many missing data. We are now going to use the Sklearn <code>SimpleImputer()</code> class: <a href=\"https://scikit-learn.org/stable/modules/generated/sklearn.impute.SimpleImputer.html\">make sure to look at the documentation first!</a> Looking at the documentation for classes and function is one of the best way to learn to code efficiently in machine learning.\n",
    "\n",
    "The second way it to use <a href=\"https://stackoverflow.com/\">Stack Overflow</a> to look for issues you are facing in your code: more often then not, someone has had the same problem and a good solution (with a green tick) is posted. Try to use these sources of information first before calling the teaching assistant for help: it is important to learn to troubleshoot your own problems first.\n",
    "\n",
    "Remember from the class that we will use the `fit()` function on our imputer class to learn the statistics from our `X_train`, and then use the `transform()` function to change our data!\n"
   ]
  },
  {
   "cell_type": "markdown",
   "id": "024f65ec-261f-4dd2-8d8c-66822a77b35b",
   "metadata": {
    "tags": []
   },
   "source": [
    "## Numerical data\n",
    "\n",
    "Often, when you apply transformation to your data you will want to treat your numerical data differently than you categorical data. For instance, replacing a missing numerical value by the `mean()` of a column makes perfect sense. But this would not make sense for a categorical value (what is the `mean` of the `location` column?)\n",
    "\n",
    "So, we need to do the following:\n",
    "\n",
    "1. Identify the `numerical` columns: you can do this by calling the `select_dtypes()` function on the `X_train` dataframe, and passing the argument `include=np.number` to this function. This will return a dataframe containing only numerical columns! If you call `.columns` on it, you will obtain an array of column names. I suggest you store this in a variable named `num_cols` as it will be useful in later steps.\n",
    "2. Import the `SimpleImputer` class from `sklearn.impute`\n",
    "3. Create `num_imputer` instance with the \"mean\" as its strategy: `num_imputer = SimpleImputer(strategy=\"mean\")`\n",
    "4. Fit your new imputer on the `num_cols` of `train_test`\n",
    "5. You can check the statistics (in this case, the means) of each columns by calling the `.statistics_` property of the `num_imputer`\n",
    "6. Now replace the original numerical columns in `X_train` by the imputed ones, using the `transform` method of your `num_imputer`\n",
    "\n",
    "**hint** for this last step, you can write code that looks like `X_train[num_col] = ...`"
   ]
  },
  {
   "cell_type": "code",
   "execution_count": 90,
   "id": "7c947db6",
   "metadata": {
    "ExecuteTime": {
     "end_time": "2021-10-06T14:49:16.391043Z",
     "start_time": "2021-10-06T14:49:16.106973Z"
    },
    "slideshow": {
     "slide_type": "subslide"
    },
    "tags": []
   },
   "outputs": [],
   "source": [
    "from sklearn.impute import SimpleImputer\n",
    "\n",
    "num_cols = X_train.select_dtypes(include=np.number).columns # redo numerical columns\n",
    "\n",
    "imputer = SimpleImputer(strategy=\"mean\") # Instanciate a SimpleImputer object with strategy of choice"
   ]
  },
  {
   "cell_type": "code",
   "execution_count": 91,
   "id": "0854458a",
   "metadata": {
    "ExecuteTime": {
     "end_time": "2021-10-06T14:49:16.391043Z",
     "start_time": "2021-10-06T14:49:16.106973Z"
    },
    "tags": []
   },
   "outputs": [
    {
     "data": {
      "text/html": [
       "<style>#sk-container-id-3 {color: black;}#sk-container-id-3 pre{padding: 0;}#sk-container-id-3 div.sk-toggleable {background-color: white;}#sk-container-id-3 label.sk-toggleable__label {cursor: pointer;display: block;width: 100%;margin-bottom: 0;padding: 0.3em;box-sizing: border-box;text-align: center;}#sk-container-id-3 label.sk-toggleable__label-arrow:before {content: \"▸\";float: left;margin-right: 0.25em;color: #696969;}#sk-container-id-3 label.sk-toggleable__label-arrow:hover:before {color: black;}#sk-container-id-3 div.sk-estimator:hover label.sk-toggleable__label-arrow:before {color: black;}#sk-container-id-3 div.sk-toggleable__content {max-height: 0;max-width: 0;overflow: hidden;text-align: left;background-color: #f0f8ff;}#sk-container-id-3 div.sk-toggleable__content pre {margin: 0.2em;color: black;border-radius: 0.25em;background-color: #f0f8ff;}#sk-container-id-3 input.sk-toggleable__control:checked~div.sk-toggleable__content {max-height: 200px;max-width: 100%;overflow: auto;}#sk-container-id-3 input.sk-toggleable__control:checked~label.sk-toggleable__label-arrow:before {content: \"▾\";}#sk-container-id-3 div.sk-estimator input.sk-toggleable__control:checked~label.sk-toggleable__label {background-color: #d4ebff;}#sk-container-id-3 div.sk-label input.sk-toggleable__control:checked~label.sk-toggleable__label {background-color: #d4ebff;}#sk-container-id-3 input.sk-hidden--visually {border: 0;clip: rect(1px 1px 1px 1px);clip: rect(1px, 1px, 1px, 1px);height: 1px;margin: -1px;overflow: hidden;padding: 0;position: absolute;width: 1px;}#sk-container-id-3 div.sk-estimator {font-family: monospace;background-color: #f0f8ff;border: 1px dotted black;border-radius: 0.25em;box-sizing: border-box;margin-bottom: 0.5em;}#sk-container-id-3 div.sk-estimator:hover {background-color: #d4ebff;}#sk-container-id-3 div.sk-parallel-item::after {content: \"\";width: 100%;border-bottom: 1px solid gray;flex-grow: 1;}#sk-container-id-3 div.sk-label:hover label.sk-toggleable__label {background-color: #d4ebff;}#sk-container-id-3 div.sk-serial::before {content: \"\";position: absolute;border-left: 1px solid gray;box-sizing: border-box;top: 0;bottom: 0;left: 50%;z-index: 0;}#sk-container-id-3 div.sk-serial {display: flex;flex-direction: column;align-items: center;background-color: white;padding-right: 0.2em;padding-left: 0.2em;position: relative;}#sk-container-id-3 div.sk-item {position: relative;z-index: 1;}#sk-container-id-3 div.sk-parallel {display: flex;align-items: stretch;justify-content: center;background-color: white;position: relative;}#sk-container-id-3 div.sk-item::before, #sk-container-id-3 div.sk-parallel-item::before {content: \"\";position: absolute;border-left: 1px solid gray;box-sizing: border-box;top: 0;bottom: 0;left: 50%;z-index: -1;}#sk-container-id-3 div.sk-parallel-item {display: flex;flex-direction: column;z-index: 1;position: relative;background-color: white;}#sk-container-id-3 div.sk-parallel-item:first-child::after {align-self: flex-end;width: 50%;}#sk-container-id-3 div.sk-parallel-item:last-child::after {align-self: flex-start;width: 50%;}#sk-container-id-3 div.sk-parallel-item:only-child::after {width: 0;}#sk-container-id-3 div.sk-dashed-wrapped {border: 1px dashed gray;margin: 0 0.4em 0.5em 0.4em;box-sizing: border-box;padding-bottom: 0.4em;background-color: white;}#sk-container-id-3 div.sk-label label {font-family: monospace;font-weight: bold;display: inline-block;line-height: 1.2em;}#sk-container-id-3 div.sk-label-container {text-align: center;}#sk-container-id-3 div.sk-container {/* jupyter's `normalize.less` sets `[hidden] { display: none; }` but bootstrap.min.css set `[hidden] { display: none !important; }` so we also need the `!important` here to be able to override the default hidden behavior on the sphinx rendered scikit-learn.org. See: https://github.com/scikit-learn/scikit-learn/issues/21755 */display: inline-block !important;position: relative;}#sk-container-id-3 div.sk-text-repr-fallback {display: none;}</style><div id=\"sk-container-id-3\" class=\"sk-top-container\"><div class=\"sk-text-repr-fallback\"><pre>SimpleImputer()</pre><b>In a Jupyter environment, please rerun this cell to show the HTML representation or trust the notebook. <br />On GitHub, the HTML representation is unable to render, please try loading this page with nbviewer.org.</b></div><div class=\"sk-container\" hidden><div class=\"sk-item\"><div class=\"sk-estimator sk-toggleable\"><input class=\"sk-toggleable__control sk-hidden--visually\" id=\"sk-estimator-id-3\" type=\"checkbox\" checked><label for=\"sk-estimator-id-3\" class=\"sk-toggleable__label sk-toggleable__label-arrow\">SimpleImputer</label><div class=\"sk-toggleable__content\"><pre>SimpleImputer()</pre></div></div></div></div></div>"
      ],
      "text/plain": [
       "SimpleImputer()"
      ]
     },
     "execution_count": 91,
     "metadata": {},
     "output_type": "execute_result"
    }
   ],
   "source": [
    "imputer.fit(X_train[num_cols]) # Call the \"fit\" method on the object, using X_train numerical data "
   ]
  },
  {
   "cell_type": "code",
   "execution_count": 92,
   "id": "33b1d722",
   "metadata": {
    "ExecuteTime": {
     "end_time": "2021-10-06T14:49:16.391043Z",
     "start_time": "2021-10-06T14:49:16.106973Z"
    },
    "slideshow": {
     "slide_type": "subslide"
    },
    "tags": []
   },
   "outputs": [],
   "source": [
    "X_train[num_cols] = imputer.transform(X_train[num_cols]) # Call the \"transform\" method on the object"
   ]
  },
  {
   "cell_type": "code",
   "execution_count": 93,
   "id": "52081f67-1fb1-4155-ba73-4a1b0aefedc0",
   "metadata": {
    "ExecuteTime": {
     "end_time": "2021-10-06T14:49:16.391043Z",
     "start_time": "2021-10-06T14:49:16.106973Z"
    },
    "tags": []
   },
   "outputs": [
    {
     "data": {
      "text/plain": [
       "array([11.1332703 , 26.38944951, 79.91140748])"
      ]
     },
     "execution_count": 93,
     "metadata": {},
     "output_type": "execute_result"
    }
   ],
   "source": [
    "imputer.statistics_ # The mean is stored in the transformer's memory"
   ]
  },
  {
   "cell_type": "markdown",
   "id": "3dc58b8e",
   "metadata": {
    "slideshow": {
     "slide_type": "subslide"
    },
    "tags": []
   },
   "source": [
    "### Categorical data\n",
    "\n",
    "For the categorical data, you can follow a very similar approach as above:\n",
    "1. Find all of the categorical columns (`cat_cols`), this time using `exclude=np.number` in step 1 from the numerical transformation\n",
    "2. Create a new instance of the `SimpleImputer` class, call it `cat_imputer`, with the `\"most_frequent\"` strategy.\n",
    "3. Apply this new imputer to all categorical columns in a similar way as you did above for numerical columns."
   ]
  },
  {
   "cell_type": "code",
   "execution_count": 94,
   "id": "23ee3658",
   "metadata": {},
   "outputs": [],
   "source": [
    "cat_cols = X_train.select_dtypes(exclude=np.number).columns\n",
    "cat_imputer = SimpleImputer(strategy=\"most_frequent\") # Instanciate a SimpleImputer object with \"most_frequent\" strategy\n",
    "\n",
    "X_train[cat_cols] = cat_imputer.fit_transform(X_train[cat_cols]) # can 'fit_transform' in one line...\n"
   ]
  },
  {
   "cell_type": "markdown",
   "id": "f7c390ea-a8f7-4324-8132-43cf6e739bef",
   "metadata": {},
   "source": [
    "### ☑️ Test your code"
   ]
  },
  {
   "cell_type": "code",
   "execution_count": 95,
   "id": "9973544e-2ff4-4279-aea1-21de82abca6d",
   "metadata": {
    "ExecuteTime": {
     "end_time": "2021-10-30T13:03:44.216915Z",
     "start_time": "2021-10-30T13:03:43.400038Z"
    },
    "tags": []
   },
   "outputs": [
    {
     "name": "stdout",
     "output_type": "stream",
     "text": [
      "\n",
      "\u001b[1m============================= test session starts ==============================\u001b[0m\n",
      "platform darwin -- Python 3.11.2, pytest-7.4.2, pluggy-1.3.0 -- /Users/cedric/.pyenv/versions/3.10/envs/dsml4pe/bin/python3\n",
      "cachedir: .pytest_cache\n",
      "rootdir: /Users/cedric/code/cedricmjohn/teaching/Machine-Learning-for-Planet-Earth-Practicals/01-Data-Preparation/02-Preprocessing-101/tests\n",
      "plugins: anyio-4.0.0\n",
      "\u001b[1mcollecting ... \u001b[0mcollected 2 items\n",
      "\n",
      "test_missing_values.py::TestMissing_values::test_nans \u001b[32mPASSED\u001b[0m\u001b[32m             [ 50%]\u001b[0m\n",
      "test_missing_values.py::TestMissing_values::test_number_of_columns \u001b[32mPASSED\u001b[0m\u001b[32m [100%]\u001b[0m\n",
      "\n",
      "\u001b[32m============================== \u001b[32m\u001b[1m2 passed\u001b[0m\u001b[32m in 0.26s\u001b[0m\u001b[32m ===============================\u001b[0m\n",
      "\n",
      "\n",
      "💯 You can commit your code:\n",
      "\n",
      "\u001b[1;32mgit\u001b[39m add tests/missing_values.pickle\n",
      "\n",
      "\u001b[32mgit\u001b[39m commit -m \u001b[33m'Completed missing_values step'\u001b[39m\n",
      "\n",
      "\u001b[32mgit\u001b[39m push origin master\n",
      "\n"
     ]
    }
   ],
   "source": [
    "from nbresult import ChallengeResult\n",
    "\n",
    "result = ChallengeResult('missing_values',\n",
    "                         dataset = X_train\n",
    ")\n",
    "\n",
    "result.write()\n",
    "print(result.check())"
   ]
  },
  {
   "cell_type": "markdown",
   "id": "bb69e311-bfd8-4fd0-af80-485823ec96b1",
   "metadata": {
    "slideshow": {
     "slide_type": "subslide"
    }
   },
   "source": [
    "# Outliers "
   ]
  },
  {
   "cell_type": "markdown",
   "id": "345270cf-1864-4d0a-8fa8-685898a6a339",
   "metadata": {
    "tags": []
   },
   "source": [
    "We will take a simple approach to outliers here: we will consider that negative values are not possible given that we are looking at concentration of chemicals in the atmosphere. So, we will remove all negative values.\n",
    "\n",
    "Do the following:\n",
    "\n",
    "1. Find the minimum values of all `num_cols` columns (i.e. your numerical columns)\n",
    "2. Drop the rows where any of the `num_cols` are less than zero. Check the `DataFrame.drop()` function documentation to see how to do this \n",
    "\n",
    "**hint**: You may want to find the `index` of the rows where the features you want to remove are < zero, and then pay attention to the `index` parameter of the `drop()` function!"
   ]
  },
  {
   "cell_type": "code",
   "execution_count": 96,
   "id": "612dbf5c",
   "metadata": {},
   "outputs": [
    {
     "data": {
      "text/plain": [
       "so2          0.000000\n",
       "no2        -66.400000\n",
       "rainfall   -24.682525\n",
       "dtype: float64"
      ]
     },
     "execution_count": 96,
     "metadata": {},
     "output_type": "execute_result"
    }
   ],
   "source": [
    "X_train[num_cols].min()"
   ]
  },
  {
   "cell_type": "code",
   "execution_count": 97,
   "id": "018816d3-f951-4b6d-a17d-5f3f62438f84",
   "metadata": {
    "ExecuteTime": {
     "end_time": "2021-10-06T14:49:17.250268Z",
     "start_time": "2021-10-06T14:49:17.243323Z"
    },
    "slideshow": {
     "slide_type": "subslide"
    },
    "tags": []
   },
   "outputs": [
    {
     "data": {
      "text/plain": [
       "so2         0.00000\n",
       "no2         0.00000\n",
       "rainfall    0.49775\n",
       "dtype: float64"
      ]
     },
     "execution_count": 97,
     "metadata": {},
     "output_type": "execute_result"
    }
   ],
   "source": [
    "idx = X_train[(X_train.rainfall<0) | (X_train.no2<0)].index\n",
    "\n",
    "X_train = X_train.drop(index=idx)\n",
    "X_train[num_cols].min()"
   ]
  },
  {
   "cell_type": "markdown",
   "id": "cc21867e-bf11-4f72-9de9-cdc503db7862",
   "metadata": {
    "slideshow": {
     "slide_type": "subslide"
    },
    "tags": []
   },
   "source": [
    "# Feature Engineering\n",
    "\n",
    "Here, we are going to do some feature engineering on `so2` and `no2`. But first, plot the histogram of these two features and see what you observe:\n"
   ]
  },
  {
   "cell_type": "code",
   "execution_count": 98,
   "id": "e389004f",
   "metadata": {},
   "outputs": [
    {
     "data": {
      "image/png": "[encoded data removed]",
      "text/plain": [
       "<Figure size 1200x600 with 2 Axes>"
      ]
     },
     "metadata": {},
     "output_type": "display_data"
    }
   ],
   "source": [
    "X_train[['so2', 'no2']].hist(figsize=(12, 6));"
   ]
  },
  {
   "cell_type": "markdown",
   "id": "240c959d-e2eb-4edc-b0b9-5c433ddaaf25",
   "metadata": {
    "tags": []
   },
   "source": [
    "## Transforming the two features to a log scale\n",
    "\n",
    "We are going to transform these two features into a logarithmic scale, because this will distribute our data better. Taking the log of a value is a very common data engineering trick that can sometime help improve the signal-to-noise ratio of your dataset.\n",
    "\n",
    "Do the following:\n",
    "\n",
    "1. For both `so2` and `no2` replace the original value by their log. Use `np.log`, and to avoid numerical error, add a small number (`0.001`) to the original values (because the log of 0 is not a number)\n",
    "2. Draw the histograms again: did they improve?"
   ]
  },
  {
   "cell_type": "code",
   "execution_count": 99,
   "id": "11e8e3bf",
   "metadata": {
    "slideshow": {
     "slide_type": "subslide"
    }
   },
   "outputs": [],
   "source": [
    "for feature in ['so2', 'no2']:\n",
    "    X_train[feature] = np.log(X_train[feature]+0.001) # adding a small constant to avoid log of zero"
   ]
  },
  {
   "cell_type": "code",
   "execution_count": 100,
   "id": "3efa6fc1",
   "metadata": {
    "slideshow": {
     "slide_type": "fragment"
    }
   },
   "outputs": [
    {
     "data": {
      "image/png": "[encoded data removed]",
      "text/plain": [
       "<Figure size 1200x500 with 2 Axes>"
      ]
     },
     "metadata": {},
     "output_type": "display_data"
    }
   ],
   "source": [
    "X_train[['so2', 'no2']].hist(figsize=(12, 5));"
   ]
  },
  {
   "cell_type": "markdown",
   "id": "fe8aef72-1804-4b93-be82-093fd9d1e61d",
   "metadata": {
    "slideshow": {
     "slide_type": "slide"
    },
    "tags": []
   },
   "source": [
    "# Feature Scaling\n",
    "\n",
    "We are now ready to scale our numerical features! Import the `StandardScaler` class from `sklearn.preprocessing`. Remember, this is a `scikit-learn Transformer` so you already know how to use this type of object (if you forgot, go back to the `SimpleImputer` and study what you did with it.\n",
    "\n",
    "Do the following:\n",
    "1. Import the `StandardScaler`\n",
    "2. Create an instance of `StandardScaler` called `scaler`\n",
    "3. Fit the `scaler` to your numerical data, and replace the numerical columns in your `X_train` by their scaled versions!\n",
    "\n",
    "**hint**: If in doubt, read the doc! And again, even though this is a new class, you will use it in a very similar way as the `SimpleImputer` (but of course without the need to use the `strategy` argument)"
   ]
  },
  {
   "cell_type": "code",
   "execution_count": 101,
   "id": "095d5ec2",
   "metadata": {
    "ExecuteTime": {
     "end_time": "2021-10-06T14:49:18.590306Z",
     "start_time": "2021-10-06T14:49:18.254222Z"
    },
    "tags": []
   },
   "outputs": [],
   "source": [
    "from sklearn.preprocessing import StandardScaler"
   ]
  },
  {
   "cell_type": "code",
   "execution_count": 102,
   "id": "0fe1c867",
   "metadata": {
    "ExecuteTime": {
     "end_time": "2021-10-06T14:49:18.590306Z",
     "start_time": "2021-10-06T14:49:18.254222Z"
    },
    "tags": []
   },
   "outputs": [],
   "source": [
    "scaler = StandardScaler() # Instanciate StandarScaler"
   ]
  },
  {
   "cell_type": "code",
   "execution_count": 103,
   "id": "6b61eeb5",
   "metadata": {
    "ExecuteTime": {
     "end_time": "2021-10-06T14:49:18.590306Z",
     "start_time": "2021-10-06T14:49:18.254222Z"
    },
    "tags": []
   },
   "outputs": [
    {
     "data": {
      "text/html": [
       "<style>#sk-container-id-4 {color: black;}#sk-container-id-4 pre{padding: 0;}#sk-container-id-4 div.sk-toggleable {background-color: white;}#sk-container-id-4 label.sk-toggleable__label {cursor: pointer;display: block;width: 100%;margin-bottom: 0;padding: 0.3em;box-sizing: border-box;text-align: center;}#sk-container-id-4 label.sk-toggleable__label-arrow:before {content: \"▸\";float: left;margin-right: 0.25em;color: #696969;}#sk-container-id-4 label.sk-toggleable__label-arrow:hover:before {color: black;}#sk-container-id-4 div.sk-estimator:hover label.sk-toggleable__label-arrow:before {color: black;}#sk-container-id-4 div.sk-toggleable__content {max-height: 0;max-width: 0;overflow: hidden;text-align: left;background-color: #f0f8ff;}#sk-container-id-4 div.sk-toggleable__content pre {margin: 0.2em;color: black;border-radius: 0.25em;background-color: #f0f8ff;}#sk-container-id-4 input.sk-toggleable__control:checked~div.sk-toggleable__content {max-height: 200px;max-width: 100%;overflow: auto;}#sk-container-id-4 input.sk-toggleable__control:checked~label.sk-toggleable__label-arrow:before {content: \"▾\";}#sk-container-id-4 div.sk-estimator input.sk-toggleable__control:checked~label.sk-toggleable__label {background-color: #d4ebff;}#sk-container-id-4 div.sk-label input.sk-toggleable__control:checked~label.sk-toggleable__label {background-color: #d4ebff;}#sk-container-id-4 input.sk-hidden--visually {border: 0;clip: rect(1px 1px 1px 1px);clip: rect(1px, 1px, 1px, 1px);height: 1px;margin: -1px;overflow: hidden;padding: 0;position: absolute;width: 1px;}#sk-container-id-4 div.sk-estimator {font-family: monospace;background-color: #f0f8ff;border: 1px dotted black;border-radius: 0.25em;box-sizing: border-box;margin-bottom: 0.5em;}#sk-container-id-4 div.sk-estimator:hover {background-color: #d4ebff;}#sk-container-id-4 div.sk-parallel-item::after {content: \"\";width: 100%;border-bottom: 1px solid gray;flex-grow: 1;}#sk-container-id-4 div.sk-label:hover label.sk-toggleable__label {background-color: #d4ebff;}#sk-container-id-4 div.sk-serial::before {content: \"\";position: absolute;border-left: 1px solid gray;box-sizing: border-box;top: 0;bottom: 0;left: 50%;z-index: 0;}#sk-container-id-4 div.sk-serial {display: flex;flex-direction: column;align-items: center;background-color: white;padding-right: 0.2em;padding-left: 0.2em;position: relative;}#sk-container-id-4 div.sk-item {position: relative;z-index: 1;}#sk-container-id-4 div.sk-parallel {display: flex;align-items: stretch;justify-content: center;background-color: white;position: relative;}#sk-container-id-4 div.sk-item::before, #sk-container-id-4 div.sk-parallel-item::before {content: \"\";position: absolute;border-left: 1px solid gray;box-sizing: border-box;top: 0;bottom: 0;left: 50%;z-index: -1;}#sk-container-id-4 div.sk-parallel-item {display: flex;flex-direction: column;z-index: 1;position: relative;background-color: white;}#sk-container-id-4 div.sk-parallel-item:first-child::after {align-self: flex-end;width: 50%;}#sk-container-id-4 div.sk-parallel-item:last-child::after {align-self: flex-start;width: 50%;}#sk-container-id-4 div.sk-parallel-item:only-child::after {width: 0;}#sk-container-id-4 div.sk-dashed-wrapped {border: 1px dashed gray;margin: 0 0.4em 0.5em 0.4em;box-sizing: border-box;padding-bottom: 0.4em;background-color: white;}#sk-container-id-4 div.sk-label label {font-family: monospace;font-weight: bold;display: inline-block;line-height: 1.2em;}#sk-container-id-4 div.sk-label-container {text-align: center;}#sk-container-id-4 div.sk-container {/* jupyter's `normalize.less` sets `[hidden] { display: none; }` but bootstrap.min.css set `[hidden] { display: none !important; }` so we also need the `!important` here to be able to override the default hidden behavior on the sphinx rendered scikit-learn.org. See: https://github.com/scikit-learn/scikit-learn/issues/21755 */display: inline-block !important;position: relative;}#sk-container-id-4 div.sk-text-repr-fallback {display: none;}</style><div id=\"sk-container-id-4\" class=\"sk-top-container\"><div class=\"sk-text-repr-fallback\"><pre>StandardScaler()</pre><b>In a Jupyter environment, please rerun this cell to show the HTML representation or trust the notebook. <br />On GitHub, the HTML representation is unable to render, please try loading this page with nbviewer.org.</b></div><div class=\"sk-container\" hidden><div class=\"sk-item\"><div class=\"sk-estimator sk-toggleable\"><input class=\"sk-toggleable__control sk-hidden--visually\" id=\"sk-estimator-id-4\" type=\"checkbox\" checked><label for=\"sk-estimator-id-4\" class=\"sk-toggleable__label sk-toggleable__label-arrow\">StandardScaler</label><div class=\"sk-toggleable__content\"><pre>StandardScaler()</pre></div></div></div></div></div>"
      ],
      "text/plain": [
       "StandardScaler()"
      ]
     },
     "execution_count": 103,
     "metadata": {},
     "output_type": "execute_result"
    }
   ],
   "source": [
    "scaler.fit(X_train[num_cols]) # Fit scaler to data"
   ]
  },
  {
   "cell_type": "code",
   "execution_count": 104,
   "id": "32f95be9-f9e4-469c-91c1-be6f5d524818",
   "metadata": {},
   "outputs": [],
   "source": [
    "X_train[num_cols]=scaler.transform(X_train[num_cols])"
   ]
  },
  {
   "cell_type": "code",
   "execution_count": 105,
   "id": "e75910ca-afbd-4401-a37b-f3df9ddd11b5",
   "metadata": {},
   "outputs": [
    {
     "data": {
      "text/html": [
       "<div>\n",
       "<style scoped>\n",
       "    .dataframe tbody tr th:only-of-type {\n",
       "        vertical-align: middle;\n",
       "    }\n",
       "\n",
       "    .dataframe tbody tr th {\n",
       "        vertical-align: top;\n",
       "    }\n",
       "\n",
       "    .dataframe thead th {\n",
       "        text-align: right;\n",
       "    }\n",
       "</style>\n",
       "<table border=\"1\" class=\"dataframe\">\n",
       "  <thead>\n",
       "    <tr style=\"text-align: right;\">\n",
       "      <th></th>\n",
       "      <th>state</th>\n",
       "      <th>location</th>\n",
       "      <th>type</th>\n",
       "      <th>so2</th>\n",
       "      <th>no2</th>\n",
       "      <th>date</th>\n",
       "      <th>rainfall</th>\n",
       "    </tr>\n",
       "  </thead>\n",
       "  <tbody>\n",
       "    <tr>\n",
       "      <th>67566</th>\n",
       "      <td>Assam</td>\n",
       "      <td>Guwahati</td>\n",
       "      <td>Residential</td>\n",
       "      <td>-0.355873</td>\n",
       "      <td>-0.661298</td>\n",
       "      <td>05/01/2015</td>\n",
       "      <td>0.660691</td>\n",
       "    </tr>\n",
       "    <tr>\n",
       "      <th>295410</th>\n",
       "      <td>Maharashtra</td>\n",
       "      <td>Latur</td>\n",
       "      <td>Residential</td>\n",
       "      <td>-0.566040</td>\n",
       "      <td>-0.387111</td>\n",
       "      <td>18/10/2011</td>\n",
       "      <td>-0.000094</td>\n",
       "    </tr>\n",
       "    <tr>\n",
       "      <th>118557</th>\n",
       "      <td>Maharashtra</td>\n",
       "      <td>Navi Mumbai</td>\n",
       "      <td>Residential</td>\n",
       "      <td>0.443185</td>\n",
       "      <td>0.948745</td>\n",
       "      <td>05/10/2011</td>\n",
       "      <td>-0.000094</td>\n",
       "    </tr>\n",
       "    <tr>\n",
       "      <th>227449</th>\n",
       "      <td>Tamil Nadu</td>\n",
       "      <td>Madurai</td>\n",
       "      <td>Others</td>\n",
       "      <td>0.817282</td>\n",
       "      <td>0.212743</td>\n",
       "      <td>22/05/2006</td>\n",
       "      <td>-1.093307</td>\n",
       "    </tr>\n",
       "    <tr>\n",
       "      <th>180266</th>\n",
       "      <td>Karnataka</td>\n",
       "      <td>Hassan</td>\n",
       "      <td>Residential</td>\n",
       "      <td>-0.566040</td>\n",
       "      <td>-0.231577</td>\n",
       "      <td>06/08/2012</td>\n",
       "      <td>-0.256227</td>\n",
       "    </tr>\n",
       "    <tr>\n",
       "      <th>...</th>\n",
       "      <td>...</td>\n",
       "      <td>...</td>\n",
       "      <td>...</td>\n",
       "      <td>...</td>\n",
       "      <td>...</td>\n",
       "      <td>...</td>\n",
       "      <td>...</td>\n",
       "    </tr>\n",
       "    <tr>\n",
       "      <th>119927</th>\n",
       "      <td>Uttar Pradesh</td>\n",
       "      <td>Jhansi</td>\n",
       "      <td>Others</td>\n",
       "      <td>0.085631</td>\n",
       "      <td>0.375249</td>\n",
       "      <td>27/03/2009</td>\n",
       "      <td>0.322764</td>\n",
       "    </tr>\n",
       "    <tr>\n",
       "      <th>259456</th>\n",
       "      <td>West Bengal</td>\n",
       "      <td>Durgapur</td>\n",
       "      <td>Industrial</td>\n",
       "      <td>0.356759</td>\n",
       "      <td>0.951742</td>\n",
       "      <td>06/08/2004</td>\n",
       "      <td>0.616512</td>\n",
       "    </tr>\n",
       "    <tr>\n",
       "      <th>131993</th>\n",
       "      <td>Andhra Pradesh</td>\n",
       "      <td>Hyderabad</td>\n",
       "      <td>Residential</td>\n",
       "      <td>-0.566040</td>\n",
       "      <td>0.033413</td>\n",
       "      <td>23/02/2012</td>\n",
       "      <td>1.545098</td>\n",
       "    </tr>\n",
       "    <tr>\n",
       "      <th>146945</th>\n",
       "      <td>Andhra Pradesh</td>\n",
       "      <td>Guntur</td>\n",
       "      <td>Residential</td>\n",
       "      <td>-0.566040</td>\n",
       "      <td>-0.387111</td>\n",
       "      <td>09/12/2013</td>\n",
       "      <td>-0.243921</td>\n",
       "    </tr>\n",
       "    <tr>\n",
       "      <th>122007</th>\n",
       "      <td>Gujarat</td>\n",
       "      <td>Vadodara</td>\n",
       "      <td>Others</td>\n",
       "      <td>-0.009921</td>\n",
       "      <td>-0.362581</td>\n",
       "      <td>20/10/2006</td>\n",
       "      <td>-0.158804</td>\n",
       "    </tr>\n",
       "  </tbody>\n",
       "</table>\n",
       "<p>216734 rows × 7 columns</p>\n",
       "</div>"
      ],
      "text/plain": [
       "                 state     location         type       so2       no2  \\\n",
       "67566            Assam     Guwahati  Residential -0.355873 -0.661298   \n",
       "295410     Maharashtra        Latur  Residential -0.566040 -0.387111   \n",
       "118557     Maharashtra  Navi Mumbai  Residential  0.443185  0.948745   \n",
       "227449      Tamil Nadu      Madurai       Others  0.817282  0.212743   \n",
       "180266       Karnataka       Hassan  Residential -0.566040 -0.231577   \n",
       "...                ...          ...          ...       ...       ...   \n",
       "119927   Uttar Pradesh       Jhansi       Others  0.085631  0.375249   \n",
       "259456     West Bengal     Durgapur   Industrial  0.356759  0.951742   \n",
       "131993  Andhra Pradesh    Hyderabad  Residential -0.566040  0.033413   \n",
       "146945  Andhra Pradesh       Guntur  Residential -0.566040 -0.387111   \n",
       "122007         Gujarat     Vadodara       Others -0.009921 -0.362581   \n",
       "\n",
       "              date  rainfall  \n",
       "67566   05/01/2015  0.660691  \n",
       "295410  18/10/2011 -0.000094  \n",
       "118557  05/10/2011 -0.000094  \n",
       "227449  22/05/2006 -1.093307  \n",
       "180266  06/08/2012 -0.256227  \n",
       "...            ...       ...  \n",
       "119927  27/03/2009  0.322764  \n",
       "259456  06/08/2004  0.616512  \n",
       "131993  23/02/2012  1.545098  \n",
       "146945  09/12/2013 -0.243921  \n",
       "122007  20/10/2006 -0.158804  \n",
       "\n",
       "[216734 rows x 7 columns]"
      ]
     },
     "execution_count": 105,
     "metadata": {},
     "output_type": "execute_result"
    }
   ],
   "source": [
    "X_train"
   ]
  },
  {
   "cell_type": "markdown",
   "id": "3f6474fa-e0d4-4a0d-af98-c69ef0cfbfab",
   "metadata": {},
   "source": [
    "### ☑️ Test your code"
   ]
  },
  {
   "cell_type": "code",
   "execution_count": 106,
   "id": "b1432e4e-152f-41e2-8591-9f335d7562a9",
   "metadata": {
    "ExecuteTime": {
     "end_time": "2021-10-30T13:03:44.216915Z",
     "start_time": "2021-10-30T13:03:43.400038Z"
    },
    "tags": []
   },
   "outputs": [
    {
     "name": "stdout",
     "output_type": "stream",
     "text": [
      "\n",
      "\u001b[1m============================= test session starts ==============================\u001b[0m\n",
      "platform darwin -- Python 3.11.2, pytest-7.4.2, pluggy-1.3.0 -- /Users/cedric/.pyenv/versions/3.10/envs/dsml4pe/bin/python3\n",
      "cachedir: .pytest_cache\n",
      "rootdir: /Users/cedric/code/cedricmjohn/teaching/Machine-Learning-for-Planet-Earth-Practicals/01-Data-Preparation/02-Preprocessing-101/tests\n",
      "plugins: anyio-4.0.0\n",
      "\u001b[1mcollecting ... \u001b[0mcollected 2 items\n",
      "\n",
      "test_scaling.py::TestScaling::test_no2 \u001b[32mPASSED\u001b[0m\u001b[32m                            [ 50%]\u001b[0m\n",
      "test_scaling.py::TestScaling::test_so2 \u001b[32mPASSED\u001b[0m\u001b[32m                            [100%]\u001b[0m\n",
      "\n",
      "\u001b[32m============================== \u001b[32m\u001b[1m2 passed\u001b[0m\u001b[32m in 0.23s\u001b[0m\u001b[32m ===============================\u001b[0m\n",
      "\n",
      "\n",
      "💯 You can commit your code:\n",
      "\n",
      "\u001b[1;32mgit\u001b[39m add tests/scaling.pickle\n",
      "\n",
      "\u001b[32mgit\u001b[39m commit -m \u001b[33m'Completed scaling step'\u001b[39m\n",
      "\n",
      "\u001b[32mgit\u001b[39m push origin master\n",
      "\n"
     ]
    }
   ],
   "source": [
    "from nbresult import ChallengeResult\n",
    "\n",
    "result = ChallengeResult('scaling',\n",
    "                         dataset = X_train\n",
    ")\n",
    "\n",
    "result.write()\n",
    "print(result.check())"
   ]
  },
  {
   "cell_type": "markdown",
   "id": "9e254181-0b0f-465b-8127-38664c328f85",
   "metadata": {
    "slideshow": {
     "slide_type": "subslide"
    },
    "tags": []
   },
   "source": [
    "# Encoding"
   ]
  },
  {
   "cell_type": "markdown",
   "id": "7909dc4a-37ed-4cf0-b55d-818f38a0746d",
   "metadata": {
    "slideshow": {
     "slide_type": "subslide"
    }
   },
   "source": [
    "Our numerical features are all ready now. We still want to use some of our categorical features, notably the `state` column. But to do this, we first need to encode it using the `OneHotEncoder` class.\n",
    "\n",
    "Do the following:\n",
    "\n",
    "1. From `sklearn.preprocessing` import the `OneHotEncoder` class\n",
    "2. Create a new instance of the `OneHotEncoder` class, call it `ohe`. Make sure to pass the argument `sparse_output=False` when you create the encoder!\n",
    "3. Fit the `ohe` to the `X_train[[\"state\"]]` feature\n",
    "4. We want to capture the column names in the `ohe`. Create a variable with this code: `encoded_columns = ohe.categories_[0]`. Read the doc to understand what this does!\n",
    "5. Create a new array called `state_encoded` by using `ohe.transform(X_train[[\"state\"]])`\n",
    "6. Only keep the numerical columns of `X_train`, for instance, by doing `X_train = X_train[num_cols]`\n",
    "7. Now add the new One-hot-encoded columns to `X_train` by doing `X_train[encoded_columns] = state_encoded`\n",
    "8. Check how your new `X_train` dataframe looks, and check its size: you should see (216735, 36)"
   ]
  },
  {
   "cell_type": "code",
   "execution_count": 107,
   "id": "899ed553",
   "metadata": {
    "ExecuteTime": {
     "end_time": "2021-10-06T14:49:20.396658Z",
     "start_time": "2021-10-06T14:49:20.389197Z"
    },
    "tags": []
   },
   "outputs": [
    {
     "name": "stderr",
     "output_type": "stream",
     "text": [
      "/var/folders/nx/sdg8lrc53nggx6td7vn5k5140000gn/T/ipykernel_51215/1933205319.py:12: SettingWithCopyWarning: \n",
      "A value is trying to be set on a copy of a slice from a DataFrame.\n",
      "Try using .loc[row_indexer,col_indexer] = value instead\n",
      "\n",
      "See the caveats in the documentation: https://pandas.pydata.org/pandas-docs/stable/user_guide/indexing.html#returning-a-view-versus-a-copy\n",
      "  X_train[encoded_columns] = state_encoded\n",
      "/var/folders/nx/sdg8lrc53nggx6td7vn5k5140000gn/T/ipykernel_51215/1933205319.py:12: SettingWithCopyWarning: \n",
      "A value is trying to be set on a copy of a slice from a DataFrame.\n",
      "Try using .loc[row_indexer,col_indexer] = value instead\n",
      "\n",
      "See the caveats in the documentation: https://pandas.pydata.org/pandas-docs/stable/user_guide/indexing.html#returning-a-view-versus-a-copy\n",
      "  X_train[encoded_columns] = state_encoded\n",
      "/var/folders/nx/sdg8lrc53nggx6td7vn5k5140000gn/T/ipykernel_51215/1933205319.py:12: SettingWithCopyWarning: \n",
      "A value is trying to be set on a copy of a slice from a DataFrame.\n",
      "Try using .loc[row_indexer,col_indexer] = value instead\n",
      "\n",
      "See the caveats in the documentation: https://pandas.pydata.org/pandas-docs/stable/user_guide/indexing.html#returning-a-view-versus-a-copy\n",
      "  X_train[encoded_columns] = state_encoded\n"
     ]
    },
    {
     "data": {
      "text/html": [
       "<div>\n",
       "<style scoped>\n",
       "    .dataframe tbody tr th:only-of-type {\n",
       "        vertical-align: middle;\n",
       "    }\n",
       "\n",
       "    .dataframe tbody tr th {\n",
       "        vertical-align: top;\n",
       "    }\n",
       "\n",
       "    .dataframe thead th {\n",
       "        text-align: right;\n",
       "    }\n",
       "</style>\n",
       "<table border=\"1\" class=\"dataframe\">\n",
       "  <thead>\n",
       "    <tr style=\"text-align: right;\">\n",
       "      <th></th>\n",
       "      <th>so2</th>\n",
       "      <th>no2</th>\n",
       "      <th>rainfall</th>\n",
       "      <th>Andhra Pradesh</th>\n",
       "      <th>Arunachal Pradesh</th>\n",
       "      <th>Assam</th>\n",
       "      <th>Bihar</th>\n",
       "      <th>Chandigarh</th>\n",
       "      <th>Chhattisgarh</th>\n",
       "      <th>Dadra &amp; Nagar Haveli</th>\n",
       "      <th>...</th>\n",
       "      <th>Puducherry</th>\n",
       "      <th>Punjab</th>\n",
       "      <th>Rajasthan</th>\n",
       "      <th>Sikkim</th>\n",
       "      <th>Tamil Nadu</th>\n",
       "      <th>Telangana</th>\n",
       "      <th>Uttar Pradesh</th>\n",
       "      <th>Uttarakhand</th>\n",
       "      <th>Uttaranchal</th>\n",
       "      <th>West Bengal</th>\n",
       "    </tr>\n",
       "  </thead>\n",
       "  <tbody>\n",
       "    <tr>\n",
       "      <th>67566</th>\n",
       "      <td>-0.355873</td>\n",
       "      <td>-0.661298</td>\n",
       "      <td>0.660691</td>\n",
       "      <td>0.0</td>\n",
       "      <td>0.0</td>\n",
       "      <td>1.0</td>\n",
       "      <td>0.0</td>\n",
       "      <td>0.0</td>\n",
       "      <td>0.0</td>\n",
       "      <td>0.0</td>\n",
       "      <td>...</td>\n",
       "      <td>0.0</td>\n",
       "      <td>0.0</td>\n",
       "      <td>0.0</td>\n",
       "      <td>0.0</td>\n",
       "      <td>0.0</td>\n",
       "      <td>0.0</td>\n",
       "      <td>0.0</td>\n",
       "      <td>0.0</td>\n",
       "      <td>0.0</td>\n",
       "      <td>0.0</td>\n",
       "    </tr>\n",
       "    <tr>\n",
       "      <th>295410</th>\n",
       "      <td>-0.566040</td>\n",
       "      <td>-0.387111</td>\n",
       "      <td>-0.000094</td>\n",
       "      <td>0.0</td>\n",
       "      <td>0.0</td>\n",
       "      <td>0.0</td>\n",
       "      <td>0.0</td>\n",
       "      <td>0.0</td>\n",
       "      <td>0.0</td>\n",
       "      <td>0.0</td>\n",
       "      <td>...</td>\n",
       "      <td>0.0</td>\n",
       "      <td>0.0</td>\n",
       "      <td>0.0</td>\n",
       "      <td>0.0</td>\n",
       "      <td>0.0</td>\n",
       "      <td>0.0</td>\n",
       "      <td>0.0</td>\n",
       "      <td>0.0</td>\n",
       "      <td>0.0</td>\n",
       "      <td>0.0</td>\n",
       "    </tr>\n",
       "    <tr>\n",
       "      <th>118557</th>\n",
       "      <td>0.443185</td>\n",
       "      <td>0.948745</td>\n",
       "      <td>-0.000094</td>\n",
       "      <td>0.0</td>\n",
       "      <td>0.0</td>\n",
       "      <td>0.0</td>\n",
       "      <td>0.0</td>\n",
       "      <td>0.0</td>\n",
       "      <td>0.0</td>\n",
       "      <td>0.0</td>\n",
       "      <td>...</td>\n",
       "      <td>0.0</td>\n",
       "      <td>0.0</td>\n",
       "      <td>0.0</td>\n",
       "      <td>0.0</td>\n",
       "      <td>0.0</td>\n",
       "      <td>0.0</td>\n",
       "      <td>0.0</td>\n",
       "      <td>0.0</td>\n",
       "      <td>0.0</td>\n",
       "      <td>0.0</td>\n",
       "    </tr>\n",
       "    <tr>\n",
       "      <th>227449</th>\n",
       "      <td>0.817282</td>\n",
       "      <td>0.212743</td>\n",
       "      <td>-1.093307</td>\n",
       "      <td>0.0</td>\n",
       "      <td>0.0</td>\n",
       "      <td>0.0</td>\n",
       "      <td>0.0</td>\n",
       "      <td>0.0</td>\n",
       "      <td>0.0</td>\n",
       "      <td>0.0</td>\n",
       "      <td>...</td>\n",
       "      <td>0.0</td>\n",
       "      <td>0.0</td>\n",
       "      <td>0.0</td>\n",
       "      <td>0.0</td>\n",
       "      <td>1.0</td>\n",
       "      <td>0.0</td>\n",
       "      <td>0.0</td>\n",
       "      <td>0.0</td>\n",
       "      <td>0.0</td>\n",
       "      <td>0.0</td>\n",
       "    </tr>\n",
       "    <tr>\n",
       "      <th>180266</th>\n",
       "      <td>-0.566040</td>\n",
       "      <td>-0.231577</td>\n",
       "      <td>-0.256227</td>\n",
       "      <td>0.0</td>\n",
       "      <td>0.0</td>\n",
       "      <td>0.0</td>\n",
       "      <td>0.0</td>\n",
       "      <td>0.0</td>\n",
       "      <td>0.0</td>\n",
       "      <td>0.0</td>\n",
       "      <td>...</td>\n",
       "      <td>0.0</td>\n",
       "      <td>0.0</td>\n",
       "      <td>0.0</td>\n",
       "      <td>0.0</td>\n",
       "      <td>0.0</td>\n",
       "      <td>0.0</td>\n",
       "      <td>0.0</td>\n",
       "      <td>0.0</td>\n",
       "      <td>0.0</td>\n",
       "      <td>0.0</td>\n",
       "    </tr>\n",
       "  </tbody>\n",
       "</table>\n",
       "<p>5 rows × 37 columns</p>\n",
       "</div>"
      ],
      "text/plain": [
       "             so2       no2  rainfall  Andhra Pradesh  Arunachal Pradesh  \\\n",
       "67566  -0.355873 -0.661298  0.660691             0.0                0.0   \n",
       "295410 -0.566040 -0.387111 -0.000094             0.0                0.0   \n",
       "118557  0.443185  0.948745 -0.000094             0.0                0.0   \n",
       "227449  0.817282  0.212743 -1.093307             0.0                0.0   \n",
       "180266 -0.566040 -0.231577 -0.256227             0.0                0.0   \n",
       "\n",
       "        Assam  Bihar  Chandigarh  Chhattisgarh  Dadra & Nagar Haveli  ...  \\\n",
       "67566     1.0    0.0         0.0           0.0                   0.0  ...   \n",
       "295410    0.0    0.0         0.0           0.0                   0.0  ...   \n",
       "118557    0.0    0.0         0.0           0.0                   0.0  ...   \n",
       "227449    0.0    0.0         0.0           0.0                   0.0  ...   \n",
       "180266    0.0    0.0         0.0           0.0                   0.0  ...   \n",
       "\n",
       "        Puducherry  Punjab  Rajasthan  Sikkim  Tamil Nadu  Telangana  \\\n",
       "67566          0.0     0.0        0.0     0.0         0.0        0.0   \n",
       "295410         0.0     0.0        0.0     0.0         0.0        0.0   \n",
       "118557         0.0     0.0        0.0     0.0         0.0        0.0   \n",
       "227449         0.0     0.0        0.0     0.0         1.0        0.0   \n",
       "180266         0.0     0.0        0.0     0.0         0.0        0.0   \n",
       "\n",
       "        Uttar Pradesh  Uttarakhand  Uttaranchal  West Bengal  \n",
       "67566             0.0          0.0          0.0          0.0  \n",
       "295410            0.0          0.0          0.0          0.0  \n",
       "118557            0.0          0.0          0.0          0.0  \n",
       "227449            0.0          0.0          0.0          0.0  \n",
       "180266            0.0          0.0          0.0          0.0  \n",
       "\n",
       "[5 rows x 37 columns]"
      ]
     },
     "execution_count": 107,
     "metadata": {},
     "output_type": "execute_result"
    }
   ],
   "source": [
    "from sklearn.preprocessing import OneHotEncoder\n",
    "\n",
    "ohe = OneHotEncoder(sparse_output = False)\n",
    "\n",
    "ohe.fit(X_train[['state']])\n",
    "\n",
    "encoded_columns = ohe.categories_[0]\n",
    "state_encoded = ohe.transform(X_train[['state']])\n",
    "\n",
    "X_train = X_train[num_cols]\n",
    "\n",
    "X_train[encoded_columns] = state_encoded \n",
    "\n",
    "X_train.head()\n"
   ]
  },
  {
   "cell_type": "code",
   "execution_count": 108,
   "id": "bc6fbf9c",
   "metadata": {
    "ExecuteTime": {
     "end_time": "2021-10-06T14:49:20.396658Z",
     "start_time": "2021-10-06T14:49:20.389197Z"
    },
    "tags": []
   },
   "outputs": [
    {
     "data": {
      "text/plain": [
       "(216734, 37)"
      ]
     },
     "execution_count": 108,
     "metadata": {},
     "output_type": "execute_result"
    }
   ],
   "source": [
    "X_train.shape"
   ]
  },
  {
   "cell_type": "markdown",
   "id": "04606581-e9e4-48f9-bc8a-cc6663065140",
   "metadata": {},
   "source": [
    "### ☑️ Test your code"
   ]
  },
  {
   "cell_type": "code",
   "execution_count": 111,
   "id": "c9bfd35f-6f4c-459e-b43c-93d3ee214761",
   "metadata": {
    "ExecuteTime": {
     "end_time": "2021-10-30T13:03:44.216915Z",
     "start_time": "2021-10-30T13:03:43.400038Z"
    },
    "tags": []
   },
   "outputs": [
    {
     "name": "stdout",
     "output_type": "stream",
     "text": [
      "\n",
      "\u001b[1m============================= test session starts ==============================\u001b[0m\n",
      "platform darwin -- Python 3.11.2, pytest-7.4.2, pluggy-1.3.0 -- /Users/cedric/.pyenv/versions/3.10/envs/dsml4pe/bin/python3\n",
      "cachedir: .pytest_cache\n",
      "rootdir: /Users/cedric/code/cedricmjohn/teaching/Machine-Learning-for-Planet-Earth-Practicals/01-Data-Preparation/02-Preprocessing-101/tests\n",
      "plugins: anyio-4.0.0\n",
      "\u001b[1mcollecting ... \u001b[0mcollected 3 items\n",
      "\n",
      "test_encoding.py::TestEncoding::test_columns \u001b[32mPASSED\u001b[0m\u001b[32m                      [ 33%]\u001b[0m\n",
      "test_encoding.py::TestEncoding::test_max_values \u001b[32mPASSED\u001b[0m\u001b[32m                   [ 66%]\u001b[0m\n",
      "test_encoding.py::TestEncoding::test_number_of_features \u001b[32mPASSED\u001b[0m\u001b[32m           [100%]\u001b[0m\n",
      "\n",
      "\u001b[32m============================== \u001b[32m\u001b[1m3 passed\u001b[0m\u001b[32m in 0.04s\u001b[0m\u001b[32m ===============================\u001b[0m\n",
      "\n",
      "\n",
      "💯 You can commit your code:\n",
      "\n",
      "\u001b[1;32mgit\u001b[39m add tests/encoding.pickle\n",
      "\n",
      "\u001b[32mgit\u001b[39m commit -m \u001b[33m'Completed encoding step'\u001b[39m\n",
      "\n",
      "\u001b[32mgit\u001b[39m push origin master\n",
      "\n"
     ]
    }
   ],
   "source": [
    "from nbresult import ChallengeResult\n",
    "\n",
    "max_values = [X_train[feature].max() for feature in ['Assam','Bihar', 'Chandigarh', 'Chhattisgarh']]\n",
    "nb_ohe = X_train.drop(columns=['so2','no2','rainfall']).columns.shape[0]\n",
    "\n",
    "result = ChallengeResult('encoding',\n",
    "                         nb_columns = len(X_train.columns),\n",
    "                         max_values = max_values,\n",
    "                         nb_ohe = nb_ohe\n",
    "                         \n",
    ")\n",
    "\n",
    "result.write()\n",
    "print(result.check())"
   ]
  },
  {
   "cell_type": "markdown",
   "id": "7a9430e8-4db5-468d-93e2-cd1d92053f82",
   "metadata": {
    "slideshow": {
     "slide_type": "subslide"
    },
    "tags": []
   },
   "source": [
    "# Preparing our `y_train`\n",
    "\n",
    "## Droping samples\n",
    "When we prepared our `X_train` above, we ended up droping rows because some were duplicated, or outliers. If you test the `shape` of our `y_train` and compare it to the shape of the `X_train`, you will notice that we have different number of samples. This will be a problem soon, when we try to model.\n",
    "\n",
    "Luckily, we can use the index values of the `X_train` to only keep the `y_train` that are relevant to us!\n",
    "\n",
    "Do the following:\n",
    "\n",
    "1. create a new variable, `idx`, which is equal to the `index` of the `X_train` dataset\n",
    "2. Reassign `y_train` to only contain the values with the same index as `X_train`: `y_train = y_train[idx]`\n",
    "3. If you check the `shape` of your `y_train`, it should be now (216735,)"
   ]
  },
  {
   "cell_type": "code",
   "execution_count": 112,
   "id": "fb372876-45a8-4ad8-b6df-d577d4b23f4c",
   "metadata": {},
   "outputs": [
    {
     "data": {
      "text/plain": [
       "(216734,)"
      ]
     },
     "execution_count": 112,
     "metadata": {},
     "output_type": "execute_result"
    }
   ],
   "source": [
    "idx = X_train.index\n",
    "y_train = y_train[idx]\n",
    "y_train.shape"
   ]
  },
  {
   "cell_type": "markdown",
   "id": "8ebbd63e-3b7b-4378-91e3-8f7a680049ee",
   "metadata": {},
   "source": [
    "### ☑️ Test your code"
   ]
  },
  {
   "cell_type": "code",
   "execution_count": 114,
   "id": "5d7c132d-aced-42fc-ae79-d072ecf3dd6c",
   "metadata": {
    "ExecuteTime": {
     "end_time": "2021-10-30T13:03:44.216915Z",
     "start_time": "2021-10-30T13:03:43.400038Z"
    },
    "tags": []
   },
   "outputs": [
    {
     "name": "stdout",
     "output_type": "stream",
     "text": [
      "\n",
      "\u001b[1m============================= test session starts ==============================\u001b[0m\n",
      "platform darwin -- Python 3.11.2, pytest-7.4.2, pluggy-1.3.0 -- /Users/cedric/.pyenv/versions/3.10/envs/dsml4pe/bin/python3\n",
      "cachedir: .pytest_cache\n",
      "rootdir: /Users/cedric/code/cedricmjohn/teaching/Machine-Learning-for-Planet-Earth-Practicals/01-Data-Preparation/02-Preprocessing-101/tests\n",
      "plugins: anyio-4.0.0\n",
      "\u001b[1mcollecting ... \u001b[0mcollected 1 item\n",
      "\n",
      "test_y_cat.py::TestY_cat::test_number_cat \u001b[32mPASSED\u001b[0m\u001b[32m                         [100%]\u001b[0m\n",
      "\n",
      "\u001b[32m============================== \u001b[32m\u001b[1m1 passed\u001b[0m\u001b[32m in 0.18s\u001b[0m\u001b[32m ===============================\u001b[0m\n",
      "\n",
      "\n",
      "💯 You can commit your code:\n",
      "\n",
      "\u001b[1;32mgit\u001b[39m add tests/y_cat.pickle\n",
      "\n",
      "\u001b[32mgit\u001b[39m commit -m \u001b[33m'Completed y_cat step'\u001b[39m\n",
      "\n",
      "\u001b[32mgit\u001b[39m push origin master\n",
      "\n"
     ]
    }
   ],
   "source": [
    "from nbresult import ChallengeResult\n",
    "\n",
    "result = ChallengeResult('y_cat',\n",
    "                         dataset = y_train\n",
    ")\n",
    "\n",
    "result.write()\n",
    "print(result.check())"
   ]
  },
  {
   "cell_type": "markdown",
   "id": "e4e2f63d-419b-496b-a96c-a045a5fddcec",
   "metadata": {},
   "source": [
    "# Modelling\n",
    "\n",
    "Now comes the fun bit! We are going to try to predict the levell of pollution (`y_train_cat`) based on our features (`X_train`). We will also use cross validation to see which model performs better.\n",
    "\n",
    "Do the following:\n",
    "1. Import `LinearRegression` from `sklearn.linear_model` as well as `cross_validate` from `sklearn.model_selection`\n",
    "2. Create a new instance of `LinearRegression`, call it `lr_model`. \n",
    "3. Cross validate (`cv=5`, `scoring='neg_mean_squared_error'`) your logistic regression model: make sure to capture the output of the function in a variable (`lr_cv`)\n",
    "4. `lr_cv` should be a Python dictionary containing `fit_time`, `score_time`, and `test_score`. Calculate the mean test score as the `root mean squared error` for this linear regression."
   ]
  },
  {
   "cell_type": "code",
   "execution_count": 120,
   "id": "93ca1d8f-fcff-4bed-93ad-c3fb05d9bc8e",
   "metadata": {},
   "outputs": [],
   "source": [
    "from sklearn.linear_model import LinearRegression\n",
    "from sklearn.model_selection import cross_validate\n",
    "\n",
    "lr_model = LinearRegression()\n",
    "\n",
    "lr_cv = cross_validate(lr_model, X_train[['so2', 'no2', 'rainfall']], y_train, cv=5, scoring='neg_mean_squared_error')"
   ]
  },
  {
   "cell_type": "code",
   "execution_count": 122,
   "id": "27a2ea9b-83d0-4be2-89c0-7605c61580da",
   "metadata": {},
   "outputs": [
    {
     "data": {
      "text/plain": [
       "-4739.057604390413"
      ]
     },
     "execution_count": 122,
     "metadata": {},
     "output_type": "execute_result"
    }
   ],
   "source": [
    "lr_cv['test_score'].mean()"
   ]
  },
  {
   "cell_type": "code",
   "execution_count": 123,
   "id": "e931e5fd-d040-48ce-af05-8e1440e3d17d",
   "metadata": {},
   "outputs": [
    {
     "data": {
      "text/plain": [
       "68.84081350761635"
      ]
     },
     "execution_count": 123,
     "metadata": {},
     "output_type": "execute_result"
    }
   ],
   "source": [
    "np.sqrt(abs(lr_cv['test_score'].mean()))"
   ]
  },
  {
   "cell_type": "markdown",
   "id": "ad3f8c10-0409-4b6c-99be-7c6945fdbbf9",
   "metadata": {},
   "source": [
    "### How good is your score?\n",
    "Is your score decent? Why do you think that is?\n",
    "<details><summary>Answer</summary> This is a terrible score of course: the root mean square error is magnitudes larger than what we are trying to predict. But why? This has to do in part with the fact that we now have a lot of columns that determines where the measurement was taken. This does not help in the prediction, and add noise. We will see this week that having the right number of features (and features with high predictive power) is key. Another possible explanation is that the relationship between our `y` and our `X` is not linear, and thus a linear model such as ours will not work well.</details>\n",
    "\n",
    "## Modelling attempt 2\n",
    "\n",
    "Now do exactly the same process as above, but instead of modelling with the entire `X_train`, only use the features `so2`, `no2`, and `rainfall`."
   ]
  },
  {
   "cell_type": "markdown",
   "id": "6f1f6c78-e2c2-4498-a1a5-cfb1a529951a",
   "metadata": {},
   "source": [
    "Is your new `lr_cv` score a good score? Save your answer as either `True` or `False` (boolean) in a variable called `is_good_score`:"
   ]
  },
  {
   "cell_type": "code",
   "execution_count": 124,
   "id": "b2228277-77f4-4bf2-943f-4100545c8465",
   "metadata": {},
   "outputs": [
    {
     "data": {
      "text/plain": [
       "68.84081350761635"
      ]
     },
     "execution_count": 124,
     "metadata": {},
     "output_type": "execute_result"
    }
   ],
   "source": [
    "lr_cv = cross_validate(lr_model, X_train[['so2', 'no2', 'rainfall']], y_train, cv=5, scoring='neg_mean_squared_error')\n",
    "np.sqrt(abs(lr_cv['test_score'].mean()))"
   ]
  },
  {
   "cell_type": "code",
   "execution_count": 95,
   "id": "de39b685-fe11-4e32-99c8-592e1279cbf1",
   "metadata": {},
   "outputs": [],
   "source": [
    "is_good_score = False"
   ]
  },
  {
   "cell_type": "markdown",
   "id": "35aa45d2-540d-491b-bf89-4a499d3ac9e0",
   "metadata": {},
   "source": [
    "<details><summary>Answer</summary> Yes, the score is now within the same order of magnitude as our `y`. So this is a good improvement. However, looking critically at it, we can see that the mean error is about 80% of the data itself. So our error is still large. This means that our target variables are not predictive enough for the task.</details>"
   ]
  },
  {
   "cell_type": "markdown",
   "id": "52549197-063b-46c9-b8d2-ed90054913b5",
   "metadata": {
    "tags": []
   },
   "source": [
    "### ☑️ Test your code"
   ]
  },
  {
   "cell_type": "code",
   "execution_count": 126,
   "id": "efe090a7-ef62-4bf7-afc4-8add89a59fd1",
   "metadata": {
    "ExecuteTime": {
     "end_time": "2021-10-30T13:03:44.216915Z",
     "start_time": "2021-10-30T13:03:43.400038Z"
    },
    "tags": []
   },
   "outputs": [
    {
     "name": "stdout",
     "output_type": "stream",
     "text": [
      "\n",
      "\u001b[1m============================= test session starts ==============================\u001b[0m\n",
      "platform darwin -- Python 3.11.2, pytest-7.4.2, pluggy-1.3.0 -- /Users/cedric/.pyenv/versions/3.10/envs/dsml4pe/bin/python3\n",
      "cachedir: .pytest_cache\n",
      "rootdir: /Users/cedric/code/cedricmjohn/teaching/Machine-Learning-for-Planet-Earth-Practicals/01-Data-Preparation/02-Preprocessing-101/tests\n",
      "plugins: anyio-4.0.0\n",
      "\u001b[1mcollecting ... \u001b[0mcollected 2 items\n",
      "\n",
      "test_cross_validate.py::TestCross_validate::test_cv_score \u001b[32mPASSED\u001b[0m\u001b[32m         [ 50%]\u001b[0m\n",
      "test_cross_validate.py::TestCross_validate::test_is_good_score \u001b[32mPASSED\u001b[0m\u001b[32m    [100%]\u001b[0m\n",
      "\n",
      "\u001b[32m============================== \u001b[32m\u001b[1m2 passed\u001b[0m\u001b[32m in 0.04s\u001b[0m\u001b[32m ===============================\u001b[0m\n",
      "\n",
      "\n",
      "💯 You can commit your code:\n",
      "\n",
      "\u001b[1;32mgit\u001b[39m add tests/cross_validate.pickle\n",
      "\n",
      "\u001b[32mgit\u001b[39m commit -m \u001b[33m'Completed cross_validate step'\u001b[39m\n",
      "\n",
      "\u001b[32mgit\u001b[39m push origin master\n",
      "\n"
     ]
    }
   ],
   "source": [
    "from nbresult import ChallengeResult\n",
    "\n",
    "result = ChallengeResult('cross_validate',\n",
    "                         cv_lr = lr_cv,\n",
    "                         is_good = is_good_score\n",
    ")\n",
    "\n",
    "result.write()\n",
    "print(result.check())"
   ]
  },
  {
   "cell_type": "markdown",
   "id": "79fc641f-4dea-4e77-be87-55312f572ad9",
   "metadata": {
    "tags": []
   },
   "source": [
    "# 🏁 Finished!\n",
    "\n",
    "Well done! Indeed, this was a terrible score. But the goal of this exercise was to make you familiar with the process, not necessarily to gain the best predictive model. We will be able to do this in subsequent exercises.<br> \n",
    "<span style=\"color:teal\">**Push your exercise to GitHub**</span>, and move on to the next one."
   ]
  },
  {
   "cell_type": "code",
   "execution_count": null,
   "id": "75606cac-1362-4458-87eb-7c6a1a59384b",
   "metadata": {},
   "outputs": [],
   "source": []
  }
 ],
 "metadata": {
  "celltoolbar": "Slideshow",
  "kernelspec": {
   "display_name": "Python 3 (ipykernel)",
   "language": "python",
   "name": "python3"
  },
  "language_info": {
   "codemirror_mode": {
    "name": "ipython",
    "version": 3
   },
   "file_extension": ".py",
   "mimetype": "text/x-python",
   "name": "python",
   "nbconvert_exporter": "python",
   "pygments_lexer": "ipython3",
   "version": "3.11.2"
  },
  "rise": {
   "scroll": true,
   "theme": "serif",
   "transition": "none"
  },
  "toc": {
   "base_numbering": 1,
   "nav_menu": {},
   "number_sections": false,
   "sideBar": true,
   "skip_h1_title": false,
   "title_cell": "Table of Contents",
   "title_sidebar": "Contents",
   "toc_cell": false,
   "toc_position": {},
   "toc_section_display": false,
   "toc_window_display": false
  },
  "voila": {
   "strip_sources": "False",
   "template": "reveal"
  }
 },
 "nbformat": 4,
 "nbformat_minor": 5
}
