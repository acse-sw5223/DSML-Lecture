{
 "cells": [
  {
   "cell_type": "markdown",
   "id": "a554df35",
   "metadata": {},
   "source": [
    "<img src=\"https://drive.google.com/uc?id=1-d7H1l1lJ28_sLcd9Vvh_N-yro7CJZcZ\" style=\"Width:1000px\">"
   ]
  },
  {
   "cell_type": "markdown",
   "id": "b29c4632",
   "metadata": {},
   "source": [
    "# Golden Plains Roadside Biodiversity"
   ]
  },
  {
   "cell_type": "markdown",
   "id": "7e7a3842",
   "metadata": {},
   "source": [
    "This is your first data problem! Remember, \"Data Problems\" are a little bit less directed than the skills problem. They are here to encourage you to use your critical thinking when dealing with data. It is also a better reflection of the type of problems you will encounter during your assessed coursework at the end of the course. Make sure you understand what you have done in the previous exercises, and apply it here. Also, ***get into the habit of maintaining a  clean, working notebook***. This will be a key assessment criteria for your marked coursework later next week, so take this opportunity (and further ones) to learn how to do this. This includes using `markdown` cells for comments and observations, making sure your code can run from top to bottom when using `run all cells` from the menu, and of course, keeping a **clean code** practice. It also also a good idea, once you are done with your work, to put all of your `import` statements at the top of the notebook: this way, it is clear what is imported in the entire notebook and allows you to focus on your more important code below.\n",
    "\n",
    "Here is a little bit of information on the data you are given. Golden Plains Shire (Australia) is responsible for managing 1834 kilometres of road reserves. Road reserves are not only used for transport but also act as service corridors, in fire prevention, recreation, and occasionally agricultural pursuits. Native vegetation on roadsides is important flora and fauna habitat and landscape character.\n",
    "\n",
    "In 2014, Golden Plains Shire acquired funding through the Victorian Adaptation and Sustainability Partnership (VASP) to undertake Councils ‘Building Adaptive Capacity on Roadsides’ project. The Project was designed to identify significant environmental assets on roadsides, improve roadside management practices and reduce Council’s risk of potential breaches against Federal and State environmental legislation. \n",
    "\n",
    "The council made this <a href='https://data.gov.au/data/dataset/golden-plains-roadside-biodiversity'>dataset available here</a>.<br>\n",
    "![plain](https://upload.wikimedia.org/wikipedia/commons/thumb/6/6b/Mount_Conner%2C_August_2003.jpg/375px-Mount_Conner%2C_August_2003.jpg)\n",
    "<br>\n",
    "\n",
    "🎯 Today, you will work with a simplified version of this real dataset. The dataset contains a number of biodiversity observations including one on tree size (`RCACTreesS`). This exercise consists of the data preparation and modelling techniques you have learnt: our goal is to predict via linear regression the `RCACTreesS` using the available features and obtain a good score.\n",
    "\n",
    "⚠️ This is a long exercises, which will require you to think about the data. Don't hesitate to plot things - if you need to use algorithm that use a `random_seed` such as `train_test_split` or others, remember to always use the value `42` so your results can be compared to the proposed solution. If you get stuck, ask a TA!"
   ]
  },
  {
   "cell_type": "markdown",
   "id": "cfcfaf49",
   "metadata": {},
   "source": [
    "# Part I: Ensuring Generalization and EDA\n",
    "\n",
    "In this first part, do the following:\n",
    "1. 👇 Load the data into this notebook as a pandas dataframe named `df`, and display its first 5 rows.\n",
    "2. Check for and drop duplicates\n",
    "3. We will use the `RCACTreesS` as our target variable (`y`) and all other columns as our features (`X`).\n",
    "4. Split the dataset into 80%/20% train/test splits (use a `random_state=42`) to create your `X_train`, `X_test`, `y_train`, `y_test` (see above regarding the `y`).\n",
    "5. **Using only the X_train**, spend some time exploring the dataset, for instance looking at the different columns it contains, it's data types, any missing values. Check for correlations between features, and draw some plots. At the end of this EDA stage, you should have a good idea of what the data is. Try to keep this notebook cleanly organised, using `Markdown` cells to put comments for yourself (and your TAs) about your observations."
   ]
  },
  {
   "cell_type": "code",
   "execution_count": 1,
   "id": "0ad7ead4",
   "metadata": {},
   "outputs": [],
   "source": [
    "from nbta.utils import download_data\n",
    "download_data(id='19qi8xMUaamIAX8KcZproR33c2JQcOAul')"
   ]
  },
  {
   "cell_type": "markdown",
   "id": "9e07f02f",
   "metadata": {},
   "source": [
    "# All imports below:"
   ]
  },
  {
   "cell_type": "code",
   "execution_count": 2,
   "id": "bc85557e",
   "metadata": {},
   "outputs": [],
   "source": [
    "# Standard Imports\n",
    "import pandas as pd\n",
    "import numpy as np\n",
    "import matplotlib.pyplot as plt\n",
    "import seaborn as sns\n",
    "\n",
    "# Data preprocessing\n",
    "from sklearn.model_selection import train_test_split"
   ]
  },
  {
   "cell_type": "code",
   "execution_count": 3,
   "id": "0385f582",
   "metadata": {},
   "outputs": [
    {
     "data": {
      "text/html": [
       "<div>\n",
       "<style scoped>\n",
       "    .dataframe tbody tr th:only-of-type {\n",
       "        vertical-align: middle;\n",
       "    }\n",
       "\n",
       "    .dataframe tbody tr th {\n",
       "        vertical-align: top;\n",
       "    }\n",
       "\n",
       "    .dataframe thead th {\n",
       "        text-align: right;\n",
       "    }\n",
       "</style>\n",
       "<table border=\"1\" class=\"dataframe\">\n",
       "  <thead>\n",
       "    <tr style=\"text-align: right;\">\n",
       "      <th></th>\n",
       "      <th>ZoneName</th>\n",
       "      <th>LengthM</th>\n",
       "      <th>SiteCode</th>\n",
       "      <th>DateStart</th>\n",
       "      <th>DateFinish</th>\n",
       "      <th>ZoneDescription</th>\n",
       "      <th>Comments</th>\n",
       "      <th>Comments2</th>\n",
       "      <th>RoadType</th>\n",
       "      <th>RCACScore</th>\n",
       "      <th>...</th>\n",
       "      <th>Majorweeds</th>\n",
       "      <th>Locality</th>\n",
       "      <th>LandFormLS</th>\n",
       "      <th>LandForm00</th>\n",
       "      <th>SoilType</th>\n",
       "      <th>EVCCode</th>\n",
       "      <th>EVCNotes</th>\n",
       "      <th>EVCSource</th>\n",
       "      <th>Origin</th>\n",
       "      <th>Recommenda</th>\n",
       "    </tr>\n",
       "  </thead>\n",
       "  <tbody>\n",
       "    <tr>\n",
       "      <th>0</th>\n",
       "      <td>bellclover court</td>\n",
       "      <td>3</td>\n",
       "      <td>g252</td>\n",
       "      <td>17/09/2014</td>\n",
       "      <td>17/09/2014</td>\n",
       "      <td>semi-urban, few remnants</td>\n",
       "      <td>NaN</td>\n",
       "      <td>NaN</td>\n",
       "      <td>NaN</td>\n",
       "      <td>2</td>\n",
       "      <td>...</td>\n",
       "      <td>NaN</td>\n",
       "      <td>NaN</td>\n",
       "      <td>NaN</td>\n",
       "      <td>NaN</td>\n",
       "      <td>NaN</td>\n",
       "      <td>47</td>\n",
       "      <td>47</td>\n",
       "      <td>survey</td>\n",
       "      <td>NaN</td>\n",
       "      <td>NaN</td>\n",
       "    </tr>\n",
       "    <tr>\n",
       "      <th>1</th>\n",
       "      <td>bellclover court</td>\n",
       "      <td>3</td>\n",
       "      <td>g252</td>\n",
       "      <td>17/09/2014</td>\n",
       "      <td>17/09/2014</td>\n",
       "      <td>semi-urban, few remnants</td>\n",
       "      <td>NaN</td>\n",
       "      <td>roadside only scores hcv due to listed species...</td>\n",
       "      <td>NaN</td>\n",
       "      <td>17</td>\n",
       "      <td>...</td>\n",
       "      <td>NaN</td>\n",
       "      <td>NaN</td>\n",
       "      <td>NaN</td>\n",
       "      <td>NaN</td>\n",
       "      <td>NaN</td>\n",
       "      <td>47</td>\n",
       "      <td>47</td>\n",
       "      <td>survey</td>\n",
       "      <td>NaN</td>\n",
       "      <td>NaN</td>\n",
       "    </tr>\n",
       "    <tr>\n",
       "      <th>2</th>\n",
       "      <td>westgate road</td>\n",
       "      <td>9</td>\n",
       "      <td>g086</td>\n",
       "      <td>17/09/2014</td>\n",
       "      <td>17/09/2014</td>\n",
       "      <td>semi-urban, few remnants</td>\n",
       "      <td>NaN</td>\n",
       "      <td>NaN</td>\n",
       "      <td>NaN</td>\n",
       "      <td>3</td>\n",
       "      <td>...</td>\n",
       "      <td>NaN</td>\n",
       "      <td>NaN</td>\n",
       "      <td>NaN</td>\n",
       "      <td>NaN</td>\n",
       "      <td>NaN</td>\n",
       "      <td>47</td>\n",
       "      <td>47</td>\n",
       "      <td>survey</td>\n",
       "      <td>NaN</td>\n",
       "      <td>NaN</td>\n",
       "    </tr>\n",
       "    <tr>\n",
       "      <th>3</th>\n",
       "      <td>westgate road</td>\n",
       "      <td>9</td>\n",
       "      <td>g086</td>\n",
       "      <td>17/09/2014</td>\n",
       "      <td>17/09/2014</td>\n",
       "      <td>semi-urban, few remnants</td>\n",
       "      <td>NaN</td>\n",
       "      <td>NaN</td>\n",
       "      <td>NaN</td>\n",
       "      <td>6</td>\n",
       "      <td>...</td>\n",
       "      <td>NaN</td>\n",
       "      <td>NaN</td>\n",
       "      <td>NaN</td>\n",
       "      <td>NaN</td>\n",
       "      <td>NaN</td>\n",
       "      <td>47</td>\n",
       "      <td>47</td>\n",
       "      <td>survey</td>\n",
       "      <td>NaN</td>\n",
       "      <td>NaN</td>\n",
       "    </tr>\n",
       "    <tr>\n",
       "      <th>4</th>\n",
       "      <td>haddon common road</td>\n",
       "      <td>9</td>\n",
       "      <td>g083b</td>\n",
       "      <td>17/09/2014</td>\n",
       "      <td>17/09/2014</td>\n",
       "      <td>forest</td>\n",
       "      <td>NaN</td>\n",
       "      <td>NaN</td>\n",
       "      <td>NaN</td>\n",
       "      <td>15</td>\n",
       "      <td>...</td>\n",
       "      <td>NaN</td>\n",
       "      <td>NaN</td>\n",
       "      <td>NaN</td>\n",
       "      <td>NaN</td>\n",
       "      <td>NaN</td>\n",
       "      <td>20</td>\n",
       "      <td>20</td>\n",
       "      <td>survey</td>\n",
       "      <td>NaN</td>\n",
       "      <td>NaN</td>\n",
       "    </tr>\n",
       "  </tbody>\n",
       "</table>\n",
       "<p>5 rows × 64 columns</p>\n",
       "</div>"
      ],
      "text/plain": [
       "             ZoneName  LengthM SiteCode   DateStart  DateFinish  \\\n",
       "0    bellclover court        3     g252  17/09/2014  17/09/2014   \n",
       "1    bellclover court        3     g252  17/09/2014  17/09/2014   \n",
       "2       westgate road        9     g086  17/09/2014  17/09/2014   \n",
       "3       westgate road        9     g086  17/09/2014  17/09/2014   \n",
       "4  haddon common road        9    g083b  17/09/2014  17/09/2014   \n",
       "\n",
       "            ZoneDescription Comments  \\\n",
       "0  semi-urban, few remnants      NaN   \n",
       "1  semi-urban, few remnants      NaN   \n",
       "2  semi-urban, few remnants      NaN   \n",
       "3  semi-urban, few remnants      NaN   \n",
       "4                    forest      NaN   \n",
       "\n",
       "                                           Comments2  RoadType  RCACScore  \\\n",
       "0                                                NaN       NaN          2   \n",
       "1  roadside only scores hcv due to listed species...       NaN         17   \n",
       "2                                                NaN       NaN          3   \n",
       "3                                                NaN       NaN          6   \n",
       "4                                                NaN       NaN         15   \n",
       "\n",
       "   ...  Majorweeds Locality LandFormLS  LandForm00  SoilType  EVCCode  \\\n",
       "0  ...         NaN      NaN        NaN         NaN       NaN       47   \n",
       "1  ...         NaN      NaN        NaN         NaN       NaN       47   \n",
       "2  ...         NaN      NaN        NaN         NaN       NaN       47   \n",
       "3  ...         NaN      NaN        NaN         NaN       NaN       47   \n",
       "4  ...         NaN      NaN        NaN         NaN       NaN       20   \n",
       "\n",
       "   EVCNotes  EVCSource  Origin  Recommenda  \n",
       "0        47     survey     NaN         NaN  \n",
       "1        47     survey     NaN         NaN  \n",
       "2        47     survey     NaN         NaN  \n",
       "3        47     survey     NaN         NaN  \n",
       "4        20     survey     NaN         NaN  \n",
       "\n",
       "[5 rows x 64 columns]"
      ]
     },
     "execution_count": 3,
     "metadata": {},
     "output_type": "execute_result"
    }
   ],
   "source": [
    "# LOADING THE DATA HERE\n",
    "df = pd.read_csv('raw_data/biodiversity.csv')\n",
    "df.head(5)"
   ]
  },
  {
   "cell_type": "markdown",
   "id": "77d64d10",
   "metadata": {},
   "source": [
    "Spend a bit of time exploring the dataset, for instance looking at the different columns it contains, it's data types, any missing values. You could use the `describe()` function as a starting point to have an idea of what is going on."
   ]
  },
  {
   "cell_type": "code",
   "execution_count": 4,
   "id": "c4cc3436",
   "metadata": {},
   "outputs": [
    {
     "data": {
      "text/plain": [
       "(3245, 64)"
      ]
     },
     "execution_count": 4,
     "metadata": {},
     "output_type": "execute_result"
    }
   ],
   "source": [
    "df.shape"
   ]
  },
  {
   "cell_type": "markdown",
   "id": "953a35b5",
   "metadata": {},
   "source": [
    "# Droping Duplicates"
   ]
  },
  {
   "cell_type": "markdown",
   "id": "e0513a22",
   "metadata": {},
   "source": [
    "Checking for duplicates, and removing them  from the dataset. I overwite the dataframe `df`."
   ]
  },
  {
   "cell_type": "code",
   "execution_count": 5,
   "id": "6adc9ae8",
   "metadata": {},
   "outputs": [
    {
     "data": {
      "text/plain": [
       "286"
      ]
     },
     "execution_count": 5,
     "metadata": {},
     "output_type": "execute_result"
    }
   ],
   "source": [
    "# Find the number of duplicates\n",
    "df.duplicated().sum()"
   ]
  },
  {
   "cell_type": "code",
   "execution_count": 6,
   "id": "d48c4d85",
   "metadata": {},
   "outputs": [
    {
     "data": {
      "text/plain": [
       "0"
      ]
     },
     "execution_count": 6,
     "metadata": {},
     "output_type": "execute_result"
    }
   ],
   "source": [
    "# Drop them in place and check\n",
    "df.drop_duplicates(inplace=True)\n",
    "df.duplicated().sum()"
   ]
  },
  {
   "cell_type": "markdown",
   "id": "7c141b13",
   "metadata": {},
   "source": [
    "# Splitting the dataset\n",
    "\n",
    "Now that the duplicates have been removed, there is no longer a risk of data leakage and we can split the data. I want to do this **BEFORE** I look at any of the statistics so my eye is not influenced by values in the `X_test` that I should not have seen. From then on, I will ignore my `X_test` (and my original `df` that contains the `X_test` data) and focus all my work only on the `X_train`)."
   ]
  },
  {
   "cell_type": "code",
   "execution_count": 7,
   "id": "71ccc3e4",
   "metadata": {},
   "outputs": [],
   "source": [
    "X_train, X_test, y_train, y_test = train_test_split(df.drop(columns='RCACTreesS'),df.RCACTreesS, train_size=.8, random_state=42)"
   ]
  },
  {
   "cell_type": "markdown",
   "id": "b9c6372f",
   "metadata": {},
   "source": [
    "Let's look at the spread of numerical features using `describe`:"
   ]
  },
  {
   "cell_type": "code",
   "execution_count": 8,
   "id": "89ab2692",
   "metadata": {},
   "outputs": [
    {
     "data": {
      "text/html": [
       "<div>\n",
       "<style scoped>\n",
       "    .dataframe tbody tr th:only-of-type {\n",
       "        vertical-align: middle;\n",
       "    }\n",
       "\n",
       "    .dataframe tbody tr th {\n",
       "        vertical-align: top;\n",
       "    }\n",
       "\n",
       "    .dataframe thead th {\n",
       "        text-align: right;\n",
       "    }\n",
       "</style>\n",
       "<table border=\"1\" class=\"dataframe\">\n",
       "  <thead>\n",
       "    <tr style=\"text-align: right;\">\n",
       "      <th></th>\n",
       "      <th>LengthM</th>\n",
       "      <th>RoadType</th>\n",
       "      <th>RCACScore</th>\n",
       "      <th>RoadWidthM</th>\n",
       "      <th>WidthVarie</th>\n",
       "      <th>RCACWidth</th>\n",
       "      <th>RCACTreesW</th>\n",
       "      <th>RCACGround</th>\n",
       "      <th>RCACGrassl</th>\n",
       "      <th>RCACLeafLi</th>\n",
       "      <th>...</th>\n",
       "      <th>PowerlineD</th>\n",
       "      <th>OverallFue</th>\n",
       "      <th>GroundFuel</th>\n",
       "      <th>ElevatedFu</th>\n",
       "      <th>BarkHazard</th>\n",
       "      <th>Majorweeds</th>\n",
       "      <th>LandForm00</th>\n",
       "      <th>EVCCode</th>\n",
       "      <th>Origin</th>\n",
       "      <th>Recommenda</th>\n",
       "    </tr>\n",
       "  </thead>\n",
       "  <tbody>\n",
       "    <tr>\n",
       "      <th>count</th>\n",
       "      <td>2367.000000</td>\n",
       "      <td>0.0</td>\n",
       "      <td>2367.000000</td>\n",
       "      <td>2353.000000</td>\n",
       "      <td>2367.000000</td>\n",
       "      <td>2367.000000</td>\n",
       "      <td>2367.000000</td>\n",
       "      <td>2367.000000</td>\n",
       "      <td>2367.000000</td>\n",
       "      <td>2367.000000</td>\n",
       "      <td>...</td>\n",
       "      <td>2251.000000</td>\n",
       "      <td>0.0</td>\n",
       "      <td>0.0</td>\n",
       "      <td>0.0</td>\n",
       "      <td>0.0</td>\n",
       "      <td>0.0</td>\n",
       "      <td>0.0</td>\n",
       "      <td>2367.000000</td>\n",
       "      <td>0.0</td>\n",
       "      <td>0.0</td>\n",
       "    </tr>\n",
       "    <tr>\n",
       "      <th>mean</th>\n",
       "      <td>3.639206</td>\n",
       "      <td>NaN</td>\n",
       "      <td>14.379806</td>\n",
       "      <td>5.742456</td>\n",
       "      <td>0.169413</td>\n",
       "      <td>1.335868</td>\n",
       "      <td>0.206591</td>\n",
       "      <td>1.940853</td>\n",
       "      <td>0.153359</td>\n",
       "      <td>0.627376</td>\n",
       "      <td>...</td>\n",
       "      <td>307.716126</td>\n",
       "      <td>NaN</td>\n",
       "      <td>NaN</td>\n",
       "      <td>NaN</td>\n",
       "      <td>NaN</td>\n",
       "      <td>NaN</td>\n",
       "      <td>NaN</td>\n",
       "      <td>591.845374</td>\n",
       "      <td>NaN</td>\n",
       "      <td>NaN</td>\n",
       "    </tr>\n",
       "    <tr>\n",
       "      <th>std</th>\n",
       "      <td>2.526435</td>\n",
       "      <td>NaN</td>\n",
       "      <td>9.249010</td>\n",
       "      <td>4.259540</td>\n",
       "      <td>0.375195</td>\n",
       "      <td>0.529751</td>\n",
       "      <td>0.571948</td>\n",
       "      <td>0.235949</td>\n",
       "      <td>0.634767</td>\n",
       "      <td>0.862320</td>\n",
       "      <td>...</td>\n",
       "      <td>4.341203</td>\n",
       "      <td>NaN</td>\n",
       "      <td>NaN</td>\n",
       "      <td>NaN</td>\n",
       "      <td>NaN</td>\n",
       "      <td>NaN</td>\n",
       "      <td>NaN</td>\n",
       "      <td>827.530674</td>\n",
       "      <td>NaN</td>\n",
       "      <td>NaN</td>\n",
       "    </tr>\n",
       "    <tr>\n",
       "      <th>min</th>\n",
       "      <td>1.000000</td>\n",
       "      <td>NaN</td>\n",
       "      <td>2.000000</td>\n",
       "      <td>1.000000</td>\n",
       "      <td>0.000000</td>\n",
       "      <td>0.000000</td>\n",
       "      <td>0.000000</td>\n",
       "      <td>1.000000</td>\n",
       "      <td>0.000000</td>\n",
       "      <td>0.000000</td>\n",
       "      <td>...</td>\n",
       "      <td>291.000000</td>\n",
       "      <td>NaN</td>\n",
       "      <td>NaN</td>\n",
       "      <td>NaN</td>\n",
       "      <td>NaN</td>\n",
       "      <td>NaN</td>\n",
       "      <td>NaN</td>\n",
       "      <td>3.000000</td>\n",
       "      <td>NaN</td>\n",
       "      <td>NaN</td>\n",
       "    </tr>\n",
       "    <tr>\n",
       "      <th>25%</th>\n",
       "      <td>1.000000</td>\n",
       "      <td>NaN</td>\n",
       "      <td>7.000000</td>\n",
       "      <td>4.000000</td>\n",
       "      <td>0.000000</td>\n",
       "      <td>1.000000</td>\n",
       "      <td>0.000000</td>\n",
       "      <td>2.000000</td>\n",
       "      <td>0.000000</td>\n",
       "      <td>0.000000</td>\n",
       "      <td>...</td>\n",
       "      <td>309.000000</td>\n",
       "      <td>NaN</td>\n",
       "      <td>NaN</td>\n",
       "      <td>NaN</td>\n",
       "      <td>NaN</td>\n",
       "      <td>NaN</td>\n",
       "      <td>NaN</td>\n",
       "      <td>47.000000</td>\n",
       "      <td>NaN</td>\n",
       "      <td>NaN</td>\n",
       "    </tr>\n",
       "    <tr>\n",
       "      <th>50%</th>\n",
       "      <td>3.000000</td>\n",
       "      <td>NaN</td>\n",
       "      <td>12.000000</td>\n",
       "      <td>4.000000</td>\n",
       "      <td>0.000000</td>\n",
       "      <td>1.000000</td>\n",
       "      <td>0.000000</td>\n",
       "      <td>2.000000</td>\n",
       "      <td>0.000000</td>\n",
       "      <td>0.000000</td>\n",
       "      <td>...</td>\n",
       "      <td>309.000000</td>\n",
       "      <td>NaN</td>\n",
       "      <td>NaN</td>\n",
       "      <td>NaN</td>\n",
       "      <td>NaN</td>\n",
       "      <td>NaN</td>\n",
       "      <td>NaN</td>\n",
       "      <td>175.000000</td>\n",
       "      <td>NaN</td>\n",
       "      <td>NaN</td>\n",
       "    </tr>\n",
       "    <tr>\n",
       "      <th>75%</th>\n",
       "      <td>6.000000</td>\n",
       "      <td>NaN</td>\n",
       "      <td>20.000000</td>\n",
       "      <td>6.000000</td>\n",
       "      <td>0.000000</td>\n",
       "      <td>2.000000</td>\n",
       "      <td>0.000000</td>\n",
       "      <td>2.000000</td>\n",
       "      <td>0.000000</td>\n",
       "      <td>2.000000</td>\n",
       "      <td>...</td>\n",
       "      <td>309.000000</td>\n",
       "      <td>NaN</td>\n",
       "      <td>NaN</td>\n",
       "      <td>NaN</td>\n",
       "      <td>NaN</td>\n",
       "      <td>NaN</td>\n",
       "      <td>NaN</td>\n",
       "      <td>719.000000</td>\n",
       "      <td>NaN</td>\n",
       "      <td>NaN</td>\n",
       "    </tr>\n",
       "    <tr>\n",
       "      <th>max</th>\n",
       "      <td>9.000000</td>\n",
       "      <td>NaN</td>\n",
       "      <td>35.000000</td>\n",
       "      <td>80.000000</td>\n",
       "      <td>1.000000</td>\n",
       "      <td>3.000000</td>\n",
       "      <td>3.000000</td>\n",
       "      <td>2.000000</td>\n",
       "      <td>5.000000</td>\n",
       "      <td>2.000000</td>\n",
       "      <td>...</td>\n",
       "      <td>335.000000</td>\n",
       "      <td>NaN</td>\n",
       "      <td>NaN</td>\n",
       "      <td>NaN</td>\n",
       "      <td>NaN</td>\n",
       "      <td>NaN</td>\n",
       "      <td>NaN</td>\n",
       "      <td>2247.000000</td>\n",
       "      <td>NaN</td>\n",
       "      <td>NaN</td>\n",
       "    </tr>\n",
       "  </tbody>\n",
       "</table>\n",
       "<p>8 rows × 47 columns</p>\n",
       "</div>"
      ],
      "text/plain": [
       "           LengthM  RoadType    RCACScore   RoadWidthM   WidthVarie  \\\n",
       "count  2367.000000       0.0  2367.000000  2353.000000  2367.000000   \n",
       "mean      3.639206       NaN    14.379806     5.742456     0.169413   \n",
       "std       2.526435       NaN     9.249010     4.259540     0.375195   \n",
       "min       1.000000       NaN     2.000000     1.000000     0.000000   \n",
       "25%       1.000000       NaN     7.000000     4.000000     0.000000   \n",
       "50%       3.000000       NaN    12.000000     4.000000     0.000000   \n",
       "75%       6.000000       NaN    20.000000     6.000000     0.000000   \n",
       "max       9.000000       NaN    35.000000    80.000000     1.000000   \n",
       "\n",
       "         RCACWidth   RCACTreesW   RCACGround   RCACGrassl   RCACLeafLi  ...  \\\n",
       "count  2367.000000  2367.000000  2367.000000  2367.000000  2367.000000  ...   \n",
       "mean      1.335868     0.206591     1.940853     0.153359     0.627376  ...   \n",
       "std       0.529751     0.571948     0.235949     0.634767     0.862320  ...   \n",
       "min       0.000000     0.000000     1.000000     0.000000     0.000000  ...   \n",
       "25%       1.000000     0.000000     2.000000     0.000000     0.000000  ...   \n",
       "50%       1.000000     0.000000     2.000000     0.000000     0.000000  ...   \n",
       "75%       2.000000     0.000000     2.000000     0.000000     2.000000  ...   \n",
       "max       3.000000     3.000000     2.000000     5.000000     2.000000  ...   \n",
       "\n",
       "        PowerlineD  OverallFue  GroundFuel  ElevatedFu  BarkHazard  \\\n",
       "count  2251.000000         0.0         0.0         0.0         0.0   \n",
       "mean    307.716126         NaN         NaN         NaN         NaN   \n",
       "std       4.341203         NaN         NaN         NaN         NaN   \n",
       "min     291.000000         NaN         NaN         NaN         NaN   \n",
       "25%     309.000000         NaN         NaN         NaN         NaN   \n",
       "50%     309.000000         NaN         NaN         NaN         NaN   \n",
       "75%     309.000000         NaN         NaN         NaN         NaN   \n",
       "max     335.000000         NaN         NaN         NaN         NaN   \n",
       "\n",
       "       Majorweeds  LandForm00      EVCCode  Origin  Recommenda  \n",
       "count         0.0         0.0  2367.000000     0.0         0.0  \n",
       "mean          NaN         NaN   591.845374     NaN         NaN  \n",
       "std           NaN         NaN   827.530674     NaN         NaN  \n",
       "min           NaN         NaN     3.000000     NaN         NaN  \n",
       "25%           NaN         NaN    47.000000     NaN         NaN  \n",
       "50%           NaN         NaN   175.000000     NaN         NaN  \n",
       "75%           NaN         NaN   719.000000     NaN         NaN  \n",
       "max           NaN         NaN  2247.000000     NaN         NaN  \n",
       "\n",
       "[8 rows x 47 columns]"
      ]
     },
     "execution_count": 8,
     "metadata": {},
     "output_type": "execute_result"
    }
   ],
   "source": [
    "X_train.describe()"
   ]
  },
  {
   "cell_type": "markdown",
   "id": "416fc4a8",
   "metadata": {},
   "source": [
    "### Correlation matrix\n",
    "\n",
    "It is also a good idea to look at the correlations between features - are any highly correlated?"
   ]
  },
  {
   "cell_type": "code",
   "execution_count": 9,
   "id": "3fd75d64",
   "metadata": {},
   "outputs": [
    {
     "data": {
      "image/png": "[encoded data removed]",
      "text/plain": [
       "<Figure size 1200x1000 with 2 Axes>"
      ]
     },
     "metadata": {},
     "output_type": "display_data"
    }
   ],
   "source": [
    "fig, ax = plt.subplots(figsize=(12,10))\n",
    "corr = X_train.select_dtypes(['Int64', 'Float64']).corr() # Only selecting the numerical values here\n",
    "\n",
    "sns.heatmap(corr, cmap='seismic', ax=ax);"
   ]
  },
  {
   "cell_type": "markdown",
   "id": "cac361f7",
   "metadata": {},
   "source": [
    "### We can also look at the data types and explore missing values"
   ]
  },
  {
   "cell_type": "code",
   "execution_count": 10,
   "id": "e1763dec",
   "metadata": {},
   "outputs": [],
   "source": [
    "# To make my life easier, I create a DataFrame of data types\n",
    "data_types = pd.DataFrame(X_train.dtypes, columns=['Data Type'])"
   ]
  },
  {
   "cell_type": "code",
   "execution_count": 11,
   "id": "e95108f0",
   "metadata": {},
   "outputs": [
    {
     "data": {
      "text/plain": [
       "Data Type\n",
       "int64        34\n",
       "object       16\n",
       "float64      13\n",
       "Name: count, dtype: int64"
      ]
     },
     "execution_count": 11,
     "metadata": {},
     "output_type": "execute_result"
    }
   ],
   "source": [
    "# This is the different data types in my collections:\n",
    "data_types.value_counts()"
   ]
  },
  {
   "cell_type": "code",
   "execution_count": 12,
   "id": "fcb615ad",
   "metadata": {},
   "outputs": [
    {
     "data": {
      "text/html": [
       "<div>\n",
       "<style scoped>\n",
       "    .dataframe tbody tr th:only-of-type {\n",
       "        vertical-align: middle;\n",
       "    }\n",
       "\n",
       "    .dataframe tbody tr th {\n",
       "        vertical-align: top;\n",
       "    }\n",
       "\n",
       "    .dataframe thead th {\n",
       "        text-align: right;\n",
       "    }\n",
       "</style>\n",
       "<table border=\"1\" class=\"dataframe\">\n",
       "  <thead>\n",
       "    <tr style=\"text-align: right;\">\n",
       "      <th></th>\n",
       "      <th>ZoneName</th>\n",
       "      <th>SiteCode</th>\n",
       "      <th>DateStart</th>\n",
       "      <th>DateFinish</th>\n",
       "      <th>ZoneDescription</th>\n",
       "      <th>Comments</th>\n",
       "      <th>Comments2</th>\n",
       "      <th>LRoadWidth</th>\n",
       "      <th>RRoadWidth</th>\n",
       "      <th>AdjoiningV</th>\n",
       "      <th>CanopyCont</th>\n",
       "      <th>Locality</th>\n",
       "      <th>LandFormLS</th>\n",
       "      <th>SoilType</th>\n",
       "      <th>EVCNotes</th>\n",
       "      <th>EVCSource</th>\n",
       "    </tr>\n",
       "  </thead>\n",
       "  <tbody>\n",
       "    <tr>\n",
       "      <th>3190</th>\n",
       "      <td>dawber road</td>\n",
       "      <td>g395</td>\n",
       "      <td>03/09/2015</td>\n",
       "      <td>03/09/2015</td>\n",
       "      <td>pasture grasses and weeds</td>\n",
       "      <td>NaN</td>\n",
       "      <td>NaN</td>\n",
       "      <td>NaN</td>\n",
       "      <td>NaN</td>\n",
       "      <td>sb/e</td>\n",
       "      <td>0</td>\n",
       "      <td>inverleigh</td>\n",
       "      <td>7.1pft5-1</td>\n",
       "      <td>ma</td>\n",
       "      <td>2223</td>\n",
       "      <td>NaN</td>\n",
       "    </tr>\n",
       "    <tr>\n",
       "      <th>604</th>\n",
       "      <td>tippetts lane</td>\n",
       "      <td>g223</td>\n",
       "      <td>05/11/2014</td>\n",
       "      <td>05/11/2014</td>\n",
       "      <td>scattered wattles and a mainly pasture grass g...</td>\n",
       "      <td>NaN</td>\n",
       "      <td>NaN</td>\n",
       "      <td>NaN</td>\n",
       "      <td>NaN</td>\n",
       "      <td>e</td>\n",
       "      <td>0</td>\n",
       "      <td>dereel</td>\n",
       "      <td>2.1lsp6-2</td>\n",
       "      <td>szb</td>\n",
       "      <td>175</td>\n",
       "      <td>NaN</td>\n",
       "    </tr>\n",
       "    <tr>\n",
       "      <th>1658</th>\n",
       "      <td>boyles road, werneth</td>\n",
       "      <td>g131</td>\n",
       "      <td>30/04/2015</td>\n",
       "      <td>30/04/2015</td>\n",
       "      <td>grassland</td>\n",
       "      <td>NaN</td>\n",
       "      <td>NaN</td>\n",
       "      <td>NaN</td>\n",
       "      <td>NaN</td>\n",
       "      <td>eh</td>\n",
       "      <td>0</td>\n",
       "      <td>werneth</td>\n",
       "      <td>7.1pbfq5-1</td>\n",
       "      <td>yk</td>\n",
       "      <td>132</td>\n",
       "      <td>NaN</td>\n",
       "    </tr>\n",
       "    <tr>\n",
       "      <th>1982</th>\n",
       "      <td>pioneer ridge road</td>\n",
       "      <td>g119</td>\n",
       "      <td>14/08/2015</td>\n",
       "      <td>14/08/2015</td>\n",
       "      <td>forest</td>\n",
       "      <td>NaN</td>\n",
       "      <td>hcv roadside converted to very high status due...</td>\n",
       "      <td>NaN</td>\n",
       "      <td>NaN</td>\n",
       "      <td>i+e</td>\n",
       "      <td>3</td>\n",
       "      <td>meredith</td>\n",
       "      <td>2.1lsp5-6</td>\n",
       "      <td>dd</td>\n",
       "      <td>21</td>\n",
       "      <td>NaN</td>\n",
       "    </tr>\n",
       "    <tr>\n",
       "      <th>3234</th>\n",
       "      <td>peregrine way</td>\n",
       "      <td>g550</td>\n",
       "      <td>04/09/2015</td>\n",
       "      <td>04/09/2015</td>\n",
       "      <td>cleared with occasional trees and/or shrubs</td>\n",
       "      <td>NaN</td>\n",
       "      <td>NaN</td>\n",
       "      <td>NaN</td>\n",
       "      <td>NaN</td>\n",
       "      <td>e</td>\n",
       "      <td>0</td>\n",
       "      <td>teesdale</td>\n",
       "      <td>7.1pft5-1</td>\n",
       "      <td>ma</td>\n",
       "      <td>803</td>\n",
       "      <td>NaN</td>\n",
       "    </tr>\n",
       "    <tr>\n",
       "      <th>...</th>\n",
       "      <td>...</td>\n",
       "      <td>...</td>\n",
       "      <td>...</td>\n",
       "      <td>...</td>\n",
       "      <td>...</td>\n",
       "      <td>...</td>\n",
       "      <td>...</td>\n",
       "      <td>...</td>\n",
       "      <td>...</td>\n",
       "      <td>...</td>\n",
       "      <td>...</td>\n",
       "      <td>...</td>\n",
       "      <td>...</td>\n",
       "      <td>...</td>\n",
       "      <td>...</td>\n",
       "      <td>...</td>\n",
       "    </tr>\n",
       "    <tr>\n",
       "      <th>1743</th>\n",
       "      <td>morris road, rokewood</td>\n",
       "      <td>g115</td>\n",
       "      <td>28/05/2015</td>\n",
       "      <td>28/05/2015</td>\n",
       "      <td>pasture grasses and weeds</td>\n",
       "      <td>NaN</td>\n",
       "      <td>NaN</td>\n",
       "      <td>NaN</td>\n",
       "      <td>NaN</td>\n",
       "      <td>e</td>\n",
       "      <td>0</td>\n",
       "      <td>rokewood</td>\n",
       "      <td>2.1pfc5-1</td>\n",
       "      <td>de</td>\n",
       "      <td>175</td>\n",
       "      <td>NaN</td>\n",
       "    </tr>\n",
       "    <tr>\n",
       "      <th>1194</th>\n",
       "      <td>wilgul-werneth road</td>\n",
       "      <td>g129</td>\n",
       "      <td>11/12/2014</td>\n",
       "      <td>11/12/2014</td>\n",
       "      <td>grassland</td>\n",
       "      <td>NaN</td>\n",
       "      <td>hcv roadside converted to very high status due...</td>\n",
       "      <td>NaN</td>\n",
       "      <td>NaN</td>\n",
       "      <td>e</td>\n",
       "      <td>0</td>\n",
       "      <td>werneth</td>\n",
       "      <td>7.1pbfq5-1</td>\n",
       "      <td>yk</td>\n",
       "      <td>132</td>\n",
       "      <td>NaN</td>\n",
       "    </tr>\n",
       "    <tr>\n",
       "      <th>1231</th>\n",
       "      <td>rokewood-shelford road</td>\n",
       "      <td>g213</td>\n",
       "      <td>17/12/2014</td>\n",
       "      <td>17/12/2014</td>\n",
       "      <td>pasture grasses and weeds</td>\n",
       "      <td>NaN</td>\n",
       "      <td>NaN</td>\n",
       "      <td>NaN</td>\n",
       "      <td>NaN</td>\n",
       "      <td>e</td>\n",
       "      <td>0</td>\n",
       "      <td>rokewood</td>\n",
       "      <td>7.2pbq5-1</td>\n",
       "      <td>st</td>\n",
       "      <td>132</td>\n",
       "      <td>NaN</td>\n",
       "    </tr>\n",
       "    <tr>\n",
       "      <th>1399</th>\n",
       "      <td>sebastopol-smythesdale road</td>\n",
       "      <td>g044</td>\n",
       "      <td>12/03/2015</td>\n",
       "      <td>12/03/2015</td>\n",
       "      <td>cleared with occasional trees and/or shrubs</td>\n",
       "      <td>NaN</td>\n",
       "      <td>roadside only scores hcv due to listed species...</td>\n",
       "      <td>NaN</td>\n",
       "      <td>NaN</td>\n",
       "      <td>e/sb</td>\n",
       "      <td>0</td>\n",
       "      <td>ross creek</td>\n",
       "      <td>7.1pbfq7-3</td>\n",
       "      <td>yd</td>\n",
       "      <td>47</td>\n",
       "      <td>NaN</td>\n",
       "    </tr>\n",
       "    <tr>\n",
       "      <th>925</th>\n",
       "      <td>linton-mannibadar road</td>\n",
       "      <td>g181</td>\n",
       "      <td>09/12/2014</td>\n",
       "      <td>09/12/2014</td>\n",
       "      <td>cleared with occasional trees and/or shrubs</td>\n",
       "      <td>NaN</td>\n",
       "      <td>roadside only scores hcv due to listed species...</td>\n",
       "      <td>NaN</td>\n",
       "      <td>NaN</td>\n",
       "      <td>e</td>\n",
       "      <td>0</td>\n",
       "      <td>linton</td>\n",
       "      <td>7.1pbfq6-5</td>\n",
       "      <td>ye</td>\n",
       "      <td>2223</td>\n",
       "      <td>NaN</td>\n",
       "    </tr>\n",
       "  </tbody>\n",
       "</table>\n",
       "<p>2367 rows × 16 columns</p>\n",
       "</div>"
      ],
      "text/plain": [
       "                         ZoneName SiteCode   DateStart  DateFinish  \\\n",
       "3190                  dawber road     g395  03/09/2015  03/09/2015   \n",
       "604                 tippetts lane     g223  05/11/2014  05/11/2014   \n",
       "1658         boyles road, werneth     g131  30/04/2015  30/04/2015   \n",
       "1982           pioneer ridge road     g119  14/08/2015  14/08/2015   \n",
       "3234                peregrine way     g550  04/09/2015  04/09/2015   \n",
       "...                           ...      ...         ...         ...   \n",
       "1743        morris road, rokewood     g115  28/05/2015  28/05/2015   \n",
       "1194          wilgul-werneth road     g129  11/12/2014  11/12/2014   \n",
       "1231       rokewood-shelford road     g213  17/12/2014  17/12/2014   \n",
       "1399  sebastopol-smythesdale road     g044  12/03/2015  12/03/2015   \n",
       "925        linton-mannibadar road     g181  09/12/2014  09/12/2014   \n",
       "\n",
       "                                        ZoneDescription Comments  \\\n",
       "3190                          pasture grasses and weeds      NaN   \n",
       "604   scattered wattles and a mainly pasture grass g...      NaN   \n",
       "1658                                          grassland      NaN   \n",
       "1982                                             forest      NaN   \n",
       "3234        cleared with occasional trees and/or shrubs      NaN   \n",
       "...                                                 ...      ...   \n",
       "1743                          pasture grasses and weeds      NaN   \n",
       "1194                                          grassland      NaN   \n",
       "1231                          pasture grasses and weeds      NaN   \n",
       "1399        cleared with occasional trees and/or shrubs      NaN   \n",
       "925         cleared with occasional trees and/or shrubs      NaN   \n",
       "\n",
       "                                              Comments2 LRoadWidth RRoadWidth  \\\n",
       "3190                                                NaN        NaN        NaN   \n",
       "604                                                 NaN        NaN        NaN   \n",
       "1658                                                NaN        NaN        NaN   \n",
       "1982  hcv roadside converted to very high status due...        NaN        NaN   \n",
       "3234                                                NaN        NaN        NaN   \n",
       "...                                                 ...        ...        ...   \n",
       "1743                                                NaN        NaN        NaN   \n",
       "1194  hcv roadside converted to very high status due...        NaN        NaN   \n",
       "1231                                                NaN        NaN        NaN   \n",
       "1399  roadside only scores hcv due to listed species...        NaN        NaN   \n",
       "925   roadside only scores hcv due to listed species...        NaN        NaN   \n",
       "\n",
       "     AdjoiningV CanopyCont    Locality  LandFormLS SoilType EVCNotes EVCSource  \n",
       "3190       sb/e          0  inverleigh   7.1pft5-1       ma     2223       NaN  \n",
       "604           e          0      dereel   2.1lsp6-2      szb      175       NaN  \n",
       "1658         eh          0     werneth  7.1pbfq5-1       yk      132       NaN  \n",
       "1982        i+e          3    meredith   2.1lsp5-6       dd       21       NaN  \n",
       "3234          e          0    teesdale   7.1pft5-1       ma      803       NaN  \n",
       "...         ...        ...         ...         ...      ...      ...       ...  \n",
       "1743          e          0    rokewood   2.1pfc5-1       de      175       NaN  \n",
       "1194          e          0     werneth  7.1pbfq5-1       yk      132       NaN  \n",
       "1231          e          0    rokewood   7.2pbq5-1       st      132       NaN  \n",
       "1399       e/sb          0  ross creek  7.1pbfq7-3       yd       47       NaN  \n",
       "925           e          0      linton  7.1pbfq6-5       ye     2223       NaN  \n",
       "\n",
       "[2367 rows x 16 columns]"
      ]
     },
     "execution_count": 12,
     "metadata": {},
     "output_type": "execute_result"
    }
   ],
   "source": [
    "# Let's see the categorical data\n",
    "X_train.select_dtypes('object')"
   ]
  },
  {
   "cell_type": "code",
   "execution_count": 13,
   "id": "63cb6b39",
   "metadata": {},
   "outputs": [
    {
     "data": {
      "text/html": [
       "<div>\n",
       "<style scoped>\n",
       "    .dataframe tbody tr th:only-of-type {\n",
       "        vertical-align: middle;\n",
       "    }\n",
       "\n",
       "    .dataframe tbody tr th {\n",
       "        vertical-align: top;\n",
       "    }\n",
       "\n",
       "    .dataframe thead th {\n",
       "        text-align: right;\n",
       "    }\n",
       "</style>\n",
       "<table border=\"1\" class=\"dataframe\">\n",
       "  <thead>\n",
       "    <tr style=\"text-align: right;\">\n",
       "      <th></th>\n",
       "      <th>LengthM</th>\n",
       "      <th>RoadType</th>\n",
       "      <th>RCACScore</th>\n",
       "      <th>RoadWidthM</th>\n",
       "      <th>WidthVarie</th>\n",
       "      <th>RCACWidth</th>\n",
       "      <th>RCACTreesW</th>\n",
       "      <th>RCACGround</th>\n",
       "      <th>RCACGrassl</th>\n",
       "      <th>RCACLeafLi</th>\n",
       "      <th>...</th>\n",
       "      <th>PowerlineD</th>\n",
       "      <th>OverallFue</th>\n",
       "      <th>GroundFuel</th>\n",
       "      <th>ElevatedFu</th>\n",
       "      <th>BarkHazard</th>\n",
       "      <th>Majorweeds</th>\n",
       "      <th>LandForm00</th>\n",
       "      <th>EVCCode</th>\n",
       "      <th>Origin</th>\n",
       "      <th>Recommenda</th>\n",
       "    </tr>\n",
       "  </thead>\n",
       "  <tbody>\n",
       "    <tr>\n",
       "      <th>3190</th>\n",
       "      <td>4</td>\n",
       "      <td>NaN</td>\n",
       "      <td>5</td>\n",
       "      <td>4.0</td>\n",
       "      <td>0</td>\n",
       "      <td>1</td>\n",
       "      <td>0</td>\n",
       "      <td>1</td>\n",
       "      <td>0</td>\n",
       "      <td>0</td>\n",
       "      <td>...</td>\n",
       "      <td>309.0</td>\n",
       "      <td>NaN</td>\n",
       "      <td>NaN</td>\n",
       "      <td>NaN</td>\n",
       "      <td>NaN</td>\n",
       "      <td>NaN</td>\n",
       "      <td>NaN</td>\n",
       "      <td>2223</td>\n",
       "      <td>NaN</td>\n",
       "      <td>NaN</td>\n",
       "    </tr>\n",
       "    <tr>\n",
       "      <th>604</th>\n",
       "      <td>1</td>\n",
       "      <td>NaN</td>\n",
       "      <td>9</td>\n",
       "      <td>4.0</td>\n",
       "      <td>0</td>\n",
       "      <td>1</td>\n",
       "      <td>0</td>\n",
       "      <td>2</td>\n",
       "      <td>0</td>\n",
       "      <td>0</td>\n",
       "      <td>...</td>\n",
       "      <td>309.0</td>\n",
       "      <td>NaN</td>\n",
       "      <td>NaN</td>\n",
       "      <td>NaN</td>\n",
       "      <td>NaN</td>\n",
       "      <td>NaN</td>\n",
       "      <td>NaN</td>\n",
       "      <td>175</td>\n",
       "      <td>NaN</td>\n",
       "      <td>NaN</td>\n",
       "    </tr>\n",
       "    <tr>\n",
       "      <th>1658</th>\n",
       "      <td>4</td>\n",
       "      <td>NaN</td>\n",
       "      <td>10</td>\n",
       "      <td>4.0</td>\n",
       "      <td>0</td>\n",
       "      <td>1</td>\n",
       "      <td>0</td>\n",
       "      <td>2</td>\n",
       "      <td>2</td>\n",
       "      <td>0</td>\n",
       "      <td>...</td>\n",
       "      <td>309.0</td>\n",
       "      <td>NaN</td>\n",
       "      <td>NaN</td>\n",
       "      <td>NaN</td>\n",
       "      <td>NaN</td>\n",
       "      <td>NaN</td>\n",
       "      <td>NaN</td>\n",
       "      <td>132</td>\n",
       "      <td>NaN</td>\n",
       "      <td>NaN</td>\n",
       "    </tr>\n",
       "    <tr>\n",
       "      <th>1982</th>\n",
       "      <td>1</td>\n",
       "      <td>NaN</td>\n",
       "      <td>32</td>\n",
       "      <td>4.0</td>\n",
       "      <td>0</td>\n",
       "      <td>1</td>\n",
       "      <td>0</td>\n",
       "      <td>2</td>\n",
       "      <td>0</td>\n",
       "      <td>2</td>\n",
       "      <td>...</td>\n",
       "      <td>309.0</td>\n",
       "      <td>NaN</td>\n",
       "      <td>NaN</td>\n",
       "      <td>NaN</td>\n",
       "      <td>NaN</td>\n",
       "      <td>NaN</td>\n",
       "      <td>NaN</td>\n",
       "      <td>21</td>\n",
       "      <td>NaN</td>\n",
       "      <td>NaN</td>\n",
       "    </tr>\n",
       "    <tr>\n",
       "      <th>3234</th>\n",
       "      <td>5</td>\n",
       "      <td>NaN</td>\n",
       "      <td>6</td>\n",
       "      <td>4.0</td>\n",
       "      <td>0</td>\n",
       "      <td>1</td>\n",
       "      <td>2</td>\n",
       "      <td>2</td>\n",
       "      <td>0</td>\n",
       "      <td>0</td>\n",
       "      <td>...</td>\n",
       "      <td>309.0</td>\n",
       "      <td>NaN</td>\n",
       "      <td>NaN</td>\n",
       "      <td>NaN</td>\n",
       "      <td>NaN</td>\n",
       "      <td>NaN</td>\n",
       "      <td>NaN</td>\n",
       "      <td>803</td>\n",
       "      <td>NaN</td>\n",
       "      <td>NaN</td>\n",
       "    </tr>\n",
       "    <tr>\n",
       "      <th>...</th>\n",
       "      <td>...</td>\n",
       "      <td>...</td>\n",
       "      <td>...</td>\n",
       "      <td>...</td>\n",
       "      <td>...</td>\n",
       "      <td>...</td>\n",
       "      <td>...</td>\n",
       "      <td>...</td>\n",
       "      <td>...</td>\n",
       "      <td>...</td>\n",
       "      <td>...</td>\n",
       "      <td>...</td>\n",
       "      <td>...</td>\n",
       "      <td>...</td>\n",
       "      <td>...</td>\n",
       "      <td>...</td>\n",
       "      <td>...</td>\n",
       "      <td>...</td>\n",
       "      <td>...</td>\n",
       "      <td>...</td>\n",
       "      <td>...</td>\n",
       "    </tr>\n",
       "    <tr>\n",
       "      <th>1743</th>\n",
       "      <td>6</td>\n",
       "      <td>NaN</td>\n",
       "      <td>4</td>\n",
       "      <td>4.0</td>\n",
       "      <td>0</td>\n",
       "      <td>1</td>\n",
       "      <td>0</td>\n",
       "      <td>2</td>\n",
       "      <td>0</td>\n",
       "      <td>0</td>\n",
       "      <td>...</td>\n",
       "      <td>309.0</td>\n",
       "      <td>NaN</td>\n",
       "      <td>NaN</td>\n",
       "      <td>NaN</td>\n",
       "      <td>NaN</td>\n",
       "      <td>NaN</td>\n",
       "      <td>NaN</td>\n",
       "      <td>175</td>\n",
       "      <td>NaN</td>\n",
       "      <td>NaN</td>\n",
       "    </tr>\n",
       "    <tr>\n",
       "      <th>1194</th>\n",
       "      <td>1</td>\n",
       "      <td>NaN</td>\n",
       "      <td>31</td>\n",
       "      <td>10.0</td>\n",
       "      <td>0</td>\n",
       "      <td>2</td>\n",
       "      <td>0</td>\n",
       "      <td>2</td>\n",
       "      <td>3</td>\n",
       "      <td>0</td>\n",
       "      <td>...</td>\n",
       "      <td>309.0</td>\n",
       "      <td>NaN</td>\n",
       "      <td>NaN</td>\n",
       "      <td>NaN</td>\n",
       "      <td>NaN</td>\n",
       "      <td>NaN</td>\n",
       "      <td>NaN</td>\n",
       "      <td>132</td>\n",
       "      <td>NaN</td>\n",
       "      <td>NaN</td>\n",
       "    </tr>\n",
       "    <tr>\n",
       "      <th>1231</th>\n",
       "      <td>1</td>\n",
       "      <td>NaN</td>\n",
       "      <td>7</td>\n",
       "      <td>4.0</td>\n",
       "      <td>0</td>\n",
       "      <td>1</td>\n",
       "      <td>0</td>\n",
       "      <td>2</td>\n",
       "      <td>0</td>\n",
       "      <td>0</td>\n",
       "      <td>...</td>\n",
       "      <td>309.0</td>\n",
       "      <td>NaN</td>\n",
       "      <td>NaN</td>\n",
       "      <td>NaN</td>\n",
       "      <td>NaN</td>\n",
       "      <td>NaN</td>\n",
       "      <td>NaN</td>\n",
       "      <td>132</td>\n",
       "      <td>NaN</td>\n",
       "      <td>NaN</td>\n",
       "    </tr>\n",
       "    <tr>\n",
       "      <th>1399</th>\n",
       "      <td>2</td>\n",
       "      <td>NaN</td>\n",
       "      <td>23</td>\n",
       "      <td>6.0</td>\n",
       "      <td>0</td>\n",
       "      <td>2</td>\n",
       "      <td>0</td>\n",
       "      <td>2</td>\n",
       "      <td>0</td>\n",
       "      <td>0</td>\n",
       "      <td>...</td>\n",
       "      <td>309.0</td>\n",
       "      <td>NaN</td>\n",
       "      <td>NaN</td>\n",
       "      <td>NaN</td>\n",
       "      <td>NaN</td>\n",
       "      <td>NaN</td>\n",
       "      <td>NaN</td>\n",
       "      <td>47</td>\n",
       "      <td>NaN</td>\n",
       "      <td>NaN</td>\n",
       "    </tr>\n",
       "    <tr>\n",
       "      <th>925</th>\n",
       "      <td>3</td>\n",
       "      <td>NaN</td>\n",
       "      <td>29</td>\n",
       "      <td>8.0</td>\n",
       "      <td>0</td>\n",
       "      <td>2</td>\n",
       "      <td>0</td>\n",
       "      <td>2</td>\n",
       "      <td>0</td>\n",
       "      <td>0</td>\n",
       "      <td>...</td>\n",
       "      <td>309.0</td>\n",
       "      <td>NaN</td>\n",
       "      <td>NaN</td>\n",
       "      <td>NaN</td>\n",
       "      <td>NaN</td>\n",
       "      <td>NaN</td>\n",
       "      <td>NaN</td>\n",
       "      <td>2223</td>\n",
       "      <td>NaN</td>\n",
       "      <td>NaN</td>\n",
       "    </tr>\n",
       "  </tbody>\n",
       "</table>\n",
       "<p>2367 rows × 47 columns</p>\n",
       "</div>"
      ],
      "text/plain": [
       "      LengthM  RoadType  RCACScore  RoadWidthM  WidthVarie  RCACWidth  \\\n",
       "3190        4       NaN          5         4.0           0          1   \n",
       "604         1       NaN          9         4.0           0          1   \n",
       "1658        4       NaN         10         4.0           0          1   \n",
       "1982        1       NaN         32         4.0           0          1   \n",
       "3234        5       NaN          6         4.0           0          1   \n",
       "...       ...       ...        ...         ...         ...        ...   \n",
       "1743        6       NaN          4         4.0           0          1   \n",
       "1194        1       NaN         31        10.0           0          2   \n",
       "1231        1       NaN          7         4.0           0          1   \n",
       "1399        2       NaN         23         6.0           0          2   \n",
       "925         3       NaN         29         8.0           0          2   \n",
       "\n",
       "      RCACTreesW  RCACGround  RCACGrassl  RCACLeafLi  ...  PowerlineD  \\\n",
       "3190           0           1           0           0  ...       309.0   \n",
       "604            0           2           0           0  ...       309.0   \n",
       "1658           0           2           2           0  ...       309.0   \n",
       "1982           0           2           0           2  ...       309.0   \n",
       "3234           2           2           0           0  ...       309.0   \n",
       "...          ...         ...         ...         ...  ...         ...   \n",
       "1743           0           2           0           0  ...       309.0   \n",
       "1194           0           2           3           0  ...       309.0   \n",
       "1231           0           2           0           0  ...       309.0   \n",
       "1399           0           2           0           0  ...       309.0   \n",
       "925            0           2           0           0  ...       309.0   \n",
       "\n",
       "      OverallFue  GroundFuel  ElevatedFu  BarkHazard  Majorweeds  LandForm00  \\\n",
       "3190         NaN         NaN         NaN         NaN         NaN         NaN   \n",
       "604          NaN         NaN         NaN         NaN         NaN         NaN   \n",
       "1658         NaN         NaN         NaN         NaN         NaN         NaN   \n",
       "1982         NaN         NaN         NaN         NaN         NaN         NaN   \n",
       "3234         NaN         NaN         NaN         NaN         NaN         NaN   \n",
       "...          ...         ...         ...         ...         ...         ...   \n",
       "1743         NaN         NaN         NaN         NaN         NaN         NaN   \n",
       "1194         NaN         NaN         NaN         NaN         NaN         NaN   \n",
       "1231         NaN         NaN         NaN         NaN         NaN         NaN   \n",
       "1399         NaN         NaN         NaN         NaN         NaN         NaN   \n",
       "925          NaN         NaN         NaN         NaN         NaN         NaN   \n",
       "\n",
       "      EVCCode  Origin  Recommenda  \n",
       "3190     2223     NaN         NaN  \n",
       "604       175     NaN         NaN  \n",
       "1658      132     NaN         NaN  \n",
       "1982       21     NaN         NaN  \n",
       "3234      803     NaN         NaN  \n",
       "...       ...     ...         ...  \n",
       "1743      175     NaN         NaN  \n",
       "1194      132     NaN         NaN  \n",
       "1231      132     NaN         NaN  \n",
       "1399       47     NaN         NaN  \n",
       "925      2223     NaN         NaN  \n",
       "\n",
       "[2367 rows x 47 columns]"
      ]
     },
     "execution_count": 13,
     "metadata": {},
     "output_type": "execute_result"
    }
   ],
   "source": [
    "# And the numerical data\n",
    "\n",
    "X_train.select_dtypes(['int64','float64'])"
   ]
  },
  {
   "cell_type": "code",
   "execution_count": 14,
   "id": "9f013292",
   "metadata": {},
   "outputs": [
    {
     "data": {
      "text/plain": [
       "Recommenda    1.000000\n",
       "RoadType      1.000000\n",
       "AdjoiningL    1.000000\n",
       "OverallFue    1.000000\n",
       "GroundFuel    1.000000\n",
       "ElevatedFu    1.000000\n",
       "Majorweeds    1.000000\n",
       "LandForm00    1.000000\n",
       "BarkHazard    1.000000\n",
       "Origin        1.000000\n",
       "RRoadWidth    0.948880\n",
       "Comments      0.946346\n",
       "LRoadWidth    0.939163\n",
       "EVCSource     0.892269\n",
       "Comments2     0.733418\n",
       "dtype: float64"
      ]
     },
     "execution_count": 14,
     "metadata": {},
     "output_type": "execute_result"
    }
   ],
   "source": [
    "# There seems to be a lot of empty values. Let's explore this:\n",
    "pct_empty = X_train.isnull().sum().sort_values(ascending=False)/X_train.shape[0]\n",
    "pct_empty[pct_empty>.3] # Only displaying the values with lots of empty"
   ]
  },
  {
   "cell_type": "code",
   "execution_count": 15,
   "id": "e77d89ce",
   "metadata": {},
   "outputs": [
    {
     "data": {
      "text/plain": [
       "SoilType           0.110266\n",
       "LandFormLS         0.108576\n",
       "Locality           0.108576\n",
       "PowerlineD         0.049007\n",
       "RoadWidthM         0.005915\n",
       "Trees              0.002112\n",
       "EVCNotes           0.001690\n",
       "EVCCode            0.000000\n",
       "CanopyCont         0.000000\n",
       "AdjoiningV         0.000000\n",
       "BioticSoil         0.000000\n",
       "BiomassRed         0.000000\n",
       "Powerline          0.000000\n",
       "Weeds              0.000000\n",
       "Regenerati         0.000000\n",
       "Disturbanc         0.000000\n",
       "Wetland            0.000000\n",
       "CracksCrev         0.000000\n",
       "Rocks              0.000000\n",
       "LeafMulchL         0.000000\n",
       "ZoneName           0.000000\n",
       "Shrubs             0.000000\n",
       "RCACLogs           0.000000\n",
       "SiteCode           0.000000\n",
       "DateStart          0.000000\n",
       "DateFinish         0.000000\n",
       "ZoneDescription    0.000000\n",
       "RCACScore          0.000000\n",
       "WidthVarie         0.000000\n",
       "RCACWidth          0.000000\n",
       "RCACTreesW         0.000000\n",
       "RCACGround         0.000000\n",
       "RCACGrassl         0.000000\n",
       "RCACLeafLi         0.000000\n",
       "RCACRocksC         0.000000\n",
       "Mistletoe          0.000000\n",
       "RCACWetlan         0.000000\n",
       "RCACMaxFau         0.000000\n",
       "RCACRegene         0.000000\n",
       "RCACWildli         0.000000\n",
       "RCACWeedCo         0.000000\n",
       "RCACSiteDi         0.000000\n",
       "RCACRareSp         0.000000\n",
       "HollowTree         0.000000\n",
       "LargeOldTree       0.000000\n",
       "LengthM            0.000000\n",
       "GroundFlor         0.000000\n",
       "LogsWoodyD         0.000000\n",
       "dtype: float64"
      ]
     },
     "execution_count": 15,
     "metadata": {},
     "output_type": "execute_result"
    }
   ],
   "source": [
    "pct_empty[pct_empty<.3] # Only displaying the values with less than 30% empty values"
   ]
  },
  {
   "cell_type": "code",
   "execution_count": 16,
   "id": "204e5314",
   "metadata": {},
   "outputs": [
    {
     "data": {
      "text/plain": [
       "0.7619047619047619"
      ]
     },
     "execution_count": 16,
     "metadata": {},
     "output_type": "execute_result"
    }
   ],
   "source": [
    "# We can calculate the proportion of features that hvae <30% missing values:\n",
    "pct_empty[pct_empty<.3].shape[0]/pct_empty.shape[0]"
   ]
  },
  {
   "cell_type": "markdown",
   "id": "6ac8430f",
   "metadata": {},
   "source": [
    "## What we learned\n",
    "\n",
    "We already know the following now:\n",
    "1. The data has numerical values and categorical values\n",
    "2. Some of the numerical values are correlated\n",
    "3. There are some features with >30% missing values but 76% of the features are well represented (not bad!)"
   ]
  },
  {
   "cell_type": "markdown",
   "id": "c132b3a2",
   "metadata": {},
   "source": [
    "# Part II: Missing values and scaling\n",
    "\n",
    "Now do the following:\n",
    "1. Drop features with >30% missing values\n",
    "2. Imput `RoadWidthM`, `PowerlineD` and `Trees` using the most appropriate strategy <details>\n",
    "    <summary> 💡 Hint </summary>\n",
    "    <br>\n",
    "    ℹ️ Look at the datatype of <code>PowerlineD</code> and the distribution of the data using the <code>.unique()</code> method. Although <code>PowerlineD</code> is a numeric value, it clearly only has discrete distribution: what would be a logical value to impute? The same applies to <code>Trees</code> and <code>RoadWidthM</code> but for a different reason: they are a continuous variable but there is clearly one value that dominates the distribution: it makes sense to assume that the `nan` represent this most frequent value. So you can impute both of these variables at the same time.\n",
    "</details> \n",
    "3. Imput `Locality` and `EVNotes` <details>\n",
    "    <summary>💡 Hint </summary>\n",
    "    <br>\n",
    "    ℹ️ Clearly <code>Locality</code> refers to the name of the county or region where the data comes from. We could impute the most frequent locality, but this would induce some errors. In this case, the best strategy is simply to replace the <code>nan</code> by something meaningful such as 'not known'. <code>EVCNotes</code> is somewhat similar: the <code>nan</code> values indicate that no notes exist, so we should replace them by 'no notes'.\n",
    "</details>\n",
    "4. Impute `SoilType` and `LandformLS` <details>\n",
    "    <summary>💡 Hint </summary>\n",
    "    <br>\n",
    "    ℹ️ These two are tricky. They both are string values, and they both have two classes that are very common. On a real project, a good data scientist will study what those codes means <a href=\"http://vro.agriculture.vic.gov.au/dpi/vro/vrosite.nsf/pages/landform_land_systems_rees/$FILE/TECH_56%20ch6.pdf\"> by refering to the government publication</a>. In an ideal world we would explore different strategies for imputation (we will see this later in the course). However here we need to decide based on little evidence. Because we have no information, and because there is not a clear majority in either soil or landform classes, the best is to impute 'SoilTypeNA' and 'LandFormLSNA' as as a new class.\n",
    "</details>\n",
    "5. Imput `CanopyCont` <details>\n",
    "    <summary>💡 Hint </summary>\n",
    "    <br>\n",
    "    ℹ️ If you do a <code>value_counts()</code> on <code>CanopyCont</code> you will see that this consists of 4 numerical variables, and 5 categorical variables. It is clear that this column has two different encoding for the same concept: how continuous is the canopy? The easiest is to transform this into a numerical column by doing the following replacements: 'none'=0, 'sparse'=1, 'patchy'=2, 'continous' or 'c' = 3. You probably want to use a python dictionary and an <code>apply()</code> function to do that, and remember to cast your values to an <code>int</code> or a <code>float</code>!\n",
    "</details>\n",
    "6. Scale all of your numerical features using an appropriate scaler. Check their distribution before deciding on your scaling strategy! <details>\n",
    "    <summary>💡 Hint </summary>\n",
    "    <br>\n",
    "    ℹ️ <code>WidthVarie</code>, & <code>Powerline</code> are clearly binary variable ([0,1]). They should not be scaled, but rater can optionally be encoded using a <code>CategoricalEncoder</code>. Simply leave them as they are. All other numerical features are non-guassian so a `RobustScaler` is probably the most appropriate.\n",
    "</details>"
   ]
  },
  {
   "cell_type": "markdown",
   "id": "6e057da1",
   "metadata": {},
   "source": [
    "# Missing values"
   ]
  },
  {
   "cell_type": "markdown",
   "id": "6cd14bf6",
   "metadata": {},
   "source": [
    "👇 Locate missing values, investigate them, and apply the solutions below accordingly:\n",
    "\n",
    "- Impute with most frequent\n",
    "- Impute with median\n",
    "- Impute a different value which makes sense for the particular data\n",
    "\n",
    "Make changes effective in the dataset `X_train`. Hints are provided to guide you along in your decision, but before using the hint, try to come up with your own strategy by plotting a historgram of distribution of your variables, or looking a a `value_counts()` output. Trying on your own before looking at the hint is important to your learning."
   ]
  },
  {
   "cell_type": "markdown",
   "id": "099b9551",
   "metadata": {},
   "source": [
    "## `Features with >30% missing data`\n",
    "\n",
    "Identify all features where the amount of missing data is >30% and deal with it approrpiately."
   ]
  },
  {
   "cell_type": "markdown",
   "id": "e75d07cf",
   "metadata": {},
   "source": [
    "<details>\n",
    "    <summary> 💡 Hint </summary>\n",
    "    <br>\n",
    "    ℹ️ The easiest way to do this is to first create a series containing the percentage of missing values, then filter this for values > 30%, and obtain from it the column names of features (here, the index values) that need to be dropped from the data. Rember that 'isnull().sum()' returns a series of the number of missing value, with the original dataframe column names used as index values.\n",
    "</details> "
   ]
  },
  {
   "cell_type": "code",
   "execution_count": 17,
   "id": "8e397133",
   "metadata": {},
   "outputs": [
    {
     "data": {
      "text/plain": [
       "RoadType      100.000000\n",
       "AdjoiningL    100.000000\n",
       "OverallFue    100.000000\n",
       "GroundFuel    100.000000\n",
       "ElevatedFu    100.000000\n",
       "BarkHazard    100.000000\n",
       "Majorweeds    100.000000\n",
       "LandForm00    100.000000\n",
       "Origin        100.000000\n",
       "Recommenda    100.000000\n",
       "RRoadWidth     94.888044\n",
       "Comments       94.634559\n",
       "LRoadWidth     93.916350\n",
       "EVCSource      89.226869\n",
       "Comments2      73.341783\n",
       "dtype: float64"
      ]
     },
     "execution_count": 17,
     "metadata": {},
     "output_type": "execute_result"
    }
   ],
   "source": [
    "# First, create the list of missing values\n",
    "missing_values = ((X_train.isnull().sum())/X_train.shape[0]*100)\n",
    "\n",
    "# Filter for >30% and sort it in descending order\n",
    "missing_values = missing_values[missing_values>30]\n",
    "missing_values.sort_values(ascending=False)"
   ]
  },
  {
   "cell_type": "code",
   "execution_count": 18,
   "id": "2d9d10a2",
   "metadata": {},
   "outputs": [
    {
     "data": {
      "text/plain": [
       "array(['Comments', 'Comments2', 'RoadType', 'LRoadWidth', 'RRoadWidth',\n",
       "       'AdjoiningL', 'OverallFue', 'GroundFuel', 'ElevatedFu',\n",
       "       'BarkHazard', 'Majorweeds', 'LandForm00', 'EVCSource', 'Origin',\n",
       "       'Recommenda'], dtype=object)"
      ]
     },
     "execution_count": 18,
     "metadata": {},
     "output_type": "execute_result"
    }
   ],
   "source": [
    "# Create an array of names to drop from the dataframe based on missing_values\n",
    "to_drop = missing_values.index.values\n",
    "to_drop"
   ]
  },
  {
   "cell_type": "code",
   "execution_count": 19,
   "id": "678fab1f",
   "metadata": {},
   "outputs": [
    {
     "data": {
      "text/html": [
       "<div>\n",
       "<style scoped>\n",
       "    .dataframe tbody tr th:only-of-type {\n",
       "        vertical-align: middle;\n",
       "    }\n",
       "\n",
       "    .dataframe tbody tr th {\n",
       "        vertical-align: top;\n",
       "    }\n",
       "\n",
       "    .dataframe thead th {\n",
       "        text-align: right;\n",
       "    }\n",
       "</style>\n",
       "<table border=\"1\" class=\"dataframe\">\n",
       "  <thead>\n",
       "    <tr style=\"text-align: right;\">\n",
       "      <th></th>\n",
       "      <th>ZoneName</th>\n",
       "      <th>LengthM</th>\n",
       "      <th>SiteCode</th>\n",
       "      <th>DateStart</th>\n",
       "      <th>DateFinish</th>\n",
       "      <th>ZoneDescription</th>\n",
       "      <th>RCACScore</th>\n",
       "      <th>RoadWidthM</th>\n",
       "      <th>WidthVarie</th>\n",
       "      <th>RCACWidth</th>\n",
       "      <th>...</th>\n",
       "      <th>Powerline</th>\n",
       "      <th>BiomassRed</th>\n",
       "      <th>AdjoiningV</th>\n",
       "      <th>PowerlineD</th>\n",
       "      <th>CanopyCont</th>\n",
       "      <th>Locality</th>\n",
       "      <th>LandFormLS</th>\n",
       "      <th>SoilType</th>\n",
       "      <th>EVCCode</th>\n",
       "      <th>EVCNotes</th>\n",
       "    </tr>\n",
       "  </thead>\n",
       "  <tbody>\n",
       "    <tr>\n",
       "      <th>3190</th>\n",
       "      <td>dawber road</td>\n",
       "      <td>4</td>\n",
       "      <td>g395</td>\n",
       "      <td>03/09/2015</td>\n",
       "      <td>03/09/2015</td>\n",
       "      <td>pasture grasses and weeds</td>\n",
       "      <td>5</td>\n",
       "      <td>4.0</td>\n",
       "      <td>0</td>\n",
       "      <td>1</td>\n",
       "      <td>...</td>\n",
       "      <td>0</td>\n",
       "      <td>298</td>\n",
       "      <td>sb/e</td>\n",
       "      <td>309.0</td>\n",
       "      <td>0</td>\n",
       "      <td>inverleigh</td>\n",
       "      <td>7.1pft5-1</td>\n",
       "      <td>ma</td>\n",
       "      <td>2223</td>\n",
       "      <td>2223</td>\n",
       "    </tr>\n",
       "    <tr>\n",
       "      <th>604</th>\n",
       "      <td>tippetts lane</td>\n",
       "      <td>1</td>\n",
       "      <td>g223</td>\n",
       "      <td>05/11/2014</td>\n",
       "      <td>05/11/2014</td>\n",
       "      <td>scattered wattles and a mainly pasture grass g...</td>\n",
       "      <td>9</td>\n",
       "      <td>4.0</td>\n",
       "      <td>0</td>\n",
       "      <td>1</td>\n",
       "      <td>...</td>\n",
       "      <td>0</td>\n",
       "      <td>223</td>\n",
       "      <td>e</td>\n",
       "      <td>309.0</td>\n",
       "      <td>0</td>\n",
       "      <td>dereel</td>\n",
       "      <td>2.1lsp6-2</td>\n",
       "      <td>szb</td>\n",
       "      <td>175</td>\n",
       "      <td>175</td>\n",
       "    </tr>\n",
       "    <tr>\n",
       "      <th>1658</th>\n",
       "      <td>boyles road, werneth</td>\n",
       "      <td>4</td>\n",
       "      <td>g131</td>\n",
       "      <td>30/04/2015</td>\n",
       "      <td>30/04/2015</td>\n",
       "      <td>grassland</td>\n",
       "      <td>10</td>\n",
       "      <td>4.0</td>\n",
       "      <td>0</td>\n",
       "      <td>1</td>\n",
       "      <td>...</td>\n",
       "      <td>0</td>\n",
       "      <td>300</td>\n",
       "      <td>eh</td>\n",
       "      <td>309.0</td>\n",
       "      <td>0</td>\n",
       "      <td>werneth</td>\n",
       "      <td>7.1pbfq5-1</td>\n",
       "      <td>yk</td>\n",
       "      <td>132</td>\n",
       "      <td>132</td>\n",
       "    </tr>\n",
       "    <tr>\n",
       "      <th>1982</th>\n",
       "      <td>pioneer ridge road</td>\n",
       "      <td>1</td>\n",
       "      <td>g119</td>\n",
       "      <td>14/08/2015</td>\n",
       "      <td>14/08/2015</td>\n",
       "      <td>forest</td>\n",
       "      <td>32</td>\n",
       "      <td>4.0</td>\n",
       "      <td>0</td>\n",
       "      <td>1</td>\n",
       "      <td>...</td>\n",
       "      <td>0</td>\n",
       "      <td>300</td>\n",
       "      <td>i+e</td>\n",
       "      <td>309.0</td>\n",
       "      <td>3</td>\n",
       "      <td>meredith</td>\n",
       "      <td>2.1lsp5-6</td>\n",
       "      <td>dd</td>\n",
       "      <td>21</td>\n",
       "      <td>21</td>\n",
       "    </tr>\n",
       "    <tr>\n",
       "      <th>3234</th>\n",
       "      <td>peregrine way</td>\n",
       "      <td>5</td>\n",
       "      <td>g550</td>\n",
       "      <td>04/09/2015</td>\n",
       "      <td>04/09/2015</td>\n",
       "      <td>cleared with occasional trees and/or shrubs</td>\n",
       "      <td>6</td>\n",
       "      <td>4.0</td>\n",
       "      <td>0</td>\n",
       "      <td>1</td>\n",
       "      <td>...</td>\n",
       "      <td>0</td>\n",
       "      <td>298</td>\n",
       "      <td>e</td>\n",
       "      <td>309.0</td>\n",
       "      <td>0</td>\n",
       "      <td>teesdale</td>\n",
       "      <td>7.1pft5-1</td>\n",
       "      <td>ma</td>\n",
       "      <td>803</td>\n",
       "      <td>803</td>\n",
       "    </tr>\n",
       "    <tr>\n",
       "      <th>...</th>\n",
       "      <td>...</td>\n",
       "      <td>...</td>\n",
       "      <td>...</td>\n",
       "      <td>...</td>\n",
       "      <td>...</td>\n",
       "      <td>...</td>\n",
       "      <td>...</td>\n",
       "      <td>...</td>\n",
       "      <td>...</td>\n",
       "      <td>...</td>\n",
       "      <td>...</td>\n",
       "      <td>...</td>\n",
       "      <td>...</td>\n",
       "      <td>...</td>\n",
       "      <td>...</td>\n",
       "      <td>...</td>\n",
       "      <td>...</td>\n",
       "      <td>...</td>\n",
       "      <td>...</td>\n",
       "      <td>...</td>\n",
       "      <td>...</td>\n",
       "    </tr>\n",
       "    <tr>\n",
       "      <th>1743</th>\n",
       "      <td>morris road, rokewood</td>\n",
       "      <td>6</td>\n",
       "      <td>g115</td>\n",
       "      <td>28/05/2015</td>\n",
       "      <td>28/05/2015</td>\n",
       "      <td>pasture grasses and weeds</td>\n",
       "      <td>4</td>\n",
       "      <td>4.0</td>\n",
       "      <td>0</td>\n",
       "      <td>1</td>\n",
       "      <td>...</td>\n",
       "      <td>0</td>\n",
       "      <td>289</td>\n",
       "      <td>e</td>\n",
       "      <td>309.0</td>\n",
       "      <td>0</td>\n",
       "      <td>rokewood</td>\n",
       "      <td>2.1pfc5-1</td>\n",
       "      <td>de</td>\n",
       "      <td>175</td>\n",
       "      <td>175</td>\n",
       "    </tr>\n",
       "    <tr>\n",
       "      <th>1194</th>\n",
       "      <td>wilgul-werneth road</td>\n",
       "      <td>1</td>\n",
       "      <td>g129</td>\n",
       "      <td>11/12/2014</td>\n",
       "      <td>11/12/2014</td>\n",
       "      <td>grassland</td>\n",
       "      <td>31</td>\n",
       "      <td>10.0</td>\n",
       "      <td>0</td>\n",
       "      <td>2</td>\n",
       "      <td>...</td>\n",
       "      <td>0</td>\n",
       "      <td>289</td>\n",
       "      <td>e</td>\n",
       "      <td>309.0</td>\n",
       "      <td>0</td>\n",
       "      <td>werneth</td>\n",
       "      <td>7.1pbfq5-1</td>\n",
       "      <td>yk</td>\n",
       "      <td>132</td>\n",
       "      <td>132</td>\n",
       "    </tr>\n",
       "    <tr>\n",
       "      <th>1231</th>\n",
       "      <td>rokewood-shelford road</td>\n",
       "      <td>1</td>\n",
       "      <td>g213</td>\n",
       "      <td>17/12/2014</td>\n",
       "      <td>17/12/2014</td>\n",
       "      <td>pasture grasses and weeds</td>\n",
       "      <td>7</td>\n",
       "      <td>4.0</td>\n",
       "      <td>0</td>\n",
       "      <td>1</td>\n",
       "      <td>...</td>\n",
       "      <td>0</td>\n",
       "      <td>289</td>\n",
       "      <td>e</td>\n",
       "      <td>309.0</td>\n",
       "      <td>0</td>\n",
       "      <td>rokewood</td>\n",
       "      <td>7.2pbq5-1</td>\n",
       "      <td>st</td>\n",
       "      <td>132</td>\n",
       "      <td>132</td>\n",
       "    </tr>\n",
       "    <tr>\n",
       "      <th>1399</th>\n",
       "      <td>sebastopol-smythesdale road</td>\n",
       "      <td>2</td>\n",
       "      <td>g044</td>\n",
       "      <td>12/03/2015</td>\n",
       "      <td>12/03/2015</td>\n",
       "      <td>cleared with occasional trees and/or shrubs</td>\n",
       "      <td>23</td>\n",
       "      <td>6.0</td>\n",
       "      <td>0</td>\n",
       "      <td>2</td>\n",
       "      <td>...</td>\n",
       "      <td>0</td>\n",
       "      <td>289</td>\n",
       "      <td>e/sb</td>\n",
       "      <td>309.0</td>\n",
       "      <td>0</td>\n",
       "      <td>ross creek</td>\n",
       "      <td>7.1pbfq7-3</td>\n",
       "      <td>yd</td>\n",
       "      <td>47</td>\n",
       "      <td>47</td>\n",
       "    </tr>\n",
       "    <tr>\n",
       "      <th>925</th>\n",
       "      <td>linton-mannibadar road</td>\n",
       "      <td>3</td>\n",
       "      <td>g181</td>\n",
       "      <td>09/12/2014</td>\n",
       "      <td>09/12/2014</td>\n",
       "      <td>cleared with occasional trees and/or shrubs</td>\n",
       "      <td>29</td>\n",
       "      <td>8.0</td>\n",
       "      <td>0</td>\n",
       "      <td>2</td>\n",
       "      <td>...</td>\n",
       "      <td>0</td>\n",
       "      <td>289</td>\n",
       "      <td>e</td>\n",
       "      <td>309.0</td>\n",
       "      <td>0</td>\n",
       "      <td>linton</td>\n",
       "      <td>7.1pbfq6-5</td>\n",
       "      <td>ye</td>\n",
       "      <td>2223</td>\n",
       "      <td>2223</td>\n",
       "    </tr>\n",
       "  </tbody>\n",
       "</table>\n",
       "<p>2367 rows × 48 columns</p>\n",
       "</div>"
      ],
      "text/plain": [
       "                         ZoneName  LengthM SiteCode   DateStart  DateFinish  \\\n",
       "3190                  dawber road        4     g395  03/09/2015  03/09/2015   \n",
       "604                 tippetts lane        1     g223  05/11/2014  05/11/2014   \n",
       "1658         boyles road, werneth        4     g131  30/04/2015  30/04/2015   \n",
       "1982           pioneer ridge road        1     g119  14/08/2015  14/08/2015   \n",
       "3234                peregrine way        5     g550  04/09/2015  04/09/2015   \n",
       "...                           ...      ...      ...         ...         ...   \n",
       "1743        morris road, rokewood        6     g115  28/05/2015  28/05/2015   \n",
       "1194          wilgul-werneth road        1     g129  11/12/2014  11/12/2014   \n",
       "1231       rokewood-shelford road        1     g213  17/12/2014  17/12/2014   \n",
       "1399  sebastopol-smythesdale road        2     g044  12/03/2015  12/03/2015   \n",
       "925        linton-mannibadar road        3     g181  09/12/2014  09/12/2014   \n",
       "\n",
       "                                        ZoneDescription  RCACScore  \\\n",
       "3190                          pasture grasses and weeds          5   \n",
       "604   scattered wattles and a mainly pasture grass g...          9   \n",
       "1658                                          grassland         10   \n",
       "1982                                             forest         32   \n",
       "3234        cleared with occasional trees and/or shrubs          6   \n",
       "...                                                 ...        ...   \n",
       "1743                          pasture grasses and weeds          4   \n",
       "1194                                          grassland         31   \n",
       "1231                          pasture grasses and weeds          7   \n",
       "1399        cleared with occasional trees and/or shrubs         23   \n",
       "925         cleared with occasional trees and/or shrubs         29   \n",
       "\n",
       "      RoadWidthM  WidthVarie  RCACWidth  ...  Powerline  BiomassRed  \\\n",
       "3190         4.0           0          1  ...          0         298   \n",
       "604          4.0           0          1  ...          0         223   \n",
       "1658         4.0           0          1  ...          0         300   \n",
       "1982         4.0           0          1  ...          0         300   \n",
       "3234         4.0           0          1  ...          0         298   \n",
       "...          ...         ...        ...  ...        ...         ...   \n",
       "1743         4.0           0          1  ...          0         289   \n",
       "1194        10.0           0          2  ...          0         289   \n",
       "1231         4.0           0          1  ...          0         289   \n",
       "1399         6.0           0          2  ...          0         289   \n",
       "925          8.0           0          2  ...          0         289   \n",
       "\n",
       "      AdjoiningV  PowerlineD  CanopyCont    Locality  LandFormLS  SoilType  \\\n",
       "3190        sb/e       309.0           0  inverleigh   7.1pft5-1        ma   \n",
       "604            e       309.0           0      dereel   2.1lsp6-2       szb   \n",
       "1658          eh       309.0           0     werneth  7.1pbfq5-1        yk   \n",
       "1982         i+e       309.0           3    meredith   2.1lsp5-6        dd   \n",
       "3234           e       309.0           0    teesdale   7.1pft5-1        ma   \n",
       "...          ...         ...         ...         ...         ...       ...   \n",
       "1743           e       309.0           0    rokewood   2.1pfc5-1        de   \n",
       "1194           e       309.0           0     werneth  7.1pbfq5-1        yk   \n",
       "1231           e       309.0           0    rokewood   7.2pbq5-1        st   \n",
       "1399        e/sb       309.0           0  ross creek  7.1pbfq7-3        yd   \n",
       "925            e       309.0           0      linton  7.1pbfq6-5        ye   \n",
       "\n",
       "      EVCCode  EVCNotes  \n",
       "3190     2223      2223  \n",
       "604       175       175  \n",
       "1658      132       132  \n",
       "1982       21        21  \n",
       "3234      803       803  \n",
       "...       ...       ...  \n",
       "1743      175       175  \n",
       "1194      132       132  \n",
       "1231      132       132  \n",
       "1399       47        47  \n",
       "925      2223      2223  \n",
       "\n",
       "[2367 rows x 48 columns]"
      ]
     },
     "execution_count": 19,
     "metadata": {},
     "output_type": "execute_result"
    }
   ],
   "source": [
    "# Drop and check the new dataframe\n",
    "X_train = X_train.drop(to_drop, axis=1)\n",
    "X_train"
   ]
  },
  {
   "cell_type": "code",
   "execution_count": 20,
   "id": "2ecec07a",
   "metadata": {},
   "outputs": [
    {
     "data": {
      "text/plain": [
       "SoilType      11.026616\n",
       "Locality      10.857626\n",
       "LandFormLS    10.857626\n",
       "PowerlineD     4.900718\n",
       "RoadWidthM     0.591466\n",
       "Trees          0.211238\n",
       "EVCNotes       0.168990\n",
       "dtype: float64"
      ]
     },
     "execution_count": 20,
     "metadata": {},
     "output_type": "execute_result"
    }
   ],
   "source": [
    "# Check again for missing values > 0: none should be above 30%\n",
    "missing_values = ((X_train.isnull().sum())/X_train.shape[0]*100)\n",
    "missing_values = missing_values[missing_values>0]\n",
    "missing_values.sort_values(ascending=False)"
   ]
  },
  {
   "cell_type": "markdown",
   "id": "ad0ec76c",
   "metadata": {},
   "source": [
    "## `RoadWidthM`, `PowerlineD` and `Trees`\n",
    "🛂 Check for missing values in `RoadWidthM`, `PowerlineD` and `Trees` and deal with them appropriately."
   ]
  },
  {
   "cell_type": "markdown",
   "id": "2ccb9555",
   "metadata": {},
   "source": [
    "<details>\n",
    "    <summary> 💡 Hint </summary>\n",
    "    <br>\n",
    "    ℹ️ Look at the datatype of <code>PowerlineD</code> and the distribution of the data using the <code>.unique()</code> method. Although <code>PowerlineD</code> is a numeric value, it clearly only has discrete distribution: what would be a logical value to impute? The same applies to <code>Trees</code> and <code>RoadWidthM</code> but for a different reason: they are a continuous variable but there is clearly one value that dominates the distribution: it makes sense to assume that the `nan` represent this most frequent value. So you can impute both of these variables at the same time.\n",
    "</details> "
   ]
  },
  {
   "cell_type": "code",
   "execution_count": 21,
   "id": "0ba91a97",
   "metadata": {},
   "outputs": [
    {
     "name": "stdout",
     "output_type": "stream",
     "text": [
      "# Missing RoadWidthM:14\n",
      "# Missing PowerlineD:116\n",
      "# Missing Trees:5\n"
     ]
    }
   ],
   "source": [
    "print(f'# Missing RoadWidthM:{X_train.RoadWidthM.isnull().sum()}')\n",
    "print(f'# Missing PowerlineD:{X_train.PowerlineD.isnull().sum()}')\n",
    "print(f'# Missing Trees:{X_train.Trees.isnull().sum()}')"
   ]
  },
  {
   "cell_type": "code",
   "execution_count": 22,
   "id": "ee9e8e08",
   "metadata": {},
   "outputs": [
    {
     "data": {
      "text/plain": [
       "dtype('float64')"
      ]
     },
     "execution_count": 22,
     "metadata": {},
     "output_type": "execute_result"
    }
   ],
   "source": [
    "X_train.PowerlineD.dtype"
   ]
  },
  {
   "cell_type": "code",
   "execution_count": 23,
   "id": "4cb73e10",
   "metadata": {},
   "outputs": [
    {
     "data": {
      "text/plain": [
       "array([309., 307., 310., 306., 291.,  nan, 335.])"
      ]
     },
     "execution_count": 23,
     "metadata": {},
     "output_type": "execute_result"
    }
   ],
   "source": [
    "X_train.PowerlineD.unique()"
   ]
  },
  {
   "cell_type": "code",
   "execution_count": 24,
   "id": "9e87154b",
   "metadata": {},
   "outputs": [
    {
     "data": {
      "text/plain": [
       "PowerlineD\n",
       "309.0    1751\n",
       "291.0     135\n",
       "307.0     122\n",
       "310.0     121\n",
       "306.0     121\n",
       "335.0       1\n",
       "Name: count, dtype: int64"
      ]
     },
     "execution_count": 24,
     "metadata": {},
     "output_type": "execute_result"
    }
   ],
   "source": [
    "X_train.PowerlineD.value_counts()"
   ]
  },
  {
   "cell_type": "code",
   "execution_count": 25,
   "id": "937964fd",
   "metadata": {},
   "outputs": [
    {
     "data": {
      "text/plain": [
       "Trees\n",
       "0.0     1109\n",
       "16.0     432\n",
       "18.0     303\n",
       "20.0     266\n",
       "19.0     243\n",
       "17.0       8\n",
       "1.0        1\n",
       "Name: count, dtype: int64"
      ]
     },
     "execution_count": 25,
     "metadata": {},
     "output_type": "execute_result"
    }
   ],
   "source": [
    "X_train.Trees.value_counts()"
   ]
  },
  {
   "cell_type": "code",
   "execution_count": 26,
   "id": "bf0cf668",
   "metadata": {},
   "outputs": [
    {
     "data": {
      "text/plain": [
       "RoadWidthM\n",
       "4.0     1526\n",
       "8.0      357\n",
       "6.0      197\n",
       "20.0      79\n",
       "5.0       71\n",
       "10.0      69\n",
       "15.0      19\n",
       "12.0      13\n",
       "2.0        7\n",
       "3.0        7\n",
       "7.0        4\n",
       "80.0       3\n",
       "1.0        1\n",
       "Name: count, dtype: int64"
      ]
     },
     "execution_count": 26,
     "metadata": {},
     "output_type": "execute_result"
    }
   ],
   "source": [
    "X_train.RoadWidthM.value_counts()"
   ]
  },
  {
   "cell_type": "code",
   "execution_count": 27,
   "id": "bdf60f1e",
   "metadata": {},
   "outputs": [
    {
     "data": {
      "image/png": "[encoded data removed]",
      "text/plain": [
       "<Figure size 800x1200 with 3 Axes>"
      ]
     },
     "metadata": {},
     "output_type": "display_data"
    }
   ],
   "source": [
    "import matplotlib.pyplot as plt\n",
    "\n",
    "fig, axes = plt.subplots(3,1,figsize=(8,12))\n",
    "\n",
    "for ax, feature in zip(axes.flatten(), ['PowerlineD','RoadWidthM', 'Trees']):\n",
    "    X_train[feature].plot(kind='hist',ax=ax)\n",
    "    ax.set_title(feature)"
   ]
  },
  {
   "cell_type": "code",
   "execution_count": 28,
   "id": "2680945a",
   "metadata": {},
   "outputs": [],
   "source": [
    "from sklearn.impute import SimpleImputer\n",
    "\n",
    "cw_imputer = SimpleImputer(strategy='most_frequent').fit(X_train[['PowerlineD','Trees','RoadWidthM']])\n",
    "X_train[['PowerlineD','Trees','RoadWidthM']]= cw_imputer.transform(X_train[['PowerlineD','Trees','RoadWidthM']])"
   ]
  },
  {
   "cell_type": "markdown",
   "id": "96ee3579",
   "metadata": {},
   "source": [
    "## `Locality` and `EVCNotes`"
   ]
  },
  {
   "cell_type": "markdown",
   "id": "3b364e88",
   "metadata": {},
   "source": [
    "🛂 Check for missing values in `Locality` and `EVCNotes` for missing values and deal with them appropriately."
   ]
  },
  {
   "cell_type": "markdown",
   "id": "1856e280",
   "metadata": {},
   "source": [
    "<details>\n",
    "    <summary>💡 Hint </summary>\n",
    "    <br>\n",
    "    ℹ️ Clearly <code>Locality</code> refers to the name of the county or region where the data comes from. We could impute the most frequent locality, but this would induce some errors. In this case, the best strategy is simply to replace the <code>nan</code> by something meaningful such as 'not known'. <code>EVCNotes</code> is somewhat similar: the <code>nan</code> values indicate that no notes exist, so we should replace them by 'no notes'.\n",
    "</details>"
   ]
  },
  {
   "cell_type": "code",
   "execution_count": 29,
   "id": "f61e0d59",
   "metadata": {},
   "outputs": [
    {
     "name": "stdout",
     "output_type": "stream",
     "text": [
      "# Missing Locality:257\n",
      "# Missing EVCNotes:4\n"
     ]
    }
   ],
   "source": [
    "print(f'# Missing Locality:{X_train.Locality.isnull().sum()}')\n",
    "print(f'# Missing EVCNotes:{X_train.EVCNotes.isnull().sum()}')"
   ]
  },
  {
   "cell_type": "code",
   "execution_count": 30,
   "id": "9eb62746",
   "metadata": {},
   "outputs": [
    {
     "data": {
      "text/plain": [
       "count         2110\n",
       "unique          65\n",
       "top       meredith\n",
       "freq           157\n",
       "Name: Locality, dtype: object"
      ]
     },
     "execution_count": 30,
     "metadata": {},
     "output_type": "execute_result"
    }
   ],
   "source": [
    "# Check dtypes and values\n",
    "X_train.Locality.describe()"
   ]
  },
  {
   "cell_type": "code",
   "execution_count": 31,
   "id": "de831e21",
   "metadata": {},
   "outputs": [
    {
     "data": {
      "text/plain": [
       "Locality\n",
       "meredith          157\n",
       "rokewood          108\n",
       "dereel            107\n",
       "scarsdale         104\n",
       "ross creek         89\n",
       "                 ... \n",
       "cargerie            1\n",
       "bradvale            1\n",
       "skipton             1\n",
       "staughton vale      1\n",
       "bunkers hill        1\n",
       "Name: count, Length: 65, dtype: int64"
      ]
     },
     "execution_count": 31,
     "metadata": {},
     "output_type": "execute_result"
    }
   ],
   "source": [
    "X_train.Locality.value_counts()"
   ]
  },
  {
   "cell_type": "code",
   "execution_count": 32,
   "id": "b837b6c6",
   "metadata": {},
   "outputs": [
    {
     "data": {
      "text/plain": [
       "count     2363\n",
       "unique     321\n",
       "top         47\n",
       "freq       572\n",
       "Name: EVCNotes, dtype: object"
      ]
     },
     "execution_count": 32,
     "metadata": {},
     "output_type": "execute_result"
    }
   ],
   "source": [
    "X_train.EVCNotes.describe()"
   ]
  },
  {
   "cell_type": "code",
   "execution_count": 33,
   "id": "0d91f728",
   "metadata": {},
   "outputs": [
    {
     "data": {
      "text/plain": [
       "EVCNotes\n",
       "47                                               572\n",
       "175                                              345\n",
       "132                                              300\n",
       "2223                                             277\n",
       "22/20                                             86\n",
       "                                                ... \n",
       "20/22>20/127>[198]>47                              1\n",
       "47>198>47[almost 23]>47>198>[20/22]>47>198>47      1\n",
       "22/20/47 intermediate                              1\n",
       "47>[198]>[47]>20                                   1\n",
       "[175]>641>[175]                                    1\n",
       "Name: count, Length: 321, dtype: int64"
      ]
     },
     "execution_count": 33,
     "metadata": {},
     "output_type": "execute_result"
    }
   ],
   "source": [
    "X_train.EVCNotes.value_counts()"
   ]
  },
  {
   "cell_type": "code",
   "execution_count": 34,
   "id": "d4c0074a",
   "metadata": {},
   "outputs": [],
   "source": [
    "# Replace wiht appropriate labels\n",
    "X_train.loc[X_train.Locality.isnull(),'Locality'] = 'not known'\n",
    "X_train.loc[X_train.EVCNotes.isnull(),'EVCNotes'] = 'no notes'"
   ]
  },
  {
   "cell_type": "code",
   "execution_count": 35,
   "id": "2f0f73eb",
   "metadata": {},
   "outputs": [
    {
     "data": {
      "text/plain": [
       "0"
      ]
     },
     "execution_count": 35,
     "metadata": {},
     "output_type": "execute_result"
    }
   ],
   "source": [
    "# Check that there are no more null values\n",
    "X_train.Locality.isnull().sum() + X_train.EVCNotes.isnull().sum()"
   ]
  },
  {
   "cell_type": "markdown",
   "id": "8d15a656",
   "metadata": {},
   "source": [
    "## `SoilType` and `LandFormLS`"
   ]
  },
  {
   "cell_type": "markdown",
   "id": "7a80b07b",
   "metadata": {},
   "source": [
    "🛂 Check for missing values in `SoilType` and `LandFormLS` and deal with them appropriately."
   ]
  },
  {
   "cell_type": "markdown",
   "id": "b8478b3b",
   "metadata": {},
   "source": [
    "<details>\n",
    "    <summary>💡 Hint </summary>\n",
    "    <br>\n",
    "    ℹ️ These two are tricky. They both are string values, and they both have two classes that are very common. On a real project, a good data scientist will study what those codes means <a href=\"http://vro.agriculture.vic.gov.au/dpi/vro/vrosite.nsf/pages/landform_land_systems_rees/$FILE/TECH_56%20ch6.pdf\"> by refering to the government publication</a>. In an ideal world we would explore different strategies for imputation (we will see this later in the course). However here we need to decide based on little evidence. Because we have no information, and because there is not a clear majority in either soil or landform classes, the best is to impute 'SoilTypeNA' and 'LandFormLSNA' as as a new class.\n",
    "</details>"
   ]
  },
  {
   "cell_type": "code",
   "execution_count": 36,
   "id": "8b82aea4",
   "metadata": {},
   "outputs": [
    {
     "name": "stdout",
     "output_type": "stream",
     "text": [
      "# Missing SoilType:261\n",
      "# Missing LandFormLS:257\n"
     ]
    }
   ],
   "source": [
    "print(f'# Missing SoilType:{X_train.SoilType.isnull().sum()}')\n",
    "print(f'# Missing LandFormLS:{X_train.LandFormLS.isnull().sum()}')"
   ]
  },
  {
   "cell_type": "code",
   "execution_count": 37,
   "id": "9fad64f2",
   "metadata": {},
   "outputs": [
    {
     "data": {
      "text/plain": [
       "count     2106\n",
       "unique      11\n",
       "top        szb\n",
       "freq       503\n",
       "Name: SoilType, dtype: object"
      ]
     },
     "execution_count": 37,
     "metadata": {},
     "output_type": "execute_result"
    }
   ],
   "source": [
    "# Check the SoilType column\n",
    "X_train.SoilType.describe()"
   ]
  },
  {
   "cell_type": "code",
   "execution_count": 38,
   "id": "626d278c",
   "metadata": {},
   "outputs": [
    {
     "data": {
      "text/plain": [
       "SoilType\n",
       "szb    503\n",
       "yk     466\n",
       "ma     216\n",
       "ye     199\n",
       "yf     193\n",
       "dd     133\n",
       "yt     120\n",
       "yd     106\n",
       "de      90\n",
       "st      57\n",
       "rg      23\n",
       "Name: count, dtype: int64"
      ]
     },
     "execution_count": 38,
     "metadata": {},
     "output_type": "execute_result"
    }
   ],
   "source": [
    "X_train.SoilType.value_counts()"
   ]
  },
  {
   "cell_type": "code",
   "execution_count": 39,
   "id": "d3e39887",
   "metadata": {},
   "outputs": [
    {
     "data": {
      "text/plain": [
       "count          2110\n",
       "unique           21\n",
       "top       2.1lsp6-2\n",
       "freq            472\n",
       "Name: LandFormLS, dtype: object"
      ]
     },
     "execution_count": 39,
     "metadata": {},
     "output_type": "execute_result"
    }
   ],
   "source": [
    "# Now check the LandFormLS column\n",
    "X_train.LandFormLS.describe()"
   ]
  },
  {
   "cell_type": "code",
   "execution_count": 40,
   "id": "22d18eb5",
   "metadata": {},
   "outputs": [
    {
     "data": {
      "text/plain": [
       "LandFormLS\n",
       "2.1lsp6-2     472\n",
       "7.1pbfq5-1    381\n",
       "7.1pft5-1     202\n",
       "7.1pbfq6-5    192\n",
       "2.1pft6-4     189\n",
       "7.1pbfq7-3    111\n",
       "2.1lsp5-6      86\n",
       "7.1pbfq6-2     84\n",
       "2.1lsp7-4      70\n",
       "7.2pbq5-1      56\n",
       "2.1hsp7-4      51\n",
       "2.1pfc5-1      50\n",
       "2.1hsp5-6      43\n",
       "2.1pfq6-3      40\n",
       "2.1lgp5-2      22\n",
       "2.1pfc5-5      20\n",
       "2.1pfq7-1      14\n",
       "7.1pfq5-4      11\n",
       "7.1pbfq5-4      8\n",
       "7.1pbfq4-1      4\n",
       "7.1pfq6-4       4\n",
       "Name: count, dtype: int64"
      ]
     },
     "execution_count": 40,
     "metadata": {},
     "output_type": "execute_result"
    }
   ],
   "source": [
    "X_train.LandFormLS.value_counts()"
   ]
  },
  {
   "cell_type": "code",
   "execution_count": 41,
   "id": "b367c1d4",
   "metadata": {},
   "outputs": [],
   "source": [
    "# Can't easily justify replacing by most frequent - instead create new NA values\n",
    "\n",
    "X_train.loc[X_train.LandFormLS.isnull(),'LandFormLS'] = 'LandFormLSNA'\n",
    "X_train.loc[X_train.SoilType.isnull(),'SoilType'] = 'SoilTypeNA'"
   ]
  },
  {
   "cell_type": "markdown",
   "id": "8a1ee507",
   "metadata": {},
   "source": [
    "## `CanopyCont`"
   ]
  },
  {
   "cell_type": "markdown",
   "id": "918bbdae",
   "metadata": {},
   "source": [
    "🛂 Check for missing values in `CanopyCont` and deal with them appropriately."
   ]
  },
  {
   "cell_type": "markdown",
   "id": "c3e5cd3b",
   "metadata": {},
   "source": [
    "<details>\n",
    "    <summary>💡 Hint </summary>\n",
    "    <br>\n",
    "    ℹ️ If you do a <code>value_counts()</code> on <code>CanopyCont</code> you will see that this consists of 4 numerical variables, and 5 categorical variables. It is clear that this column has two different encoding for the same concept: how continuous is the canopy? The easiest is to transform this into a numerical column by doing the following replacements: 'none'=0, 'sparse'=1, 'patchy'=2, 'continous' or 'c' = 3. You probably want to use a python dictionary and an <code>apply()</code> function to do that, and remember to cast your values to an <code>int</code> or a <code>float</code>!\n",
    "</details>"
   ]
  },
  {
   "cell_type": "code",
   "execution_count": 42,
   "id": "a1a64f0d",
   "metadata": {},
   "outputs": [
    {
     "name": "stdout",
     "output_type": "stream",
     "text": [
      "# Missing CanopyCont:0\n"
     ]
    }
   ],
   "source": [
    "print(f'# Missing CanopyCont:{X_train.CanopyCont.isnull().sum()}')"
   ]
  },
  {
   "cell_type": "code",
   "execution_count": 43,
   "id": "a916f484",
   "metadata": {},
   "outputs": [
    {
     "data": {
      "text/plain": [
       "CanopyCont\n",
       "0             1322\n",
       "2              293\n",
       "3              268\n",
       "1              229\n",
       "none            94\n",
       "continuous      72\n",
       "patchy          69\n",
       "sparse          19\n",
       "c                1\n",
       "Name: count, dtype: int64"
      ]
     },
     "execution_count": 43,
     "metadata": {},
     "output_type": "execute_result"
    }
   ],
   "source": [
    "# Checking the distribution of values in CanopyCont\n",
    "X_train.CanopyCont.value_counts()"
   ]
  },
  {
   "cell_type": "code",
   "execution_count": 44,
   "id": "c8bf5295",
   "metadata": {},
   "outputs": [],
   "source": [
    "# Create a dictionaty to replace strings by int:\n",
    "dic = {'none':0,\n",
    "      'sparse':1,\n",
    "      'patchy':2,\n",
    "      'continuous':3,\n",
    "      'c':3}\n",
    "\n",
    "# Use an apply lambda function to replace the value. Cast to int, and return default value as 'x'\n",
    "X_train['CanopyCont'] = X_train.CanopyCont.apply(lambda x:int(dic.get(x, x)))"
   ]
  },
  {
   "cell_type": "code",
   "execution_count": 45,
   "id": "fefb2a36",
   "metadata": {},
   "outputs": [
    {
     "data": {
      "text/plain": [
       "CanopyCont\n",
       "0    1416\n",
       "2     362\n",
       "3     341\n",
       "1     248\n",
       "Name: count, dtype: int64"
      ]
     },
     "execution_count": 45,
     "metadata": {},
     "output_type": "execute_result"
    }
   ],
   "source": [
    "# Check that it all worked well\n",
    "X_train.CanopyCont.value_counts()"
   ]
  },
  {
   "cell_type": "markdown",
   "id": "147eb0fe",
   "metadata": {},
   "source": [
    "# Scaling"
   ]
  },
  {
   "cell_type": "markdown",
   "id": "d280f33c",
   "metadata": {},
   "source": [
    "👇 Investigate the numerical features for outliers and distribution, and apply the solutions below accordingly:\n",
    "- Robust Scale\n",
    "- Standard Scale\n",
    "\n",
    "Replace the original columns by the transformed values."
   ]
  },
  {
   "cell_type": "markdown",
   "id": "74417cfe",
   "metadata": {},
   "source": [
    "## `WidthVarie` , & `Powerline`"
   ]
  },
  {
   "cell_type": "markdown",
   "id": "4b60bb44",
   "metadata": {},
   "source": [
    "⚖️ Scale `WidthVarie` and `Powerline` using the most appropriate scaler."
   ]
  },
  {
   "cell_type": "markdown",
   "id": "0cc66849",
   "metadata": {},
   "source": [
    "<details>\n",
    "    <summary>💡 Hint </summary>\n",
    "    <br>\n",
    "    ℹ️ <code>WidthVarie</code>, & <code>Powerline</code> are clearly binary variable ([0,1]). They should not be scaled, but rater can optionally be encoded using a <code>CategoricalEncoder</code>. Simply leave them as they are.\n",
    "</details>"
   ]
  },
  {
   "cell_type": "code",
   "execution_count": 46,
   "id": "06b111cb",
   "metadata": {},
   "outputs": [
    {
     "data": {
      "text/plain": [
       "Powerline\n",
       "0    2295\n",
       "1      72\n",
       "Name: count, dtype: int64"
      ]
     },
     "execution_count": 46,
     "metadata": {},
     "output_type": "execute_result"
    }
   ],
   "source": [
    "X_train.Powerline.value_counts()"
   ]
  },
  {
   "cell_type": "code",
   "execution_count": 47,
   "id": "86b2eada",
   "metadata": {},
   "outputs": [
    {
     "data": {
      "text/plain": [
       "WidthVarie\n",
       "0    1966\n",
       "1     401\n",
       "Name: count, dtype: int64"
      ]
     },
     "execution_count": 47,
     "metadata": {},
     "output_type": "execute_result"
    }
   ],
   "source": [
    "X_train.WidthVarie.value_counts()"
   ]
  },
  {
   "cell_type": "markdown",
   "id": "2c7696de",
   "metadata": {},
   "source": [
    "## All other numerical variables"
   ]
  },
  {
   "cell_type": "markdown",
   "id": "1b3d438e",
   "metadata": {},
   "source": [
    "⚖️ How would you scale all of the other variables? Save a list of the numerical column names (minus `WidthVarie` and `Powerline`, see above) in a variable called `numerical_columns`."
   ]
  },
  {
   "cell_type": "markdown",
   "id": "7eb32fd0",
   "metadata": {},
   "source": [
    "<details>\n",
    "    <summary>💡 Hint </summary>\n",
    "    <br>\n",
    "    ℹ️ All other variables are continous, but their distribution is non-gaussian. We can use a RobustScaler() here. The first task is to identify the columns with a dtype of either 'float64' or 'int64': you can do this programmatically to avoid having to type a long list of features!\n",
    "</details>"
   ]
  },
  {
   "cell_type": "code",
   "execution_count": null,
   "id": "224cb2d6",
   "metadata": {},
   "outputs": [],
   "source": [
    "import matplotlib.pyplot as plt\n",
    "\n",
    "# Check for float and int variables\n",
    "floatv = X_train.dtypes[X_train.dtypes=='float64'].index.values\n",
    "intv = X_train.dtypes[X_train.dtypes=='int64'].index.values\n",
    "\n",
    "# vstack the two data types into one numpy array\n",
    "numerical_columns = np.hstack([floatv,intv])\n",
    "\n",
    "#Transform numerical_colums to a list to more easily remove the two features\n",
    "numerical_columns = numerical_columns.tolist()\n",
    "numerical_columns.remove('Powerline')\n",
    "numerical_columns.remove('WidthVarie')"
   ]
  },
  {
   "cell_type": "code",
   "execution_count": null,
   "id": "e7ce8087",
   "metadata": {},
   "outputs": [],
   "source": [
    "# Create a few plot to check the distribution of the data\n",
    "fig, axes = plt.subplots(len(numerical_columns),figsize=(8, 120))\n",
    "\n",
    "for ax, feature in zip(axes, numerical_columns):\n",
    "    X_train[feature].plot(kind='hist', ax=ax)\n",
    "    ax.set_title(feature)"
   ]
  },
  {
   "cell_type": "code",
   "execution_count": null,
   "id": "b9b963a9",
   "metadata": {},
   "outputs": [],
   "source": [
    "from sklearn.preprocessing import  RobustScaler\n",
    "\n",
    "X_train[numerical_columns] = RobustScaler().fit_transform(X_train[numerical_columns])"
   ]
  },
  {
   "cell_type": "code",
   "execution_count": null,
   "id": "a7fe81ec",
   "metadata": {},
   "outputs": [],
   "source": [
    "X_train"
   ]
  },
  {
   "cell_type": "code",
   "execution_count": null,
   "id": "39ffb79e",
   "metadata": {},
   "outputs": [],
   "source": [
    "X_train"
   ]
  },
  {
   "cell_type": "markdown",
   "id": "2c9b6ec6",
   "metadata": {},
   "source": [
    "### ☑️ Test your code"
   ]
  },
  {
   "cell_type": "code",
   "execution_count": null,
   "id": "30e75806",
   "metadata": {},
   "outputs": [],
   "source": [
    "from nbresult import ChallengeResult\n",
    "\n",
    "result = ChallengeResult('missing_values',\n",
    "                         dataset = X_train)\n",
    "result.write()\n",
    "print(result.check())"
   ]
  },
  {
   "cell_type": "markdown",
   "id": "c3027ceb",
   "metadata": {},
   "source": [
    "### Testing your scaling\n",
    "Test your code below for scaling before proceeding to ensure all worked well."
   ]
  },
  {
   "cell_type": "markdown",
   "id": "aec9c1dd",
   "metadata": {},
   "source": [
    "### ☑️ Test your code"
   ]
  },
  {
   "cell_type": "code",
   "execution_count": null,
   "id": "4c4dba53",
   "metadata": {},
   "outputs": [],
   "source": [
    "from nbresult import ChallengeResult\n",
    "\n",
    "result = ChallengeResult('scaling',\n",
    "                         dataset = X_train,\n",
    "                         features = numerical_columns\n",
    ")\n",
    "\n",
    "result.write()\n",
    "print(result.check())"
   ]
  },
  {
   "cell_type": "markdown",
   "id": "1ba7a26d",
   "metadata": {},
   "source": [
    "# Part III: Encoding and Modelling\n",
    "\n",
    "All that is left to do now is deal with categorical data, and then use this to build a simple model.\n",
    "\n",
    "# Encoding"
   ]
  },
  {
   "cell_type": "markdown",
   "id": "eff6c7ce",
   "metadata": {},
   "source": [
    "👇 Investigate the non-numerical features that require encoding, and apply 'One hot encoding'. To ensure that we do not end up with an explosion of feature, we will retain only categorical features with <15 unique values for encoding. \n",
    "\n",
    "So your task is the following:\n",
    "\n",
    "1. Identify programmatically all of the categorical features that have <15 unique categories and require 'One Hot encoding'\n",
    "2. In the dataframe, replace the original features by their encoded version(s). Make sure to drop the original features, as well as the features with >15 unique categories from `X_train`"
   ]
  },
  {
   "cell_type": "code",
   "execution_count": null,
   "id": "968f123c",
   "metadata": {},
   "outputs": [],
   "source": [
    "# First, let's obtain the ohe_features of dtype 'object'\n",
    "ohe_features = X_train.dtypes[X_train.dtypes==object].index.values"
   ]
  },
  {
   "cell_type": "code",
   "execution_count": null,
   "id": "c68f5937",
   "metadata": {},
   "outputs": [],
   "source": [
    "ohe_features"
   ]
  },
  {
   "cell_type": "code",
   "execution_count": null,
   "id": "f73859fe",
   "metadata": {},
   "outputs": [],
   "source": [
    "# Now we can loop through each feature to ensure their nunique\n",
    "small_ohe = []\n",
    "\n",
    "for feature in ohe_features:\n",
    "    if (X_train[feature].nunique()<15):\n",
    "        small_ohe.append(feature)\n",
    "small_ohe"
   ]
  },
  {
   "cell_type": "code",
   "execution_count": null,
   "id": "08199af0",
   "metadata": {},
   "outputs": [],
   "source": [
    "# Now that we have the small_ohe columns (only 2) we can encode them:\n",
    "\n",
    "from sklearn.preprocessing import OneHotEncoder\n",
    "\n",
    "ohe = OneHotEncoder().fit(X_train[small_ohe])\n",
    "\n",
    "# horizontal stack of the two arrays\n",
    "columns = np.hstack(ohe.categories_)\n",
    "\n",
    "# Create an array of one hot encoded values\n",
    "ohe_df = pd.DataFrame(ohe.transform(X_train[small_ohe]).toarray(), columns=columns)\n",
    "\n",
    "# Reset indexes so both dfs have the same (important: drop=True to avoid keeping index as a column)\n",
    "X_train.reset_index(inplace=True, drop=True)\n",
    "ohe_df.reset_index(inplace=True, drop=True)\n",
    "\n",
    "# Join the one hot encoded values to the original dataframe\n",
    "X_train = X_train.join(ohe_df)\n",
    "\n",
    "# Drop ALL original categorical variables from the dataframe and check it visually\n",
    "X_train.drop(ohe_features, axis=1, inplace=True)\n",
    "X_train\n"
   ]
  },
  {
   "cell_type": "code",
   "execution_count": null,
   "id": "faf78b21",
   "metadata": {},
   "outputs": [],
   "source": [
    "# Make sure we have the new category in the columns\n",
    "X_train.columns.values"
   ]
  },
  {
   "cell_type": "code",
   "execution_count": null,
   "id": "05363705",
   "metadata": {},
   "outputs": [],
   "source": [
    "X_train.shape"
   ]
  },
  {
   "cell_type": "markdown",
   "id": "550ce75d",
   "metadata": {},
   "source": [
    "### ☑️ Test your code"
   ]
  },
  {
   "cell_type": "code",
   "execution_count": null,
   "id": "b47a85bc",
   "metadata": {},
   "outputs": [],
   "source": [
    "from nbresult import ChallengeResult\n",
    "\n",
    "result = ChallengeResult('encoding',\n",
    "                         dataset = X_train)\n",
    "result.write()\n",
    "print(result.check())"
   ]
  },
  {
   "cell_type": "markdown",
   "id": "a2c94e65",
   "metadata": {},
   "source": [
    "# Base Modelling"
   ]
  },
  {
   "cell_type": "markdown",
   "id": "a155b36f",
   "metadata": {},
   "source": [
    "All we need now is to cross validate  a Linear regression model with our `X_train` and `y_train` using `cv=5`. Save its score under variable name `base_model_score`. However, if you do this you will see that we obtain a very low `r2`. This is because not all of the features we have selected are useful - we will talk more about this in a couple of days. So instead, train your model using only the top features that have a correlation with your `y_train` > 0.05.  <details><summary>💡 Hint </summary>\n",
    "    <br>\n",
    "    ℹ️ If you are unsure how to do this, check the documentation for the `corr()` function in pandas. Also, you will need to add group the `y_train` and the `X_train` in the same pandas object to do that.\n",
    "</details>"
   ]
  },
  {
   "cell_type": "code",
   "execution_count": null,
   "id": "ca28c209",
   "metadata": {},
   "outputs": [],
   "source": [
    "corr = X_train.copy()\n",
    "corr['target']=y_train.copy()\n",
    "\n",
    "corr = corr.corr().abs().target.sort_values(ascending=False)\n",
    "\n",
    "corr"
   ]
  },
  {
   "cell_type": "code",
   "execution_count": null,
   "id": "13a07416",
   "metadata": {},
   "outputs": [],
   "source": [
    "features = corr[corr>.05][1:].index.values\n",
    "features"
   ]
  },
  {
   "cell_type": "code",
   "execution_count": null,
   "id": "108eca3a",
   "metadata": {},
   "outputs": [],
   "source": [
    "from sklearn.linear_model import LinearRegression\n",
    "from sklearn.model_selection import cross_validate\n",
    "\n",
    "cross_val = cross_validate(estimator=LinearRegression(),X=X_train[features], y=y_train, cv=5, scoring='r2',)\n",
    "\n",
    "base_model_score = cross_val['test_score'].mean()\n",
    "base_model_score"
   ]
  },
  {
   "cell_type": "markdown",
   "id": "174131ee",
   "metadata": {},
   "source": [
    "### ☑️ Test your code"
   ]
  },
  {
   "cell_type": "code",
   "execution_count": null,
   "id": "1e523106",
   "metadata": {},
   "outputs": [],
   "source": [
    "from nbresult import ChallengeResult\n",
    "\n",
    "result = ChallengeResult('base_model',\n",
    "                         score = base_model_score\n",
    ")\n",
    "\n",
    "result.write()\n",
    "print(result.check())"
   ]
  },
  {
   "cell_type": "markdown",
   "id": "e05d7e1d",
   "metadata": {},
   "source": [
    "# 🏁"
   ]
  }
 ],
 "metadata": {
  "kernelspec": {
   "display_name": "Python 3 (ipykernel)",
   "language": "python",
   "name": "python3"
  },
  "language_info": {
   "codemirror_mode": {
    "name": "ipython",
    "version": 3
   },
   "file_extension": ".py",
   "mimetype": "text/x-python",
   "name": "python",
   "nbconvert_exporter": "python",
   "pygments_lexer": "ipython3",
   "version": "3.11.5"
  }
 },
 "nbformat": 4,
 "nbformat_minor": 5
}
