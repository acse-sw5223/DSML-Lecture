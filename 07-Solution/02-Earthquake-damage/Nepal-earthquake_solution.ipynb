{
 "cells": [
  {
   "cell_type": "markdown",
   "id": "7df5e5b6",
   "metadata": {},
   "source": [
    "<img src=\"https://drive.google.com/uc?id=1-cL5eOpEsbuIEkvwW2KnpXC12-PAbamr\" style=\"Width:1000px\">"
   ]
  },
  {
   "cell_type": "markdown",
   "id": "75043478",
   "metadata": {},
   "source": [
    "# Predicting Nepal earthquake damage on buildings using Ensemble methods\n",
    "\n",
    "In this exercise, you will use `Ensemble` learning to work on earthquakes again. However, this time you will use a different dataset and predict the damage inflicted on buildings in case of a major Earthquakes in Nepal. \n",
    "\n",
    "## Scientific Background\n",
    "Every year The National Earthquake Information Center (NEIC) records an average of 20,000 earthquakes all around to world. This number is fairly large, and implies an average of 50 earthquake occured  each day$^{[1]}$. Of course, the magnitude of most of these Earthquakes is fairly low.\n",
    "\n",
    "## Data\n",
    "In 2015 April 25, an intense earthquake occured in Central Nepal at local time of 11:56 a.m. The data used here was collected through surveys by [Kathmandu Living Labs](http://www.kathmandulivinglabs.org/) and the [Central Bureau of Statistics](https://cbs.gov.np/). This data is one of the largest post-disaster dataset ever collected, and it includes a wide range of information.\n",
    "\n",
    "## Objective\n",
    "Your goal is to predict the level of damage sustained by different buildings during the 2015 ***Gorkha earthquake*** in Nepal. Your goal, by the end of this notebook, is to obtain **>70% accuracy in your prediction**. \n",
    "\n",
    "***<span style=\"color:teal\"> Acknowledgement</span>***:Thanks to Parastoo Salah for assembling an initial version of the dataset used in this notebook!\n",
    "\n",
    "\n",
    "# Opening the data\n",
    "\n",
    "Open the data in `earthquake_nepal.csv`,  separate the target (`damage_grade`) and the features, and do a train_test_split with 80% in the `train_set` . <br>\n",
    "Convert your `y_train` and `y_test` to categorical data using a `label_encoder`.\n"
   ]
  },
  {
   "cell_type": "code",
   "execution_count": null,
   "id": "96ac4fb7",
   "metadata": {},
   "outputs": [],
   "source": [
    "from nbta.utils import download_data\n",
    "download_data(id='1a4du6aGHJI2bM6UetT9N2Snqe1d3oEbR')"
   ]
  },
  {
   "cell_type": "code",
   "execution_count": 3,
   "id": "6fb553b5",
   "metadata": {},
   "outputs": [],
   "source": [
    "import numpy as np\n",
    "import pandas as pd\n",
    "from sklearn.model_selection import train_test_split\n",
    "\n",
    "# Importing the dataset\n",
    "data = pd.read_csv('../../07-Ensemble-Methods/02-Earthquake-damage/raw_data/earthquake_nepal.csv')"
   ]
  },
  {
   "cell_type": "code",
   "execution_count": 4,
   "id": "818c11ac",
   "metadata": {},
   "outputs": [],
   "source": [
    "from sklearn.preprocessing import LabelEncoder\n",
    "\n",
    "X = data.drop(columns='damage_grade')\n",
    "y = data.damage_grade\n",
    "\n",
    "l_enc = LabelEncoder()\n",
    "\n",
    "y = l_enc.fit_transform(y)\n",
    "\n",
    "X_train, X_test, y_train, y_test = train_test_split(X, y, train_size=0.8, random_state=42)"
   ]
  },
  {
   "cell_type": "code",
   "execution_count": 5,
   "id": "f9e969bf",
   "metadata": {},
   "outputs": [
    {
     "data": {
      "text/html": [
       "<div>\n",
       "<style scoped>\n",
       "    .dataframe tbody tr th:only-of-type {\n",
       "        vertical-align: middle;\n",
       "    }\n",
       "\n",
       "    .dataframe tbody tr th {\n",
       "        vertical-align: top;\n",
       "    }\n",
       "\n",
       "    .dataframe thead th {\n",
       "        text-align: right;\n",
       "    }\n",
       "</style>\n",
       "<table border=\"1\" class=\"dataframe\">\n",
       "  <thead>\n",
       "    <tr style=\"text-align: right;\">\n",
       "      <th></th>\n",
       "      <th>building_id</th>\n",
       "      <th>geo_level_1_id</th>\n",
       "      <th>geo_level_2_id</th>\n",
       "      <th>geo_level_3_id</th>\n",
       "      <th>count_floors_pre_eq</th>\n",
       "      <th>age</th>\n",
       "      <th>area_percentage</th>\n",
       "      <th>height_percentage</th>\n",
       "      <th>land_surface_condition</th>\n",
       "      <th>foundation_type</th>\n",
       "      <th>...</th>\n",
       "      <th>has_secondary_use_agriculture</th>\n",
       "      <th>has_secondary_use_hotel</th>\n",
       "      <th>has_secondary_use_rental</th>\n",
       "      <th>has_secondary_use_institution</th>\n",
       "      <th>has_secondary_use_school</th>\n",
       "      <th>has_secondary_use_industry</th>\n",
       "      <th>has_secondary_use_health_post</th>\n",
       "      <th>has_secondary_use_gov_office</th>\n",
       "      <th>has_secondary_use_use_police</th>\n",
       "      <th>has_secondary_use_other</th>\n",
       "    </tr>\n",
       "  </thead>\n",
       "  <tbody>\n",
       "    <tr>\n",
       "      <th>20082</th>\n",
       "      <td>748399</td>\n",
       "      <td>20</td>\n",
       "      <td>508</td>\n",
       "      <td>10459</td>\n",
       "      <td>2</td>\n",
       "      <td>5</td>\n",
       "      <td>8</td>\n",
       "      <td>6</td>\n",
       "      <td>t</td>\n",
       "      <td>w</td>\n",
       "      <td>...</td>\n",
       "      <td>0</td>\n",
       "      <td>0</td>\n",
       "      <td>0</td>\n",
       "      <td>0</td>\n",
       "      <td>0</td>\n",
       "      <td>0</td>\n",
       "      <td>0</td>\n",
       "      <td>0</td>\n",
       "      <td>0</td>\n",
       "      <td>0</td>\n",
       "    </tr>\n",
       "    <tr>\n",
       "      <th>11285</th>\n",
       "      <td>790106</td>\n",
       "      <td>26</td>\n",
       "      <td>1216</td>\n",
       "      <td>298</td>\n",
       "      <td>2</td>\n",
       "      <td>5</td>\n",
       "      <td>4</td>\n",
       "      <td>4</td>\n",
       "      <td>t</td>\n",
       "      <td>r</td>\n",
       "      <td>...</td>\n",
       "      <td>0</td>\n",
       "      <td>0</td>\n",
       "      <td>0</td>\n",
       "      <td>0</td>\n",
       "      <td>0</td>\n",
       "      <td>0</td>\n",
       "      <td>0</td>\n",
       "      <td>0</td>\n",
       "      <td>0</td>\n",
       "      <td>0</td>\n",
       "    </tr>\n",
       "    <tr>\n",
       "      <th>18448</th>\n",
       "      <td>533012</td>\n",
       "      <td>27</td>\n",
       "      <td>533</td>\n",
       "      <td>6299</td>\n",
       "      <td>3</td>\n",
       "      <td>10</td>\n",
       "      <td>7</td>\n",
       "      <td>7</td>\n",
       "      <td>t</td>\n",
       "      <td>r</td>\n",
       "      <td>...</td>\n",
       "      <td>0</td>\n",
       "      <td>0</td>\n",
       "      <td>0</td>\n",
       "      <td>0</td>\n",
       "      <td>0</td>\n",
       "      <td>0</td>\n",
       "      <td>0</td>\n",
       "      <td>0</td>\n",
       "      <td>0</td>\n",
       "      <td>0</td>\n",
       "    </tr>\n",
       "    <tr>\n",
       "      <th>18531</th>\n",
       "      <td>667111</td>\n",
       "      <td>11</td>\n",
       "      <td>938</td>\n",
       "      <td>10992</td>\n",
       "      <td>3</td>\n",
       "      <td>45</td>\n",
       "      <td>8</td>\n",
       "      <td>10</td>\n",
       "      <td>n</td>\n",
       "      <td>r</td>\n",
       "      <td>...</td>\n",
       "      <td>0</td>\n",
       "      <td>0</td>\n",
       "      <td>0</td>\n",
       "      <td>0</td>\n",
       "      <td>0</td>\n",
       "      <td>0</td>\n",
       "      <td>0</td>\n",
       "      <td>0</td>\n",
       "      <td>0</td>\n",
       "      <td>0</td>\n",
       "    </tr>\n",
       "    <tr>\n",
       "      <th>7908</th>\n",
       "      <td>561440</td>\n",
       "      <td>17</td>\n",
       "      <td>680</td>\n",
       "      <td>3222</td>\n",
       "      <td>3</td>\n",
       "      <td>10</td>\n",
       "      <td>7</td>\n",
       "      <td>7</td>\n",
       "      <td>t</td>\n",
       "      <td>r</td>\n",
       "      <td>...</td>\n",
       "      <td>0</td>\n",
       "      <td>0</td>\n",
       "      <td>0</td>\n",
       "      <td>0</td>\n",
       "      <td>0</td>\n",
       "      <td>0</td>\n",
       "      <td>0</td>\n",
       "      <td>0</td>\n",
       "      <td>0</td>\n",
       "      <td>0</td>\n",
       "    </tr>\n",
       "    <tr>\n",
       "      <th>...</th>\n",
       "      <td>...</td>\n",
       "      <td>...</td>\n",
       "      <td>...</td>\n",
       "      <td>...</td>\n",
       "      <td>...</td>\n",
       "      <td>...</td>\n",
       "      <td>...</td>\n",
       "      <td>...</td>\n",
       "      <td>...</td>\n",
       "      <td>...</td>\n",
       "      <td>...</td>\n",
       "      <td>...</td>\n",
       "      <td>...</td>\n",
       "      <td>...</td>\n",
       "      <td>...</td>\n",
       "      <td>...</td>\n",
       "      <td>...</td>\n",
       "      <td>...</td>\n",
       "      <td>...</td>\n",
       "      <td>...</td>\n",
       "      <td>...</td>\n",
       "    </tr>\n",
       "    <tr>\n",
       "      <th>21575</th>\n",
       "      <td>786989</td>\n",
       "      <td>4</td>\n",
       "      <td>891</td>\n",
       "      <td>5319</td>\n",
       "      <td>3</td>\n",
       "      <td>995</td>\n",
       "      <td>8</td>\n",
       "      <td>7</td>\n",
       "      <td>t</td>\n",
       "      <td>r</td>\n",
       "      <td>...</td>\n",
       "      <td>0</td>\n",
       "      <td>0</td>\n",
       "      <td>0</td>\n",
       "      <td>0</td>\n",
       "      <td>0</td>\n",
       "      <td>0</td>\n",
       "      <td>0</td>\n",
       "      <td>0</td>\n",
       "      <td>0</td>\n",
       "      <td>0</td>\n",
       "    </tr>\n",
       "    <tr>\n",
       "      <th>5390</th>\n",
       "      <td>757825</td>\n",
       "      <td>8</td>\n",
       "      <td>600</td>\n",
       "      <td>4356</td>\n",
       "      <td>3</td>\n",
       "      <td>5</td>\n",
       "      <td>12</td>\n",
       "      <td>7</td>\n",
       "      <td>t</td>\n",
       "      <td>r</td>\n",
       "      <td>...</td>\n",
       "      <td>0</td>\n",
       "      <td>0</td>\n",
       "      <td>0</td>\n",
       "      <td>0</td>\n",
       "      <td>0</td>\n",
       "      <td>0</td>\n",
       "      <td>0</td>\n",
       "      <td>0</td>\n",
       "      <td>0</td>\n",
       "      <td>0</td>\n",
       "    </tr>\n",
       "    <tr>\n",
       "      <th>860</th>\n",
       "      <td>1023622</td>\n",
       "      <td>17</td>\n",
       "      <td>582</td>\n",
       "      <td>4226</td>\n",
       "      <td>3</td>\n",
       "      <td>30</td>\n",
       "      <td>7</td>\n",
       "      <td>6</td>\n",
       "      <td>n</td>\n",
       "      <td>r</td>\n",
       "      <td>...</td>\n",
       "      <td>0</td>\n",
       "      <td>0</td>\n",
       "      <td>0</td>\n",
       "      <td>0</td>\n",
       "      <td>0</td>\n",
       "      <td>0</td>\n",
       "      <td>0</td>\n",
       "      <td>0</td>\n",
       "      <td>0</td>\n",
       "      <td>0</td>\n",
       "    </tr>\n",
       "    <tr>\n",
       "      <th>15795</th>\n",
       "      <td>402501</td>\n",
       "      <td>16</td>\n",
       "      <td>479</td>\n",
       "      <td>11951</td>\n",
       "      <td>2</td>\n",
       "      <td>30</td>\n",
       "      <td>6</td>\n",
       "      <td>4</td>\n",
       "      <td>t</td>\n",
       "      <td>r</td>\n",
       "      <td>...</td>\n",
       "      <td>0</td>\n",
       "      <td>0</td>\n",
       "      <td>0</td>\n",
       "      <td>0</td>\n",
       "      <td>0</td>\n",
       "      <td>0</td>\n",
       "      <td>0</td>\n",
       "      <td>0</td>\n",
       "      <td>0</td>\n",
       "      <td>0</td>\n",
       "    </tr>\n",
       "    <tr>\n",
       "      <th>23654</th>\n",
       "      <td>495115</td>\n",
       "      <td>4</td>\n",
       "      <td>747</td>\n",
       "      <td>11430</td>\n",
       "      <td>2</td>\n",
       "      <td>5</td>\n",
       "      <td>6</td>\n",
       "      <td>5</td>\n",
       "      <td>t</td>\n",
       "      <td>r</td>\n",
       "      <td>...</td>\n",
       "      <td>0</td>\n",
       "      <td>0</td>\n",
       "      <td>0</td>\n",
       "      <td>0</td>\n",
       "      <td>0</td>\n",
       "      <td>0</td>\n",
       "      <td>0</td>\n",
       "      <td>0</td>\n",
       "      <td>0</td>\n",
       "      <td>0</td>\n",
       "    </tr>\n",
       "  </tbody>\n",
       "</table>\n",
       "<p>20848 rows × 39 columns</p>\n",
       "</div>"
      ],
      "text/plain": [
       "       building_id  geo_level_1_id  geo_level_2_id  geo_level_3_id  \\\n",
       "20082       748399              20             508           10459   \n",
       "11285       790106              26            1216             298   \n",
       "18448       533012              27             533            6299   \n",
       "18531       667111              11             938           10992   \n",
       "7908        561440              17             680            3222   \n",
       "...            ...             ...             ...             ...   \n",
       "21575       786989               4             891            5319   \n",
       "5390        757825               8             600            4356   \n",
       "860        1023622              17             582            4226   \n",
       "15795       402501              16             479           11951   \n",
       "23654       495115               4             747           11430   \n",
       "\n",
       "       count_floors_pre_eq  age  area_percentage  height_percentage  \\\n",
       "20082                    2    5                8                  6   \n",
       "11285                    2    5                4                  4   \n",
       "18448                    3   10                7                  7   \n",
       "18531                    3   45                8                 10   \n",
       "7908                     3   10                7                  7   \n",
       "...                    ...  ...              ...                ...   \n",
       "21575                    3  995                8                  7   \n",
       "5390                     3    5               12                  7   \n",
       "860                      3   30                7                  6   \n",
       "15795                    2   30                6                  4   \n",
       "23654                    2    5                6                  5   \n",
       "\n",
       "      land_surface_condition foundation_type  ...  \\\n",
       "20082                      t               w  ...   \n",
       "11285                      t               r  ...   \n",
       "18448                      t               r  ...   \n",
       "18531                      n               r  ...   \n",
       "7908                       t               r  ...   \n",
       "...                      ...             ...  ...   \n",
       "21575                      t               r  ...   \n",
       "5390                       t               r  ...   \n",
       "860                        n               r  ...   \n",
       "15795                      t               r  ...   \n",
       "23654                      t               r  ...   \n",
       "\n",
       "      has_secondary_use_agriculture has_secondary_use_hotel  \\\n",
       "20082                             0                       0   \n",
       "11285                             0                       0   \n",
       "18448                             0                       0   \n",
       "18531                             0                       0   \n",
       "7908                              0                       0   \n",
       "...                             ...                     ...   \n",
       "21575                             0                       0   \n",
       "5390                              0                       0   \n",
       "860                               0                       0   \n",
       "15795                             0                       0   \n",
       "23654                             0                       0   \n",
       "\n",
       "      has_secondary_use_rental has_secondary_use_institution  \\\n",
       "20082                        0                             0   \n",
       "11285                        0                             0   \n",
       "18448                        0                             0   \n",
       "18531                        0                             0   \n",
       "7908                         0                             0   \n",
       "...                        ...                           ...   \n",
       "21575                        0                             0   \n",
       "5390                         0                             0   \n",
       "860                          0                             0   \n",
       "15795                        0                             0   \n",
       "23654                        0                             0   \n",
       "\n",
       "      has_secondary_use_school  has_secondary_use_industry  \\\n",
       "20082                        0                           0   \n",
       "11285                        0                           0   \n",
       "18448                        0                           0   \n",
       "18531                        0                           0   \n",
       "7908                         0                           0   \n",
       "...                        ...                         ...   \n",
       "21575                        0                           0   \n",
       "5390                         0                           0   \n",
       "860                          0                           0   \n",
       "15795                        0                           0   \n",
       "23654                        0                           0   \n",
       "\n",
       "       has_secondary_use_health_post  has_secondary_use_gov_office  \\\n",
       "20082                              0                             0   \n",
       "11285                              0                             0   \n",
       "18448                              0                             0   \n",
       "18531                              0                             0   \n",
       "7908                               0                             0   \n",
       "...                              ...                           ...   \n",
       "21575                              0                             0   \n",
       "5390                               0                             0   \n",
       "860                                0                             0   \n",
       "15795                              0                             0   \n",
       "23654                              0                             0   \n",
       "\n",
       "       has_secondary_use_use_police  has_secondary_use_other  \n",
       "20082                             0                        0  \n",
       "11285                             0                        0  \n",
       "18448                             0                        0  \n",
       "18531                             0                        0  \n",
       "7908                              0                        0  \n",
       "...                             ...                      ...  \n",
       "21575                             0                        0  \n",
       "5390                              0                        0  \n",
       "860                               0                        0  \n",
       "15795                             0                        0  \n",
       "23654                             0                        0  \n",
       "\n",
       "[20848 rows x 39 columns]"
      ]
     },
     "execution_count": 5,
     "metadata": {},
     "output_type": "execute_result"
    }
   ],
   "source": [
    "X_train"
   ]
  },
  {
   "cell_type": "markdown",
   "id": "92057dc2",
   "metadata": {},
   "source": [
    "# Ensuring Data Quality\n",
    "* Check for missing data\n",
    "* Check what data types are present in your dataset: is it all `numerical`, or do you have `categorical` data?\n",
    "* Plot a `heatmap` to check for strong co-linearitu\n"
   ]
  },
  {
   "cell_type": "code",
   "execution_count": 6,
   "id": "1caf53df",
   "metadata": {},
   "outputs": [
    {
     "data": {
      "text/plain": [
       "building_id                               0\n",
       "geo_level_1_id                            0\n",
       "geo_level_2_id                            0\n",
       "geo_level_3_id                            0\n",
       "count_floors_pre_eq                       0\n",
       "age                                       0\n",
       "area_percentage                           0\n",
       "height_percentage                         0\n",
       "land_surface_condition                    0\n",
       "foundation_type                           0\n",
       "roof_type                                 0\n",
       "ground_floor_type                         0\n",
       "other_floor_type                          0\n",
       "position                                  0\n",
       "plan_configuration                        0\n",
       "has_superstructure_adobe_mud              0\n",
       "has_superstructure_mud_mortar_stone       0\n",
       "has_superstructure_stone_flag             0\n",
       "has_superstructure_cement_mortar_stone    0\n",
       "has_superstructure_mud_mortar_brick       0\n",
       "has_superstructure_cement_mortar_brick    0\n",
       "has_superstructure_timber                 0\n",
       "has_superstructure_bamboo                 0\n",
       "has_superstructure_rc_non_engineered      0\n",
       "has_superstructure_rc_engineered          0\n",
       "has_superstructure_other                  0\n",
       "legal_ownership_status                    0\n",
       "count_families                            0\n",
       "has_secondary_use                         0\n",
       "has_secondary_use_agriculture             0\n",
       "has_secondary_use_hotel                   0\n",
       "has_secondary_use_rental                  0\n",
       "has_secondary_use_institution             0\n",
       "has_secondary_use_school                  0\n",
       "has_secondary_use_industry                0\n",
       "has_secondary_use_health_post             0\n",
       "has_secondary_use_gov_office              0\n",
       "has_secondary_use_use_police              0\n",
       "has_secondary_use_other                   0\n",
       "dtype: int64"
      ]
     },
     "execution_count": 6,
     "metadata": {},
     "output_type": "execute_result"
    }
   ],
   "source": [
    "X_train.isnull().sum()"
   ]
  },
  {
   "cell_type": "code",
   "execution_count": 7,
   "id": "79fbbfae",
   "metadata": {},
   "outputs": [
    {
     "data": {
      "text/html": [
       "<div>\n",
       "<style scoped>\n",
       "    .dataframe tbody tr th:only-of-type {\n",
       "        vertical-align: middle;\n",
       "    }\n",
       "\n",
       "    .dataframe tbody tr th {\n",
       "        vertical-align: top;\n",
       "    }\n",
       "\n",
       "    .dataframe thead th {\n",
       "        text-align: right;\n",
       "    }\n",
       "</style>\n",
       "<table border=\"1\" class=\"dataframe\">\n",
       "  <thead>\n",
       "    <tr style=\"text-align: right;\">\n",
       "      <th></th>\n",
       "      <th>Data Type</th>\n",
       "    </tr>\n",
       "  </thead>\n",
       "  <tbody>\n",
       "    <tr>\n",
       "      <th>building_id</th>\n",
       "      <td>int64</td>\n",
       "    </tr>\n",
       "    <tr>\n",
       "      <th>geo_level_1_id</th>\n",
       "      <td>int64</td>\n",
       "    </tr>\n",
       "    <tr>\n",
       "      <th>geo_level_2_id</th>\n",
       "      <td>int64</td>\n",
       "    </tr>\n",
       "    <tr>\n",
       "      <th>geo_level_3_id</th>\n",
       "      <td>int64</td>\n",
       "    </tr>\n",
       "    <tr>\n",
       "      <th>count_floors_pre_eq</th>\n",
       "      <td>int64</td>\n",
       "    </tr>\n",
       "    <tr>\n",
       "      <th>age</th>\n",
       "      <td>int64</td>\n",
       "    </tr>\n",
       "    <tr>\n",
       "      <th>area_percentage</th>\n",
       "      <td>int64</td>\n",
       "    </tr>\n",
       "    <tr>\n",
       "      <th>height_percentage</th>\n",
       "      <td>int64</td>\n",
       "    </tr>\n",
       "    <tr>\n",
       "      <th>land_surface_condition</th>\n",
       "      <td>object</td>\n",
       "    </tr>\n",
       "    <tr>\n",
       "      <th>foundation_type</th>\n",
       "      <td>object</td>\n",
       "    </tr>\n",
       "    <tr>\n",
       "      <th>roof_type</th>\n",
       "      <td>object</td>\n",
       "    </tr>\n",
       "    <tr>\n",
       "      <th>ground_floor_type</th>\n",
       "      <td>object</td>\n",
       "    </tr>\n",
       "    <tr>\n",
       "      <th>other_floor_type</th>\n",
       "      <td>object</td>\n",
       "    </tr>\n",
       "    <tr>\n",
       "      <th>position</th>\n",
       "      <td>object</td>\n",
       "    </tr>\n",
       "    <tr>\n",
       "      <th>plan_configuration</th>\n",
       "      <td>object</td>\n",
       "    </tr>\n",
       "    <tr>\n",
       "      <th>has_superstructure_adobe_mud</th>\n",
       "      <td>int64</td>\n",
       "    </tr>\n",
       "    <tr>\n",
       "      <th>has_superstructure_mud_mortar_stone</th>\n",
       "      <td>int64</td>\n",
       "    </tr>\n",
       "    <tr>\n",
       "      <th>has_superstructure_stone_flag</th>\n",
       "      <td>int64</td>\n",
       "    </tr>\n",
       "    <tr>\n",
       "      <th>has_superstructure_cement_mortar_stone</th>\n",
       "      <td>int64</td>\n",
       "    </tr>\n",
       "    <tr>\n",
       "      <th>has_superstructure_mud_mortar_brick</th>\n",
       "      <td>int64</td>\n",
       "    </tr>\n",
       "    <tr>\n",
       "      <th>has_superstructure_cement_mortar_brick</th>\n",
       "      <td>int64</td>\n",
       "    </tr>\n",
       "    <tr>\n",
       "      <th>has_superstructure_timber</th>\n",
       "      <td>int64</td>\n",
       "    </tr>\n",
       "    <tr>\n",
       "      <th>has_superstructure_bamboo</th>\n",
       "      <td>int64</td>\n",
       "    </tr>\n",
       "    <tr>\n",
       "      <th>has_superstructure_rc_non_engineered</th>\n",
       "      <td>int64</td>\n",
       "    </tr>\n",
       "    <tr>\n",
       "      <th>has_superstructure_rc_engineered</th>\n",
       "      <td>int64</td>\n",
       "    </tr>\n",
       "    <tr>\n",
       "      <th>has_superstructure_other</th>\n",
       "      <td>int64</td>\n",
       "    </tr>\n",
       "    <tr>\n",
       "      <th>legal_ownership_status</th>\n",
       "      <td>object</td>\n",
       "    </tr>\n",
       "    <tr>\n",
       "      <th>count_families</th>\n",
       "      <td>int64</td>\n",
       "    </tr>\n",
       "    <tr>\n",
       "      <th>has_secondary_use</th>\n",
       "      <td>int64</td>\n",
       "    </tr>\n",
       "    <tr>\n",
       "      <th>has_secondary_use_agriculture</th>\n",
       "      <td>int64</td>\n",
       "    </tr>\n",
       "    <tr>\n",
       "      <th>has_secondary_use_hotel</th>\n",
       "      <td>int64</td>\n",
       "    </tr>\n",
       "    <tr>\n",
       "      <th>has_secondary_use_rental</th>\n",
       "      <td>int64</td>\n",
       "    </tr>\n",
       "    <tr>\n",
       "      <th>has_secondary_use_institution</th>\n",
       "      <td>int64</td>\n",
       "    </tr>\n",
       "    <tr>\n",
       "      <th>has_secondary_use_school</th>\n",
       "      <td>int64</td>\n",
       "    </tr>\n",
       "    <tr>\n",
       "      <th>has_secondary_use_industry</th>\n",
       "      <td>int64</td>\n",
       "    </tr>\n",
       "    <tr>\n",
       "      <th>has_secondary_use_health_post</th>\n",
       "      <td>int64</td>\n",
       "    </tr>\n",
       "    <tr>\n",
       "      <th>has_secondary_use_gov_office</th>\n",
       "      <td>int64</td>\n",
       "    </tr>\n",
       "    <tr>\n",
       "      <th>has_secondary_use_use_police</th>\n",
       "      <td>int64</td>\n",
       "    </tr>\n",
       "    <tr>\n",
       "      <th>has_secondary_use_other</th>\n",
       "      <td>int64</td>\n",
       "    </tr>\n",
       "  </tbody>\n",
       "</table>\n",
       "</div>"
      ],
      "text/plain": [
       "                                       Data Type\n",
       "building_id                                int64\n",
       "geo_level_1_id                             int64\n",
       "geo_level_2_id                             int64\n",
       "geo_level_3_id                             int64\n",
       "count_floors_pre_eq                        int64\n",
       "age                                        int64\n",
       "area_percentage                            int64\n",
       "height_percentage                          int64\n",
       "land_surface_condition                    object\n",
       "foundation_type                           object\n",
       "roof_type                                 object\n",
       "ground_floor_type                         object\n",
       "other_floor_type                          object\n",
       "position                                  object\n",
       "plan_configuration                        object\n",
       "has_superstructure_adobe_mud               int64\n",
       "has_superstructure_mud_mortar_stone        int64\n",
       "has_superstructure_stone_flag              int64\n",
       "has_superstructure_cement_mortar_stone     int64\n",
       "has_superstructure_mud_mortar_brick        int64\n",
       "has_superstructure_cement_mortar_brick     int64\n",
       "has_superstructure_timber                  int64\n",
       "has_superstructure_bamboo                  int64\n",
       "has_superstructure_rc_non_engineered       int64\n",
       "has_superstructure_rc_engineered           int64\n",
       "has_superstructure_other                   int64\n",
       "legal_ownership_status                    object\n",
       "count_families                             int64\n",
       "has_secondary_use                          int64\n",
       "has_secondary_use_agriculture              int64\n",
       "has_secondary_use_hotel                    int64\n",
       "has_secondary_use_rental                   int64\n",
       "has_secondary_use_institution              int64\n",
       "has_secondary_use_school                   int64\n",
       "has_secondary_use_industry                 int64\n",
       "has_secondary_use_health_post              int64\n",
       "has_secondary_use_gov_office               int64\n",
       "has_secondary_use_use_police               int64\n",
       "has_secondary_use_other                    int64"
      ]
     },
     "execution_count": 7,
     "metadata": {},
     "output_type": "execute_result"
    }
   ],
   "source": [
    "# checking the types of varibles in the dataset(int,float,object)\n",
    "pd.DataFrame(X_train.dtypes, columns=[\"Data Type\"])"
   ]
  },
  {
   "cell_type": "code",
   "execution_count": 8,
   "id": "470a6782",
   "metadata": {},
   "outputs": [
    {
     "data": {
      "image/png": "[encoded data removed]",
      "text/plain": [
       "<Figure size 1500x1200 with 2 Axes>"
      ]
     },
     "metadata": {},
     "output_type": "display_data"
    }
   ],
   "source": [
    "import matplotlib.pyplot as plt\n",
    "import seaborn as sns\n",
    "\n",
    "fig,ax = plt.subplots(figsize=(15, 12))\n",
    "data = X_train.select_dtypes(exclude='object').corr()\n",
    "\n",
    "sns.heatmap(data, annot=None, linewidths=.5, fmt= 'f',cmap='coolwarm',ax=ax, vmin=0.1, vmax=1);"
   ]
  },
  {
   "cell_type": "markdown",
   "id": "cb03b1ca",
   "metadata": {},
   "source": [
    "# Data Preprocessing\n",
    "\n",
    "Because we will be using the data multiple times on different classifier, it will be more convenient today to prepare it once using a `data preprocessing pipeline`, and then simply re-used the already preprocessed data. This will save us a bit of time at training time, and a lot of hassle (our pipelines won't get overly complicated). Of course, the drawback is that we won't be able to consume raw data straight into our model, but we will worry about this in our next exercise.\n",
    "\n",
    "So, prepare a preprocessing pipeline named `preproc` that will do the following:\n",
    "* `OneHotEncoding` on any categorical data\n",
    "* `StandardScaling` of numerical data\n",
    "\n",
    "Then, fit `preproc` on `X_train`, and go ahead and transform `X_train` and `X_test` (simply save the transformed versions back to the original names)."
   ]
  },
  {
   "cell_type": "code",
   "execution_count": 9,
   "id": "3a52110d",
   "metadata": {},
   "outputs": [],
   "source": [
    "from sklearn.pipeline import make_pipeline, make_union\n",
    "from sklearn.compose import make_column_transformer\n",
    "from sklearn.preprocessing import OneHotEncoder, StandardScaler"
   ]
  },
  {
   "cell_type": "code",
   "execution_count": 10,
   "id": "5e1c4ee8",
   "metadata": {},
   "outputs": [
    {
     "data": {
      "text/html": [
       "<style>#sk-container-id-1 {color: black;}#sk-container-id-1 pre{padding: 0;}#sk-container-id-1 div.sk-toggleable {background-color: white;}#sk-container-id-1 label.sk-toggleable__label {cursor: pointer;display: block;width: 100%;margin-bottom: 0;padding: 0.3em;box-sizing: border-box;text-align: center;}#sk-container-id-1 label.sk-toggleable__label-arrow:before {content: \"▸\";float: left;margin-right: 0.25em;color: #696969;}#sk-container-id-1 label.sk-toggleable__label-arrow:hover:before {color: black;}#sk-container-id-1 div.sk-estimator:hover label.sk-toggleable__label-arrow:before {color: black;}#sk-container-id-1 div.sk-toggleable__content {max-height: 0;max-width: 0;overflow: hidden;text-align: left;background-color: #f0f8ff;}#sk-container-id-1 div.sk-toggleable__content pre {margin: 0.2em;color: black;border-radius: 0.25em;background-color: #f0f8ff;}#sk-container-id-1 input.sk-toggleable__control:checked~div.sk-toggleable__content {max-height: 200px;max-width: 100%;overflow: auto;}#sk-container-id-1 input.sk-toggleable__control:checked~label.sk-toggleable__label-arrow:before {content: \"▾\";}#sk-container-id-1 div.sk-estimator input.sk-toggleable__control:checked~label.sk-toggleable__label {background-color: #d4ebff;}#sk-container-id-1 div.sk-label input.sk-toggleable__control:checked~label.sk-toggleable__label {background-color: #d4ebff;}#sk-container-id-1 input.sk-hidden--visually {border: 0;clip: rect(1px 1px 1px 1px);clip: rect(1px, 1px, 1px, 1px);height: 1px;margin: -1px;overflow: hidden;padding: 0;position: absolute;width: 1px;}#sk-container-id-1 div.sk-estimator {font-family: monospace;background-color: #f0f8ff;border: 1px dotted black;border-radius: 0.25em;box-sizing: border-box;margin-bottom: 0.5em;}#sk-container-id-1 div.sk-estimator:hover {background-color: #d4ebff;}#sk-container-id-1 div.sk-parallel-item::after {content: \"\";width: 100%;border-bottom: 1px solid gray;flex-grow: 1;}#sk-container-id-1 div.sk-label:hover label.sk-toggleable__label {background-color: #d4ebff;}#sk-container-id-1 div.sk-serial::before {content: \"\";position: absolute;border-left: 1px solid gray;box-sizing: border-box;top: 0;bottom: 0;left: 50%;z-index: 0;}#sk-container-id-1 div.sk-serial {display: flex;flex-direction: column;align-items: center;background-color: white;padding-right: 0.2em;padding-left: 0.2em;position: relative;}#sk-container-id-1 div.sk-item {position: relative;z-index: 1;}#sk-container-id-1 div.sk-parallel {display: flex;align-items: stretch;justify-content: center;background-color: white;position: relative;}#sk-container-id-1 div.sk-item::before, #sk-container-id-1 div.sk-parallel-item::before {content: \"\";position: absolute;border-left: 1px solid gray;box-sizing: border-box;top: 0;bottom: 0;left: 50%;z-index: -1;}#sk-container-id-1 div.sk-parallel-item {display: flex;flex-direction: column;z-index: 1;position: relative;background-color: white;}#sk-container-id-1 div.sk-parallel-item:first-child::after {align-self: flex-end;width: 50%;}#sk-container-id-1 div.sk-parallel-item:last-child::after {align-self: flex-start;width: 50%;}#sk-container-id-1 div.sk-parallel-item:only-child::after {width: 0;}#sk-container-id-1 div.sk-dashed-wrapped {border: 1px dashed gray;margin: 0 0.4em 0.5em 0.4em;box-sizing: border-box;padding-bottom: 0.4em;background-color: white;}#sk-container-id-1 div.sk-label label {font-family: monospace;font-weight: bold;display: inline-block;line-height: 1.2em;}#sk-container-id-1 div.sk-label-container {text-align: center;}#sk-container-id-1 div.sk-container {/* jupyter's `normalize.less` sets `[hidden] { display: none; }` but bootstrap.min.css set `[hidden] { display: none !important; }` so we also need the `!important` here to be able to override the default hidden behavior on the sphinx rendered scikit-learn.org. See: https://github.com/scikit-learn/scikit-learn/issues/21755 */display: inline-block !important;position: relative;}#sk-container-id-1 div.sk-text-repr-fallback {display: none;}</style><div id=\"sk-container-id-1\" class=\"sk-top-container\"><div class=\"sk-text-repr-fallback\"><pre>FeatureUnion(transformer_list=[(&#x27;columntransformer-1&#x27;,\n",
       "                                ColumnTransformer(transformers=[(&#x27;onehotencoder&#x27;,\n",
       "                                                                 OneHotEncoder(),\n",
       "                                                                 Index([&#x27;land_surface_condition&#x27;, &#x27;foundation_type&#x27;, &#x27;roof_type&#x27;,\n",
       "       &#x27;ground_floor_type&#x27;, &#x27;other_floor_type&#x27;, &#x27;position&#x27;,\n",
       "       &#x27;plan_configuration&#x27;, &#x27;legal_ownership_status&#x27;],\n",
       "      dtype=&#x27;object&#x27;))])),\n",
       "                               (&#x27;columntransformer-2&#x27;,\n",
       "                                ColumnTransformer(transformer...\n",
       "       &#x27;count_families&#x27;, &#x27;has_secondary_use&#x27;, &#x27;has_secondary_use_agriculture&#x27;,\n",
       "       &#x27;has_secondary_use_hotel&#x27;, &#x27;has_secondary_use_rental&#x27;,\n",
       "       &#x27;has_secondary_use_institution&#x27;, &#x27;has_secondary_use_school&#x27;,\n",
       "       &#x27;has_secondary_use_industry&#x27;, &#x27;has_secondary_use_health_post&#x27;,\n",
       "       &#x27;has_secondary_use_gov_office&#x27;, &#x27;has_secondary_use_use_police&#x27;,\n",
       "       &#x27;has_secondary_use_other&#x27;],\n",
       "      dtype=&#x27;object&#x27;))]))])</pre><b>In a Jupyter environment, please rerun this cell to show the HTML representation or trust the notebook. <br />On GitHub, the HTML representation is unable to render, please try loading this page with nbviewer.org.</b></div><div class=\"sk-container\" hidden><div class=\"sk-item sk-dashed-wrapped\"><div class=\"sk-label-container\"><div class=\"sk-label sk-toggleable\"><input class=\"sk-toggleable__control sk-hidden--visually\" id=\"sk-estimator-id-1\" type=\"checkbox\" ><label for=\"sk-estimator-id-1\" class=\"sk-toggleable__label sk-toggleable__label-arrow\">FeatureUnion</label><div class=\"sk-toggleable__content\"><pre>FeatureUnion(transformer_list=[(&#x27;columntransformer-1&#x27;,\n",
       "                                ColumnTransformer(transformers=[(&#x27;onehotencoder&#x27;,\n",
       "                                                                 OneHotEncoder(),\n",
       "                                                                 Index([&#x27;land_surface_condition&#x27;, &#x27;foundation_type&#x27;, &#x27;roof_type&#x27;,\n",
       "       &#x27;ground_floor_type&#x27;, &#x27;other_floor_type&#x27;, &#x27;position&#x27;,\n",
       "       &#x27;plan_configuration&#x27;, &#x27;legal_ownership_status&#x27;],\n",
       "      dtype=&#x27;object&#x27;))])),\n",
       "                               (&#x27;columntransformer-2&#x27;,\n",
       "                                ColumnTransformer(transformer...\n",
       "       &#x27;count_families&#x27;, &#x27;has_secondary_use&#x27;, &#x27;has_secondary_use_agriculture&#x27;,\n",
       "       &#x27;has_secondary_use_hotel&#x27;, &#x27;has_secondary_use_rental&#x27;,\n",
       "       &#x27;has_secondary_use_institution&#x27;, &#x27;has_secondary_use_school&#x27;,\n",
       "       &#x27;has_secondary_use_industry&#x27;, &#x27;has_secondary_use_health_post&#x27;,\n",
       "       &#x27;has_secondary_use_gov_office&#x27;, &#x27;has_secondary_use_use_police&#x27;,\n",
       "       &#x27;has_secondary_use_other&#x27;],\n",
       "      dtype=&#x27;object&#x27;))]))])</pre></div></div></div><div class=\"sk-parallel\"><div class=\"sk-parallel-item\"><div class=\"sk-item\"><div class=\"sk-label-container\"><div class=\"sk-label sk-toggleable\"><label>columntransformer-1</label></div></div><div class=\"sk-serial\"><div class=\"sk-item sk-dashed-wrapped\"><div class=\"sk-parallel\"><div class=\"sk-parallel-item\"><div class=\"sk-item\"><div class=\"sk-label-container\"><div class=\"sk-label sk-toggleable\"><input class=\"sk-toggleable__control sk-hidden--visually\" id=\"sk-estimator-id-2\" type=\"checkbox\" ><label for=\"sk-estimator-id-2\" class=\"sk-toggleable__label sk-toggleable__label-arrow\">onehotencoder</label><div class=\"sk-toggleable__content\"><pre>Index([&#x27;land_surface_condition&#x27;, &#x27;foundation_type&#x27;, &#x27;roof_type&#x27;,\n",
       "       &#x27;ground_floor_type&#x27;, &#x27;other_floor_type&#x27;, &#x27;position&#x27;,\n",
       "       &#x27;plan_configuration&#x27;, &#x27;legal_ownership_status&#x27;],\n",
       "      dtype=&#x27;object&#x27;)</pre></div></div></div><div class=\"sk-serial\"><div class=\"sk-item\"><div class=\"sk-estimator sk-toggleable\"><input class=\"sk-toggleable__control sk-hidden--visually\" id=\"sk-estimator-id-3\" type=\"checkbox\" ><label for=\"sk-estimator-id-3\" class=\"sk-toggleable__label sk-toggleable__label-arrow\">OneHotEncoder</label><div class=\"sk-toggleable__content\"><pre>OneHotEncoder()</pre></div></div></div></div></div></div></div></div></div></div></div><div class=\"sk-parallel-item\"><div class=\"sk-item\"><div class=\"sk-label-container\"><div class=\"sk-label sk-toggleable\"><label>columntransformer-2</label></div></div><div class=\"sk-serial\"><div class=\"sk-item sk-dashed-wrapped\"><div class=\"sk-parallel\"><div class=\"sk-parallel-item\"><div class=\"sk-item\"><div class=\"sk-label-container\"><div class=\"sk-label sk-toggleable\"><input class=\"sk-toggleable__control sk-hidden--visually\" id=\"sk-estimator-id-4\" type=\"checkbox\" ><label for=\"sk-estimator-id-4\" class=\"sk-toggleable__label sk-toggleable__label-arrow\">standardscaler</label><div class=\"sk-toggleable__content\"><pre>Index([&#x27;building_id&#x27;, &#x27;geo_level_1_id&#x27;, &#x27;geo_level_2_id&#x27;, &#x27;geo_level_3_id&#x27;,\n",
       "       &#x27;count_floors_pre_eq&#x27;, &#x27;age&#x27;, &#x27;area_percentage&#x27;, &#x27;height_percentage&#x27;,\n",
       "       &#x27;has_superstructure_adobe_mud&#x27;, &#x27;has_superstructure_mud_mortar_stone&#x27;,\n",
       "       &#x27;has_superstructure_stone_flag&#x27;,\n",
       "       &#x27;has_superstructure_cement_mortar_stone&#x27;,\n",
       "       &#x27;has_superstructure_mud_mortar_brick&#x27;,\n",
       "       &#x27;has_superstructure_cement_mortar_brick&#x27;, &#x27;has_superstructure_timber&#x27;,\n",
       "       &#x27;has_superstructure_bamboo&#x27;, &#x27;has_superstructure_rc_non_engineered&#x27;,\n",
       "       &#x27;has_superstructure_rc_engineered&#x27;, &#x27;has_superstructure_other&#x27;,\n",
       "       &#x27;count_families&#x27;, &#x27;has_secondary_use&#x27;, &#x27;has_secondary_use_agriculture&#x27;,\n",
       "       &#x27;has_secondary_use_hotel&#x27;, &#x27;has_secondary_use_rental&#x27;,\n",
       "       &#x27;has_secondary_use_institution&#x27;, &#x27;has_secondary_use_school&#x27;,\n",
       "       &#x27;has_secondary_use_industry&#x27;, &#x27;has_secondary_use_health_post&#x27;,\n",
       "       &#x27;has_secondary_use_gov_office&#x27;, &#x27;has_secondary_use_use_police&#x27;,\n",
       "       &#x27;has_secondary_use_other&#x27;],\n",
       "      dtype=&#x27;object&#x27;)</pre></div></div></div><div class=\"sk-serial\"><div class=\"sk-item\"><div class=\"sk-estimator sk-toggleable\"><input class=\"sk-toggleable__control sk-hidden--visually\" id=\"sk-estimator-id-5\" type=\"checkbox\" ><label for=\"sk-estimator-id-5\" class=\"sk-toggleable__label sk-toggleable__label-arrow\">StandardScaler</label><div class=\"sk-toggleable__content\"><pre>StandardScaler()</pre></div></div></div></div></div></div></div></div></div></div></div></div></div></div></div>"
      ],
      "text/plain": [
       "FeatureUnion(transformer_list=[('columntransformer-1',\n",
       "                                ColumnTransformer(transformers=[('onehotencoder',\n",
       "                                                                 OneHotEncoder(),\n",
       "                                                                 Index(['land_surface_condition', 'foundation_type', 'roof_type',\n",
       "       'ground_floor_type', 'other_floor_type', 'position',\n",
       "       'plan_configuration', 'legal_ownership_status'],\n",
       "      dtype='object'))])),\n",
       "                               ('columntransformer-2',\n",
       "                                ColumnTransformer(transformer...\n",
       "       'count_families', 'has_secondary_use', 'has_secondary_use_agriculture',\n",
       "       'has_secondary_use_hotel', 'has_secondary_use_rental',\n",
       "       'has_secondary_use_institution', 'has_secondary_use_school',\n",
       "       'has_secondary_use_industry', 'has_secondary_use_health_post',\n",
       "       'has_secondary_use_gov_office', 'has_secondary_use_use_police',\n",
       "       'has_secondary_use_other'],\n",
       "      dtype='object'))]))])"
      ]
     },
     "execution_count": 10,
     "metadata": {},
     "output_type": "execute_result"
    }
   ],
   "source": [
    "cat_pipe = make_column_transformer((OneHotEncoder(),X_train.select_dtypes(exclude=np.number).columns), remainder='drop')\n",
    "num_pipe = make_column_transformer((StandardScaler(),X_train.select_dtypes(include=np.number).columns), remainder='drop')\n",
    "preproc = make_union(cat_pipe, num_pipe)\n",
    "preproc"
   ]
  },
  {
   "cell_type": "code",
   "execution_count": 11,
   "id": "8952bf85",
   "metadata": {},
   "outputs": [
    {
     "data": {
      "text/html": [
       "<style>#sk-container-id-2 {color: black;}#sk-container-id-2 pre{padding: 0;}#sk-container-id-2 div.sk-toggleable {background-color: white;}#sk-container-id-2 label.sk-toggleable__label {cursor: pointer;display: block;width: 100%;margin-bottom: 0;padding: 0.3em;box-sizing: border-box;text-align: center;}#sk-container-id-2 label.sk-toggleable__label-arrow:before {content: \"▸\";float: left;margin-right: 0.25em;color: #696969;}#sk-container-id-2 label.sk-toggleable__label-arrow:hover:before {color: black;}#sk-container-id-2 div.sk-estimator:hover label.sk-toggleable__label-arrow:before {color: black;}#sk-container-id-2 div.sk-toggleable__content {max-height: 0;max-width: 0;overflow: hidden;text-align: left;background-color: #f0f8ff;}#sk-container-id-2 div.sk-toggleable__content pre {margin: 0.2em;color: black;border-radius: 0.25em;background-color: #f0f8ff;}#sk-container-id-2 input.sk-toggleable__control:checked~div.sk-toggleable__content {max-height: 200px;max-width: 100%;overflow: auto;}#sk-container-id-2 input.sk-toggleable__control:checked~label.sk-toggleable__label-arrow:before {content: \"▾\";}#sk-container-id-2 div.sk-estimator input.sk-toggleable__control:checked~label.sk-toggleable__label {background-color: #d4ebff;}#sk-container-id-2 div.sk-label input.sk-toggleable__control:checked~label.sk-toggleable__label {background-color: #d4ebff;}#sk-container-id-2 input.sk-hidden--visually {border: 0;clip: rect(1px 1px 1px 1px);clip: rect(1px, 1px, 1px, 1px);height: 1px;margin: -1px;overflow: hidden;padding: 0;position: absolute;width: 1px;}#sk-container-id-2 div.sk-estimator {font-family: monospace;background-color: #f0f8ff;border: 1px dotted black;border-radius: 0.25em;box-sizing: border-box;margin-bottom: 0.5em;}#sk-container-id-2 div.sk-estimator:hover {background-color: #d4ebff;}#sk-container-id-2 div.sk-parallel-item::after {content: \"\";width: 100%;border-bottom: 1px solid gray;flex-grow: 1;}#sk-container-id-2 div.sk-label:hover label.sk-toggleable__label {background-color: #d4ebff;}#sk-container-id-2 div.sk-serial::before {content: \"\";position: absolute;border-left: 1px solid gray;box-sizing: border-box;top: 0;bottom: 0;left: 50%;z-index: 0;}#sk-container-id-2 div.sk-serial {display: flex;flex-direction: column;align-items: center;background-color: white;padding-right: 0.2em;padding-left: 0.2em;position: relative;}#sk-container-id-2 div.sk-item {position: relative;z-index: 1;}#sk-container-id-2 div.sk-parallel {display: flex;align-items: stretch;justify-content: center;background-color: white;position: relative;}#sk-container-id-2 div.sk-item::before, #sk-container-id-2 div.sk-parallel-item::before {content: \"\";position: absolute;border-left: 1px solid gray;box-sizing: border-box;top: 0;bottom: 0;left: 50%;z-index: -1;}#sk-container-id-2 div.sk-parallel-item {display: flex;flex-direction: column;z-index: 1;position: relative;background-color: white;}#sk-container-id-2 div.sk-parallel-item:first-child::after {align-self: flex-end;width: 50%;}#sk-container-id-2 div.sk-parallel-item:last-child::after {align-self: flex-start;width: 50%;}#sk-container-id-2 div.sk-parallel-item:only-child::after {width: 0;}#sk-container-id-2 div.sk-dashed-wrapped {border: 1px dashed gray;margin: 0 0.4em 0.5em 0.4em;box-sizing: border-box;padding-bottom: 0.4em;background-color: white;}#sk-container-id-2 div.sk-label label {font-family: monospace;font-weight: bold;display: inline-block;line-height: 1.2em;}#sk-container-id-2 div.sk-label-container {text-align: center;}#sk-container-id-2 div.sk-container {/* jupyter's `normalize.less` sets `[hidden] { display: none; }` but bootstrap.min.css set `[hidden] { display: none !important; }` so we also need the `!important` here to be able to override the default hidden behavior on the sphinx rendered scikit-learn.org. See: https://github.com/scikit-learn/scikit-learn/issues/21755 */display: inline-block !important;position: relative;}#sk-container-id-2 div.sk-text-repr-fallback {display: none;}</style><div id=\"sk-container-id-2\" class=\"sk-top-container\"><div class=\"sk-text-repr-fallback\"><pre>FeatureUnion(transformer_list=[(&#x27;columntransformer-1&#x27;,\n",
       "                                ColumnTransformer(transformers=[(&#x27;onehotencoder&#x27;,\n",
       "                                                                 OneHotEncoder(),\n",
       "                                                                 Index([&#x27;land_surface_condition&#x27;, &#x27;foundation_type&#x27;, &#x27;roof_type&#x27;,\n",
       "       &#x27;ground_floor_type&#x27;, &#x27;other_floor_type&#x27;, &#x27;position&#x27;,\n",
       "       &#x27;plan_configuration&#x27;, &#x27;legal_ownership_status&#x27;],\n",
       "      dtype=&#x27;object&#x27;))])),\n",
       "                               (&#x27;columntransformer-2&#x27;,\n",
       "                                ColumnTransformer(transformer...\n",
       "       &#x27;count_families&#x27;, &#x27;has_secondary_use&#x27;, &#x27;has_secondary_use_agriculture&#x27;,\n",
       "       &#x27;has_secondary_use_hotel&#x27;, &#x27;has_secondary_use_rental&#x27;,\n",
       "       &#x27;has_secondary_use_institution&#x27;, &#x27;has_secondary_use_school&#x27;,\n",
       "       &#x27;has_secondary_use_industry&#x27;, &#x27;has_secondary_use_health_post&#x27;,\n",
       "       &#x27;has_secondary_use_gov_office&#x27;, &#x27;has_secondary_use_use_police&#x27;,\n",
       "       &#x27;has_secondary_use_other&#x27;],\n",
       "      dtype=&#x27;object&#x27;))]))])</pre><b>In a Jupyter environment, please rerun this cell to show the HTML representation or trust the notebook. <br />On GitHub, the HTML representation is unable to render, please try loading this page with nbviewer.org.</b></div><div class=\"sk-container\" hidden><div class=\"sk-item sk-dashed-wrapped\"><div class=\"sk-label-container\"><div class=\"sk-label sk-toggleable\"><input class=\"sk-toggleable__control sk-hidden--visually\" id=\"sk-estimator-id-6\" type=\"checkbox\" ><label for=\"sk-estimator-id-6\" class=\"sk-toggleable__label sk-toggleable__label-arrow\">FeatureUnion</label><div class=\"sk-toggleable__content\"><pre>FeatureUnion(transformer_list=[(&#x27;columntransformer-1&#x27;,\n",
       "                                ColumnTransformer(transformers=[(&#x27;onehotencoder&#x27;,\n",
       "                                                                 OneHotEncoder(),\n",
       "                                                                 Index([&#x27;land_surface_condition&#x27;, &#x27;foundation_type&#x27;, &#x27;roof_type&#x27;,\n",
       "       &#x27;ground_floor_type&#x27;, &#x27;other_floor_type&#x27;, &#x27;position&#x27;,\n",
       "       &#x27;plan_configuration&#x27;, &#x27;legal_ownership_status&#x27;],\n",
       "      dtype=&#x27;object&#x27;))])),\n",
       "                               (&#x27;columntransformer-2&#x27;,\n",
       "                                ColumnTransformer(transformer...\n",
       "       &#x27;count_families&#x27;, &#x27;has_secondary_use&#x27;, &#x27;has_secondary_use_agriculture&#x27;,\n",
       "       &#x27;has_secondary_use_hotel&#x27;, &#x27;has_secondary_use_rental&#x27;,\n",
       "       &#x27;has_secondary_use_institution&#x27;, &#x27;has_secondary_use_school&#x27;,\n",
       "       &#x27;has_secondary_use_industry&#x27;, &#x27;has_secondary_use_health_post&#x27;,\n",
       "       &#x27;has_secondary_use_gov_office&#x27;, &#x27;has_secondary_use_use_police&#x27;,\n",
       "       &#x27;has_secondary_use_other&#x27;],\n",
       "      dtype=&#x27;object&#x27;))]))])</pre></div></div></div><div class=\"sk-parallel\"><div class=\"sk-parallel-item\"><div class=\"sk-item\"><div class=\"sk-label-container\"><div class=\"sk-label sk-toggleable\"><label>columntransformer-1</label></div></div><div class=\"sk-serial\"><div class=\"sk-item sk-dashed-wrapped\"><div class=\"sk-parallel\"><div class=\"sk-parallel-item\"><div class=\"sk-item\"><div class=\"sk-label-container\"><div class=\"sk-label sk-toggleable\"><input class=\"sk-toggleable__control sk-hidden--visually\" id=\"sk-estimator-id-7\" type=\"checkbox\" ><label for=\"sk-estimator-id-7\" class=\"sk-toggleable__label sk-toggleable__label-arrow\">onehotencoder</label><div class=\"sk-toggleable__content\"><pre>Index([&#x27;land_surface_condition&#x27;, &#x27;foundation_type&#x27;, &#x27;roof_type&#x27;,\n",
       "       &#x27;ground_floor_type&#x27;, &#x27;other_floor_type&#x27;, &#x27;position&#x27;,\n",
       "       &#x27;plan_configuration&#x27;, &#x27;legal_ownership_status&#x27;],\n",
       "      dtype=&#x27;object&#x27;)</pre></div></div></div><div class=\"sk-serial\"><div class=\"sk-item\"><div class=\"sk-estimator sk-toggleable\"><input class=\"sk-toggleable__control sk-hidden--visually\" id=\"sk-estimator-id-8\" type=\"checkbox\" ><label for=\"sk-estimator-id-8\" class=\"sk-toggleable__label sk-toggleable__label-arrow\">OneHotEncoder</label><div class=\"sk-toggleable__content\"><pre>OneHotEncoder()</pre></div></div></div></div></div></div></div></div></div></div></div><div class=\"sk-parallel-item\"><div class=\"sk-item\"><div class=\"sk-label-container\"><div class=\"sk-label sk-toggleable\"><label>columntransformer-2</label></div></div><div class=\"sk-serial\"><div class=\"sk-item sk-dashed-wrapped\"><div class=\"sk-parallel\"><div class=\"sk-parallel-item\"><div class=\"sk-item\"><div class=\"sk-label-container\"><div class=\"sk-label sk-toggleable\"><input class=\"sk-toggleable__control sk-hidden--visually\" id=\"sk-estimator-id-9\" type=\"checkbox\" ><label for=\"sk-estimator-id-9\" class=\"sk-toggleable__label sk-toggleable__label-arrow\">standardscaler</label><div class=\"sk-toggleable__content\"><pre>Index([&#x27;building_id&#x27;, &#x27;geo_level_1_id&#x27;, &#x27;geo_level_2_id&#x27;, &#x27;geo_level_3_id&#x27;,\n",
       "       &#x27;count_floors_pre_eq&#x27;, &#x27;age&#x27;, &#x27;area_percentage&#x27;, &#x27;height_percentage&#x27;,\n",
       "       &#x27;has_superstructure_adobe_mud&#x27;, &#x27;has_superstructure_mud_mortar_stone&#x27;,\n",
       "       &#x27;has_superstructure_stone_flag&#x27;,\n",
       "       &#x27;has_superstructure_cement_mortar_stone&#x27;,\n",
       "       &#x27;has_superstructure_mud_mortar_brick&#x27;,\n",
       "       &#x27;has_superstructure_cement_mortar_brick&#x27;, &#x27;has_superstructure_timber&#x27;,\n",
       "       &#x27;has_superstructure_bamboo&#x27;, &#x27;has_superstructure_rc_non_engineered&#x27;,\n",
       "       &#x27;has_superstructure_rc_engineered&#x27;, &#x27;has_superstructure_other&#x27;,\n",
       "       &#x27;count_families&#x27;, &#x27;has_secondary_use&#x27;, &#x27;has_secondary_use_agriculture&#x27;,\n",
       "       &#x27;has_secondary_use_hotel&#x27;, &#x27;has_secondary_use_rental&#x27;,\n",
       "       &#x27;has_secondary_use_institution&#x27;, &#x27;has_secondary_use_school&#x27;,\n",
       "       &#x27;has_secondary_use_industry&#x27;, &#x27;has_secondary_use_health_post&#x27;,\n",
       "       &#x27;has_secondary_use_gov_office&#x27;, &#x27;has_secondary_use_use_police&#x27;,\n",
       "       &#x27;has_secondary_use_other&#x27;],\n",
       "      dtype=&#x27;object&#x27;)</pre></div></div></div><div class=\"sk-serial\"><div class=\"sk-item\"><div class=\"sk-estimator sk-toggleable\"><input class=\"sk-toggleable__control sk-hidden--visually\" id=\"sk-estimator-id-10\" type=\"checkbox\" ><label for=\"sk-estimator-id-10\" class=\"sk-toggleable__label sk-toggleable__label-arrow\">StandardScaler</label><div class=\"sk-toggleable__content\"><pre>StandardScaler()</pre></div></div></div></div></div></div></div></div></div></div></div></div></div></div></div>"
      ],
      "text/plain": [
       "FeatureUnion(transformer_list=[('columntransformer-1',\n",
       "                                ColumnTransformer(transformers=[('onehotencoder',\n",
       "                                                                 OneHotEncoder(),\n",
       "                                                                 Index(['land_surface_condition', 'foundation_type', 'roof_type',\n",
       "       'ground_floor_type', 'other_floor_type', 'position',\n",
       "       'plan_configuration', 'legal_ownership_status'],\n",
       "      dtype='object'))])),\n",
       "                               ('columntransformer-2',\n",
       "                                ColumnTransformer(transformer...\n",
       "       'count_families', 'has_secondary_use', 'has_secondary_use_agriculture',\n",
       "       'has_secondary_use_hotel', 'has_secondary_use_rental',\n",
       "       'has_secondary_use_institution', 'has_secondary_use_school',\n",
       "       'has_secondary_use_industry', 'has_secondary_use_health_post',\n",
       "       'has_secondary_use_gov_office', 'has_secondary_use_use_police',\n",
       "       'has_secondary_use_other'],\n",
       "      dtype='object'))]))])"
      ]
     },
     "execution_count": 11,
     "metadata": {},
     "output_type": "execute_result"
    }
   ],
   "source": [
    "preproc.fit(X_train)"
   ]
  },
  {
   "cell_type": "code",
   "execution_count": 12,
   "id": "80952714",
   "metadata": {},
   "outputs": [],
   "source": [
    "X_train = preproc.transform(X_train)\n",
    "X_test = preproc.transform(X_test)"
   ]
  },
  {
   "cell_type": "markdown",
   "id": "2a69c209",
   "metadata": {},
   "source": [
    "### ☑️ Test your code"
   ]
  },
  {
   "cell_type": "code",
   "execution_count": null,
   "id": "4061c8cf",
   "metadata": {},
   "outputs": [],
   "source": [
    "from nbresult import ChallengeResult\n",
    "import scipy\n",
    "\n",
    "result = ChallengeResult('data_preproc',\n",
    "                         X_train_shape = X_train.shape,\n",
    "                         X_test_shape =  X_test.shape,\n",
    "                         sparsity = scipy.sparse.issparse(X_test)\n",
    ")\n",
    "\n",
    "result.write()\n",
    "print(result.check())"
   ]
  },
  {
   "cell_type": "markdown",
   "id": "c4450ed2",
   "metadata": {},
   "source": [
    "# Dummy modelling\n",
    "\n",
    "Our first step is to understand what the preformance of a `Dummy Model` looks like. Go ahead and create a `DummyClassifier`, choosing the `strategy` that will give you a similar distribution of prediction than the actual distribution of the class. Then, fit it to `X_train` and `y_train`, and generate an accuracy score (save this into a variable called `dummy_score`.\n",
    "\n",
    "Is the accuracy of the dummy model any good?"
   ]
  },
  {
   "cell_type": "code",
   "execution_count": 13,
   "id": "b67a220a",
   "metadata": {},
   "outputs": [],
   "source": [
    "from sklearn.dummy import DummyClassifier\n",
    "from sklearn.metrics import accuracy_score\n",
    "\n",
    "dummy = DummyClassifier(strategy='stratified').fit(X_train, y_train)"
   ]
  },
  {
   "cell_type": "code",
   "execution_count": 14,
   "id": "9cd74545",
   "metadata": {},
   "outputs": [],
   "source": [
    "y_pred = dummy.predict(X_test)"
   ]
  },
  {
   "cell_type": "code",
   "execution_count": 15,
   "id": "a507f142",
   "metadata": {},
   "outputs": [],
   "source": [
    "dummy_score = accuracy_score(y_test, y_pred)"
   ]
  },
  {
   "cell_type": "code",
   "execution_count": 16,
   "id": "7639d5d3",
   "metadata": {},
   "outputs": [
    {
     "data": {
      "text/plain": [
       "0.4522256331542594"
      ]
     },
     "execution_count": 16,
     "metadata": {},
     "output_type": "execute_result"
    }
   ],
   "source": [
    "dummy_score"
   ]
  },
  {
   "cell_type": "markdown",
   "id": "b2cc9e92",
   "metadata": {},
   "source": [
    "# Linear Model\n",
    "\n",
    "Let's see if a linear classifier would beat the dummy model! Using a `LogisticRegression` classifier, do the same process as for the `DummyClassifier` described above, but save the new accuracy score into a variable named `linear_score`.\n",
    "\n",
    "Does `LogisticRegression` beat your `DummyClassifier`, and does `LogisticRegression` give you the `>70% accuracy` we want?"
   ]
  },
  {
   "cell_type": "code",
   "execution_count": 17,
   "id": "7685fea7",
   "metadata": {},
   "outputs": [
    {
     "data": {
      "text/plain": [
       "0.5832693783576363"
      ]
     },
     "execution_count": 17,
     "metadata": {},
     "output_type": "execute_result"
    }
   ],
   "source": [
    "from sklearn.linear_model import LogisticRegression\n",
    "\n",
    "log_reg = LogisticRegression(max_iter=3000).fit(X_train, y_train)\n",
    "\n",
    "y_pred = log_reg.predict(X_test)\n",
    "\n",
    "linear_score = accuracy_score(y_test, y_pred)\n",
    "\n",
    "linear_score"
   ]
  },
  {
   "cell_type": "markdown",
   "id": "5f4fe79c",
   "metadata": {},
   "source": [
    "# KNN model\n",
    "\n",
    "Using a K-nearest neighbour classifier, do the same as above, and save the score as `knn_score`. Is `knn_score` > 70%?"
   ]
  },
  {
   "cell_type": "code",
   "execution_count": 18,
   "id": "1811859a",
   "metadata": {},
   "outputs": [
    {
     "data": {
      "text/plain": [
       "0.5836531082118189"
      ]
     },
     "execution_count": 18,
     "metadata": {},
     "output_type": "execute_result"
    }
   ],
   "source": [
    "from sklearn.neighbors import KNeighborsClassifier\n",
    "\n",
    "knn_class = KNeighborsClassifier().fit(X_train, y_train)\n",
    "\n",
    "y_pred = knn_class.predict(X_test)\n",
    "\n",
    "knn_score = accuracy_score(y_test, y_pred)\n",
    "\n",
    "knn_score"
   ]
  },
  {
   "cell_type": "markdown",
   "id": "c3af31ec",
   "metadata": {},
   "source": [
    "# Linear SVC using the `SGDClassifier` class\n",
    "\n",
    "Finally, use a `linear SVC` by calling an instance of `SGDClassifier` and setting the paramaters of `loss=\"hinge\"` and `max_iter=3000`. Save the score of this classifier as `sgd_score`. Is `sgd_score` > 70%?"
   ]
  },
  {
   "cell_type": "code",
   "execution_count": 19,
   "id": "3aa5b643",
   "metadata": {},
   "outputs": [
    {
     "data": {
      "text/plain": [
       "0.5788564850345357"
      ]
     },
     "execution_count": 19,
     "metadata": {},
     "output_type": "execute_result"
    }
   ],
   "source": [
    "from sklearn.linear_model import SGDClassifier\n",
    "\n",
    "sgd = SGDClassifier(loss='hinge', max_iter=3000).fit(X_train, y_train)\n",
    "\n",
    "y_pred = sgd.predict(X_test)\n",
    "\n",
    "sgd_score = accuracy_score(y_test, y_pred)\n",
    "\n",
    "sgd_score"
   ]
  },
  {
   "cell_type": "markdown",
   "id": "174e3da6",
   "metadata": {},
   "source": [
    "# Decision Trees\n",
    "\n",
    "Finally, use a `DecisionTreeClassifier` to see how an individual decision tree would perform. Save the score of this classifier as `tree_score`. Is `tree_score` > 70%?"
   ]
  },
  {
   "cell_type": "code",
   "execution_count": 20,
   "id": "8d7f7e19",
   "metadata": {},
   "outputs": [
    {
     "data": {
      "text/plain": [
       "0.5963161933998465"
      ]
     },
     "execution_count": 20,
     "metadata": {},
     "output_type": "execute_result"
    }
   ],
   "source": [
    "from sklearn.tree import DecisionTreeClassifier\n",
    "\n",
    "tree_model = DecisionTreeClassifier().fit(X_train, y_train)\n",
    "\n",
    "y_pred = tree_model.predict(X_test)\n",
    "\n",
    "tree_score = accuracy_score(y_test, y_pred)\n",
    "\n",
    "tree_score"
   ]
  },
  {
   "cell_type": "markdown",
   "id": "6ba99e03",
   "metadata": {},
   "source": [
    "### ☑️ Test your code"
   ]
  },
  {
   "cell_type": "code",
   "execution_count": null,
   "id": "5273838c",
   "metadata": {},
   "outputs": [],
   "source": [
    "from nbresult import ChallengeResult\n",
    "\n",
    "result = ChallengeResult('initial_models_results',\n",
    "                         dummy_score = dummy_score,\n",
    "                         linear_score =  linear_score,\n",
    "                         knn_score =  knn_score,\n",
    "                         sgd_score =  sgd_score,\n",
    "                         tree_score =  tree_score\n",
    ")\n",
    "\n",
    "result.write()\n",
    "print(result.check())"
   ]
  },
  {
   "cell_type": "markdown",
   "id": "1c407278",
   "metadata": {},
   "source": [
    "# RandomForestClassifier\n",
    "\n",
    "By now, you have a pretty good feel for what accuracy you can get with a linear model (`LogisticRegression`) and a non-linear model (`KNeighborsClassifier`). Of course, we have not yet tweaked their hyperparameters, but we will leave this for last.\n",
    "\n",
    "Now is time to see how well a plain-vanilla `RandomForestClassifier` performs on this dataset. Save your `accuracy_score` in a variable called `rf_score`. Is `rf_score` > 70%?"
   ]
  },
  {
   "cell_type": "code",
   "execution_count": 21,
   "id": "4cfb2da9",
   "metadata": {},
   "outputs": [],
   "source": [
    "from sklearn.ensemble import RandomForestClassifier\n",
    "\n",
    "rf_model = RandomForestClassifier().fit(X_train, y_train)"
   ]
  },
  {
   "cell_type": "code",
   "execution_count": 22,
   "id": "8585dc4e",
   "metadata": {},
   "outputs": [],
   "source": [
    "y_pred = rf_model.predict(X_test)"
   ]
  },
  {
   "cell_type": "code",
   "execution_count": 23,
   "id": "c80e02c8",
   "metadata": {},
   "outputs": [
    {
     "data": {
      "text/plain": [
       "0.6728702993092862"
      ]
     },
     "execution_count": 23,
     "metadata": {},
     "output_type": "execute_result"
    }
   ],
   "source": [
    "rf_score = accuracy_score(y_test, y_pred)\n",
    "rf_score"
   ]
  },
  {
   "cell_type": "markdown",
   "id": "c49618ba",
   "metadata": {},
   "source": [
    "# Boosting our performance with `BaggingClassifiers`\n",
    "\n",
    "The `RandomForestClassifier` comes close to meeting our required `>70% accuracy` score: it is definitely a better model than any of the previous ones we tried. But `RandomForest` is simply a version of a `Bagging Algorithm`, where multiple `DecisionTreeClassifiers` are trained on different versions of the same dataset (this is where the `bagging` term comes from - as in getting different samples out of the bag). \n",
    "\n",
    "Let's try if we can boost the performance of our `KNeighborsClassifier` by bagging it. Create a `BaggingClassifier` (<a href=\"https://scikit-learn.org/stable/modules/generated/sklearn.ensemble.BaggingClassifier.html\">sklearn documentation</a>) with a plain vanilla `KNeighborsClassifier` as your base estimator, a total of 15 knn estimators, each trained on a maximum of 50% of the dataset and only 50% of the features. Set the `random_state=42` to ensure you pass the test. See what the performance of this algorithm is, and save your score in a variable called `knn_bag_score`.\n",
    "\n",
    "**Warning**: KNN will take a long time to come to a prediction, so creating your `y_pred` will be long (but training is fast). Be patient! ☕"
   ]
  },
  {
   "cell_type": "code",
   "execution_count": 24,
   "id": "cfe8a37c",
   "metadata": {},
   "outputs": [],
   "source": [
    "from sklearn.ensemble import BaggingClassifier\n",
    "\n",
    "bag = BaggingClassifier(estimator=knn_class, n_estimators=15, max_samples=.5, max_features=.5, random_state=42).fit(X_train, y_train)"
   ]
  },
  {
   "cell_type": "code",
   "execution_count": 25,
   "id": "a454bd5f",
   "metadata": {},
   "outputs": [],
   "source": [
    "y_pred = bag.predict(X_test)"
   ]
  },
  {
   "cell_type": "code",
   "execution_count": 26,
   "id": "2ee67a5f",
   "metadata": {},
   "outputs": [
    {
     "data": {
      "text/plain": [
       "0.6402532617037605"
      ]
     },
     "execution_count": 26,
     "metadata": {},
     "output_type": "execute_result"
    }
   ],
   "source": [
    "knn_bag_score = accuracy_score(y_test, y_pred)\n",
    "knn_bag_score"
   ]
  },
  {
   "cell_type": "markdown",
   "id": "54758940",
   "metadata": {},
   "source": [
    "<details><summary>💡 Observations</summary><br>\n",
    "    We can see that the bagged version of the KNN outperforms the single KNN by at least 6-7%! This is pretty impressive. <br>It does not, however, outperform our RandomForest classifier. This is in part because we trained fewer individual predictors: the fact that at inference time KNNs are slow makes them less practical for this purpose than the decision trees.</details>"
   ]
  },
  {
   "cell_type": "markdown",
   "id": "07ccae33",
   "metadata": {},
   "source": [
    "### ☑️ Test your code"
   ]
  },
  {
   "cell_type": "code",
   "execution_count": null,
   "id": "d7e1fb7d",
   "metadata": {},
   "outputs": [],
   "source": [
    "from nbresult import ChallengeResult\n",
    "\n",
    "result = ChallengeResult('boosting_score',\n",
    "                         rf_score = rf_score,\n",
    "                         knn_bag_score =  knn_bag_score\n",
    ")\n",
    "\n",
    "result.write()\n",
    "print(result.check())"
   ]
  },
  {
   "cell_type": "markdown",
   "id": "533b3652",
   "metadata": {},
   "source": [
    "# Prediction using heterogenous classifiers\n",
    "\n",
    "So far, we have used two `Ensemble` classifier: a `RandomForest` and a `Bagged KNN` classifier. You have seen that they both outperformed their non-bagged versions (`DecisionTreeClassifier` and `KNeighborsClassifier`). But what they have in common is that they are composed of a homogeneous ensemble of classifiers (either only `DecisionTrees` or only `KNeighborsClassifier`).\n",
    "\n",
    "Sometimes, it might be beneficial to use a heterogenous ensemble of classifiers to boost our performance. We can do this via two main classes in `sklearn`: the `VotingClassifier` and the `StackingClassifier`.\n",
    "\n",
    "## `VotingClassifier`\n",
    "\n",
    "Let's start with `VotingClassifier` as this is the most straightforward class. All it does is train a list of classifiers, and then agglomerate their results (either the predicted class (**hard voting**) or the predicted probabilities (**soft voting**)).<br>\n",
    "Create a `VotingClassifier` composed of:\n",
    "1. One `LogisticRegression` \n",
    "3. One `SGDClassifier(loss='hinge', max_iter=3000)`\n",
    "4. One `KNeighborsClassifier`\n",
    "5. One `RandomForestClassifier`\n",
    "\n",
    "Call this classifier `voting_classifier`, and save its performance in a variable called `voting_accuracy`. Do we outperform our `RandomForest` and the `bagged KNNs`?"
   ]
  },
  {
   "cell_type": "code",
   "execution_count": 27,
   "id": "cde28c26",
   "metadata": {},
   "outputs": [],
   "source": [
    "from sklearn.ensemble import VotingClassifier\n",
    "from sklearn.naive_bayes import MultinomialNB\n",
    "\n",
    "estimators = [('lr', log_reg),('sgd',sgd),  ('knn',knn_class), ('rf', RandomForestClassifier())]\n",
    "\n",
    "voting_classifier = VotingClassifier(estimators = estimators, voting='hard')\n"
   ]
  },
  {
   "cell_type": "code",
   "execution_count": 28,
   "id": "a06315d6",
   "metadata": {},
   "outputs": [
    {
     "data": {
      "text/html": [
       "<style>#sk-container-id-3 {color: black;}#sk-container-id-3 pre{padding: 0;}#sk-container-id-3 div.sk-toggleable {background-color: white;}#sk-container-id-3 label.sk-toggleable__label {cursor: pointer;display: block;width: 100%;margin-bottom: 0;padding: 0.3em;box-sizing: border-box;text-align: center;}#sk-container-id-3 label.sk-toggleable__label-arrow:before {content: \"▸\";float: left;margin-right: 0.25em;color: #696969;}#sk-container-id-3 label.sk-toggleable__label-arrow:hover:before {color: black;}#sk-container-id-3 div.sk-estimator:hover label.sk-toggleable__label-arrow:before {color: black;}#sk-container-id-3 div.sk-toggleable__content {max-height: 0;max-width: 0;overflow: hidden;text-align: left;background-color: #f0f8ff;}#sk-container-id-3 div.sk-toggleable__content pre {margin: 0.2em;color: black;border-radius: 0.25em;background-color: #f0f8ff;}#sk-container-id-3 input.sk-toggleable__control:checked~div.sk-toggleable__content {max-height: 200px;max-width: 100%;overflow: auto;}#sk-container-id-3 input.sk-toggleable__control:checked~label.sk-toggleable__label-arrow:before {content: \"▾\";}#sk-container-id-3 div.sk-estimator input.sk-toggleable__control:checked~label.sk-toggleable__label {background-color: #d4ebff;}#sk-container-id-3 div.sk-label input.sk-toggleable__control:checked~label.sk-toggleable__label {background-color: #d4ebff;}#sk-container-id-3 input.sk-hidden--visually {border: 0;clip: rect(1px 1px 1px 1px);clip: rect(1px, 1px, 1px, 1px);height: 1px;margin: -1px;overflow: hidden;padding: 0;position: absolute;width: 1px;}#sk-container-id-3 div.sk-estimator {font-family: monospace;background-color: #f0f8ff;border: 1px dotted black;border-radius: 0.25em;box-sizing: border-box;margin-bottom: 0.5em;}#sk-container-id-3 div.sk-estimator:hover {background-color: #d4ebff;}#sk-container-id-3 div.sk-parallel-item::after {content: \"\";width: 100%;border-bottom: 1px solid gray;flex-grow: 1;}#sk-container-id-3 div.sk-label:hover label.sk-toggleable__label {background-color: #d4ebff;}#sk-container-id-3 div.sk-serial::before {content: \"\";position: absolute;border-left: 1px solid gray;box-sizing: border-box;top: 0;bottom: 0;left: 50%;z-index: 0;}#sk-container-id-3 div.sk-serial {display: flex;flex-direction: column;align-items: center;background-color: white;padding-right: 0.2em;padding-left: 0.2em;position: relative;}#sk-container-id-3 div.sk-item {position: relative;z-index: 1;}#sk-container-id-3 div.sk-parallel {display: flex;align-items: stretch;justify-content: center;background-color: white;position: relative;}#sk-container-id-3 div.sk-item::before, #sk-container-id-3 div.sk-parallel-item::before {content: \"\";position: absolute;border-left: 1px solid gray;box-sizing: border-box;top: 0;bottom: 0;left: 50%;z-index: -1;}#sk-container-id-3 div.sk-parallel-item {display: flex;flex-direction: column;z-index: 1;position: relative;background-color: white;}#sk-container-id-3 div.sk-parallel-item:first-child::after {align-self: flex-end;width: 50%;}#sk-container-id-3 div.sk-parallel-item:last-child::after {align-self: flex-start;width: 50%;}#sk-container-id-3 div.sk-parallel-item:only-child::after {width: 0;}#sk-container-id-3 div.sk-dashed-wrapped {border: 1px dashed gray;margin: 0 0.4em 0.5em 0.4em;box-sizing: border-box;padding-bottom: 0.4em;background-color: white;}#sk-container-id-3 div.sk-label label {font-family: monospace;font-weight: bold;display: inline-block;line-height: 1.2em;}#sk-container-id-3 div.sk-label-container {text-align: center;}#sk-container-id-3 div.sk-container {/* jupyter's `normalize.less` sets `[hidden] { display: none; }` but bootstrap.min.css set `[hidden] { display: none !important; }` so we also need the `!important` here to be able to override the default hidden behavior on the sphinx rendered scikit-learn.org. See: https://github.com/scikit-learn/scikit-learn/issues/21755 */display: inline-block !important;position: relative;}#sk-container-id-3 div.sk-text-repr-fallback {display: none;}</style><div id=\"sk-container-id-3\" class=\"sk-top-container\"><div class=\"sk-text-repr-fallback\"><pre>VotingClassifier(estimators=[(&#x27;lr&#x27;, LogisticRegression(max_iter=3000)),\n",
       "                             (&#x27;sgd&#x27;, SGDClassifier(max_iter=3000)),\n",
       "                             (&#x27;knn&#x27;, KNeighborsClassifier()),\n",
       "                             (&#x27;rf&#x27;, RandomForestClassifier())])</pre><b>In a Jupyter environment, please rerun this cell to show the HTML representation or trust the notebook. <br />On GitHub, the HTML representation is unable to render, please try loading this page with nbviewer.org.</b></div><div class=\"sk-container\" hidden><div class=\"sk-item sk-dashed-wrapped\"><div class=\"sk-label-container\"><div class=\"sk-label sk-toggleable\"><input class=\"sk-toggleable__control sk-hidden--visually\" id=\"sk-estimator-id-11\" type=\"checkbox\" ><label for=\"sk-estimator-id-11\" class=\"sk-toggleable__label sk-toggleable__label-arrow\">VotingClassifier</label><div class=\"sk-toggleable__content\"><pre>VotingClassifier(estimators=[(&#x27;lr&#x27;, LogisticRegression(max_iter=3000)),\n",
       "                             (&#x27;sgd&#x27;, SGDClassifier(max_iter=3000)),\n",
       "                             (&#x27;knn&#x27;, KNeighborsClassifier()),\n",
       "                             (&#x27;rf&#x27;, RandomForestClassifier())])</pre></div></div></div><div class=\"sk-parallel\"><div class=\"sk-parallel-item\"><div class=\"sk-item\"><div class=\"sk-label-container\"><div class=\"sk-label sk-toggleable\"><label>lr</label></div></div><div class=\"sk-serial\"><div class=\"sk-item\"><div class=\"sk-estimator sk-toggleable\"><input class=\"sk-toggleable__control sk-hidden--visually\" id=\"sk-estimator-id-12\" type=\"checkbox\" ><label for=\"sk-estimator-id-12\" class=\"sk-toggleable__label sk-toggleable__label-arrow\">LogisticRegression</label><div class=\"sk-toggleable__content\"><pre>LogisticRegression(max_iter=3000)</pre></div></div></div></div></div></div><div class=\"sk-parallel-item\"><div class=\"sk-item\"><div class=\"sk-label-container\"><div class=\"sk-label sk-toggleable\"><label>sgd</label></div></div><div class=\"sk-serial\"><div class=\"sk-item\"><div class=\"sk-estimator sk-toggleable\"><input class=\"sk-toggleable__control sk-hidden--visually\" id=\"sk-estimator-id-13\" type=\"checkbox\" ><label for=\"sk-estimator-id-13\" class=\"sk-toggleable__label sk-toggleable__label-arrow\">SGDClassifier</label><div class=\"sk-toggleable__content\"><pre>SGDClassifier(max_iter=3000)</pre></div></div></div></div></div></div><div class=\"sk-parallel-item\"><div class=\"sk-item\"><div class=\"sk-label-container\"><div class=\"sk-label sk-toggleable\"><label>knn</label></div></div><div class=\"sk-serial\"><div class=\"sk-item\"><div class=\"sk-estimator sk-toggleable\"><input class=\"sk-toggleable__control sk-hidden--visually\" id=\"sk-estimator-id-14\" type=\"checkbox\" ><label for=\"sk-estimator-id-14\" class=\"sk-toggleable__label sk-toggleable__label-arrow\">KNeighborsClassifier</label><div class=\"sk-toggleable__content\"><pre>KNeighborsClassifier()</pre></div></div></div></div></div></div><div class=\"sk-parallel-item\"><div class=\"sk-item\"><div class=\"sk-label-container\"><div class=\"sk-label sk-toggleable\"><label>rf</label></div></div><div class=\"sk-serial\"><div class=\"sk-item\"><div class=\"sk-estimator sk-toggleable\"><input class=\"sk-toggleable__control sk-hidden--visually\" id=\"sk-estimator-id-15\" type=\"checkbox\" ><label for=\"sk-estimator-id-15\" class=\"sk-toggleable__label sk-toggleable__label-arrow\">RandomForestClassifier</label><div class=\"sk-toggleable__content\"><pre>RandomForestClassifier()</pre></div></div></div></div></div></div></div></div></div></div>"
      ],
      "text/plain": [
       "VotingClassifier(estimators=[('lr', LogisticRegression(max_iter=3000)),\n",
       "                             ('sgd', SGDClassifier(max_iter=3000)),\n",
       "                             ('knn', KNeighborsClassifier()),\n",
       "                             ('rf', RandomForestClassifier())])"
      ]
     },
     "execution_count": 28,
     "metadata": {},
     "output_type": "execute_result"
    }
   ],
   "source": [
    "voting_classifier.fit(X_train, y_train)"
   ]
  },
  {
   "cell_type": "code",
   "execution_count": 29,
   "id": "f103e0b1",
   "metadata": {},
   "outputs": [
    {
     "data": {
      "text/plain": [
       "0.6072524942440521"
      ]
     },
     "execution_count": 29,
     "metadata": {},
     "output_type": "execute_result"
    }
   ],
   "source": [
    "voting_accuracy = accuracy_score(y_test, voting_classifier.predict(X_test))\n",
    "voting_accuracy"
   ]
  },
  {
   "cell_type": "markdown",
   "id": "2b114529",
   "metadata": {},
   "source": [
    "<details><summary>💡 Observations</summary><br>\n",
    "    The performance should be in the lower 60%, so not as good as our bagged algorithm. This is because we are not weighting our outputs (see below).</details>"
   ]
  },
  {
   "cell_type": "markdown",
   "id": "edea4bbd",
   "metadata": {},
   "source": [
    "## `StackingClassifier`\n",
    "\n",
    "The `VotingClassifier` is somewhat limited in that it takes the output of our classifiers, and simply uses this to come up to a classification. You can, of course, also work with the `weights` hyperparameter of this class to give different weights to the output of each individual classifier. In theory, you could tweak those using a `GridSearchCV` or `RandomizedSearchCV`: feel free to try this if you want.\n",
    "\n",
    "But I think that a better way to go forward is to use a `StackingClassifier`: unlike a `VotingClassifier`, the strategy behind a `StackingClassifier` is to train one final model that uses the output of your stacked models as inputs. In other words, we can train any model we want (even neural networks!) on the output of the different classifiers.\n",
    "\n",
    "Let's go ahead and do this using the same list of models as above for our `StackingClassifier`, but in addition, using another `LogisticRegression` as our `final_estimator`. Use a `cv=5` to train your `StackingClassifier` (as always, consult the <a href=\"https://scikit-learn.org/stable/modules/generated/sklearn.ensemble.StackingClassifier.html\">sklearn documentation</a> if you want to learn how to properly use this classifier.\n",
    "\n",
    "Save your `X_test` accuracy score under a variable named `stacking_accuracy`."
   ]
  },
  {
   "cell_type": "code",
   "execution_count": 30,
   "id": "670b6060",
   "metadata": {},
   "outputs": [
    {
     "data": {
      "text/html": [
       "<style>#sk-container-id-4 {color: black;}#sk-container-id-4 pre{padding: 0;}#sk-container-id-4 div.sk-toggleable {background-color: white;}#sk-container-id-4 label.sk-toggleable__label {cursor: pointer;display: block;width: 100%;margin-bottom: 0;padding: 0.3em;box-sizing: border-box;text-align: center;}#sk-container-id-4 label.sk-toggleable__label-arrow:before {content: \"▸\";float: left;margin-right: 0.25em;color: #696969;}#sk-container-id-4 label.sk-toggleable__label-arrow:hover:before {color: black;}#sk-container-id-4 div.sk-estimator:hover label.sk-toggleable__label-arrow:before {color: black;}#sk-container-id-4 div.sk-toggleable__content {max-height: 0;max-width: 0;overflow: hidden;text-align: left;background-color: #f0f8ff;}#sk-container-id-4 div.sk-toggleable__content pre {margin: 0.2em;color: black;border-radius: 0.25em;background-color: #f0f8ff;}#sk-container-id-4 input.sk-toggleable__control:checked~div.sk-toggleable__content {max-height: 200px;max-width: 100%;overflow: auto;}#sk-container-id-4 input.sk-toggleable__control:checked~label.sk-toggleable__label-arrow:before {content: \"▾\";}#sk-container-id-4 div.sk-estimator input.sk-toggleable__control:checked~label.sk-toggleable__label {background-color: #d4ebff;}#sk-container-id-4 div.sk-label input.sk-toggleable__control:checked~label.sk-toggleable__label {background-color: #d4ebff;}#sk-container-id-4 input.sk-hidden--visually {border: 0;clip: rect(1px 1px 1px 1px);clip: rect(1px, 1px, 1px, 1px);height: 1px;margin: -1px;overflow: hidden;padding: 0;position: absolute;width: 1px;}#sk-container-id-4 div.sk-estimator {font-family: monospace;background-color: #f0f8ff;border: 1px dotted black;border-radius: 0.25em;box-sizing: border-box;margin-bottom: 0.5em;}#sk-container-id-4 div.sk-estimator:hover {background-color: #d4ebff;}#sk-container-id-4 div.sk-parallel-item::after {content: \"\";width: 100%;border-bottom: 1px solid gray;flex-grow: 1;}#sk-container-id-4 div.sk-label:hover label.sk-toggleable__label {background-color: #d4ebff;}#sk-container-id-4 div.sk-serial::before {content: \"\";position: absolute;border-left: 1px solid gray;box-sizing: border-box;top: 0;bottom: 0;left: 50%;z-index: 0;}#sk-container-id-4 div.sk-serial {display: flex;flex-direction: column;align-items: center;background-color: white;padding-right: 0.2em;padding-left: 0.2em;position: relative;}#sk-container-id-4 div.sk-item {position: relative;z-index: 1;}#sk-container-id-4 div.sk-parallel {display: flex;align-items: stretch;justify-content: center;background-color: white;position: relative;}#sk-container-id-4 div.sk-item::before, #sk-container-id-4 div.sk-parallel-item::before {content: \"\";position: absolute;border-left: 1px solid gray;box-sizing: border-box;top: 0;bottom: 0;left: 50%;z-index: -1;}#sk-container-id-4 div.sk-parallel-item {display: flex;flex-direction: column;z-index: 1;position: relative;background-color: white;}#sk-container-id-4 div.sk-parallel-item:first-child::after {align-self: flex-end;width: 50%;}#sk-container-id-4 div.sk-parallel-item:last-child::after {align-self: flex-start;width: 50%;}#sk-container-id-4 div.sk-parallel-item:only-child::after {width: 0;}#sk-container-id-4 div.sk-dashed-wrapped {border: 1px dashed gray;margin: 0 0.4em 0.5em 0.4em;box-sizing: border-box;padding-bottom: 0.4em;background-color: white;}#sk-container-id-4 div.sk-label label {font-family: monospace;font-weight: bold;display: inline-block;line-height: 1.2em;}#sk-container-id-4 div.sk-label-container {text-align: center;}#sk-container-id-4 div.sk-container {/* jupyter's `normalize.less` sets `[hidden] { display: none; }` but bootstrap.min.css set `[hidden] { display: none !important; }` so we also need the `!important` here to be able to override the default hidden behavior on the sphinx rendered scikit-learn.org. See: https://github.com/scikit-learn/scikit-learn/issues/21755 */display: inline-block !important;position: relative;}#sk-container-id-4 div.sk-text-repr-fallback {display: none;}</style><div id=\"sk-container-id-4\" class=\"sk-top-container\"><div class=\"sk-text-repr-fallback\"><pre>StackingClassifier(cv=5,\n",
       "                   estimators=[(&#x27;lr&#x27;, LogisticRegression(max_iter=3000)),\n",
       "                               (&#x27;sgd&#x27;, SGDClassifier(max_iter=3000)),\n",
       "                               (&#x27;knn&#x27;, KNeighborsClassifier()),\n",
       "                               (&#x27;rf&#x27;, RandomForestClassifier())],\n",
       "                   final_estimator=LogisticRegression(max_iter=1000))</pre><b>In a Jupyter environment, please rerun this cell to show the HTML representation or trust the notebook. <br />On GitHub, the HTML representation is unable to render, please try loading this page with nbviewer.org.</b></div><div class=\"sk-container\" hidden><div class=\"sk-item sk-dashed-wrapped\"><div class=\"sk-label-container\"><div class=\"sk-label sk-toggleable\"><input class=\"sk-toggleable__control sk-hidden--visually\" id=\"sk-estimator-id-16\" type=\"checkbox\" ><label for=\"sk-estimator-id-16\" class=\"sk-toggleable__label sk-toggleable__label-arrow\">StackingClassifier</label><div class=\"sk-toggleable__content\"><pre>StackingClassifier(cv=5,\n",
       "                   estimators=[(&#x27;lr&#x27;, LogisticRegression(max_iter=3000)),\n",
       "                               (&#x27;sgd&#x27;, SGDClassifier(max_iter=3000)),\n",
       "                               (&#x27;knn&#x27;, KNeighborsClassifier()),\n",
       "                               (&#x27;rf&#x27;, RandomForestClassifier())],\n",
       "                   final_estimator=LogisticRegression(max_iter=1000))</pre></div></div></div><div class=\"sk-serial\"><div class=\"sk-item\"><div class=\"sk-parallel\"><div class=\"sk-parallel-item\"><div class=\"sk-item\"><div class=\"sk-label-container\"><div class=\"sk-label sk-toggleable\"><label>lr</label></div></div><div class=\"sk-serial\"><div class=\"sk-item\"><div class=\"sk-estimator sk-toggleable\"><input class=\"sk-toggleable__control sk-hidden--visually\" id=\"sk-estimator-id-17\" type=\"checkbox\" ><label for=\"sk-estimator-id-17\" class=\"sk-toggleable__label sk-toggleable__label-arrow\">LogisticRegression</label><div class=\"sk-toggleable__content\"><pre>LogisticRegression(max_iter=3000)</pre></div></div></div></div></div></div><div class=\"sk-parallel-item\"><div class=\"sk-item\"><div class=\"sk-label-container\"><div class=\"sk-label sk-toggleable\"><label>sgd</label></div></div><div class=\"sk-serial\"><div class=\"sk-item\"><div class=\"sk-estimator sk-toggleable\"><input class=\"sk-toggleable__control sk-hidden--visually\" id=\"sk-estimator-id-18\" type=\"checkbox\" ><label for=\"sk-estimator-id-18\" class=\"sk-toggleable__label sk-toggleable__label-arrow\">SGDClassifier</label><div class=\"sk-toggleable__content\"><pre>SGDClassifier(max_iter=3000)</pre></div></div></div></div></div></div><div class=\"sk-parallel-item\"><div class=\"sk-item\"><div class=\"sk-label-container\"><div class=\"sk-label sk-toggleable\"><label>knn</label></div></div><div class=\"sk-serial\"><div class=\"sk-item\"><div class=\"sk-estimator sk-toggleable\"><input class=\"sk-toggleable__control sk-hidden--visually\" id=\"sk-estimator-id-19\" type=\"checkbox\" ><label for=\"sk-estimator-id-19\" class=\"sk-toggleable__label sk-toggleable__label-arrow\">KNeighborsClassifier</label><div class=\"sk-toggleable__content\"><pre>KNeighborsClassifier()</pre></div></div></div></div></div></div><div class=\"sk-parallel-item\"><div class=\"sk-item\"><div class=\"sk-label-container\"><div class=\"sk-label sk-toggleable\"><label>rf</label></div></div><div class=\"sk-serial\"><div class=\"sk-item\"><div class=\"sk-estimator sk-toggleable\"><input class=\"sk-toggleable__control sk-hidden--visually\" id=\"sk-estimator-id-20\" type=\"checkbox\" ><label for=\"sk-estimator-id-20\" class=\"sk-toggleable__label sk-toggleable__label-arrow\">RandomForestClassifier</label><div class=\"sk-toggleable__content\"><pre>RandomForestClassifier()</pre></div></div></div></div></div></div></div></div><div class=\"sk-item\"><div class=\"sk-parallel\"><div class=\"sk-parallel-item\"><div class=\"sk-item\"><div class=\"sk-label-container\"><div class=\"sk-label sk-toggleable\"><label>final_estimator</label></div></div><div class=\"sk-serial\"><div class=\"sk-item\"><div class=\"sk-estimator sk-toggleable\"><input class=\"sk-toggleable__control sk-hidden--visually\" id=\"sk-estimator-id-21\" type=\"checkbox\" ><label for=\"sk-estimator-id-21\" class=\"sk-toggleable__label sk-toggleable__label-arrow\">LogisticRegression</label><div class=\"sk-toggleable__content\"><pre>LogisticRegression(max_iter=1000)</pre></div></div></div></div></div></div></div></div></div></div></div></div>"
      ],
      "text/plain": [
       "StackingClassifier(cv=5,\n",
       "                   estimators=[('lr', LogisticRegression(max_iter=3000)),\n",
       "                               ('sgd', SGDClassifier(max_iter=3000)),\n",
       "                               ('knn', KNeighborsClassifier()),\n",
       "                               ('rf', RandomForestClassifier())],\n",
       "                   final_estimator=LogisticRegression(max_iter=1000))"
      ]
     },
     "execution_count": 30,
     "metadata": {},
     "output_type": "execute_result"
    }
   ],
   "source": [
    "from sklearn.ensemble import StackingClassifier\n",
    "\n",
    "stacking_model = StackingClassifier(estimators = estimators,final_estimator= LogisticRegression(max_iter=1000), cv=5)\n",
    "\n",
    "stacking_model.fit(X_train, y_train)"
   ]
  },
  {
   "cell_type": "code",
   "execution_count": 31,
   "id": "a40f703c",
   "metadata": {},
   "outputs": [
    {
     "data": {
      "text/plain": [
       "0.672102839600921"
      ]
     },
     "execution_count": 31,
     "metadata": {},
     "output_type": "execute_result"
    }
   ],
   "source": [
    "stacking_accuracy = accuracy_score(y_test, stacking_model.predict(X_test))\n",
    "stacking_accuracy"
   ]
  },
  {
   "cell_type": "markdown",
   "id": "06a49847",
   "metadata": {},
   "source": [
    "<details><summary>💡 Observations</summary><br>\n",
    "    This time, we outperform our RandomForestClassifier by about 2%. This is already better, but not yet >70%. Don't worry: we will achieve this in our next exercise.</details>"
   ]
  },
  {
   "cell_type": "markdown",
   "id": "41db86a6",
   "metadata": {},
   "source": [
    "# Saving `preproc` to reuse it\n",
    "\n",
    "Well done! You are nearly done. In the next exercise, we will reuse the same dataset, and thus we will need to use the same `preproc` pipeline. We could of course simply rewrite the code, and retrain `preproc`. The pipeline is simple enough that this won't be any trouble.\n",
    "\n",
    "However, we will use this as an opportunity to learn how to save and open `sklearn` transformers and models to disk. This means you can save an `sklearn` object, and send it to whoever needs to use it.\n",
    "\n",
    "For this, we will simply use the `joblib` library: <a href=\"https://scikit-learn.org/stable/model_persistence.html\">read to sklearn documentation</a> to know why to use joblib rather than pickle, and how to do this. Then, save your trained transformer direction into the folder of the next exervise (use this path: \"../04-XGBoost/preproc.joblib\")"
   ]
  },
  {
   "cell_type": "code",
   "execution_count": null,
   "id": "a9676f4d",
   "metadata": {},
   "outputs": [],
   "source": [
    "from joblib import dump\n",
    "\n",
    "dump(preproc, '../04-XGBoost/preproc.joblib')"
   ]
  },
  {
   "cell_type": "markdown",
   "id": "3379524d",
   "metadata": {},
   "source": [
    "### ☑️ Test your code"
   ]
  },
  {
   "cell_type": "code",
   "execution_count": null,
   "id": "edd2cf7a",
   "metadata": {},
   "outputs": [],
   "source": [
    "from nbresult import ChallengeResult\n",
    "\n",
    "result = ChallengeResult('stacking_score',\n",
    "                         voting_score = voting_accuracy,\n",
    "                         stacking_score =  stacking_accuracy\n",
    ")\n",
    "\n",
    "result.write()\n",
    "print(result.check())"
   ]
  },
  {
   "cell_type": "markdown",
   "id": "0f449637",
   "metadata": {},
   "source": [
    "# 🏁 Finished!\n",
    "\n",
    "Well done! <span style=\"color:teal\">**Push your exercise to GitHub**</span>, and move on to the next one."
   ]
  }
 ],
 "metadata": {
  "kernelspec": {
   "display_name": "ese-msc",
   "language": "python",
   "name": "python3"
  },
  "language_info": {
   "codemirror_mode": {
    "name": "ipython",
    "version": 3
   },
   "file_extension": ".py",
   "mimetype": "text/x-python",
   "name": "python",
   "nbconvert_exporter": "python",
   "pygments_lexer": "ipython3",
   "version": "3.11.5"
  }
 },
 "nbformat": 4,
 "nbformat_minor": 5
}
