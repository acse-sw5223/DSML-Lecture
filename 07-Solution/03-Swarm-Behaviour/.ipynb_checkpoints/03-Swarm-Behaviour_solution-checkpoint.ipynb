{
 "cells": [
  {
   "cell_type": "markdown",
   "id": "37b05ff4-0927-40da-b739-2de21e7f8efe",
   "metadata": {},
   "source": [
    "<img src=\"https://drive.google.com/uc?id=1-d7H1l1lJ28_sLcd9Vvh_N-yro7CJZcZ\" style=\"Width:1000px\">"
   ]
  },
  {
   "cell_type": "markdown",
   "id": "e30be0e2-7de1-4391-8a06-a9b3a3eced16",
   "metadata": {},
   "source": [
    "# 🐝 Swarm Behaviour\n",
    "\n",
    "And now for something completely different! We will leave the `Ensemble` methods for a little while, and come back to binary classifiers. This Data Problem is a modified version of one of the questions that I asked during the assessment in 2021, so this give you a flair for the practical to come. Note that this is a relatively open-ended question. Generally, I also ask a few questions that are more targetted first, and the opened ended question comes at the end. The open ended question is really here for you to show how much you have learned as a data scientists. \n",
    "\n",
    "What I am looking for in an open-ended data science problem is:\n",
    "\n",
    "1. A good solution to the problem asked\n",
    "2. Clean code\n",
    "3. That you demonstrate your skills. Remember, if you have not put it on the notebook, I don't see it, so I can't know you have done it (and I won't take your word for it)\n",
    "4. I also don't want unnecessary code and approaches, and this can impact your grade negatively as it goes against clean code (point number 2).\n",
    "\n",
    "## Run the cell below to load the data"
   ]
  },
  {
   "cell_type": "code",
   "execution_count": 49,
   "id": "31cb6168-034e-423b-a353-1f38955818bb",
   "metadata": {},
   "outputs": [
    {
     "name": "stdout",
     "output_type": "stream",
     "text": [
      "100% [..........................................................................] 1704541 / 1704541"
     ]
    }
   ],
   "source": [
    "from nbta.utils import download_data\n",
    "download_data(id='1JlFoFCQ5eA5WVYuN_AidPx8ypfSkEAgD')"
   ]
  },
  {
   "cell_type": "code",
   "execution_count": 50,
   "id": "7a93b799-cda6-4c2c-8749-81a09278da66",
   "metadata": {
    "ExecuteTime": {
     "end_time": "2021-11-15T13:51:28.764234Z",
     "start_time": "2021-11-15T13:51:27.640309Z"
    },
    "tags": []
   },
   "outputs": [
    {
     "data": {
      "text/html": [
       "<div>\n",
       "<style scoped>\n",
       "    .dataframe tbody tr th:only-of-type {\n",
       "        vertical-align: middle;\n",
       "    }\n",
       "\n",
       "    .dataframe tbody tr th {\n",
       "        vertical-align: top;\n",
       "    }\n",
       "\n",
       "    .dataframe thead th {\n",
       "        text-align: right;\n",
       "    }\n",
       "</style>\n",
       "<table border=\"1\" class=\"dataframe\">\n",
       "  <thead>\n",
       "    <tr style=\"text-align: right;\">\n",
       "      <th></th>\n",
       "      <th>yC187</th>\n",
       "      <th>yC148</th>\n",
       "      <th>yC7</th>\n",
       "      <th>yC111</th>\n",
       "      <th>yC32</th>\n",
       "      <th>xC54</th>\n",
       "      <th>xC148</th>\n",
       "      <th>yC193</th>\n",
       "      <th>xC61</th>\n",
       "      <th>yC81</th>\n",
       "      <th>...</th>\n",
       "      <th>yS14</th>\n",
       "      <th>xS2</th>\n",
       "      <th>yS6</th>\n",
       "      <th>yC65</th>\n",
       "      <th>xC18</th>\n",
       "      <th>nS64</th>\n",
       "      <th>yC166</th>\n",
       "      <th>nS55</th>\n",
       "      <th>yS122</th>\n",
       "      <th>Swarm_Behaviour</th>\n",
       "    </tr>\n",
       "  </thead>\n",
       "  <tbody>\n",
       "    <tr>\n",
       "      <th>0</th>\n",
       "      <td>0.0</td>\n",
       "      <td>0.0</td>\n",
       "      <td>0.00</td>\n",
       "      <td>0.0</td>\n",
       "      <td>0.0</td>\n",
       "      <td>0.0</td>\n",
       "      <td>0.0</td>\n",
       "      <td>0.00</td>\n",
       "      <td>0.0</td>\n",
       "      <td>0.0</td>\n",
       "      <td>...</td>\n",
       "      <td>0.00</td>\n",
       "      <td>0.00</td>\n",
       "      <td>0.00</td>\n",
       "      <td>0.00</td>\n",
       "      <td>0.00</td>\n",
       "      <td>0.0</td>\n",
       "      <td>0.000</td>\n",
       "      <td>0.0</td>\n",
       "      <td>0.00</td>\n",
       "      <td>0.0</td>\n",
       "    </tr>\n",
       "    <tr>\n",
       "      <th>1</th>\n",
       "      <td>0.0</td>\n",
       "      <td>0.0</td>\n",
       "      <td>0.00</td>\n",
       "      <td>0.0</td>\n",
       "      <td>0.0</td>\n",
       "      <td>0.0</td>\n",
       "      <td>0.0</td>\n",
       "      <td>0.00</td>\n",
       "      <td>0.0</td>\n",
       "      <td>0.0</td>\n",
       "      <td>...</td>\n",
       "      <td>0.00</td>\n",
       "      <td>0.00</td>\n",
       "      <td>0.00</td>\n",
       "      <td>0.00</td>\n",
       "      <td>0.00</td>\n",
       "      <td>0.0</td>\n",
       "      <td>0.000</td>\n",
       "      <td>0.0</td>\n",
       "      <td>0.00</td>\n",
       "      <td>0.0</td>\n",
       "    </tr>\n",
       "    <tr>\n",
       "      <th>2</th>\n",
       "      <td>0.0</td>\n",
       "      <td>0.0</td>\n",
       "      <td>0.00</td>\n",
       "      <td>0.0</td>\n",
       "      <td>0.0</td>\n",
       "      <td>0.0</td>\n",
       "      <td>0.0</td>\n",
       "      <td>0.00</td>\n",
       "      <td>0.0</td>\n",
       "      <td>0.0</td>\n",
       "      <td>...</td>\n",
       "      <td>0.00</td>\n",
       "      <td>0.00</td>\n",
       "      <td>0.00</td>\n",
       "      <td>0.00</td>\n",
       "      <td>0.00</td>\n",
       "      <td>0.0</td>\n",
       "      <td>0.000</td>\n",
       "      <td>0.0</td>\n",
       "      <td>0.00</td>\n",
       "      <td>0.0</td>\n",
       "    </tr>\n",
       "    <tr>\n",
       "      <th>3</th>\n",
       "      <td>0.0</td>\n",
       "      <td>0.0</td>\n",
       "      <td>24.75</td>\n",
       "      <td>50.0</td>\n",
       "      <td>100.0</td>\n",
       "      <td>0.0</td>\n",
       "      <td>0.0</td>\n",
       "      <td>18.00</td>\n",
       "      <td>1.0</td>\n",
       "      <td>0.0</td>\n",
       "      <td>...</td>\n",
       "      <td>0.00</td>\n",
       "      <td>0.00</td>\n",
       "      <td>-0.79</td>\n",
       "      <td>12.50</td>\n",
       "      <td>-9.00</td>\n",
       "      <td>1.0</td>\n",
       "      <td>12.500</td>\n",
       "      <td>0.0</td>\n",
       "      <td>-1.19</td>\n",
       "      <td>1.0</td>\n",
       "    </tr>\n",
       "    <tr>\n",
       "      <th>4</th>\n",
       "      <td>0.0</td>\n",
       "      <td>50.0</td>\n",
       "      <td>24.75</td>\n",
       "      <td>50.0</td>\n",
       "      <td>100.0</td>\n",
       "      <td>0.0</td>\n",
       "      <td>-1.2</td>\n",
       "      <td>17.50</td>\n",
       "      <td>1.0</td>\n",
       "      <td>99.0</td>\n",
       "      <td>...</td>\n",
       "      <td>0.00</td>\n",
       "      <td>0.00</td>\n",
       "      <td>0.00</td>\n",
       "      <td>12.50</td>\n",
       "      <td>-2.25</td>\n",
       "      <td>1.0</td>\n",
       "      <td>12.500</td>\n",
       "      <td>0.0</td>\n",
       "      <td>-1.41</td>\n",
       "      <td>1.0</td>\n",
       "    </tr>\n",
       "    <tr>\n",
       "      <th>...</th>\n",
       "      <td>...</td>\n",
       "      <td>...</td>\n",
       "      <td>...</td>\n",
       "      <td>...</td>\n",
       "      <td>...</td>\n",
       "      <td>...</td>\n",
       "      <td>...</td>\n",
       "      <td>...</td>\n",
       "      <td>...</td>\n",
       "      <td>...</td>\n",
       "      <td>...</td>\n",
       "      <td>...</td>\n",
       "      <td>...</td>\n",
       "      <td>...</td>\n",
       "      <td>...</td>\n",
       "      <td>...</td>\n",
       "      <td>...</td>\n",
       "      <td>...</td>\n",
       "      <td>...</td>\n",
       "      <td>...</td>\n",
       "      <td>...</td>\n",
       "    </tr>\n",
       "    <tr>\n",
       "      <th>3491</th>\n",
       "      <td>15.0</td>\n",
       "      <td>48.5</td>\n",
       "      <td>24.00</td>\n",
       "      <td>20.0</td>\n",
       "      <td>-85.0</td>\n",
       "      <td>0.0</td>\n",
       "      <td>-4.6</td>\n",
       "      <td>-19.25</td>\n",
       "      <td>3.0</td>\n",
       "      <td>4.0</td>\n",
       "      <td>...</td>\n",
       "      <td>0.00</td>\n",
       "      <td>0.00</td>\n",
       "      <td>0.00</td>\n",
       "      <td>-1.75</td>\n",
       "      <td>-12.75</td>\n",
       "      <td>0.0</td>\n",
       "      <td>10.750</td>\n",
       "      <td>0.0</td>\n",
       "      <td>0.00</td>\n",
       "      <td>1.0</td>\n",
       "    </tr>\n",
       "    <tr>\n",
       "      <th>3492</th>\n",
       "      <td>100.0</td>\n",
       "      <td>50.0</td>\n",
       "      <td>25.00</td>\n",
       "      <td>50.0</td>\n",
       "      <td>100.0</td>\n",
       "      <td>0.0</td>\n",
       "      <td>-0.4</td>\n",
       "      <td>25.00</td>\n",
       "      <td>-1.5</td>\n",
       "      <td>100.0</td>\n",
       "      <td>...</td>\n",
       "      <td>0.00</td>\n",
       "      <td>0.00</td>\n",
       "      <td>0.00</td>\n",
       "      <td>12.50</td>\n",
       "      <td>-0.75</td>\n",
       "      <td>0.0</td>\n",
       "      <td>12.500</td>\n",
       "      <td>1.0</td>\n",
       "      <td>0.00</td>\n",
       "      <td>1.0</td>\n",
       "    </tr>\n",
       "    <tr>\n",
       "      <th>3493</th>\n",
       "      <td>0.0</td>\n",
       "      <td>0.0</td>\n",
       "      <td>0.00</td>\n",
       "      <td>0.0</td>\n",
       "      <td>0.0</td>\n",
       "      <td>0.0</td>\n",
       "      <td>0.0</td>\n",
       "      <td>0.00</td>\n",
       "      <td>0.0</td>\n",
       "      <td>0.0</td>\n",
       "      <td>...</td>\n",
       "      <td>0.00</td>\n",
       "      <td>0.00</td>\n",
       "      <td>0.00</td>\n",
       "      <td>0.00</td>\n",
       "      <td>0.00</td>\n",
       "      <td>0.0</td>\n",
       "      <td>0.000</td>\n",
       "      <td>1.0</td>\n",
       "      <td>0.00</td>\n",
       "      <td>0.0</td>\n",
       "    </tr>\n",
       "    <tr>\n",
       "      <th>3494</th>\n",
       "      <td>-15.0</td>\n",
       "      <td>10.5</td>\n",
       "      <td>-2.00</td>\n",
       "      <td>0.5</td>\n",
       "      <td>-17.0</td>\n",
       "      <td>-19.0</td>\n",
       "      <td>-4.8</td>\n",
       "      <td>-1.00</td>\n",
       "      <td>-16.0</td>\n",
       "      <td>4.0</td>\n",
       "      <td>...</td>\n",
       "      <td>-0.64</td>\n",
       "      <td>-1.57</td>\n",
       "      <td>0.00</td>\n",
       "      <td>4.00</td>\n",
       "      <td>-8.00</td>\n",
       "      <td>1.0</td>\n",
       "      <td>1.125</td>\n",
       "      <td>1.0</td>\n",
       "      <td>0.00</td>\n",
       "      <td>1.0</td>\n",
       "    </tr>\n",
       "    <tr>\n",
       "      <th>3495</th>\n",
       "      <td>0.0</td>\n",
       "      <td>0.0</td>\n",
       "      <td>0.00</td>\n",
       "      <td>0.0</td>\n",
       "      <td>0.0</td>\n",
       "      <td>0.0</td>\n",
       "      <td>0.0</td>\n",
       "      <td>0.00</td>\n",
       "      <td>0.0</td>\n",
       "      <td>0.0</td>\n",
       "      <td>...</td>\n",
       "      <td>0.00</td>\n",
       "      <td>0.00</td>\n",
       "      <td>0.00</td>\n",
       "      <td>0.00</td>\n",
       "      <td>0.00</td>\n",
       "      <td>1.0</td>\n",
       "      <td>0.000</td>\n",
       "      <td>1.0</td>\n",
       "      <td>0.00</td>\n",
       "      <td>0.0</td>\n",
       "    </tr>\n",
       "  </tbody>\n",
       "</table>\n",
       "<p>3496 rows × 292 columns</p>\n",
       "</div>"
      ],
      "text/plain": [
       "      yC187  yC148    yC7  yC111   yC32  xC54  xC148  yC193  xC61   yC81  ...  \\\n",
       "0       0.0    0.0   0.00    0.0    0.0   0.0    0.0   0.00   0.0    0.0  ...   \n",
       "1       0.0    0.0   0.00    0.0    0.0   0.0    0.0   0.00   0.0    0.0  ...   \n",
       "2       0.0    0.0   0.00    0.0    0.0   0.0    0.0   0.00   0.0    0.0  ...   \n",
       "3       0.0    0.0  24.75   50.0  100.0   0.0    0.0  18.00   1.0    0.0  ...   \n",
       "4       0.0   50.0  24.75   50.0  100.0   0.0   -1.2  17.50   1.0   99.0  ...   \n",
       "...     ...    ...    ...    ...    ...   ...    ...    ...   ...    ...  ...   \n",
       "3491   15.0   48.5  24.00   20.0  -85.0   0.0   -4.6 -19.25   3.0    4.0  ...   \n",
       "3492  100.0   50.0  25.00   50.0  100.0   0.0   -0.4  25.00  -1.5  100.0  ...   \n",
       "3493    0.0    0.0   0.00    0.0    0.0   0.0    0.0   0.00   0.0    0.0  ...   \n",
       "3494  -15.0   10.5  -2.00    0.5  -17.0 -19.0   -4.8  -1.00 -16.0    4.0  ...   \n",
       "3495    0.0    0.0   0.00    0.0    0.0   0.0    0.0   0.00   0.0    0.0  ...   \n",
       "\n",
       "      yS14   xS2   yS6   yC65   xC18  nS64   yC166  nS55  yS122  \\\n",
       "0     0.00  0.00  0.00   0.00   0.00   0.0   0.000   0.0   0.00   \n",
       "1     0.00  0.00  0.00   0.00   0.00   0.0   0.000   0.0   0.00   \n",
       "2     0.00  0.00  0.00   0.00   0.00   0.0   0.000   0.0   0.00   \n",
       "3     0.00  0.00 -0.79  12.50  -9.00   1.0  12.500   0.0  -1.19   \n",
       "4     0.00  0.00  0.00  12.50  -2.25   1.0  12.500   0.0  -1.41   \n",
       "...    ...   ...   ...    ...    ...   ...     ...   ...    ...   \n",
       "3491  0.00  0.00  0.00  -1.75 -12.75   0.0  10.750   0.0   0.00   \n",
       "3492  0.00  0.00  0.00  12.50  -0.75   0.0  12.500   1.0   0.00   \n",
       "3493  0.00  0.00  0.00   0.00   0.00   0.0   0.000   1.0   0.00   \n",
       "3494 -0.64 -1.57  0.00   4.00  -8.00   1.0   1.125   1.0   0.00   \n",
       "3495  0.00  0.00  0.00   0.00   0.00   1.0   0.000   1.0   0.00   \n",
       "\n",
       "      Swarm_Behaviour  \n",
       "0                 0.0  \n",
       "1                 0.0  \n",
       "2                 0.0  \n",
       "3                 1.0  \n",
       "4                 1.0  \n",
       "...               ...  \n",
       "3491              1.0  \n",
       "3492              1.0  \n",
       "3493              0.0  \n",
       "3494              1.0  \n",
       "3495              0.0  \n",
       "\n",
       "[3496 rows x 292 columns]"
      ]
     },
     "execution_count": 50,
     "metadata": {},
     "output_type": "execute_result"
    }
   ],
   "source": [
    "import pandas as pd\n",
    "import numpy as np\n",
    "import matplotlib.pyplot as plt\n",
    "\n",
    "data = pd.read_csv('raw_data/swarm_training.csv')\n",
    "unknown_behaviour =  pd.read_csv('raw_data/unknown_swarm_behaviour.csv')\n",
    "data"
   ]
  },
  {
   "cell_type": "markdown",
   "id": "09c0038b-8839-48c6-bfc0-1d4bd03d2217",
   "metadata": {},
   "source": [
    "## Dataset Description\n",
    "\n",
    "This dataset is about flying species such as birds and insects, and whether they tend to form large groups and 'swarm' when they fly, or not. The dataset contains 50 `features` (different measurement of behaviour) and 1 label (`Swarm_Behaviour`).\n",
    "\n",
    "`Swarm_Behaviour` can take the values 0 (*not swarming*) or 1 (*swarming*).\n",
    "\n",
    "The dataset has already been cleaned, scaled and encoded for you, so you do not need to worry about it. 🧽\n",
    "\n",
    "# What you need to do\n",
    "\n",
    "You are a data scientist working for a non-profit looking at endangered eco-systems. You are given the dataset above, and are asked to train a `LogisticRegression` model to predict `Swarm_Behaviour` in new, unseen samples. \n",
    "\n",
    "Your bosses also give you the following directions:\n",
    "* The algorithm needs to be a `LogisticRegression` algorithm - Upper management will discard any model more complex\n",
    "* You need to train your model to achieve the highest possible **precision** using the labelled dataset (`data`) above \n",
    "* However, management requires your algorithm to have a **recall** of ***at least 70%***\n",
    "* Once you are happy with your final trained algorithm, you are asked to save it into a variable named `final_model` \n",
    "* You are then asked to make predictions about the swarming behaviour of unclassified species given in the `unknown_behaviour` dataframe above, and to save your predictions in a variable named `predictions`\n",
    "\n",
    "GOOD LUCK! 🧧"
   ]
  },
  {
   "cell_type": "markdown",
   "id": "bdfb39af-721d-4ccb-8ceb-9f2dc584465d",
   "metadata": {},
   "source": [
    "<strong style=\"color:red\">==========================================================BEGIN-SOLUTION==========================================================</strong>"
   ]
  },
  {
   "cell_type": "markdown",
   "id": "24a91194-7c18-46e9-ae6f-b14bc8417567",
   "metadata": {},
   "source": [
    "<h1 style=\"color:green\">FAIR WARNING:</h1>\n",
    "<p>This solution is quite complete, and this is <strong style=\"color:blue\">more than what you need to do to get a first class mark</strong> at the test. But it gives you a good idea of what a possible first class solution is, and what the best practice approach would be.</p>"
   ]
  },
  {
   "cell_type": "markdown",
   "id": "51e72cda-4a2c-4684-8295-0f637ad60309",
   "metadata": {},
   "source": [
    "## Baseline score\n",
    "\n",
    "We first thing we will need is to estimate our baseline score, and check the distribution of our labels."
   ]
  },
  {
   "cell_type": "code",
   "execution_count": 51,
   "id": "a86acffd-ede1-4b65-8418-885fcbb5cb92",
   "metadata": {
    "ExecuteTime": {
     "end_time": "2021-11-15T13:51:38.442551Z",
     "start_time": "2021-11-15T13:51:38.400086Z"
    },
    "tags": []
   },
   "outputs": [],
   "source": [
    "# SOLUTION\n",
    "\n",
    "from sklearn.inspection import permutation_importance\n",
    "from sklearn.linear_model import LogisticRegression\n",
    "from sklearn.model_selection import train_test_split\n",
    "\n",
    "data_sm = data.copy()\n",
    "\n",
    "X = data_sm.drop('Swarm_Behaviour', axis=1)\n",
    "y = data_sm['Swarm_Behaviour'].copy()\n",
    "\n",
    "# Initial split\n",
    "X_train, X_test, y_train, y_test = train_test_split(X, y, test_size=.3, random_state=42)"
   ]
  },
  {
   "cell_type": "code",
   "execution_count": 52,
   "id": "dcf47b0d-c4f8-4bcc-aa70-efcf95afa2b2",
   "metadata": {},
   "outputs": [
    {
     "data": {
      "text/plain": [
       "Swarm_Behaviour\n",
       "0.0    1620\n",
       "1.0     827\n",
       "Name: count, dtype: int64"
      ]
     },
     "execution_count": 52,
     "metadata": {},
     "output_type": "execute_result"
    }
   ],
   "source": [
    "y_train.value_counts()"
   ]
  },
  {
   "cell_type": "markdown",
   "id": "ae5beb25-ddbd-4a66-80ed-e89127bb61c3",
   "metadata": {},
   "source": [
    "***Conclusions:*** this is a very imbalanced dataset!\n",
    "\n",
    "## DummyClassifier score\n",
    "Let's score our model on a `DummyClassifier` using a \"stratified\" strategy (so we sample the data proportional to their distribution):"
   ]
  },
  {
   "cell_type": "code",
   "execution_count": 53,
   "id": "e6606e82-d2a3-4b6e-9f9c-9dd3c491fa0b",
   "metadata": {},
   "outputs": [],
   "source": [
    "from sklearn.dummy import DummyClassifier\n",
    "from sklearn.metrics import precision_score, recall_score\n",
    "\n",
    "dummy = DummyClassifier(strategy=\"stratified\", random_state=42).fit(X_train, y_train)"
   ]
  },
  {
   "cell_type": "code",
   "execution_count": 54,
   "id": "bbb21ae3-68db-4799-ba99-eb019dd2abe0",
   "metadata": {},
   "outputs": [
    {
     "data": {
      "text/plain": [
       "0.34761321909424725"
      ]
     },
     "execution_count": 54,
     "metadata": {},
     "output_type": "execute_result"
    }
   ],
   "source": [
    "# What is our dummy precision?\n",
    "precision_score(y_train, dummy.predict(X_train))"
   ]
  },
  {
   "cell_type": "code",
   "execution_count": 55,
   "id": "367648d4-09c7-42ec-8f0e-799d603ec05d",
   "metadata": {},
   "outputs": [
    {
     "data": {
      "text/plain": [
       "0.343409915356711"
      ]
     },
     "execution_count": 55,
     "metadata": {},
     "output_type": "execute_result"
    }
   ],
   "source": [
    "# What is our dummy recall?\n",
    "recall_score(y_train, dummy.predict(X_train))"
   ]
  },
  {
   "cell_type": "markdown",
   "id": "0fe926e6-f373-4eb1-94f9-c81c32b4d505",
   "metadata": {},
   "source": [
    "These are pretty low score, and definitely do not meet our threshold! Let's see if a simple `LogisticRegression` would be enough to solve our problem.\n",
    "\n",
    "# Simple LogisticRegression"
   ]
  },
  {
   "cell_type": "code",
   "execution_count": 56,
   "id": "ca4d385b-5618-4cfa-83c3-5db92fd5a511",
   "metadata": {
    "ExecuteTime": {
     "end_time": "2021-11-15T13:51:41.760163Z",
     "start_time": "2021-11-15T13:51:38.444382Z"
    },
    "tags": []
   },
   "outputs": [],
   "source": [
    "from sklearn.linear_model import LogisticRegression\n",
    "\n",
    "baseline_model = LogisticRegression(max_iter=5000).fit(X_train, y_train)"
   ]
  },
  {
   "cell_type": "code",
   "execution_count": 57,
   "id": "3e47898e-56e1-4d2b-ad35-60361bd6abc0",
   "metadata": {
    "ExecuteTime": {
     "end_time": "2021-11-15T14:00:56.756011Z",
     "start_time": "2021-11-15T14:00:56.748832Z"
    },
    "tags": []
   },
   "outputs": [],
   "source": [
    "predictions_proba_baseline = baseline_model.predict_proba(X_train)\n",
    "predictions_baseline = baseline_model.predict(X_train)"
   ]
  },
  {
   "cell_type": "code",
   "execution_count": 58,
   "id": "9f91fc21-7568-420c-b96b-bac510f19f0b",
   "metadata": {},
   "outputs": [
    {
     "data": {
      "text/plain": [
       "0.9885204081632653"
      ]
     },
     "execution_count": 58,
     "metadata": {},
     "output_type": "execute_result"
    }
   ],
   "source": [
    "precision_score(y_train,predictions_baseline)"
   ]
  },
  {
   "cell_type": "code",
   "execution_count": 59,
   "id": "e103e582-7c9c-41a7-986b-a798d9ef292c",
   "metadata": {},
   "outputs": [
    {
     "data": {
      "text/plain": [
       "0.9371221281741233"
      ]
     },
     "execution_count": 59,
     "metadata": {},
     "output_type": "execute_result"
    }
   ],
   "source": [
    "recall_score(y_train,predictions_baseline)"
   ]
  },
  {
   "cell_type": "markdown",
   "id": "5f833bb6-4b50-485c-9567-1f3e605d0573",
   "metadata": {},
   "source": [
    "**Conclusions:** We have a good precision and recall, but our recall is much higher than what we need. So we can change the decision threshold to 70% recall, in order to get even higher precision."
   ]
  },
  {
   "cell_type": "markdown",
   "id": "ad53a0b5-b81d-4387-abef-bc222fae7cca",
   "metadata": {},
   "source": [
    "## Adjusting the decision threshold"
   ]
  },
  {
   "cell_type": "code",
   "execution_count": 60,
   "id": "f4cd53de-0f1e-4efd-a3b6-66e8c306def3",
   "metadata": {
    "ExecuteTime": {
     "end_time": "2021-11-15T14:00:56.871209Z",
     "start_time": "2021-11-15T14:00:56.758034Z"
    },
    "tags": []
   },
   "outputs": [
    {
     "data": {
      "image/png": "[encoded data removed]",
      "text/plain": [
       "<Figure size 640x480 with 1 Axes>"
      ]
     },
     "metadata": {},
     "output_type": "display_data"
    }
   ],
   "source": [
    "from sklearn.metrics import precision_recall_curve\n",
    "\n",
    "precision_bl, recall_bl, threshold_bl = precision_recall_curve(y_train, predictions_proba_baseline[:,1],pos_label=1)\n",
    "\n",
    "plt.plot(recall_bl, precision_bl);"
   ]
  },
  {
   "cell_type": "code",
   "execution_count": 61,
   "id": "8b20c4bb-a64b-4d40-867c-9435d9adc72c",
   "metadata": {
    "ExecuteTime": {
     "end_time": "2021-11-15T14:00:56.880453Z",
     "start_time": "2021-11-15T14:00:56.874999Z"
    },
    "tags": []
   },
   "outputs": [],
   "source": [
    "prec_recall_bl_df = pd.DataFrame({'threshold':threshold_bl,\n",
    "              'precision':precision_bl[:-1],\n",
    "             'recall':recall_bl[:-1]})"
   ]
  },
  {
   "cell_type": "code",
   "execution_count": 62,
   "id": "b287a0a7-fdfe-4aaa-b401-4b5db18c4bba",
   "metadata": {
    "ExecuteTime": {
     "end_time": "2021-11-15T14:00:56.899305Z",
     "start_time": "2021-11-15T14:00:56.888048Z"
    },
    "tags": []
   },
   "outputs": [
    {
     "data": {
      "text/html": [
       "<div>\n",
       "<style scoped>\n",
       "    .dataframe tbody tr th:only-of-type {\n",
       "        vertical-align: middle;\n",
       "    }\n",
       "\n",
       "    .dataframe tbody tr th {\n",
       "        vertical-align: top;\n",
       "    }\n",
       "\n",
       "    .dataframe thead th {\n",
       "        text-align: right;\n",
       "    }\n",
       "</style>\n",
       "<table border=\"1\" class=\"dataframe\">\n",
       "  <thead>\n",
       "    <tr style=\"text-align: right;\">\n",
       "      <th></th>\n",
       "      <th>threshold</th>\n",
       "      <th>precision</th>\n",
       "      <th>recall</th>\n",
       "    </tr>\n",
       "  </thead>\n",
       "  <tbody>\n",
       "    <tr>\n",
       "      <th>0</th>\n",
       "      <td>1.000000</td>\n",
       "      <td>1.000000</td>\n",
       "      <td>0.700121</td>\n",
       "    </tr>\n",
       "    <tr>\n",
       "      <th>1</th>\n",
       "      <td>1.000000</td>\n",
       "      <td>1.000000</td>\n",
       "      <td>0.701330</td>\n",
       "    </tr>\n",
       "    <tr>\n",
       "      <th>2</th>\n",
       "      <td>1.000000</td>\n",
       "      <td>1.000000</td>\n",
       "      <td>0.702539</td>\n",
       "    </tr>\n",
       "    <tr>\n",
       "      <th>3</th>\n",
       "      <td>1.000000</td>\n",
       "      <td>1.000000</td>\n",
       "      <td>0.703748</td>\n",
       "    </tr>\n",
       "    <tr>\n",
       "      <th>4</th>\n",
       "      <td>1.000000</td>\n",
       "      <td>1.000000</td>\n",
       "      <td>0.704958</td>\n",
       "    </tr>\n",
       "    <tr>\n",
       "      <th>...</th>\n",
       "      <td>...</td>\n",
       "      <td>...</td>\n",
       "      <td>...</td>\n",
       "    </tr>\n",
       "    <tr>\n",
       "      <th>1765</th>\n",
       "      <td>0.000001</td>\n",
       "      <td>0.426509</td>\n",
       "      <td>1.000000</td>\n",
       "    </tr>\n",
       "    <tr>\n",
       "      <th>1766</th>\n",
       "      <td>0.000001</td>\n",
       "      <td>0.426289</td>\n",
       "      <td>1.000000</td>\n",
       "    </tr>\n",
       "    <tr>\n",
       "      <th>1767</th>\n",
       "      <td>0.000001</td>\n",
       "      <td>0.426069</td>\n",
       "      <td>1.000000</td>\n",
       "    </tr>\n",
       "    <tr>\n",
       "      <th>1768</th>\n",
       "      <td>0.000001</td>\n",
       "      <td>0.425630</td>\n",
       "      <td>1.000000</td>\n",
       "    </tr>\n",
       "    <tr>\n",
       "      <th>1769</th>\n",
       "      <td>0.000000</td>\n",
       "      <td>0.337965</td>\n",
       "      <td>1.000000</td>\n",
       "    </tr>\n",
       "  </tbody>\n",
       "</table>\n",
       "<p>1770 rows × 3 columns</p>\n",
       "</div>"
      ],
      "text/plain": [
       "      threshold  precision    recall\n",
       "0      1.000000   1.000000  0.700121\n",
       "1      1.000000   1.000000  0.701330\n",
       "2      1.000000   1.000000  0.702539\n",
       "3      1.000000   1.000000  0.703748\n",
       "4      1.000000   1.000000  0.704958\n",
       "...         ...        ...       ...\n",
       "1765   0.000001   0.426509  1.000000\n",
       "1766   0.000001   0.426289  1.000000\n",
       "1767   0.000001   0.426069  1.000000\n",
       "1768   0.000001   0.425630  1.000000\n",
       "1769   0.000000   0.337965  1.000000\n",
       "\n",
       "[1770 rows x 3 columns]"
      ]
     },
     "execution_count": 62,
     "metadata": {},
     "output_type": "execute_result"
    }
   ],
   "source": [
    "selected_recall_bl_df = prec_recall_bl_df[prec_recall_bl_df['recall']>=0.70].\\\n",
    "sort_values(by='recall', ascending=True).\\\n",
    "reset_index(drop=True)\n",
    "\n",
    "selected_recall_bl_df"
   ]
  },
  {
   "cell_type": "code",
   "execution_count": 63,
   "id": "2dbcd876-081e-42d2-9629-9a5805814369",
   "metadata": {
    "ExecuteTime": {
     "end_time": "2021-11-15T14:00:56.904839Z",
     "start_time": "2021-11-15T14:00:56.900811Z"
    },
    "tags": []
   },
   "outputs": [
    {
     "data": {
      "text/plain": [
       "0.9999999992638693"
      ]
     },
     "execution_count": 63,
     "metadata": {},
     "output_type": "execute_result"
    }
   ],
   "source": [
    "adjusted_threshold_bl = selected_recall_bl_df.iloc[0]['threshold']\n",
    "adjusted_threshold_bl"
   ]
  },
  {
   "cell_type": "markdown",
   "id": "e396aefb-83b6-4cbc-b886-e7e5c2296c71",
   "metadata": {},
   "source": [
    "# Trying to improve things further\n",
    "\n",
    "This is good, we have sorted our problem with a simple basic solution. But can we get even better performances by doing clever data modelling, such as removing outliers and co-linear features, feature permutations, and hyperparameters tuning? Let's do it!\n",
    "\n",
    "## Removing outliers"
   ]
  },
  {
   "cell_type": "code",
   "execution_count": 64,
   "id": "442ee42a-af13-4d56-be5c-700159e3048c",
   "metadata": {
    "ExecuteTime": {
     "end_time": "2021-11-15T13:51:41.766017Z",
     "start_time": "2021-11-15T13:51:41.762308Z"
    },
    "tags": []
   },
   "outputs": [],
   "source": [
    "def remove_outliers(dataset):\n",
    "    cols = dataset.columns\n",
    "    \n",
    "    for col in cols:\n",
    "        dataset.loc[dataset[col]>1000,col] = np.nan\n",
    "        dataset.loc[dataset[col]<-1000,col] = np.nan\n",
    "    return dataset"
   ]
  },
  {
   "cell_type": "code",
   "execution_count": 65,
   "id": "41e55151-429f-484b-bd2e-a5b23753d1be",
   "metadata": {
    "ExecuteTime": {
     "end_time": "2021-11-15T13:51:41.947925Z",
     "start_time": "2021-11-15T13:51:41.770044Z"
    },
    "tags": []
   },
   "outputs": [],
   "source": [
    "X_train = remove_outliers(X_train)"
   ]
  },
  {
   "cell_type": "code",
   "execution_count": 66,
   "id": "2300646c-e21c-4183-9150-5d8ebd237639",
   "metadata": {
    "ExecuteTime": {
     "end_time": "2021-11-15T13:51:41.992202Z",
     "start_time": "2021-11-15T13:51:41.950766Z"
    },
    "tags": []
   },
   "outputs": [
    {
     "data": {
      "text/plain": [
       "105"
      ]
     },
     "execution_count": 66,
     "metadata": {},
     "output_type": "execute_result"
    }
   ],
   "source": [
    "X_train.isnull().sum().sum()"
   ]
  },
  {
   "cell_type": "markdown",
   "id": "44c107cd-fdb1-4998-8f32-ef90ebd06375",
   "metadata": {},
   "source": [
    "## Checking for colinearity and simplifying the data"
   ]
  },
  {
   "cell_type": "code",
   "execution_count": 67,
   "id": "2c0e13f0-6368-4b6e-b238-cadd08d147e1",
   "metadata": {
    "ExecuteTime": {
     "end_time": "2021-11-15T13:51:42.111049Z",
     "start_time": "2021-11-15T13:51:41.993657Z"
    },
    "tags": []
   },
   "outputs": [],
   "source": [
    "from sklearn.preprocessing import MinMaxScaler\n",
    "from sklearn.impute import SimpleImputer\n",
    "\n",
    "imputer = SimpleImputer().fit(X_train)\n",
    "scaler = MinMaxScaler().fit(X_train)\n",
    "\n",
    "columns = X_train.columns\n",
    "\n",
    "X_train[columns] = imputer.transform(X_train[columns])\n",
    "X_train[columns] = scaler.transform(X_train[columns])"
   ]
  },
  {
   "cell_type": "code",
   "execution_count": 68,
   "id": "c6e88fb6-d01f-42f7-92d7-6c08c01508ce",
   "metadata": {
    "ExecuteTime": {
     "end_time": "2021-11-15T13:51:42.115241Z",
     "start_time": "2021-11-15T13:51:42.112517Z"
    },
    "tags": []
   },
   "outputs": [],
   "source": [
    "def prepare_data(df):\n",
    "    dataset = df.copy()\n",
    "    prepared_data = remove_outliers(dataset)\n",
    "    columns = dataset.columns\n",
    "    dataset[columns] = imputer.transform(dataset[columns])\n",
    "    dataset[columns] = scaler.transform(dataset[columns])\n",
    "    return dataset"
   ]
  },
  {
   "cell_type": "code",
   "execution_count": 69,
   "id": "0b5b8b00-1c5a-4d3d-a8d3-9e151b451950",
   "metadata": {
    "ExecuteTime": {
     "end_time": "2021-11-15T13:51:43.275267Z",
     "start_time": "2021-11-15T13:51:42.116519Z"
    },
    "tags": []
   },
   "outputs": [
    {
     "data": {
      "text/html": [
       "<div>\n",
       "<style scoped>\n",
       "    .dataframe tbody tr th:only-of-type {\n",
       "        vertical-align: middle;\n",
       "    }\n",
       "\n",
       "    .dataframe tbody tr th {\n",
       "        vertical-align: top;\n",
       "    }\n",
       "\n",
       "    .dataframe thead th {\n",
       "        text-align: right;\n",
       "    }\n",
       "</style>\n",
       "<table border=\"1\" class=\"dataframe\">\n",
       "  <thead>\n",
       "    <tr style=\"text-align: right;\">\n",
       "      <th></th>\n",
       "      <th>Feature1</th>\n",
       "      <th>Feature2</th>\n",
       "      <th>Corr</th>\n",
       "    </tr>\n",
       "  </thead>\n",
       "  <tbody>\n",
       "    <tr>\n",
       "      <th>65118</th>\n",
       "      <td>xS58</td>\n",
       "      <td>yS183</td>\n",
       "      <td>0.926630</td>\n",
       "    </tr>\n",
       "    <tr>\n",
       "      <th>65698</th>\n",
       "      <td>yS183</td>\n",
       "      <td>xS58</td>\n",
       "      <td>0.926630</td>\n",
       "    </tr>\n",
       "    <tr>\n",
       "      <th>54089</th>\n",
       "      <td>xS60</td>\n",
       "      <td>yS72</td>\n",
       "      <td>0.911347</td>\n",
       "    </tr>\n",
       "    <tr>\n",
       "      <th>74099</th>\n",
       "      <td>yS72</td>\n",
       "      <td>xS60</td>\n",
       "      <td>0.911347</td>\n",
       "    </tr>\n",
       "    <tr>\n",
       "      <th>59909</th>\n",
       "      <td>yS60</td>\n",
       "      <td>yS72</td>\n",
       "      <td>0.901871</td>\n",
       "    </tr>\n",
       "    <tr>\n",
       "      <th>...</th>\n",
       "      <td>...</td>\n",
       "      <td>...</td>\n",
       "      <td>...</td>\n",
       "    </tr>\n",
       "    <tr>\n",
       "      <th>18197</th>\n",
       "      <td>xC20</td>\n",
       "      <td>xS190</td>\n",
       "      <td>0.000002</td>\n",
       "    </tr>\n",
       "    <tr>\n",
       "      <th>9223</th>\n",
       "      <td>yC127</td>\n",
       "      <td>xS144</td>\n",
       "      <td>0.000001</td>\n",
       "    </tr>\n",
       "    <tr>\n",
       "      <th>58813</th>\n",
       "      <td>xS144</td>\n",
       "      <td>yC127</td>\n",
       "      <td>0.000001</td>\n",
       "    </tr>\n",
       "    <tr>\n",
       "      <th>70992</th>\n",
       "      <td>xS50</td>\n",
       "      <td>yS154</td>\n",
       "      <td>0.000001</td>\n",
       "    </tr>\n",
       "    <tr>\n",
       "      <th>81432</th>\n",
       "      <td>yS154</td>\n",
       "      <td>xS50</td>\n",
       "      <td>0.000001</td>\n",
       "    </tr>\n",
       "  </tbody>\n",
       "</table>\n",
       "<p>84390 rows × 3 columns</p>\n",
       "</div>"
      ],
      "text/plain": [
       "      Feature1 Feature2      Corr\n",
       "65118     xS58    yS183  0.926630\n",
       "65698    yS183     xS58  0.926630\n",
       "54089     xS60     yS72  0.911347\n",
       "74099     yS72     xS60  0.911347\n",
       "59909     yS60     yS72  0.901871\n",
       "...        ...      ...       ...\n",
       "18197     xC20    xS190  0.000002\n",
       "9223     yC127    xS144  0.000001\n",
       "58813    xS144    yC127  0.000001\n",
       "70992     xS50    yS154  0.000001\n",
       "81432    yS154     xS50  0.000001\n",
       "\n",
       "[84390 rows x 3 columns]"
      ]
     },
     "execution_count": 69,
     "metadata": {},
     "output_type": "execute_result"
    }
   ],
   "source": [
    "# Check for colinearity\n",
    "corr_df = X_train.corr().unstack().reset_index()\n",
    "corr_df.columns = ['Feature1', 'Feature2', 'Corr']\n",
    "corr_df = corr_df[corr_df['Feature1']!=corr_df['Feature2']]\n",
    "corr_df.Corr = np.abs(corr_df.Corr)\n",
    "corr_df.sort_values(by='Corr', ascending=False, inplace=True)\n",
    "corr_df[corr_df.Corr>0.7]\n",
    "corr_df"
   ]
  },
  {
   "cell_type": "code",
   "execution_count": 70,
   "id": "eca03187-c8df-4e51-9644-19ef094cf307",
   "metadata": {
    "ExecuteTime": {
     "end_time": "2021-11-15T13:51:46.844153Z",
     "start_time": "2021-11-15T13:51:43.277307Z"
    },
    "tags": []
   },
   "outputs": [
    {
     "data": {
      "text/plain": [
       "['nS157', 'xS112', 'xS125', 'yS183', 'yS186', 'xS38', 'yS180', 'yS72', 'xS60']"
      ]
     },
     "execution_count": 70,
     "metadata": {},
     "output_type": "execute_result"
    }
   ],
   "source": [
    "# Identify features with colinearity >0.6\n",
    "\n",
    "redundant_features = []\n",
    "\n",
    "for index,row in corr_df.iterrows():\n",
    "    if (abs(row.Corr)>0.7 and (row.Feature1 not in redundant_features)):\n",
    "        redundant_features.append(row.Feature2)\n",
    "redundant_features = list(set(redundant_features))\n",
    "redundant_features"
   ]
  },
  {
   "cell_type": "code",
   "execution_count": 71,
   "id": "e1b906ac-2a2a-48cd-8391-1fae2f9c4e6c",
   "metadata": {
    "ExecuteTime": {
     "end_time": "2021-11-15T13:51:46.856791Z",
     "start_time": "2021-11-15T13:51:46.848723Z"
    },
    "tags": []
   },
   "outputs": [],
   "source": [
    "# Adjusting X_train and X_test\n",
    "\n",
    "X_train = X_train.drop(redundant_features, axis=1)"
   ]
  },
  {
   "cell_type": "markdown",
   "id": "1782320c-16d3-4fd5-b241-7ec1e0a19f51",
   "metadata": {},
   "source": [
    "## Attempting feature permutations"
   ]
  },
  {
   "cell_type": "code",
   "execution_count": 72,
   "id": "bc02a421-eafa-4ad8-b502-da135dbb64f6",
   "metadata": {
    "ExecuteTime": {
     "end_time": "2021-11-15T13:54:17.874221Z",
     "start_time": "2021-11-15T13:51:46.871746Z"
    },
    "tags": []
   },
   "outputs": [
    {
     "data": {
      "text/html": [
       "<div>\n",
       "<style scoped>\n",
       "    .dataframe tbody tr th:only-of-type {\n",
       "        vertical-align: middle;\n",
       "    }\n",
       "\n",
       "    .dataframe tbody tr th {\n",
       "        vertical-align: top;\n",
       "    }\n",
       "\n",
       "    .dataframe thead th {\n",
       "        text-align: right;\n",
       "    }\n",
       "</style>\n",
       "<table border=\"1\" class=\"dataframe\">\n",
       "  <thead>\n",
       "    <tr style=\"text-align: right;\">\n",
       "      <th></th>\n",
       "      <th>feature</th>\n",
       "      <th>importance</th>\n",
       "    </tr>\n",
       "  </thead>\n",
       "  <tbody>\n",
       "    <tr>\n",
       "      <th>0</th>\n",
       "      <td>xC17</td>\n",
       "      <td>0.009403</td>\n",
       "    </tr>\n",
       "    <tr>\n",
       "      <th>1</th>\n",
       "      <td>xC39</td>\n",
       "      <td>0.007928</td>\n",
       "    </tr>\n",
       "    <tr>\n",
       "      <th>2</th>\n",
       "      <td>xC5</td>\n",
       "      <td>0.007205</td>\n",
       "    </tr>\n",
       "    <tr>\n",
       "      <th>3</th>\n",
       "      <td>xC63</td>\n",
       "      <td>0.006735</td>\n",
       "    </tr>\n",
       "    <tr>\n",
       "      <th>4</th>\n",
       "      <td>xC64</td>\n",
       "      <td>0.00604</td>\n",
       "    </tr>\n",
       "    <tr>\n",
       "      <th>...</th>\n",
       "      <td>...</td>\n",
       "      <td>...</td>\n",
       "    </tr>\n",
       "    <tr>\n",
       "      <th>277</th>\n",
       "      <td>yC78</td>\n",
       "      <td>-0.000875</td>\n",
       "    </tr>\n",
       "    <tr>\n",
       "      <th>278</th>\n",
       "      <td>nS55</td>\n",
       "      <td>-0.000919</td>\n",
       "    </tr>\n",
       "    <tr>\n",
       "      <th>279</th>\n",
       "      <td>xC180</td>\n",
       "      <td>-0.001181</td>\n",
       "    </tr>\n",
       "    <tr>\n",
       "      <th>280</th>\n",
       "      <td>nS19</td>\n",
       "      <td>-0.001201</td>\n",
       "    </tr>\n",
       "    <tr>\n",
       "      <th>281</th>\n",
       "      <td>yC198</td>\n",
       "      <td>-0.001283</td>\n",
       "    </tr>\n",
       "  </tbody>\n",
       "</table>\n",
       "<p>282 rows × 2 columns</p>\n",
       "</div>"
      ],
      "text/plain": [
       "    feature importance\n",
       "0      xC17   0.009403\n",
       "1      xC39   0.007928\n",
       "2       xC5   0.007205\n",
       "3      xC63   0.006735\n",
       "4      xC64    0.00604\n",
       "..      ...        ...\n",
       "277    yC78  -0.000875\n",
       "278    nS55  -0.000919\n",
       "279   xC180  -0.001181\n",
       "280    nS19  -0.001201\n",
       "281   yC198  -0.001283\n",
       "\n",
       "[282 rows x 2 columns]"
      ]
     },
     "execution_count": 72,
     "metadata": {},
     "output_type": "execute_result"
    }
   ],
   "source": [
    "model = LogisticRegression(max_iter=5000).fit(X_train,y_train)\n",
    "\n",
    "permutation_score = permutation_importance(model, X_train, y_train, n_repeats = 100)\n",
    "\n",
    "importance_df = pd.DataFrame(np.vstack((X_train.columns,\n",
    "                                        permutation_score.importances_mean)).T)\n",
    "importance_df.columns=['feature','importance']\n",
    "importance_df.sort_values('importance', ascending=False, inplace=True)\n",
    "importance_df.reset_index(drop=True, inplace=True)\n",
    "importance_df"
   ]
  },
  {
   "cell_type": "code",
   "execution_count": 73,
   "id": "119f9037-8f06-4b63-bf6a-46c3e0c9760f",
   "metadata": {
    "ExecuteTime": {
     "end_time": "2021-11-15T13:59:41.925286Z",
     "start_time": "2021-11-15T13:54:17.876218Z"
    },
    "tags": []
   },
   "outputs": [],
   "source": [
    "# Decide what columns to keep: \n",
    "from sklearn.metrics import precision_score\n",
    "from sklearn.model_selection import cross_val_score\n",
    "\n",
    "precision_value = []\n",
    "number_features = []\n",
    "\n",
    "for i in range(1,importance_df.shape[0]):\n",
    "    columns = importance_df.iloc[0:i].feature.values\n",
    "    \n",
    "    X_train_f = X_train[columns]\n",
    "    \n",
    "    prec = cross_val_score(LogisticRegression(max_iter=5000),\n",
    "                   X=X_train_f, y=y_train, cv=5, n_jobs=-1, scoring='precision')\n",
    "    \n",
    "    number_features.append(i)\n",
    "    precision_value.append(prec)"
   ]
  },
  {
   "cell_type": "code",
   "execution_count": 74,
   "id": "a438ea55-5fda-4d13-956c-6babd433ba69",
   "metadata": {
    "ExecuteTime": {
     "end_time": "2021-11-15T13:59:41.941186Z",
     "start_time": "2021-11-15T13:59:41.928088Z"
    },
    "tags": []
   },
   "outputs": [],
   "source": [
    "errors = [np.std(v) for v in precision_value]\n",
    "prec_v = [np.mean(v) for v in precision_value]"
   ]
  },
  {
   "cell_type": "code",
   "execution_count": 75,
   "id": "6bb7ff05-a751-4f9e-8094-3138df869c00",
   "metadata": {
    "ExecuteTime": {
     "end_time": "2021-11-15T13:59:42.417182Z",
     "start_time": "2021-11-15T13:59:41.942775Z"
    },
    "tags": []
   },
   "outputs": [
    {
     "data": {
      "image/png": "[encoded data removed]",
      "text/plain": [
       "<Figure size 640x480 with 1 Axes>"
      ]
     },
     "metadata": {},
     "output_type": "display_data"
    }
   ],
   "source": [
    "import matplotlib.pyplot as plt\n",
    "\n",
    "plt.errorbar(number_features, prec_v,yerr=errors);"
   ]
  },
  {
   "cell_type": "code",
   "execution_count": 76,
   "id": "2a6023fb-0d1f-49b5-b9a4-f9dede9428ae",
   "metadata": {
    "ExecuteTime": {
     "end_time": "2021-11-15T13:59:42.422769Z",
     "start_time": "2021-11-15T13:59:42.418937Z"
    },
    "tags": []
   },
   "outputs": [],
   "source": [
    "pdf = pd.DataFrame({'nb_features':number_features, 'precision':prec_v}).sort_values(by='precision', ascending=True)"
   ]
  },
  {
   "cell_type": "code",
   "execution_count": 77,
   "id": "6b3ffe9f-6ec6-4b83-a2a7-2dc8b91e1aa4",
   "metadata": {
    "ExecuteTime": {
     "end_time": "2021-11-15T13:59:42.434633Z",
     "start_time": "2021-11-15T13:59:42.424490Z"
    },
    "tags": []
   },
   "outputs": [
    {
     "data": {
      "text/html": [
       "<div>\n",
       "<style scoped>\n",
       "    .dataframe tbody tr th:only-of-type {\n",
       "        vertical-align: middle;\n",
       "    }\n",
       "\n",
       "    .dataframe tbody tr th {\n",
       "        vertical-align: top;\n",
       "    }\n",
       "\n",
       "    .dataframe thead th {\n",
       "        text-align: right;\n",
       "    }\n",
       "</style>\n",
       "<table border=\"1\" class=\"dataframe\">\n",
       "  <thead>\n",
       "    <tr style=\"text-align: right;\">\n",
       "      <th></th>\n",
       "      <th>nb_features</th>\n",
       "      <th>precision</th>\n",
       "    </tr>\n",
       "  </thead>\n",
       "  <tbody>\n",
       "    <tr>\n",
       "      <th>21</th>\n",
       "      <td>22</td>\n",
       "      <td>0.952840</td>\n",
       "    </tr>\n",
       "    <tr>\n",
       "      <th>22</th>\n",
       "      <td>23</td>\n",
       "      <td>0.952800</td>\n",
       "    </tr>\n",
       "    <tr>\n",
       "      <th>23</th>\n",
       "      <td>24</td>\n",
       "      <td>0.952514</td>\n",
       "    </tr>\n",
       "    <tr>\n",
       "      <th>19</th>\n",
       "      <td>20</td>\n",
       "      <td>0.951895</td>\n",
       "    </tr>\n",
       "    <tr>\n",
       "      <th>18</th>\n",
       "      <td>19</td>\n",
       "      <td>0.949258</td>\n",
       "    </tr>\n",
       "    <tr>\n",
       "      <th>...</th>\n",
       "      <td>...</td>\n",
       "      <td>...</td>\n",
       "    </tr>\n",
       "    <tr>\n",
       "      <th>5</th>\n",
       "      <td>6</td>\n",
       "      <td>0.832272</td>\n",
       "    </tr>\n",
       "    <tr>\n",
       "      <th>4</th>\n",
       "      <td>5</td>\n",
       "      <td>0.829971</td>\n",
       "    </tr>\n",
       "    <tr>\n",
       "      <th>2</th>\n",
       "      <td>3</td>\n",
       "      <td>0.818071</td>\n",
       "    </tr>\n",
       "    <tr>\n",
       "      <th>1</th>\n",
       "      <td>2</td>\n",
       "      <td>0.797989</td>\n",
       "    </tr>\n",
       "    <tr>\n",
       "      <th>0</th>\n",
       "      <td>1</td>\n",
       "      <td>0.524343</td>\n",
       "    </tr>\n",
       "  </tbody>\n",
       "</table>\n",
       "<p>281 rows × 2 columns</p>\n",
       "</div>"
      ],
      "text/plain": [
       "    nb_features  precision\n",
       "21           22   0.952840\n",
       "22           23   0.952800\n",
       "23           24   0.952514\n",
       "19           20   0.951895\n",
       "18           19   0.949258\n",
       "..          ...        ...\n",
       "5             6   0.832272\n",
       "4             5   0.829971\n",
       "2             3   0.818071\n",
       "1             2   0.797989\n",
       "0             1   0.524343\n",
       "\n",
       "[281 rows x 2 columns]"
      ]
     },
     "execution_count": 77,
     "metadata": {},
     "output_type": "execute_result"
    }
   ],
   "source": [
    "pdf.sort_values(by=['precision','nb_features'], ascending=False, inplace=True)\n",
    "pdf"
   ]
  },
  {
   "cell_type": "code",
   "execution_count": 78,
   "id": "f83afa2c-ca12-4611-8c4e-d7c88503298d",
   "metadata": {
    "ExecuteTime": {
     "end_time": "2021-11-15T13:59:42.442442Z",
     "start_time": "2021-11-15T13:59:42.437074Z"
    },
    "tags": []
   },
   "outputs": [
    {
     "data": {
      "text/plain": [
       "array(['xC17', 'xC39', 'xC5', 'xC63', 'xC64', 'xC36', 'xC169', 'yC49',\n",
       "       'xC143', 'xC62', 'xC38', 'xC142', 'xC2', 'xC87', 'xC20', 'xC124',\n",
       "       'yC112', 'xC57', 'yC195', 'xC102', 'xC196'], dtype=object)"
      ]
     },
     "execution_count": 78,
     "metadata": {},
     "output_type": "execute_result"
    }
   ],
   "source": [
    "# Decide what columns to keep: \n",
    "\n",
    "top_values = pdf.head(1).index[0]\n",
    "\n",
    "top_features = importance_df.head(top_values).feature.values\n",
    "top_features"
   ]
  },
  {
   "cell_type": "code",
   "execution_count": 79,
   "id": "599956ba-665b-4146-ba5b-c537599e414c",
   "metadata": {
    "tags": []
   },
   "outputs": [
    {
     "name": "stdout",
     "output_type": "stream",
     "text": [
      "Selected number of features:21\n"
     ]
    }
   ],
   "source": [
    "print(f'Selected number of features:{len(top_features)}')"
   ]
  },
  {
   "cell_type": "code",
   "execution_count": 80,
   "id": "56c7b6d4-f50b-4770-94dd-a2381b881df6",
   "metadata": {
    "ExecuteTime": {
     "end_time": "2021-11-15T13:59:42.448605Z",
     "start_time": "2021-11-15T13:59:42.443740Z"
    },
    "tags": []
   },
   "outputs": [],
   "source": [
    "# Adjusting X_train\n",
    "X_train = X_train[top_features]"
   ]
  },
  {
   "cell_type": "markdown",
   "id": "2b71b221-795e-468d-8b4a-d05b22438214",
   "metadata": {},
   "source": [
    "## Hyperparameter tuning"
   ]
  },
  {
   "cell_type": "code",
   "execution_count": 81,
   "id": "a5cb67d5-03bf-4d93-aad7-557ae2aafcac",
   "metadata": {
    "ExecuteTime": {
     "end_time": "2021-11-15T13:59:42.454891Z",
     "start_time": "2021-11-15T13:59:42.450782Z"
    },
    "tags": []
   },
   "outputs": [],
   "source": [
    "# Let's perform a RandomizeSearchCV\n",
    "\n",
    "from sklearn.model_selection import RandomizedSearchCV\n",
    "from sklearn.metrics import recall_score, precision_score\n",
    "from scipy import stats\n",
    "\n",
    "params = {'penalty':['l1','l2'],\n",
    "          'C':stats.expon(0.01, 5000),\n",
    "          'class_weight':[None, 'balanced'],\n",
    "          'solver':['liblinear', 'saga']\n",
    "         }\n",
    "\n",
    "cv = RandomizedSearchCV(estimator=LogisticRegression(max_iter=5000), param_distributions=params,\n",
    "                       n_jobs=-1, n_iter=10,scoring='precision',cv=5, verbose=1)"
   ]
  },
  {
   "cell_type": "code",
   "execution_count": 82,
   "id": "520b9a5c-d0bb-46b3-a13b-632bf3fdf810",
   "metadata": {
    "ExecuteTime": {
     "end_time": "2021-11-15T14:00:56.731673Z",
     "start_time": "2021-11-15T13:59:42.456138Z"
    },
    "tags": []
   },
   "outputs": [
    {
     "name": "stdout",
     "output_type": "stream",
     "text": [
      "Fitting 5 folds for each of 10 candidates, totalling 50 fits\n"
     ]
    },
    {
     "data": {
      "text/html": [
       "<style>#sk-container-id-1 {color: black;}#sk-container-id-1 pre{padding: 0;}#sk-container-id-1 div.sk-toggleable {background-color: white;}#sk-container-id-1 label.sk-toggleable__label {cursor: pointer;display: block;width: 100%;margin-bottom: 0;padding: 0.3em;box-sizing: border-box;text-align: center;}#sk-container-id-1 label.sk-toggleable__label-arrow:before {content: \"▸\";float: left;margin-right: 0.25em;color: #696969;}#sk-container-id-1 label.sk-toggleable__label-arrow:hover:before {color: black;}#sk-container-id-1 div.sk-estimator:hover label.sk-toggleable__label-arrow:before {color: black;}#sk-container-id-1 div.sk-toggleable__content {max-height: 0;max-width: 0;overflow: hidden;text-align: left;background-color: #f0f8ff;}#sk-container-id-1 div.sk-toggleable__content pre {margin: 0.2em;color: black;border-radius: 0.25em;background-color: #f0f8ff;}#sk-container-id-1 input.sk-toggleable__control:checked~div.sk-toggleable__content {max-height: 200px;max-width: 100%;overflow: auto;}#sk-container-id-1 input.sk-toggleable__control:checked~label.sk-toggleable__label-arrow:before {content: \"▾\";}#sk-container-id-1 div.sk-estimator input.sk-toggleable__control:checked~label.sk-toggleable__label {background-color: #d4ebff;}#sk-container-id-1 div.sk-label input.sk-toggleable__control:checked~label.sk-toggleable__label {background-color: #d4ebff;}#sk-container-id-1 input.sk-hidden--visually {border: 0;clip: rect(1px 1px 1px 1px);clip: rect(1px, 1px, 1px, 1px);height: 1px;margin: -1px;overflow: hidden;padding: 0;position: absolute;width: 1px;}#sk-container-id-1 div.sk-estimator {font-family: monospace;background-color: #f0f8ff;border: 1px dotted black;border-radius: 0.25em;box-sizing: border-box;margin-bottom: 0.5em;}#sk-container-id-1 div.sk-estimator:hover {background-color: #d4ebff;}#sk-container-id-1 div.sk-parallel-item::after {content: \"\";width: 100%;border-bottom: 1px solid gray;flex-grow: 1;}#sk-container-id-1 div.sk-label:hover label.sk-toggleable__label {background-color: #d4ebff;}#sk-container-id-1 div.sk-serial::before {content: \"\";position: absolute;border-left: 1px solid gray;box-sizing: border-box;top: 0;bottom: 0;left: 50%;z-index: 0;}#sk-container-id-1 div.sk-serial {display: flex;flex-direction: column;align-items: center;background-color: white;padding-right: 0.2em;padding-left: 0.2em;position: relative;}#sk-container-id-1 div.sk-item {position: relative;z-index: 1;}#sk-container-id-1 div.sk-parallel {display: flex;align-items: stretch;justify-content: center;background-color: white;position: relative;}#sk-container-id-1 div.sk-item::before, #sk-container-id-1 div.sk-parallel-item::before {content: \"\";position: absolute;border-left: 1px solid gray;box-sizing: border-box;top: 0;bottom: 0;left: 50%;z-index: -1;}#sk-container-id-1 div.sk-parallel-item {display: flex;flex-direction: column;z-index: 1;position: relative;background-color: white;}#sk-container-id-1 div.sk-parallel-item:first-child::after {align-self: flex-end;width: 50%;}#sk-container-id-1 div.sk-parallel-item:last-child::after {align-self: flex-start;width: 50%;}#sk-container-id-1 div.sk-parallel-item:only-child::after {width: 0;}#sk-container-id-1 div.sk-dashed-wrapped {border: 1px dashed gray;margin: 0 0.4em 0.5em 0.4em;box-sizing: border-box;padding-bottom: 0.4em;background-color: white;}#sk-container-id-1 div.sk-label label {font-family: monospace;font-weight: bold;display: inline-block;line-height: 1.2em;}#sk-container-id-1 div.sk-label-container {text-align: center;}#sk-container-id-1 div.sk-container {/* jupyter's `normalize.less` sets `[hidden] { display: none; }` but bootstrap.min.css set `[hidden] { display: none !important; }` so we also need the `!important` here to be able to override the default hidden behavior on the sphinx rendered scikit-learn.org. See: https://github.com/scikit-learn/scikit-learn/issues/21755 */display: inline-block !important;position: relative;}#sk-container-id-1 div.sk-text-repr-fallback {display: none;}</style><div id=\"sk-container-id-1\" class=\"sk-top-container\"><div class=\"sk-text-repr-fallback\"><pre>RandomizedSearchCV(cv=5, estimator=LogisticRegression(max_iter=5000), n_jobs=-1,\n",
       "                   param_distributions={&#x27;C&#x27;: &lt;scipy.stats._distn_infrastructure.rv_continuous_frozen object at 0x293dcfb10&gt;,\n",
       "                                        &#x27;class_weight&#x27;: [None, &#x27;balanced&#x27;],\n",
       "                                        &#x27;penalty&#x27;: [&#x27;l1&#x27;, &#x27;l2&#x27;],\n",
       "                                        &#x27;solver&#x27;: [&#x27;liblinear&#x27;, &#x27;saga&#x27;]},\n",
       "                   scoring=&#x27;precision&#x27;, verbose=1)</pre><b>In a Jupyter environment, please rerun this cell to show the HTML representation or trust the notebook. <br />On GitHub, the HTML representation is unable to render, please try loading this page with nbviewer.org.</b></div><div class=\"sk-container\" hidden><div class=\"sk-item sk-dashed-wrapped\"><div class=\"sk-label-container\"><div class=\"sk-label sk-toggleable\"><input class=\"sk-toggleable__control sk-hidden--visually\" id=\"sk-estimator-id-1\" type=\"checkbox\" ><label for=\"sk-estimator-id-1\" class=\"sk-toggleable__label sk-toggleable__label-arrow\">RandomizedSearchCV</label><div class=\"sk-toggleable__content\"><pre>RandomizedSearchCV(cv=5, estimator=LogisticRegression(max_iter=5000), n_jobs=-1,\n",
       "                   param_distributions={&#x27;C&#x27;: &lt;scipy.stats._distn_infrastructure.rv_continuous_frozen object at 0x293dcfb10&gt;,\n",
       "                                        &#x27;class_weight&#x27;: [None, &#x27;balanced&#x27;],\n",
       "                                        &#x27;penalty&#x27;: [&#x27;l1&#x27;, &#x27;l2&#x27;],\n",
       "                                        &#x27;solver&#x27;: [&#x27;liblinear&#x27;, &#x27;saga&#x27;]},\n",
       "                   scoring=&#x27;precision&#x27;, verbose=1)</pre></div></div></div><div class=\"sk-parallel\"><div class=\"sk-parallel-item\"><div class=\"sk-item\"><div class=\"sk-label-container\"><div class=\"sk-label sk-toggleable\"><input class=\"sk-toggleable__control sk-hidden--visually\" id=\"sk-estimator-id-2\" type=\"checkbox\" ><label for=\"sk-estimator-id-2\" class=\"sk-toggleable__label sk-toggleable__label-arrow\">estimator: LogisticRegression</label><div class=\"sk-toggleable__content\"><pre>LogisticRegression(max_iter=5000)</pre></div></div></div><div class=\"sk-serial\"><div class=\"sk-item\"><div class=\"sk-estimator sk-toggleable\"><input class=\"sk-toggleable__control sk-hidden--visually\" id=\"sk-estimator-id-3\" type=\"checkbox\" ><label for=\"sk-estimator-id-3\" class=\"sk-toggleable__label sk-toggleable__label-arrow\">LogisticRegression</label><div class=\"sk-toggleable__content\"><pre>LogisticRegression(max_iter=5000)</pre></div></div></div></div></div></div></div></div></div></div>"
      ],
      "text/plain": [
       "RandomizedSearchCV(cv=5, estimator=LogisticRegression(max_iter=5000), n_jobs=-1,\n",
       "                   param_distributions={'C': <scipy.stats._distn_infrastructure.rv_continuous_frozen object at 0x293dcfb10>,\n",
       "                                        'class_weight': [None, 'balanced'],\n",
       "                                        'penalty': ['l1', 'l2'],\n",
       "                                        'solver': ['liblinear', 'saga']},\n",
       "                   scoring='precision', verbose=1)"
      ]
     },
     "execution_count": 82,
     "metadata": {},
     "output_type": "execute_result"
    }
   ],
   "source": [
    "cv.fit(X_train, y_train)"
   ]
  },
  {
   "cell_type": "code",
   "execution_count": 83,
   "id": "0e67c01b-0029-4158-9efc-26269fd5da57",
   "metadata": {
    "ExecuteTime": {
     "end_time": "2021-11-15T14:00:56.738068Z",
     "start_time": "2021-11-15T14:00:56.733840Z"
    },
    "tags": []
   },
   "outputs": [
    {
     "data": {
      "text/plain": [
       "0.9384392829517983"
      ]
     },
     "execution_count": 83,
     "metadata": {},
     "output_type": "execute_result"
    }
   ],
   "source": [
    "cv.best_score_"
   ]
  },
  {
   "cell_type": "code",
   "execution_count": 84,
   "id": "7ead53f2-e0ea-44d6-a888-d2540e3b01c6",
   "metadata": {
    "ExecuteTime": {
     "end_time": "2021-11-15T14:00:56.742521Z",
     "start_time": "2021-11-15T14:00:56.739308Z"
    },
    "tags": []
   },
   "outputs": [
    {
     "data": {
      "text/plain": [
       "{'C': 3840.367560001431,\n",
       " 'class_weight': None,\n",
       " 'penalty': 'l1',\n",
       " 'solver': 'saga'}"
      ]
     },
     "execution_count": 84,
     "metadata": {},
     "output_type": "execute_result"
    }
   ],
   "source": [
    "cv.best_params_"
   ]
  },
  {
   "cell_type": "code",
   "execution_count": 85,
   "id": "42617bc2-d3c4-4db7-afe2-eb9cf9af7465",
   "metadata": {
    "ExecuteTime": {
     "end_time": "2021-11-15T14:00:56.746384Z",
     "start_time": "2021-11-15T14:00:56.743890Z"
    },
    "tags": []
   },
   "outputs": [],
   "source": [
    "model = cv.best_estimator_"
   ]
  },
  {
   "cell_type": "code",
   "execution_count": 86,
   "id": "0d2d84ed-0c49-4ede-ac59-f36cc6ba908a",
   "metadata": {
    "ExecuteTime": {
     "end_time": "2021-11-15T14:00:56.756011Z",
     "start_time": "2021-11-15T14:00:56.748832Z"
    },
    "tags": []
   },
   "outputs": [],
   "source": [
    "predictions_proba = model.predict_proba(X_train)\n",
    "predictions = model.predict(X_train)"
   ]
  },
  {
   "cell_type": "markdown",
   "id": "8ed29f1b-1d33-46cc-b555-8833ddf9bcb6",
   "metadata": {},
   "source": [
    "## Threshold adjustement on new model"
   ]
  },
  {
   "cell_type": "code",
   "execution_count": 87,
   "id": "39c515ed-7ef9-4386-a1f7-eed484ba389a",
   "metadata": {
    "ExecuteTime": {
     "end_time": "2021-11-15T14:00:56.871209Z",
     "start_time": "2021-11-15T14:00:56.758034Z"
    },
    "tags": []
   },
   "outputs": [
    {
     "data": {
      "image/png": "[encoded data removed]",
      "text/plain": [
       "<Figure size 640x480 with 1 Axes>"
      ]
     },
     "metadata": {},
     "output_type": "display_data"
    }
   ],
   "source": [
    "from sklearn.metrics import precision_recall_curve\n",
    "\n",
    "precision, recall, threshold = precision_recall_curve(y_train, predictions_proba[:,1],pos_label=1)\n",
    "\n",
    "plt.plot(recall, precision);"
   ]
  },
  {
   "cell_type": "code",
   "execution_count": 88,
   "id": "ae96a737-98f9-4762-b0d7-0b38c30dd704",
   "metadata": {
    "ExecuteTime": {
     "end_time": "2021-11-15T14:00:56.880453Z",
     "start_time": "2021-11-15T14:00:56.874999Z"
    },
    "tags": []
   },
   "outputs": [],
   "source": [
    "prec_recall_df = pd.DataFrame({'threshold':threshold,\n",
    "              'precision':precision[:-1],\n",
    "             'recall':recall[:-1]})"
   ]
  },
  {
   "cell_type": "code",
   "execution_count": 89,
   "id": "db7a3647-a451-47f3-9388-0d41519dfe19",
   "metadata": {
    "ExecuteTime": {
     "end_time": "2021-11-15T14:00:56.899305Z",
     "start_time": "2021-11-15T14:00:56.888048Z"
    },
    "tags": []
   },
   "outputs": [
    {
     "data": {
      "text/html": [
       "<div>\n",
       "<style scoped>\n",
       "    .dataframe tbody tr th:only-of-type {\n",
       "        vertical-align: middle;\n",
       "    }\n",
       "\n",
       "    .dataframe tbody tr th {\n",
       "        vertical-align: top;\n",
       "    }\n",
       "\n",
       "    .dataframe thead th {\n",
       "        text-align: right;\n",
       "    }\n",
       "</style>\n",
       "<table border=\"1\" class=\"dataframe\">\n",
       "  <thead>\n",
       "    <tr style=\"text-align: right;\">\n",
       "      <th></th>\n",
       "      <th>threshold</th>\n",
       "      <th>precision</th>\n",
       "      <th>recall</th>\n",
       "    </tr>\n",
       "  </thead>\n",
       "  <tbody>\n",
       "    <tr>\n",
       "      <th>0</th>\n",
       "      <td>6.613342e-01</td>\n",
       "      <td>0.953871</td>\n",
       "      <td>0.700121</td>\n",
       "    </tr>\n",
       "    <tr>\n",
       "      <th>1</th>\n",
       "      <td>6.606840e-01</td>\n",
       "      <td>0.953947</td>\n",
       "      <td>0.701330</td>\n",
       "    </tr>\n",
       "    <tr>\n",
       "      <th>2</th>\n",
       "      <td>6.605886e-01</td>\n",
       "      <td>0.954023</td>\n",
       "      <td>0.702539</td>\n",
       "    </tr>\n",
       "    <tr>\n",
       "      <th>3</th>\n",
       "      <td>6.601992e-01</td>\n",
       "      <td>0.954098</td>\n",
       "      <td>0.703748</td>\n",
       "    </tr>\n",
       "    <tr>\n",
       "      <th>4</th>\n",
       "      <td>6.596872e-01</td>\n",
       "      <td>0.954173</td>\n",
       "      <td>0.704958</td>\n",
       "    </tr>\n",
       "    <tr>\n",
       "      <th>...</th>\n",
       "      <td>...</td>\n",
       "      <td>...</td>\n",
       "      <td>...</td>\n",
       "    </tr>\n",
       "    <tr>\n",
       "      <th>723</th>\n",
       "      <td>3.638100e-05</td>\n",
       "      <td>0.339630</td>\n",
       "      <td>1.000000</td>\n",
       "    </tr>\n",
       "    <tr>\n",
       "      <th>724</th>\n",
       "      <td>9.019789e-05</td>\n",
       "      <td>0.339770</td>\n",
       "      <td>1.000000</td>\n",
       "    </tr>\n",
       "    <tr>\n",
       "      <th>725</th>\n",
       "      <td>1.144882e-04</td>\n",
       "      <td>0.339910</td>\n",
       "      <td>1.000000</td>\n",
       "    </tr>\n",
       "    <tr>\n",
       "      <th>726</th>\n",
       "      <td>9.765644e-06</td>\n",
       "      <td>0.338934</td>\n",
       "      <td>1.000000</td>\n",
       "    </tr>\n",
       "    <tr>\n",
       "      <th>727</th>\n",
       "      <td>7.102012e-07</td>\n",
       "      <td>0.337965</td>\n",
       "      <td>1.000000</td>\n",
       "    </tr>\n",
       "  </tbody>\n",
       "</table>\n",
       "<p>728 rows × 3 columns</p>\n",
       "</div>"
      ],
      "text/plain": [
       "        threshold  precision    recall\n",
       "0    6.613342e-01   0.953871  0.700121\n",
       "1    6.606840e-01   0.953947  0.701330\n",
       "2    6.605886e-01   0.954023  0.702539\n",
       "3    6.601992e-01   0.954098  0.703748\n",
       "4    6.596872e-01   0.954173  0.704958\n",
       "..            ...        ...       ...\n",
       "723  3.638100e-05   0.339630  1.000000\n",
       "724  9.019789e-05   0.339770  1.000000\n",
       "725  1.144882e-04   0.339910  1.000000\n",
       "726  9.765644e-06   0.338934  1.000000\n",
       "727  7.102012e-07   0.337965  1.000000\n",
       "\n",
       "[728 rows x 3 columns]"
      ]
     },
     "execution_count": 89,
     "metadata": {},
     "output_type": "execute_result"
    }
   ],
   "source": [
    "selected_recall_df = prec_recall_df[prec_recall_df['recall']>=0.70].\\\n",
    "sort_values(by='recall', ascending=True).\\\n",
    "reset_index(drop=True)\n",
    "\n",
    "selected_recall_df"
   ]
  },
  {
   "cell_type": "code",
   "execution_count": 90,
   "id": "fd107b36-9400-42b3-a438-ed711253f5e1",
   "metadata": {
    "ExecuteTime": {
     "end_time": "2021-11-15T14:00:56.904839Z",
     "start_time": "2021-11-15T14:00:56.900811Z"
    },
    "tags": []
   },
   "outputs": [
    {
     "data": {
      "text/plain": [
       "0.6214126778279685"
      ]
     },
     "execution_count": 90,
     "metadata": {},
     "output_type": "execute_result"
    }
   ],
   "source": [
    "adjusted_threshold = selected_recall_df.iloc[24]['threshold']\n",
    "adjusted_threshold"
   ]
  },
  {
   "cell_type": "markdown",
   "id": "914efdf1-04cb-4993-96d1-d7d75541347c",
   "metadata": {},
   "source": [
    "## Creating a function to automated the prediction"
   ]
  },
  {
   "cell_type": "code",
   "execution_count": 91,
   "id": "hollywood-tribune",
   "metadata": {
    "ExecuteTime": {
     "end_time": "2021-11-15T14:00:56.909367Z",
     "start_time": "2021-11-15T14:00:56.906459Z"
    },
    "tags": []
   },
   "outputs": [],
   "source": [
    "def predict_swarm(selected_model, selected_X, selected_threshold = 0.5):\n",
    "    preds = selected_model.predict_proba(selected_X)\n",
    "    preds = pd.DataFrame(preds[:,1])\n",
    "    return preds[0].apply(lambda x: 0 if x<selected_threshold else 1)"
   ]
  },
  {
   "cell_type": "code",
   "execution_count": 92,
   "id": "b8392a05-be09-43b9-a301-48825e34eabc",
   "metadata": {
    "ExecuteTime": {
     "end_time": "2021-11-15T14:00:56.916105Z",
     "start_time": "2021-11-15T14:00:56.911004Z"
    },
    "tags": []
   },
   "outputs": [],
   "source": [
    "def test_models(title, X_unknown, y_true):\n",
    "    d=X_unknown.copy()\n",
    "    pred_base = predict_swarm(baseline_model, X_unknown)\n",
    "    pred_base_adjusted = predict_swarm(baseline_model, X_unknown, adjusted_threshold_bl)\n",
    "    pred_best = predict_swarm(model, prepare_data(X_unknown)[top_features], adjusted_threshold)\n",
    "    pred_best_unadjusted = predict_swarm(model, prepare_data(X_unknown)[top_features],0.5)\n",
    "    \n",
    "    all_models = [pred_base,pred_base_adjusted,pred_best,pred_best_unadjusted]\n",
    "    all_names = ['Base model', 'Base model adjusted', 'Best model', 'Best model no adjustement']\n",
    "\n",
    "    print (title)\n",
    "    for model_result,name in zip(all_models, all_names):\n",
    "        print(name)\n",
    "        print(f'Precision:{precision_score(y_true, model_result)}')\n",
    "        print(f'Recall:{recall_score(y_true, model_result)}')\n",
    "        \n",
    "    print('\\n')"
   ]
  },
  {
   "cell_type": "code",
   "execution_count": 93,
   "id": "fc186e51-0034-44c0-96b5-c89d0792e36d",
   "metadata": {
    "ExecuteTime": {
     "end_time": "2021-11-15T14:00:57.420176Z",
     "start_time": "2021-11-15T14:00:56.917611Z"
    },
    "tags": []
   },
   "outputs": [
    {
     "name": "stdout",
     "output_type": "stream",
     "text": [
      "TEST ON TEST SET\n",
      "Base model\n",
      "Precision:0.8598726114649682\n",
      "Recall:0.8181818181818182\n",
      "Base model adjusted\n",
      "Precision:0.9083665338645418\n",
      "Recall:0.6909090909090909\n",
      "Best model\n",
      "Precision:0.905511811023622\n",
      "Recall:0.696969696969697\n",
      "Best model no adjustement\n",
      "Precision:0.8996282527881041\n",
      "Recall:0.7333333333333333\n",
      "\n",
      "\n"
     ]
    }
   ],
   "source": [
    "test_models('TEST ON TEST SET', X_test, y_test)"
   ]
  },
  {
   "cell_type": "code",
   "execution_count": 94,
   "id": "00cad792-246f-41b4-8ae0-2c7b45c8153c",
   "metadata": {
    "tags": []
   },
   "outputs": [
    {
     "data": {
      "text/html": [
       "<style>#sk-container-id-2 {color: black;}#sk-container-id-2 pre{padding: 0;}#sk-container-id-2 div.sk-toggleable {background-color: white;}#sk-container-id-2 label.sk-toggleable__label {cursor: pointer;display: block;width: 100%;margin-bottom: 0;padding: 0.3em;box-sizing: border-box;text-align: center;}#sk-container-id-2 label.sk-toggleable__label-arrow:before {content: \"▸\";float: left;margin-right: 0.25em;color: #696969;}#sk-container-id-2 label.sk-toggleable__label-arrow:hover:before {color: black;}#sk-container-id-2 div.sk-estimator:hover label.sk-toggleable__label-arrow:before {color: black;}#sk-container-id-2 div.sk-toggleable__content {max-height: 0;max-width: 0;overflow: hidden;text-align: left;background-color: #f0f8ff;}#sk-container-id-2 div.sk-toggleable__content pre {margin: 0.2em;color: black;border-radius: 0.25em;background-color: #f0f8ff;}#sk-container-id-2 input.sk-toggleable__control:checked~div.sk-toggleable__content {max-height: 200px;max-width: 100%;overflow: auto;}#sk-container-id-2 input.sk-toggleable__control:checked~label.sk-toggleable__label-arrow:before {content: \"▾\";}#sk-container-id-2 div.sk-estimator input.sk-toggleable__control:checked~label.sk-toggleable__label {background-color: #d4ebff;}#sk-container-id-2 div.sk-label input.sk-toggleable__control:checked~label.sk-toggleable__label {background-color: #d4ebff;}#sk-container-id-2 input.sk-hidden--visually {border: 0;clip: rect(1px 1px 1px 1px);clip: rect(1px, 1px, 1px, 1px);height: 1px;margin: -1px;overflow: hidden;padding: 0;position: absolute;width: 1px;}#sk-container-id-2 div.sk-estimator {font-family: monospace;background-color: #f0f8ff;border: 1px dotted black;border-radius: 0.25em;box-sizing: border-box;margin-bottom: 0.5em;}#sk-container-id-2 div.sk-estimator:hover {background-color: #d4ebff;}#sk-container-id-2 div.sk-parallel-item::after {content: \"\";width: 100%;border-bottom: 1px solid gray;flex-grow: 1;}#sk-container-id-2 div.sk-label:hover label.sk-toggleable__label {background-color: #d4ebff;}#sk-container-id-2 div.sk-serial::before {content: \"\";position: absolute;border-left: 1px solid gray;box-sizing: border-box;top: 0;bottom: 0;left: 50%;z-index: 0;}#sk-container-id-2 div.sk-serial {display: flex;flex-direction: column;align-items: center;background-color: white;padding-right: 0.2em;padding-left: 0.2em;position: relative;}#sk-container-id-2 div.sk-item {position: relative;z-index: 1;}#sk-container-id-2 div.sk-parallel {display: flex;align-items: stretch;justify-content: center;background-color: white;position: relative;}#sk-container-id-2 div.sk-item::before, #sk-container-id-2 div.sk-parallel-item::before {content: \"\";position: absolute;border-left: 1px solid gray;box-sizing: border-box;top: 0;bottom: 0;left: 50%;z-index: -1;}#sk-container-id-2 div.sk-parallel-item {display: flex;flex-direction: column;z-index: 1;position: relative;background-color: white;}#sk-container-id-2 div.sk-parallel-item:first-child::after {align-self: flex-end;width: 50%;}#sk-container-id-2 div.sk-parallel-item:last-child::after {align-self: flex-start;width: 50%;}#sk-container-id-2 div.sk-parallel-item:only-child::after {width: 0;}#sk-container-id-2 div.sk-dashed-wrapped {border: 1px dashed gray;margin: 0 0.4em 0.5em 0.4em;box-sizing: border-box;padding-bottom: 0.4em;background-color: white;}#sk-container-id-2 div.sk-label label {font-family: monospace;font-weight: bold;display: inline-block;line-height: 1.2em;}#sk-container-id-2 div.sk-label-container {text-align: center;}#sk-container-id-2 div.sk-container {/* jupyter's `normalize.less` sets `[hidden] { display: none; }` but bootstrap.min.css set `[hidden] { display: none !important; }` so we also need the `!important` here to be able to override the default hidden behavior on the sphinx rendered scikit-learn.org. See: https://github.com/scikit-learn/scikit-learn/issues/21755 */display: inline-block !important;position: relative;}#sk-container-id-2 div.sk-text-repr-fallback {display: none;}</style><div id=\"sk-container-id-2\" class=\"sk-top-container\"><div class=\"sk-text-repr-fallback\"><pre>LogisticRegression(C=3840.367560001431, max_iter=5000, penalty=&#x27;l1&#x27;,\n",
       "                   solver=&#x27;saga&#x27;)</pre><b>In a Jupyter environment, please rerun this cell to show the HTML representation or trust the notebook. <br />On GitHub, the HTML representation is unable to render, please try loading this page with nbviewer.org.</b></div><div class=\"sk-container\" hidden><div class=\"sk-item\"><div class=\"sk-estimator sk-toggleable\"><input class=\"sk-toggleable__control sk-hidden--visually\" id=\"sk-estimator-id-4\" type=\"checkbox\" checked><label for=\"sk-estimator-id-4\" class=\"sk-toggleable__label sk-toggleable__label-arrow\">LogisticRegression</label><div class=\"sk-toggleable__content\"><pre>LogisticRegression(C=3840.367560001431, max_iter=5000, penalty=&#x27;l1&#x27;,\n",
       "                   solver=&#x27;saga&#x27;)</pre></div></div></div></div></div>"
      ],
      "text/plain": [
       "LogisticRegression(C=3840.367560001431, max_iter=5000, penalty='l1',\n",
       "                   solver='saga')"
      ]
     },
     "execution_count": 94,
     "metadata": {},
     "output_type": "execute_result"
    }
   ],
   "source": [
    "model.fit(prepare_data(X)[top_features],y)"
   ]
  },
  {
   "cell_type": "code",
   "execution_count": 95,
   "id": "f8d4bb1a-5512-4c47-9f42-252310afeded",
   "metadata": {
    "tags": []
   },
   "outputs": [],
   "source": [
    "final_model = model"
   ]
  },
  {
   "cell_type": "code",
   "execution_count": 96,
   "id": "3d126760-1eb1-4cf5-9e00-2024e57194fd",
   "metadata": {},
   "outputs": [],
   "source": [
    "predictions = final_model.predict(prepare_data(unknown_behaviour)[top_features])"
   ]
  },
  {
   "cell_type": "markdown",
   "id": "bc6fdb32-7259-4711-84b5-b2afee7e89fc",
   "metadata": {},
   "source": [
    "<strong style=\"color:purple\">===========================================================END-SOLUTION===========================================================</strong>"
   ]
  },
  {
   "cell_type": "markdown",
   "id": "2106a7eb-898d-46f4-9d06-a69617290e30",
   "metadata": {
    "tags": []
   },
   "source": [
    "### ☑️ Test your code\n",
    "\n",
    "Note: this only tests if you achieve the mandated **precision** and **recall** on an unseen dataset. It does not check the quality of your code or the completeness of your answer.\n"
   ]
  },
  {
   "cell_type": "code",
   "execution_count": 97,
   "id": "218b7498-4b43-44bb-9d4e-6ce454cd037d",
   "metadata": {
    "ExecuteTime": {
     "end_time": "2021-10-30T13:03:44.216915Z",
     "start_time": "2021-10-30T13:03:43.400038Z"
    },
    "tags": []
   },
   "outputs": [
    {
     "name": "stdout",
     "output_type": "stream",
     "text": [
      "\n",
      "\u001b[1m============================= test session starts ==============================\u001b[0m\n",
      "platform darwin -- Python 3.11.2, pytest-7.4.2, pluggy-1.3.0 -- /Users/cedric/.pyenv/versions/3.10/envs/dsml4pe/bin/python3\n",
      "cachedir: .pytest_cache\n",
      "rootdir: /Users/cedric/code/cedricmjohn/teaching/PG-Machine-Learning/Machine-Learning-for-Planet-Earth-Practicals/07-Ensemble-Methods/03-Swarm-Behaviour/tests\n",
      "plugins: anyio-4.0.0\n",
      "\u001b[1mcollecting ... \u001b[0mcollected 2 items\n",
      "\n",
      "test_final_classifier.py::TestFinal_classifier::test_precision \u001b[32mPASSED\u001b[0m\u001b[32m    [ 50%]\u001b[0m\n",
      "test_final_classifier.py::TestFinal_classifier::test_recall \u001b[32mPASSED\u001b[0m\u001b[32m       [100%]\u001b[0m\n",
      "\n",
      "\u001b[32m============================== \u001b[32m\u001b[1m2 passed\u001b[0m\u001b[32m in 0.53s\u001b[0m\u001b[32m ===============================\u001b[0m\n",
      "\n",
      "\n",
      "💯 You can commit your code:\n",
      "\n",
      "\u001b[1;32mgit\u001b[39m add tests/final_classifier.pickle\n",
      "\n",
      "\u001b[32mgit\u001b[39m commit -m \u001b[33m'Completed final_classifier step'\u001b[39m\n",
      "\n",
      "\u001b[32mgit\u001b[39m push origin master\n",
      "\n"
     ]
    }
   ],
   "source": [
    "from nbresult import ChallengeResult\n",
    "\n",
    "result = ChallengeResult('final_classifier',\n",
    "                         predictions = predictions,\n",
    ")\n",
    "\n",
    "result.write()\n",
    "print(result.check())"
   ]
  },
  {
   "cell_type": "markdown",
   "id": "83f36b01-9cd9-4c10-84db-c860821b0cc4",
   "metadata": {},
   "source": [
    "# Optional Extension\n",
    "\n",
    "If you are done with the previous exercise, you are free to try `Ensemble methods` (including `XGBoost`) to see if you can outperform the `LogisticRegression`). Have fun!"
   ]
  },
  {
   "cell_type": "markdown",
   "id": "e4814aa6-c69b-4f55-84f9-ec6e1ed1a1ef",
   "metadata": {},
   "source": [
    "# 🏁 Finished!\n",
    "\n",
    "Well done! <span style=\"color:teal\">**Push your exercise to GitHub**</span>, and move on to the next one."
   ]
  }
 ],
 "metadata": {
  "kernelspec": {
   "display_name": "Python 3 (ipykernel)",
   "language": "python",
   "name": "python3"
  },
  "language_info": {
   "codemirror_mode": {
    "name": "ipython",
    "version": 3
   },
   "file_extension": ".py",
   "mimetype": "text/x-python",
   "name": "python",
   "nbconvert_exporter": "python",
   "pygments_lexer": "ipython3",
   "version": "3.11.2"
  },
  "toc": {
   "base_numbering": 1,
   "nav_menu": {},
   "number_sections": true,
   "sideBar": true,
   "skip_h1_title": false,
   "title_cell": "Table of Contents",
   "title_sidebar": "Contents",
   "toc_cell": false,
   "toc_position": {},
   "toc_section_display": true,
   "toc_window_display": false
  }
 },
 "nbformat": 4,
 "nbformat_minor": 5
}
