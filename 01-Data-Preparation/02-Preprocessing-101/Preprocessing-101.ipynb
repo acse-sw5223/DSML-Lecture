{
 "cells": [
  {
   "cell_type": "markdown",
   "id": "b51ec437",
   "metadata": {},
   "source": [
    "<img src=\"https://drive.google.com/uc?id=1-cL5eOpEsbuIEkvwW2KnpXC12-PAbamr\" style=\"Width:1000px\">"
   ]
  },
  {
   "cell_type": "markdown",
   "id": "8b9e589e",
   "metadata": {},
   "source": [
    "# Data Preprocessing 101 \n",
    "\n",
    "In this first exercise, we will go step by step through the data preparation steps. This guide is not fully comprehensive but it gives you a good understanding of what to do. The main goal is to teach you the `sklearn` syntax for some of the operations.\n",
    "\n",
    "The skills you acquired with `NumPy` and with `Pandas` in the previous module will come handy here, as well as in the rest of the `machine learning` module!"
   ]
  },
  {
   "cell_type": "markdown",
   "id": "14bb76ef",
   "metadata": {},
   "source": [
    "## Dataset\n",
    "\n",
    "We will be using the <span style=\"color:teal\">**Todays's dataset:**</span><a href=\"https://www.kaggle.com/datasets/rohanrao/air-quality-data-in-india\"> India air quality data, Kaggle</a>, the very same dataset we have seen in the lecture."
   ]
  },
  {
   "cell_type": "markdown",
   "id": "c11d483e",
   "metadata": {},
   "source": [
    "# Load the data \n",
    "\n",
    "Load the data `raw_data/India_air_quality.csv` into a new `Pandas.DataFrame` that you can call `data`:"
   ]
  },
  {
   "cell_type": "code",
   "execution_count": 2,
   "id": "b5802973",
   "metadata": {},
   "outputs": [],
   "source": [
    "# from nbta.utils import download_data\n",
    "# download_data(id='1HtOHNoKtbqxsROzC0grJsXLR1CvM58xa')\n",
    "rds = 42"
   ]
  },
  {
   "cell_type": "code",
   "execution_count": 3,
   "id": "d1e5d05c",
   "metadata": {},
   "outputs": [
    {
     "data": {
      "text/html": [
       "<div>\n",
       "<style scoped>\n",
       "    .dataframe tbody tr th:only-of-type {\n",
       "        vertical-align: middle;\n",
       "    }\n",
       "\n",
       "    .dataframe tbody tr th {\n",
       "        vertical-align: top;\n",
       "    }\n",
       "\n",
       "    .dataframe thead th {\n",
       "        text-align: right;\n",
       "    }\n",
       "</style>\n",
       "<table border=\"1\" class=\"dataframe\">\n",
       "  <thead>\n",
       "    <tr style=\"text-align: right;\">\n",
       "      <th></th>\n",
       "      <th>so2</th>\n",
       "      <th>no2</th>\n",
       "      <th>rspm</th>\n",
       "      <th>spm</th>\n",
       "      <th>pm2_5</th>\n",
       "      <th>rainfall</th>\n",
       "    </tr>\n",
       "  </thead>\n",
       "  <tbody>\n",
       "    <tr>\n",
       "      <th>count</th>\n",
       "      <td>289069.000000</td>\n",
       "      <td>310031.000000</td>\n",
       "      <td>310031.000000</td>\n",
       "      <td>129953.000000</td>\n",
       "      <td>6520.000000</td>\n",
       "      <td>269701.000000</td>\n",
       "    </tr>\n",
       "    <tr>\n",
       "      <th>mean</th>\n",
       "      <td>11.163789</td>\n",
       "      <td>26.403134</td>\n",
       "      <td>108.075994</td>\n",
       "      <td>217.529277</td>\n",
       "      <td>40.644914</td>\n",
       "      <td>79.922297</td>\n",
       "    </tr>\n",
       "    <tr>\n",
       "      <th>std</th>\n",
       "      <td>11.134656</td>\n",
       "      <td>17.965159</td>\n",
       "      <td>73.249767</td>\n",
       "      <td>147.554093</td>\n",
       "      <td>30.825520</td>\n",
       "      <td>20.010910</td>\n",
       "    </tr>\n",
       "    <tr>\n",
       "      <th>min</th>\n",
       "      <td>0.000000</td>\n",
       "      <td>-66.400000</td>\n",
       "      <td>0.000000</td>\n",
       "      <td>0.000000</td>\n",
       "      <td>3.000000</td>\n",
       "      <td>-24.682525</td>\n",
       "    </tr>\n",
       "    <tr>\n",
       "      <th>25%</th>\n",
       "      <td>5.000000</td>\n",
       "      <td>14.500000</td>\n",
       "      <td>56.666667</td>\n",
       "      <td>111.000000</td>\n",
       "      <td>24.000000</td>\n",
       "      <td>66.406214</td>\n",
       "    </tr>\n",
       "    <tr>\n",
       "      <th>50%</th>\n",
       "      <td>8.220000</td>\n",
       "      <td>23.000000</td>\n",
       "      <td>90.000000</td>\n",
       "      <td>184.000000</td>\n",
       "      <td>32.000000</td>\n",
       "      <td>79.888426</td>\n",
       "    </tr>\n",
       "    <tr>\n",
       "      <th>75%</th>\n",
       "      <td>14.000000</td>\n",
       "      <td>33.000000</td>\n",
       "      <td>140.000000</td>\n",
       "      <td>289.000000</td>\n",
       "      <td>46.000000</td>\n",
       "      <td>93.456215</td>\n",
       "    </tr>\n",
       "    <tr>\n",
       "      <th>max</th>\n",
       "      <td>909.000000</td>\n",
       "      <td>876.000000</td>\n",
       "      <td>1156.000000</td>\n",
       "      <td>2610.000000</td>\n",
       "      <td>504.000000</td>\n",
       "      <td>167.928488</td>\n",
       "    </tr>\n",
       "  </tbody>\n",
       "</table>\n",
       "</div>"
      ],
      "text/plain": [
       "                 so2            no2           rspm            spm  \\\n",
       "count  289069.000000  310031.000000  310031.000000  129953.000000   \n",
       "mean       11.163789      26.403134     108.075994     217.529277   \n",
       "std        11.134656      17.965159      73.249767     147.554093   \n",
       "min         0.000000     -66.400000       0.000000       0.000000   \n",
       "25%         5.000000      14.500000      56.666667     111.000000   \n",
       "50%         8.220000      23.000000      90.000000     184.000000   \n",
       "75%        14.000000      33.000000     140.000000     289.000000   \n",
       "max       909.000000     876.000000    1156.000000    2610.000000   \n",
       "\n",
       "             pm2_5       rainfall  \n",
       "count  6520.000000  269701.000000  \n",
       "mean     40.644914      79.922297  \n",
       "std      30.825520      20.010910  \n",
       "min       3.000000     -24.682525  \n",
       "25%      24.000000      66.406214  \n",
       "50%      32.000000      79.888426  \n",
       "75%      46.000000      93.456215  \n",
       "max     504.000000     167.928488  "
      ]
     },
     "execution_count": 3,
     "metadata": {},
     "output_type": "execute_result"
    }
   ],
   "source": [
    "# ADD YOUR CODE HERE -- You can create new markdown and code cells\n",
    "                    \n",
    "import pandas as pd\n",
    "\n",
    "data = pd.read_csv('raw_data/India_air_quality.csv')\n",
    "data.describe()"
   ]
  },
  {
   "cell_type": "markdown",
   "id": "d3ba463b",
   "metadata": {},
   "source": [
    "# 💻 <code>drop_duplicates</code>\n",
    "\n",
    "Do the following:\n",
    "\n",
    "1. Check how many duplicates are in the dataframe by chaining together the pandas functions `.duplicated()` and `.sum()` on the dataframe `data`. Save this value as a variable called `duplicates_count`\n",
    "2. Remove the duplicates from the dataframe by calling the function `.drop_duplicates()` on `data`. NOTE: you need to reassign data to the return value to replace it (`data = data.drop_duplicates()`\n",
    "3. Check that the duplicates have been removed by doing step 1 again\n"
   ]
  },
  {
   "cell_type": "code",
   "execution_count": 4,
   "id": "a51dfc27",
   "metadata": {},
   "outputs": [
    {
     "name": "stdout",
     "output_type": "stream",
     "text": [
      "Number of duplicates before removing: 400\n",
      "Number of duplicates after removing: 0\n"
     ]
    }
   ],
   "source": [
    "# ADD YOUR CODE HERE -- You can create new markdown and code cells\n",
    "\n",
    "duplicates_count = data.duplicated().sum()\n",
    "print('Number of duplicates before removing: {}'.format(duplicates_count))\n",
    "\n",
    "data = data.drop_duplicates()\n",
    "\n",
    "print('Number of duplicates after removing: {}'.format(data.duplicated().sum()))"
   ]
  },
  {
   "cell_type": "markdown",
   "id": "a959007b",
   "metadata": {},
   "source": [
    "# 💻 <code>train_test_split</code>\n",
    "\n",
    "Do the following in this sections:\n",
    "1. Import the `train_test_split` function from `sklearn.model_selection`\n",
    "2. Create a `y` target series that contains `rspm`: this is what we will use as a label to our supervised training later, i.e. we will try to predict this property.\n",
    "3. Create an `X` feature matrix (dataframe) that contains all columns except `rspm` (use `data.drop(columns=\"rspm\")`) \n",
    "4. Create `X_train`, `y_train` (70% of the data) and a `X_test`, `y_test` (30% of the data) by using the `train_test_split` method\n",
    "5. Use the `shape` attribute of your `X_train` to verify the number of samples (should be 216741) and features (should be 11) that you have in the train set\n",
    "\n",
    "**hint 1:** When doing the `train_test_split`, you can set the `test_size` (or `train_size`) to the desired fraction\n",
    "**hint 2:** You can also split directly two dataframe / matrix together, for instance, `train_test_split(X, y, ...)`. Keep in mind that this returns `X_train, X_test, y_train, y_test` (in this order!)"
   ]
  },
  {
   "cell_type": "code",
   "execution_count": 5,
   "id": "714649f8",
   "metadata": {},
   "outputs": [
    {
     "name": "stdout",
     "output_type": "stream",
     "text": [
      "(216741, 10)\n"
     ]
    }
   ],
   "source": [
    "# ADD YOUR CODE HERE -- You can create new markdown and code cells\n",
    "\n",
    "from sklearn.model_selection import train_test_split\n",
    "\n",
    "y = data['rspm']\n",
    "X = data.drop('rspm', axis=1)\n",
    "X_train, X_test, y_train, y_test = train_test_split(X, y, test_size=0.3, random_state=rds)\n",
    "\n",
    "print(X_train.shape)\n",
    "                    "
   ]
  },
  {
   "cell_type": "markdown",
   "id": "0992b24c",
   "metadata": {},
   "source": [
    "### ☑️ Test your code"
   ]
  },
  {
   "cell_type": "code",
   "execution_count": 6,
   "id": "6a5d07e6",
   "metadata": {},
   "outputs": [
    {
     "name": "stdout",
     "output_type": "stream",
     "text": [
      "\n",
      "\u001b[1m============================= test session starts ==============================\u001b[0m\n",
      "platform darwin -- Python 3.11.5, pytest-7.4.2, pluggy-1.3.0 -- /Users/shiyunwa/anaconda3/envs/ese-msc/bin/python3\n",
      "cachedir: .pytest_cache\n",
      "rootdir: /Users/shiyunwa/Documents/dsml4pe-student-pack-acse-sw5223/01-Data-Preparation/02-Preprocessing-101/tests\n",
      "plugins: anyio-3.5.0\n",
      "\u001b[1mcollecting ... \u001b[0mcollected 2 items\n",
      "\n",
      "test_duplicates.py::TestDuplicates::test_dataset_length \u001b[32mPASSED\u001b[0m\u001b[32m           [ 50%]\u001b[0m\n",
      "test_duplicates.py::TestDuplicates::test_duplicate_count \u001b[32mPASSED\u001b[0m\u001b[32m          [100%]\u001b[0m\n",
      "\n",
      "\u001b[32m============================== \u001b[32m\u001b[1m2 passed\u001b[0m\u001b[32m in 0.48s\u001b[0m\u001b[32m ===============================\u001b[0m\n",
      "\n",
      "\n",
      "💯 You can commit your code:\n",
      "\n",
      "\u001b[1;32mgit\u001b[39m add tests/duplicates.pickle\n",
      "\n",
      "\u001b[32mgit\u001b[39m commit -m \u001b[33m'Completed duplicates step'\u001b[39m\n",
      "\n",
      "\u001b[32mgit\u001b[39m push origin master\n",
      "\n"
     ]
    }
   ],
   "source": [
    "from nbresult import ChallengeResult\n",
    "\n",
    "result = ChallengeResult('duplicates',\n",
    "                         duplicates = duplicates_count,\n",
    "                         dataset = X_train\n",
    ")\n",
    "\n",
    "result.write()\n",
    "print(result.check())"
   ]
  },
  {
   "cell_type": "markdown",
   "id": "6d02e8b3",
   "metadata": {},
   "source": [
    "# 💻 Exploratory Data Analysis (EDA)\n",
    "\n",
    "Do the following in this sections:\n",
    "1. Check the **data type** of your train set by looking at the `X_train.dtypes`\n",
    "2. Use the `describe()` method on your `X_train` dataframe to find the various statistics on the numerical values\n",
    "3. Find the frequency of the different locations by calling the `value_counts()` method on the `X_train.location` series\n",
    "4. Plot a historgram of distribution of the `X_train.location` series\n",
    "5. Plot the histograms of all the numerical features in your `X_train` (explore the <a href=\"https://pandas.pydata.org/docs/reference/api/pandas.DataFrame.hist.html\">DataFrame.hist()</a> function)\n"
   ]
  },
  {
   "cell_type": "code",
   "execution_count": 7,
   "id": "09c9a8b4",
   "metadata": {},
   "outputs": [
    {
     "name": "stdout",
     "output_type": "stream",
     "text": [
      "stn_code     object\n",
      "state        object\n",
      "location     object\n",
      "type         object\n",
      "so2         float64\n",
      "no2         float64\n",
      "spm         float64\n",
      "pm2_5       float64\n",
      "date         object\n",
      "rainfall    float64\n",
      "dtype: object\n",
      "\n",
      "                 so2            no2           spm        pm2_5       rainfall\n",
      "count  202025.000000  216741.000000  90875.000000  4583.000000  188881.000000\n",
      "mean       11.133270      26.389450    217.544524    40.501726      79.911407\n",
      "std        11.093978      17.986456    147.514219    30.202104      20.036673\n",
      "min         0.000000     -66.400000      0.000000     4.000000     -24.682525\n",
      "25%         5.000000      14.400000    110.333333    24.000000      66.362289\n",
      "50%         8.200000      23.000000    184.000000    32.000000      79.861002\n",
      "75%        14.000000      33.000000    289.000000    46.000000      93.447692\n",
      "max       909.000000     876.000000   2610.000000   395.000000     166.455104\n"
     ]
    },
    {
     "data": {
      "text/plain": [
       "array([[<Axes: title={'center': 'so2'}>, <Axes: title={'center': 'no2'}>],\n",
       "       [<Axes: title={'center': 'spm'}>,\n",
       "        <Axes: title={'center': 'pm2_5'}>],\n",
       "       [<Axes: title={'center': 'rainfall'}>, <Axes: >]], dtype=object)"
      ]
     },
     "execution_count": 7,
     "metadata": {},
     "output_type": "execute_result"
    },
    {
     "data": {
      "image/png": "[encoded data removed]",
      "text/plain": [
       "<Figure size 640x480 with 1 Axes>"
      ]
     },
     "metadata": {},
     "output_type": "display_data"
    },
    {
     "data": {
      "image/png": "[encoded data removed]",
      "text/plain": [
       "<Figure size 1000x1000 with 6 Axes>"
      ]
     },
     "metadata": {},
     "output_type": "display_data"
    }
   ],
   "source": [
    "# ADD YOUR CODE HERE -- You can create new markdown and code cells\n",
    "\n",
    "print(X_train.dtypes)\n",
    "print()\n",
    "print(X_train.describe())\n",
    "\n",
    "# Plot a historgram of distribution of the `X_train.location` series\n",
    "frequency = X_train.location.value_counts()\n",
    "frequency.hist()\n",
    "\n",
    "# Plot a historgram of distribution of all numerical features in the `X_train` series\n",
    "X_train.hist(figsize=(10,10))\n"
   ]
  },
  {
   "cell_type": "markdown",
   "id": "9b544ca2",
   "metadata": {},
   "source": [
    "# ❓ Missing Data "
   ]
  },
  {
   "cell_type": "markdown",
   "id": "87ff6999",
   "metadata": {},
   "source": [
    "The goal of this step is to identify what data is missing in your `X_train`, and to remove columns with too many missing datapoints (in our case, we will use `>30% missing data` as our threshold to remove columns).\n",
    "\n",
    "Do the following:\n",
    "1. On your train set, call the function `.isnull()` and explore its output. What `dtype` is it? Do you understand what it does?\n",
    "2. Now chain both `.isnull()` with `.sum()`: this will give you the number of missing data in each column! Why?\n",
    "3. Let's sort this output to have the columns with the largest number of missing data at the top. Simply chain a new function, `sort_values()` to the two previous ones. You also need to pass the argument `ascending=False` to the function to have it in descending order.\n",
    "4. This is great, but how do we know whether a column has more or less then 30% missing data? Simple! Devide the output of step 3 above by the lengths of the `X_train` dataframe (or the position 0 on it's `.shape` tuple)! Anything above 0.3 means >0.3% missing data.\n"
   ]
  },
  {
   "cell_type": "code",
   "execution_count": 8,
   "id": "d095a56f",
   "metadata": {},
   "outputs": [
    {
     "name": "stdout",
     "output_type": "stream",
     "text": [
      "pm2_5       212158\n",
      "spm         125866\n",
      "stn_code     74057\n",
      "rainfall     27860\n",
      "so2          14716\n",
      "type           102\n",
      "date             3\n",
      "state            0\n",
      "location         0\n",
      "no2              0\n",
      "dtype: int64\n",
      "\n",
      "0 212158\n",
      "1 125866\n",
      "2 74057\n"
     ]
    }
   ],
   "source": [
    "# ADD YOUR CODE HERE -- You can create new markdown and code cells\n",
    "\n",
    "print(X_train.isnull().sum().sort_values(ascending=False))\n",
    "print()\n",
    "\n",
    "for i, missing_count in enumerate(X_train.isnull().sum().sort_values(ascending=False)):\n",
    "    if missing_count / len(X_train) > 0.3:\n",
    "        print(i, missing_count)"
   ]
  },
  {
   "cell_type": "markdown",
   "id": "39f49495",
   "metadata": {},
   "source": [
    "## Handling missing data\n",
    "\n",
    "Now you know what columns have more than 30% missing data. Let's handle them one by one:"
   ]
  },
  {
   "cell_type": "markdown",
   "id": "a4c1da6f",
   "metadata": {},
   "source": [
    "### <code>pm2_5</code>\n",
    "\n",
    "You should have learned from the exercise above that is >97% of data missing in this column. Simply drop the entire column by using the <a href=\"https://pandas.pydata.org/docs/reference/api/pandas.DataFrame.drop.html\">DataFrame.drop()</a> function.\n",
    "\n",
    "⚠️ You either need to use the `inplace=True` argument or assign the return value of this function back to `X_train` for this change to be reflected in the original `X_train`.\n",
    "\n",
    "Do the same for the other features (columns) with >30% missing data."
   ]
  },
  {
   "cell_type": "code",
   "execution_count": 9,
   "id": "85cae52e",
   "metadata": {},
   "outputs": [
    {
     "name": "stdout",
     "output_type": "stream",
     "text": [
      "rainfall    27860\n",
      "so2         14716\n",
      "type          102\n",
      "date            3\n",
      "state           0\n",
      "location        0\n",
      "no2             0\n",
      "dtype: int64\n"
     ]
    }
   ],
   "source": [
    "# ADD YOUR CODE HERE -- You can create new markdown and code cells\n",
    "\n",
    "X_train = X_train.drop(['pm2_5', 'spm', 'stn_code'], axis=1)\n",
    "\n",
    "print(X_train.isnull().sum().sort_values(ascending=False))\n",
    "\n",
    "for i, missing_count in enumerate(X_train.isnull().sum().sort_values(ascending=False)):\n",
    "    if missing_count / len(X_train) > 0.3:\n",
    "        print(i, missing_count)"
   ]
  },
  {
   "cell_type": "code",
   "execution_count": 10,
   "id": "57691671",
   "metadata": {},
   "outputs": [
    {
     "name": "stdout",
     "output_type": "stream",
     "text": [
      "state        object\n",
      "location     object\n",
      "type         object\n",
      "so2         float64\n",
      "no2         float64\n",
      "date         object\n",
      "rainfall    float64\n",
      "dtype: object\n"
     ]
    }
   ],
   "source": [
    "print(X_train.dtypes)"
   ]
  },
  {
   "cell_type": "markdown",
   "id": "96da3ac2",
   "metadata": {},
   "source": [
    "### <code>type</code>\n",
    "\n",
    "Type also has missing values. However, we will treat these missing values differently here. To understand why, do the following:\n",
    "\n",
    "1. Check the different categories and the number of instance of the `X_train.type` Series: you can see that there is a category named `Others`.\n",
    "2. Use the <a href=\"https://pandas.pydata.org/docs/reference/api/pandas.DataFrame.replace.html\">DataFrame.replace()</a> function to replace all of the missing values (`np.nan`) by `Others`. Make sure to reassign those values back to the `X_train` dataframe"
   ]
  },
  {
   "cell_type": "markdown",
   "id": "6d3f83d8",
   "metadata": {},
   "source": [
    "\n",
    "🚨 Missing data does not necessarily mean no information!\n"
   ]
  },
  {
   "cell_type": "code",
   "execution_count": 11,
   "id": "1fe8ae58",
   "metadata": {},
   "outputs": [
    {
     "name": "stdout",
     "output_type": "stream",
     "text": [
      "                 state     location         type   so2   no2        date  \\\n",
      "67566            Assam     Guwahati  Residential   6.0  13.0  05/01/2015   \n",
      "295410     Maharashtra        Latur  Residential   5.0  16.0  18/10/2011   \n",
      "118557     Maharashtra  Navi Mumbai  Residential  12.0  44.0  05/10/2011   \n",
      "227449      Tamil Nadu      Madurai       Others  16.6  25.2  22/05/2006   \n",
      "180266       Karnataka       Hassan  Residential   5.0  18.0  06/08/2012   \n",
      "...                ...          ...          ...   ...   ...         ...   \n",
      "119927   Uttar Pradesh       Jhansi       Others   8.8  28.5  27/03/2009   \n",
      "259456     West Bengal     Durgapur   Industrial   NaN  44.1  06/08/2004   \n",
      "131993  Andhra Pradesh    Hyderabad  Residential   5.0  22.0  23/02/2012   \n",
      "146945  Andhra Pradesh       Guntur  Residential   5.0  16.0  09/12/2013   \n",
      "122007         Gujarat     Vadodara       Others   8.1  16.3  20/10/2006   \n",
      "\n",
      "          rainfall  \n",
      "67566    92.268021  \n",
      "295410         NaN  \n",
      "118557         NaN  \n",
      "227449   59.468407  \n",
      "180266   75.121742  \n",
      "...            ...  \n",
      "119927   85.948820  \n",
      "259456   91.441883  \n",
      "131993  108.806373  \n",
      "146945   75.351849  \n",
      "122007   76.943539  \n",
      "\n",
      "[216741 rows x 7 columns]\n",
      "                 state     location         type   so2   no2        date  \\\n",
      "67566            Assam     Guwahati  Residential   6.0  13.0  05/01/2015   \n",
      "295410     Maharashtra        Latur  Residential   5.0  16.0  18/10/2011   \n",
      "118557     Maharashtra  Navi Mumbai  Residential  12.0  44.0  05/10/2011   \n",
      "227449      Tamil Nadu      Madurai       Others  16.6  25.2  22/05/2006   \n",
      "180266       Karnataka       Hassan  Residential   5.0  18.0  06/08/2012   \n",
      "...                ...          ...          ...   ...   ...         ...   \n",
      "119927   Uttar Pradesh       Jhansi       Others   8.8  28.5  27/03/2009   \n",
      "259456     West Bengal     Durgapur   Industrial   NaN  44.1  06/08/2004   \n",
      "131993  Andhra Pradesh    Hyderabad  Residential   5.0  22.0  23/02/2012   \n",
      "146945  Andhra Pradesh       Guntur  Residential   5.0  16.0  09/12/2013   \n",
      "122007         Gujarat     Vadodara       Others   8.1  16.3  20/10/2006   \n",
      "\n",
      "          rainfall  \n",
      "67566    92.268021  \n",
      "295410         NaN  \n",
      "118557         NaN  \n",
      "227449   59.468407  \n",
      "180266   75.121742  \n",
      "...            ...  \n",
      "119927   85.948820  \n",
      "259456   91.441883  \n",
      "131993  108.806373  \n",
      "146945   75.351849  \n",
      "122007   76.943539  \n",
      "\n",
      "[216741 rows x 7 columns]\n"
     ]
    }
   ],
   "source": [
    "# ADD YOUR CODE HERE -- You can create new markdown and code cells\n",
    "import numpy as np\n",
    "\n",
    "print(X_train)\n",
    "X_train['type'] = X_train['type'].replace(np.nan, \"Others\")\n",
    "print(X_train)\n"
   ]
  },
  {
   "cell_type": "markdown",
   "id": "227be019",
   "metadata": {},
   "source": [
    "# Imputing missing data with Sklearn's <code>SimpleImputer</code>\n",
    "\n",
    "We have now dropped all of the features (columns) with too many missing data. We are now going to use the Sklearn <code>SimpleImputer()</code> class: <a href=\"https://scikit-learn.org/stable/modules/generated/sklearn.impute.SimpleImputer.html\">make sure to look at the documentation first!</a> Looking at the documentation for classes and function is one of the best way to learn to code efficiently in machine learning.\n",
    "\n",
    "The second way it to use <a href=\"https://stackoverflow.com/\">Stack Overflow</a> to look for issues you are facing in your code: more often then not, someone has had the same problem and a good solution (with a green tick) is posted. Try to use these sources of information first before calling the teaching assistant for help: it is important to learn to troubleshoot your own problems first.\n",
    "\n",
    "Remember from the class that we will use the `fit()` function on our imputer class to learn the statistics from our `X_train`, and then use the `transform()` function to change our data!\n"
   ]
  },
  {
   "cell_type": "markdown",
   "id": "8dfcc862",
   "metadata": {},
   "source": [
    "## Numerical data\n",
    "\n",
    "Often, when you apply transformation to your data you will want to treat your numerical data differently than you categorical data. For instance, replacing a missing numerical value by the `mean()` of a column makes perfect sense. But this would not make sense for a categorical value (what is the `mean` of the `location` column?)\n",
    "\n",
    "So, we need to do the following:\n",
    "\n",
    "1. Identify the `numerical` columns: you can do this by calling the `select_dtypes()` function on the `X_train` dataframe, and passing the argument `include=np.number` to this function. This will return a dataframe containing only numerical columns! If you call `.columns` on it, you will obtain an array of column names. I suggest you store this in a variable named `num_cols` as it will be useful in later steps.\n",
    "2. Import the `SimpleImputer` class from `sklearn.impute`\n",
    "3. Create `num_imputer` instance with the \"mean\" as its strategy: `num_imputer = SimpleImputer(strategy=\"mean\")`\n",
    "4. Fit your new imputer on the `num_cols` of `train_test`\n",
    "5. You can check the statistics (in this case, the means) of each columns by calling the `.statistics_` property of the `num_imputer`\n",
    "6. Now replace the original numerical columns in `X_train` by the imputed ones, using the `transform` method of your `num_imputer`\n",
    "\n",
    "**hint** for this last step, you can write code that looks like `X_train[num_col] = ...`"
   ]
  },
  {
   "cell_type": "code",
   "execution_count": 12,
   "id": "5703c811",
   "metadata": {},
   "outputs": [
    {
     "name": "stdout",
     "output_type": "stream",
     "text": [
      "Index(['so2', 'no2', 'rainfall'], dtype='object')\n",
      "[11.1332703  26.38944951 79.91140748]\n",
      "so2         0\n",
      "no2         0\n",
      "rainfall    0\n",
      "dtype: int64\n",
      "\n",
      "                 so2            no2       rainfall\n",
      "count  216741.000000  216741.000000  216741.000000\n",
      "mean       11.133270      26.389450      79.911407\n",
      "std        10.710735      17.986456      18.704628\n",
      "min         0.000000     -66.400000     -24.682525\n",
      "25%         5.000000      14.400000      68.668771\n",
      "50%         9.000000      23.000000      79.911407\n",
      "75%        13.550000      33.000000      91.181084\n",
      "max       909.000000     876.000000     166.455104\n"
     ]
    }
   ],
   "source": [
    "# ADD YOUR CODE HERE -- You can create new markdown and code cells\n",
    "\n",
    "from sklearn.impute import SimpleImputer\n",
    "\n",
    "num_cols = X_train.select_dtypes(include=np.number).columns\n",
    "print(num_cols)\n",
    "\n",
    "num_imputer = SimpleImputer(strategy='mean')\n",
    "num_imputer.fit(X_train[num_cols])\n",
    "print(num_imputer.statistics_)\n",
    "X_train[num_cols] = num_imputer.transform(X_train[num_cols])\n",
    "print(X_train[num_cols].isnull().sum())\n",
    "print()\n",
    "print(X_train[num_cols].describe())"
   ]
  },
  {
   "cell_type": "markdown",
   "id": "ffeab135",
   "metadata": {},
   "source": [
    "### Categorical data\n",
    "\n",
    "For the categorical data, you can follow a very similar approach as above:\n",
    "1. Find all of the categorical columns (`cat_cols`), this time using `exclude=np.number` in step 1 from the numerical transformation\n",
    "2. Create a new instance of the `SimpleImputer` class, call it `cat_imputer`, with the `\"most_frequent\"` strategy.\n",
    "3. Apply this new imputer to all categorical columns in a similar way as you did above for numerical columns."
   ]
  },
  {
   "cell_type": "code",
   "execution_count": 13,
   "id": "2af24452",
   "metadata": {},
   "outputs": [
    {
     "name": "stdout",
     "output_type": "stream",
     "text": [
      "Index(['state', 'location', 'type', 'date'], dtype='object')\n",
      "\n",
      "['Maharashtra' 'Nagpur' 'Residential' '06/06/2013']\n",
      "\n",
      "state       0\n",
      "location    0\n",
      "type        0\n",
      "date        0\n",
      "dtype: int64\n",
      "\n",
      "              state location         type        date\n",
      "count        216741   216741       216741      216741\n",
      "unique           34      287            4        4647\n",
      "top     Maharashtra   Nagpur  Residential  06/06/2013\n",
      "freq          49847     6060        91352         128\n"
     ]
    }
   ],
   "source": [
    "# ADD YOUR CODE HERE -- You can create new markdown and code cells\n",
    "\n",
    "# cat_cols = X_train.select_dtypes(include=np.object).columns\n",
    "cat_cols = X_train.select_dtypes(exclude=np.number).columns\n",
    "print(cat_cols)\n",
    "print()\n",
    "\n",
    "cat_imputer = SimpleImputer(strategy='most_frequent')\n",
    "cat_imputer.fit(X_train[cat_cols])\n",
    "print(cat_imputer.statistics_)\n",
    "print()\n",
    "X_train[cat_cols] = cat_imputer.transform(X_train[cat_cols])\n",
    "print(X_train[cat_cols].isnull().sum())\n",
    "print()\n",
    "print(X_train[cat_cols].describe())"
   ]
  },
  {
   "cell_type": "markdown",
   "id": "e30265ba",
   "metadata": {},
   "source": [
    "### ☑️ Test your code"
   ]
  },
  {
   "cell_type": "code",
   "execution_count": 14,
   "id": "cfb027f6",
   "metadata": {},
   "outputs": [
    {
     "name": "stdout",
     "output_type": "stream",
     "text": [
      "\n",
      "\u001b[1m============================= test session starts ==============================\u001b[0m\n",
      "platform darwin -- Python 3.11.5, pytest-7.4.2, pluggy-1.3.0 -- /Users/shiyunwa/anaconda3/envs/ese-msc/bin/python3\n",
      "cachedir: .pytest_cache\n",
      "rootdir: /Users/shiyunwa/Documents/dsml4pe-student-pack-acse-sw5223/01-Data-Preparation/02-Preprocessing-101/tests\n",
      "plugins: anyio-3.5.0\n",
      "\u001b[1mcollecting ... \u001b[0mcollected 2 items\n",
      "\n",
      "test_missing_values.py::TestMissing_values::test_nans \u001b[32mPASSED\u001b[0m\u001b[32m             [ 50%]\u001b[0m\n",
      "test_missing_values.py::TestMissing_values::test_number_of_columns \u001b[32mPASSED\u001b[0m\u001b[32m [100%]\u001b[0m\n",
      "\n",
      "\u001b[32m============================== \u001b[32m\u001b[1m2 passed\u001b[0m\u001b[32m in 0.30s\u001b[0m\u001b[32m ===============================\u001b[0m\n",
      "\n",
      "\n",
      "💯 You can commit your code:\n",
      "\n",
      "\u001b[1;32mgit\u001b[39m add tests/missing_values.pickle\n",
      "\n",
      "\u001b[32mgit\u001b[39m commit -m \u001b[33m'Completed missing_values step'\u001b[39m\n",
      "\n",
      "\u001b[32mgit\u001b[39m push origin master\n",
      "\n"
     ]
    }
   ],
   "source": [
    "from nbresult import ChallengeResult\n",
    "\n",
    "result = ChallengeResult('missing_values',\n",
    "                         dataset = X_train\n",
    ")\n",
    "\n",
    "result.write()\n",
    "print(result.check())"
   ]
  },
  {
   "cell_type": "markdown",
   "id": "c654d526",
   "metadata": {},
   "source": [
    "# Outliers "
   ]
  },
  {
   "cell_type": "markdown",
   "id": "b633a792",
   "metadata": {},
   "source": [
    "We will take a simple approach to outliers here: we will consider that negative values are not possible given that we are looking at concentration of chemicals in the atmosphere. So, we will remove all negative values.\n",
    "\n",
    "Do the following:\n",
    "\n",
    "1. Find the minimum values of all `num_cols` columns (i.e. your numerical columns)\n",
    "2. Drop the rows where any of the `num_cols` are less than zero. Check the `DataFrame.drop()` function documentation to see how to do this \n",
    "\n",
    "**hint**: You may want to find the `index` of the rows where the features you want to remove are < zero, and then pay attention to the `index` parameter of the `drop()` function!"
   ]
  },
  {
   "cell_type": "code",
   "execution_count": 15,
   "id": "43b91f34",
   "metadata": {},
   "outputs": [
    {
     "name": "stdout",
     "output_type": "stream",
     "text": [
      "                 so2            no2       rainfall\n",
      "count  216741.000000  216741.000000  216741.000000\n",
      "mean       11.133270      26.389450      79.911407\n",
      "std        10.710735      17.986456      18.704628\n",
      "min         0.000000     -66.400000     -24.682525\n",
      "25%         5.000000      14.400000      68.668771\n",
      "50%         9.000000      23.000000      79.911407\n",
      "75%        13.550000      33.000000      91.181084\n",
      "max       909.000000     876.000000     166.455104\n",
      "\n",
      "so2          0.000000\n",
      "no2        -66.400000\n",
      "rainfall   -24.682525\n",
      "dtype: float64\n"
     ]
    }
   ],
   "source": [
    "# ADD YOUR CODE HERE -- You can create new markdown and code cells\n",
    "\n",
    "print(X_train[num_cols].describe())\n",
    "print()\n",
    "print(X_train[num_cols].min())\n",
    "\n",
    "# find outliers in X_train[num_cols], that are negative values and drop them\n",
    "# X_train[num_cols] = X_train[num_cols].where(X_train[num_cols] > 0)\n",
    "\n",
    "rows_to_remove = X_train[X_train[num_cols] < 0].any(axis=1)\n",
    "\n",
    "X_train.drop(X_train[rows_to_remove].index, inplace=True)\n"
   ]
  },
  {
   "cell_type": "code",
   "execution_count": 16,
   "id": "951a2a53",
   "metadata": {},
   "outputs": [
    {
     "data": {
      "text/html": [
       "<div>\n",
       "<style scoped>\n",
       "    .dataframe tbody tr th:only-of-type {\n",
       "        vertical-align: middle;\n",
       "    }\n",
       "\n",
       "    .dataframe tbody tr th {\n",
       "        vertical-align: top;\n",
       "    }\n",
       "\n",
       "    .dataframe thead th {\n",
       "        text-align: right;\n",
       "    }\n",
       "</style>\n",
       "<table border=\"1\" class=\"dataframe\">\n",
       "  <thead>\n",
       "    <tr style=\"text-align: right;\">\n",
       "      <th></th>\n",
       "      <th>so2</th>\n",
       "      <th>no2</th>\n",
       "      <th>rainfall</th>\n",
       "    </tr>\n",
       "  </thead>\n",
       "  <tbody>\n",
       "    <tr>\n",
       "      <th>count</th>\n",
       "      <td>216734.000000</td>\n",
       "      <td>216734.000000</td>\n",
       "      <td>216734.000000</td>\n",
       "    </tr>\n",
       "    <tr>\n",
       "      <th>mean</th>\n",
       "      <td>11.133193</td>\n",
       "      <td>26.390359</td>\n",
       "      <td>79.913160</td>\n",
       "    </tr>\n",
       "    <tr>\n",
       "      <th>std</th>\n",
       "      <td>10.710696</td>\n",
       "      <td>17.984506</td>\n",
       "      <td>18.699964</td>\n",
       "    </tr>\n",
       "    <tr>\n",
       "      <th>min</th>\n",
       "      <td>0.000000</td>\n",
       "      <td>0.000000</td>\n",
       "      <td>0.497750</td>\n",
       "    </tr>\n",
       "    <tr>\n",
       "      <th>25%</th>\n",
       "      <td>5.000000</td>\n",
       "      <td>14.400000</td>\n",
       "      <td>68.669743</td>\n",
       "    </tr>\n",
       "    <tr>\n",
       "      <th>50%</th>\n",
       "      <td>9.000000</td>\n",
       "      <td>23.000000</td>\n",
       "      <td>79.911407</td>\n",
       "    </tr>\n",
       "    <tr>\n",
       "      <th>75%</th>\n",
       "      <td>13.538333</td>\n",
       "      <td>33.000000</td>\n",
       "      <td>91.181017</td>\n",
       "    </tr>\n",
       "    <tr>\n",
       "      <th>max</th>\n",
       "      <td>909.000000</td>\n",
       "      <td>876.000000</td>\n",
       "      <td>166.455104</td>\n",
       "    </tr>\n",
       "  </tbody>\n",
       "</table>\n",
       "</div>"
      ],
      "text/plain": [
       "                 so2            no2       rainfall\n",
       "count  216734.000000  216734.000000  216734.000000\n",
       "mean       11.133193      26.390359      79.913160\n",
       "std        10.710696      17.984506      18.699964\n",
       "min         0.000000       0.000000       0.497750\n",
       "25%         5.000000      14.400000      68.669743\n",
       "50%         9.000000      23.000000      79.911407\n",
       "75%        13.538333      33.000000      91.181017\n",
       "max       909.000000     876.000000     166.455104"
      ]
     },
     "execution_count": 16,
     "metadata": {},
     "output_type": "execute_result"
    }
   ],
   "source": [
    "X_train.describe()"
   ]
  },
  {
   "cell_type": "markdown",
   "id": "a2b5894a",
   "metadata": {},
   "source": [
    "# Feature Engineering\n",
    "\n",
    "Here, we are going to do some feature engineering on `so2` and `no2`. But first, plot the histogram of these two features and see what you observe:\n"
   ]
  },
  {
   "cell_type": "code",
   "execution_count": 17,
   "id": "5f7a6406",
   "metadata": {},
   "outputs": [
    {
     "data": {
      "text/plain": [
       "<Axes: >"
      ]
     },
     "execution_count": 17,
     "metadata": {},
     "output_type": "execute_result"
    },
    {
     "data": {
      "image/png": "[encoded data removed]",
      "text/plain": [
       "<Figure size 640x480 with 1 Axes>"
      ]
     },
     "metadata": {},
     "output_type": "display_data"
    }
   ],
   "source": [
    "# ADD YOUR CODE HERE -- You can create new markdown and code cells\n",
    "\n",
    "X_train['so2'].hist()"
   ]
  },
  {
   "cell_type": "code",
   "execution_count": 18,
   "id": "1e626cda",
   "metadata": {},
   "outputs": [
    {
     "data": {
      "text/plain": [
       "<Axes: >"
      ]
     },
     "execution_count": 18,
     "metadata": {},
     "output_type": "execute_result"
    },
    {
     "data": {
      "image/png": "[encoded data removed]",
      "text/plain": [
       "<Figure size 640x480 with 1 Axes>"
      ]
     },
     "metadata": {},
     "output_type": "display_data"
    }
   ],
   "source": [
    "X_train['no2'].hist()"
   ]
  },
  {
   "cell_type": "markdown",
   "id": "1eebc5b6",
   "metadata": {},
   "source": [
    "## Transforming the two features to a log scale\n",
    "\n",
    "We are going to transform these two features into a logarithmic scale, because this will distribute our data better. Taking the log of a value is a very common data engineering trick that can sometime help improve the signal-to-noise ratio of your dataset.\n",
    "\n",
    "Do the following:\n",
    "\n",
    "1. For both `so2` and `no2` replace the original value by their log. Use `np.log`, and to avoid numerical error, add a small number (`0.001`) to the original values (because the log of 0 is not a number)\n",
    "2. Draw the histograms again: did they improve?"
   ]
  },
  {
   "cell_type": "code",
   "execution_count": 19,
   "id": "0e778d51",
   "metadata": {},
   "outputs": [
    {
     "data": {
      "text/plain": [
       "<Axes: >"
      ]
     },
     "execution_count": 19,
     "metadata": {},
     "output_type": "execute_result"
    },
    {
     "data": {
      "image/png": "[encoded data removed]",
      "text/plain": [
       "<Figure size 640x480 with 1 Axes>"
      ]
     },
     "metadata": {},
     "output_type": "display_data"
    }
   ],
   "source": [
    "# ADD YOUR CODE HERE -- You can create new markdown and code cells\n",
    "\n",
    "X_train['so2'] = np.log(X_train['so2'].astype(float) + 0.001)\n",
    "X_train['no2'] = np.log(X_train['no2'].astype(float) + 0.001)\n",
    "\n",
    "X_train['so2'].hist()\n",
    "X_train['no2'].hist()"
   ]
  },
  {
   "cell_type": "code",
   "execution_count": 20,
   "id": "283f0016",
   "metadata": {},
   "outputs": [
    {
     "name": "stdout",
     "output_type": "stream",
     "text": [
      "count    216734.000000\n",
      "mean          2.100593\n",
      "std           0.867353\n",
      "min          -6.907755\n",
      "25%           1.609638\n",
      "50%           2.197336\n",
      "75%           2.605599\n",
      "max           6.812346\n",
      "Name: so2, dtype: float64\n",
      "\n",
      "count    216734.000000\n",
      "mean          3.065787\n",
      "std           0.757240\n",
      "min          -6.907755\n",
      "25%           2.667298\n",
      "50%           3.135538\n",
      "75%           3.496538\n",
      "max           6.775367\n",
      "Name: no2, dtype: float64\n"
     ]
    }
   ],
   "source": [
    "print(X_train['so2'].describe())\n",
    "print()\n",
    "print(X_train['no2'].describe())"
   ]
  },
  {
   "cell_type": "markdown",
   "id": "30af737e",
   "metadata": {},
   "source": [
    "# Feature Scaling\n",
    "\n",
    "We are now ready to scale our numerical features! Import the `StandardScaler` class from `sklearn.preprocessing`. Remember, this is a `scikit-learn Transformer` so you already know how to use this type of object (if you forgot, go back to the `SimpleImputer` and study what you did with it.\n",
    "\n",
    "Do the following:\n",
    "1. Import the `StandardScaler`\n",
    "2. Create an instance of `StandardScaler` called `scaler`\n",
    "3. Fit the `scaler` to your numerical data, and replace the numerical columns in your `X_train` by their scaled versions!\n",
    "\n",
    "**hint**: If in doubt, read the doc! And again, even though this is a new class, you will use it in a very similar way as the `SimpleImputer` (but of course without the need to use the `strategy` argument)"
   ]
  },
  {
   "cell_type": "code",
   "execution_count": 21,
   "id": "e3b3acbd",
   "metadata": {},
   "outputs": [
    {
     "name": "stdout",
     "output_type": "stream",
     "text": [
      "Index(['so2', 'no2', 'rainfall'], dtype='object')\n",
      "\n",
      "[ 2.10059292  3.06578664 79.91315998]\n",
      "\n",
      "                so2           no2      rainfall\n",
      "count  2.167340e+05  2.167340e+05  2.167340e+05\n",
      "mean  -4.289798e-16  7.978992e-16  7.245612e-16\n",
      "std    1.000002e+00  1.000002e+00  1.000002e+00\n",
      "min   -1.038605e+01 -1.317094e+01 -4.246831e+00\n",
      "25%   -5.660398e-01 -5.262399e-01 -6.012548e-01\n",
      "50%    1.115382e-01  9.211243e-02 -9.371706e-05\n",
      "75%    5.822398e-01  5.688450e-01  6.025617e-01\n",
      "max    5.432351e+00  4.898829e+00  4.627931e+00\n"
     ]
    }
   ],
   "source": [
    "# ADD YOUR CODE HERE -- You can create new markdown and code cells\n",
    "\n",
    "from sklearn.preprocessing import StandardScaler\n",
    "\n",
    "num_cols = X_train.select_dtypes(include=np.number).columns\n",
    "print(num_cols)\n",
    "print()\n",
    "\n",
    "scaler = StandardScaler()\n",
    "scaler.fit(X_train[num_cols])\n",
    "print(scaler.mean_)\n",
    "print()\n",
    "\n",
    "X_train[num_cols] = scaler.transform(X_train[num_cols])\n",
    "print(X_train[num_cols].describe())"
   ]
  },
  {
   "cell_type": "markdown",
   "id": "d29e78c3",
   "metadata": {},
   "source": [
    "### ☑️ Test your code"
   ]
  },
  {
   "cell_type": "code",
   "execution_count": 22,
   "id": "7047ce24",
   "metadata": {},
   "outputs": [
    {
     "name": "stdout",
     "output_type": "stream",
     "text": [
      "\n",
      "\u001b[1m============================= test session starts ==============================\u001b[0m\n",
      "platform darwin -- Python 3.11.5, pytest-7.4.2, pluggy-1.3.0 -- /Users/shiyunwa/anaconda3/envs/ese-msc/bin/python3\n",
      "cachedir: .pytest_cache\n",
      "rootdir: /Users/shiyunwa/Documents/dsml4pe-student-pack-acse-sw5223/01-Data-Preparation/02-Preprocessing-101/tests\n",
      "plugins: anyio-3.5.0\n",
      "\u001b[1mcollecting ... \u001b[0mcollected 2 items\n",
      "\n",
      "test_scaling.py::TestScaling::test_no2 \u001b[32mPASSED\u001b[0m\u001b[32m                            [ 50%]\u001b[0m\n",
      "test_scaling.py::TestScaling::test_so2 \u001b[32mPASSED\u001b[0m\u001b[32m                            [100%]\u001b[0m\n",
      "\n",
      "\u001b[32m============================== \u001b[32m\u001b[1m2 passed\u001b[0m\u001b[32m in 0.29s\u001b[0m\u001b[32m ===============================\u001b[0m\n",
      "\n",
      "\n",
      "💯 You can commit your code:\n",
      "\n",
      "\u001b[1;32mgit\u001b[39m add tests/scaling.pickle\n",
      "\n",
      "\u001b[32mgit\u001b[39m commit -m \u001b[33m'Completed scaling step'\u001b[39m\n",
      "\n",
      "\u001b[32mgit\u001b[39m push origin master\n",
      "\n"
     ]
    }
   ],
   "source": [
    "from nbresult import ChallengeResult\n",
    "\n",
    "result = ChallengeResult('scaling',\n",
    "                         dataset = X_train\n",
    ")\n",
    "\n",
    "result.write()\n",
    "print(result.check())"
   ]
  },
  {
   "cell_type": "markdown",
   "id": "72929a50",
   "metadata": {},
   "source": [
    "# Encoding"
   ]
  },
  {
   "cell_type": "markdown",
   "id": "bc29ed37",
   "metadata": {},
   "source": [
    "Our numerical features are all ready now. We still want to use some of our categorical features, notably the `state` column. But to do this, we first need to encode it using the `OneHotEncoder` class.\n",
    "\n",
    "Do the following:\n",
    "\n",
    "1. From `sklearn.preprocessing` import the `OneHotEncoder` class\n",
    "2. Create a new instance of the `OneHotEncoder` class, call it `ohe`. Make sure to pass the argument `sparse_output=False` when you create the encoder!\n",
    "3. Fit the `ohe` to the `X_train[[\"state\"]]` feature\n",
    "4. We want to capture the column names in the `ohe`. Create a variable with this code: `encoded_columns = ohe.categories_[0]`. Read the doc to understand what this does!\n",
    "5. Create a new array called `state_encoded` by using `ohe.transform(X_train[[\"state\"]])`\n",
    "6. Only keep the numerical columns of `X_train`, for instance, by doing `X_train = X_train[num_cols]`\n",
    "7. Now add the new One-hot-encoded columns to `X_train` by doing `X_train[encoded_columns] = state_encoded`\n",
    "8. Check how your new `X_train` dataframe looks, and check its size: you should see (216735, 36)"
   ]
  },
  {
   "cell_type": "code",
   "execution_count": 23,
   "id": "d53fef5a",
   "metadata": {},
   "outputs": [
    {
     "name": "stdout",
     "output_type": "stream",
     "text": [
      "[array(['Andhra Pradesh', 'Arunachal Pradesh', 'Assam', 'Bihar',\n",
      "       'Chandigarh', 'Chhattisgarh', 'Dadra & Nagar Haveli',\n",
      "       'Daman & Diu', 'Delhi', 'Goa', 'Gujarat', 'Haryana',\n",
      "       'Himachal Pradesh', 'Jammu & Kashmir', 'Jharkhand', 'Karnataka',\n",
      "       'Kerala', 'Madhya Pradesh', 'Maharashtra', 'Manipur', 'Meghalaya',\n",
      "       'Mizoram', 'Nagaland', 'Odisha', 'Puducherry', 'Punjab',\n",
      "       'Rajasthan', 'Sikkim', 'Tamil Nadu', 'Telangana', 'Uttar Pradesh',\n",
      "       'Uttarakhand', 'Uttaranchal', 'West Bengal'], dtype=object)]\n",
      "\n",
      "['Andhra Pradesh' 'Arunachal Pradesh' 'Assam' 'Bihar' 'Chandigarh'\n",
      " 'Chhattisgarh' 'Dadra & Nagar Haveli' 'Daman & Diu' 'Delhi' 'Goa'\n",
      " 'Gujarat' 'Haryana' 'Himachal Pradesh' 'Jammu & Kashmir' 'Jharkhand'\n",
      " 'Karnataka' 'Kerala' 'Madhya Pradesh' 'Maharashtra' 'Manipur' 'Meghalaya'\n",
      " 'Mizoram' 'Nagaland' 'Odisha' 'Puducherry' 'Punjab' 'Rajasthan' 'Sikkim'\n",
      " 'Tamil Nadu' 'Telangana' 'Uttar Pradesh' 'Uttarakhand' 'Uttaranchal'\n",
      " 'West Bengal']\n",
      "\n",
      "[[0. 0. 1. ... 0. 0. 0.]\n",
      " [0. 0. 0. ... 0. 0. 0.]\n",
      " [0. 0. 0. ... 0. 0. 0.]\n",
      " ...\n",
      " [1. 0. 0. ... 0. 0. 0.]\n",
      " [1. 0. 0. ... 0. 0. 0.]\n",
      " [0. 0. 0. ... 0. 0. 0.]]\n",
      "\n",
      "             so2       no2  rainfall  Andhra Pradesh  Arunachal Pradesh  \\\n",
      "67566  -0.355873 -0.661298  0.660691             0.0                0.0   \n",
      "295410 -0.566040 -0.387111 -0.000094             0.0                0.0   \n",
      "118557  0.443185  0.948745 -0.000094             0.0                0.0   \n",
      "227449  0.817282  0.212743 -1.093307             0.0                0.0   \n",
      "180266 -0.566040 -0.231577 -0.256227             0.0                0.0   \n",
      "...          ...       ...       ...             ...                ...   \n",
      "119927  0.085631  0.375249  0.322764             0.0                0.0   \n",
      "259456  0.356759  0.951742  0.616512             0.0                0.0   \n",
      "131993 -0.566040  0.033413  1.545098             1.0                0.0   \n",
      "146945 -0.566040 -0.387111 -0.243921             1.0                0.0   \n",
      "122007 -0.009921 -0.362581 -0.158804             0.0                0.0   \n",
      "\n",
      "        Assam  Bihar  Chandigarh  Chhattisgarh  Dadra & Nagar Haveli  ...  \\\n",
      "67566     1.0    0.0         0.0           0.0                   0.0  ...   \n",
      "295410    0.0    0.0         0.0           0.0                   0.0  ...   \n",
      "118557    0.0    0.0         0.0           0.0                   0.0  ...   \n",
      "227449    0.0    0.0         0.0           0.0                   0.0  ...   \n",
      "180266    0.0    0.0         0.0           0.0                   0.0  ...   \n",
      "...       ...    ...         ...           ...                   ...  ...   \n",
      "119927    0.0    0.0         0.0           0.0                   0.0  ...   \n",
      "259456    0.0    0.0         0.0           0.0                   0.0  ...   \n",
      "131993    0.0    0.0         0.0           0.0                   0.0  ...   \n",
      "146945    0.0    0.0         0.0           0.0                   0.0  ...   \n",
      "122007    0.0    0.0         0.0           0.0                   0.0  ...   \n",
      "\n",
      "        Puducherry  Punjab  Rajasthan  Sikkim  Tamil Nadu  Telangana  \\\n",
      "67566          0.0     0.0        0.0     0.0         0.0        0.0   \n",
      "295410         0.0     0.0        0.0     0.0         0.0        0.0   \n",
      "118557         0.0     0.0        0.0     0.0         0.0        0.0   \n",
      "227449         0.0     0.0        0.0     0.0         1.0        0.0   \n",
      "180266         0.0     0.0        0.0     0.0         0.0        0.0   \n",
      "...            ...     ...        ...     ...         ...        ...   \n",
      "119927         0.0     0.0        0.0     0.0         0.0        0.0   \n",
      "259456         0.0     0.0        0.0     0.0         0.0        0.0   \n",
      "131993         0.0     0.0        0.0     0.0         0.0        0.0   \n",
      "146945         0.0     0.0        0.0     0.0         0.0        0.0   \n",
      "122007         0.0     0.0        0.0     0.0         0.0        0.0   \n",
      "\n",
      "        Uttar Pradesh  Uttarakhand  Uttaranchal  West Bengal  \n",
      "67566             0.0          0.0          0.0          0.0  \n",
      "295410            0.0          0.0          0.0          0.0  \n",
      "118557            0.0          0.0          0.0          0.0  \n",
      "227449            0.0          0.0          0.0          0.0  \n",
      "180266            0.0          0.0          0.0          0.0  \n",
      "...               ...          ...          ...          ...  \n",
      "119927            1.0          0.0          0.0          0.0  \n",
      "259456            0.0          0.0          0.0          1.0  \n",
      "131993            0.0          0.0          0.0          0.0  \n",
      "146945            0.0          0.0          0.0          0.0  \n",
      "122007            0.0          0.0          0.0          0.0  \n",
      "\n",
      "[216734 rows x 37 columns]\n",
      "(216734, 37)\n"
     ]
    },
    {
     "name": "stderr",
     "output_type": "stream",
     "text": [
      "/var/folders/l2/tk6kq1hx5n3dqpdvrw1c3jwr0000gn/T/ipykernel_25513/1933178199.py:20: SettingWithCopyWarning: \n",
      "A value is trying to be set on a copy of a slice from a DataFrame.\n",
      "Try using .loc[row_indexer,col_indexer] = value instead\n",
      "\n",
      "See the caveats in the documentation: https://pandas.pydata.org/pandas-docs/stable/user_guide/indexing.html#returning-a-view-versus-a-copy\n",
      "  X_train[encoded_columns] = state_encoded\n",
      "/var/folders/l2/tk6kq1hx5n3dqpdvrw1c3jwr0000gn/T/ipykernel_25513/1933178199.py:20: SettingWithCopyWarning: \n",
      "A value is trying to be set on a copy of a slice from a DataFrame.\n",
      "Try using .loc[row_indexer,col_indexer] = value instead\n",
      "\n",
      "See the caveats in the documentation: https://pandas.pydata.org/pandas-docs/stable/user_guide/indexing.html#returning-a-view-versus-a-copy\n",
      "  X_train[encoded_columns] = state_encoded\n",
      "/var/folders/l2/tk6kq1hx5n3dqpdvrw1c3jwr0000gn/T/ipykernel_25513/1933178199.py:20: SettingWithCopyWarning: \n",
      "A value is trying to be set on a copy of a slice from a DataFrame.\n",
      "Try using .loc[row_indexer,col_indexer] = value instead\n",
      "\n",
      "See the caveats in the documentation: https://pandas.pydata.org/pandas-docs/stable/user_guide/indexing.html#returning-a-view-versus-a-copy\n",
      "  X_train[encoded_columns] = state_encoded\n"
     ]
    }
   ],
   "source": [
    "# ADD YOUR CODE HERE -- You can create new markdown and code cells\n",
    "\n",
    "from sklearn.preprocessing import OneHotEncoder\n",
    "\n",
    "ohe = OneHotEncoder(sparse_output=False)\n",
    "ohe.fit(X_train[['state']])\n",
    "print(ohe.categories_)\n",
    "print()\n",
    "\n",
    "encoded_columns = ohe.categories_[0]\n",
    "print(encoded_columns)\n",
    "print()\n",
    "\n",
    "state_encoded = ohe.transform(X_train[['state']])\n",
    "print(state_encoded)\n",
    "print()\n",
    "\n",
    "num_cols = X_train.select_dtypes(include=np.number).columns\n",
    "X_train = X_train[num_cols]\n",
    "X_train[encoded_columns] = state_encoded\n",
    "\n",
    "print(X_train)\n",
    "print(X_train.shape)"
   ]
  },
  {
   "cell_type": "markdown",
   "id": "9b070027",
   "metadata": {},
   "source": [
    "### ☑️ Test your code"
   ]
  },
  {
   "cell_type": "code",
   "execution_count": 24,
   "id": "dcbe6fd3",
   "metadata": {},
   "outputs": [
    {
     "name": "stdout",
     "output_type": "stream",
     "text": [
      "\n",
      "\u001b[1m============================= test session starts ==============================\u001b[0m\n",
      "platform darwin -- Python 3.11.5, pytest-7.4.2, pluggy-1.3.0 -- /Users/shiyunwa/anaconda3/envs/ese-msc/bin/python3\n",
      "cachedir: .pytest_cache\n",
      "rootdir: /Users/shiyunwa/Documents/dsml4pe-student-pack-acse-sw5223/01-Data-Preparation/02-Preprocessing-101/tests\n",
      "plugins: anyio-3.5.0\n",
      "\u001b[1mcollecting ... \u001b[0mcollected 3 items\n",
      "\n",
      "test_encoding.py::TestEncoding::test_columns \u001b[32mPASSED\u001b[0m\u001b[32m                      [ 33%]\u001b[0m\n",
      "test_encoding.py::TestEncoding::test_max_values \u001b[32mPASSED\u001b[0m\u001b[32m                   [ 66%]\u001b[0m\n",
      "test_encoding.py::TestEncoding::test_number_of_features \u001b[32mPASSED\u001b[0m\u001b[32m           [100%]\u001b[0m\n",
      "\n",
      "\u001b[32m============================== \u001b[32m\u001b[1m3 passed\u001b[0m\u001b[32m in 0.08s\u001b[0m\u001b[32m ===============================\u001b[0m\n",
      "\n",
      "\n",
      "💯 You can commit your code:\n",
      "\n",
      "\u001b[1;32mgit\u001b[39m add tests/encoding.pickle\n",
      "\n",
      "\u001b[32mgit\u001b[39m commit -m \u001b[33m'Completed encoding step'\u001b[39m\n",
      "\n",
      "\u001b[32mgit\u001b[39m push origin master\n",
      "\n"
     ]
    }
   ],
   "source": [
    "from nbresult import ChallengeResult\n",
    "\n",
    "max_values = [X_train[feature].max() for feature in ['Assam','Bihar', 'Chandigarh', 'Chhattisgarh']]\n",
    "nb_ohe = X_train.drop(columns=['so2','no2','rainfall']).columns.shape[0]\n",
    "\n",
    "result = ChallengeResult('encoding',\n",
    "                         nb_columns = len(X_train.columns),\n",
    "                         max_values = max_values,\n",
    "                         nb_ohe = nb_ohe\n",
    "                         \n",
    ")\n",
    "\n",
    "result.write()\n",
    "print(result.check())"
   ]
  },
  {
   "cell_type": "markdown",
   "id": "99f0f94a",
   "metadata": {},
   "source": [
    "# Preparing our `y_train`\n",
    "\n",
    "## Droping samples\n",
    "When we prepared our `X_train` above, we ended up droping rows because some were duplicated, or outliers. If you test the `shape` of our `y_train` and compare it to the shape of the `X_train`, you will notice that we have different number of samples. This will be a problem soon, when we try to model.\n",
    "\n",
    "Luckily, we can use the index values of the `X_train` to only keep the `y_train` that are relevant to us!\n",
    "\n",
    "Do the following:\n",
    "\n",
    "1. create a new variable, `idx`, which is equal to the `index` of the `X_train` dataset\n",
    "2. Reassign `y_train` to only contain the values with the same index as `X_train`: `y_train = y_train[idx]`\n",
    "3. If you check the `shape` of your `y_train`, it should be now (216735,)"
   ]
  },
  {
   "cell_type": "code",
   "execution_count": 25,
   "id": "dacbc2a8",
   "metadata": {},
   "outputs": [
    {
     "name": "stdout",
     "output_type": "stream",
     "text": [
      "(216734, 37)\n",
      "(216741,)\n",
      "\n",
      "(216734, 37)\n",
      "(216734,)\n"
     ]
    }
   ],
   "source": [
    "# ADD YOUR CODE HERE -- You can create new markdown and code cells\n",
    "\n",
    "print(X_train.shape)\n",
    "print(y_train.shape)\n",
    "print()\n",
    "\n",
    "idx = X_train.index\n",
    "y_train = y_train[idx]\n",
    "\n",
    "print(X_train.shape)\n",
    "print(y_train.shape)"
   ]
  },
  {
   "cell_type": "markdown",
   "id": "cf952311",
   "metadata": {},
   "source": [
    "### ☑️ Test your code"
   ]
  },
  {
   "cell_type": "code",
   "execution_count": 26,
   "id": "52a2d560",
   "metadata": {},
   "outputs": [
    {
     "name": "stdout",
     "output_type": "stream",
     "text": [
      "\n",
      "\u001b[1m============================= test session starts ==============================\u001b[0m\n",
      "platform darwin -- Python 3.11.5, pytest-7.4.2, pluggy-1.3.0 -- /Users/shiyunwa/anaconda3/envs/ese-msc/bin/python3\n",
      "cachedir: .pytest_cache\n",
      "rootdir: /Users/shiyunwa/Documents/dsml4pe-student-pack-acse-sw5223/01-Data-Preparation/02-Preprocessing-101/tests\n",
      "plugins: anyio-3.5.0\n",
      "\u001b[1mcollecting ... \u001b[0mcollected 1 item\n",
      "\n",
      "test_y_cat.py::TestY_cat::test_number_cat \u001b[32mPASSED\u001b[0m\u001b[32m                         [100%]\u001b[0m\n",
      "\n",
      "\u001b[32m============================== \u001b[32m\u001b[1m1 passed\u001b[0m\u001b[32m in 0.26s\u001b[0m\u001b[32m ===============================\u001b[0m\n",
      "\n",
      "\n",
      "💯 You can commit your code:\n",
      "\n",
      "\u001b[1;32mgit\u001b[39m add tests/y_cat.pickle\n",
      "\n",
      "\u001b[32mgit\u001b[39m commit -m \u001b[33m'Completed y_cat step'\u001b[39m\n",
      "\n",
      "\u001b[32mgit\u001b[39m push origin master\n",
      "\n"
     ]
    }
   ],
   "source": [
    "from nbresult import ChallengeResult\n",
    "\n",
    "result = ChallengeResult('y_cat',\n",
    "                         dataset = y_train\n",
    ")\n",
    "\n",
    "result.write()\n",
    "print(result.check())"
   ]
  },
  {
   "cell_type": "markdown",
   "id": "67e33bfb-8d83-42d5-b3bb-3861764f4f1d",
   "metadata": {},
   "source": [
    "# Modelling\n",
    "\n",
    "Now comes the fun bit! We are going to try to predict the levell of pollution (`y_train_cat`) based on our features (`X_train`). We will also use cross validation to see which model performs better.\n",
    "\n",
    "Do the following:\n",
    "1. Import `LinearRegression` from `sklearn.linear_model` as well as `cross_validate` from `sklearn.model_selection`\n",
    "2. Create a new instance of `LinearRegression`, call it `lr_model`. \n",
    "3. Cross validate (`cv=5`, `scoring='neg_mean_squared_error'`) your logistic regression model: make sure to capture the output of the function in a variable (`lr_cv`)\n",
    "4. `lr_cv` should be a Python dictionary containing `fit_time`, `score_time`, and `test_score`. Calculate the mean test score as the `root mean squared error` for this linear regression."
   ]
  },
  {
   "cell_type": "code",
   "execution_count": 27,
   "id": "d500a7f3",
   "metadata": {},
   "outputs": [
    {
     "data": {
      "text/html": [
       "<div>\n",
       "<style scoped>\n",
       "    .dataframe tbody tr th:only-of-type {\n",
       "        vertical-align: middle;\n",
       "    }\n",
       "\n",
       "    .dataframe tbody tr th {\n",
       "        vertical-align: top;\n",
       "    }\n",
       "\n",
       "    .dataframe thead th {\n",
       "        text-align: right;\n",
       "    }\n",
       "</style>\n",
       "<table border=\"1\" class=\"dataframe\">\n",
       "  <thead>\n",
       "    <tr style=\"text-align: right;\">\n",
       "      <th></th>\n",
       "      <th>so2</th>\n",
       "      <th>no2</th>\n",
       "      <th>rainfall</th>\n",
       "      <th>Andhra Pradesh</th>\n",
       "      <th>Arunachal Pradesh</th>\n",
       "      <th>Assam</th>\n",
       "      <th>Bihar</th>\n",
       "      <th>Chandigarh</th>\n",
       "      <th>Chhattisgarh</th>\n",
       "      <th>Dadra &amp; Nagar Haveli</th>\n",
       "      <th>...</th>\n",
       "      <th>Puducherry</th>\n",
       "      <th>Punjab</th>\n",
       "      <th>Rajasthan</th>\n",
       "      <th>Sikkim</th>\n",
       "      <th>Tamil Nadu</th>\n",
       "      <th>Telangana</th>\n",
       "      <th>Uttar Pradesh</th>\n",
       "      <th>Uttarakhand</th>\n",
       "      <th>Uttaranchal</th>\n",
       "      <th>West Bengal</th>\n",
       "    </tr>\n",
       "  </thead>\n",
       "  <tbody>\n",
       "    <tr>\n",
       "      <th>67566</th>\n",
       "      <td>-0.355873</td>\n",
       "      <td>-0.661298</td>\n",
       "      <td>0.660691</td>\n",
       "      <td>0.0</td>\n",
       "      <td>0.0</td>\n",
       "      <td>1.0</td>\n",
       "      <td>0.0</td>\n",
       "      <td>0.0</td>\n",
       "      <td>0.0</td>\n",
       "      <td>0.0</td>\n",
       "      <td>...</td>\n",
       "      <td>0.0</td>\n",
       "      <td>0.0</td>\n",
       "      <td>0.0</td>\n",
       "      <td>0.0</td>\n",
       "      <td>0.0</td>\n",
       "      <td>0.0</td>\n",
       "      <td>0.0</td>\n",
       "      <td>0.0</td>\n",
       "      <td>0.0</td>\n",
       "      <td>0.0</td>\n",
       "    </tr>\n",
       "    <tr>\n",
       "      <th>295410</th>\n",
       "      <td>-0.566040</td>\n",
       "      <td>-0.387111</td>\n",
       "      <td>-0.000094</td>\n",
       "      <td>0.0</td>\n",
       "      <td>0.0</td>\n",
       "      <td>0.0</td>\n",
       "      <td>0.0</td>\n",
       "      <td>0.0</td>\n",
       "      <td>0.0</td>\n",
       "      <td>0.0</td>\n",
       "      <td>...</td>\n",
       "      <td>0.0</td>\n",
       "      <td>0.0</td>\n",
       "      <td>0.0</td>\n",
       "      <td>0.0</td>\n",
       "      <td>0.0</td>\n",
       "      <td>0.0</td>\n",
       "      <td>0.0</td>\n",
       "      <td>0.0</td>\n",
       "      <td>0.0</td>\n",
       "      <td>0.0</td>\n",
       "    </tr>\n",
       "    <tr>\n",
       "      <th>118557</th>\n",
       "      <td>0.443185</td>\n",
       "      <td>0.948745</td>\n",
       "      <td>-0.000094</td>\n",
       "      <td>0.0</td>\n",
       "      <td>0.0</td>\n",
       "      <td>0.0</td>\n",
       "      <td>0.0</td>\n",
       "      <td>0.0</td>\n",
       "      <td>0.0</td>\n",
       "      <td>0.0</td>\n",
       "      <td>...</td>\n",
       "      <td>0.0</td>\n",
       "      <td>0.0</td>\n",
       "      <td>0.0</td>\n",
       "      <td>0.0</td>\n",
       "      <td>0.0</td>\n",
       "      <td>0.0</td>\n",
       "      <td>0.0</td>\n",
       "      <td>0.0</td>\n",
       "      <td>0.0</td>\n",
       "      <td>0.0</td>\n",
       "    </tr>\n",
       "    <tr>\n",
       "      <th>227449</th>\n",
       "      <td>0.817282</td>\n",
       "      <td>0.212743</td>\n",
       "      <td>-1.093307</td>\n",
       "      <td>0.0</td>\n",
       "      <td>0.0</td>\n",
       "      <td>0.0</td>\n",
       "      <td>0.0</td>\n",
       "      <td>0.0</td>\n",
       "      <td>0.0</td>\n",
       "      <td>0.0</td>\n",
       "      <td>...</td>\n",
       "      <td>0.0</td>\n",
       "      <td>0.0</td>\n",
       "      <td>0.0</td>\n",
       "      <td>0.0</td>\n",
       "      <td>1.0</td>\n",
       "      <td>0.0</td>\n",
       "      <td>0.0</td>\n",
       "      <td>0.0</td>\n",
       "      <td>0.0</td>\n",
       "      <td>0.0</td>\n",
       "    </tr>\n",
       "    <tr>\n",
       "      <th>180266</th>\n",
       "      <td>-0.566040</td>\n",
       "      <td>-0.231577</td>\n",
       "      <td>-0.256227</td>\n",
       "      <td>0.0</td>\n",
       "      <td>0.0</td>\n",
       "      <td>0.0</td>\n",
       "      <td>0.0</td>\n",
       "      <td>0.0</td>\n",
       "      <td>0.0</td>\n",
       "      <td>0.0</td>\n",
       "      <td>...</td>\n",
       "      <td>0.0</td>\n",
       "      <td>0.0</td>\n",
       "      <td>0.0</td>\n",
       "      <td>0.0</td>\n",
       "      <td>0.0</td>\n",
       "      <td>0.0</td>\n",
       "      <td>0.0</td>\n",
       "      <td>0.0</td>\n",
       "      <td>0.0</td>\n",
       "      <td>0.0</td>\n",
       "    </tr>\n",
       "    <tr>\n",
       "      <th>...</th>\n",
       "      <td>...</td>\n",
       "      <td>...</td>\n",
       "      <td>...</td>\n",
       "      <td>...</td>\n",
       "      <td>...</td>\n",
       "      <td>...</td>\n",
       "      <td>...</td>\n",
       "      <td>...</td>\n",
       "      <td>...</td>\n",
       "      <td>...</td>\n",
       "      <td>...</td>\n",
       "      <td>...</td>\n",
       "      <td>...</td>\n",
       "      <td>...</td>\n",
       "      <td>...</td>\n",
       "      <td>...</td>\n",
       "      <td>...</td>\n",
       "      <td>...</td>\n",
       "      <td>...</td>\n",
       "      <td>...</td>\n",
       "      <td>...</td>\n",
       "    </tr>\n",
       "    <tr>\n",
       "      <th>119927</th>\n",
       "      <td>0.085631</td>\n",
       "      <td>0.375249</td>\n",
       "      <td>0.322764</td>\n",
       "      <td>0.0</td>\n",
       "      <td>0.0</td>\n",
       "      <td>0.0</td>\n",
       "      <td>0.0</td>\n",
       "      <td>0.0</td>\n",
       "      <td>0.0</td>\n",
       "      <td>0.0</td>\n",
       "      <td>...</td>\n",
       "      <td>0.0</td>\n",
       "      <td>0.0</td>\n",
       "      <td>0.0</td>\n",
       "      <td>0.0</td>\n",
       "      <td>0.0</td>\n",
       "      <td>0.0</td>\n",
       "      <td>1.0</td>\n",
       "      <td>0.0</td>\n",
       "      <td>0.0</td>\n",
       "      <td>0.0</td>\n",
       "    </tr>\n",
       "    <tr>\n",
       "      <th>259456</th>\n",
       "      <td>0.356759</td>\n",
       "      <td>0.951742</td>\n",
       "      <td>0.616512</td>\n",
       "      <td>0.0</td>\n",
       "      <td>0.0</td>\n",
       "      <td>0.0</td>\n",
       "      <td>0.0</td>\n",
       "      <td>0.0</td>\n",
       "      <td>0.0</td>\n",
       "      <td>0.0</td>\n",
       "      <td>...</td>\n",
       "      <td>0.0</td>\n",
       "      <td>0.0</td>\n",
       "      <td>0.0</td>\n",
       "      <td>0.0</td>\n",
       "      <td>0.0</td>\n",
       "      <td>0.0</td>\n",
       "      <td>0.0</td>\n",
       "      <td>0.0</td>\n",
       "      <td>0.0</td>\n",
       "      <td>1.0</td>\n",
       "    </tr>\n",
       "    <tr>\n",
       "      <th>131993</th>\n",
       "      <td>-0.566040</td>\n",
       "      <td>0.033413</td>\n",
       "      <td>1.545098</td>\n",
       "      <td>1.0</td>\n",
       "      <td>0.0</td>\n",
       "      <td>0.0</td>\n",
       "      <td>0.0</td>\n",
       "      <td>0.0</td>\n",
       "      <td>0.0</td>\n",
       "      <td>0.0</td>\n",
       "      <td>...</td>\n",
       "      <td>0.0</td>\n",
       "      <td>0.0</td>\n",
       "      <td>0.0</td>\n",
       "      <td>0.0</td>\n",
       "      <td>0.0</td>\n",
       "      <td>0.0</td>\n",
       "      <td>0.0</td>\n",
       "      <td>0.0</td>\n",
       "      <td>0.0</td>\n",
       "      <td>0.0</td>\n",
       "    </tr>\n",
       "    <tr>\n",
       "      <th>146945</th>\n",
       "      <td>-0.566040</td>\n",
       "      <td>-0.387111</td>\n",
       "      <td>-0.243921</td>\n",
       "      <td>1.0</td>\n",
       "      <td>0.0</td>\n",
       "      <td>0.0</td>\n",
       "      <td>0.0</td>\n",
       "      <td>0.0</td>\n",
       "      <td>0.0</td>\n",
       "      <td>0.0</td>\n",
       "      <td>...</td>\n",
       "      <td>0.0</td>\n",
       "      <td>0.0</td>\n",
       "      <td>0.0</td>\n",
       "      <td>0.0</td>\n",
       "      <td>0.0</td>\n",
       "      <td>0.0</td>\n",
       "      <td>0.0</td>\n",
       "      <td>0.0</td>\n",
       "      <td>0.0</td>\n",
       "      <td>0.0</td>\n",
       "    </tr>\n",
       "    <tr>\n",
       "      <th>122007</th>\n",
       "      <td>-0.009921</td>\n",
       "      <td>-0.362581</td>\n",
       "      <td>-0.158804</td>\n",
       "      <td>0.0</td>\n",
       "      <td>0.0</td>\n",
       "      <td>0.0</td>\n",
       "      <td>0.0</td>\n",
       "      <td>0.0</td>\n",
       "      <td>0.0</td>\n",
       "      <td>0.0</td>\n",
       "      <td>...</td>\n",
       "      <td>0.0</td>\n",
       "      <td>0.0</td>\n",
       "      <td>0.0</td>\n",
       "      <td>0.0</td>\n",
       "      <td>0.0</td>\n",
       "      <td>0.0</td>\n",
       "      <td>0.0</td>\n",
       "      <td>0.0</td>\n",
       "      <td>0.0</td>\n",
       "      <td>0.0</td>\n",
       "    </tr>\n",
       "  </tbody>\n",
       "</table>\n",
       "<p>216734 rows × 37 columns</p>\n",
       "</div>"
      ],
      "text/plain": [
       "             so2       no2  rainfall  Andhra Pradesh  Arunachal Pradesh  \\\n",
       "67566  -0.355873 -0.661298  0.660691             0.0                0.0   \n",
       "295410 -0.566040 -0.387111 -0.000094             0.0                0.0   \n",
       "118557  0.443185  0.948745 -0.000094             0.0                0.0   \n",
       "227449  0.817282  0.212743 -1.093307             0.0                0.0   \n",
       "180266 -0.566040 -0.231577 -0.256227             0.0                0.0   \n",
       "...          ...       ...       ...             ...                ...   \n",
       "119927  0.085631  0.375249  0.322764             0.0                0.0   \n",
       "259456  0.356759  0.951742  0.616512             0.0                0.0   \n",
       "131993 -0.566040  0.033413  1.545098             1.0                0.0   \n",
       "146945 -0.566040 -0.387111 -0.243921             1.0                0.0   \n",
       "122007 -0.009921 -0.362581 -0.158804             0.0                0.0   \n",
       "\n",
       "        Assam  Bihar  Chandigarh  Chhattisgarh  Dadra & Nagar Haveli  ...  \\\n",
       "67566     1.0    0.0         0.0           0.0                   0.0  ...   \n",
       "295410    0.0    0.0         0.0           0.0                   0.0  ...   \n",
       "118557    0.0    0.0         0.0           0.0                   0.0  ...   \n",
       "227449    0.0    0.0         0.0           0.0                   0.0  ...   \n",
       "180266    0.0    0.0         0.0           0.0                   0.0  ...   \n",
       "...       ...    ...         ...           ...                   ...  ...   \n",
       "119927    0.0    0.0         0.0           0.0                   0.0  ...   \n",
       "259456    0.0    0.0         0.0           0.0                   0.0  ...   \n",
       "131993    0.0    0.0         0.0           0.0                   0.0  ...   \n",
       "146945    0.0    0.0         0.0           0.0                   0.0  ...   \n",
       "122007    0.0    0.0         0.0           0.0                   0.0  ...   \n",
       "\n",
       "        Puducherry  Punjab  Rajasthan  Sikkim  Tamil Nadu  Telangana  \\\n",
       "67566          0.0     0.0        0.0     0.0         0.0        0.0   \n",
       "295410         0.0     0.0        0.0     0.0         0.0        0.0   \n",
       "118557         0.0     0.0        0.0     0.0         0.0        0.0   \n",
       "227449         0.0     0.0        0.0     0.0         1.0        0.0   \n",
       "180266         0.0     0.0        0.0     0.0         0.0        0.0   \n",
       "...            ...     ...        ...     ...         ...        ...   \n",
       "119927         0.0     0.0        0.0     0.0         0.0        0.0   \n",
       "259456         0.0     0.0        0.0     0.0         0.0        0.0   \n",
       "131993         0.0     0.0        0.0     0.0         0.0        0.0   \n",
       "146945         0.0     0.0        0.0     0.0         0.0        0.0   \n",
       "122007         0.0     0.0        0.0     0.0         0.0        0.0   \n",
       "\n",
       "        Uttar Pradesh  Uttarakhand  Uttaranchal  West Bengal  \n",
       "67566             0.0          0.0          0.0          0.0  \n",
       "295410            0.0          0.0          0.0          0.0  \n",
       "118557            0.0          0.0          0.0          0.0  \n",
       "227449            0.0          0.0          0.0          0.0  \n",
       "180266            0.0          0.0          0.0          0.0  \n",
       "...               ...          ...          ...          ...  \n",
       "119927            1.0          0.0          0.0          0.0  \n",
       "259456            0.0          0.0          0.0          1.0  \n",
       "131993            0.0          0.0          0.0          0.0  \n",
       "146945            0.0          0.0          0.0          0.0  \n",
       "122007            0.0          0.0          0.0          0.0  \n",
       "\n",
       "[216734 rows x 37 columns]"
      ]
     },
     "execution_count": 27,
     "metadata": {},
     "output_type": "execute_result"
    }
   ],
   "source": [
    "X_train"
   ]
  },
  {
   "cell_type": "code",
   "execution_count": 31,
   "id": "22df0666-a41d-4f53-9ea8-6089105193db",
   "metadata": {},
   "outputs": [
    {
     "name": "stdout",
     "output_type": "stream",
     "text": [
      "{'fit_time': array([0.19983602, 0.19476819, 0.22181988, 0.17901707, 0.14758492]), 'score_time': array([0.00505495, 0.03958297, 0.00799227, 0.00396371, 0.0132761 ]), 'test_score': array([-3.73741216e+03, -1.44424589e+21, -3.69420428e+03, -3.76995681e+03,\n",
      "       -3.72518947e+03])}\n",
      "[6.11343779e+01 3.80032352e+10 6.07799661e+01 6.13999740e+01\n",
      " 6.10343302e+01] <class 'numpy.ndarray'>\n"
     ]
    }
   ],
   "source": [
    "# ADD YOUR CODE HERE -- You can create new markdown and code cells\n",
    "\n",
    "from sklearn.linear_model import LinearRegression\n",
    "from sklearn.model_selection import cross_validate\n",
    "\n",
    "lr_model = LinearRegression()\n",
    "lr_cv = cross_validate(lr_model, X_train, y_train, cv=5,\n",
    "                        scoring='neg_mean_squared_error')\n",
    "lr_cv_rm = np.sqrt(-lr_cv['test_score'])\n",
    "\n",
    "print(lr_cv)\n",
    "print(lr_cv_rm, type(lr_cv_rm))"
   ]
  },
  {
   "cell_type": "markdown",
   "id": "80b8ad04-5762-476c-ac3f-53d47ffd1385",
   "metadata": {},
   "source": [
    "### How good is your score?\n",
    "Is your score decent? Why do you think that is?\n",
    "<details><summary>Answer</summary> This is a terrible score of course: the root mean square error is magnitudes larger than what we are trying to predict. But why? This has to do in part with the fact that we now have a lot of columns that determines where the measurement was taken. This does not help in the prediction, and add noise. We will see this week that having the right number of features (and features with high predictive power) is key. Another possible explanation is that the relationship between our `y` and our `X` is not linear, and thus a linear model such as ours will not work well.</details>\n",
    "\n",
    "## Modelling attempt 2\n",
    "\n",
    "Now do exactly the same process as above, but instead of modelling with the entire `X_train`, only use the features `so2`, `no2`, and `rainfall`."
   ]
  },
  {
   "cell_type": "markdown",
   "id": "7039ec3e-5fe4-4a2d-b747-f99ffbc85e9a",
   "metadata": {},
   "source": [
    "Is your new `lr_cv` score a good score? Save your answer as either `True` or `False` (boolean) in a variable called `is_good_score`:"
   ]
  },
  {
   "cell_type": "code",
   "execution_count": 32,
   "id": "1ca522c0",
   "metadata": {},
   "outputs": [
    {
     "name": "stdout",
     "output_type": "stream",
     "text": [
      "{'fit_time': array([0.01464915, 0.0134573 , 0.0111661 , 0.00945187, 0.00970483]), 'score_time': array([0.00125694, 0.00126004, 0.00104809, 0.00255609, 0.00209212]), 'test_score': array([-4755.86997745, -4660.44675219, -4692.27091124, -4803.61005725,\n",
      "       -4783.09032382])}\n",
      "[-4755.86997745 -4660.44675219 -4692.27091124 -4803.61005725\n",
      " -4783.09032382]\n"
     ]
    }
   ],
   "source": [
    "# ADD YOUR CODE HERE -- You can create new markdown and code cells\n",
    "\n",
    "lr_model_2 = LinearRegression()\n",
    "X_train_new = X_train[['so2', 'no2', 'rainfall']]\n",
    "lr_cv = cross_validate(lr_model_2, X_train_new, y_train, cv=5,\n",
    "                          scoring='neg_mean_squared_error')\n",
    "\n",
    "print(lr_cv)\n",
    "print(lr_cv['test_score'])\n"
   ]
  },
  {
   "cell_type": "markdown",
   "id": "7d291b4b",
   "metadata": {},
   "source": [
    "# Assessing your score\n",
    "\n",
    "Is your `lr_cv` score a good score? Save your answer as either `True` or `False` (boolean) in the code below:"
   ]
  },
  {
   "cell_type": "code",
   "execution_count": 35,
   "id": "808f5eee",
   "metadata": {},
   "outputs": [],
   "source": [
    "is_good_score = False"
   ]
  },
  {
   "cell_type": "markdown",
   "id": "6b3600b6-46e8-4d08-8680-81add610a8bf",
   "metadata": {},
   "source": [
    "<details><summary>Answer</summary> Yes, the score is now within the same order of magnitude as our `y`. So this is a good improvement. However, looking critically at it, we can see that the mean error is about 80% of the data itself. So our error is still large. This means that our target variables are not predictive enough for the task.</details>"
   ]
  },
  {
   "cell_type": "markdown",
   "id": "0d5b89c5",
   "metadata": {},
   "source": [
    "### ☑️ Test your code"
   ]
  },
  {
   "cell_type": "code",
   "execution_count": 36,
   "id": "c2cb1f1e",
   "metadata": {},
   "outputs": [
    {
     "name": "stdout",
     "output_type": "stream",
     "text": [
      "\n",
      "\u001b[1m============================= test session starts ==============================\u001b[0m\n",
      "platform darwin -- Python 3.11.5, pytest-7.4.2, pluggy-1.3.0 -- /Users/shiyunwa/anaconda3/envs/ese-msc/bin/python3\n",
      "cachedir: .pytest_cache\n",
      "rootdir: /Users/shiyunwa/Documents/dsml4pe-student-pack-acse-sw5223/01-Data-Preparation/02-Preprocessing-101/tests\n",
      "plugins: anyio-3.5.0\n",
      "\u001b[1mcollecting ... \u001b[0mcollected 2 items\n",
      "\n",
      "test_cross_validate.py::TestCross_validate::test_cv_score \u001b[32mPASSED\u001b[0m\u001b[32m         [ 50%]\u001b[0m\n",
      "test_cross_validate.py::TestCross_validate::test_is_good_score \u001b[32mPASSED\u001b[0m\u001b[32m    [100%]\u001b[0m\n",
      "\n",
      "\u001b[32m============================== \u001b[32m\u001b[1m2 passed\u001b[0m\u001b[32m in 0.10s\u001b[0m\u001b[32m ===============================\u001b[0m\n",
      "\n",
      "\n",
      "💯 You can commit your code:\n",
      "\n",
      "\u001b[1;32mgit\u001b[39m add tests/cross_validate.pickle\n",
      "\n",
      "\u001b[32mgit\u001b[39m commit -m \u001b[33m'Completed cross_validate step'\u001b[39m\n",
      "\n",
      "\u001b[32mgit\u001b[39m push origin master\n",
      "\n"
     ]
    }
   ],
   "source": [
    "from nbresult import ChallengeResult\n",
    "\n",
    "result = ChallengeResult('cross_validate',\n",
    "                         cv_lr = lr_cv,\n",
    "                         is_good = is_good_score\n",
    ")\n",
    "\n",
    "result.write()\n",
    "print(result.check())"
   ]
  },
  {
   "cell_type": "markdown",
   "id": "fcdc410a",
   "metadata": {},
   "source": [
    "# 🏁 Finished!\n",
    "\n",
    "Well done! Indeed, this was a terrible score. But the goal of this exercise was to make you familiar with the process, not necessarily to gain the best predictive model. We will be able to do this in subsequent exercises.<br> \n",
    "<span style=\"color:teal\">**Push your exercise to GitHub**</span>, and move on to the next one."
   ]
  },
  {
   "cell_type": "code",
   "execution_count": null,
   "id": "82a24a6b",
   "metadata": {},
   "outputs": [],
   "source": []
  }
 ],
 "metadata": {
  "kernelspec": {
   "display_name": "Python 3 (ipykernel)",
   "language": "python",
   "name": "python3"
  },
  "language_info": {
   "codemirror_mode": {
    "name": "ipython",
    "version": 3
   },
   "file_extension": ".py",
   "mimetype": "text/x-python",
   "name": "python",
   "nbconvert_exporter": "python",
   "pygments_lexer": "ipython3",
   "version": "3.11.5"
  }
 },
 "nbformat": 4,
 "nbformat_minor": 5
}
