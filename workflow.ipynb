{
 "cells": [
  {
   "cell_type": "markdown",
   "metadata": {},
   "source": [
    "# DSML Workflow"
   ]
  },
  {
   "cell_type": "markdown",
   "metadata": {},
   "source": [
    "1. read .csv data file\n",
    "2. duplicate\n",
    "3. get `X` and `y`\n",
    "4. split dataset\n",
    "5. EDA with `X_train`\n",
    "    - missing value / data type\n",
    "    - feature distribution / outliers / constants (`value_counts`)\n",
    "    - correlation matrix (co-linearity)\n",
    "    - histograms (gaussian distribution, `hist` and `scatter`)\n",
    "    - labels (balanced)\n",
    "6. Preprocessing\n",
    "    - `num_pipe`: `impute(mean)`, `scale`\n",
    "    - `cat_pipe`: `impute(most-frequent)`, `encode`\n",
    "    - model\n",
    "7. Modelling\n",
    "    - Dummy\n",
    "    - Linear\n",
    "    - KNN\n",
    "    - SGD\n",
    "    - Decision Trees\n",
    "8. Boosting (homogenous) / Stacking (heterogenous)"
   ]
  },
  {
   "cell_type": "markdown",
   "metadata": {},
   "source": [
    "---\n",
    "\n",
    "Feature engineering (permutation importance) and Boosting/Stacking order?"
   ]
  }
 ],
 "metadata": {
  "language_info": {
   "name": "python"
  }
 },
 "nbformat": 4,
 "nbformat_minor": 2
}
