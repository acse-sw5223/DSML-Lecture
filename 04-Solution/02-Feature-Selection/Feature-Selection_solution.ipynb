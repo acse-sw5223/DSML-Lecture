{
 "cells": [
  {
   "cell_type": "markdown",
   "id": "873b2864",
   "metadata": {},
   "source": [
    "<img src=\"https://drive.google.com/uc?id=1-cL5eOpEsbuIEkvwW2KnpXC12-PAbamr\" style=\"Width:1000px\">"
   ]
  },
  {
   "cell_type": "markdown",
   "id": "057df3a2",
   "metadata": {},
   "source": [
    "# Feature Selection"
   ]
  },
  {
   "cell_type": "markdown",
   "id": "8b514e39",
   "metadata": {},
   "source": [
    "🎯 This exercise is a continuation of exercise 3 on day 1 (***01-Data-Preparation/03-Preprocessing-Workflow***). Here,  you will perform feature selection to determine what the most important features are. \n",
    "\n",
    "👇 Run the cell below to load your preprocessed dataset. No need to worry aout scaling and missing data, this is all already taken care of for you."
   ]
  },
  {
   "cell_type": "code",
   "execution_count": null,
   "id": "f2878d6b",
   "metadata": {},
   "outputs": [],
   "source": [
    "from nbta.utils import download_data\n",
    "download_data(id='1PV1BDs1dIob8E40wqgNw2IyPuqkZVaA0')"
   ]
  },
  {
   "cell_type": "code",
   "execution_count": null,
   "id": "8440da3d",
   "metadata": {},
   "outputs": [],
   "source": [
    "import pandas as pd\n",
    "\n",
    "data = pd.read_csv(\"raw_data/clean_dataset.csv\")\n",
    "\n",
    "data.head()"
   ]
  },
  {
   "cell_type": "markdown",
   "id": "f89e6dda",
   "metadata": {},
   "source": [
    "# Collinearity investigation"
   ]
  },
  {
   "cell_type": "markdown",
   "id": "2466b38c",
   "metadata": {},
   "source": [
    "First, create a new variable called <code>features</code> that contains all of our features including <code>Depth CSF-A (m)</code> but excluding any other feature that relates to the expedition, well, core, section name or core top."
   ]
  },
  {
   "cell_type": "markdown",
   "id": "43d0c69e",
   "metadata": {},
   "source": [
    "👇 Plot a heatmap of the Pearson Correlation between the dataset columns."
   ]
  },
  {
   "cell_type": "markdown",
   "id": "4eeba1fb",
   "metadata": {},
   "source": [
    "<details>\n",
    "    <summary>💡 Hint</summary>\n",
    "ℹ️ The easiest way to draw heatmaps is using the Seaborn <code>heatmap()</code> methjod. <a href='https://seaborn.pydata.org/generated/seaborn.heatmap.html'>Read the doc</a> and do all of the necessary imports. Don't forget that you will need to also obtain a correlation matrix of your features.\n",
    "</details>"
   ]
  },
  {
   "cell_type": "code",
   "execution_count": null,
   "id": "e0293020",
   "metadata": {},
   "outputs": [],
   "source": [
    "import matplotlib.pyplot as plt\n",
    "import seaborn as sns\n",
    "\n",
    "features = data[['Depth CSF-A (m)',\n",
    "       'NGR total counts (cps)', 'Reflectance L*', 'Reflectance a*',\n",
    "       'Reflectance b*', 'H', 'X', 'R']]\n"
   ]
  },
  {
   "cell_type": "code",
   "execution_count": null,
   "id": "7b7bbb6b",
   "metadata": {},
   "outputs": [],
   "source": [
    "corr = features.corr()\n",
    "corr"
   ]
  },
  {
   "cell_type": "code",
   "execution_count": null,
   "id": "d47bf479",
   "metadata": {},
   "outputs": [],
   "source": [
    "sns.heatmap(corr)"
   ]
  },
  {
   "cell_type": "markdown",
   "id": "a074f379",
   "metadata": {},
   "source": [
    "👇 Visualize the correlation between column pairs in a dataframe."
   ]
  },
  {
   "cell_type": "markdown",
   "id": "149c0abe",
   "metadata": {},
   "source": [
    "<details>\n",
    "    <summary>💡 Hint</summary>\n",
    "ℹ️ You should investigate the Seaborn <a href='https://seaborn.pydata.org/generated/seaborn.pairplot.html'> <code>pairplot()</code></a> method.\n",
    "</details>"
   ]
  },
  {
   "cell_type": "code",
   "execution_count": null,
   "id": "df9db070",
   "metadata": {},
   "outputs": [],
   "source": [
    "sns.pairplot(features);"
   ]
  },
  {
   "cell_type": "markdown",
   "id": "499d488b",
   "metadata": {},
   "source": [
    "❓ How many pairs of features exceed a correlation of 0.9 or -0.9? Save your answer as an integer under variable name `correlated_features`"
   ]
  },
  {
   "cell_type": "code",
   "execution_count": null,
   "id": "1e4797b4",
   "metadata": {},
   "outputs": [],
   "source": [
    "correlated_features = 0"
   ]
  },
  {
   "cell_type": "markdown",
   "id": "5463f8bf",
   "metadata": {},
   "source": [
    "### ☑️ Test your code"
   ]
  },
  {
   "cell_type": "code",
   "execution_count": null,
   "id": "ee11d2e5",
   "metadata": {},
   "outputs": [],
   "source": [
    "from nbresult import ChallengeResult\n",
    "\n",
    "result = ChallengeResult('correlation',\n",
    "                         correlated_features = correlated_features\n",
    ")\n",
    "\n",
    "result.write()\n",
    "print(result.check())"
   ]
  },
  {
   "cell_type": "markdown",
   "id": "61bb38d2",
   "metadata": {},
   "source": [
    "# Base Modelling"
   ]
  },
  {
   "cell_type": "markdown",
   "id": "8ac1d186",
   "metadata": {},
   "source": [
    "We want to model the natural gamma ray response (<code>NGR total counts (cps)</code>) as a function of the other feature. NGR is useful to predict lithologies because it is highly correlated to the presence of clay minerals and organics in rocks. <br> \n",
    "👇 Prepare the feature set `X` and target `y`. Remember that we want to model the `NGR total counts (cps)` with the preprocessed features."
   ]
  },
  {
   "cell_type": "code",
   "execution_count": null,
   "id": "29b72f8c",
   "metadata": {},
   "outputs": [],
   "source": [
    "X = features.drop('NGR total counts (cps)', axis=1).copy()\n",
    "y = features[['NGR total counts (cps)']].copy()"
   ]
  },
  {
   "cell_type": "markdown",
   "id": "1bbb1cb4",
   "metadata": {},
   "source": [
    "👇 Cross validate a linear regression model. Save the best score under variable name `base_model_score`."
   ]
  },
  {
   "cell_type": "code",
   "execution_count": null,
   "id": "81ac75bb",
   "metadata": {},
   "outputs": [],
   "source": [
    "from sklearn.model_selection import cross_validate\n",
    "from sklearn.linear_model import LinearRegression\n",
    "import numpy as np\n",
    "\n",
    "cv = cross_validate(LinearRegression(), X,y, scoring = 'r2')\n",
    "\n",
    "scores = cv['test_score']\n",
    "\n",
    "base_model_score = np.max(abs(scores))\n",
    "base_model_score"
   ]
  },
  {
   "cell_type": "markdown",
   "id": "f6b5596a",
   "metadata": {},
   "source": [
    "### ☑️ Test your code"
   ]
  },
  {
   "cell_type": "code",
   "execution_count": null,
   "id": "cb55327a",
   "metadata": {},
   "outputs": [],
   "source": [
    "from nbresult import ChallengeResult\n",
    "\n",
    "result = ChallengeResult('base_model',\n",
    "                         score = base_model_score\n",
    ")\n",
    "\n",
    "result.write()\n",
    "print(result.check())"
   ]
  },
  {
   "cell_type": "markdown",
   "id": "31908358",
   "metadata": {},
   "source": [
    "# Feature Permutation"
   ]
  },
  {
   "cell_type": "markdown",
   "id": "a6f3a239",
   "metadata": {},
   "source": [
    "👇 Perform feature permutation, and rank features by order of importance."
   ]
  },
  {
   "cell_type": "code",
   "execution_count": null,
   "id": "ab456551",
   "metadata": {},
   "outputs": [],
   "source": [
    "from sklearn.inspection import permutation_importance\n",
    "\n",
    "model = LinearRegression().fit(X,y)\n",
    "\n",
    "permutation_score = permutation_importance(model,X, y, n_repeats=10)"
   ]
  },
  {
   "cell_type": "code",
   "execution_count": null,
   "id": "9eb205ab",
   "metadata": {},
   "outputs": [],
   "source": [
    "importance_df = pd.DataFrame(np.vstack((X.columns,\n",
    "permutation_score.importances_mean)).T)\n",
    "\n",
    "importance_df.columns=['feature','score decrease']\n",
    "importance_df.sort_values(by=\"score decrease\", ascending = False, inplace=True)\n",
    "\n",
    "importance_df"
   ]
  },
  {
   "cell_type": "markdown",
   "id": "eba0d39b",
   "metadata": {},
   "source": [
    "❓ Which feature is the most important? Save your answer as a `string` under variable name `best_feature`."
   ]
  },
  {
   "cell_type": "code",
   "execution_count": null,
   "id": "b863ede5",
   "metadata": {},
   "outputs": [],
   "source": [
    "best_feature = 'Reflectance L*'"
   ]
  },
  {
   "cell_type": "markdown",
   "id": "01ff0a0b",
   "metadata": {},
   "source": [
    "### ☑️ Test your code"
   ]
  },
  {
   "cell_type": "code",
   "execution_count": null,
   "id": "e7e517ce",
   "metadata": {},
   "outputs": [],
   "source": [
    "from nbresult import ChallengeResult\n",
    "\n",
    "result = ChallengeResult('feature_permutation',\n",
    "                         feature = best_feature\n",
    ")\n",
    "\n",
    "result.write()\n",
    "print(result.check())"
   ]
  },
  {
   "cell_type": "markdown",
   "id": "eedea11d",
   "metadata": {},
   "source": [
    "# Reduced complexity model"
   ]
  },
  {
   "cell_type": "markdown",
   "id": "6ae73130",
   "metadata": {},
   "source": [
    "👇 Drop the the weak features and cross-validate a new model. You should aim to maintain a score close to the previous one (though it may fall a bit). Save the score under variable name `simplified_model_score`."
   ]
  },
  {
   "cell_type": "code",
   "execution_count": null,
   "id": "99545427",
   "metadata": {},
   "outputs": [],
   "source": [
    "simplified_X = data[['Reflectance L*','Depth CSF-A (m)','H','X','Reflectance a*']].copy()\n",
    "\n",
    "cv2 = cross_validate(LinearRegression(),simplified_X, y)\n",
    "\n",
    "scores = cv2['test_score']\n",
    "\n",
    "simplified_model_score = np.max(abs(scores))\n",
    "simplified_model_score"
   ]
  },
  {
   "cell_type": "markdown",
   "id": "ab76add4",
   "metadata": {},
   "source": [
    "### ☑️ Test your code"
   ]
  },
  {
   "cell_type": "code",
   "execution_count": null,
   "id": "5850e0f1",
   "metadata": {},
   "outputs": [],
   "source": [
    "from nbresult import ChallengeResult\n",
    "\n",
    "result = ChallengeResult('reduced_complexity_model',\n",
    "                         model_score = simplified_model_score\n",
    ")\n",
    "\n",
    "result.write()\n",
    "print(result.check())"
   ]
  },
  {
   "cell_type": "markdown",
   "id": "d7a46ef5",
   "metadata": {},
   "source": [
    "# 🏁 Finished!\n",
    "\n",
    "Well done! <span style=\"color:teal\">**Push your exercise to GitHub**</span>, and move on to the next one."
   ]
  }
 ],
 "metadata": {
  "kernelspec": {
   "display_name": "Python 3 (ipykernel)",
   "language": "python",
   "name": "python3"
  },
  "language_info": {
   "codemirror_mode": {
    "name": "ipython",
    "version": 3
   },
   "file_extension": ".py",
   "mimetype": "text/x-python",
   "name": "python",
   "nbconvert_exporter": "python",
   "pygments_lexer": "ipython3",
   "version": "3.11.2"
  }
 },
 "nbformat": 4,
 "nbformat_minor": 5
}
