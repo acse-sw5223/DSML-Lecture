{
 "cells": [
  {
   "cell_type": "markdown",
   "id": "4cca5307",
   "metadata": {},
   "source": [
    "<img src=\"https://drive.google.com/uc?id=1-hPP-XPm9_5M3orUgmompcVleQ5xvPST\" style=\"Width:1000px\">"
   ]
  },
  {
   "cell_type": "code",
   "execution_count": null,
   "id": "dea8ef4b",
   "metadata": {},
   "outputs": [],
   "source": [
    "from nbta.utils import download_data\n",
    "download_data(id='1Jlq8kHOlsp563-x15b6Mx55st4XIKAjs')"
   ]
  },
  {
   "cell_type": "code",
   "execution_count": null,
   "id": "1e01b3e2",
   "metadata": {},
   "outputs": [],
   "source": [
    "import numpy as np\n",
    "import pandas as pd\n",
    "import matplotlib.pyplot as plt\n",
    "import seaborn as sns\n",
    "\n",
    "data = pd.read_csv('raw_data/penguins.csv')\n",
    "data"
   ]
  },
  {
   "cell_type": "code",
   "execution_count": null,
   "id": "5e0e6e58",
   "metadata": {},
   "outputs": [],
   "source": [
    "from sklearn.model_selection import train_test_split\n",
    "from sklearn.preprocessing import LabelEncoder\n",
    "\n",
    "X = data.drop(columns=['species'])\n",
    "y = data.species\n",
    "                   \n",
    "X_train, X_test, y_train_raw, y_test_raw = train_test_split(X, y, train_size=0.8, random_state=12)\n",
    "\n",
    "label_encoder = LabelEncoder().fit(y_train_raw)\n",
    "\n",
    "y_train = pd.Series(data=label_encoder.transform(y_train_raw),name='species')\n",
    "y_test = pd.Series(data=label_encoder.transform(y_test_raw), name='species')"
   ]
  },
  {
   "cell_type": "markdown",
   "id": "f6ec333a",
   "metadata": {},
   "source": [
    "#### Visualizing the relationship between features\n",
    "\n",
    "Create a pairplot (`seaborn.pairplot`) to visualize the features. Use the `species` as a hue, to be able to distinguish different species."
   ]
  },
  {
   "cell_type": "code",
   "execution_count": null,
   "id": "b1c3092a",
   "metadata": {},
   "outputs": [],
   "source": [
    "plot_data = X_train.copy(); plot_data['species']=y_train_raw.values;\n",
    "sns.pairplot(data=plot_data, hue='species');"
   ]
  },
  {
   "cell_type": "markdown",
   "id": "721684ef",
   "metadata": {},
   "source": [
    "# Creating a PCA projection\n",
    "\n",
    "Create a `X_proj_pca` dataset that is the projected version of your dataset using a `PCA` with a `random_state=5`. I selected 5 because it leads to a nice visualization. Save your `X_proj_pca` as a dataframe."
   ]
  },
  {
   "cell_type": "code",
   "execution_count": null,
   "id": "b6a96db1",
   "metadata": {},
   "outputs": [],
   "source": [
    "from sklearn.decomposition import PCA\n",
    "\n",
    "pca = PCA(random_state=5)\n",
    "pca.fit(X_train)"
   ]
  },
  {
   "cell_type": "code",
   "execution_count": null,
   "id": "4718da2d",
   "metadata": {},
   "outputs": [],
   "source": [
    "X_proj_pca = pca.transform(X_train)\n",
    "X_proj_pca = pd.DataFrame(X_proj_pca, columns=[f'PC{i}' for i in range(1, 5)])\n",
    "X_proj_pca"
   ]
  },
  {
   "cell_type": "markdown",
   "id": "3644fe51",
   "metadata": {},
   "source": [
    "# Dimensionality reduction and projection using graph algorithms (t-SNE and UMAP)\n",
    "\n",
    "* Manifold learning based on graph algorithms \n",
    "* very complex, general principles exlained only\n",
    "* More about graph algorithm during the Deep-Learning week"
   ]
  },
  {
   "cell_type": "markdown",
   "id": "238bcb6b",
   "metadata": {},
   "source": [
    "#### In a nutshell:"
   ]
  },
  {
   "cell_type": "markdown",
   "id": "2b266e39",
   "metadata": {},
   "source": [
    "<img src=\"figures/umap-only.png\" style=\"width:1000\">"
   ]
  },
  {
   "cell_type": "markdown",
   "id": "80029067",
   "metadata": {},
   "source": [
    "## Main Differences between t-SNE and UMAP"
   ]
  },
  {
   "cell_type": "markdown",
   "id": "0feef4df",
   "metadata": {},
   "source": [
    "#### t-SNE (T-distributed Stochastic Neighbor Embedding)\n",
    "* Older algorithm\n",
    "* Relatively simple mathematically: empirical approach\n",
    "* Based on Gaussian probability and student t-test distribution\n",
    "* Uses exclusively Euclidian distance between points\n",
    "* tSNE applies distance normalization"
   ]
  },
  {
   "cell_type": "markdown",
   "id": "5aab08a0",
   "metadata": {},
   "source": [
    "#### UMAP (Uniform Manifold Approximation & Projection)\n",
    "* More recent algorithm\n",
    "* Anchored in theoretical mathematical approach\n",
    "* In order to construct the initial high-dimensional graph, builds a \"fuzzy simplicial complex\"\n",
    "* UMAP is often better at preserving global structure in the final projection than T-SNE\n",
    "* **UMAP is orders of magnitude faster than T-SNE for complex datasets**\n",
    "\n",
    "**A good first read** if you want to understand the mathematical differences between these two algorithms is this blog by <a href=\"https://towardsdatascience.com/how-exactly-umap-works-13e3040e1668\">Olskolkov, 2019</a>"
   ]
  },
  {
   "cell_type": "markdown",
   "id": "94149427",
   "metadata": {},
   "source": [
    "## t-SNE (T-distributed Stochastic Neighbor Embedding)"
   ]
  },
  {
   "cell_type": "markdown",
   "id": "657cb268",
   "metadata": {},
   "source": [
    "A great resource to read about <code>t-SNE</code> is the dedicated blog <a href=\"https://distill.pub/2016/misread-tsne/\">from GoogleBrain</a>. Most of these slides are inspired from it. "
   ]
  },
  {
   "cell_type": "markdown",
   "id": "f2a3a416",
   "metadata": {},
   "source": [
    "**Key hyperparameters:**\n",
    "* <code>Perplexity</code> (distance at which points are considered to be linked)"
   ]
  },
  {
   "cell_type": "markdown",
   "id": "7da83b92",
   "metadata": {},
   "source": [
    "* <code>Perplexity</code> needs to be between 5 and 50, and less than the number of datapoints"
   ]
  },
  {
   "cell_type": "markdown",
   "id": "e48ad295",
   "metadata": {},
   "source": [
    "<img src=\"figures/t-sne-hyperparameters.png\" style=\"width:1200\">"
   ]
  },
  {
   "cell_type": "markdown",
   "id": "614b86cc",
   "metadata": {},
   "source": [
    "**Key hyperparameters:**\n",
    "* <code>Step</code> (number of iterative computation steps)"
   ]
  },
  {
   "cell_type": "markdown",
   "id": "b68f9730",
   "metadata": {},
   "source": [
    "<img src=\"figures/t-sne-steps.png\" style=\"width:1200\">"
   ]
  },
  {
   "cell_type": "markdown",
   "id": "4b8da77e",
   "metadata": {},
   "source": [
    "* Need sufficient <code>Steps</code> for algorithm to converge!"
   ]
  },
  {
   "cell_type": "markdown",
   "id": "fd5bc4fd",
   "metadata": {},
   "source": [
    "### What do cluster size and distance 'mean'?"
   ]
  },
  {
   "cell_type": "markdown",
   "id": "33284e9c",
   "metadata": {},
   "source": [
    "<img src=\"figures/t-sne-distance.png\" style=\"width:1200\">"
   ]
  },
  {
   "cell_type": "markdown",
   "id": "34812b6a",
   "metadata": {},
   "source": [
    "* Cluster sizes in a t-SNE plot mean nothing (because t-SNE preserves local structure over global structure: large clusters of data tend to be expanded)\n",
    "* Distances between clusters might not mean anything\n",
    "* Random noise doesn’t always look random"
   ]
  },
  {
   "cell_type": "markdown",
   "id": "570c99f4",
   "metadata": {},
   "source": [
    "<img src=\"figures/t-sne-topology.png\" style=\"width:1200\">"
   ]
  },
  {
   "cell_type": "markdown",
   "id": "a6ec1889",
   "metadata": {},
   "source": [
    "* For topology, you may need more than one plot"
   ]
  },
  {
   "cell_type": "markdown",
   "id": "1cdaa58b",
   "metadata": {},
   "source": [
    "# Comparing t-SNE and PCA projections\n",
    "\n",
    "Create a plot that will contain three subplots:\n",
    "1. A plot of the original data woth `culmen Depth (mm)` vs `Culmen Length (mm)`\n",
    "2. A plot that contains a `PCA` projection of the data, plotting `PC1` vs `PC3`\n",
    "3. A plot that contains a `T-SNE` projection of the data, plotting `TSNE 1` vs `TSNE 2`. Use a `random_state=11` for your `T-SNE` to obtain a nice projection (though feel free to play with this parameter to see how unstable `T-SNE` projections can be.\n",
    "\n",
    "In all three cases, use color to show the species that each datapoint belongs to. Which projection does a better job at separating the species?"
   ]
  },
  {
   "cell_type": "code",
   "execution_count": null,
   "id": "ecbde2ab",
   "metadata": {},
   "outputs": [],
   "source": [
    "from sklearn.manifold import TSNE\n",
    "\n",
    "TSNE_embedded = TSNE(random_state=11).fit_transform(X_train)\n",
    "TSNE_embedded.shape\n"
   ]
  },
  {
   "cell_type": "code",
   "execution_count": null,
   "id": "a79efb76",
   "metadata": {},
   "outputs": [],
   "source": [
    "from utils import compare_embedding\n",
    "X_proj_PC = X_proj_pca.values\n",
    "compare_embedding({'Before PCA (initial space)':{'x':X_train.iloc[:,0], 'y':X_train.iloc[:,1],'xlabel':'Culmen Lenght (mm)', 'ylabel':'Culmen Depth (mm'},\n",
    " 'PCA Projection':{'x':X_proj_PC[:,0], 'y':X_proj_PC[:,1],'xlabel':'PC_1', 'ylabel':'PC_2'},\n",
    " 'T-SNE Projection':{'x':TSNE_embedded[:,0], 'y':TSNE_embedded[:,1],'xlabel':'TSNE_1', 'ylabel':'TSNE_2'}},labels_data=y_train_raw, marker_size=35)"
   ]
  },
  {
   "cell_type": "markdown",
   "id": "c78d28de",
   "metadata": {},
   "source": [
    "## UMAP: Uniform Manifold Approximation & Projection"
   ]
  },
  {
   "cell_type": "markdown",
   "id": "c821d16e",
   "metadata": {},
   "source": [
    "UMAP has some advantages over t-SNE, notably that it preserves the global geometry of the dataset better. However, like t-SNE, hyperparameters selection really matter (and not easy to choose), and the issues are the same as T-SNE (cluster size, distance, and random noise structure might not be meaningful, etc...)\n",
    "\n",
    "## Install UMAP\n",
    "\n",
    "We first need to install UMPA:\n"
   ]
  },
  {
   "cell_type": "code",
   "execution_count": null,
   "id": "5fbec5ce",
   "metadata": {},
   "outputs": [],
   "source": [
    "!conda install -c conda-forge umap-learn"
   ]
  },
  {
   "cell_type": "markdown",
   "id": "b2a1a372",
   "metadata": {},
   "source": [
    "**Key hyperparameters:**\n",
    "* <code>n_neighbors</code>: The size of local neighborhood (in terms of number of neighboring sample points) used for manifold approximation"
   ]
  },
  {
   "cell_type": "markdown",
   "id": "74e2ba02",
   "metadata": {},
   "source": [
    "* <code>min_distance</code>: The effective minimum distance between embedded points. "
   ]
  },
  {
   "cell_type": "markdown",
   "id": "1a8e9cf2",
   "metadata": {},
   "source": [
    "### Example of projection from 3D to 2D"
   ]
  },
  {
   "cell_type": "markdown",
   "id": "b5ed3b90",
   "metadata": {},
   "source": [
    "<img src=\"figures/UMAP-projection.png\" style=\"width:1500px\">\n",
    "<a href=\"https://pair-code.github.io/understanding-umap/\">Google Brain</a>"
   ]
  },
  {
   "cell_type": "markdown",
   "id": "1346b6a8",
   "metadata": {},
   "source": [
    "### UMAP preserves global context better than t-SNE "
   ]
  },
  {
   "cell_type": "markdown",
   "id": "c54b19b9",
   "metadata": {},
   "source": [
    "<img src=\"figures/t-sne-vs-UMAP2.png\" style=\"width:1500px\">\n",
    "<a href=\"https://pair-code.github.io/understanding-umap/\">Google Brain</a>"
   ]
  },
  {
   "cell_type": "markdown",
   "id": "8997dfc3",
   "metadata": {},
   "source": [
    "### On some datasets t-SNE works better than UMAP!"
   ]
  },
  {
   "cell_type": "markdown",
   "id": "1c9ab0e2",
   "metadata": {},
   "source": [
    "<img src=\"figures/UMAP-failings.png\" style=\"width:1000\">\n",
    "<a href=\"https://pair-code.github.io/understanding-umap/\">Google Brain</a>"
   ]
  },
  {
   "cell_type": "markdown",
   "id": "28b39ebf",
   "metadata": {},
   "source": [
    "# Comparing UMAP and PCA projections\n",
    "\n",
    "Create a plot that will contain three subplots:\n",
    "1. A plot of the original data woth `culmen Depth (mm)` vs `Culmen Length (mm)`\n",
    "2. A plot that contains a `PCA` projection of the data, plotting `PC1` vs `PC3`\n",
    "3. A plot that contains a `UMAP` projection of the data, plotting `UMPA 1` vs `UMAP 2`\n",
    "\n",
    "In all three cases, use color to show the species that each datapoint belongs to. Which projection does a better job at separating the species?"
   ]
  },
  {
   "cell_type": "code",
   "execution_count": null,
   "id": "e0980963",
   "metadata": {},
   "outputs": [],
   "source": [
    "from umap import UMAP \n",
    "umap_trans = UMAP()\n",
    "X_umap = umap_trans.fit_transform(X_train)"
   ]
  },
  {
   "cell_type": "code",
   "execution_count": null,
   "id": "63298be4",
   "metadata": {},
   "outputs": [],
   "source": [
    "compare_embedding({'Before PCA (initial space)':{'x':X_train.iloc[:,0], 'y':X_train.iloc[:,1],'xlabel':'Culmen Lenght (mm)', 'ylabel':'Culmen Depth (mm'},\n",
    " 'PCA Projection':{'x':X_proj_PC[:,0], 'y':X_proj_PC[:,1],'xlabel':'PC_1', 'ylabel':'PC_2'},\n",
    " 'Unsupervised UMAP Projection':{'x':X_umap[:,0], 'y':X_umap[:,1],'xlabel':'UMAP_1', 'ylabel':'UMAP_2'}\n",
    "},labels_data=y_train_raw,loc=(-.15,.87),marker_size=35)"
   ]
  },
  {
   "cell_type": "markdown",
   "id": "429d9d08",
   "metadata": {},
   "source": [
    "# 🏁 Finished!\n",
    "\n",
    "Well done! <span style=\"color:teal\">**Push your exercise to GitHub**</span>. And this was the last exercise of the module. I hope you enjoyed the two weeks spent together!"
   ]
  }
 ],
 "metadata": {},
 "nbformat": 4,
 "nbformat_minor": 5
}
