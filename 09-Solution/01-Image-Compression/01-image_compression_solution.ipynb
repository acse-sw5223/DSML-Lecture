{
 "cells": [
  {
   "cell_type": "markdown",
   "id": "a8995bf4",
   "metadata": {},
   "source": [
    "<img src=\"https://drive.google.com/uc?id=1-cL5eOpEsbuIEkvwW2KnpXC12-PAbamr\" style=\"Width:1000px\">"
   ]
  },
  {
   "cell_type": "code",
   "execution_count": null,
   "id": "4d702346",
   "metadata": {},
   "outputs": [],
   "source": [
    "from nbta.utils import download_data\n",
    "download_data(id='1EO5lq7oX6HzxNyYIfQ4n7snCsDoleVV3')"
   ]
  },
  {
   "cell_type": "code",
   "execution_count": null,
   "id": "f9f57580",
   "metadata": {},
   "outputs": [],
   "source": [
    "import matplotlib.pyplot as plt\n",
    "import numpy as np\n",
    "import pandas as pd"
   ]
  },
  {
   "cell_type": "markdown",
   "id": "d6eda464",
   "metadata": {},
   "source": [
    "# Image Compression with KMeans"
   ]
  },
  {
   "cell_type": "markdown",
   "id": "6187225b",
   "metadata": {},
   "source": [
    "In this exercise and the next one we will use **images**  as data. You will use **K-means** for image compression, by reducing the colors in an image to only the most frequent ones."
   ]
  },
  {
   "cell_type": "markdown",
   "id": "428dacdc",
   "metadata": {},
   "source": [
    "## The image we will use today"
   ]
  },
  {
   "cell_type": "markdown",
   "id": "cc9dda0d",
   "metadata": {},
   "source": [
    "### Opening the image"
   ]
  },
  {
   "cell_type": "markdown",
   "id": "306fff5e",
   "metadata": {},
   "source": [
    "Today, you will work with an image of my research group. This is a bit old now, as it was taken in 2019. Hopefully, you can at least still recognize one of us!\n",
    "\n",
    "Do the following:\n",
    "\n",
    "* Use `open-cv` (`cv2`) `imread` to open the image as a `numpy array`.\n",
    "* If the colors seem off, you will need to convert the colors of this image to RGB by using the `cvtColor` function of `cv2`, with the first argument being your image, and the second argument `cv2.COLOR_RGB2BGR`\n",
    "* Use the `imshow` function in `matplotlib` to display the image\n",
    "\n",
    "Make sure to call your `np.array` version of the image `img`."
   ]
  },
  {
   "cell_type": "code",
   "execution_count": null,
   "id": "72e533ef",
   "metadata": {},
   "outputs": [],
   "source": [
    "import cv2\n",
    "\n",
    "img = cv2.imread('raw_data/john_group_2020.jpg')\n",
    "img = cv2.cvtColor(img, cv2.COLOR_RGB2BGR)\n",
    "plt.imshow(img);"
   ]
  },
  {
   "cell_type": "markdown",
   "id": "638ce439",
   "metadata": {},
   "source": [
    "❓ What is the shape of this image?  Save this into a variable named `img_shape`"
   ]
  },
  {
   "cell_type": "code",
   "execution_count": null,
   "id": "18d55119",
   "metadata": {},
   "outputs": [],
   "source": [
    "# Get the shape of image\n",
    "img_shape = img.shape\n",
    "img_shape"
   ]
  },
  {
   "cell_type": "markdown",
   "id": "ecc0c9fa",
   "metadata": {},
   "source": [
    "### What does the shape mean?\n",
    "\n",
    "For a color image, the shape is the dimension of the image (nb pixels x nb pixels), and **3 channels for red, green and blue (RGB)**. The possible pixel values are between 0 to 255 (256 possible values each channel). \n",
    "\n",
    "A grayscale image (and a black and white image) will have only 1 channel: this will contain `int`s from 0-255 for a greyscale image, or `int`s of either 0 or 1 for a black and white image."
   ]
  },
  {
   "cell_type": "markdown",
   "id": "6f3d81a3",
   "metadata": {},
   "source": [
    "### Number of colors"
   ]
  },
  {
   "cell_type": "markdown",
   "id": "69f13f31",
   "metadata": {},
   "source": [
    "So what are the **samples** and **features** of this dataset? Here, our goal will be to reduce the dimensionality of the image through `k-means`. Specifically, we will reduce the number of `colors` used to represent this image.\n",
    "\n",
    "In this context, we can deduct that:\n",
    "\n",
    "Each **pixel** is a **sample**  or an **observation**\n",
    "Each **color value (Red, Green, Blue)** is a **feature**  \n",
    "\n",
    "In our image, we have **138,000 samples** (400 * 345 pixels) and **3 features** per pixel (RGB)"
   ]
  },
  {
   "cell_type": "markdown",
   "id": "a2b18132",
   "metadata": {},
   "source": [
    "Now, **Reshape the image**:  \n",
    "- From its current size of `width * height * 3`\n",
    "- To a matrix  of size `N * 3` where `N = width * height`  \n",
    "\n",
    "Assign the reshaped image to `X`."
   ]
  },
  {
   "cell_type": "code",
   "execution_count": null,
   "id": "27beeeff",
   "metadata": {},
   "outputs": [],
   "source": [
    "# Reshape\n",
    "X = img.reshape(img_shape[0] * img_shape[1], img_shape[2])"
   ]
  },
  {
   "cell_type": "markdown",
   "id": "78070375",
   "metadata": {},
   "source": [
    "A colored image may contain up to 16 Millions potential colors: **3** channels, and for each channel **256** possible values (from 0 to 255), yields  a potential maximum of **16,777,216** *($256^3$)* colors in a colored image.  \n",
    "\n",
    "Since our image is only 138,000 pixels, it uses at most 138,000 colors, as each pixel contains a single color defined by the three channels' values\n",
    "\n",
    "Store the number of unique colors in this picture in `color_count`"
   ]
  },
  {
   "cell_type": "code",
   "execution_count": null,
   "id": "f6a95dbd",
   "metadata": {},
   "outputs": [],
   "source": [
    "color_count = len(np.unique(X, axis=0))\n",
    "color_count"
   ]
  },
  {
   "cell_type": "markdown",
   "id": "9a4acd13",
   "metadata": {},
   "source": [
    "In summary, we have: \n",
    "- 138,000 samples, each observation is a pixel  \n",
    "- 3 features (Red, Green & Blue values) for each observation\n",
    "- An unknown number of clusters of similar color values\n",
    "\n",
    "**Let's use K-means to reduce the number of colors** 🎨"
   ]
  },
  {
   "cell_type": "markdown",
   "id": "9e4b40a0",
   "metadata": {},
   "source": [
    "### 🧪 Test your code"
   ]
  },
  {
   "cell_type": "code",
   "execution_count": null,
   "id": "d7b1d448",
   "metadata": {},
   "outputs": [],
   "source": [
    "from nbresult import ChallengeResult\n",
    "\n",
    "result = ChallengeResult('image_analysis',\n",
    "                         img_shape = img_shape,\n",
    "                         color_count = color_count)\n",
    "result.write()\n",
    "print(result.check())"
   ]
  },
  {
   "cell_type": "markdown",
   "id": "c3ae6d56",
   "metadata": {},
   "source": [
    "## Compression with K-means"
   ]
  },
  {
   "cell_type": "markdown",
   "id": "f7d5bd0f",
   "metadata": {},
   "source": [
    "We want to reduce the **54,095** colors to **K** colors.  \n",
    "\n",
    "Using a `KMeans` algorithm over the pixels, we can assign each pixel to one of **K** clusters.  The center of each cluster is going to be the average color of the pixels that belong to it. \n",
    "\n",
    "We can then use this \"mean cluster color\" as the RGB values for each pixel in the cluster.  \n",
    "\n",
    "Our objective is to use only **32** colors."
   ]
  },
  {
   "cell_type": "markdown",
   "id": "8ea99ab3",
   "metadata": {},
   "source": [
    "❓ Fit a K-means with `n_clusters=32` and `n_init=10` on your ML-ready image `X`, and assign it to `kmeans`"
   ]
  },
  {
   "cell_type": "code",
   "execution_count": null,
   "id": "97f0ec79",
   "metadata": {},
   "outputs": [],
   "source": [
    "from sklearn.cluster import KMeans\n",
    "kmeans = KMeans(n_clusters=32, n_init=10)\n",
    "kmeans.fit(X)"
   ]
  },
  {
   "cell_type": "markdown",
   "id": "51c68997",
   "metadata": {},
   "source": [
    "👉 Check the `labels_` of your `kmeans`, then check their `shape` and `number of unique values`"
   ]
  },
  {
   "cell_type": "code",
   "execution_count": null,
   "id": "294fed0f",
   "metadata": {},
   "outputs": [],
   "source": [
    "kmeans.labels_ # each label represents a cluster"
   ]
  },
  {
   "cell_type": "code",
   "execution_count": null,
   "id": "08cc2f82",
   "metadata": {},
   "outputs": [],
   "source": [
    "kmeans.labels_.shape # One cluster per observation"
   ]
  },
  {
   "cell_type": "code",
   "execution_count": null,
   "id": "5f0b120d",
   "metadata": {},
   "outputs": [],
   "source": [
    "np.unique(kmeans.labels_).shape # 32 unique clusters"
   ]
  },
  {
   "cell_type": "markdown",
   "id": "429f24bc",
   "metadata": {},
   "source": [
    "☝️ What the above gives us:\n",
    "\n",
    "- Each label is a cluster\n",
    "- There is one label assigned to each observations\n",
    "- There are a total of 32 different labels, one for each cluster"
   ]
  },
  {
   "cell_type": "markdown",
   "id": "e4efb2ee",
   "metadata": {},
   "source": [
    "❓ Check the `cluster_centers_` of your `KMeans`, shape and first element"
   ]
  },
  {
   "cell_type": "code",
   "execution_count": null,
   "id": "f7c58b5f",
   "metadata": {},
   "outputs": [],
   "source": [
    "kmeans.cluster_centers_.shape # One center per cluster"
   ]
  },
  {
   "cell_type": "code",
   "execution_count": null,
   "id": "ddeba2f6",
   "metadata": {},
   "outputs": [],
   "source": [
    "kmeans.cluster_centers_[0] # Each center is a vector of mean RGB values"
   ]
  },
  {
   "cell_type": "markdown",
   "id": "805b01ff",
   "metadata": {},
   "source": [
    "☝️Each cluster_center is a vector of RGB values, it represents the mean color of the cluster"
   ]
  },
  {
   "cell_type": "markdown",
   "id": "0dcdbd30",
   "metadata": {},
   "source": [
    "❓ Store in `X_compressed` an array with the mean colors from the clusters centers for each pixel.\n",
    "\n",
    "<details span=\"markdown\">\n",
    "    <summary>💡 Help</summary>\n",
    "\n",
    "You can achieve this by using only `kmeans.cluster_centers_` and `kmeans.labels_`\n",
    "\n",
    "</details>"
   ]
  },
  {
   "cell_type": "code",
   "execution_count": null,
   "id": "4ea0719f",
   "metadata": {},
   "outputs": [],
   "source": [
    "X_compressed = kmeans.cluster_centers_[kmeans.labels_]\n",
    "X_compressed"
   ]
  },
  {
   "cell_type": "markdown",
   "id": "b20ec941",
   "metadata": {},
   "source": [
    "RGB values must be integer.  \n",
    "\n",
    "Our colors in `X_compressed` are in `float64`.  \n",
    "\n",
    "❓ Convert `X_compressed` to `uint8`, the unsigned 8-bits integer type which lies between 0 and 255."
   ]
  },
  {
   "cell_type": "code",
   "execution_count": null,
   "id": "85cf690c",
   "metadata": {},
   "outputs": [],
   "source": [
    "X_compressed = X_compressed.astype('uint8')"
   ]
  },
  {
   "cell_type": "markdown",
   "id": "26a00a31",
   "metadata": {},
   "source": [
    "❓ Verify that the number of unique colors used is indeed 32."
   ]
  },
  {
   "cell_type": "code",
   "execution_count": null,
   "id": "401a33c5",
   "metadata": {},
   "outputs": [],
   "source": [
    "len(np.unique(X_compressed, axis=0))"
   ]
  },
  {
   "cell_type": "code",
   "execution_count": null,
   "id": "d68bd35d",
   "metadata": {},
   "outputs": [],
   "source": [
    "X_compressed.shape"
   ]
  },
  {
   "cell_type": "markdown",
   "id": "9186ad20",
   "metadata": {},
   "source": [
    "### 🧪 Test your code"
   ]
  },
  {
   "cell_type": "code",
   "execution_count": null,
   "id": "f43aaf7e",
   "metadata": {},
   "outputs": [],
   "source": [
    "from nbresult import ChallengeResult\n",
    "\n",
    "result = ChallengeResult('image_shape',\n",
    "                         image = X_compressed)\n",
    "result.write()\n",
    "print(result.check())"
   ]
  },
  {
   "cell_type": "markdown",
   "id": "0e37cf12",
   "metadata": {},
   "source": [
    "## Plot compressed image"
   ]
  },
  {
   "cell_type": "markdown",
   "id": "a9dae366",
   "metadata": {},
   "source": [
    "Our `X_compressed` has shape (262144, 3), we can't display it as an image.\n",
    "\n",
    "❓ Reshape your compressed image and plot it side by side with your original image.  \n",
    "\n",
    "<details>\n",
    "    <summary>💡 Hint</summary>\n",
    "\n",
    "You need to reshape your flattened `X_compressed` into the right dimensions for an image  \n",
    "Your original image has such dimensions.\n",
    "\n",
    "---\n",
    "\n",
    "</details>"
   ]
  },
  {
   "cell_type": "code",
   "execution_count": null,
   "id": "aa4d3fee",
   "metadata": {},
   "outputs": [],
   "source": [
    "img_compressed = X_compressed.reshape(*img_shape)"
   ]
  },
  {
   "cell_type": "code",
   "execution_count": null,
   "id": "40215846",
   "metadata": {},
   "outputs": [],
   "source": [
    "# Plot the original and the compressed image.\n",
    "fig, ax = plt.subplots(1, 2, figsize = (7, 7))\n",
    "ax[0].imshow(img)\n",
    "ax[0].set_title('Original Image')\n",
    "\n",
    "ax[1].imshow(img_compressed)\n",
    "ax[1].set_title('Compressed Image')\n",
    "\n",
    "# Remove \n",
    "for ax in fig.axes:\n",
    "    ax.axis('off')\n",
    "\n",
    "# Nice padding adjustments\n",
    "plt.tight_layout()"
   ]
  },
  {
   "cell_type": "markdown",
   "id": "51697a23",
   "metadata": {},
   "source": [
    "Not bad!\n",
    "\n",
    "Some colors are lost, but your can easily recognize the original image."
   ]
  },
  {
   "cell_type": "markdown",
   "id": "7ab21cb3",
   "metadata": {},
   "source": [
    "# Saving the compressed image back to a 'jpg'\n",
    "\n",
    "Now, use `cv2.imwrite` to save your compressed image back to disc (remember: you will need to use the `cv2.cvtColor` conversation function again if you want to save the current colors). Compare the size of the two images: you should have saved about 20% space with minimal loss in image quality."
   ]
  },
  {
   "cell_type": "code",
   "execution_count": null,
   "id": "271df1d2",
   "metadata": {},
   "outputs": [],
   "source": [
    "cv2.imwrite('compressed_group.jpg', cv2.cvtColor(img_compressed, cv2.COLOR_RGB2BGR))"
   ]
  },
  {
   "cell_type": "markdown",
   "id": "e52d7f95",
   "metadata": {},
   "source": [
    "## Finding the best `k`\n",
    "\n",
    "You can use the Elbow method to find the optimal compression that loses the least color information.   \n",
    "\n",
    "Try to plot the `inertia` for `n_clusters` in the list [5, 10, 20, 30, 50, 70, 100] for instance . Use a `max_iter=10` and `n_init=10`.\n",
    "\n",
    "⚠️ You might wait several minutes"
   ]
  },
  {
   "cell_type": "code",
   "execution_count": null,
   "id": "ebd91895",
   "metadata": {},
   "outputs": [],
   "source": [
    "# Apply the elbow method to find the optimal number of clusters.\n",
    "wcss = []\n",
    "for i in [5, 10, 20, 30, 50, 70, 100]:\n",
    "    print('working with ' + str(i) + ' clusters...', flush=True)\n",
    "    kmeans = KMeans(n_clusters = i, max_iter=10, n_init=10)\n",
    "    kmeans.fit(X)\n",
    "    wcss.append(kmeans.inertia_)"
   ]
  },
  {
   "cell_type": "code",
   "execution_count": null,
   "id": "a94b19ac",
   "metadata": {},
   "outputs": [],
   "source": [
    "plt.plot([5, 10, 20, 30, 50, 70, 100], wcss)\n",
    "plt.title('The Elbow Method')\n",
    "plt.xlabel('Number of clusters/colors')\n",
    "plt.ylabel('(Within-Cluster Sums of Squares')\n",
    "plt.show()"
   ]
  },
  {
   "cell_type": "markdown",
   "id": "3c3a50a3",
   "metadata": {},
   "source": [
    "<details><string><summary>Conclusions</summary><br>\n",
    "    we can see that our choice of 32 colors is pretty close to the optimal number: 20 colors results in significanly increased inertia, and then inertia augments exponentially).</details>"
   ]
  },
  {
   "cell_type": "markdown",
   "id": "9a1f6183",
   "metadata": {},
   "source": [
    "# 🏁 Finished!\n",
    "\n",
    "Well done! <span style=\"color:teal\">**Push your exercise to GitHub**</span>, and move on to the next one."
   ]
  }
 ],
 "metadata": {},
 "nbformat": 4,
 "nbformat_minor": 5
}
