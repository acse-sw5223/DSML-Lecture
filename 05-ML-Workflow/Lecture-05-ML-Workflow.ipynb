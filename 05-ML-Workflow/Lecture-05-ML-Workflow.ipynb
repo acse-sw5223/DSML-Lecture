{
 "cells": [
  {
   "cell_type": "markdown",
   "id": "6f05ad1c-7134-4183-adeb-851749da594d",
   "metadata": {
    "editable": true,
    "slideshow": {
     "slide_type": ""
    },
    "tags": []
   },
   "source": [
    "**Day 5**: ML Workflow 👷 (***live in 1.49/1.50***)"
   ]
  },
  {
   "cell_type": "markdown",
   "id": "13083130-ba16-452b-aea1-b6222c902a65",
   "metadata": {
    "editable": true,
    "slideshow": {
     "slide_type": "slide"
    },
    "tags": []
   },
   "source": [
    "<center><h1 style=\"color:maroon\">Machine Learning Workflow</h1>\n",
    "    <img src=\"https://drive.google.com/uc?id=147Lecen6y_grpY_9lWbRj28qay4CBcSN\" style=\"width:1300px\">\n",
    "    <h3><span style=\"color: #045F5F\">Data Science & Machine Learning for Planet Earth Lecture Series</span></h3><h6><i> by Cédric M. John <span style=\"size:6pts\">(2023)</span></i></h6></center>"
   ]
  },
  {
   "cell_type": "markdown",
   "id": "9a9a35d9-a6fc-45cc-b59c-d2796e90da3b",
   "metadata": {
    "editable": true,
    "slideshow": {
     "slide_type": "subslide"
    },
    "tags": []
   },
   "source": [
    "## Plan for today's Lecture 🗓 "
   ]
  },
  {
   "cell_type": "markdown",
   "id": "b0e78f24-62af-4c8e-be4d-396014902d8e",
   "metadata": {
    "editable": true,
    "slideshow": {
     "slide_type": "fragment"
    },
    "tags": []
   },
   "source": [
    "* Motivation for an ML workflow\n",
    "* Introduction to <code>sklearn.pipeline</code> module\n",
    "* Writing custom transformers\n",
    "* Grouping data transformation and models into one object\n",
    "* Migrating from Notebooks to Python classes"
   ]
  },
  {
   "cell_type": "markdown",
   "id": "b0949b1e-26d3-4b3d-8c15-a8e5cbe00ca5",
   "metadata": {
    "slideshow": {
     "slide_type": "subslide"
    }
   },
   "source": [
    "## Intended learning outcomes 👩‍🎓"
   ]
  },
  {
   "cell_type": "markdown",
   "id": "0b606be6-eb82-496e-b0f4-c86be14e2e84",
   "metadata": {
    "slideshow": {
     "slide_type": "fragment"
    }
   },
   "source": [
    "* Write clean code using pipelines\n",
    "* Optimize the entire ***data-preparation-to-model-selection*** chain\n",
    "* Build code deployable locally and on the cloud"
   ]
  },
  {
   "cell_type": "markdown",
   "id": "089a35e4-2b25-4beb-949d-baee98ee54ae",
   "metadata": {
    "editable": true,
    "slideshow": {
     "slide_type": "slide"
    },
    "tags": []
   },
   "source": [
    "# Data Pipelines\n",
    "<br>\n",
    "\n",
    "<center><img src=\"https://drive.google.com/uc?id=1449ihCDJfUk-s9fC3snOpBXI9WHj1oAY\" style=\"width:900px;\"><br>\n",
    " © Cédric John, 2022; Image generated with <a href=\"https://openai.com/blog/dall-e/\">DALL-E</a><br>\n",
    "<br>Prompt: Wide angle view of a large metal oil pipeline in the sunrise in the middle of a frozen arctic stepp.</center>"
   ]
  },
  {
   "cell_type": "markdown",
   "id": "f4520a29-f572-471a-b6a0-f314f4ad5c7c",
   "metadata": {
    "editable": true,
    "slideshow": {
     "slide_type": "subslide"
    },
    "tags": []
   },
   "source": [
    "### Dataset\n",
    "\n",
    "<span style=\"color:teal\">**Todays's dataset:**</span><a href=\"https://www.kaggle.com/datasets/rohanrao/air-quality-data-in-india\"> India air quality data, Kaggle</a><br>\n",
    "<img src=\"https://drive.google.com/uc?id=13rbICKbhIfs-K0dKdLxxHybLDMWLHRk2\" style=\"width:900px\"/>"
   ]
  },
  {
   "cell_type": "code",
   "execution_count": 1,
   "id": "d20f7b10",
   "metadata": {
    "editable": true,
    "slideshow": {
     "slide_type": "subslide"
    },
    "tags": []
   },
   "outputs": [
    {
     "data": {
      "text/html": [
       "<div>\n",
       "<style scoped>\n",
       "    .dataframe tbody tr th:only-of-type {\n",
       "        vertical-align: middle;\n",
       "    }\n",
       "\n",
       "    .dataframe tbody tr th {\n",
       "        vertical-align: top;\n",
       "    }\n",
       "\n",
       "    .dataframe thead th {\n",
       "        text-align: right;\n",
       "    }\n",
       "</style>\n",
       "<table border=\"1\" class=\"dataframe\">\n",
       "  <thead>\n",
       "    <tr style=\"text-align: right;\">\n",
       "      <th></th>\n",
       "      <th>stn_code</th>\n",
       "      <th>state</th>\n",
       "      <th>location</th>\n",
       "      <th>type</th>\n",
       "      <th>so2</th>\n",
       "      <th>no2</th>\n",
       "      <th>date</th>\n",
       "      <th>rainfall</th>\n",
       "      <th>high_level</th>\n",
       "    </tr>\n",
       "  </thead>\n",
       "  <tbody>\n",
       "    <tr>\n",
       "      <th>0</th>\n",
       "      <td>NaN</td>\n",
       "      <td>Maharashtra</td>\n",
       "      <td>Navi Mumbai</td>\n",
       "      <td>Others</td>\n",
       "      <td>12.0</td>\n",
       "      <td>17.0</td>\n",
       "      <td>21/08/2008</td>\n",
       "      <td>69.776897</td>\n",
       "      <td>1</td>\n",
       "    </tr>\n",
       "    <tr>\n",
       "      <th>1</th>\n",
       "      <td>334</td>\n",
       "      <td>Gujarat</td>\n",
       "      <td>Vadodara</td>\n",
       "      <td>Industrial</td>\n",
       "      <td>24.0</td>\n",
       "      <td>48.0</td>\n",
       "      <td>02/03/2010</td>\n",
       "      <td>NaN</td>\n",
       "      <td>1</td>\n",
       "    </tr>\n",
       "    <tr>\n",
       "      <th>2</th>\n",
       "      <td>NaN</td>\n",
       "      <td>Karnataka</td>\n",
       "      <td>Hubli-Dharwad</td>\n",
       "      <td>Others</td>\n",
       "      <td>NaN</td>\n",
       "      <td>6.8</td>\n",
       "      <td>08/02/2007</td>\n",
       "      <td>79.575206</td>\n",
       "      <td>0</td>\n",
       "    </tr>\n",
       "    <tr>\n",
       "      <th>3</th>\n",
       "      <td>NaN</td>\n",
       "      <td>Chandigarh</td>\n",
       "      <td>Chandigarh</td>\n",
       "      <td>Others</td>\n",
       "      <td>NaN</td>\n",
       "      <td>11.0</td>\n",
       "      <td>08/05/2005</td>\n",
       "      <td>108.009090</td>\n",
       "      <td>0</td>\n",
       "    </tr>\n",
       "    <tr>\n",
       "      <th>4</th>\n",
       "      <td>598</td>\n",
       "      <td>Karnataka</td>\n",
       "      <td>Bangalore</td>\n",
       "      <td>Sensitive</td>\n",
       "      <td>9.0</td>\n",
       "      <td>19.0</td>\n",
       "      <td>18/02/2014</td>\n",
       "      <td>93.589798</td>\n",
       "      <td>0</td>\n",
       "    </tr>\n",
       "    <tr>\n",
       "      <th>...</th>\n",
       "      <td>...</td>\n",
       "      <td>...</td>\n",
       "      <td>...</td>\n",
       "      <td>...</td>\n",
       "      <td>...</td>\n",
       "      <td>...</td>\n",
       "      <td>...</td>\n",
       "      <td>...</td>\n",
       "      <td>...</td>\n",
       "    </tr>\n",
       "    <tr>\n",
       "      <th>27865</th>\n",
       "      <td>689</td>\n",
       "      <td>Odisha</td>\n",
       "      <td>Balasore</td>\n",
       "      <td>Residential</td>\n",
       "      <td>2.0</td>\n",
       "      <td>13.0</td>\n",
       "      <td>26/11/2013</td>\n",
       "      <td>NaN</td>\n",
       "      <td>1</td>\n",
       "    </tr>\n",
       "    <tr>\n",
       "      <th>27866</th>\n",
       "      <td>665</td>\n",
       "      <td>Himachal Pradesh</td>\n",
       "      <td>Sunder Nagar</td>\n",
       "      <td>Residential</td>\n",
       "      <td>2.0</td>\n",
       "      <td>8.0</td>\n",
       "      <td>07/03/2013</td>\n",
       "      <td>98.072063</td>\n",
       "      <td>0</td>\n",
       "    </tr>\n",
       "    <tr>\n",
       "      <th>27867</th>\n",
       "      <td>NaN</td>\n",
       "      <td>Andhra Pradesh</td>\n",
       "      <td>Visakhapatnam</td>\n",
       "      <td>Industrial</td>\n",
       "      <td>11.5</td>\n",
       "      <td>29.1</td>\n",
       "      <td>09/01/2006</td>\n",
       "      <td>79.776776</td>\n",
       "      <td>0</td>\n",
       "    </tr>\n",
       "    <tr>\n",
       "      <th>27868</th>\n",
       "      <td>NaN</td>\n",
       "      <td>Kerala</td>\n",
       "      <td>Trivandrum</td>\n",
       "      <td>Others</td>\n",
       "      <td>7.3</td>\n",
       "      <td>27.5</td>\n",
       "      <td>07/04/2008</td>\n",
       "      <td>101.609464</td>\n",
       "      <td>0</td>\n",
       "    </tr>\n",
       "    <tr>\n",
       "      <th>27869</th>\n",
       "      <td>294</td>\n",
       "      <td>Rajasthan</td>\n",
       "      <td>Udaipur</td>\n",
       "      <td>Residential</td>\n",
       "      <td>6.0</td>\n",
       "      <td>36.0</td>\n",
       "      <td>29/11/2013</td>\n",
       "      <td>73.976435</td>\n",
       "      <td>1</td>\n",
       "    </tr>\n",
       "  </tbody>\n",
       "</table>\n",
       "<p>27870 rows × 9 columns</p>\n",
       "</div>"
      ],
      "text/plain": [
       "      stn_code             state       location         type   so2   no2  \\\n",
       "0          NaN       Maharashtra    Navi Mumbai       Others  12.0  17.0   \n",
       "1          334           Gujarat       Vadodara   Industrial  24.0  48.0   \n",
       "2          NaN         Karnataka  Hubli-Dharwad       Others   NaN   6.8   \n",
       "3          NaN        Chandigarh     Chandigarh       Others   NaN  11.0   \n",
       "4          598         Karnataka      Bangalore    Sensitive   9.0  19.0   \n",
       "...        ...               ...            ...          ...   ...   ...   \n",
       "27865      689            Odisha       Balasore  Residential   2.0  13.0   \n",
       "27866      665  Himachal Pradesh   Sunder Nagar  Residential   2.0   8.0   \n",
       "27867      NaN    Andhra Pradesh  Visakhapatnam   Industrial  11.5  29.1   \n",
       "27868      NaN            Kerala     Trivandrum       Others   7.3  27.5   \n",
       "27869      294         Rajasthan        Udaipur  Residential   6.0  36.0   \n",
       "\n",
       "             date    rainfall  high_level  \n",
       "0      21/08/2008   69.776897           1  \n",
       "1      02/03/2010         NaN           1  \n",
       "2      08/02/2007   79.575206           0  \n",
       "3      08/05/2005  108.009090           0  \n",
       "4      18/02/2014   93.589798           0  \n",
       "...           ...         ...         ...  \n",
       "27865  26/11/2013         NaN           1  \n",
       "27866  07/03/2013   98.072063           0  \n",
       "27867  09/01/2006   79.776776           0  \n",
       "27868  07/04/2008  101.609464           0  \n",
       "27869  29/11/2013   73.976435           1  \n",
       "\n",
       "[27870 rows x 9 columns]"
      ]
     },
     "execution_count": 1,
     "metadata": {},
     "output_type": "execute_result"
    }
   ],
   "source": [
    "import pandas as pd\n",
    "import numpy as np\n",
    "\n",
    "data = pd.read_csv('Lecture_data/India_air_quality_light.csv')\n",
    "\n",
    "# REMINDER: Always drop duplicates first\n",
    "data = data.drop_duplicates()\n",
    "\n",
    "data"
   ]
  },
  {
   "cell_type": "markdown",
   "id": "0e0d8dae-a3d5-4003-a81b-ef3b5672416f",
   "metadata": {
    "slideshow": {
     "slide_type": "subslide"
    }
   },
   "source": [
    "## Reminder of the data processing needed on this dataset (Lecture 1):"
   ]
  },
  {
   "cell_type": "markdown",
   "id": "b24b2b4f-0d0a-4632-b10f-fbc155f555b5",
   "metadata": {
    "slideshow": {
     "slide_type": "fragment"
    }
   },
   "source": [
    "1. Remove Outliers \n",
    "2. Missing Data\n",
    "3. Scale Features\n",
    "4. Engineer Features\n",
    "5. Encode Data\n",
    "6. Select Feature"
   ]
  },
  {
   "cell_type": "markdown",
   "id": "f65c359b",
   "metadata": {
    "slideshow": {
     "slide_type": "fragment"
    }
   },
   "source": [
    "* Need to train and apply these to our **training set**"
   ]
  },
  {
   "cell_type": "markdown",
   "id": "6c09b5a0",
   "metadata": {
    "slideshow": {
     "slide_type": "fragment"
    }
   },
   "source": [
    "* Need to apply the same transformations to our **test set**"
   ]
  },
  {
   "cell_type": "markdown",
   "id": "effa1e21",
   "metadata": {
    "slideshow": {
     "slide_type": "fragment"
    }
   },
   "source": [
    "* Need to apply the same transformations to our **new data**"
   ]
  },
  {
   "cell_type": "markdown",
   "id": "82f11eb5",
   "metadata": {
    "slideshow": {
     "slide_type": "fragment"
    }
   },
   "source": [
    "* This implies we need to save (and load) <span style=\"color:red\">**several independant transformers**</span>. "
   ]
  },
  {
   "cell_type": "markdown",
   "id": "72a49b24",
   "metadata": {
    "slideshow": {
     "slide_type": "fragment"
    }
   },
   "source": [
    "### <span style=\"color:teal\">Messy, work-intensive and entails large potential for bugs and errors.</span>"
   ]
  },
  {
   "cell_type": "markdown",
   "id": "c10df9c0-4dab-4c39-93ad-c9006e713da7",
   "metadata": {
    "slideshow": {
     "slide_type": "slide"
    },
    "tags": []
   },
   "source": [
    "##  Pipelines: Chaining Data Transformations\n",
    "<a href=\"https://scikit-learn.org/stable/modules/compose.html\">Sklearn doc</a><br>"
   ]
  },
  {
   "cell_type": "markdown",
   "id": "1758b6fe-d439-4c99-acf0-90d5b4b98a96",
   "metadata": {
    "slideshow": {
     "slide_type": "fragment"
    },
    "tags": []
   },
   "source": [
    "### Principle\n",
    "* **chains** together multiple steps **in sequence**, e.g.:\n",
    "* *impute* missing values, *then*\n",
    "* *scale* numerical features, *then*\n",
    "* *encode* categorical features, *etc...*"
   ]
  },
  {
   "cell_type": "markdown",
   "id": "b120d11b-ac2c-4e9d-a276-432c55b190c2",
   "metadata": {
    "slideshow": {
     "slide_type": "fragment"
    },
    "tags": []
   },
   "source": [
    "* Make your workflow much easier to read and understand.\n",
    "* Enforce the implementation and order of steps in your project.\n",
    "* Make your work reproducible and deployable"
   ]
  },
  {
   "cell_type": "markdown",
   "id": "4f6d29aa-7023-4751-84ee-a3000cacb9b0",
   "metadata": {
    "slideshow": {
     "slide_type": "subslide"
    },
    "tags": []
   },
   "source": [
    "<img src=\"https://drive.google.com/uc?id=13pBbXtuoOyHn8NlZhbsdBVk-kVnib-ep\" style=\"width:1200px\">\n",
    "<a href=\"https://www.packtpub.com/product/python-machine-learning-third-edition/9781789955750\">Rashka, S., 2015, Packt Publishing</a>"
   ]
  },
  {
   "cell_type": "markdown",
   "id": "f837420c-0ece-4edd-8fdc-84786a2d0bab",
   "metadata": {
    "slideshow": {
     "slide_type": "subslide"
    },
    "tags": []
   },
   "source": [
    "## Preprocessing pipelines"
   ]
  },
  {
   "cell_type": "markdown",
   "id": "e3620f51-dacc-42c9-95f3-1a8ab58f77ce",
   "metadata": {
    "slideshow": {
     "slide_type": "fragment"
    },
    "tags": []
   },
   "source": [
    "All preprocessing steps can be built in a pipeline. We are going to predict whether or not the **pollution level is high** as a function of various features. This will illustrate the use of pipelines."
   ]
  },
  {
   "cell_type": "code",
   "execution_count": 2,
   "id": "a1859bc3-4104-46d4-bf2e-c960a8e80054",
   "metadata": {
    "slideshow": {
     "slide_type": "-"
    },
    "tags": []
   },
   "outputs": [
    {
     "data": {
      "text/html": [
       "<div>\n",
       "<style scoped>\n",
       "    .dataframe tbody tr th:only-of-type {\n",
       "        vertical-align: middle;\n",
       "    }\n",
       "\n",
       "    .dataframe tbody tr th {\n",
       "        vertical-align: top;\n",
       "    }\n",
       "\n",
       "    .dataframe thead th {\n",
       "        text-align: right;\n",
       "    }\n",
       "</style>\n",
       "<table border=\"1\" class=\"dataframe\">\n",
       "  <thead>\n",
       "    <tr style=\"text-align: right;\">\n",
       "      <th></th>\n",
       "      <th>stn_code</th>\n",
       "      <th>state</th>\n",
       "      <th>location</th>\n",
       "      <th>type</th>\n",
       "      <th>so2</th>\n",
       "      <th>no2</th>\n",
       "      <th>date</th>\n",
       "      <th>rainfall</th>\n",
       "    </tr>\n",
       "  </thead>\n",
       "  <tbody>\n",
       "    <tr>\n",
       "      <th>14606</th>\n",
       "      <td>NaN</td>\n",
       "      <td>Maharashtra</td>\n",
       "      <td>Chandrapur</td>\n",
       "      <td>Others</td>\n",
       "      <td>32.0</td>\n",
       "      <td>52.6</td>\n",
       "      <td>18/02/2008</td>\n",
       "      <td>94.475205</td>\n",
       "    </tr>\n",
       "    <tr>\n",
       "      <th>21850</th>\n",
       "      <td>280</td>\n",
       "      <td>Maharashtra</td>\n",
       "      <td>Nashik</td>\n",
       "      <td>Residential</td>\n",
       "      <td>25.0</td>\n",
       "      <td>26.0</td>\n",
       "      <td>25/07/2013</td>\n",
       "      <td>46.851849</td>\n",
       "    </tr>\n",
       "    <tr>\n",
       "      <th>23190</th>\n",
       "      <td>581</td>\n",
       "      <td>Andhra Pradesh</td>\n",
       "      <td>Khammam</td>\n",
       "      <td>Residential</td>\n",
       "      <td>2.0</td>\n",
       "      <td>10.0</td>\n",
       "      <td>12/01/2010</td>\n",
       "      <td>88.105338</td>\n",
       "    </tr>\n",
       "    <tr>\n",
       "      <th>16552</th>\n",
       "      <td>82</td>\n",
       "      <td>Madhya Pradesh</td>\n",
       "      <td>Nagda</td>\n",
       "      <td>Industrial</td>\n",
       "      <td>32.0</td>\n",
       "      <td>17.0</td>\n",
       "      <td>19/11/2015</td>\n",
       "      <td>71.220319</td>\n",
       "    </tr>\n",
       "    <tr>\n",
       "      <th>14739</th>\n",
       "      <td>38</td>\n",
       "      <td>Tamil Nadu</td>\n",
       "      <td>Chennai</td>\n",
       "      <td>Industrial</td>\n",
       "      <td>13.0</td>\n",
       "      <td>13.0</td>\n",
       "      <td>08/12/2014</td>\n",
       "      <td>110.480150</td>\n",
       "    </tr>\n",
       "    <tr>\n",
       "      <th>...</th>\n",
       "      <td>...</td>\n",
       "      <td>...</td>\n",
       "      <td>...</td>\n",
       "      <td>...</td>\n",
       "      <td>...</td>\n",
       "      <td>...</td>\n",
       "      <td>...</td>\n",
       "      <td>...</td>\n",
       "    </tr>\n",
       "    <tr>\n",
       "      <th>14654</th>\n",
       "      <td>298</td>\n",
       "      <td>Rajasthan</td>\n",
       "      <td>Jaipur</td>\n",
       "      <td>Residential</td>\n",
       "      <td>6.0</td>\n",
       "      <td>30.0</td>\n",
       "      <td>06/05/2014</td>\n",
       "      <td>91.851699</td>\n",
       "    </tr>\n",
       "    <tr>\n",
       "      <th>1605</th>\n",
       "      <td>NaN</td>\n",
       "      <td>Karnataka</td>\n",
       "      <td>Mysore</td>\n",
       "      <td>Industrial</td>\n",
       "      <td>11.5</td>\n",
       "      <td>15.9</td>\n",
       "      <td>15/06/2007</td>\n",
       "      <td>NaN</td>\n",
       "    </tr>\n",
       "    <tr>\n",
       "      <th>26844</th>\n",
       "      <td>NaN</td>\n",
       "      <td>Tamil Nadu</td>\n",
       "      <td>Chennai</td>\n",
       "      <td>Industrial</td>\n",
       "      <td>19.6</td>\n",
       "      <td>21.6</td>\n",
       "      <td>20/06/2005</td>\n",
       "      <td>88.582960</td>\n",
       "    </tr>\n",
       "    <tr>\n",
       "      <th>15791</th>\n",
       "      <td>536</td>\n",
       "      <td>Assam</td>\n",
       "      <td>Tezpur</td>\n",
       "      <td>Residential</td>\n",
       "      <td>7.0</td>\n",
       "      <td>13.0</td>\n",
       "      <td>30/09/2015</td>\n",
       "      <td>NaN</td>\n",
       "    </tr>\n",
       "    <tr>\n",
       "      <th>27775</th>\n",
       "      <td>699</td>\n",
       "      <td>Meghalaya</td>\n",
       "      <td>Khliehriat</td>\n",
       "      <td>Residential</td>\n",
       "      <td>2.0</td>\n",
       "      <td>5.0</td>\n",
       "      <td>03/03/2015</td>\n",
       "      <td>74.519738</td>\n",
       "    </tr>\n",
       "  </tbody>\n",
       "</table>\n",
       "<p>22296 rows × 8 columns</p>\n",
       "</div>"
      ],
      "text/plain": [
       "      stn_code           state    location         type   so2   no2  \\\n",
       "14606      NaN     Maharashtra  Chandrapur       Others  32.0  52.6   \n",
       "21850      280     Maharashtra      Nashik  Residential  25.0  26.0   \n",
       "23190      581  Andhra Pradesh     Khammam  Residential   2.0  10.0   \n",
       "16552       82  Madhya Pradesh       Nagda   Industrial  32.0  17.0   \n",
       "14739       38      Tamil Nadu     Chennai   Industrial  13.0  13.0   \n",
       "...        ...             ...         ...          ...   ...   ...   \n",
       "14654      298       Rajasthan      Jaipur  Residential   6.0  30.0   \n",
       "1605       NaN       Karnataka      Mysore   Industrial  11.5  15.9   \n",
       "26844      NaN      Tamil Nadu     Chennai   Industrial  19.6  21.6   \n",
       "15791      536           Assam      Tezpur  Residential   7.0  13.0   \n",
       "27775      699       Meghalaya  Khliehriat  Residential   2.0   5.0   \n",
       "\n",
       "             date    rainfall  \n",
       "14606  18/02/2008   94.475205  \n",
       "21850  25/07/2013   46.851849  \n",
       "23190  12/01/2010   88.105338  \n",
       "16552  19/11/2015   71.220319  \n",
       "14739  08/12/2014  110.480150  \n",
       "...           ...         ...  \n",
       "14654  06/05/2014   91.851699  \n",
       "1605   15/06/2007         NaN  \n",
       "26844  20/06/2005   88.582960  \n",
       "15791  30/09/2015         NaN  \n",
       "27775  03/03/2015   74.519738  \n",
       "\n",
       "[22296 rows x 8 columns]"
      ]
     },
     "execution_count": 2,
     "metadata": {},
     "output_type": "execute_result"
    }
   ],
   "source": [
    "from sklearn.model_selection import train_test_split\n",
    "\n",
    "y = data.high_level # Target\n",
    "X = data.drop(columns='high_level') #Feature\n",
    "\n",
    "X_train, X_test, y_train, y_test = train_test_split(X, y, train_size=0.8)\n",
    "\n",
    "X_train"
   ]
  },
  {
   "cell_type": "code",
   "execution_count": 3,
   "id": "755e341f",
   "metadata": {
    "slideshow": {
     "slide_type": "subslide"
    }
   },
   "outputs": [
    {
     "data": {
      "text/plain": [
       "14606    1\n",
       "21850    0\n",
       "23190    0\n",
       "16552    0\n",
       "14739    0\n",
       "        ..\n",
       "14654    1\n",
       "1605     0\n",
       "26844    0\n",
       "15791    0\n",
       "27775    0\n",
       "Name: high_level, Length: 22296, dtype: int64"
      ]
     },
     "execution_count": 3,
     "metadata": {},
     "output_type": "execute_result"
    }
   ],
   "source": [
    "y_train"
   ]
  },
  {
   "cell_type": "markdown",
   "id": "ba4dd0e1",
   "metadata": {
    "slideshow": {
     "slide_type": "subslide"
    }
   },
   "source": [
    "## Our first simple pipeline\n",
    "\n",
    "Let's create a simple pipeline that impute missing values from <code>so2</code> and <code>no2</code>."
   ]
  },
  {
   "cell_type": "code",
   "execution_count": 4,
   "id": "b847f31a",
   "metadata": {
    "slideshow": {
     "slide_type": "fragment"
    }
   },
   "outputs": [],
   "source": [
    "from sklearn.impute import SimpleImputer\n",
    "from sklearn.preprocessing import StandardScaler\n",
    "from sklearn.pipeline import Pipeline"
   ]
  },
  {
   "cell_type": "code",
   "execution_count": 5,
   "id": "339ff017",
   "metadata": {
    "slideshow": {
     "slide_type": "fragment"
    }
   },
   "outputs": [],
   "source": [
    "pipe = Pipeline([\n",
    "    ('imputer', SimpleImputer()),\n",
    "    ('scaler', StandardScaler())\n",
    "])"
   ]
  },
  {
   "cell_type": "code",
   "execution_count": 6,
   "id": "203322ec",
   "metadata": {
    "slideshow": {
     "slide_type": "-"
    }
   },
   "outputs": [
    {
     "data": {
      "text/html": [
       "<style>#sk-container-id-1 {color: black;}#sk-container-id-1 pre{padding: 0;}#sk-container-id-1 div.sk-toggleable {background-color: white;}#sk-container-id-1 label.sk-toggleable__label {cursor: pointer;display: block;width: 100%;margin-bottom: 0;padding: 0.3em;box-sizing: border-box;text-align: center;}#sk-container-id-1 label.sk-toggleable__label-arrow:before {content: \"▸\";float: left;margin-right: 0.25em;color: #696969;}#sk-container-id-1 label.sk-toggleable__label-arrow:hover:before {color: black;}#sk-container-id-1 div.sk-estimator:hover label.sk-toggleable__label-arrow:before {color: black;}#sk-container-id-1 div.sk-toggleable__content {max-height: 0;max-width: 0;overflow: hidden;text-align: left;background-color: #f0f8ff;}#sk-container-id-1 div.sk-toggleable__content pre {margin: 0.2em;color: black;border-radius: 0.25em;background-color: #f0f8ff;}#sk-container-id-1 input.sk-toggleable__control:checked~div.sk-toggleable__content {max-height: 200px;max-width: 100%;overflow: auto;}#sk-container-id-1 input.sk-toggleable__control:checked~label.sk-toggleable__label-arrow:before {content: \"▾\";}#sk-container-id-1 div.sk-estimator input.sk-toggleable__control:checked~label.sk-toggleable__label {background-color: #d4ebff;}#sk-container-id-1 div.sk-label input.sk-toggleable__control:checked~label.sk-toggleable__label {background-color: #d4ebff;}#sk-container-id-1 input.sk-hidden--visually {border: 0;clip: rect(1px 1px 1px 1px);clip: rect(1px, 1px, 1px, 1px);height: 1px;margin: -1px;overflow: hidden;padding: 0;position: absolute;width: 1px;}#sk-container-id-1 div.sk-estimator {font-family: monospace;background-color: #f0f8ff;border: 1px dotted black;border-radius: 0.25em;box-sizing: border-box;margin-bottom: 0.5em;}#sk-container-id-1 div.sk-estimator:hover {background-color: #d4ebff;}#sk-container-id-1 div.sk-parallel-item::after {content: \"\";width: 100%;border-bottom: 1px solid gray;flex-grow: 1;}#sk-container-id-1 div.sk-label:hover label.sk-toggleable__label {background-color: #d4ebff;}#sk-container-id-1 div.sk-serial::before {content: \"\";position: absolute;border-left: 1px solid gray;box-sizing: border-box;top: 0;bottom: 0;left: 50%;z-index: 0;}#sk-container-id-1 div.sk-serial {display: flex;flex-direction: column;align-items: center;background-color: white;padding-right: 0.2em;padding-left: 0.2em;position: relative;}#sk-container-id-1 div.sk-item {position: relative;z-index: 1;}#sk-container-id-1 div.sk-parallel {display: flex;align-items: stretch;justify-content: center;background-color: white;position: relative;}#sk-container-id-1 div.sk-item::before, #sk-container-id-1 div.sk-parallel-item::before {content: \"\";position: absolute;border-left: 1px solid gray;box-sizing: border-box;top: 0;bottom: 0;left: 50%;z-index: -1;}#sk-container-id-1 div.sk-parallel-item {display: flex;flex-direction: column;z-index: 1;position: relative;background-color: white;}#sk-container-id-1 div.sk-parallel-item:first-child::after {align-self: flex-end;width: 50%;}#sk-container-id-1 div.sk-parallel-item:last-child::after {align-self: flex-start;width: 50%;}#sk-container-id-1 div.sk-parallel-item:only-child::after {width: 0;}#sk-container-id-1 div.sk-dashed-wrapped {border: 1px dashed gray;margin: 0 0.4em 0.5em 0.4em;box-sizing: border-box;padding-bottom: 0.4em;background-color: white;}#sk-container-id-1 div.sk-label label {font-family: monospace;font-weight: bold;display: inline-block;line-height: 1.2em;}#sk-container-id-1 div.sk-label-container {text-align: center;}#sk-container-id-1 div.sk-container {/* jupyter's `normalize.less` sets `[hidden] { display: none; }` but bootstrap.min.css set `[hidden] { display: none !important; }` so we also need the `!important` here to be able to override the default hidden behavior on the sphinx rendered scikit-learn.org. See: https://github.com/scikit-learn/scikit-learn/issues/21755 */display: inline-block !important;position: relative;}#sk-container-id-1 div.sk-text-repr-fallback {display: none;}</style><div id=\"sk-container-id-1\" class=\"sk-top-container\"><div class=\"sk-text-repr-fallback\"><pre>Pipeline(steps=[(&#x27;imputer&#x27;, SimpleImputer()), (&#x27;scaler&#x27;, StandardScaler())])</pre><b>In a Jupyter environment, please rerun this cell to show the HTML representation or trust the notebook. <br />On GitHub, the HTML representation is unable to render, please try loading this page with nbviewer.org.</b></div><div class=\"sk-container\" hidden><div class=\"sk-item sk-dashed-wrapped\"><div class=\"sk-label-container\"><div class=\"sk-label sk-toggleable\"><input class=\"sk-toggleable__control sk-hidden--visually\" id=\"sk-estimator-id-1\" type=\"checkbox\" ><label for=\"sk-estimator-id-1\" class=\"sk-toggleable__label sk-toggleable__label-arrow\">Pipeline</label><div class=\"sk-toggleable__content\"><pre>Pipeline(steps=[(&#x27;imputer&#x27;, SimpleImputer()), (&#x27;scaler&#x27;, StandardScaler())])</pre></div></div></div><div class=\"sk-serial\"><div class=\"sk-item\"><div class=\"sk-estimator sk-toggleable\"><input class=\"sk-toggleable__control sk-hidden--visually\" id=\"sk-estimator-id-2\" type=\"checkbox\" ><label for=\"sk-estimator-id-2\" class=\"sk-toggleable__label sk-toggleable__label-arrow\">SimpleImputer</label><div class=\"sk-toggleable__content\"><pre>SimpleImputer()</pre></div></div></div><div class=\"sk-item\"><div class=\"sk-estimator sk-toggleable\"><input class=\"sk-toggleable__control sk-hidden--visually\" id=\"sk-estimator-id-3\" type=\"checkbox\" ><label for=\"sk-estimator-id-3\" class=\"sk-toggleable__label sk-toggleable__label-arrow\">StandardScaler</label><div class=\"sk-toggleable__content\"><pre>StandardScaler()</pre></div></div></div></div></div></div></div>"
      ],
      "text/plain": [
       "Pipeline(steps=[('imputer', SimpleImputer()), ('scaler', StandardScaler())])"
      ]
     },
     "execution_count": 6,
     "metadata": {},
     "output_type": "execute_result"
    }
   ],
   "source": [
    "pipe.fit(X_train[['so2', 'no2']])"
   ]
  },
  {
   "cell_type": "code",
   "execution_count": 7,
   "id": "33edcf2d",
   "metadata": {},
   "outputs": [
    {
     "data": {
      "text/plain": [
       "array([[-8.55861816e-01, -5.29957605e-01],\n",
       "       [-6.80542349e-01, -6.01926507e-01],\n",
       "       [-2.09947991e-01,  1.89731417e-01],\n",
       "       ...,\n",
       "       [ 1.63910492e-16, -1.17214165e+00],\n",
       "       [-3.94494798e-01, -1.42432747e-01],\n",
       "       [-7.63588413e-01, -2.53154135e-01]])"
      ]
     },
     "execution_count": 7,
     "metadata": {},
     "output_type": "execute_result"
    }
   ],
   "source": [
    "pipe.transform(X_test[['so2', 'no2']])"
   ]
  },
  {
   "cell_type": "code",
   "execution_count": 8,
   "id": "e0e1ebfa",
   "metadata": {
    "editable": true,
    "slideshow": {
     "slide_type": "subslide"
    },
    "tags": []
   },
   "outputs": [
    {
     "data": {
      "text/html": [
       "<style>#sk-container-id-2 {color: black;}#sk-container-id-2 pre{padding: 0;}#sk-container-id-2 div.sk-toggleable {background-color: white;}#sk-container-id-2 label.sk-toggleable__label {cursor: pointer;display: block;width: 100%;margin-bottom: 0;padding: 0.3em;box-sizing: border-box;text-align: center;}#sk-container-id-2 label.sk-toggleable__label-arrow:before {content: \"▸\";float: left;margin-right: 0.25em;color: #696969;}#sk-container-id-2 label.sk-toggleable__label-arrow:hover:before {color: black;}#sk-container-id-2 div.sk-estimator:hover label.sk-toggleable__label-arrow:before {color: black;}#sk-container-id-2 div.sk-toggleable__content {max-height: 0;max-width: 0;overflow: hidden;text-align: left;background-color: #f0f8ff;}#sk-container-id-2 div.sk-toggleable__content pre {margin: 0.2em;color: black;border-radius: 0.25em;background-color: #f0f8ff;}#sk-container-id-2 input.sk-toggleable__control:checked~div.sk-toggleable__content {max-height: 200px;max-width: 100%;overflow: auto;}#sk-container-id-2 input.sk-toggleable__control:checked~label.sk-toggleable__label-arrow:before {content: \"▾\";}#sk-container-id-2 div.sk-estimator input.sk-toggleable__control:checked~label.sk-toggleable__label {background-color: #d4ebff;}#sk-container-id-2 div.sk-label input.sk-toggleable__control:checked~label.sk-toggleable__label {background-color: #d4ebff;}#sk-container-id-2 input.sk-hidden--visually {border: 0;clip: rect(1px 1px 1px 1px);clip: rect(1px, 1px, 1px, 1px);height: 1px;margin: -1px;overflow: hidden;padding: 0;position: absolute;width: 1px;}#sk-container-id-2 div.sk-estimator {font-family: monospace;background-color: #f0f8ff;border: 1px dotted black;border-radius: 0.25em;box-sizing: border-box;margin-bottom: 0.5em;}#sk-container-id-2 div.sk-estimator:hover {background-color: #d4ebff;}#sk-container-id-2 div.sk-parallel-item::after {content: \"\";width: 100%;border-bottom: 1px solid gray;flex-grow: 1;}#sk-container-id-2 div.sk-label:hover label.sk-toggleable__label {background-color: #d4ebff;}#sk-container-id-2 div.sk-serial::before {content: \"\";position: absolute;border-left: 1px solid gray;box-sizing: border-box;top: 0;bottom: 0;left: 50%;z-index: 0;}#sk-container-id-2 div.sk-serial {display: flex;flex-direction: column;align-items: center;background-color: white;padding-right: 0.2em;padding-left: 0.2em;position: relative;}#sk-container-id-2 div.sk-item {position: relative;z-index: 1;}#sk-container-id-2 div.sk-parallel {display: flex;align-items: stretch;justify-content: center;background-color: white;position: relative;}#sk-container-id-2 div.sk-item::before, #sk-container-id-2 div.sk-parallel-item::before {content: \"\";position: absolute;border-left: 1px solid gray;box-sizing: border-box;top: 0;bottom: 0;left: 50%;z-index: -1;}#sk-container-id-2 div.sk-parallel-item {display: flex;flex-direction: column;z-index: 1;position: relative;background-color: white;}#sk-container-id-2 div.sk-parallel-item:first-child::after {align-self: flex-end;width: 50%;}#sk-container-id-2 div.sk-parallel-item:last-child::after {align-self: flex-start;width: 50%;}#sk-container-id-2 div.sk-parallel-item:only-child::after {width: 0;}#sk-container-id-2 div.sk-dashed-wrapped {border: 1px dashed gray;margin: 0 0.4em 0.5em 0.4em;box-sizing: border-box;padding-bottom: 0.4em;background-color: white;}#sk-container-id-2 div.sk-label label {font-family: monospace;font-weight: bold;display: inline-block;line-height: 1.2em;}#sk-container-id-2 div.sk-label-container {text-align: center;}#sk-container-id-2 div.sk-container {/* jupyter's `normalize.less` sets `[hidden] { display: none; }` but bootstrap.min.css set `[hidden] { display: none !important; }` so we also need the `!important` here to be able to override the default hidden behavior on the sphinx rendered scikit-learn.org. See: https://github.com/scikit-learn/scikit-learn/issues/21755 */display: inline-block !important;position: relative;}#sk-container-id-2 div.sk-text-repr-fallback {display: none;}</style><div id=\"sk-container-id-2\" class=\"sk-top-container\"><div class=\"sk-text-repr-fallback\"><pre>Pipeline(steps=[(&#x27;simpleimputer&#x27;, SimpleImputer()),\n",
       "                (&#x27;standardscaler&#x27;, StandardScaler())])</pre><b>In a Jupyter environment, please rerun this cell to show the HTML representation or trust the notebook. <br />On GitHub, the HTML representation is unable to render, please try loading this page with nbviewer.org.</b></div><div class=\"sk-container\" hidden><div class=\"sk-item sk-dashed-wrapped\"><div class=\"sk-label-container\"><div class=\"sk-label sk-toggleable\"><input class=\"sk-toggleable__control sk-hidden--visually\" id=\"sk-estimator-id-4\" type=\"checkbox\" ><label for=\"sk-estimator-id-4\" class=\"sk-toggleable__label sk-toggleable__label-arrow\">Pipeline</label><div class=\"sk-toggleable__content\"><pre>Pipeline(steps=[(&#x27;simpleimputer&#x27;, SimpleImputer()),\n",
       "                (&#x27;standardscaler&#x27;, StandardScaler())])</pre></div></div></div><div class=\"sk-serial\"><div class=\"sk-item\"><div class=\"sk-estimator sk-toggleable\"><input class=\"sk-toggleable__control sk-hidden--visually\" id=\"sk-estimator-id-5\" type=\"checkbox\" ><label for=\"sk-estimator-id-5\" class=\"sk-toggleable__label sk-toggleable__label-arrow\">SimpleImputer</label><div class=\"sk-toggleable__content\"><pre>SimpleImputer()</pre></div></div></div><div class=\"sk-item\"><div class=\"sk-estimator sk-toggleable\"><input class=\"sk-toggleable__control sk-hidden--visually\" id=\"sk-estimator-id-6\" type=\"checkbox\" ><label for=\"sk-estimator-id-6\" class=\"sk-toggleable__label sk-toggleable__label-arrow\">StandardScaler</label><div class=\"sk-toggleable__content\"><pre>StandardScaler()</pre></div></div></div></div></div></div></div>"
      ],
      "text/plain": [
       "Pipeline(steps=[('simpleimputer', SimpleImputer()),\n",
       "                ('standardscaler', StandardScaler())])"
      ]
     },
     "execution_count": 8,
     "metadata": {},
     "output_type": "execute_result"
    }
   ],
   "source": [
    "from sklearn.pipeline import make_pipeline\n",
    "\n",
    "pipe = make_pipeline(SimpleImputer(), StandardScaler())\n",
    "\n",
    "pipe.fit(X_train[['so2', 'no2']])"
   ]
  },
  {
   "cell_type": "markdown",
   "id": "ffb4acf5",
   "metadata": {
    "editable": true,
    "slideshow": {
     "slide_type": "subslide"
    },
    "tags": []
   },
   "source": [
    "## Visualizing pipelines in html\n",
    "We can turn on the diagram visualization to have a nice view of our pipelines:"
   ]
  },
  {
   "cell_type": "code",
   "execution_count": 8,
   "id": "f8079471",
   "metadata": {
    "editable": true,
    "slideshow": {
     "slide_type": ""
    },
    "tags": []
   },
   "outputs": [
    {
     "data": {
      "text/html": [
       "<style>#sk-container-id-2 {color: black;}#sk-container-id-2 pre{padding: 0;}#sk-container-id-2 div.sk-toggleable {background-color: white;}#sk-container-id-2 label.sk-toggleable__label {cursor: pointer;display: block;width: 100%;margin-bottom: 0;padding: 0.3em;box-sizing: border-box;text-align: center;}#sk-container-id-2 label.sk-toggleable__label-arrow:before {content: \"▸\";float: left;margin-right: 0.25em;color: #696969;}#sk-container-id-2 label.sk-toggleable__label-arrow:hover:before {color: black;}#sk-container-id-2 div.sk-estimator:hover label.sk-toggleable__label-arrow:before {color: black;}#sk-container-id-2 div.sk-toggleable__content {max-height: 0;max-width: 0;overflow: hidden;text-align: left;background-color: #f0f8ff;}#sk-container-id-2 div.sk-toggleable__content pre {margin: 0.2em;color: black;border-radius: 0.25em;background-color: #f0f8ff;}#sk-container-id-2 input.sk-toggleable__control:checked~div.sk-toggleable__content {max-height: 200px;max-width: 100%;overflow: auto;}#sk-container-id-2 input.sk-toggleable__control:checked~label.sk-toggleable__label-arrow:before {content: \"▾\";}#sk-container-id-2 div.sk-estimator input.sk-toggleable__control:checked~label.sk-toggleable__label {background-color: #d4ebff;}#sk-container-id-2 div.sk-label input.sk-toggleable__control:checked~label.sk-toggleable__label {background-color: #d4ebff;}#sk-container-id-2 input.sk-hidden--visually {border: 0;clip: rect(1px 1px 1px 1px);clip: rect(1px, 1px, 1px, 1px);height: 1px;margin: -1px;overflow: hidden;padding: 0;position: absolute;width: 1px;}#sk-container-id-2 div.sk-estimator {font-family: monospace;background-color: #f0f8ff;border: 1px dotted black;border-radius: 0.25em;box-sizing: border-box;margin-bottom: 0.5em;}#sk-container-id-2 div.sk-estimator:hover {background-color: #d4ebff;}#sk-container-id-2 div.sk-parallel-item::after {content: \"\";width: 100%;border-bottom: 1px solid gray;flex-grow: 1;}#sk-container-id-2 div.sk-label:hover label.sk-toggleable__label {background-color: #d4ebff;}#sk-container-id-2 div.sk-serial::before {content: \"\";position: absolute;border-left: 1px solid gray;box-sizing: border-box;top: 0;bottom: 0;left: 50%;z-index: 0;}#sk-container-id-2 div.sk-serial {display: flex;flex-direction: column;align-items: center;background-color: white;padding-right: 0.2em;padding-left: 0.2em;position: relative;}#sk-container-id-2 div.sk-item {position: relative;z-index: 1;}#sk-container-id-2 div.sk-parallel {display: flex;align-items: stretch;justify-content: center;background-color: white;position: relative;}#sk-container-id-2 div.sk-item::before, #sk-container-id-2 div.sk-parallel-item::before {content: \"\";position: absolute;border-left: 1px solid gray;box-sizing: border-box;top: 0;bottom: 0;left: 50%;z-index: -1;}#sk-container-id-2 div.sk-parallel-item {display: flex;flex-direction: column;z-index: 1;position: relative;background-color: white;}#sk-container-id-2 div.sk-parallel-item:first-child::after {align-self: flex-end;width: 50%;}#sk-container-id-2 div.sk-parallel-item:last-child::after {align-self: flex-start;width: 50%;}#sk-container-id-2 div.sk-parallel-item:only-child::after {width: 0;}#sk-container-id-2 div.sk-dashed-wrapped {border: 1px dashed gray;margin: 0 0.4em 0.5em 0.4em;box-sizing: border-box;padding-bottom: 0.4em;background-color: white;}#sk-container-id-2 div.sk-label label {font-family: monospace;font-weight: bold;display: inline-block;line-height: 1.2em;}#sk-container-id-2 div.sk-label-container {text-align: center;}#sk-container-id-2 div.sk-container {/* jupyter's `normalize.less` sets `[hidden] { display: none; }` but bootstrap.min.css set `[hidden] { display: none !important; }` so we also need the `!important` here to be able to override the default hidden behavior on the sphinx rendered scikit-learn.org. See: https://github.com/scikit-learn/scikit-learn/issues/21755 */display: inline-block !important;position: relative;}#sk-container-id-2 div.sk-text-repr-fallback {display: none;}</style><div id=\"sk-container-id-2\" class=\"sk-top-container\"><div class=\"sk-text-repr-fallback\"><pre>Pipeline(steps=[(&#x27;imputer&#x27;, SimpleImputer()), (&#x27;scaler&#x27;, StandardScaler())])</pre><b>In a Jupyter environment, please rerun this cell to show the HTML representation or trust the notebook. <br />On GitHub, the HTML representation is unable to render, please try loading this page with nbviewer.org.</b></div><div class=\"sk-container\" hidden><div class=\"sk-item sk-dashed-wrapped\"><div class=\"sk-label-container\"><div class=\"sk-label sk-toggleable\"><input class=\"sk-toggleable__control sk-hidden--visually\" id=\"sk-estimator-id-4\" type=\"checkbox\" ><label for=\"sk-estimator-id-4\" class=\"sk-toggleable__label sk-toggleable__label-arrow\">Pipeline</label><div class=\"sk-toggleable__content\"><pre>Pipeline(steps=[(&#x27;imputer&#x27;, SimpleImputer()), (&#x27;scaler&#x27;, StandardScaler())])</pre></div></div></div><div class=\"sk-serial\"><div class=\"sk-item\"><div class=\"sk-estimator sk-toggleable\"><input class=\"sk-toggleable__control sk-hidden--visually\" id=\"sk-estimator-id-5\" type=\"checkbox\" ><label for=\"sk-estimator-id-5\" class=\"sk-toggleable__label sk-toggleable__label-arrow\">SimpleImputer</label><div class=\"sk-toggleable__content\"><pre>SimpleImputer()</pre></div></div></div><div class=\"sk-item\"><div class=\"sk-estimator sk-toggleable\"><input class=\"sk-toggleable__control sk-hidden--visually\" id=\"sk-estimator-id-6\" type=\"checkbox\" ><label for=\"sk-estimator-id-6\" class=\"sk-toggleable__label sk-toggleable__label-arrow\">StandardScaler</label><div class=\"sk-toggleable__content\"><pre>StandardScaler()</pre></div></div></div></div></div></div></div>"
      ],
      "text/plain": [
       "Pipeline(steps=[('imputer', SimpleImputer()), ('scaler', StandardScaler())])"
      ]
     },
     "execution_count": 8,
     "metadata": {},
     "output_type": "execute_result"
    }
   ],
   "source": [
    "from sklearn import set_config\n",
    "\n",
    "set_config(display='diagram')\n",
    "\n",
    "pipe"
   ]
  },
  {
   "cell_type": "markdown",
   "id": "87283f9d-cde3-4968-b1e3-3e7ab22c9b9d",
   "metadata": {
    "slideshow": {
     "slide_type": "subslide"
    }
   },
   "source": [
    "\n",
    "<h2 id=\"FeatureUnion\">FeatureUnion</h2>\n"
   ]
  },
  {
   "cell_type": "markdown",
   "id": "faa1e420-f6ce-44dc-b856-7b4e2b9b31d0",
   "metadata": {
    "slideshow": {
     "slide_type": "fragment"
    }
   },
   "source": [
    "\n",
    "<ul>\n",
    "<li>Applies transformers in paralell, independently</li>\n",
    "<li>Concatenate feature matrices outputs of each transformer</li>\n",
    "<li>Usefull to create and add new features</li>\n",
    "</ul>\n"
   ]
  },
  {
   "cell_type": "code",
   "execution_count": 9,
   "id": "4de33ba4-24f4-4fcb-83f4-625e35b309fe",
   "metadata": {
    "editable": true,
    "scrolled": true,
    "slideshow": {
     "slide_type": "fragment"
    },
    "tags": []
   },
   "outputs": [
    {
     "data": {
      "text/html": [
       "<style>#sk-container-id-3 {color: black;}#sk-container-id-3 pre{padding: 0;}#sk-container-id-3 div.sk-toggleable {background-color: white;}#sk-container-id-3 label.sk-toggleable__label {cursor: pointer;display: block;width: 100%;margin-bottom: 0;padding: 0.3em;box-sizing: border-box;text-align: center;}#sk-container-id-3 label.sk-toggleable__label-arrow:before {content: \"▸\";float: left;margin-right: 0.25em;color: #696969;}#sk-container-id-3 label.sk-toggleable__label-arrow:hover:before {color: black;}#sk-container-id-3 div.sk-estimator:hover label.sk-toggleable__label-arrow:before {color: black;}#sk-container-id-3 div.sk-toggleable__content {max-height: 0;max-width: 0;overflow: hidden;text-align: left;background-color: #f0f8ff;}#sk-container-id-3 div.sk-toggleable__content pre {margin: 0.2em;color: black;border-radius: 0.25em;background-color: #f0f8ff;}#sk-container-id-3 input.sk-toggleable__control:checked~div.sk-toggleable__content {max-height: 200px;max-width: 100%;overflow: auto;}#sk-container-id-3 input.sk-toggleable__control:checked~label.sk-toggleable__label-arrow:before {content: \"▾\";}#sk-container-id-3 div.sk-estimator input.sk-toggleable__control:checked~label.sk-toggleable__label {background-color: #d4ebff;}#sk-container-id-3 div.sk-label input.sk-toggleable__control:checked~label.sk-toggleable__label {background-color: #d4ebff;}#sk-container-id-3 input.sk-hidden--visually {border: 0;clip: rect(1px 1px 1px 1px);clip: rect(1px, 1px, 1px, 1px);height: 1px;margin: -1px;overflow: hidden;padding: 0;position: absolute;width: 1px;}#sk-container-id-3 div.sk-estimator {font-family: monospace;background-color: #f0f8ff;border: 1px dotted black;border-radius: 0.25em;box-sizing: border-box;margin-bottom: 0.5em;}#sk-container-id-3 div.sk-estimator:hover {background-color: #d4ebff;}#sk-container-id-3 div.sk-parallel-item::after {content: \"\";width: 100%;border-bottom: 1px solid gray;flex-grow: 1;}#sk-container-id-3 div.sk-label:hover label.sk-toggleable__label {background-color: #d4ebff;}#sk-container-id-3 div.sk-serial::before {content: \"\";position: absolute;border-left: 1px solid gray;box-sizing: border-box;top: 0;bottom: 0;left: 50%;z-index: 0;}#sk-container-id-3 div.sk-serial {display: flex;flex-direction: column;align-items: center;background-color: white;padding-right: 0.2em;padding-left: 0.2em;position: relative;}#sk-container-id-3 div.sk-item {position: relative;z-index: 1;}#sk-container-id-3 div.sk-parallel {display: flex;align-items: stretch;justify-content: center;background-color: white;position: relative;}#sk-container-id-3 div.sk-item::before, #sk-container-id-3 div.sk-parallel-item::before {content: \"\";position: absolute;border-left: 1px solid gray;box-sizing: border-box;top: 0;bottom: 0;left: 50%;z-index: -1;}#sk-container-id-3 div.sk-parallel-item {display: flex;flex-direction: column;z-index: 1;position: relative;background-color: white;}#sk-container-id-3 div.sk-parallel-item:first-child::after {align-self: flex-end;width: 50%;}#sk-container-id-3 div.sk-parallel-item:last-child::after {align-self: flex-start;width: 50%;}#sk-container-id-3 div.sk-parallel-item:only-child::after {width: 0;}#sk-container-id-3 div.sk-dashed-wrapped {border: 1px dashed gray;margin: 0 0.4em 0.5em 0.4em;box-sizing: border-box;padding-bottom: 0.4em;background-color: white;}#sk-container-id-3 div.sk-label label {font-family: monospace;font-weight: bold;display: inline-block;line-height: 1.2em;}#sk-container-id-3 div.sk-label-container {text-align: center;}#sk-container-id-3 div.sk-container {/* jupyter's `normalize.less` sets `[hidden] { display: none; }` but bootstrap.min.css set `[hidden] { display: none !important; }` so we also need the `!important` here to be able to override the default hidden behavior on the sphinx rendered scikit-learn.org. See: https://github.com/scikit-learn/scikit-learn/issues/21755 */display: inline-block !important;position: relative;}#sk-container-id-3 div.sk-text-repr-fallback {display: none;}</style><div id=\"sk-container-id-3\" class=\"sk-top-container\"><div class=\"sk-text-repr-fallback\"><pre>FeatureUnion(transformer_list=[(&#x27;pipeline&#x27;,\n",
       "                                Pipeline(steps=[(&#x27;imputer&#x27;, SimpleImputer()),\n",
       "                                                (&#x27;scaler&#x27;, StandardScaler())])),\n",
       "                               (&#x27;not_scaled&#x27;, SimpleImputer())])</pre><b>In a Jupyter environment, please rerun this cell to show the HTML representation or trust the notebook. <br />On GitHub, the HTML representation is unable to render, please try loading this page with nbviewer.org.</b></div><div class=\"sk-container\" hidden><div class=\"sk-item sk-dashed-wrapped\"><div class=\"sk-label-container\"><div class=\"sk-label sk-toggleable\"><input class=\"sk-toggleable__control sk-hidden--visually\" id=\"sk-estimator-id-7\" type=\"checkbox\" ><label for=\"sk-estimator-id-7\" class=\"sk-toggleable__label sk-toggleable__label-arrow\">FeatureUnion</label><div class=\"sk-toggleable__content\"><pre>FeatureUnion(transformer_list=[(&#x27;pipeline&#x27;,\n",
       "                                Pipeline(steps=[(&#x27;imputer&#x27;, SimpleImputer()),\n",
       "                                                (&#x27;scaler&#x27;, StandardScaler())])),\n",
       "                               (&#x27;not_scaled&#x27;, SimpleImputer())])</pre></div></div></div><div class=\"sk-parallel\"><div class=\"sk-parallel-item\"><div class=\"sk-item\"><div class=\"sk-label-container\"><div class=\"sk-label sk-toggleable\"><label>pipeline</label></div></div><div class=\"sk-serial\"><div class=\"sk-item\"><div class=\"sk-serial\"><div class=\"sk-item\"><div class=\"sk-estimator sk-toggleable\"><input class=\"sk-toggleable__control sk-hidden--visually\" id=\"sk-estimator-id-8\" type=\"checkbox\" ><label for=\"sk-estimator-id-8\" class=\"sk-toggleable__label sk-toggleable__label-arrow\">SimpleImputer</label><div class=\"sk-toggleable__content\"><pre>SimpleImputer()</pre></div></div></div><div class=\"sk-item\"><div class=\"sk-estimator sk-toggleable\"><input class=\"sk-toggleable__control sk-hidden--visually\" id=\"sk-estimator-id-9\" type=\"checkbox\" ><label for=\"sk-estimator-id-9\" class=\"sk-toggleable__label sk-toggleable__label-arrow\">StandardScaler</label><div class=\"sk-toggleable__content\"><pre>StandardScaler()</pre></div></div></div></div></div></div></div></div><div class=\"sk-parallel-item\"><div class=\"sk-item\"><div class=\"sk-label-container\"><div class=\"sk-label sk-toggleable\"><label>not_scaled</label></div></div><div class=\"sk-serial\"><div class=\"sk-item\"><div class=\"sk-estimator sk-toggleable\"><input class=\"sk-toggleable__control sk-hidden--visually\" id=\"sk-estimator-id-10\" type=\"checkbox\" ><label for=\"sk-estimator-id-10\" class=\"sk-toggleable__label sk-toggleable__label-arrow\">SimpleImputer</label><div class=\"sk-toggleable__content\"><pre>SimpleImputer()</pre></div></div></div></div></div></div></div></div></div></div>"
      ],
      "text/plain": [
       "FeatureUnion(transformer_list=[('pipeline',\n",
       "                                Pipeline(steps=[('imputer', SimpleImputer()),\n",
       "                                                ('scaler', StandardScaler())])),\n",
       "                               ('not_scaled', SimpleImputer())])"
      ]
     },
     "execution_count": 9,
     "metadata": {},
     "output_type": "execute_result"
    }
   ],
   "source": [
    "from sklearn.pipeline import FeatureUnion\n",
    "\n",
    "union = FeatureUnion([\n",
    "    ('pipeline', pipe), # columns 0-1\n",
    "    ('not_scaled', SimpleImputer()) # new colums 2-3\n",
    "])\n",
    "\n",
    "union.fit(X_train[['so2', 'no2']])\n",
    "union\n",
    "\n"
   ]
  },
  {
   "cell_type": "code",
   "execution_count": 10,
   "id": "0190ffed-bfe3-43cc-8fdd-1736ade88e3c",
   "metadata": {
    "editable": true,
    "slideshow": {
     "slide_type": "fragment"
    },
    "tags": []
   },
   "outputs": [
    {
     "data": {
      "text/html": [
       "<div>\n",
       "<style scoped>\n",
       "    .dataframe tbody tr th:only-of-type {\n",
       "        vertical-align: middle;\n",
       "    }\n",
       "\n",
       "    .dataframe tbody tr th {\n",
       "        vertical-align: top;\n",
       "    }\n",
       "\n",
       "    .dataframe thead th {\n",
       "        text-align: right;\n",
       "    }\n",
       "</style>\n",
       "<table border=\"1\" class=\"dataframe\">\n",
       "  <thead>\n",
       "    <tr style=\"text-align: right;\">\n",
       "      <th></th>\n",
       "      <th>0</th>\n",
       "      <th>1</th>\n",
       "      <th>2</th>\n",
       "      <th>3</th>\n",
       "    </tr>\n",
       "  </thead>\n",
       "  <tbody>\n",
       "    <tr>\n",
       "      <th>0</th>\n",
       "      <td>-0.855862</td>\n",
       "      <td>-0.529958</td>\n",
       "      <td>2.0</td>\n",
       "      <td>17.0</td>\n",
       "    </tr>\n",
       "    <tr>\n",
       "      <th>1</th>\n",
       "      <td>-0.680542</td>\n",
       "      <td>-0.601927</td>\n",
       "      <td>3.9</td>\n",
       "      <td>15.7</td>\n",
       "    </tr>\n",
       "    <tr>\n",
       "      <th>2</th>\n",
       "      <td>-0.209948</td>\n",
       "      <td>0.189731</td>\n",
       "      <td>9.0</td>\n",
       "      <td>30.0</td>\n",
       "    </tr>\n",
       "    <tr>\n",
       "      <th>3</th>\n",
       "      <td>-0.117675</td>\n",
       "      <td>-0.585318</td>\n",
       "      <td>10.0</td>\n",
       "      <td>16.0</td>\n",
       "    </tr>\n",
       "    <tr>\n",
       "      <th>4</th>\n",
       "      <td>-0.671315</td>\n",
       "      <td>-0.972843</td>\n",
       "      <td>4.0</td>\n",
       "      <td>9.0</td>\n",
       "    </tr>\n",
       "  </tbody>\n",
       "</table>\n",
       "</div>"
      ],
      "text/plain": [
       "          0         1     2     3\n",
       "0 -0.855862 -0.529958   2.0  17.0\n",
       "1 -0.680542 -0.601927   3.9  15.7\n",
       "2 -0.209948  0.189731   9.0  30.0\n",
       "3 -0.117675 -0.585318  10.0  16.0\n",
       "4 -0.671315 -0.972843   4.0   9.0"
      ]
     },
     "execution_count": 10,
     "metadata": {},
     "output_type": "execute_result"
    }
   ],
   "source": [
    "pd.DataFrame(union.transform(X_test[['so2', 'no2']])).head()"
   ]
  },
  {
   "cell_type": "markdown",
   "id": "d28ed9f2-26e3-4a46-ab7e-09169c9bfd37",
   "metadata": {
    "editable": true,
    "slideshow": {
     "slide_type": "subslide"
    },
    "tags": []
   },
   "source": [
    "## Tackling more complex transformations using <code>Column Transformer</code>\n",
    "* Apply specific changes to specific columns in **parallel**\n",
    "* A <code>Pipeline</code> object can be passed in <code>ColumnTransformer</code> and vice-versa\n",
    "\n",
    "<code>from sklearn.compose import ColumnTransformer</code>\n"
   ]
  },
  {
   "cell_type": "markdown",
   "id": "2828ee5d-3864-45ae-96df-3a20acf2d4da",
   "metadata": {
    "slideshow": {
     "slide_type": "fragment"
    },
    "tags": []
   },
   "source": [
    "💻 Let's do this<br>\n",
    "\n",
    "* *impute* then *scale* numerical variables\n",
    "* *encode* categorical variables"
   ]
  },
  {
   "cell_type": "code",
   "execution_count": 11,
   "id": "c07ac383",
   "metadata": {
    "editable": true,
    "slideshow": {
     "slide_type": "fragment"
    },
    "tags": []
   },
   "outputs": [],
   "source": [
    "from sklearn.preprocessing import OneHotEncoder\n",
    "from sklearn.compose import ColumnTransformer\n",
    "\n",
    "# Impute then Scale for numerical variables: \n",
    "num_transformer = Pipeline([\n",
    "    ('num_imputer', SimpleImputer()),\n",
    "    ('num_scaler', StandardScaler())])\n",
    "\n",
    "# Encode categorical variables\n",
    "cat_transformer = Pipeline([\n",
    "    ('cat_imputer',SimpleImputer(strategy = 'most_frequent')),\n",
    "    ('cat_encoder',OneHotEncoder(handle_unknown='ignore', sparse_output=False))\n",
    "     ])"
   ]
  },
  {
   "cell_type": "code",
   "execution_count": 12,
   "id": "76d545f4",
   "metadata": {
    "slideshow": {
     "slide_type": "subslide"
    },
    "tags": []
   },
   "outputs": [
    {
     "data": {
      "text/html": [
       "<style>#sk-container-id-4 {color: black;}#sk-container-id-4 pre{padding: 0;}#sk-container-id-4 div.sk-toggleable {background-color: white;}#sk-container-id-4 label.sk-toggleable__label {cursor: pointer;display: block;width: 100%;margin-bottom: 0;padding: 0.3em;box-sizing: border-box;text-align: center;}#sk-container-id-4 label.sk-toggleable__label-arrow:before {content: \"▸\";float: left;margin-right: 0.25em;color: #696969;}#sk-container-id-4 label.sk-toggleable__label-arrow:hover:before {color: black;}#sk-container-id-4 div.sk-estimator:hover label.sk-toggleable__label-arrow:before {color: black;}#sk-container-id-4 div.sk-toggleable__content {max-height: 0;max-width: 0;overflow: hidden;text-align: left;background-color: #f0f8ff;}#sk-container-id-4 div.sk-toggleable__content pre {margin: 0.2em;color: black;border-radius: 0.25em;background-color: #f0f8ff;}#sk-container-id-4 input.sk-toggleable__control:checked~div.sk-toggleable__content {max-height: 200px;max-width: 100%;overflow: auto;}#sk-container-id-4 input.sk-toggleable__control:checked~label.sk-toggleable__label-arrow:before {content: \"▾\";}#sk-container-id-4 div.sk-estimator input.sk-toggleable__control:checked~label.sk-toggleable__label {background-color: #d4ebff;}#sk-container-id-4 div.sk-label input.sk-toggleable__control:checked~label.sk-toggleable__label {background-color: #d4ebff;}#sk-container-id-4 input.sk-hidden--visually {border: 0;clip: rect(1px 1px 1px 1px);clip: rect(1px, 1px, 1px, 1px);height: 1px;margin: -1px;overflow: hidden;padding: 0;position: absolute;width: 1px;}#sk-container-id-4 div.sk-estimator {font-family: monospace;background-color: #f0f8ff;border: 1px dotted black;border-radius: 0.25em;box-sizing: border-box;margin-bottom: 0.5em;}#sk-container-id-4 div.sk-estimator:hover {background-color: #d4ebff;}#sk-container-id-4 div.sk-parallel-item::after {content: \"\";width: 100%;border-bottom: 1px solid gray;flex-grow: 1;}#sk-container-id-4 div.sk-label:hover label.sk-toggleable__label {background-color: #d4ebff;}#sk-container-id-4 div.sk-serial::before {content: \"\";position: absolute;border-left: 1px solid gray;box-sizing: border-box;top: 0;bottom: 0;left: 50%;z-index: 0;}#sk-container-id-4 div.sk-serial {display: flex;flex-direction: column;align-items: center;background-color: white;padding-right: 0.2em;padding-left: 0.2em;position: relative;}#sk-container-id-4 div.sk-item {position: relative;z-index: 1;}#sk-container-id-4 div.sk-parallel {display: flex;align-items: stretch;justify-content: center;background-color: white;position: relative;}#sk-container-id-4 div.sk-item::before, #sk-container-id-4 div.sk-parallel-item::before {content: \"\";position: absolute;border-left: 1px solid gray;box-sizing: border-box;top: 0;bottom: 0;left: 50%;z-index: -1;}#sk-container-id-4 div.sk-parallel-item {display: flex;flex-direction: column;z-index: 1;position: relative;background-color: white;}#sk-container-id-4 div.sk-parallel-item:first-child::after {align-self: flex-end;width: 50%;}#sk-container-id-4 div.sk-parallel-item:last-child::after {align-self: flex-start;width: 50%;}#sk-container-id-4 div.sk-parallel-item:only-child::after {width: 0;}#sk-container-id-4 div.sk-dashed-wrapped {border: 1px dashed gray;margin: 0 0.4em 0.5em 0.4em;box-sizing: border-box;padding-bottom: 0.4em;background-color: white;}#sk-container-id-4 div.sk-label label {font-family: monospace;font-weight: bold;display: inline-block;line-height: 1.2em;}#sk-container-id-4 div.sk-label-container {text-align: center;}#sk-container-id-4 div.sk-container {/* jupyter's `normalize.less` sets `[hidden] { display: none; }` but bootstrap.min.css set `[hidden] { display: none !important; }` so we also need the `!important` here to be able to override the default hidden behavior on the sphinx rendered scikit-learn.org. See: https://github.com/scikit-learn/scikit-learn/issues/21755 */display: inline-block !important;position: relative;}#sk-container-id-4 div.sk-text-repr-fallback {display: none;}</style><div id=\"sk-container-id-4\" class=\"sk-top-container\"><div class=\"sk-text-repr-fallback\"><pre>ColumnTransformer(transformers=[(&#x27;num_transformer&#x27;,\n",
       "                                 Pipeline(steps=[(&#x27;num_imputer&#x27;,\n",
       "                                                  SimpleImputer()),\n",
       "                                                 (&#x27;num_scaler&#x27;,\n",
       "                                                  StandardScaler())]),\n",
       "                                 Index([&#x27;so2&#x27;, &#x27;no2&#x27;, &#x27;rainfall&#x27;], dtype=&#x27;object&#x27;)),\n",
       "                                (&#x27;cat_transformer&#x27;,\n",
       "                                 Pipeline(steps=[(&#x27;cat_imputer&#x27;,\n",
       "                                                  SimpleImputer(strategy=&#x27;most_frequent&#x27;)),\n",
       "                                                 (&#x27;cat_encoder&#x27;,\n",
       "                                                  OneHotEncoder(handle_unknown=&#x27;ignore&#x27;,\n",
       "                                                                sparse_output=False))]),\n",
       "                                 Index([&#x27;stn_code&#x27;, &#x27;state&#x27;, &#x27;location&#x27;, &#x27;type&#x27;, &#x27;date&#x27;], dtype=&#x27;object&#x27;))])</pre><b>In a Jupyter environment, please rerun this cell to show the HTML representation or trust the notebook. <br />On GitHub, the HTML representation is unable to render, please try loading this page with nbviewer.org.</b></div><div class=\"sk-container\" hidden><div class=\"sk-item sk-dashed-wrapped\"><div class=\"sk-label-container\"><div class=\"sk-label sk-toggleable\"><input class=\"sk-toggleable__control sk-hidden--visually\" id=\"sk-estimator-id-11\" type=\"checkbox\" ><label for=\"sk-estimator-id-11\" class=\"sk-toggleable__label sk-toggleable__label-arrow\">ColumnTransformer</label><div class=\"sk-toggleable__content\"><pre>ColumnTransformer(transformers=[(&#x27;num_transformer&#x27;,\n",
       "                                 Pipeline(steps=[(&#x27;num_imputer&#x27;,\n",
       "                                                  SimpleImputer()),\n",
       "                                                 (&#x27;num_scaler&#x27;,\n",
       "                                                  StandardScaler())]),\n",
       "                                 Index([&#x27;so2&#x27;, &#x27;no2&#x27;, &#x27;rainfall&#x27;], dtype=&#x27;object&#x27;)),\n",
       "                                (&#x27;cat_transformer&#x27;,\n",
       "                                 Pipeline(steps=[(&#x27;cat_imputer&#x27;,\n",
       "                                                  SimpleImputer(strategy=&#x27;most_frequent&#x27;)),\n",
       "                                                 (&#x27;cat_encoder&#x27;,\n",
       "                                                  OneHotEncoder(handle_unknown=&#x27;ignore&#x27;,\n",
       "                                                                sparse_output=False))]),\n",
       "                                 Index([&#x27;stn_code&#x27;, &#x27;state&#x27;, &#x27;location&#x27;, &#x27;type&#x27;, &#x27;date&#x27;], dtype=&#x27;object&#x27;))])</pre></div></div></div><div class=\"sk-parallel\"><div class=\"sk-parallel-item\"><div class=\"sk-item\"><div class=\"sk-label-container\"><div class=\"sk-label sk-toggleable\"><input class=\"sk-toggleable__control sk-hidden--visually\" id=\"sk-estimator-id-12\" type=\"checkbox\" ><label for=\"sk-estimator-id-12\" class=\"sk-toggleable__label sk-toggleable__label-arrow\">num_transformer</label><div class=\"sk-toggleable__content\"><pre>Index([&#x27;so2&#x27;, &#x27;no2&#x27;, &#x27;rainfall&#x27;], dtype=&#x27;object&#x27;)</pre></div></div></div><div class=\"sk-serial\"><div class=\"sk-item\"><div class=\"sk-serial\"><div class=\"sk-item\"><div class=\"sk-estimator sk-toggleable\"><input class=\"sk-toggleable__control sk-hidden--visually\" id=\"sk-estimator-id-13\" type=\"checkbox\" ><label for=\"sk-estimator-id-13\" class=\"sk-toggleable__label sk-toggleable__label-arrow\">SimpleImputer</label><div class=\"sk-toggleable__content\"><pre>SimpleImputer()</pre></div></div></div><div class=\"sk-item\"><div class=\"sk-estimator sk-toggleable\"><input class=\"sk-toggleable__control sk-hidden--visually\" id=\"sk-estimator-id-14\" type=\"checkbox\" ><label for=\"sk-estimator-id-14\" class=\"sk-toggleable__label sk-toggleable__label-arrow\">StandardScaler</label><div class=\"sk-toggleable__content\"><pre>StandardScaler()</pre></div></div></div></div></div></div></div></div><div class=\"sk-parallel-item\"><div class=\"sk-item\"><div class=\"sk-label-container\"><div class=\"sk-label sk-toggleable\"><input class=\"sk-toggleable__control sk-hidden--visually\" id=\"sk-estimator-id-15\" type=\"checkbox\" ><label for=\"sk-estimator-id-15\" class=\"sk-toggleable__label sk-toggleable__label-arrow\">cat_transformer</label><div class=\"sk-toggleable__content\"><pre>Index([&#x27;stn_code&#x27;, &#x27;state&#x27;, &#x27;location&#x27;, &#x27;type&#x27;, &#x27;date&#x27;], dtype=&#x27;object&#x27;)</pre></div></div></div><div class=\"sk-serial\"><div class=\"sk-item\"><div class=\"sk-serial\"><div class=\"sk-item\"><div class=\"sk-estimator sk-toggleable\"><input class=\"sk-toggleable__control sk-hidden--visually\" id=\"sk-estimator-id-16\" type=\"checkbox\" ><label for=\"sk-estimator-id-16\" class=\"sk-toggleable__label sk-toggleable__label-arrow\">SimpleImputer</label><div class=\"sk-toggleable__content\"><pre>SimpleImputer(strategy=&#x27;most_frequent&#x27;)</pre></div></div></div><div class=\"sk-item\"><div class=\"sk-estimator sk-toggleable\"><input class=\"sk-toggleable__control sk-hidden--visually\" id=\"sk-estimator-id-17\" type=\"checkbox\" ><label for=\"sk-estimator-id-17\" class=\"sk-toggleable__label sk-toggleable__label-arrow\">OneHotEncoder</label><div class=\"sk-toggleable__content\"><pre>OneHotEncoder(handle_unknown=&#x27;ignore&#x27;, sparse_output=False)</pre></div></div></div></div></div></div></div></div></div></div></div></div>"
      ],
      "text/plain": [
       "ColumnTransformer(transformers=[('num_transformer',\n",
       "                                 Pipeline(steps=[('num_imputer',\n",
       "                                                  SimpleImputer()),\n",
       "                                                 ('num_scaler',\n",
       "                                                  StandardScaler())]),\n",
       "                                 Index(['so2', 'no2', 'rainfall'], dtype='object')),\n",
       "                                ('cat_transformer',\n",
       "                                 Pipeline(steps=[('cat_imputer',\n",
       "                                                  SimpleImputer(strategy='most_frequent')),\n",
       "                                                 ('cat_encoder',\n",
       "                                                  OneHotEncoder(handle_unknown='ignore',\n",
       "                                                                sparse_output=False))]),\n",
       "                                 Index(['stn_code', 'state', 'location', 'type', 'date'], dtype='object'))])"
      ]
     },
     "execution_count": 12,
     "metadata": {},
     "output_type": "execute_result"
    }
   ],
   "source": [
    "# Paralellize \"num_transformer\" and \"cat_transformer\"\n",
    "preprocessor = ColumnTransformer([\n",
    "    ('num_transformer', num_transformer, X_train.select_dtypes(include=np.number).columns),\n",
    "    ('cat_transformer', cat_transformer, X_train.select_dtypes(exclude=np.number).columns)\n",
    "])\n",
    "\n",
    "preprocessor"
   ]
  },
  {
   "cell_type": "code",
   "execution_count": 13,
   "id": "1d8353b4",
   "metadata": {},
   "outputs": [
    {
     "data": {
      "text/plain": [
       "stn_code     object\n",
       "state        object\n",
       "location     object\n",
       "type         object\n",
       "so2         float64\n",
       "no2         float64\n",
       "date         object\n",
       "rainfall    float64\n",
       "dtype: object"
      ]
     },
     "execution_count": 13,
     "metadata": {},
     "output_type": "execute_result"
    }
   ],
   "source": [
    "X_train.dtypes"
   ]
  },
  {
   "cell_type": "code",
   "execution_count": 14,
   "id": "e5157328",
   "metadata": {
    "editable": true,
    "slideshow": {
     "slide_type": "fragment"
    },
    "tags": []
   },
   "outputs": [
    {
     "data": {
      "text/plain": [
       "Index(['stn_code', 'state', 'location', 'type', 'date'], dtype='object')"
      ]
     },
     "execution_count": 14,
     "metadata": {},
     "output_type": "execute_result"
    }
   ],
   "source": [
    "# Tip to easily select columns in a dataframe based on type:\n",
    "X_train.select_dtypes(exclude=np.number).columns"
   ]
  },
  {
   "cell_type": "code",
   "execution_count": 16,
   "id": "ffb551bd",
   "metadata": {},
   "outputs": [
    {
     "data": {
      "text/html": [
       "<div>\n",
       "<style scoped>\n",
       "    .dataframe tbody tr th:only-of-type {\n",
       "        vertical-align: middle;\n",
       "    }\n",
       "\n",
       "    .dataframe tbody tr th {\n",
       "        vertical-align: top;\n",
       "    }\n",
       "\n",
       "    .dataframe thead th {\n",
       "        text-align: right;\n",
       "    }\n",
       "</style>\n",
       "<table border=\"1\" class=\"dataframe\">\n",
       "  <thead>\n",
       "    <tr style=\"text-align: right;\">\n",
       "      <th></th>\n",
       "      <th>so2</th>\n",
       "      <th>no2</th>\n",
       "      <th>rainfall</th>\n",
       "    </tr>\n",
       "  </thead>\n",
       "  <tbody>\n",
       "    <tr>\n",
       "      <th>count</th>\n",
       "      <td>20824.000000</td>\n",
       "      <td>22296.000000</td>\n",
       "      <td>19409.000000</td>\n",
       "    </tr>\n",
       "    <tr>\n",
       "      <th>mean</th>\n",
       "      <td>11.275282</td>\n",
       "      <td>26.572814</td>\n",
       "      <td>80.111746</td>\n",
       "    </tr>\n",
       "    <tr>\n",
       "      <th>std</th>\n",
       "      <td>11.214122</td>\n",
       "      <td>18.063762</td>\n",
       "      <td>20.102804</td>\n",
       "    </tr>\n",
       "    <tr>\n",
       "      <th>min</th>\n",
       "      <td>0.000000</td>\n",
       "      <td>0.000000</td>\n",
       "      <td>-3.790493</td>\n",
       "    </tr>\n",
       "    <tr>\n",
       "      <th>25%</th>\n",
       "      <td>5.000000</td>\n",
       "      <td>14.900000</td>\n",
       "      <td>66.656679</td>\n",
       "    </tr>\n",
       "    <tr>\n",
       "      <th>50%</th>\n",
       "      <td>8.200000</td>\n",
       "      <td>23.000000</td>\n",
       "      <td>80.031149</td>\n",
       "    </tr>\n",
       "    <tr>\n",
       "      <th>75%</th>\n",
       "      <td>14.000000</td>\n",
       "      <td>33.000000</td>\n",
       "      <td>93.713891</td>\n",
       "    </tr>\n",
       "    <tr>\n",
       "      <th>max</th>\n",
       "      <td>363.000000</td>\n",
       "      <td>363.000000</td>\n",
       "      <td>158.895815</td>\n",
       "    </tr>\n",
       "  </tbody>\n",
       "</table>\n",
       "</div>"
      ],
      "text/plain": [
       "                so2           no2      rainfall\n",
       "count  20824.000000  22296.000000  19409.000000\n",
       "mean      11.275282     26.572814     80.111746\n",
       "std       11.214122     18.063762     20.102804\n",
       "min        0.000000      0.000000     -3.790493\n",
       "25%        5.000000     14.900000     66.656679\n",
       "50%        8.200000     23.000000     80.031149\n",
       "75%       14.000000     33.000000     93.713891\n",
       "max      363.000000    363.000000    158.895815"
      ]
     },
     "execution_count": 16,
     "metadata": {},
     "output_type": "execute_result"
    }
   ],
   "source": [
    "X_train.describe()"
   ]
  },
  {
   "cell_type": "code",
   "execution_count": 21,
   "id": "625f4a1f-bcd7-4b0a-94e3-c4618d9f11ea",
   "metadata": {
    "editable": true,
    "slideshow": {
     "slide_type": "subslide"
    },
    "tags": []
   },
   "outputs": [
    {
     "data": {
      "text/plain": [
       "array([[ 1.91234029,  1.4408831 ,  0.76581787, ...,  0.        ,\n",
       "         0.        ,  0.        ],\n",
       "       [ 1.26642647, -0.03171136, -1.77332097, ...,  0.        ,\n",
       "         0.        ,  0.        ],\n",
       "       [-0.85586182, -0.91748246,  0.42619511, ...,  0.        ,\n",
       "         0.        ,  0.        ],\n",
       "       ...,\n",
       "       [ 0.76815009, -0.27529841,  0.4516605 , ...,  0.        ,\n",
       "         0.        ,  0.        ],\n",
       "       [-0.3944948 , -0.75140038,  0.        , ...,  0.        ,\n",
       "         0.        ,  0.        ],\n",
       "       [-0.85586182, -1.19428593, -0.2981496 , ...,  0.        ,\n",
       "         0.        ,  0.        ]])"
      ]
     },
     "execution_count": 21,
     "metadata": {},
     "output_type": "execute_result"
    }
   ],
   "source": [
    "preprocessor.fit_transform(X_train)"
   ]
  },
  {
   "cell_type": "markdown",
   "id": "364c62ec-1821-4f59-b920-978d580228cf",
   "metadata": {
    "editable": true,
    "slideshow": {
     "slide_type": "subslide"
    },
    "tags": []
   },
   "source": [
    "## How about our feature names?\n",
    "\n",
    "By default, `sklearn` transformers and pipelines return a numpy array. In the past, retaining the name of the columns was a bit of a juggling exercise. Luckily, starting with `sklearn version 1.2`, we can set the option of `sklearn` to return a `pandas` dataframe (<a href=\"https://blog.scikit-learn.org/technical/pandas-dataframe-output-for-sklearn-transformer/\">See this post for explanation</a>):"
   ]
  },
  {
   "cell_type": "code",
   "execution_count": 22,
   "id": "32e34c1e-17e8-49f4-b602-adf69745b8a2",
   "metadata": {
    "editable": true,
    "slideshow": {
     "slide_type": "fragment"
    },
    "tags": []
   },
   "outputs": [],
   "source": [
    "from sklearn import set_config\n",
    "set_config(transform_output = \"pandas\")"
   ]
  },
  {
   "cell_type": "markdown",
   "id": "068ba8db-c75a-45c0-a3f8-53f543d0af4b",
   "metadata": {
    "editable": true,
    "slideshow": {
     "slide_type": "fragment"
    },
    "tags": []
   },
   "source": [
    "From now on, all of your object will return a pandas dataframe:"
   ]
  },
  {
   "cell_type": "code",
   "execution_count": 23,
   "id": "db751700-66e5-4e50-903d-897a1acb6926",
   "metadata": {
    "editable": true,
    "slideshow": {
     "slide_type": ""
    },
    "tags": []
   },
   "outputs": [
    {
     "data": {
      "text/html": [
       "<div>\n",
       "<style scoped>\n",
       "    .dataframe tbody tr th:only-of-type {\n",
       "        vertical-align: middle;\n",
       "    }\n",
       "\n",
       "    .dataframe tbody tr th {\n",
       "        vertical-align: top;\n",
       "    }\n",
       "\n",
       "    .dataframe thead th {\n",
       "        text-align: right;\n",
       "    }\n",
       "</style>\n",
       "<table border=\"1\" class=\"dataframe\">\n",
       "  <thead>\n",
       "    <tr style=\"text-align: right;\">\n",
       "      <th></th>\n",
       "      <th>num_transformer__so2</th>\n",
       "      <th>num_transformer__no2</th>\n",
       "      <th>num_transformer__rainfall</th>\n",
       "      <th>cat_transformer__stn_code_1</th>\n",
       "      <th>cat_transformer__stn_code_10</th>\n",
       "      <th>cat_transformer__stn_code_101</th>\n",
       "      <th>cat_transformer__stn_code_102</th>\n",
       "      <th>cat_transformer__stn_code_103</th>\n",
       "      <th>cat_transformer__stn_code_106</th>\n",
       "      <th>cat_transformer__stn_code_109</th>\n",
       "      <th>...</th>\n",
       "      <th>cat_transformer__date_31/12/2005</th>\n",
       "      <th>cat_transformer__date_31/12/2007</th>\n",
       "      <th>cat_transformer__date_31/12/2008</th>\n",
       "      <th>cat_transformer__date_31/12/2009</th>\n",
       "      <th>cat_transformer__date_31/12/2010</th>\n",
       "      <th>cat_transformer__date_31/12/2011</th>\n",
       "      <th>cat_transformer__date_31/12/2012</th>\n",
       "      <th>cat_transformer__date_31/12/2013</th>\n",
       "      <th>cat_transformer__date_31/12/2014</th>\n",
       "      <th>cat_transformer__date_31/12/2015</th>\n",
       "    </tr>\n",
       "  </thead>\n",
       "  <tbody>\n",
       "    <tr>\n",
       "      <th>14606</th>\n",
       "      <td>1.912340</td>\n",
       "      <td>1.440883</td>\n",
       "      <td>0.765818</td>\n",
       "      <td>0.0</td>\n",
       "      <td>0.0</td>\n",
       "      <td>0.0</td>\n",
       "      <td>0.0</td>\n",
       "      <td>0.0</td>\n",
       "      <td>0.0</td>\n",
       "      <td>0.0</td>\n",
       "      <td>...</td>\n",
       "      <td>0.0</td>\n",
       "      <td>0.0</td>\n",
       "      <td>0.0</td>\n",
       "      <td>0.0</td>\n",
       "      <td>0.0</td>\n",
       "      <td>0.0</td>\n",
       "      <td>0.0</td>\n",
       "      <td>0.0</td>\n",
       "      <td>0.0</td>\n",
       "      <td>0.0</td>\n",
       "    </tr>\n",
       "    <tr>\n",
       "      <th>21850</th>\n",
       "      <td>1.266426</td>\n",
       "      <td>-0.031711</td>\n",
       "      <td>-1.773321</td>\n",
       "      <td>0.0</td>\n",
       "      <td>0.0</td>\n",
       "      <td>0.0</td>\n",
       "      <td>0.0</td>\n",
       "      <td>0.0</td>\n",
       "      <td>0.0</td>\n",
       "      <td>0.0</td>\n",
       "      <td>...</td>\n",
       "      <td>0.0</td>\n",
       "      <td>0.0</td>\n",
       "      <td>0.0</td>\n",
       "      <td>0.0</td>\n",
       "      <td>0.0</td>\n",
       "      <td>0.0</td>\n",
       "      <td>0.0</td>\n",
       "      <td>0.0</td>\n",
       "      <td>0.0</td>\n",
       "      <td>0.0</td>\n",
       "    </tr>\n",
       "    <tr>\n",
       "      <th>23190</th>\n",
       "      <td>-0.855862</td>\n",
       "      <td>-0.917482</td>\n",
       "      <td>0.426195</td>\n",
       "      <td>0.0</td>\n",
       "      <td>0.0</td>\n",
       "      <td>0.0</td>\n",
       "      <td>0.0</td>\n",
       "      <td>0.0</td>\n",
       "      <td>0.0</td>\n",
       "      <td>0.0</td>\n",
       "      <td>...</td>\n",
       "      <td>0.0</td>\n",
       "      <td>0.0</td>\n",
       "      <td>0.0</td>\n",
       "      <td>0.0</td>\n",
       "      <td>0.0</td>\n",
       "      <td>0.0</td>\n",
       "      <td>0.0</td>\n",
       "      <td>0.0</td>\n",
       "      <td>0.0</td>\n",
       "      <td>0.0</td>\n",
       "    </tr>\n",
       "    <tr>\n",
       "      <th>16552</th>\n",
       "      <td>1.912340</td>\n",
       "      <td>-0.529958</td>\n",
       "      <td>-0.474065</td>\n",
       "      <td>0.0</td>\n",
       "      <td>0.0</td>\n",
       "      <td>0.0</td>\n",
       "      <td>0.0</td>\n",
       "      <td>0.0</td>\n",
       "      <td>0.0</td>\n",
       "      <td>0.0</td>\n",
       "      <td>...</td>\n",
       "      <td>0.0</td>\n",
       "      <td>0.0</td>\n",
       "      <td>0.0</td>\n",
       "      <td>0.0</td>\n",
       "      <td>0.0</td>\n",
       "      <td>0.0</td>\n",
       "      <td>0.0</td>\n",
       "      <td>0.0</td>\n",
       "      <td>0.0</td>\n",
       "      <td>0.0</td>\n",
       "    </tr>\n",
       "    <tr>\n",
       "      <th>14739</th>\n",
       "      <td>0.159146</td>\n",
       "      <td>-0.751400</td>\n",
       "      <td>1.619155</td>\n",
       "      <td>0.0</td>\n",
       "      <td>0.0</td>\n",
       "      <td>0.0</td>\n",
       "      <td>0.0</td>\n",
       "      <td>0.0</td>\n",
       "      <td>0.0</td>\n",
       "      <td>0.0</td>\n",
       "      <td>...</td>\n",
       "      <td>0.0</td>\n",
       "      <td>0.0</td>\n",
       "      <td>0.0</td>\n",
       "      <td>0.0</td>\n",
       "      <td>0.0</td>\n",
       "      <td>0.0</td>\n",
       "      <td>0.0</td>\n",
       "      <td>0.0</td>\n",
       "      <td>0.0</td>\n",
       "      <td>0.0</td>\n",
       "    </tr>\n",
       "    <tr>\n",
       "      <th>...</th>\n",
       "      <td>...</td>\n",
       "      <td>...</td>\n",
       "      <td>...</td>\n",
       "      <td>...</td>\n",
       "      <td>...</td>\n",
       "      <td>...</td>\n",
       "      <td>...</td>\n",
       "      <td>...</td>\n",
       "      <td>...</td>\n",
       "      <td>...</td>\n",
       "      <td>...</td>\n",
       "      <td>...</td>\n",
       "      <td>...</td>\n",
       "      <td>...</td>\n",
       "      <td>...</td>\n",
       "      <td>...</td>\n",
       "      <td>...</td>\n",
       "      <td>...</td>\n",
       "      <td>...</td>\n",
       "      <td>...</td>\n",
       "      <td>...</td>\n",
       "    </tr>\n",
       "    <tr>\n",
       "      <th>14654</th>\n",
       "      <td>-0.486768</td>\n",
       "      <td>0.189731</td>\n",
       "      <td>0.625940</td>\n",
       "      <td>0.0</td>\n",
       "      <td>0.0</td>\n",
       "      <td>0.0</td>\n",
       "      <td>0.0</td>\n",
       "      <td>0.0</td>\n",
       "      <td>0.0</td>\n",
       "      <td>0.0</td>\n",
       "      <td>...</td>\n",
       "      <td>0.0</td>\n",
       "      <td>0.0</td>\n",
       "      <td>0.0</td>\n",
       "      <td>0.0</td>\n",
       "      <td>0.0</td>\n",
       "      <td>0.0</td>\n",
       "      <td>0.0</td>\n",
       "      <td>0.0</td>\n",
       "      <td>0.0</td>\n",
       "      <td>0.0</td>\n",
       "    </tr>\n",
       "    <tr>\n",
       "      <th>1605</th>\n",
       "      <td>0.020736</td>\n",
       "      <td>-0.590854</td>\n",
       "      <td>0.000000</td>\n",
       "      <td>0.0</td>\n",
       "      <td>0.0</td>\n",
       "      <td>0.0</td>\n",
       "      <td>0.0</td>\n",
       "      <td>0.0</td>\n",
       "      <td>0.0</td>\n",
       "      <td>0.0</td>\n",
       "      <td>...</td>\n",
       "      <td>0.0</td>\n",
       "      <td>0.0</td>\n",
       "      <td>0.0</td>\n",
       "      <td>0.0</td>\n",
       "      <td>0.0</td>\n",
       "      <td>0.0</td>\n",
       "      <td>0.0</td>\n",
       "      <td>0.0</td>\n",
       "      <td>0.0</td>\n",
       "      <td>0.0</td>\n",
       "    </tr>\n",
       "    <tr>\n",
       "      <th>26844</th>\n",
       "      <td>0.768150</td>\n",
       "      <td>-0.275298</td>\n",
       "      <td>0.451661</td>\n",
       "      <td>0.0</td>\n",
       "      <td>0.0</td>\n",
       "      <td>0.0</td>\n",
       "      <td>0.0</td>\n",
       "      <td>0.0</td>\n",
       "      <td>0.0</td>\n",
       "      <td>0.0</td>\n",
       "      <td>...</td>\n",
       "      <td>0.0</td>\n",
       "      <td>0.0</td>\n",
       "      <td>0.0</td>\n",
       "      <td>0.0</td>\n",
       "      <td>0.0</td>\n",
       "      <td>0.0</td>\n",
       "      <td>0.0</td>\n",
       "      <td>0.0</td>\n",
       "      <td>0.0</td>\n",
       "      <td>0.0</td>\n",
       "    </tr>\n",
       "    <tr>\n",
       "      <th>15791</th>\n",
       "      <td>-0.394495</td>\n",
       "      <td>-0.751400</td>\n",
       "      <td>0.000000</td>\n",
       "      <td>0.0</td>\n",
       "      <td>0.0</td>\n",
       "      <td>0.0</td>\n",
       "      <td>0.0</td>\n",
       "      <td>0.0</td>\n",
       "      <td>0.0</td>\n",
       "      <td>0.0</td>\n",
       "      <td>...</td>\n",
       "      <td>0.0</td>\n",
       "      <td>0.0</td>\n",
       "      <td>0.0</td>\n",
       "      <td>0.0</td>\n",
       "      <td>0.0</td>\n",
       "      <td>0.0</td>\n",
       "      <td>0.0</td>\n",
       "      <td>0.0</td>\n",
       "      <td>0.0</td>\n",
       "      <td>0.0</td>\n",
       "    </tr>\n",
       "    <tr>\n",
       "      <th>27775</th>\n",
       "      <td>-0.855862</td>\n",
       "      <td>-1.194286</td>\n",
       "      <td>-0.298150</td>\n",
       "      <td>0.0</td>\n",
       "      <td>0.0</td>\n",
       "      <td>0.0</td>\n",
       "      <td>0.0</td>\n",
       "      <td>0.0</td>\n",
       "      <td>0.0</td>\n",
       "      <td>0.0</td>\n",
       "      <td>...</td>\n",
       "      <td>0.0</td>\n",
       "      <td>0.0</td>\n",
       "      <td>0.0</td>\n",
       "      <td>0.0</td>\n",
       "      <td>0.0</td>\n",
       "      <td>0.0</td>\n",
       "      <td>0.0</td>\n",
       "      <td>0.0</td>\n",
       "      <td>0.0</td>\n",
       "      <td>0.0</td>\n",
       "    </tr>\n",
       "  </tbody>\n",
       "</table>\n",
       "<p>22296 rows × 5060 columns</p>\n",
       "</div>"
      ],
      "text/plain": [
       "       num_transformer__so2  num_transformer__no2  num_transformer__rainfall  \\\n",
       "14606              1.912340              1.440883                   0.765818   \n",
       "21850              1.266426             -0.031711                  -1.773321   \n",
       "23190             -0.855862             -0.917482                   0.426195   \n",
       "16552              1.912340             -0.529958                  -0.474065   \n",
       "14739              0.159146             -0.751400                   1.619155   \n",
       "...                     ...                   ...                        ...   \n",
       "14654             -0.486768              0.189731                   0.625940   \n",
       "1605               0.020736             -0.590854                   0.000000   \n",
       "26844              0.768150             -0.275298                   0.451661   \n",
       "15791             -0.394495             -0.751400                   0.000000   \n",
       "27775             -0.855862             -1.194286                  -0.298150   \n",
       "\n",
       "       cat_transformer__stn_code_1  cat_transformer__stn_code_10  \\\n",
       "14606                          0.0                           0.0   \n",
       "21850                          0.0                           0.0   \n",
       "23190                          0.0                           0.0   \n",
       "16552                          0.0                           0.0   \n",
       "14739                          0.0                           0.0   \n",
       "...                            ...                           ...   \n",
       "14654                          0.0                           0.0   \n",
       "1605                           0.0                           0.0   \n",
       "26844                          0.0                           0.0   \n",
       "15791                          0.0                           0.0   \n",
       "27775                          0.0                           0.0   \n",
       "\n",
       "       cat_transformer__stn_code_101  cat_transformer__stn_code_102  \\\n",
       "14606                            0.0                            0.0   \n",
       "21850                            0.0                            0.0   \n",
       "23190                            0.0                            0.0   \n",
       "16552                            0.0                            0.0   \n",
       "14739                            0.0                            0.0   \n",
       "...                              ...                            ...   \n",
       "14654                            0.0                            0.0   \n",
       "1605                             0.0                            0.0   \n",
       "26844                            0.0                            0.0   \n",
       "15791                            0.0                            0.0   \n",
       "27775                            0.0                            0.0   \n",
       "\n",
       "       cat_transformer__stn_code_103  cat_transformer__stn_code_106  \\\n",
       "14606                            0.0                            0.0   \n",
       "21850                            0.0                            0.0   \n",
       "23190                            0.0                            0.0   \n",
       "16552                            0.0                            0.0   \n",
       "14739                            0.0                            0.0   \n",
       "...                              ...                            ...   \n",
       "14654                            0.0                            0.0   \n",
       "1605                             0.0                            0.0   \n",
       "26844                            0.0                            0.0   \n",
       "15791                            0.0                            0.0   \n",
       "27775                            0.0                            0.0   \n",
       "\n",
       "       cat_transformer__stn_code_109  ...  cat_transformer__date_31/12/2005  \\\n",
       "14606                            0.0  ...                               0.0   \n",
       "21850                            0.0  ...                               0.0   \n",
       "23190                            0.0  ...                               0.0   \n",
       "16552                            0.0  ...                               0.0   \n",
       "14739                            0.0  ...                               0.0   \n",
       "...                              ...  ...                               ...   \n",
       "14654                            0.0  ...                               0.0   \n",
       "1605                             0.0  ...                               0.0   \n",
       "26844                            0.0  ...                               0.0   \n",
       "15791                            0.0  ...                               0.0   \n",
       "27775                            0.0  ...                               0.0   \n",
       "\n",
       "       cat_transformer__date_31/12/2007  cat_transformer__date_31/12/2008  \\\n",
       "14606                               0.0                               0.0   \n",
       "21850                               0.0                               0.0   \n",
       "23190                               0.0                               0.0   \n",
       "16552                               0.0                               0.0   \n",
       "14739                               0.0                               0.0   \n",
       "...                                 ...                               ...   \n",
       "14654                               0.0                               0.0   \n",
       "1605                                0.0                               0.0   \n",
       "26844                               0.0                               0.0   \n",
       "15791                               0.0                               0.0   \n",
       "27775                               0.0                               0.0   \n",
       "\n",
       "       cat_transformer__date_31/12/2009  cat_transformer__date_31/12/2010  \\\n",
       "14606                               0.0                               0.0   \n",
       "21850                               0.0                               0.0   \n",
       "23190                               0.0                               0.0   \n",
       "16552                               0.0                               0.0   \n",
       "14739                               0.0                               0.0   \n",
       "...                                 ...                               ...   \n",
       "14654                               0.0                               0.0   \n",
       "1605                                0.0                               0.0   \n",
       "26844                               0.0                               0.0   \n",
       "15791                               0.0                               0.0   \n",
       "27775                               0.0                               0.0   \n",
       "\n",
       "       cat_transformer__date_31/12/2011  cat_transformer__date_31/12/2012  \\\n",
       "14606                               0.0                               0.0   \n",
       "21850                               0.0                               0.0   \n",
       "23190                               0.0                               0.0   \n",
       "16552                               0.0                               0.0   \n",
       "14739                               0.0                               0.0   \n",
       "...                                 ...                               ...   \n",
       "14654                               0.0                               0.0   \n",
       "1605                                0.0                               0.0   \n",
       "26844                               0.0                               0.0   \n",
       "15791                               0.0                               0.0   \n",
       "27775                               0.0                               0.0   \n",
       "\n",
       "       cat_transformer__date_31/12/2013  cat_transformer__date_31/12/2014  \\\n",
       "14606                               0.0                               0.0   \n",
       "21850                               0.0                               0.0   \n",
       "23190                               0.0                               0.0   \n",
       "16552                               0.0                               0.0   \n",
       "14739                               0.0                               0.0   \n",
       "...                                 ...                               ...   \n",
       "14654                               0.0                               0.0   \n",
       "1605                                0.0                               0.0   \n",
       "26844                               0.0                               0.0   \n",
       "15791                               0.0                               0.0   \n",
       "27775                               0.0                               0.0   \n",
       "\n",
       "       cat_transformer__date_31/12/2015  \n",
       "14606                               0.0  \n",
       "21850                               0.0  \n",
       "23190                               0.0  \n",
       "16552                               0.0  \n",
       "14739                               0.0  \n",
       "...                                 ...  \n",
       "14654                               0.0  \n",
       "1605                                0.0  \n",
       "26844                               0.0  \n",
       "15791                               0.0  \n",
       "27775                               0.0  \n",
       "\n",
       "[22296 rows x 5060 columns]"
      ]
     },
     "execution_count": 23,
     "metadata": {},
     "output_type": "execute_result"
    }
   ],
   "source": [
    "preprocessor.fit_transform(X_train)"
   ]
  },
  {
   "cell_type": "markdown",
   "id": "d753f34d-a3cd-4d0f-a210-2d576c749f50",
   "metadata": {
    "editable": true,
    "slideshow": {
     "slide_type": "fragment"
    },
    "tags": []
   },
   "source": [
    "## Makes our life much easier!\n",
    "But there are limitations. This won't work if you need a sparse output. For this, simply use `transform_output = \"default\"`."
   ]
  },
  {
   "cell_type": "markdown",
   "id": "776cf64b",
   "metadata": {
    "editable": true,
    "slideshow": {
     "slide_type": "subslide"
    },
    "tags": []
   },
   "source": [
    "### Why did we get >5000 features?\n"
   ]
  },
  {
   "cell_type": "markdown",
   "id": "f7f6e5f9",
   "metadata": {
    "slideshow": {
     "slide_type": "fragment"
    }
   },
   "source": [
    "* We selected **ALL** non-numeric values for the OneHotEncoder"
   ]
  },
  {
   "cell_type": "markdown",
   "id": "811d74d4",
   "metadata": {
    "slideshow": {
     "slide_type": "fragment"
    }
   },
   "source": [
    "* This includes the date, station, location columns!"
   ]
  },
  {
   "cell_type": "markdown",
   "id": "3f35d50b",
   "metadata": {
    "slideshow": {
     "slide_type": "fragment"
    }
   },
   "source": [
    "* Each individual date, station and location become a feature column: this leads to an explosion of features. Let's fix this by selecting only the columns we want."
   ]
  },
  {
   "cell_type": "code",
   "execution_count": 25,
   "id": "89f40237",
   "metadata": {
    "slideshow": {
     "slide_type": "subslide"
    },
    "tags": []
   },
   "outputs": [
    {
     "data": {
      "text/html": [
       "<style>#sk-container-id-5 {color: black;}#sk-container-id-5 pre{padding: 0;}#sk-container-id-5 div.sk-toggleable {background-color: white;}#sk-container-id-5 label.sk-toggleable__label {cursor: pointer;display: block;width: 100%;margin-bottom: 0;padding: 0.3em;box-sizing: border-box;text-align: center;}#sk-container-id-5 label.sk-toggleable__label-arrow:before {content: \"▸\";float: left;margin-right: 0.25em;color: #696969;}#sk-container-id-5 label.sk-toggleable__label-arrow:hover:before {color: black;}#sk-container-id-5 div.sk-estimator:hover label.sk-toggleable__label-arrow:before {color: black;}#sk-container-id-5 div.sk-toggleable__content {max-height: 0;max-width: 0;overflow: hidden;text-align: left;background-color: #f0f8ff;}#sk-container-id-5 div.sk-toggleable__content pre {margin: 0.2em;color: black;border-radius: 0.25em;background-color: #f0f8ff;}#sk-container-id-5 input.sk-toggleable__control:checked~div.sk-toggleable__content {max-height: 200px;max-width: 100%;overflow: auto;}#sk-container-id-5 input.sk-toggleable__control:checked~label.sk-toggleable__label-arrow:before {content: \"▾\";}#sk-container-id-5 div.sk-estimator input.sk-toggleable__control:checked~label.sk-toggleable__label {background-color: #d4ebff;}#sk-container-id-5 div.sk-label input.sk-toggleable__control:checked~label.sk-toggleable__label {background-color: #d4ebff;}#sk-container-id-5 input.sk-hidden--visually {border: 0;clip: rect(1px 1px 1px 1px);clip: rect(1px, 1px, 1px, 1px);height: 1px;margin: -1px;overflow: hidden;padding: 0;position: absolute;width: 1px;}#sk-container-id-5 div.sk-estimator {font-family: monospace;background-color: #f0f8ff;border: 1px dotted black;border-radius: 0.25em;box-sizing: border-box;margin-bottom: 0.5em;}#sk-container-id-5 div.sk-estimator:hover {background-color: #d4ebff;}#sk-container-id-5 div.sk-parallel-item::after {content: \"\";width: 100%;border-bottom: 1px solid gray;flex-grow: 1;}#sk-container-id-5 div.sk-label:hover label.sk-toggleable__label {background-color: #d4ebff;}#sk-container-id-5 div.sk-serial::before {content: \"\";position: absolute;border-left: 1px solid gray;box-sizing: border-box;top: 0;bottom: 0;left: 50%;z-index: 0;}#sk-container-id-5 div.sk-serial {display: flex;flex-direction: column;align-items: center;background-color: white;padding-right: 0.2em;padding-left: 0.2em;position: relative;}#sk-container-id-5 div.sk-item {position: relative;z-index: 1;}#sk-container-id-5 div.sk-parallel {display: flex;align-items: stretch;justify-content: center;background-color: white;position: relative;}#sk-container-id-5 div.sk-item::before, #sk-container-id-5 div.sk-parallel-item::before {content: \"\";position: absolute;border-left: 1px solid gray;box-sizing: border-box;top: 0;bottom: 0;left: 50%;z-index: -1;}#sk-container-id-5 div.sk-parallel-item {display: flex;flex-direction: column;z-index: 1;position: relative;background-color: white;}#sk-container-id-5 div.sk-parallel-item:first-child::after {align-self: flex-end;width: 50%;}#sk-container-id-5 div.sk-parallel-item:last-child::after {align-self: flex-start;width: 50%;}#sk-container-id-5 div.sk-parallel-item:only-child::after {width: 0;}#sk-container-id-5 div.sk-dashed-wrapped {border: 1px dashed gray;margin: 0 0.4em 0.5em 0.4em;box-sizing: border-box;padding-bottom: 0.4em;background-color: white;}#sk-container-id-5 div.sk-label label {font-family: monospace;font-weight: bold;display: inline-block;line-height: 1.2em;}#sk-container-id-5 div.sk-label-container {text-align: center;}#sk-container-id-5 div.sk-container {/* jupyter's `normalize.less` sets `[hidden] { display: none; }` but bootstrap.min.css set `[hidden] { display: none !important; }` so we also need the `!important` here to be able to override the default hidden behavior on the sphinx rendered scikit-learn.org. See: https://github.com/scikit-learn/scikit-learn/issues/21755 */display: inline-block !important;position: relative;}#sk-container-id-5 div.sk-text-repr-fallback {display: none;}</style><div id=\"sk-container-id-5\" class=\"sk-top-container\"><div class=\"sk-text-repr-fallback\"><pre>ColumnTransformer(transformers=[(&#x27;num_transformer&#x27;,\n",
       "                                 Pipeline(steps=[(&#x27;num_imputer&#x27;,\n",
       "                                                  SimpleImputer()),\n",
       "                                                 (&#x27;num_scaler&#x27;,\n",
       "                                                  StandardScaler())]),\n",
       "                                 Index([&#x27;so2&#x27;, &#x27;no2&#x27;, &#x27;rainfall&#x27;], dtype=&#x27;object&#x27;)),\n",
       "                                (&#x27;cat_transformer&#x27;,\n",
       "                                 Pipeline(steps=[(&#x27;cat_imputer&#x27;,\n",
       "                                                  SimpleImputer(strategy=&#x27;most_frequent&#x27;)),\n",
       "                                                 (&#x27;cat_encoder&#x27;,\n",
       "                                                  OneHotEncoder(handle_unknown=&#x27;ignore&#x27;,\n",
       "                                                                sparse_output=False))]),\n",
       "                                 [&#x27;state&#x27;, &#x27;type&#x27;])])</pre><b>In a Jupyter environment, please rerun this cell to show the HTML representation or trust the notebook. <br />On GitHub, the HTML representation is unable to render, please try loading this page with nbviewer.org.</b></div><div class=\"sk-container\" hidden><div class=\"sk-item sk-dashed-wrapped\"><div class=\"sk-label-container\"><div class=\"sk-label sk-toggleable\"><input class=\"sk-toggleable__control sk-hidden--visually\" id=\"sk-estimator-id-18\" type=\"checkbox\" ><label for=\"sk-estimator-id-18\" class=\"sk-toggleable__label sk-toggleable__label-arrow\">ColumnTransformer</label><div class=\"sk-toggleable__content\"><pre>ColumnTransformer(transformers=[(&#x27;num_transformer&#x27;,\n",
       "                                 Pipeline(steps=[(&#x27;num_imputer&#x27;,\n",
       "                                                  SimpleImputer()),\n",
       "                                                 (&#x27;num_scaler&#x27;,\n",
       "                                                  StandardScaler())]),\n",
       "                                 Index([&#x27;so2&#x27;, &#x27;no2&#x27;, &#x27;rainfall&#x27;], dtype=&#x27;object&#x27;)),\n",
       "                                (&#x27;cat_transformer&#x27;,\n",
       "                                 Pipeline(steps=[(&#x27;cat_imputer&#x27;,\n",
       "                                                  SimpleImputer(strategy=&#x27;most_frequent&#x27;)),\n",
       "                                                 (&#x27;cat_encoder&#x27;,\n",
       "                                                  OneHotEncoder(handle_unknown=&#x27;ignore&#x27;,\n",
       "                                                                sparse_output=False))]),\n",
       "                                 [&#x27;state&#x27;, &#x27;type&#x27;])])</pre></div></div></div><div class=\"sk-parallel\"><div class=\"sk-parallel-item\"><div class=\"sk-item\"><div class=\"sk-label-container\"><div class=\"sk-label sk-toggleable\"><input class=\"sk-toggleable__control sk-hidden--visually\" id=\"sk-estimator-id-19\" type=\"checkbox\" ><label for=\"sk-estimator-id-19\" class=\"sk-toggleable__label sk-toggleable__label-arrow\">num_transformer</label><div class=\"sk-toggleable__content\"><pre>Index([&#x27;so2&#x27;, &#x27;no2&#x27;, &#x27;rainfall&#x27;], dtype=&#x27;object&#x27;)</pre></div></div></div><div class=\"sk-serial\"><div class=\"sk-item\"><div class=\"sk-serial\"><div class=\"sk-item\"><div class=\"sk-estimator sk-toggleable\"><input class=\"sk-toggleable__control sk-hidden--visually\" id=\"sk-estimator-id-20\" type=\"checkbox\" ><label for=\"sk-estimator-id-20\" class=\"sk-toggleable__label sk-toggleable__label-arrow\">SimpleImputer</label><div class=\"sk-toggleable__content\"><pre>SimpleImputer()</pre></div></div></div><div class=\"sk-item\"><div class=\"sk-estimator sk-toggleable\"><input class=\"sk-toggleable__control sk-hidden--visually\" id=\"sk-estimator-id-21\" type=\"checkbox\" ><label for=\"sk-estimator-id-21\" class=\"sk-toggleable__label sk-toggleable__label-arrow\">StandardScaler</label><div class=\"sk-toggleable__content\"><pre>StandardScaler()</pre></div></div></div></div></div></div></div></div><div class=\"sk-parallel-item\"><div class=\"sk-item\"><div class=\"sk-label-container\"><div class=\"sk-label sk-toggleable\"><input class=\"sk-toggleable__control sk-hidden--visually\" id=\"sk-estimator-id-22\" type=\"checkbox\" ><label for=\"sk-estimator-id-22\" class=\"sk-toggleable__label sk-toggleable__label-arrow\">cat_transformer</label><div class=\"sk-toggleable__content\"><pre>[&#x27;state&#x27;, &#x27;type&#x27;]</pre></div></div></div><div class=\"sk-serial\"><div class=\"sk-item\"><div class=\"sk-serial\"><div class=\"sk-item\"><div class=\"sk-estimator sk-toggleable\"><input class=\"sk-toggleable__control sk-hidden--visually\" id=\"sk-estimator-id-23\" type=\"checkbox\" ><label for=\"sk-estimator-id-23\" class=\"sk-toggleable__label sk-toggleable__label-arrow\">SimpleImputer</label><div class=\"sk-toggleable__content\"><pre>SimpleImputer(strategy=&#x27;most_frequent&#x27;)</pre></div></div></div><div class=\"sk-item\"><div class=\"sk-estimator sk-toggleable\"><input class=\"sk-toggleable__control sk-hidden--visually\" id=\"sk-estimator-id-24\" type=\"checkbox\" ><label for=\"sk-estimator-id-24\" class=\"sk-toggleable__label sk-toggleable__label-arrow\">OneHotEncoder</label><div class=\"sk-toggleable__content\"><pre>OneHotEncoder(handle_unknown=&#x27;ignore&#x27;, sparse_output=False)</pre></div></div></div></div></div></div></div></div></div></div></div></div>"
      ],
      "text/plain": [
       "ColumnTransformer(transformers=[('num_transformer',\n",
       "                                 Pipeline(steps=[('num_imputer',\n",
       "                                                  SimpleImputer()),\n",
       "                                                 ('num_scaler',\n",
       "                                                  StandardScaler())]),\n",
       "                                 Index(['so2', 'no2', 'rainfall'], dtype='object')),\n",
       "                                ('cat_transformer',\n",
       "                                 Pipeline(steps=[('cat_imputer',\n",
       "                                                  SimpleImputer(strategy='most_frequent')),\n",
       "                                                 ('cat_encoder',\n",
       "                                                  OneHotEncoder(handle_unknown='ignore',\n",
       "                                                                sparse_output=False))]),\n",
       "                                 ['state', 'type'])])"
      ]
     },
     "execution_count": 25,
     "metadata": {},
     "output_type": "execute_result"
    }
   ],
   "source": [
    "# Paralellize \"num_transformer\" and \"cat_transformer\"\n",
    "preprocessor = ColumnTransformer([\n",
    "    ('num_transformer', num_transformer, X_train.select_dtypes(include=np.number).columns),\n",
    "    ('cat_transformer', cat_transformer, ['state', 'type'])\n",
    "])\n",
    "\n",
    "preprocessor"
   ]
  },
  {
   "cell_type": "code",
   "execution_count": 26,
   "id": "6e6b2b04-c060-404c-8024-155d6202f6ba",
   "metadata": {
    "editable": true,
    "slideshow": {
     "slide_type": "subslide"
    },
    "tags": []
   },
   "outputs": [
    {
     "data": {
      "text/html": [
       "<div>\n",
       "<style scoped>\n",
       "    .dataframe tbody tr th:only-of-type {\n",
       "        vertical-align: middle;\n",
       "    }\n",
       "\n",
       "    .dataframe tbody tr th {\n",
       "        vertical-align: top;\n",
       "    }\n",
       "\n",
       "    .dataframe thead th {\n",
       "        text-align: right;\n",
       "    }\n",
       "</style>\n",
       "<table border=\"1\" class=\"dataframe\">\n",
       "  <thead>\n",
       "    <tr style=\"text-align: right;\">\n",
       "      <th></th>\n",
       "      <th>num_transformer__so2</th>\n",
       "      <th>num_transformer__no2</th>\n",
       "      <th>num_transformer__rainfall</th>\n",
       "      <th>cat_transformer__state_Andhra Pradesh</th>\n",
       "      <th>cat_transformer__state_Arunachal Pradesh</th>\n",
       "      <th>cat_transformer__state_Assam</th>\n",
       "      <th>cat_transformer__state_Bihar</th>\n",
       "      <th>cat_transformer__state_Chandigarh</th>\n",
       "      <th>cat_transformer__state_Chhattisgarh</th>\n",
       "      <th>cat_transformer__state_Dadra &amp; Nagar Haveli</th>\n",
       "      <th>...</th>\n",
       "      <th>cat_transformer__state_Tamil Nadu</th>\n",
       "      <th>cat_transformer__state_Telangana</th>\n",
       "      <th>cat_transformer__state_Uttar Pradesh</th>\n",
       "      <th>cat_transformer__state_Uttarakhand</th>\n",
       "      <th>cat_transformer__state_Uttaranchal</th>\n",
       "      <th>cat_transformer__state_West Bengal</th>\n",
       "      <th>cat_transformer__type_Industrial</th>\n",
       "      <th>cat_transformer__type_Others</th>\n",
       "      <th>cat_transformer__type_Residential</th>\n",
       "      <th>cat_transformer__type_Sensitive</th>\n",
       "    </tr>\n",
       "  </thead>\n",
       "  <tbody>\n",
       "    <tr>\n",
       "      <th>14606</th>\n",
       "      <td>1.912340</td>\n",
       "      <td>1.440883</td>\n",
       "      <td>0.765818</td>\n",
       "      <td>0.0</td>\n",
       "      <td>0.0</td>\n",
       "      <td>0.0</td>\n",
       "      <td>0.0</td>\n",
       "      <td>0.0</td>\n",
       "      <td>0.0</td>\n",
       "      <td>0.0</td>\n",
       "      <td>...</td>\n",
       "      <td>0.0</td>\n",
       "      <td>0.0</td>\n",
       "      <td>0.0</td>\n",
       "      <td>0.0</td>\n",
       "      <td>0.0</td>\n",
       "      <td>0.0</td>\n",
       "      <td>0.0</td>\n",
       "      <td>1.0</td>\n",
       "      <td>0.0</td>\n",
       "      <td>0.0</td>\n",
       "    </tr>\n",
       "    <tr>\n",
       "      <th>21850</th>\n",
       "      <td>1.266426</td>\n",
       "      <td>-0.031711</td>\n",
       "      <td>-1.773321</td>\n",
       "      <td>0.0</td>\n",
       "      <td>0.0</td>\n",
       "      <td>0.0</td>\n",
       "      <td>0.0</td>\n",
       "      <td>0.0</td>\n",
       "      <td>0.0</td>\n",
       "      <td>0.0</td>\n",
       "      <td>...</td>\n",
       "      <td>0.0</td>\n",
       "      <td>0.0</td>\n",
       "      <td>0.0</td>\n",
       "      <td>0.0</td>\n",
       "      <td>0.0</td>\n",
       "      <td>0.0</td>\n",
       "      <td>0.0</td>\n",
       "      <td>0.0</td>\n",
       "      <td>1.0</td>\n",
       "      <td>0.0</td>\n",
       "    </tr>\n",
       "    <tr>\n",
       "      <th>23190</th>\n",
       "      <td>-0.855862</td>\n",
       "      <td>-0.917482</td>\n",
       "      <td>0.426195</td>\n",
       "      <td>1.0</td>\n",
       "      <td>0.0</td>\n",
       "      <td>0.0</td>\n",
       "      <td>0.0</td>\n",
       "      <td>0.0</td>\n",
       "      <td>0.0</td>\n",
       "      <td>0.0</td>\n",
       "      <td>...</td>\n",
       "      <td>0.0</td>\n",
       "      <td>0.0</td>\n",
       "      <td>0.0</td>\n",
       "      <td>0.0</td>\n",
       "      <td>0.0</td>\n",
       "      <td>0.0</td>\n",
       "      <td>0.0</td>\n",
       "      <td>0.0</td>\n",
       "      <td>1.0</td>\n",
       "      <td>0.0</td>\n",
       "    </tr>\n",
       "    <tr>\n",
       "      <th>16552</th>\n",
       "      <td>1.912340</td>\n",
       "      <td>-0.529958</td>\n",
       "      <td>-0.474065</td>\n",
       "      <td>0.0</td>\n",
       "      <td>0.0</td>\n",
       "      <td>0.0</td>\n",
       "      <td>0.0</td>\n",
       "      <td>0.0</td>\n",
       "      <td>0.0</td>\n",
       "      <td>0.0</td>\n",
       "      <td>...</td>\n",
       "      <td>0.0</td>\n",
       "      <td>0.0</td>\n",
       "      <td>0.0</td>\n",
       "      <td>0.0</td>\n",
       "      <td>0.0</td>\n",
       "      <td>0.0</td>\n",
       "      <td>1.0</td>\n",
       "      <td>0.0</td>\n",
       "      <td>0.0</td>\n",
       "      <td>0.0</td>\n",
       "    </tr>\n",
       "    <tr>\n",
       "      <th>14739</th>\n",
       "      <td>0.159146</td>\n",
       "      <td>-0.751400</td>\n",
       "      <td>1.619155</td>\n",
       "      <td>0.0</td>\n",
       "      <td>0.0</td>\n",
       "      <td>0.0</td>\n",
       "      <td>0.0</td>\n",
       "      <td>0.0</td>\n",
       "      <td>0.0</td>\n",
       "      <td>0.0</td>\n",
       "      <td>...</td>\n",
       "      <td>1.0</td>\n",
       "      <td>0.0</td>\n",
       "      <td>0.0</td>\n",
       "      <td>0.0</td>\n",
       "      <td>0.0</td>\n",
       "      <td>0.0</td>\n",
       "      <td>1.0</td>\n",
       "      <td>0.0</td>\n",
       "      <td>0.0</td>\n",
       "      <td>0.0</td>\n",
       "    </tr>\n",
       "    <tr>\n",
       "      <th>...</th>\n",
       "      <td>...</td>\n",
       "      <td>...</td>\n",
       "      <td>...</td>\n",
       "      <td>...</td>\n",
       "      <td>...</td>\n",
       "      <td>...</td>\n",
       "      <td>...</td>\n",
       "      <td>...</td>\n",
       "      <td>...</td>\n",
       "      <td>...</td>\n",
       "      <td>...</td>\n",
       "      <td>...</td>\n",
       "      <td>...</td>\n",
       "      <td>...</td>\n",
       "      <td>...</td>\n",
       "      <td>...</td>\n",
       "      <td>...</td>\n",
       "      <td>...</td>\n",
       "      <td>...</td>\n",
       "      <td>...</td>\n",
       "      <td>...</td>\n",
       "    </tr>\n",
       "    <tr>\n",
       "      <th>14654</th>\n",
       "      <td>-0.486768</td>\n",
       "      <td>0.189731</td>\n",
       "      <td>0.625940</td>\n",
       "      <td>0.0</td>\n",
       "      <td>0.0</td>\n",
       "      <td>0.0</td>\n",
       "      <td>0.0</td>\n",
       "      <td>0.0</td>\n",
       "      <td>0.0</td>\n",
       "      <td>0.0</td>\n",
       "      <td>...</td>\n",
       "      <td>0.0</td>\n",
       "      <td>0.0</td>\n",
       "      <td>0.0</td>\n",
       "      <td>0.0</td>\n",
       "      <td>0.0</td>\n",
       "      <td>0.0</td>\n",
       "      <td>0.0</td>\n",
       "      <td>0.0</td>\n",
       "      <td>1.0</td>\n",
       "      <td>0.0</td>\n",
       "    </tr>\n",
       "    <tr>\n",
       "      <th>1605</th>\n",
       "      <td>0.020736</td>\n",
       "      <td>-0.590854</td>\n",
       "      <td>0.000000</td>\n",
       "      <td>0.0</td>\n",
       "      <td>0.0</td>\n",
       "      <td>0.0</td>\n",
       "      <td>0.0</td>\n",
       "      <td>0.0</td>\n",
       "      <td>0.0</td>\n",
       "      <td>0.0</td>\n",
       "      <td>...</td>\n",
       "      <td>0.0</td>\n",
       "      <td>0.0</td>\n",
       "      <td>0.0</td>\n",
       "      <td>0.0</td>\n",
       "      <td>0.0</td>\n",
       "      <td>0.0</td>\n",
       "      <td>1.0</td>\n",
       "      <td>0.0</td>\n",
       "      <td>0.0</td>\n",
       "      <td>0.0</td>\n",
       "    </tr>\n",
       "    <tr>\n",
       "      <th>26844</th>\n",
       "      <td>0.768150</td>\n",
       "      <td>-0.275298</td>\n",
       "      <td>0.451661</td>\n",
       "      <td>0.0</td>\n",
       "      <td>0.0</td>\n",
       "      <td>0.0</td>\n",
       "      <td>0.0</td>\n",
       "      <td>0.0</td>\n",
       "      <td>0.0</td>\n",
       "      <td>0.0</td>\n",
       "      <td>...</td>\n",
       "      <td>1.0</td>\n",
       "      <td>0.0</td>\n",
       "      <td>0.0</td>\n",
       "      <td>0.0</td>\n",
       "      <td>0.0</td>\n",
       "      <td>0.0</td>\n",
       "      <td>1.0</td>\n",
       "      <td>0.0</td>\n",
       "      <td>0.0</td>\n",
       "      <td>0.0</td>\n",
       "    </tr>\n",
       "    <tr>\n",
       "      <th>15791</th>\n",
       "      <td>-0.394495</td>\n",
       "      <td>-0.751400</td>\n",
       "      <td>0.000000</td>\n",
       "      <td>0.0</td>\n",
       "      <td>0.0</td>\n",
       "      <td>1.0</td>\n",
       "      <td>0.0</td>\n",
       "      <td>0.0</td>\n",
       "      <td>0.0</td>\n",
       "      <td>0.0</td>\n",
       "      <td>...</td>\n",
       "      <td>0.0</td>\n",
       "      <td>0.0</td>\n",
       "      <td>0.0</td>\n",
       "      <td>0.0</td>\n",
       "      <td>0.0</td>\n",
       "      <td>0.0</td>\n",
       "      <td>0.0</td>\n",
       "      <td>0.0</td>\n",
       "      <td>1.0</td>\n",
       "      <td>0.0</td>\n",
       "    </tr>\n",
       "    <tr>\n",
       "      <th>27775</th>\n",
       "      <td>-0.855862</td>\n",
       "      <td>-1.194286</td>\n",
       "      <td>-0.298150</td>\n",
       "      <td>0.0</td>\n",
       "      <td>0.0</td>\n",
       "      <td>0.0</td>\n",
       "      <td>0.0</td>\n",
       "      <td>0.0</td>\n",
       "      <td>0.0</td>\n",
       "      <td>0.0</td>\n",
       "      <td>...</td>\n",
       "      <td>0.0</td>\n",
       "      <td>0.0</td>\n",
       "      <td>0.0</td>\n",
       "      <td>0.0</td>\n",
       "      <td>0.0</td>\n",
       "      <td>0.0</td>\n",
       "      <td>0.0</td>\n",
       "      <td>0.0</td>\n",
       "      <td>1.0</td>\n",
       "      <td>0.0</td>\n",
       "    </tr>\n",
       "  </tbody>\n",
       "</table>\n",
       "<p>22296 rows × 40 columns</p>\n",
       "</div>"
      ],
      "text/plain": [
       "       num_transformer__so2  num_transformer__no2  num_transformer__rainfall  \\\n",
       "14606              1.912340              1.440883                   0.765818   \n",
       "21850              1.266426             -0.031711                  -1.773321   \n",
       "23190             -0.855862             -0.917482                   0.426195   \n",
       "16552              1.912340             -0.529958                  -0.474065   \n",
       "14739              0.159146             -0.751400                   1.619155   \n",
       "...                     ...                   ...                        ...   \n",
       "14654             -0.486768              0.189731                   0.625940   \n",
       "1605               0.020736             -0.590854                   0.000000   \n",
       "26844              0.768150             -0.275298                   0.451661   \n",
       "15791             -0.394495             -0.751400                   0.000000   \n",
       "27775             -0.855862             -1.194286                  -0.298150   \n",
       "\n",
       "       cat_transformer__state_Andhra Pradesh  \\\n",
       "14606                                    0.0   \n",
       "21850                                    0.0   \n",
       "23190                                    1.0   \n",
       "16552                                    0.0   \n",
       "14739                                    0.0   \n",
       "...                                      ...   \n",
       "14654                                    0.0   \n",
       "1605                                     0.0   \n",
       "26844                                    0.0   \n",
       "15791                                    0.0   \n",
       "27775                                    0.0   \n",
       "\n",
       "       cat_transformer__state_Arunachal Pradesh  cat_transformer__state_Assam  \\\n",
       "14606                                       0.0                           0.0   \n",
       "21850                                       0.0                           0.0   \n",
       "23190                                       0.0                           0.0   \n",
       "16552                                       0.0                           0.0   \n",
       "14739                                       0.0                           0.0   \n",
       "...                                         ...                           ...   \n",
       "14654                                       0.0                           0.0   \n",
       "1605                                        0.0                           0.0   \n",
       "26844                                       0.0                           0.0   \n",
       "15791                                       0.0                           1.0   \n",
       "27775                                       0.0                           0.0   \n",
       "\n",
       "       cat_transformer__state_Bihar  cat_transformer__state_Chandigarh  \\\n",
       "14606                           0.0                                0.0   \n",
       "21850                           0.0                                0.0   \n",
       "23190                           0.0                                0.0   \n",
       "16552                           0.0                                0.0   \n",
       "14739                           0.0                                0.0   \n",
       "...                             ...                                ...   \n",
       "14654                           0.0                                0.0   \n",
       "1605                            0.0                                0.0   \n",
       "26844                           0.0                                0.0   \n",
       "15791                           0.0                                0.0   \n",
       "27775                           0.0                                0.0   \n",
       "\n",
       "       cat_transformer__state_Chhattisgarh  \\\n",
       "14606                                  0.0   \n",
       "21850                                  0.0   \n",
       "23190                                  0.0   \n",
       "16552                                  0.0   \n",
       "14739                                  0.0   \n",
       "...                                    ...   \n",
       "14654                                  0.0   \n",
       "1605                                   0.0   \n",
       "26844                                  0.0   \n",
       "15791                                  0.0   \n",
       "27775                                  0.0   \n",
       "\n",
       "       cat_transformer__state_Dadra & Nagar Haveli  ...  \\\n",
       "14606                                          0.0  ...   \n",
       "21850                                          0.0  ...   \n",
       "23190                                          0.0  ...   \n",
       "16552                                          0.0  ...   \n",
       "14739                                          0.0  ...   \n",
       "...                                            ...  ...   \n",
       "14654                                          0.0  ...   \n",
       "1605                                           0.0  ...   \n",
       "26844                                          0.0  ...   \n",
       "15791                                          0.0  ...   \n",
       "27775                                          0.0  ...   \n",
       "\n",
       "       cat_transformer__state_Tamil Nadu  cat_transformer__state_Telangana  \\\n",
       "14606                                0.0                               0.0   \n",
       "21850                                0.0                               0.0   \n",
       "23190                                0.0                               0.0   \n",
       "16552                                0.0                               0.0   \n",
       "14739                                1.0                               0.0   \n",
       "...                                  ...                               ...   \n",
       "14654                                0.0                               0.0   \n",
       "1605                                 0.0                               0.0   \n",
       "26844                                1.0                               0.0   \n",
       "15791                                0.0                               0.0   \n",
       "27775                                0.0                               0.0   \n",
       "\n",
       "       cat_transformer__state_Uttar Pradesh  \\\n",
       "14606                                   0.0   \n",
       "21850                                   0.0   \n",
       "23190                                   0.0   \n",
       "16552                                   0.0   \n",
       "14739                                   0.0   \n",
       "...                                     ...   \n",
       "14654                                   0.0   \n",
       "1605                                    0.0   \n",
       "26844                                   0.0   \n",
       "15791                                   0.0   \n",
       "27775                                   0.0   \n",
       "\n",
       "       cat_transformer__state_Uttarakhand  cat_transformer__state_Uttaranchal  \\\n",
       "14606                                 0.0                                 0.0   \n",
       "21850                                 0.0                                 0.0   \n",
       "23190                                 0.0                                 0.0   \n",
       "16552                                 0.0                                 0.0   \n",
       "14739                                 0.0                                 0.0   \n",
       "...                                   ...                                 ...   \n",
       "14654                                 0.0                                 0.0   \n",
       "1605                                  0.0                                 0.0   \n",
       "26844                                 0.0                                 0.0   \n",
       "15791                                 0.0                                 0.0   \n",
       "27775                                 0.0                                 0.0   \n",
       "\n",
       "       cat_transformer__state_West Bengal  cat_transformer__type_Industrial  \\\n",
       "14606                                 0.0                               0.0   \n",
       "21850                                 0.0                               0.0   \n",
       "23190                                 0.0                               0.0   \n",
       "16552                                 0.0                               1.0   \n",
       "14739                                 0.0                               1.0   \n",
       "...                                   ...                               ...   \n",
       "14654                                 0.0                               0.0   \n",
       "1605                                  0.0                               1.0   \n",
       "26844                                 0.0                               1.0   \n",
       "15791                                 0.0                               0.0   \n",
       "27775                                 0.0                               0.0   \n",
       "\n",
       "       cat_transformer__type_Others  cat_transformer__type_Residential  \\\n",
       "14606                           1.0                                0.0   \n",
       "21850                           0.0                                1.0   \n",
       "23190                           0.0                                1.0   \n",
       "16552                           0.0                                0.0   \n",
       "14739                           0.0                                0.0   \n",
       "...                             ...                                ...   \n",
       "14654                           0.0                                1.0   \n",
       "1605                            0.0                                0.0   \n",
       "26844                           0.0                                0.0   \n",
       "15791                           0.0                                1.0   \n",
       "27775                           0.0                                1.0   \n",
       "\n",
       "       cat_transformer__type_Sensitive  \n",
       "14606                              0.0  \n",
       "21850                              0.0  \n",
       "23190                              0.0  \n",
       "16552                              0.0  \n",
       "14739                              0.0  \n",
       "...                                ...  \n",
       "14654                              0.0  \n",
       "1605                               0.0  \n",
       "26844                              0.0  \n",
       "15791                              0.0  \n",
       "27775                              0.0  \n",
       "\n",
       "[22296 rows x 40 columns]"
      ]
     },
     "execution_count": 26,
     "metadata": {},
     "output_type": "execute_result"
    }
   ],
   "source": [
    "preprocessor.fit_transform(X_train)"
   ]
  },
  {
   "cell_type": "code",
   "execution_count": 27,
   "id": "98150167",
   "metadata": {
    "editable": true,
    "scrolled": true,
    "slideshow": {
     "slide_type": "subslide"
    },
    "tags": []
   },
   "outputs": [
    {
     "data": {
      "text/html": [
       "<div>\n",
       "<style scoped>\n",
       "    .dataframe tbody tr th:only-of-type {\n",
       "        vertical-align: middle;\n",
       "    }\n",
       "\n",
       "    .dataframe tbody tr th {\n",
       "        vertical-align: top;\n",
       "    }\n",
       "\n",
       "    .dataframe thead th {\n",
       "        text-align: right;\n",
       "    }\n",
       "</style>\n",
       "<table border=\"1\" class=\"dataframe\">\n",
       "  <thead>\n",
       "    <tr style=\"text-align: right;\">\n",
       "      <th></th>\n",
       "      <th>num_transformer__so2</th>\n",
       "      <th>num_transformer__no2</th>\n",
       "      <th>num_transformer__rainfall</th>\n",
       "      <th>cat_transformer__state_Andhra Pradesh</th>\n",
       "      <th>cat_transformer__state_Arunachal Pradesh</th>\n",
       "      <th>cat_transformer__state_Assam</th>\n",
       "      <th>cat_transformer__state_Bihar</th>\n",
       "      <th>cat_transformer__state_Chandigarh</th>\n",
       "      <th>cat_transformer__state_Chhattisgarh</th>\n",
       "      <th>cat_transformer__state_Dadra &amp; Nagar Haveli</th>\n",
       "      <th>...</th>\n",
       "      <th>cat_transformer__state_Tamil Nadu</th>\n",
       "      <th>cat_transformer__state_Telangana</th>\n",
       "      <th>cat_transformer__state_Uttar Pradesh</th>\n",
       "      <th>cat_transformer__state_Uttarakhand</th>\n",
       "      <th>cat_transformer__state_Uttaranchal</th>\n",
       "      <th>cat_transformer__state_West Bengal</th>\n",
       "      <th>cat_transformer__type_Industrial</th>\n",
       "      <th>cat_transformer__type_Others</th>\n",
       "      <th>cat_transformer__type_Residential</th>\n",
       "      <th>cat_transformer__type_Sensitive</th>\n",
       "    </tr>\n",
       "  </thead>\n",
       "  <tbody>\n",
       "    <tr>\n",
       "      <th>12002</th>\n",
       "      <td>-8.558618e-01</td>\n",
       "      <td>-0.529958</td>\n",
       "      <td>0.372909</td>\n",
       "      <td>0.0</td>\n",
       "      <td>0.0</td>\n",
       "      <td>0.0</td>\n",
       "      <td>0.0</td>\n",
       "      <td>0.0</td>\n",
       "      <td>0.0</td>\n",
       "      <td>0.0</td>\n",
       "      <td>...</td>\n",
       "      <td>0.0</td>\n",
       "      <td>0.0</td>\n",
       "      <td>0.0</td>\n",
       "      <td>0.0</td>\n",
       "      <td>0.0</td>\n",
       "      <td>0.0</td>\n",
       "      <td>0.0</td>\n",
       "      <td>0.0</td>\n",
       "      <td>1.0</td>\n",
       "      <td>0.0</td>\n",
       "    </tr>\n",
       "    <tr>\n",
       "      <th>4305</th>\n",
       "      <td>-6.805423e-01</td>\n",
       "      <td>-0.601927</td>\n",
       "      <td>-0.875823</td>\n",
       "      <td>0.0</td>\n",
       "      <td>0.0</td>\n",
       "      <td>0.0</td>\n",
       "      <td>0.0</td>\n",
       "      <td>0.0</td>\n",
       "      <td>0.0</td>\n",
       "      <td>0.0</td>\n",
       "      <td>...</td>\n",
       "      <td>0.0</td>\n",
       "      <td>0.0</td>\n",
       "      <td>0.0</td>\n",
       "      <td>0.0</td>\n",
       "      <td>0.0</td>\n",
       "      <td>0.0</td>\n",
       "      <td>0.0</td>\n",
       "      <td>1.0</td>\n",
       "      <td>0.0</td>\n",
       "      <td>0.0</td>\n",
       "    </tr>\n",
       "    <tr>\n",
       "      <th>9394</th>\n",
       "      <td>-2.099480e-01</td>\n",
       "      <td>0.189731</td>\n",
       "      <td>-0.283205</td>\n",
       "      <td>0.0</td>\n",
       "      <td>0.0</td>\n",
       "      <td>0.0</td>\n",
       "      <td>0.0</td>\n",
       "      <td>0.0</td>\n",
       "      <td>0.0</td>\n",
       "      <td>0.0</td>\n",
       "      <td>...</td>\n",
       "      <td>0.0</td>\n",
       "      <td>0.0</td>\n",
       "      <td>0.0</td>\n",
       "      <td>0.0</td>\n",
       "      <td>0.0</td>\n",
       "      <td>0.0</td>\n",
       "      <td>1.0</td>\n",
       "      <td>0.0</td>\n",
       "      <td>0.0</td>\n",
       "      <td>0.0</td>\n",
       "    </tr>\n",
       "    <tr>\n",
       "      <th>16223</th>\n",
       "      <td>-1.176746e-01</td>\n",
       "      <td>-0.585318</td>\n",
       "      <td>3.192687</td>\n",
       "      <td>0.0</td>\n",
       "      <td>0.0</td>\n",
       "      <td>0.0</td>\n",
       "      <td>0.0</td>\n",
       "      <td>0.0</td>\n",
       "      <td>0.0</td>\n",
       "      <td>0.0</td>\n",
       "      <td>...</td>\n",
       "      <td>0.0</td>\n",
       "      <td>0.0</td>\n",
       "      <td>0.0</td>\n",
       "      <td>0.0</td>\n",
       "      <td>0.0</td>\n",
       "      <td>0.0</td>\n",
       "      <td>0.0</td>\n",
       "      <td>0.0</td>\n",
       "      <td>1.0</td>\n",
       "      <td>0.0</td>\n",
       "    </tr>\n",
       "    <tr>\n",
       "      <th>21271</th>\n",
       "      <td>-6.713150e-01</td>\n",
       "      <td>-0.972843</td>\n",
       "      <td>-1.061826</td>\n",
       "      <td>0.0</td>\n",
       "      <td>0.0</td>\n",
       "      <td>0.0</td>\n",
       "      <td>0.0</td>\n",
       "      <td>0.0</td>\n",
       "      <td>0.0</td>\n",
       "      <td>0.0</td>\n",
       "      <td>...</td>\n",
       "      <td>0.0</td>\n",
       "      <td>0.0</td>\n",
       "      <td>0.0</td>\n",
       "      <td>0.0</td>\n",
       "      <td>0.0</td>\n",
       "      <td>0.0</td>\n",
       "      <td>0.0</td>\n",
       "      <td>0.0</td>\n",
       "      <td>1.0</td>\n",
       "      <td>0.0</td>\n",
       "    </tr>\n",
       "    <tr>\n",
       "      <th>...</th>\n",
       "      <td>...</td>\n",
       "      <td>...</td>\n",
       "      <td>...</td>\n",
       "      <td>...</td>\n",
       "      <td>...</td>\n",
       "      <td>...</td>\n",
       "      <td>...</td>\n",
       "      <td>...</td>\n",
       "      <td>...</td>\n",
       "      <td>...</td>\n",
       "      <td>...</td>\n",
       "      <td>...</td>\n",
       "      <td>...</td>\n",
       "      <td>...</td>\n",
       "      <td>...</td>\n",
       "      <td>...</td>\n",
       "      <td>...</td>\n",
       "      <td>...</td>\n",
       "      <td>...</td>\n",
       "      <td>...</td>\n",
       "      <td>...</td>\n",
       "    </tr>\n",
       "    <tr>\n",
       "      <th>16756</th>\n",
       "      <td>1.266426e+00</td>\n",
       "      <td>0.189731</td>\n",
       "      <td>0.000000</td>\n",
       "      <td>0.0</td>\n",
       "      <td>0.0</td>\n",
       "      <td>0.0</td>\n",
       "      <td>0.0</td>\n",
       "      <td>0.0</td>\n",
       "      <td>0.0</td>\n",
       "      <td>0.0</td>\n",
       "      <td>...</td>\n",
       "      <td>0.0</td>\n",
       "      <td>0.0</td>\n",
       "      <td>0.0</td>\n",
       "      <td>0.0</td>\n",
       "      <td>0.0</td>\n",
       "      <td>0.0</td>\n",
       "      <td>0.0</td>\n",
       "      <td>0.0</td>\n",
       "      <td>1.0</td>\n",
       "      <td>0.0</td>\n",
       "    </tr>\n",
       "    <tr>\n",
       "      <th>8915</th>\n",
       "      <td>-8.558618e-01</td>\n",
       "      <td>-1.138925</td>\n",
       "      <td>0.638040</td>\n",
       "      <td>0.0</td>\n",
       "      <td>0.0</td>\n",
       "      <td>0.0</td>\n",
       "      <td>0.0</td>\n",
       "      <td>0.0</td>\n",
       "      <td>0.0</td>\n",
       "      <td>0.0</td>\n",
       "      <td>...</td>\n",
       "      <td>0.0</td>\n",
       "      <td>0.0</td>\n",
       "      <td>0.0</td>\n",
       "      <td>0.0</td>\n",
       "      <td>0.0</td>\n",
       "      <td>0.0</td>\n",
       "      <td>1.0</td>\n",
       "      <td>0.0</td>\n",
       "      <td>0.0</td>\n",
       "      <td>0.0</td>\n",
       "    </tr>\n",
       "    <tr>\n",
       "      <th>18188</th>\n",
       "      <td>1.639105e-16</td>\n",
       "      <td>-1.172142</td>\n",
       "      <td>-0.502512</td>\n",
       "      <td>0.0</td>\n",
       "      <td>0.0</td>\n",
       "      <td>0.0</td>\n",
       "      <td>0.0</td>\n",
       "      <td>0.0</td>\n",
       "      <td>0.0</td>\n",
       "      <td>0.0</td>\n",
       "      <td>...</td>\n",
       "      <td>0.0</td>\n",
       "      <td>0.0</td>\n",
       "      <td>0.0</td>\n",
       "      <td>0.0</td>\n",
       "      <td>0.0</td>\n",
       "      <td>0.0</td>\n",
       "      <td>0.0</td>\n",
       "      <td>1.0</td>\n",
       "      <td>0.0</td>\n",
       "      <td>0.0</td>\n",
       "    </tr>\n",
       "    <tr>\n",
       "      <th>16070</th>\n",
       "      <td>-3.944948e-01</td>\n",
       "      <td>-0.142433</td>\n",
       "      <td>0.041890</td>\n",
       "      <td>0.0</td>\n",
       "      <td>0.0</td>\n",
       "      <td>0.0</td>\n",
       "      <td>0.0</td>\n",
       "      <td>0.0</td>\n",
       "      <td>0.0</td>\n",
       "      <td>0.0</td>\n",
       "      <td>...</td>\n",
       "      <td>0.0</td>\n",
       "      <td>0.0</td>\n",
       "      <td>1.0</td>\n",
       "      <td>0.0</td>\n",
       "      <td>0.0</td>\n",
       "      <td>0.0</td>\n",
       "      <td>0.0</td>\n",
       "      <td>0.0</td>\n",
       "      <td>0.0</td>\n",
       "      <td>1.0</td>\n",
       "    </tr>\n",
       "    <tr>\n",
       "      <th>12792</th>\n",
       "      <td>-7.635884e-01</td>\n",
       "      <td>-0.253154</td>\n",
       "      <td>-0.288404</td>\n",
       "      <td>0.0</td>\n",
       "      <td>0.0</td>\n",
       "      <td>0.0</td>\n",
       "      <td>0.0</td>\n",
       "      <td>0.0</td>\n",
       "      <td>0.0</td>\n",
       "      <td>0.0</td>\n",
       "      <td>...</td>\n",
       "      <td>0.0</td>\n",
       "      <td>0.0</td>\n",
       "      <td>0.0</td>\n",
       "      <td>0.0</td>\n",
       "      <td>0.0</td>\n",
       "      <td>0.0</td>\n",
       "      <td>1.0</td>\n",
       "      <td>0.0</td>\n",
       "      <td>0.0</td>\n",
       "      <td>0.0</td>\n",
       "    </tr>\n",
       "  </tbody>\n",
       "</table>\n",
       "<p>5574 rows × 40 columns</p>\n",
       "</div>"
      ],
      "text/plain": [
       "       num_transformer__so2  num_transformer__no2  num_transformer__rainfall  \\\n",
       "12002         -8.558618e-01             -0.529958                   0.372909   \n",
       "4305          -6.805423e-01             -0.601927                  -0.875823   \n",
       "9394          -2.099480e-01              0.189731                  -0.283205   \n",
       "16223         -1.176746e-01             -0.585318                   3.192687   \n",
       "21271         -6.713150e-01             -0.972843                  -1.061826   \n",
       "...                     ...                   ...                        ...   \n",
       "16756          1.266426e+00              0.189731                   0.000000   \n",
       "8915          -8.558618e-01             -1.138925                   0.638040   \n",
       "18188          1.639105e-16             -1.172142                  -0.502512   \n",
       "16070         -3.944948e-01             -0.142433                   0.041890   \n",
       "12792         -7.635884e-01             -0.253154                  -0.288404   \n",
       "\n",
       "       cat_transformer__state_Andhra Pradesh  \\\n",
       "12002                                    0.0   \n",
       "4305                                     0.0   \n",
       "9394                                     0.0   \n",
       "16223                                    0.0   \n",
       "21271                                    0.0   \n",
       "...                                      ...   \n",
       "16756                                    0.0   \n",
       "8915                                     0.0   \n",
       "18188                                    0.0   \n",
       "16070                                    0.0   \n",
       "12792                                    0.0   \n",
       "\n",
       "       cat_transformer__state_Arunachal Pradesh  cat_transformer__state_Assam  \\\n",
       "12002                                       0.0                           0.0   \n",
       "4305                                        0.0                           0.0   \n",
       "9394                                        0.0                           0.0   \n",
       "16223                                       0.0                           0.0   \n",
       "21271                                       0.0                           0.0   \n",
       "...                                         ...                           ...   \n",
       "16756                                       0.0                           0.0   \n",
       "8915                                        0.0                           0.0   \n",
       "18188                                       0.0                           0.0   \n",
       "16070                                       0.0                           0.0   \n",
       "12792                                       0.0                           0.0   \n",
       "\n",
       "       cat_transformer__state_Bihar  cat_transformer__state_Chandigarh  \\\n",
       "12002                           0.0                                0.0   \n",
       "4305                            0.0                                0.0   \n",
       "9394                            0.0                                0.0   \n",
       "16223                           0.0                                0.0   \n",
       "21271                           0.0                                0.0   \n",
       "...                             ...                                ...   \n",
       "16756                           0.0                                0.0   \n",
       "8915                            0.0                                0.0   \n",
       "18188                           0.0                                0.0   \n",
       "16070                           0.0                                0.0   \n",
       "12792                           0.0                                0.0   \n",
       "\n",
       "       cat_transformer__state_Chhattisgarh  \\\n",
       "12002                                  0.0   \n",
       "4305                                   0.0   \n",
       "9394                                   0.0   \n",
       "16223                                  0.0   \n",
       "21271                                  0.0   \n",
       "...                                    ...   \n",
       "16756                                  0.0   \n",
       "8915                                   0.0   \n",
       "18188                                  0.0   \n",
       "16070                                  0.0   \n",
       "12792                                  0.0   \n",
       "\n",
       "       cat_transformer__state_Dadra & Nagar Haveli  ...  \\\n",
       "12002                                          0.0  ...   \n",
       "4305                                           0.0  ...   \n",
       "9394                                           0.0  ...   \n",
       "16223                                          0.0  ...   \n",
       "21271                                          0.0  ...   \n",
       "...                                            ...  ...   \n",
       "16756                                          0.0  ...   \n",
       "8915                                           0.0  ...   \n",
       "18188                                          0.0  ...   \n",
       "16070                                          0.0  ...   \n",
       "12792                                          0.0  ...   \n",
       "\n",
       "       cat_transformer__state_Tamil Nadu  cat_transformer__state_Telangana  \\\n",
       "12002                                0.0                               0.0   \n",
       "4305                                 0.0                               0.0   \n",
       "9394                                 0.0                               0.0   \n",
       "16223                                0.0                               0.0   \n",
       "21271                                0.0                               0.0   \n",
       "...                                  ...                               ...   \n",
       "16756                                0.0                               0.0   \n",
       "8915                                 0.0                               0.0   \n",
       "18188                                0.0                               0.0   \n",
       "16070                                0.0                               0.0   \n",
       "12792                                0.0                               0.0   \n",
       "\n",
       "       cat_transformer__state_Uttar Pradesh  \\\n",
       "12002                                   0.0   \n",
       "4305                                    0.0   \n",
       "9394                                    0.0   \n",
       "16223                                   0.0   \n",
       "21271                                   0.0   \n",
       "...                                     ...   \n",
       "16756                                   0.0   \n",
       "8915                                    0.0   \n",
       "18188                                   0.0   \n",
       "16070                                   1.0   \n",
       "12792                                   0.0   \n",
       "\n",
       "       cat_transformer__state_Uttarakhand  cat_transformer__state_Uttaranchal  \\\n",
       "12002                                 0.0                                 0.0   \n",
       "4305                                  0.0                                 0.0   \n",
       "9394                                  0.0                                 0.0   \n",
       "16223                                 0.0                                 0.0   \n",
       "21271                                 0.0                                 0.0   \n",
       "...                                   ...                                 ...   \n",
       "16756                                 0.0                                 0.0   \n",
       "8915                                  0.0                                 0.0   \n",
       "18188                                 0.0                                 0.0   \n",
       "16070                                 0.0                                 0.0   \n",
       "12792                                 0.0                                 0.0   \n",
       "\n",
       "       cat_transformer__state_West Bengal  cat_transformer__type_Industrial  \\\n",
       "12002                                 0.0                               0.0   \n",
       "4305                                  0.0                               0.0   \n",
       "9394                                  0.0                               1.0   \n",
       "16223                                 0.0                               0.0   \n",
       "21271                                 0.0                               0.0   \n",
       "...                                   ...                               ...   \n",
       "16756                                 0.0                               0.0   \n",
       "8915                                  0.0                               1.0   \n",
       "18188                                 0.0                               0.0   \n",
       "16070                                 0.0                               0.0   \n",
       "12792                                 0.0                               1.0   \n",
       "\n",
       "       cat_transformer__type_Others  cat_transformer__type_Residential  \\\n",
       "12002                           0.0                                1.0   \n",
       "4305                            1.0                                0.0   \n",
       "9394                            0.0                                0.0   \n",
       "16223                           0.0                                1.0   \n",
       "21271                           0.0                                1.0   \n",
       "...                             ...                                ...   \n",
       "16756                           0.0                                1.0   \n",
       "8915                            0.0                                0.0   \n",
       "18188                           1.0                                0.0   \n",
       "16070                           0.0                                0.0   \n",
       "12792                           0.0                                0.0   \n",
       "\n",
       "       cat_transformer__type_Sensitive  \n",
       "12002                              0.0  \n",
       "4305                               0.0  \n",
       "9394                               0.0  \n",
       "16223                              0.0  \n",
       "21271                              0.0  \n",
       "...                                ...  \n",
       "16756                              0.0  \n",
       "8915                               0.0  \n",
       "18188                              0.0  \n",
       "16070                              1.0  \n",
       "12792                              0.0  \n",
       "\n",
       "[5574 rows x 40 columns]"
      ]
     },
     "execution_count": 27,
     "metadata": {},
     "output_type": "execute_result"
    }
   ],
   "source": [
    "preprocessor.transform(X_test)"
   ]
  },
  {
   "cell_type": "markdown",
   "id": "df54c78d",
   "metadata": {
    "editable": true,
    "slideshow": {
     "slide_type": "subslide"
    },
    "tags": []
   },
   "source": [
    "### Accessing individual transformers\n",
    "\n",
    "We can easily access individual transformers in the pipeline, and see their properties:"
   ]
  },
  {
   "cell_type": "code",
   "execution_count": 28,
   "id": "daee18cd",
   "metadata": {
    "editable": true,
    "slideshow": {
     "slide_type": "fragment"
    },
    "tags": []
   },
   "outputs": [
    {
     "data": {
      "text/plain": [
       "[('num_transformer',\n",
       "  Pipeline(steps=[('num_imputer', SimpleImputer()),\n",
       "                  ('num_scaler', StandardScaler())]),\n",
       "  Index(['so2', 'no2', 'rainfall'], dtype='object')),\n",
       " ('cat_transformer',\n",
       "  Pipeline(steps=[('cat_imputer', SimpleImputer(strategy='most_frequent')),\n",
       "                  ('cat_encoder',\n",
       "                   OneHotEncoder(handle_unknown='ignore', sparse_output=False))]),\n",
       "  ['state', 'type']),\n",
       " ('remainder', 'drop', [0, 2, 6])]"
      ]
     },
     "execution_count": 28,
     "metadata": {},
     "output_type": "execute_result"
    }
   ],
   "source": [
    "preprocessor.transformers_"
   ]
  },
  {
   "cell_type": "code",
   "execution_count": 21,
   "id": "abc6baa8",
   "metadata": {
    "slideshow": {
     "slide_type": "fragment"
    }
   },
   "outputs": [
    {
     "data": {
      "text/plain": [
       "Index(['so2', 'no2', 'rainfall'], dtype='object')"
      ]
     },
     "execution_count": 21,
     "metadata": {},
     "output_type": "execute_result"
    }
   ],
   "source": [
    "preprocessor.transformers_[0][2]"
   ]
  },
  {
   "cell_type": "code",
   "execution_count": 22,
   "id": "1294aa45",
   "metadata": {
    "editable": true,
    "slideshow": {
     "slide_type": "subslide"
    },
    "tags": []
   },
   "outputs": [
    {
     "data": {
      "text/plain": [
       "array(['state_Andhra Pradesh', 'state_Arunachal Pradesh', 'state_Assam',\n",
       "       'state_Bihar', 'state_Chandigarh', 'state_Chhattisgarh',\n",
       "       'state_Dadra & Nagar Haveli', 'state_Daman & Diu', 'state_Delhi',\n",
       "       'state_Goa', 'state_Gujarat', 'state_Haryana',\n",
       "       'state_Himachal Pradesh', 'state_Jammu & Kashmir',\n",
       "       'state_Jharkhand', 'state_Karnataka', 'state_Kerala',\n",
       "       'state_Madhya Pradesh', 'state_Maharashtra', 'state_Manipur',\n",
       "       'state_Meghalaya', 'state_Mizoram', 'state_Nagaland',\n",
       "       'state_Odisha', 'state_Puducherry', 'state_Punjab',\n",
       "       'state_Rajasthan', 'state_Tamil Nadu', 'state_Telangana',\n",
       "       'state_Uttar Pradesh', 'state_Uttarakhand', 'state_Uttaranchal',\n",
       "       'state_West Bengal', 'type_Industrial', 'type_Others',\n",
       "       'type_Residential', 'type_Sensitive'], dtype=object)"
      ]
     },
     "execution_count": 22,
     "metadata": {},
     "output_type": "execute_result"
    }
   ],
   "source": [
    "preprocessor.transformers_[1][1][1].get_feature_names_out()"
   ]
  },
  {
   "cell_type": "markdown",
   "id": "d9c8767a-65ce-467b-899e-20473b68a952",
   "metadata": {
    "editable": true,
    "slideshow": {
     "slide_type": "subslide"
    },
    "tags": []
   },
   "source": [
    "\n",
    "<h3 id=\"Custom-transformer-(basic)\">Custom transformer (basic)<a class=\"anchor-link\" href=\"https://kitt.lewagon.com/karr/data-lectures.kitt/05-ML_08-Workflow.html?title=Workflow&amp;program_id=10#Custom-transformer-(basic)\">¶</a></h3><div class=\"highlight\"><pre><span></span><span class=\"kn\">from</span> <span class=\"nn\">sklearn.preprocessing</span> <span class=\"kn\">import</span> <span class=\"n\">FunctionTransformer</span>\n",
    "</pre></div>\n",
    "<ul>\n",
    "<li><p>You will often need to perform custom transformations on your columns</p>\n",
    "</li>\n",
    "<li><p><code>FunctionTransformer</code> encapsulates a function into a transformer object</p>\n",
    "</li>\n",
    "<li><p>Can work with Pipelines (in series) or with ColumnTransformer (in paralell)</p>\n",
    "</li>\n",
    "</ul>\n"
   ]
  },
  {
   "cell_type": "code",
   "execution_count": 29,
   "id": "c45b2ef7-3711-44fa-8e97-df7146ddc6ce",
   "metadata": {
    "editable": true,
    "slideshow": {
     "slide_type": "subslide"
    },
    "tags": []
   },
   "outputs": [
    {
     "data": {
      "text/html": [
       "<div>\n",
       "<style scoped>\n",
       "    .dataframe tbody tr th:only-of-type {\n",
       "        vertical-align: middle;\n",
       "    }\n",
       "\n",
       "    .dataframe tbody tr th {\n",
       "        vertical-align: top;\n",
       "    }\n",
       "\n",
       "    .dataframe thead th {\n",
       "        text-align: right;\n",
       "    }\n",
       "</style>\n",
       "<table border=\"1\" class=\"dataframe\">\n",
       "  <thead>\n",
       "    <tr style=\"text-align: right;\">\n",
       "      <th></th>\n",
       "      <th>num_transformer__so2</th>\n",
       "      <th>num_transformer__no2</th>\n",
       "      <th>num_transformer__rainfall</th>\n",
       "      <th>cat_transformer__state_Andhra Pradesh</th>\n",
       "      <th>cat_transformer__state_Arunachal Pradesh</th>\n",
       "      <th>cat_transformer__state_Assam</th>\n",
       "      <th>cat_transformer__state_Bihar</th>\n",
       "      <th>cat_transformer__state_Chandigarh</th>\n",
       "      <th>cat_transformer__state_Chhattisgarh</th>\n",
       "      <th>cat_transformer__state_Dadra &amp; Nagar Haveli</th>\n",
       "      <th>...</th>\n",
       "      <th>cat_transformer__state_Tamil Nadu</th>\n",
       "      <th>cat_transformer__state_Telangana</th>\n",
       "      <th>cat_transformer__state_Uttar Pradesh</th>\n",
       "      <th>cat_transformer__state_Uttarakhand</th>\n",
       "      <th>cat_transformer__state_Uttaranchal</th>\n",
       "      <th>cat_transformer__state_West Bengal</th>\n",
       "      <th>cat_transformer__type_Industrial</th>\n",
       "      <th>cat_transformer__type_Others</th>\n",
       "      <th>cat_transformer__type_Residential</th>\n",
       "      <th>cat_transformer__type_Sensitive</th>\n",
       "    </tr>\n",
       "  </thead>\n",
       "  <tbody>\n",
       "    <tr>\n",
       "      <th>14606</th>\n",
       "      <td>2.0</td>\n",
       "      <td>1.0</td>\n",
       "      <td>1.0</td>\n",
       "      <td>0.0</td>\n",
       "      <td>0.0</td>\n",
       "      <td>0.0</td>\n",
       "      <td>0.0</td>\n",
       "      <td>0.0</td>\n",
       "      <td>0.0</td>\n",
       "      <td>0.0</td>\n",
       "      <td>...</td>\n",
       "      <td>0.0</td>\n",
       "      <td>0.0</td>\n",
       "      <td>0.0</td>\n",
       "      <td>0.0</td>\n",
       "      <td>0.0</td>\n",
       "      <td>0.0</td>\n",
       "      <td>0.0</td>\n",
       "      <td>1.0</td>\n",
       "      <td>0.0</td>\n",
       "      <td>0.0</td>\n",
       "    </tr>\n",
       "    <tr>\n",
       "      <th>21850</th>\n",
       "      <td>1.0</td>\n",
       "      <td>-0.0</td>\n",
       "      <td>-2.0</td>\n",
       "      <td>0.0</td>\n",
       "      <td>0.0</td>\n",
       "      <td>0.0</td>\n",
       "      <td>0.0</td>\n",
       "      <td>0.0</td>\n",
       "      <td>0.0</td>\n",
       "      <td>0.0</td>\n",
       "      <td>...</td>\n",
       "      <td>0.0</td>\n",
       "      <td>0.0</td>\n",
       "      <td>0.0</td>\n",
       "      <td>0.0</td>\n",
       "      <td>0.0</td>\n",
       "      <td>0.0</td>\n",
       "      <td>0.0</td>\n",
       "      <td>0.0</td>\n",
       "      <td>1.0</td>\n",
       "      <td>0.0</td>\n",
       "    </tr>\n",
       "    <tr>\n",
       "      <th>23190</th>\n",
       "      <td>-1.0</td>\n",
       "      <td>-1.0</td>\n",
       "      <td>0.0</td>\n",
       "      <td>1.0</td>\n",
       "      <td>0.0</td>\n",
       "      <td>0.0</td>\n",
       "      <td>0.0</td>\n",
       "      <td>0.0</td>\n",
       "      <td>0.0</td>\n",
       "      <td>0.0</td>\n",
       "      <td>...</td>\n",
       "      <td>0.0</td>\n",
       "      <td>0.0</td>\n",
       "      <td>0.0</td>\n",
       "      <td>0.0</td>\n",
       "      <td>0.0</td>\n",
       "      <td>0.0</td>\n",
       "      <td>0.0</td>\n",
       "      <td>0.0</td>\n",
       "      <td>1.0</td>\n",
       "      <td>0.0</td>\n",
       "    </tr>\n",
       "    <tr>\n",
       "      <th>16552</th>\n",
       "      <td>2.0</td>\n",
       "      <td>-1.0</td>\n",
       "      <td>-0.0</td>\n",
       "      <td>0.0</td>\n",
       "      <td>0.0</td>\n",
       "      <td>0.0</td>\n",
       "      <td>0.0</td>\n",
       "      <td>0.0</td>\n",
       "      <td>0.0</td>\n",
       "      <td>0.0</td>\n",
       "      <td>...</td>\n",
       "      <td>0.0</td>\n",
       "      <td>0.0</td>\n",
       "      <td>0.0</td>\n",
       "      <td>0.0</td>\n",
       "      <td>0.0</td>\n",
       "      <td>0.0</td>\n",
       "      <td>1.0</td>\n",
       "      <td>0.0</td>\n",
       "      <td>0.0</td>\n",
       "      <td>0.0</td>\n",
       "    </tr>\n",
       "    <tr>\n",
       "      <th>14739</th>\n",
       "      <td>0.0</td>\n",
       "      <td>-1.0</td>\n",
       "      <td>2.0</td>\n",
       "      <td>0.0</td>\n",
       "      <td>0.0</td>\n",
       "      <td>0.0</td>\n",
       "      <td>0.0</td>\n",
       "      <td>0.0</td>\n",
       "      <td>0.0</td>\n",
       "      <td>0.0</td>\n",
       "      <td>...</td>\n",
       "      <td>1.0</td>\n",
       "      <td>0.0</td>\n",
       "      <td>0.0</td>\n",
       "      <td>0.0</td>\n",
       "      <td>0.0</td>\n",
       "      <td>0.0</td>\n",
       "      <td>1.0</td>\n",
       "      <td>0.0</td>\n",
       "      <td>0.0</td>\n",
       "      <td>0.0</td>\n",
       "    </tr>\n",
       "    <tr>\n",
       "      <th>...</th>\n",
       "      <td>...</td>\n",
       "      <td>...</td>\n",
       "      <td>...</td>\n",
       "      <td>...</td>\n",
       "      <td>...</td>\n",
       "      <td>...</td>\n",
       "      <td>...</td>\n",
       "      <td>...</td>\n",
       "      <td>...</td>\n",
       "      <td>...</td>\n",
       "      <td>...</td>\n",
       "      <td>...</td>\n",
       "      <td>...</td>\n",
       "      <td>...</td>\n",
       "      <td>...</td>\n",
       "      <td>...</td>\n",
       "      <td>...</td>\n",
       "      <td>...</td>\n",
       "      <td>...</td>\n",
       "      <td>...</td>\n",
       "      <td>...</td>\n",
       "    </tr>\n",
       "    <tr>\n",
       "      <th>14654</th>\n",
       "      <td>-0.0</td>\n",
       "      <td>0.0</td>\n",
       "      <td>1.0</td>\n",
       "      <td>0.0</td>\n",
       "      <td>0.0</td>\n",
       "      <td>0.0</td>\n",
       "      <td>0.0</td>\n",
       "      <td>0.0</td>\n",
       "      <td>0.0</td>\n",
       "      <td>0.0</td>\n",
       "      <td>...</td>\n",
       "      <td>0.0</td>\n",
       "      <td>0.0</td>\n",
       "      <td>0.0</td>\n",
       "      <td>0.0</td>\n",
       "      <td>0.0</td>\n",
       "      <td>0.0</td>\n",
       "      <td>0.0</td>\n",
       "      <td>0.0</td>\n",
       "      <td>1.0</td>\n",
       "      <td>0.0</td>\n",
       "    </tr>\n",
       "    <tr>\n",
       "      <th>1605</th>\n",
       "      <td>0.0</td>\n",
       "      <td>-1.0</td>\n",
       "      <td>0.0</td>\n",
       "      <td>0.0</td>\n",
       "      <td>0.0</td>\n",
       "      <td>0.0</td>\n",
       "      <td>0.0</td>\n",
       "      <td>0.0</td>\n",
       "      <td>0.0</td>\n",
       "      <td>0.0</td>\n",
       "      <td>...</td>\n",
       "      <td>0.0</td>\n",
       "      <td>0.0</td>\n",
       "      <td>0.0</td>\n",
       "      <td>0.0</td>\n",
       "      <td>0.0</td>\n",
       "      <td>0.0</td>\n",
       "      <td>1.0</td>\n",
       "      <td>0.0</td>\n",
       "      <td>0.0</td>\n",
       "      <td>0.0</td>\n",
       "    </tr>\n",
       "    <tr>\n",
       "      <th>26844</th>\n",
       "      <td>1.0</td>\n",
       "      <td>-0.0</td>\n",
       "      <td>0.0</td>\n",
       "      <td>0.0</td>\n",
       "      <td>0.0</td>\n",
       "      <td>0.0</td>\n",
       "      <td>0.0</td>\n",
       "      <td>0.0</td>\n",
       "      <td>0.0</td>\n",
       "      <td>0.0</td>\n",
       "      <td>...</td>\n",
       "      <td>1.0</td>\n",
       "      <td>0.0</td>\n",
       "      <td>0.0</td>\n",
       "      <td>0.0</td>\n",
       "      <td>0.0</td>\n",
       "      <td>0.0</td>\n",
       "      <td>1.0</td>\n",
       "      <td>0.0</td>\n",
       "      <td>0.0</td>\n",
       "      <td>0.0</td>\n",
       "    </tr>\n",
       "    <tr>\n",
       "      <th>15791</th>\n",
       "      <td>-0.0</td>\n",
       "      <td>-1.0</td>\n",
       "      <td>0.0</td>\n",
       "      <td>0.0</td>\n",
       "      <td>0.0</td>\n",
       "      <td>1.0</td>\n",
       "      <td>0.0</td>\n",
       "      <td>0.0</td>\n",
       "      <td>0.0</td>\n",
       "      <td>0.0</td>\n",
       "      <td>...</td>\n",
       "      <td>0.0</td>\n",
       "      <td>0.0</td>\n",
       "      <td>0.0</td>\n",
       "      <td>0.0</td>\n",
       "      <td>0.0</td>\n",
       "      <td>0.0</td>\n",
       "      <td>0.0</td>\n",
       "      <td>0.0</td>\n",
       "      <td>1.0</td>\n",
       "      <td>0.0</td>\n",
       "    </tr>\n",
       "    <tr>\n",
       "      <th>27775</th>\n",
       "      <td>-1.0</td>\n",
       "      <td>-1.0</td>\n",
       "      <td>-0.0</td>\n",
       "      <td>0.0</td>\n",
       "      <td>0.0</td>\n",
       "      <td>0.0</td>\n",
       "      <td>0.0</td>\n",
       "      <td>0.0</td>\n",
       "      <td>0.0</td>\n",
       "      <td>0.0</td>\n",
       "      <td>...</td>\n",
       "      <td>0.0</td>\n",
       "      <td>0.0</td>\n",
       "      <td>0.0</td>\n",
       "      <td>0.0</td>\n",
       "      <td>0.0</td>\n",
       "      <td>0.0</td>\n",
       "      <td>0.0</td>\n",
       "      <td>0.0</td>\n",
       "      <td>1.0</td>\n",
       "      <td>0.0</td>\n",
       "    </tr>\n",
       "  </tbody>\n",
       "</table>\n",
       "<p>22296 rows × 40 columns</p>\n",
       "</div>"
      ],
      "text/plain": [
       "       num_transformer__so2  num_transformer__no2  num_transformer__rainfall  \\\n",
       "14606                   2.0                   1.0                        1.0   \n",
       "21850                   1.0                  -0.0                       -2.0   \n",
       "23190                  -1.0                  -1.0                        0.0   \n",
       "16552                   2.0                  -1.0                       -0.0   \n",
       "14739                   0.0                  -1.0                        2.0   \n",
       "...                     ...                   ...                        ...   \n",
       "14654                  -0.0                   0.0                        1.0   \n",
       "1605                    0.0                  -1.0                        0.0   \n",
       "26844                   1.0                  -0.0                        0.0   \n",
       "15791                  -0.0                  -1.0                        0.0   \n",
       "27775                  -1.0                  -1.0                       -0.0   \n",
       "\n",
       "       cat_transformer__state_Andhra Pradesh  \\\n",
       "14606                                    0.0   \n",
       "21850                                    0.0   \n",
       "23190                                    1.0   \n",
       "16552                                    0.0   \n",
       "14739                                    0.0   \n",
       "...                                      ...   \n",
       "14654                                    0.0   \n",
       "1605                                     0.0   \n",
       "26844                                    0.0   \n",
       "15791                                    0.0   \n",
       "27775                                    0.0   \n",
       "\n",
       "       cat_transformer__state_Arunachal Pradesh  cat_transformer__state_Assam  \\\n",
       "14606                                       0.0                           0.0   \n",
       "21850                                       0.0                           0.0   \n",
       "23190                                       0.0                           0.0   \n",
       "16552                                       0.0                           0.0   \n",
       "14739                                       0.0                           0.0   \n",
       "...                                         ...                           ...   \n",
       "14654                                       0.0                           0.0   \n",
       "1605                                        0.0                           0.0   \n",
       "26844                                       0.0                           0.0   \n",
       "15791                                       0.0                           1.0   \n",
       "27775                                       0.0                           0.0   \n",
       "\n",
       "       cat_transformer__state_Bihar  cat_transformer__state_Chandigarh  \\\n",
       "14606                           0.0                                0.0   \n",
       "21850                           0.0                                0.0   \n",
       "23190                           0.0                                0.0   \n",
       "16552                           0.0                                0.0   \n",
       "14739                           0.0                                0.0   \n",
       "...                             ...                                ...   \n",
       "14654                           0.0                                0.0   \n",
       "1605                            0.0                                0.0   \n",
       "26844                           0.0                                0.0   \n",
       "15791                           0.0                                0.0   \n",
       "27775                           0.0                                0.0   \n",
       "\n",
       "       cat_transformer__state_Chhattisgarh  \\\n",
       "14606                                  0.0   \n",
       "21850                                  0.0   \n",
       "23190                                  0.0   \n",
       "16552                                  0.0   \n",
       "14739                                  0.0   \n",
       "...                                    ...   \n",
       "14654                                  0.0   \n",
       "1605                                   0.0   \n",
       "26844                                  0.0   \n",
       "15791                                  0.0   \n",
       "27775                                  0.0   \n",
       "\n",
       "       cat_transformer__state_Dadra & Nagar Haveli  ...  \\\n",
       "14606                                          0.0  ...   \n",
       "21850                                          0.0  ...   \n",
       "23190                                          0.0  ...   \n",
       "16552                                          0.0  ...   \n",
       "14739                                          0.0  ...   \n",
       "...                                            ...  ...   \n",
       "14654                                          0.0  ...   \n",
       "1605                                           0.0  ...   \n",
       "26844                                          0.0  ...   \n",
       "15791                                          0.0  ...   \n",
       "27775                                          0.0  ...   \n",
       "\n",
       "       cat_transformer__state_Tamil Nadu  cat_transformer__state_Telangana  \\\n",
       "14606                                0.0                               0.0   \n",
       "21850                                0.0                               0.0   \n",
       "23190                                0.0                               0.0   \n",
       "16552                                0.0                               0.0   \n",
       "14739                                1.0                               0.0   \n",
       "...                                  ...                               ...   \n",
       "14654                                0.0                               0.0   \n",
       "1605                                 0.0                               0.0   \n",
       "26844                                1.0                               0.0   \n",
       "15791                                0.0                               0.0   \n",
       "27775                                0.0                               0.0   \n",
       "\n",
       "       cat_transformer__state_Uttar Pradesh  \\\n",
       "14606                                   0.0   \n",
       "21850                                   0.0   \n",
       "23190                                   0.0   \n",
       "16552                                   0.0   \n",
       "14739                                   0.0   \n",
       "...                                     ...   \n",
       "14654                                   0.0   \n",
       "1605                                    0.0   \n",
       "26844                                   0.0   \n",
       "15791                                   0.0   \n",
       "27775                                   0.0   \n",
       "\n",
       "       cat_transformer__state_Uttarakhand  cat_transformer__state_Uttaranchal  \\\n",
       "14606                                 0.0                                 0.0   \n",
       "21850                                 0.0                                 0.0   \n",
       "23190                                 0.0                                 0.0   \n",
       "16552                                 0.0                                 0.0   \n",
       "14739                                 0.0                                 0.0   \n",
       "...                                   ...                                 ...   \n",
       "14654                                 0.0                                 0.0   \n",
       "1605                                  0.0                                 0.0   \n",
       "26844                                 0.0                                 0.0   \n",
       "15791                                 0.0                                 0.0   \n",
       "27775                                 0.0                                 0.0   \n",
       "\n",
       "       cat_transformer__state_West Bengal  cat_transformer__type_Industrial  \\\n",
       "14606                                 0.0                               0.0   \n",
       "21850                                 0.0                               0.0   \n",
       "23190                                 0.0                               0.0   \n",
       "16552                                 0.0                               1.0   \n",
       "14739                                 0.0                               1.0   \n",
       "...                                   ...                               ...   \n",
       "14654                                 0.0                               0.0   \n",
       "1605                                  0.0                               1.0   \n",
       "26844                                 0.0                               1.0   \n",
       "15791                                 0.0                               0.0   \n",
       "27775                                 0.0                               0.0   \n",
       "\n",
       "       cat_transformer__type_Others  cat_transformer__type_Residential  \\\n",
       "14606                           1.0                                0.0   \n",
       "21850                           0.0                                1.0   \n",
       "23190                           0.0                                1.0   \n",
       "16552                           0.0                                0.0   \n",
       "14739                           0.0                                0.0   \n",
       "...                             ...                                ...   \n",
       "14654                           0.0                                1.0   \n",
       "1605                            0.0                                0.0   \n",
       "26844                           0.0                                0.0   \n",
       "15791                           0.0                                1.0   \n",
       "27775                           0.0                                1.0   \n",
       "\n",
       "       cat_transformer__type_Sensitive  \n",
       "14606                              0.0  \n",
       "21850                              0.0  \n",
       "23190                              0.0  \n",
       "16552                              0.0  \n",
       "14739                              0.0  \n",
       "...                                ...  \n",
       "14654                              0.0  \n",
       "1605                               0.0  \n",
       "26844                              0.0  \n",
       "15791                              0.0  \n",
       "27775                              0.0  \n",
       "\n",
       "[22296 rows x 40 columns]"
      ]
     },
     "execution_count": 29,
     "metadata": {},
     "output_type": "execute_result"
    }
   ],
   "source": [
    "from sklearn.preprocessing import FunctionTransformer\n",
    "\n",
    "# Create a transformer that compresses data to 2 digits (for instance!)\n",
    "rounder = FunctionTransformer(np.round)\n",
    "# rounder = FunctionTransformer(lambda array: np.round(array, decimals=2))\n",
    "\n",
    "# Add it at the end of our numerical transformer\n",
    "num_transformer = Pipeline([\n",
    "    ('imputer', SimpleImputer()),\n",
    "    ('scaler', StandardScaler()),\n",
    "    ('rounder', rounder)])\n",
    "\n",
    "cat_transformer = Pipeline([\n",
    "    ('cat_imputer',SimpleImputer(strategy = 'most_frequent')),\n",
    "    ('cat_encoder',OneHotEncoder(handle_unknown='ignore', sparse_output=False))\n",
    "     ])\n",
    "\n",
    "preprocessor = ColumnTransformer([\n",
    "    ('num_transformer', num_transformer, X_train.select_dtypes(include=np.number).columns),\n",
    "    ('cat_transformer', cat_transformer, ['state', 'type'])\n",
    "])\n",
    "\n",
    "preprocessor.fit_transform(X_train)"
   ]
  },
  {
   "cell_type": "code",
   "execution_count": 30,
   "id": "a9cb5e1c-2dae-4f62-88bd-57c469f07f6d",
   "metadata": {
    "slideshow": {
     "slide_type": "subslide"
    }
   },
   "outputs": [
    {
     "data": {
      "text/html": [
       "<style>#sk-container-id-6 {color: black;}#sk-container-id-6 pre{padding: 0;}#sk-container-id-6 div.sk-toggleable {background-color: white;}#sk-container-id-6 label.sk-toggleable__label {cursor: pointer;display: block;width: 100%;margin-bottom: 0;padding: 0.3em;box-sizing: border-box;text-align: center;}#sk-container-id-6 label.sk-toggleable__label-arrow:before {content: \"▸\";float: left;margin-right: 0.25em;color: #696969;}#sk-container-id-6 label.sk-toggleable__label-arrow:hover:before {color: black;}#sk-container-id-6 div.sk-estimator:hover label.sk-toggleable__label-arrow:before {color: black;}#sk-container-id-6 div.sk-toggleable__content {max-height: 0;max-width: 0;overflow: hidden;text-align: left;background-color: #f0f8ff;}#sk-container-id-6 div.sk-toggleable__content pre {margin: 0.2em;color: black;border-radius: 0.25em;background-color: #f0f8ff;}#sk-container-id-6 input.sk-toggleable__control:checked~div.sk-toggleable__content {max-height: 200px;max-width: 100%;overflow: auto;}#sk-container-id-6 input.sk-toggleable__control:checked~label.sk-toggleable__label-arrow:before {content: \"▾\";}#sk-container-id-6 div.sk-estimator input.sk-toggleable__control:checked~label.sk-toggleable__label {background-color: #d4ebff;}#sk-container-id-6 div.sk-label input.sk-toggleable__control:checked~label.sk-toggleable__label {background-color: #d4ebff;}#sk-container-id-6 input.sk-hidden--visually {border: 0;clip: rect(1px 1px 1px 1px);clip: rect(1px, 1px, 1px, 1px);height: 1px;margin: -1px;overflow: hidden;padding: 0;position: absolute;width: 1px;}#sk-container-id-6 div.sk-estimator {font-family: monospace;background-color: #f0f8ff;border: 1px dotted black;border-radius: 0.25em;box-sizing: border-box;margin-bottom: 0.5em;}#sk-container-id-6 div.sk-estimator:hover {background-color: #d4ebff;}#sk-container-id-6 div.sk-parallel-item::after {content: \"\";width: 100%;border-bottom: 1px solid gray;flex-grow: 1;}#sk-container-id-6 div.sk-label:hover label.sk-toggleable__label {background-color: #d4ebff;}#sk-container-id-6 div.sk-serial::before {content: \"\";position: absolute;border-left: 1px solid gray;box-sizing: border-box;top: 0;bottom: 0;left: 50%;z-index: 0;}#sk-container-id-6 div.sk-serial {display: flex;flex-direction: column;align-items: center;background-color: white;padding-right: 0.2em;padding-left: 0.2em;position: relative;}#sk-container-id-6 div.sk-item {position: relative;z-index: 1;}#sk-container-id-6 div.sk-parallel {display: flex;align-items: stretch;justify-content: center;background-color: white;position: relative;}#sk-container-id-6 div.sk-item::before, #sk-container-id-6 div.sk-parallel-item::before {content: \"\";position: absolute;border-left: 1px solid gray;box-sizing: border-box;top: 0;bottom: 0;left: 50%;z-index: -1;}#sk-container-id-6 div.sk-parallel-item {display: flex;flex-direction: column;z-index: 1;position: relative;background-color: white;}#sk-container-id-6 div.sk-parallel-item:first-child::after {align-self: flex-end;width: 50%;}#sk-container-id-6 div.sk-parallel-item:last-child::after {align-self: flex-start;width: 50%;}#sk-container-id-6 div.sk-parallel-item:only-child::after {width: 0;}#sk-container-id-6 div.sk-dashed-wrapped {border: 1px dashed gray;margin: 0 0.4em 0.5em 0.4em;box-sizing: border-box;padding-bottom: 0.4em;background-color: white;}#sk-container-id-6 div.sk-label label {font-family: monospace;font-weight: bold;display: inline-block;line-height: 1.2em;}#sk-container-id-6 div.sk-label-container {text-align: center;}#sk-container-id-6 div.sk-container {/* jupyter's `normalize.less` sets `[hidden] { display: none; }` but bootstrap.min.css set `[hidden] { display: none !important; }` so we also need the `!important` here to be able to override the default hidden behavior on the sphinx rendered scikit-learn.org. See: https://github.com/scikit-learn/scikit-learn/issues/21755 */display: inline-block !important;position: relative;}#sk-container-id-6 div.sk-text-repr-fallback {display: none;}</style><div id=\"sk-container-id-6\" class=\"sk-top-container\"><div class=\"sk-text-repr-fallback\"><pre>ColumnTransformer(transformers=[(&#x27;num_transformer&#x27;,\n",
       "                                 Pipeline(steps=[(&#x27;imputer&#x27;, SimpleImputer()),\n",
       "                                                 (&#x27;scaler&#x27;, StandardScaler()),\n",
       "                                                 (&#x27;rounder&#x27;,\n",
       "                                                  FunctionTransformer(func=&lt;function round at 0x106de05f0&gt;))]),\n",
       "                                 Index([&#x27;so2&#x27;, &#x27;no2&#x27;, &#x27;rainfall&#x27;], dtype=&#x27;object&#x27;)),\n",
       "                                (&#x27;cat_transformer&#x27;,\n",
       "                                 Pipeline(steps=[(&#x27;cat_imputer&#x27;,\n",
       "                                                  SimpleImputer(strategy=&#x27;most_frequent&#x27;)),\n",
       "                                                 (&#x27;cat_encoder&#x27;,\n",
       "                                                  OneHotEncoder(handle_unknown=&#x27;ignore&#x27;,\n",
       "                                                                sparse_output=False))]),\n",
       "                                 [&#x27;state&#x27;, &#x27;type&#x27;])])</pre><b>In a Jupyter environment, please rerun this cell to show the HTML representation or trust the notebook. <br />On GitHub, the HTML representation is unable to render, please try loading this page with nbviewer.org.</b></div><div class=\"sk-container\" hidden><div class=\"sk-item sk-dashed-wrapped\"><div class=\"sk-label-container\"><div class=\"sk-label sk-toggleable\"><input class=\"sk-toggleable__control sk-hidden--visually\" id=\"sk-estimator-id-25\" type=\"checkbox\" ><label for=\"sk-estimator-id-25\" class=\"sk-toggleable__label sk-toggleable__label-arrow\">ColumnTransformer</label><div class=\"sk-toggleable__content\"><pre>ColumnTransformer(transformers=[(&#x27;num_transformer&#x27;,\n",
       "                                 Pipeline(steps=[(&#x27;imputer&#x27;, SimpleImputer()),\n",
       "                                                 (&#x27;scaler&#x27;, StandardScaler()),\n",
       "                                                 (&#x27;rounder&#x27;,\n",
       "                                                  FunctionTransformer(func=&lt;function round at 0x106de05f0&gt;))]),\n",
       "                                 Index([&#x27;so2&#x27;, &#x27;no2&#x27;, &#x27;rainfall&#x27;], dtype=&#x27;object&#x27;)),\n",
       "                                (&#x27;cat_transformer&#x27;,\n",
       "                                 Pipeline(steps=[(&#x27;cat_imputer&#x27;,\n",
       "                                                  SimpleImputer(strategy=&#x27;most_frequent&#x27;)),\n",
       "                                                 (&#x27;cat_encoder&#x27;,\n",
       "                                                  OneHotEncoder(handle_unknown=&#x27;ignore&#x27;,\n",
       "                                                                sparse_output=False))]),\n",
       "                                 [&#x27;state&#x27;, &#x27;type&#x27;])])</pre></div></div></div><div class=\"sk-parallel\"><div class=\"sk-parallel-item\"><div class=\"sk-item\"><div class=\"sk-label-container\"><div class=\"sk-label sk-toggleable\"><input class=\"sk-toggleable__control sk-hidden--visually\" id=\"sk-estimator-id-26\" type=\"checkbox\" ><label for=\"sk-estimator-id-26\" class=\"sk-toggleable__label sk-toggleable__label-arrow\">num_transformer</label><div class=\"sk-toggleable__content\"><pre>Index([&#x27;so2&#x27;, &#x27;no2&#x27;, &#x27;rainfall&#x27;], dtype=&#x27;object&#x27;)</pre></div></div></div><div class=\"sk-serial\"><div class=\"sk-item\"><div class=\"sk-serial\"><div class=\"sk-item\"><div class=\"sk-estimator sk-toggleable\"><input class=\"sk-toggleable__control sk-hidden--visually\" id=\"sk-estimator-id-27\" type=\"checkbox\" ><label for=\"sk-estimator-id-27\" class=\"sk-toggleable__label sk-toggleable__label-arrow\">SimpleImputer</label><div class=\"sk-toggleable__content\"><pre>SimpleImputer()</pre></div></div></div><div class=\"sk-item\"><div class=\"sk-estimator sk-toggleable\"><input class=\"sk-toggleable__control sk-hidden--visually\" id=\"sk-estimator-id-28\" type=\"checkbox\" ><label for=\"sk-estimator-id-28\" class=\"sk-toggleable__label sk-toggleable__label-arrow\">StandardScaler</label><div class=\"sk-toggleable__content\"><pre>StandardScaler()</pre></div></div></div><div class=\"sk-item\"><div class=\"sk-estimator sk-toggleable\"><input class=\"sk-toggleable__control sk-hidden--visually\" id=\"sk-estimator-id-29\" type=\"checkbox\" ><label for=\"sk-estimator-id-29\" class=\"sk-toggleable__label sk-toggleable__label-arrow\">FunctionTransformer</label><div class=\"sk-toggleable__content\"><pre>FunctionTransformer(func=&lt;function round at 0x106de05f0&gt;)</pre></div></div></div></div></div></div></div></div><div class=\"sk-parallel-item\"><div class=\"sk-item\"><div class=\"sk-label-container\"><div class=\"sk-label sk-toggleable\"><input class=\"sk-toggleable__control sk-hidden--visually\" id=\"sk-estimator-id-30\" type=\"checkbox\" ><label for=\"sk-estimator-id-30\" class=\"sk-toggleable__label sk-toggleable__label-arrow\">cat_transformer</label><div class=\"sk-toggleable__content\"><pre>[&#x27;state&#x27;, &#x27;type&#x27;]</pre></div></div></div><div class=\"sk-serial\"><div class=\"sk-item\"><div class=\"sk-serial\"><div class=\"sk-item\"><div class=\"sk-estimator sk-toggleable\"><input class=\"sk-toggleable__control sk-hidden--visually\" id=\"sk-estimator-id-31\" type=\"checkbox\" ><label for=\"sk-estimator-id-31\" class=\"sk-toggleable__label sk-toggleable__label-arrow\">SimpleImputer</label><div class=\"sk-toggleable__content\"><pre>SimpleImputer(strategy=&#x27;most_frequent&#x27;)</pre></div></div></div><div class=\"sk-item\"><div class=\"sk-estimator sk-toggleable\"><input class=\"sk-toggleable__control sk-hidden--visually\" id=\"sk-estimator-id-32\" type=\"checkbox\" ><label for=\"sk-estimator-id-32\" class=\"sk-toggleable__label sk-toggleable__label-arrow\">OneHotEncoder</label><div class=\"sk-toggleable__content\"><pre>OneHotEncoder(handle_unknown=&#x27;ignore&#x27;, sparse_output=False)</pre></div></div></div></div></div></div></div></div></div></div></div></div>"
      ],
      "text/plain": [
       "ColumnTransformer(transformers=[('num_transformer',\n",
       "                                 Pipeline(steps=[('imputer', SimpleImputer()),\n",
       "                                                 ('scaler', StandardScaler()),\n",
       "                                                 ('rounder',\n",
       "                                                  FunctionTransformer(func=<function round at 0x106de05f0>))]),\n",
       "                                 Index(['so2', 'no2', 'rainfall'], dtype='object')),\n",
       "                                ('cat_transformer',\n",
       "                                 Pipeline(steps=[('cat_imputer',\n",
       "                                                  SimpleImputer(strategy='most_frequent')),\n",
       "                                                 ('cat_encoder',\n",
       "                                                  OneHotEncoder(handle_unknown='ignore',\n",
       "                                                                sparse_output=False))]),\n",
       "                                 ['state', 'type'])])"
      ]
     },
     "execution_count": 30,
     "metadata": {},
     "output_type": "execute_result"
    }
   ],
   "source": [
    "preprocessor"
   ]
  },
  {
   "cell_type": "markdown",
   "id": "64ff4df0-3790-4ca2-8283-59a167a3b752",
   "metadata": {
    "slideshow": {
     "slide_type": "subslide"
    }
   },
   "source": [
    "\n",
    "<p>⚠️ <code>FunctionTransformer</code> only works for <strong>stateless</strong> transformations</p>\n",
    "<ul>\n",
    "<li>It cannot \"store\" information on a <code>fit</code> (for instance on a train set)</li>\n",
    "<li>In order to apply it back later on a <code>transform</code> (for instance on the test set)</li>\n",
    "</ul>\n",
    "<p>✅ stateless transformations</p>\n",
    "<p><span class=\"MathJax_Preview\" style=\"color: inherit;\"></span><span class=\"mjx-chtml MathJax_CHTML\" data-mathml='&lt;math xmlns=\"http://www.w3.org/1998/Math/MathML\"&gt;&lt;mi&gt;X&lt;/mi&gt;&lt;/math&gt;' id=\"MathJax-Element-3-Frame\" role=\"presentation\" style=\"font-size: 116%; position: relative;\" tabindex=\"0\"><span aria-hidden=\"true\" class=\"mjx-math\" id=\"MJXc-Node-7\"><span class=\"mjx-mrow\" id=\"MJXc-Node-8\"><span class=\"mjx-mi\" id=\"MJXc-Node-9\"><span class=\"mjx-char MJXc-TeX-math-I\" style=\"padding-top: 0.434em; padding-bottom: 0.249em; padding-right: 0.024em;\">X</span></span></span></span><span class=\"MJX_Assistive_MathML\" role=\"presentation\"><math xmlns=\"http://www.w3.org/1998/Math/MathML\"><mi>X</mi></math></span></span><script id=\"MathJax-Element-3\" type=\"math/tex\">X</script> --&gt; <span class=\"MathJax_Preview\" style=\"color: inherit;\"></span><span class=\"mjx-chtml MathJax_CHTML\" data-mathml='&lt;math xmlns=\"http://www.w3.org/1998/Math/MathML\"&gt;&lt;mi&gt;l&lt;/mi&gt;&lt;mi&gt;o&lt;/mi&gt;&lt;mi&gt;g&lt;/mi&gt;&lt;mo stretchy=\"false\"&gt;(&lt;/mo&gt;&lt;mi&gt;X&lt;/mi&gt;&lt;mo stretchy=\"false\"&gt;)&lt;/mo&gt;&lt;/math&gt;' id=\"MathJax-Element-4-Frame\" role=\"presentation\" style=\"font-size: 116%; position: relative;\" tabindex=\"0\"><span aria-hidden=\"true\" class=\"mjx-math\" id=\"MJXc-Node-10\"><span class=\"mjx-mrow\" id=\"MJXc-Node-11\"><span class=\"mjx-mi\" id=\"MJXc-Node-12\"><span class=\"mjx-char MJXc-TeX-math-I\" style=\"padding-top: 0.496em; padding-bottom: 0.311em;\">l</span></span><span class=\"mjx-mi\" id=\"MJXc-Node-13\"><span class=\"mjx-char MJXc-TeX-math-I\" style=\"padding-top: 0.249em; padding-bottom: 0.311em;\">o</span></span><span class=\"mjx-mi\" id=\"MJXc-Node-14\"><span class=\"mjx-char MJXc-TeX-math-I\" style=\"padding-top: 0.249em; padding-bottom: 0.496em; padding-right: 0.003em;\">g</span></span><span class=\"mjx-mo\" id=\"MJXc-Node-15\"><span class=\"mjx-char MJXc-TeX-main-R\" style=\"padding-top: 0.434em; padding-bottom: 0.619em;\">(</span></span><span class=\"mjx-mi\" id=\"MJXc-Node-16\"><span class=\"mjx-char MJXc-TeX-math-I\" style=\"padding-top: 0.434em; padding-bottom: 0.249em; padding-right: 0.024em;\">X</span></span><span class=\"mjx-mo\" id=\"MJXc-Node-17\"><span class=\"mjx-char MJXc-TeX-main-R\" style=\"padding-top: 0.434em; padding-bottom: 0.619em;\">)</span></span></span></span><span class=\"MJX_Assistive_MathML\" role=\"presentation\"><math xmlns=\"http://www.w3.org/1998/Math/MathML\"><mi>l</mi><mi>o</mi><mi>g</mi><mo stretchy=\"false\">(</mo><mi>X</mi><mo stretchy=\"false\">)</mo></math></span></span><script id=\"MathJax-Element-4\" type=\"math/tex\">log(X)</script><br/>\n",
    "<span class=\"MathJax_Preview\" style=\"color: inherit;\"></span><span class=\"mjx-chtml MathJax_CHTML\" data-mathml='&lt;math xmlns=\"http://www.w3.org/1998/Math/MathML\"&gt;&lt;mo stretchy=\"false\"&gt;(&lt;/mo&gt;&lt;msub&gt;&lt;mi&gt;X&lt;/mi&gt;&lt;mn&gt;1&lt;/mn&gt;&lt;/msub&gt;&lt;mo&gt;,&lt;/mo&gt;&lt;msub&gt;&lt;mi&gt;X&lt;/mi&gt;&lt;mn&gt;2&lt;/mn&gt;&lt;/msub&gt;&lt;mo stretchy=\"false\"&gt;)&lt;/mo&gt;&lt;/math&gt;' id=\"MathJax-Element-5-Frame\" role=\"presentation\" style=\"font-size: 116%; position: relative;\" tabindex=\"0\"><span aria-hidden=\"true\" class=\"mjx-math\" id=\"MJXc-Node-18\"><span class=\"mjx-mrow\" id=\"MJXc-Node-19\"><span class=\"mjx-mo\" id=\"MJXc-Node-20\"><span class=\"mjx-char MJXc-TeX-main-R\" style=\"padding-top: 0.434em; padding-bottom: 0.619em;\">(</span></span><span class=\"mjx-msubsup\" id=\"MJXc-Node-21\"><span class=\"mjx-base\" style=\"margin-right: -0.024em;\"><span class=\"mjx-mi\" id=\"MJXc-Node-22\"><span class=\"mjx-char MJXc-TeX-math-I\" style=\"padding-top: 0.434em; padding-bottom: 0.249em; padding-right: 0.024em;\">X</span></span></span><span class=\"mjx-sub\" style=\"font-size: 70.7%; vertical-align: -0.212em; padding-right: 0.071em;\"><span class=\"mjx-mn\" id=\"MJXc-Node-23\" style=\"\"><span class=\"mjx-char MJXc-TeX-main-R\" style=\"padding-top: 0.373em; padding-bottom: 0.373em;\">1</span></span></span></span><span class=\"mjx-mo\" id=\"MJXc-Node-24\"><span class=\"mjx-char MJXc-TeX-main-R\" style=\"margin-top: -0.182em; padding-bottom: 0.557em;\">,</span></span><span class=\"mjx-msubsup MJXc-space1\" id=\"MJXc-Node-25\"><span class=\"mjx-base\" style=\"margin-right: -0.024em;\"><span class=\"mjx-mi\" id=\"MJXc-Node-26\"><span class=\"mjx-char MJXc-TeX-math-I\" style=\"padding-top: 0.434em; padding-bottom: 0.249em; padding-right: 0.024em;\">X</span></span></span><span class=\"mjx-sub\" style=\"font-size: 70.7%; vertical-align: -0.212em; padding-right: 0.071em;\"><span class=\"mjx-mn\" id=\"MJXc-Node-27\" style=\"\"><span class=\"mjx-char MJXc-TeX-main-R\" style=\"padding-top: 0.373em; padding-bottom: 0.373em;\">2</span></span></span></span><span class=\"mjx-mo\" id=\"MJXc-Node-28\"><span class=\"mjx-char MJXc-TeX-main-R\" style=\"padding-top: 0.434em; padding-bottom: 0.619em;\">)</span></span></span></span><span class=\"MJX_Assistive_MathML\" role=\"presentation\"><math xmlns=\"http://www.w3.org/1998/Math/MathML\"><mo stretchy=\"false\">(</mo><msub><mi>X</mi><mn>1</mn></msub><mo>,</mo><msub><mi>X</mi><mn>2</mn></msub><mo stretchy=\"false\">)</mo></math></span></span><script id=\"MathJax-Element-5\" type=\"math/tex\">(X_1, X_2)</script> --&gt; <span class=\"MathJax_Preview\" style=\"color: inherit;\"></span><span class=\"mjx-chtml MathJax_CHTML\" data-mathml='&lt;math xmlns=\"http://www.w3.org/1998/Math/MathML\"&gt;&lt;msub&gt;&lt;mi&gt;X&lt;/mi&gt;&lt;mn&gt;1&lt;/mn&gt;&lt;/msub&gt;&lt;mo&gt;+&lt;/mo&gt;&lt;mn&gt;5&lt;/mn&gt;&lt;msub&gt;&lt;mi&gt;X&lt;/mi&gt;&lt;mn&gt;2&lt;/mn&gt;&lt;/msub&gt;&lt;/math&gt;' id=\"MathJax-Element-6-Frame\" role=\"presentation\" style=\"font-size: 116%; position: relative;\" tabindex=\"0\"><span aria-hidden=\"true\" class=\"mjx-math\" id=\"MJXc-Node-29\"><span class=\"mjx-mrow\" id=\"MJXc-Node-30\"><span class=\"mjx-msubsup\" id=\"MJXc-Node-31\"><span class=\"mjx-base\" style=\"margin-right: -0.024em;\"><span class=\"mjx-mi\" id=\"MJXc-Node-32\"><span class=\"mjx-char MJXc-TeX-math-I\" style=\"padding-top: 0.434em; padding-bottom: 0.249em; padding-right: 0.024em;\">X</span></span></span><span class=\"mjx-sub\" style=\"font-size: 70.7%; vertical-align: -0.212em; padding-right: 0.071em;\"><span class=\"mjx-mn\" id=\"MJXc-Node-33\" style=\"\"><span class=\"mjx-char MJXc-TeX-main-R\" style=\"padding-top: 0.373em; padding-bottom: 0.373em;\">1</span></span></span></span><span class=\"mjx-mo MJXc-space2\" id=\"MJXc-Node-34\"><span class=\"mjx-char MJXc-TeX-main-R\" style=\"padding-top: 0.311em; padding-bottom: 0.434em;\">+</span></span><span class=\"mjx-mn MJXc-space2\" id=\"MJXc-Node-35\"><span class=\"mjx-char MJXc-TeX-main-R\" style=\"padding-top: 0.373em; padding-bottom: 0.373em;\">5</span></span><span class=\"mjx-msubsup\" id=\"MJXc-Node-36\"><span class=\"mjx-base\" style=\"margin-right: -0.024em;\"><span class=\"mjx-mi\" id=\"MJXc-Node-37\"><span class=\"mjx-char MJXc-TeX-math-I\" style=\"padding-top: 0.434em; padding-bottom: 0.249em; padding-right: 0.024em;\">X</span></span></span><span class=\"mjx-sub\" style=\"font-size: 70.7%; vertical-align: -0.212em; padding-right: 0.071em;\"><span class=\"mjx-mn\" id=\"MJXc-Node-38\" style=\"\"><span class=\"mjx-char MJXc-TeX-main-R\" style=\"padding-top: 0.373em; padding-bottom: 0.373em;\">2</span></span></span></span></span></span><span class=\"MJX_Assistive_MathML\" role=\"presentation\"><math xmlns=\"http://www.w3.org/1998/Math/MathML\"><msub><mi>X</mi><mn>1</mn></msub><mo>+</mo><mn>5</mn><msub><mi>X</mi><mn>2</mn></msub></math></span></span><script id=\"MathJax-Element-6\" type=\"math/tex\">X_1 + 5X_2</script></p>\n",
    "<p>❌ Memory-dependent transformation</p>\n",
    "<p><span class=\"MathJax_Preview\" style=\"color: inherit;\"></span><span class=\"mjx-chtml MathJax_CHTML\" data-mathml='&lt;math xmlns=\"http://www.w3.org/1998/Math/MathML\"&gt;&lt;mi&gt;X&lt;/mi&gt;&lt;/math&gt;' id=\"MathJax-Element-7-Frame\" role=\"presentation\" style=\"font-size: 116%; position: relative;\" tabindex=\"0\"><span aria-hidden=\"true\" class=\"mjx-math\" id=\"MJXc-Node-39\"><span class=\"mjx-mrow\" id=\"MJXc-Node-40\"><span class=\"mjx-mi\" id=\"MJXc-Node-41\"><span class=\"mjx-char MJXc-TeX-math-I\" style=\"padding-top: 0.434em; padding-bottom: 0.249em; padding-right: 0.024em;\">X</span></span></span></span><span class=\"MJX_Assistive_MathML\" role=\"presentation\"><math xmlns=\"http://www.w3.org/1998/Math/MathML\"><mi>X</mi></math></span></span><script id=\"MathJax-Element-7\" type=\"math/tex\">X</script> --&gt; <span class=\"MathJax_Preview\" style=\"color: inherit;\"></span><span class=\"mjx-chtml MathJax_CHTML\" data-mathml='&lt;math xmlns=\"http://www.w3.org/1998/Math/MathML\"&gt;&lt;mi&gt;S&lt;/mi&gt;&lt;mi&gt;t&lt;/mi&gt;&lt;mi&gt;a&lt;/mi&gt;&lt;mi&gt;n&lt;/mi&gt;&lt;mi&gt;d&lt;/mi&gt;&lt;mi&gt;a&lt;/mi&gt;&lt;mi&gt;r&lt;/mi&gt;&lt;mi&gt;d&lt;/mi&gt;&lt;mi&gt;S&lt;/mi&gt;&lt;mi&gt;c&lt;/mi&gt;&lt;mi&gt;a&lt;/mi&gt;&lt;mi&gt;l&lt;/mi&gt;&lt;mi&gt;e&lt;/mi&gt;&lt;mi&gt;r&lt;/mi&gt;&lt;mo stretchy=\"false\"&gt;(&lt;/mo&gt;&lt;mi&gt;X&lt;/mi&gt;&lt;mo stretchy=\"false\"&gt;)&lt;/mo&gt;&lt;/math&gt;' id=\"MathJax-Element-8-Frame\" role=\"presentation\" style=\"font-size: 116%; position: relative;\" tabindex=\"0\"><span aria-hidden=\"true\" class=\"mjx-math\" id=\"MJXc-Node-42\"><span class=\"mjx-mrow\" id=\"MJXc-Node-43\"><span class=\"mjx-mi\" id=\"MJXc-Node-44\"><span class=\"mjx-char MJXc-TeX-math-I\" style=\"padding-top: 0.496em; padding-bottom: 0.311em; padding-right: 0.032em;\">S</span></span><span class=\"mjx-mi\" id=\"MJXc-Node-45\"><span class=\"mjx-char MJXc-TeX-math-I\" style=\"padding-top: 0.434em; padding-bottom: 0.311em;\">t</span></span><span class=\"mjx-mi\" id=\"MJXc-Node-46\"><span class=\"mjx-char MJXc-TeX-math-I\" style=\"padding-top: 0.249em; padding-bottom: 0.311em;\">a</span></span><span class=\"mjx-mi\" id=\"MJXc-Node-47\"><span class=\"mjx-char MJXc-TeX-math-I\" style=\"padding-top: 0.249em; padding-bottom: 0.311em;\">n</span></span><span class=\"mjx-mi\" id=\"MJXc-Node-48\"><span class=\"mjx-char MJXc-TeX-math-I\" style=\"padding-top: 0.496em; padding-bottom: 0.311em; padding-right: 0.003em;\">d</span></span><span class=\"mjx-mi\" id=\"MJXc-Node-49\"><span class=\"mjx-char MJXc-TeX-math-I\" style=\"padding-top: 0.249em; padding-bottom: 0.311em;\">a</span></span><span class=\"mjx-mi\" id=\"MJXc-Node-50\"><span class=\"mjx-char MJXc-TeX-math-I\" style=\"padding-top: 0.249em; padding-bottom: 0.311em;\">r</span></span><span class=\"mjx-mi\" id=\"MJXc-Node-51\"><span class=\"mjx-char MJXc-TeX-math-I\" style=\"padding-top: 0.496em; padding-bottom: 0.311em; padding-right: 0.003em;\">d</span></span><span class=\"mjx-mi\" id=\"MJXc-Node-52\"><span class=\"mjx-char MJXc-TeX-math-I\" style=\"padding-top: 0.496em; padding-bottom: 0.311em; padding-right: 0.032em;\">S</span></span><span class=\"mjx-mi\" id=\"MJXc-Node-53\"><span class=\"mjx-char MJXc-TeX-math-I\" style=\"padding-top: 0.249em; padding-bottom: 0.311em;\">c</span></span><span class=\"mjx-mi\" id=\"MJXc-Node-54\"><span class=\"mjx-char MJXc-TeX-math-I\" style=\"padding-top: 0.249em; padding-bottom: 0.311em;\">a</span></span><span class=\"mjx-mi\" id=\"MJXc-Node-55\"><span class=\"mjx-char MJXc-TeX-math-I\" style=\"padding-top: 0.496em; padding-bottom: 0.311em;\">l</span></span><span class=\"mjx-mi\" id=\"MJXc-Node-56\"><span class=\"mjx-char MJXc-TeX-math-I\" style=\"padding-top: 0.249em; padding-bottom: 0.311em;\">e</span></span><span class=\"mjx-mi\" id=\"MJXc-Node-57\"><span class=\"mjx-char MJXc-TeX-math-I\" style=\"padding-top: 0.249em; padding-bottom: 0.311em;\">r</span></span><span class=\"mjx-mo\" id=\"MJXc-Node-58\"><span class=\"mjx-char MJXc-TeX-main-R\" style=\"padding-top: 0.434em; padding-bottom: 0.619em;\">(</span></span><span class=\"mjx-mi\" id=\"MJXc-Node-59\"><span class=\"mjx-char MJXc-TeX-math-I\" style=\"padding-top: 0.434em; padding-bottom: 0.249em; padding-right: 0.024em;\">X</span></span><span class=\"mjx-mo\" id=\"MJXc-Node-60\"><span class=\"mjx-char MJXc-TeX-main-R\" style=\"padding-top: 0.434em; padding-bottom: 0.619em;\">)</span></span></span></span><span class=\"MJX_Assistive_MathML\" role=\"presentation\"><math xmlns=\"http://www.w3.org/1998/Math/MathML\"><mi>S</mi><mi>t</mi><mi>a</mi><mi>n</mi><mi>d</mi><mi>a</mi><mi>r</mi><mi>d</mi><mi>S</mi><mi>c</mi><mi>a</mi><mi>l</mi><mi>e</mi><mi>r</mi><mo stretchy=\"false\">(</mo><mi>X</mi><mo stretchy=\"false\">)</mo></math></span></span><script id=\"MathJax-Element-8\" type=\"math/tex\">StandardScaler(X)</script></p>\n",
    "<p>☝️ For this, we will have to code our own <code>Class</code></p>\n"
   ]
  },
  {
   "cell_type": "markdown",
   "id": "f8188490-d310-4da3-a6e3-7aa6fb1680d2",
   "metadata": {
    "slideshow": {
     "slide_type": "subslide"
    }
   },
   "source": [
    "\n",
    "<h3 id=\"Custom-transformer-(advanced)\">Custom transformer (advanced)<a class=\"anchor-link\" href=\"https://kitt.lewagon.com/karr/data-lectures.kitt/05-ML_08-Workflow.html?title=Workflow&amp;program_id=10#Custom-transformer-(advanced)\">¶</a></h3><ul>\n",
    "<li>To memorize variables (e.g. column mean etc...) during the <code>.fit()</code></li>\n",
    "<li>To reuse later these variables with <code>.transform()</code> on a different dataset</li>\n",
    "<li>Must create a Class with both methods and storing memory as <em>instance variables</em></li>\n",
    "</ul>\n"
   ]
  },
  {
   "cell_type": "markdown",
   "id": "79ebd2f8-987a-4ab6-a9b8-1148b7427040",
   "metadata": {
    "slideshow": {
     "slide_type": "subslide"
    }
   },
   "source": [
    "\n",
    "<p>✏️ Let's code a <code>CustomScaler(shrink_factor=3)</code> that center data around its mean, and shrink it by a <em>fixed</em> factor</p>\n",
    "<ul>\n",
    "<li>we will only <code>fit</code> it on the <code>X_train</code></li>\n",
    "<li>we will use it to <code>transform</code> the <code>X_test</code></li>\n",
    "</ul>\n"
   ]
  },
  {
   "cell_type": "code",
   "execution_count": 25,
   "id": "04ba794e-1721-4728-9e31-18dbcb70e5c7",
   "metadata": {
    "editable": true,
    "slideshow": {
     "slide_type": "subslide"
    },
    "tags": []
   },
   "outputs": [],
   "source": [
    "\n",
    "from sklearn.base import TransformerMixin, BaseEstimator\n",
    "\n",
    "class CustomScaler(TransformerMixin, BaseEstimator): \n",
    "# TransformerMixin generates a fit_transform method from fit and transform\n",
    "# BaseEstimator generates get_params and set_params methods\n",
    "\n",
    "    def __init__(self, shrink_factor=3):\n",
    "        self.shrink_factor = shrink_factor\n",
    "\n",
    "    def fit(self, X, y=None):\n",
    "        self.means = X.mean()\n",
    "        return self\n",
    "\n",
    "    def transform(self, X, y=None):\n",
    "        X_transformed = (X - self.means) / self.shrink_factor\n",
    "        # Return result as dataframe for integration into ColumnTransformer\n",
    "        return X_transformed\n",
    "\n"
   ]
  },
  {
   "cell_type": "code",
   "execution_count": 27,
   "id": "15abcf05-b634-4c95-9942-42217a3a3ac1",
   "metadata": {
    "slideshow": {
     "slide_type": "subslide"
    }
   },
   "outputs": [
    {
     "data": {
      "text/html": [
       "<div>\n",
       "<style scoped>\n",
       "    .dataframe tbody tr th:only-of-type {\n",
       "        vertical-align: middle;\n",
       "    }\n",
       "\n",
       "    .dataframe tbody tr th {\n",
       "        vertical-align: top;\n",
       "    }\n",
       "\n",
       "    .dataframe thead th {\n",
       "        text-align: right;\n",
       "    }\n",
       "</style>\n",
       "<table border=\"1\" class=\"dataframe\">\n",
       "  <thead>\n",
       "    <tr style=\"text-align: right;\">\n",
       "      <th></th>\n",
       "      <th>no2</th>\n",
       "      <th>rainfall</th>\n",
       "      <th>so2</th>\n",
       "    </tr>\n",
       "  </thead>\n",
       "  <tbody>\n",
       "    <tr>\n",
       "      <th>25679</th>\n",
       "      <td>0.82276</td>\n",
       "      <td>6.090122</td>\n",
       "      <td>0.920359</td>\n",
       "    </tr>\n",
       "    <tr>\n",
       "      <th>18215</th>\n",
       "      <td>-4.17724</td>\n",
       "      <td>1.213941</td>\n",
       "      <td>-1.746308</td>\n",
       "    </tr>\n",
       "    <tr>\n",
       "      <th>13730</th>\n",
       "      <td>-0.67724</td>\n",
       "      <td>-0.565268</td>\n",
       "      <td>1.287026</td>\n",
       "    </tr>\n",
       "    <tr>\n",
       "      <th>4319</th>\n",
       "      <td>-6.67724</td>\n",
       "      <td>0.558198</td>\n",
       "      <td>NaN</td>\n",
       "    </tr>\n",
       "    <tr>\n",
       "      <th>24151</th>\n",
       "      <td>-0.17724</td>\n",
       "      <td>-0.481491</td>\n",
       "      <td>0.587026</td>\n",
       "    </tr>\n",
       "  </tbody>\n",
       "</table>\n",
       "</div>"
      ],
      "text/plain": [
       "           no2  rainfall       so2\n",
       "25679  0.82276  6.090122  0.920359\n",
       "18215 -4.17724  1.213941 -1.746308\n",
       "13730 -0.67724 -0.565268  1.287026\n",
       "4319  -6.67724  0.558198       NaN\n",
       "24151 -0.17724 -0.481491  0.587026"
      ]
     },
     "execution_count": 27,
     "metadata": {},
     "output_type": "execute_result"
    }
   ],
   "source": [
    "\n",
    "# The CustomScaler can then be used like any other transformer!\n",
    "custom_scaler = CustomScaler(shrink_factor=3)\n",
    "custom_scaler.fit(X_train[['no2','rainfall','so2']])\n",
    "custom_scaler.transform(X_test[['no2','rainfall','so2']]).head()\n",
    "\n"
   ]
  },
  {
   "cell_type": "code",
   "execution_count": 28,
   "id": "4f7241a8",
   "metadata": {},
   "outputs": [
    {
     "data": {
      "text/plain": [
       "[('num_transformer',\n",
       "  Pipeline(steps=[('imputer', SimpleImputer()), ('scaler', StandardScaler()),\n",
       "                  ('rounder',\n",
       "                   FunctionTransformer(func=<function <lambda> at 0x17b649d00>))]),\n",
       "  Index(['so2', 'no2', 'rainfall'], dtype='object')),\n",
       " ('cat_transformer',\n",
       "  Pipeline(steps=[('cat_imputer', SimpleImputer(strategy='most_frequent')),\n",
       "                  ('cat_encoder',\n",
       "                   OneHotEncoder(handle_unknown='ignore', sparse_output=False))]),\n",
       "  ['state', 'type']),\n",
       " ('remainder', 'drop', [0, 2, 6])]"
      ]
     },
     "execution_count": 28,
     "metadata": {},
     "output_type": "execute_result"
    }
   ],
   "source": [
    "preprocessor.transformers_"
   ]
  },
  {
   "cell_type": "code",
   "execution_count": 29,
   "id": "4bfa2da1",
   "metadata": {},
   "outputs": [],
   "source": [
    "preprocessor.transformers_[2] = ('custom_scaler', CustomScaler(shrink_factor=3), X_train.select_dtypes(include=np.number))"
   ]
  },
  {
   "cell_type": "code",
   "execution_count": 30,
   "id": "ba240771",
   "metadata": {},
   "outputs": [
    {
     "data": {
      "text/html": [
       "<div>\n",
       "<style scoped>\n",
       "    .dataframe tbody tr th:only-of-type {\n",
       "        vertical-align: middle;\n",
       "    }\n",
       "\n",
       "    .dataframe tbody tr th {\n",
       "        vertical-align: top;\n",
       "    }\n",
       "\n",
       "    .dataframe thead th {\n",
       "        text-align: right;\n",
       "    }\n",
       "</style>\n",
       "<table border=\"1\" class=\"dataframe\">\n",
       "  <thead>\n",
       "    <tr style=\"text-align: right;\">\n",
       "      <th></th>\n",
       "      <th>num_transformer__so2</th>\n",
       "      <th>num_transformer__no2</th>\n",
       "      <th>num_transformer__rainfall</th>\n",
       "      <th>cat_transformer__state_Andhra Pradesh</th>\n",
       "      <th>cat_transformer__state_Arunachal Pradesh</th>\n",
       "      <th>cat_transformer__state_Assam</th>\n",
       "      <th>cat_transformer__state_Bihar</th>\n",
       "      <th>cat_transformer__state_Chandigarh</th>\n",
       "      <th>cat_transformer__state_Chhattisgarh</th>\n",
       "      <th>cat_transformer__state_Dadra &amp; Nagar Haveli</th>\n",
       "      <th>...</th>\n",
       "      <th>cat_transformer__state_Tamil Nadu</th>\n",
       "      <th>cat_transformer__state_Telangana</th>\n",
       "      <th>cat_transformer__state_Uttar Pradesh</th>\n",
       "      <th>cat_transformer__state_Uttarakhand</th>\n",
       "      <th>cat_transformer__state_Uttaranchal</th>\n",
       "      <th>cat_transformer__state_West Bengal</th>\n",
       "      <th>cat_transformer__type_Industrial</th>\n",
       "      <th>cat_transformer__type_Others</th>\n",
       "      <th>cat_transformer__type_Residential</th>\n",
       "      <th>cat_transformer__type_Sensitive</th>\n",
       "    </tr>\n",
       "  </thead>\n",
       "  <tbody>\n",
       "    <tr>\n",
       "      <th>19849</th>\n",
       "      <td>0.37</td>\n",
       "      <td>-0.31</td>\n",
       "      <td>1.12</td>\n",
       "      <td>0.0</td>\n",
       "      <td>0.0</td>\n",
       "      <td>0.0</td>\n",
       "      <td>0.0</td>\n",
       "      <td>0.0</td>\n",
       "      <td>0.0</td>\n",
       "      <td>0.0</td>\n",
       "      <td>...</td>\n",
       "      <td>0.0</td>\n",
       "      <td>0.0</td>\n",
       "      <td>0.0</td>\n",
       "      <td>0.0</td>\n",
       "      <td>0.0</td>\n",
       "      <td>0.0</td>\n",
       "      <td>0.0</td>\n",
       "      <td>0.0</td>\n",
       "      <td>1.0</td>\n",
       "      <td>0.0</td>\n",
       "    </tr>\n",
       "    <tr>\n",
       "      <th>7683</th>\n",
       "      <td>-0.90</td>\n",
       "      <td>-1.18</td>\n",
       "      <td>0.77</td>\n",
       "      <td>0.0</td>\n",
       "      <td>0.0</td>\n",
       "      <td>0.0</td>\n",
       "      <td>0.0</td>\n",
       "      <td>0.0</td>\n",
       "      <td>0.0</td>\n",
       "      <td>0.0</td>\n",
       "      <td>...</td>\n",
       "      <td>0.0</td>\n",
       "      <td>0.0</td>\n",
       "      <td>0.0</td>\n",
       "      <td>0.0</td>\n",
       "      <td>0.0</td>\n",
       "      <td>0.0</td>\n",
       "      <td>0.0</td>\n",
       "      <td>0.0</td>\n",
       "      <td>1.0</td>\n",
       "      <td>0.0</td>\n",
       "    </tr>\n",
       "    <tr>\n",
       "      <th>1909</th>\n",
       "      <td>4.87</td>\n",
       "      <td>1.85</td>\n",
       "      <td>0.35</td>\n",
       "      <td>0.0</td>\n",
       "      <td>0.0</td>\n",
       "      <td>0.0</td>\n",
       "      <td>0.0</td>\n",
       "      <td>0.0</td>\n",
       "      <td>0.0</td>\n",
       "      <td>0.0</td>\n",
       "      <td>...</td>\n",
       "      <td>0.0</td>\n",
       "      <td>0.0</td>\n",
       "      <td>0.0</td>\n",
       "      <td>0.0</td>\n",
       "      <td>0.0</td>\n",
       "      <td>0.0</td>\n",
       "      <td>0.0</td>\n",
       "      <td>0.0</td>\n",
       "      <td>1.0</td>\n",
       "      <td>0.0</td>\n",
       "    </tr>\n",
       "    <tr>\n",
       "      <th>27450</th>\n",
       "      <td>-0.66</td>\n",
       "      <td>-1.05</td>\n",
       "      <td>0.17</td>\n",
       "      <td>0.0</td>\n",
       "      <td>0.0</td>\n",
       "      <td>0.0</td>\n",
       "      <td>0.0</td>\n",
       "      <td>0.0</td>\n",
       "      <td>0.0</td>\n",
       "      <td>0.0</td>\n",
       "      <td>...</td>\n",
       "      <td>0.0</td>\n",
       "      <td>0.0</td>\n",
       "      <td>0.0</td>\n",
       "      <td>0.0</td>\n",
       "      <td>0.0</td>\n",
       "      <td>0.0</td>\n",
       "      <td>1.0</td>\n",
       "      <td>0.0</td>\n",
       "      <td>0.0</td>\n",
       "      <td>0.0</td>\n",
       "    </tr>\n",
       "    <tr>\n",
       "      <th>8266</th>\n",
       "      <td>-0.90</td>\n",
       "      <td>-0.53</td>\n",
       "      <td>-0.36</td>\n",
       "      <td>0.0</td>\n",
       "      <td>0.0</td>\n",
       "      <td>0.0</td>\n",
       "      <td>0.0</td>\n",
       "      <td>0.0</td>\n",
       "      <td>0.0</td>\n",
       "      <td>0.0</td>\n",
       "      <td>...</td>\n",
       "      <td>0.0</td>\n",
       "      <td>0.0</td>\n",
       "      <td>0.0</td>\n",
       "      <td>0.0</td>\n",
       "      <td>0.0</td>\n",
       "      <td>0.0</td>\n",
       "      <td>0.0</td>\n",
       "      <td>0.0</td>\n",
       "      <td>1.0</td>\n",
       "      <td>0.0</td>\n",
       "    </tr>\n",
       "    <tr>\n",
       "      <th>...</th>\n",
       "      <td>...</td>\n",
       "      <td>...</td>\n",
       "      <td>...</td>\n",
       "      <td>...</td>\n",
       "      <td>...</td>\n",
       "      <td>...</td>\n",
       "      <td>...</td>\n",
       "      <td>...</td>\n",
       "      <td>...</td>\n",
       "      <td>...</td>\n",
       "      <td>...</td>\n",
       "      <td>...</td>\n",
       "      <td>...</td>\n",
       "      <td>...</td>\n",
       "      <td>...</td>\n",
       "      <td>...</td>\n",
       "      <td>...</td>\n",
       "      <td>...</td>\n",
       "      <td>...</td>\n",
       "      <td>...</td>\n",
       "      <td>...</td>\n",
       "    </tr>\n",
       "    <tr>\n",
       "      <th>14912</th>\n",
       "      <td>-0.02</td>\n",
       "      <td>-0.47</td>\n",
       "      <td>1.21</td>\n",
       "      <td>0.0</td>\n",
       "      <td>0.0</td>\n",
       "      <td>0.0</td>\n",
       "      <td>0.0</td>\n",
       "      <td>0.0</td>\n",
       "      <td>1.0</td>\n",
       "      <td>0.0</td>\n",
       "      <td>...</td>\n",
       "      <td>0.0</td>\n",
       "      <td>0.0</td>\n",
       "      <td>0.0</td>\n",
       "      <td>0.0</td>\n",
       "      <td>0.0</td>\n",
       "      <td>0.0</td>\n",
       "      <td>0.0</td>\n",
       "      <td>0.0</td>\n",
       "      <td>1.0</td>\n",
       "      <td>0.0</td>\n",
       "    </tr>\n",
       "    <tr>\n",
       "      <th>18788</th>\n",
       "      <td>1.15</td>\n",
       "      <td>0.03</td>\n",
       "      <td>0.95</td>\n",
       "      <td>0.0</td>\n",
       "      <td>0.0</td>\n",
       "      <td>0.0</td>\n",
       "      <td>0.0</td>\n",
       "      <td>0.0</td>\n",
       "      <td>0.0</td>\n",
       "      <td>0.0</td>\n",
       "      <td>...</td>\n",
       "      <td>0.0</td>\n",
       "      <td>0.0</td>\n",
       "      <td>0.0</td>\n",
       "      <td>0.0</td>\n",
       "      <td>0.0</td>\n",
       "      <td>0.0</td>\n",
       "      <td>0.0</td>\n",
       "      <td>0.0</td>\n",
       "      <td>1.0</td>\n",
       "      <td>0.0</td>\n",
       "    </tr>\n",
       "    <tr>\n",
       "      <th>10756</th>\n",
       "      <td>-0.71</td>\n",
       "      <td>-0.36</td>\n",
       "      <td>0.64</td>\n",
       "      <td>1.0</td>\n",
       "      <td>0.0</td>\n",
       "      <td>0.0</td>\n",
       "      <td>0.0</td>\n",
       "      <td>0.0</td>\n",
       "      <td>0.0</td>\n",
       "      <td>0.0</td>\n",
       "      <td>...</td>\n",
       "      <td>0.0</td>\n",
       "      <td>0.0</td>\n",
       "      <td>0.0</td>\n",
       "      <td>0.0</td>\n",
       "      <td>0.0</td>\n",
       "      <td>0.0</td>\n",
       "      <td>0.0</td>\n",
       "      <td>0.0</td>\n",
       "      <td>1.0</td>\n",
       "      <td>0.0</td>\n",
       "    </tr>\n",
       "    <tr>\n",
       "      <th>25022</th>\n",
       "      <td>-0.07</td>\n",
       "      <td>0.18</td>\n",
       "      <td>1.52</td>\n",
       "      <td>0.0</td>\n",
       "      <td>0.0</td>\n",
       "      <td>0.0</td>\n",
       "      <td>0.0</td>\n",
       "      <td>0.0</td>\n",
       "      <td>0.0</td>\n",
       "      <td>0.0</td>\n",
       "      <td>...</td>\n",
       "      <td>0.0</td>\n",
       "      <td>0.0</td>\n",
       "      <td>1.0</td>\n",
       "      <td>0.0</td>\n",
       "      <td>0.0</td>\n",
       "      <td>0.0</td>\n",
       "      <td>0.0</td>\n",
       "      <td>1.0</td>\n",
       "      <td>0.0</td>\n",
       "      <td>0.0</td>\n",
       "    </tr>\n",
       "    <tr>\n",
       "      <th>2860</th>\n",
       "      <td>0.42</td>\n",
       "      <td>0.23</td>\n",
       "      <td>-0.24</td>\n",
       "      <td>0.0</td>\n",
       "      <td>0.0</td>\n",
       "      <td>0.0</td>\n",
       "      <td>0.0</td>\n",
       "      <td>0.0</td>\n",
       "      <td>0.0</td>\n",
       "      <td>0.0</td>\n",
       "      <td>...</td>\n",
       "      <td>0.0</td>\n",
       "      <td>0.0</td>\n",
       "      <td>0.0</td>\n",
       "      <td>0.0</td>\n",
       "      <td>0.0</td>\n",
       "      <td>0.0</td>\n",
       "      <td>0.0</td>\n",
       "      <td>0.0</td>\n",
       "      <td>1.0</td>\n",
       "      <td>0.0</td>\n",
       "    </tr>\n",
       "  </tbody>\n",
       "</table>\n",
       "<p>22296 rows × 40 columns</p>\n",
       "</div>"
      ],
      "text/plain": [
       "       num_transformer__so2  num_transformer__no2  num_transformer__rainfall  \\\n",
       "19849                  0.37                 -0.31                       1.12   \n",
       "7683                  -0.90                 -1.18                       0.77   \n",
       "1909                   4.87                  1.85                       0.35   \n",
       "27450                 -0.66                 -1.05                       0.17   \n",
       "8266                  -0.90                 -0.53                      -0.36   \n",
       "...                     ...                   ...                        ...   \n",
       "14912                 -0.02                 -0.47                       1.21   \n",
       "18788                  1.15                  0.03                       0.95   \n",
       "10756                 -0.71                 -0.36                       0.64   \n",
       "25022                 -0.07                  0.18                       1.52   \n",
       "2860                   0.42                  0.23                      -0.24   \n",
       "\n",
       "       cat_transformer__state_Andhra Pradesh  \\\n",
       "19849                                    0.0   \n",
       "7683                                     0.0   \n",
       "1909                                     0.0   \n",
       "27450                                    0.0   \n",
       "8266                                     0.0   \n",
       "...                                      ...   \n",
       "14912                                    0.0   \n",
       "18788                                    0.0   \n",
       "10756                                    1.0   \n",
       "25022                                    0.0   \n",
       "2860                                     0.0   \n",
       "\n",
       "       cat_transformer__state_Arunachal Pradesh  cat_transformer__state_Assam  \\\n",
       "19849                                       0.0                           0.0   \n",
       "7683                                        0.0                           0.0   \n",
       "1909                                        0.0                           0.0   \n",
       "27450                                       0.0                           0.0   \n",
       "8266                                        0.0                           0.0   \n",
       "...                                         ...                           ...   \n",
       "14912                                       0.0                           0.0   \n",
       "18788                                       0.0                           0.0   \n",
       "10756                                       0.0                           0.0   \n",
       "25022                                       0.0                           0.0   \n",
       "2860                                        0.0                           0.0   \n",
       "\n",
       "       cat_transformer__state_Bihar  cat_transformer__state_Chandigarh  \\\n",
       "19849                           0.0                                0.0   \n",
       "7683                            0.0                                0.0   \n",
       "1909                            0.0                                0.0   \n",
       "27450                           0.0                                0.0   \n",
       "8266                            0.0                                0.0   \n",
       "...                             ...                                ...   \n",
       "14912                           0.0                                0.0   \n",
       "18788                           0.0                                0.0   \n",
       "10756                           0.0                                0.0   \n",
       "25022                           0.0                                0.0   \n",
       "2860                            0.0                                0.0   \n",
       "\n",
       "       cat_transformer__state_Chhattisgarh  \\\n",
       "19849                                  0.0   \n",
       "7683                                   0.0   \n",
       "1909                                   0.0   \n",
       "27450                                  0.0   \n",
       "8266                                   0.0   \n",
       "...                                    ...   \n",
       "14912                                  1.0   \n",
       "18788                                  0.0   \n",
       "10756                                  0.0   \n",
       "25022                                  0.0   \n",
       "2860                                   0.0   \n",
       "\n",
       "       cat_transformer__state_Dadra & Nagar Haveli  ...  \\\n",
       "19849                                          0.0  ...   \n",
       "7683                                           0.0  ...   \n",
       "1909                                           0.0  ...   \n",
       "27450                                          0.0  ...   \n",
       "8266                                           0.0  ...   \n",
       "...                                            ...  ...   \n",
       "14912                                          0.0  ...   \n",
       "18788                                          0.0  ...   \n",
       "10756                                          0.0  ...   \n",
       "25022                                          0.0  ...   \n",
       "2860                                           0.0  ...   \n",
       "\n",
       "       cat_transformer__state_Tamil Nadu  cat_transformer__state_Telangana  \\\n",
       "19849                                0.0                               0.0   \n",
       "7683                                 0.0                               0.0   \n",
       "1909                                 0.0                               0.0   \n",
       "27450                                0.0                               0.0   \n",
       "8266                                 0.0                               0.0   \n",
       "...                                  ...                               ...   \n",
       "14912                                0.0                               0.0   \n",
       "18788                                0.0                               0.0   \n",
       "10756                                0.0                               0.0   \n",
       "25022                                0.0                               0.0   \n",
       "2860                                 0.0                               0.0   \n",
       "\n",
       "       cat_transformer__state_Uttar Pradesh  \\\n",
       "19849                                   0.0   \n",
       "7683                                    0.0   \n",
       "1909                                    0.0   \n",
       "27450                                   0.0   \n",
       "8266                                    0.0   \n",
       "...                                     ...   \n",
       "14912                                   0.0   \n",
       "18788                                   0.0   \n",
       "10756                                   0.0   \n",
       "25022                                   1.0   \n",
       "2860                                    0.0   \n",
       "\n",
       "       cat_transformer__state_Uttarakhand  cat_transformer__state_Uttaranchal  \\\n",
       "19849                                 0.0                                 0.0   \n",
       "7683                                  0.0                                 0.0   \n",
       "1909                                  0.0                                 0.0   \n",
       "27450                                 0.0                                 0.0   \n",
       "8266                                  0.0                                 0.0   \n",
       "...                                   ...                                 ...   \n",
       "14912                                 0.0                                 0.0   \n",
       "18788                                 0.0                                 0.0   \n",
       "10756                                 0.0                                 0.0   \n",
       "25022                                 0.0                                 0.0   \n",
       "2860                                  0.0                                 0.0   \n",
       "\n",
       "       cat_transformer__state_West Bengal  cat_transformer__type_Industrial  \\\n",
       "19849                                 0.0                               0.0   \n",
       "7683                                  0.0                               0.0   \n",
       "1909                                  0.0                               0.0   \n",
       "27450                                 0.0                               1.0   \n",
       "8266                                  0.0                               0.0   \n",
       "...                                   ...                               ...   \n",
       "14912                                 0.0                               0.0   \n",
       "18788                                 0.0                               0.0   \n",
       "10756                                 0.0                               0.0   \n",
       "25022                                 0.0                               0.0   \n",
       "2860                                  0.0                               0.0   \n",
       "\n",
       "       cat_transformer__type_Others  cat_transformer__type_Residential  \\\n",
       "19849                           0.0                                1.0   \n",
       "7683                            0.0                                1.0   \n",
       "1909                            0.0                                1.0   \n",
       "27450                           0.0                                0.0   \n",
       "8266                            0.0                                1.0   \n",
       "...                             ...                                ...   \n",
       "14912                           0.0                                1.0   \n",
       "18788                           0.0                                1.0   \n",
       "10756                           0.0                                1.0   \n",
       "25022                           1.0                                0.0   \n",
       "2860                            0.0                                1.0   \n",
       "\n",
       "       cat_transformer__type_Sensitive  \n",
       "19849                              0.0  \n",
       "7683                               0.0  \n",
       "1909                               0.0  \n",
       "27450                              0.0  \n",
       "8266                               0.0  \n",
       "...                                ...  \n",
       "14912                              0.0  \n",
       "18788                              0.0  \n",
       "10756                              0.0  \n",
       "25022                              0.0  \n",
       "2860                               0.0  \n",
       "\n",
       "[22296 rows x 40 columns]"
      ]
     },
     "execution_count": 30,
     "metadata": {},
     "output_type": "execute_result"
    }
   ],
   "source": [
    "preprocessor.fit_transform(X_train)"
   ]
  },
  {
   "cell_type": "code",
   "execution_count": 31,
   "id": "0e6ca8f6-18f0-4624-b391-4ec97c5e8c99",
   "metadata": {
    "slideshow": {
     "slide_type": "fragment"
    }
   },
   "outputs": [
    {
     "data": {
      "text/html": [
       "<style>#sk-container-id-7 {color: black;}#sk-container-id-7 pre{padding: 0;}#sk-container-id-7 div.sk-toggleable {background-color: white;}#sk-container-id-7 label.sk-toggleable__label {cursor: pointer;display: block;width: 100%;margin-bottom: 0;padding: 0.3em;box-sizing: border-box;text-align: center;}#sk-container-id-7 label.sk-toggleable__label-arrow:before {content: \"▸\";float: left;margin-right: 0.25em;color: #696969;}#sk-container-id-7 label.sk-toggleable__label-arrow:hover:before {color: black;}#sk-container-id-7 div.sk-estimator:hover label.sk-toggleable__label-arrow:before {color: black;}#sk-container-id-7 div.sk-toggleable__content {max-height: 0;max-width: 0;overflow: hidden;text-align: left;background-color: #f0f8ff;}#sk-container-id-7 div.sk-toggleable__content pre {margin: 0.2em;color: black;border-radius: 0.25em;background-color: #f0f8ff;}#sk-container-id-7 input.sk-toggleable__control:checked~div.sk-toggleable__content {max-height: 200px;max-width: 100%;overflow: auto;}#sk-container-id-7 input.sk-toggleable__control:checked~label.sk-toggleable__label-arrow:before {content: \"▾\";}#sk-container-id-7 div.sk-estimator input.sk-toggleable__control:checked~label.sk-toggleable__label {background-color: #d4ebff;}#sk-container-id-7 div.sk-label input.sk-toggleable__control:checked~label.sk-toggleable__label {background-color: #d4ebff;}#sk-container-id-7 input.sk-hidden--visually {border: 0;clip: rect(1px 1px 1px 1px);clip: rect(1px, 1px, 1px, 1px);height: 1px;margin: -1px;overflow: hidden;padding: 0;position: absolute;width: 1px;}#sk-container-id-7 div.sk-estimator {font-family: monospace;background-color: #f0f8ff;border: 1px dotted black;border-radius: 0.25em;box-sizing: border-box;margin-bottom: 0.5em;}#sk-container-id-7 div.sk-estimator:hover {background-color: #d4ebff;}#sk-container-id-7 div.sk-parallel-item::after {content: \"\";width: 100%;border-bottom: 1px solid gray;flex-grow: 1;}#sk-container-id-7 div.sk-label:hover label.sk-toggleable__label {background-color: #d4ebff;}#sk-container-id-7 div.sk-serial::before {content: \"\";position: absolute;border-left: 1px solid gray;box-sizing: border-box;top: 0;bottom: 0;left: 50%;z-index: 0;}#sk-container-id-7 div.sk-serial {display: flex;flex-direction: column;align-items: center;background-color: white;padding-right: 0.2em;padding-left: 0.2em;position: relative;}#sk-container-id-7 div.sk-item {position: relative;z-index: 1;}#sk-container-id-7 div.sk-parallel {display: flex;align-items: stretch;justify-content: center;background-color: white;position: relative;}#sk-container-id-7 div.sk-item::before, #sk-container-id-7 div.sk-parallel-item::before {content: \"\";position: absolute;border-left: 1px solid gray;box-sizing: border-box;top: 0;bottom: 0;left: 50%;z-index: -1;}#sk-container-id-7 div.sk-parallel-item {display: flex;flex-direction: column;z-index: 1;position: relative;background-color: white;}#sk-container-id-7 div.sk-parallel-item:first-child::after {align-self: flex-end;width: 50%;}#sk-container-id-7 div.sk-parallel-item:last-child::after {align-self: flex-start;width: 50%;}#sk-container-id-7 div.sk-parallel-item:only-child::after {width: 0;}#sk-container-id-7 div.sk-dashed-wrapped {border: 1px dashed gray;margin: 0 0.4em 0.5em 0.4em;box-sizing: border-box;padding-bottom: 0.4em;background-color: white;}#sk-container-id-7 div.sk-label label {font-family: monospace;font-weight: bold;display: inline-block;line-height: 1.2em;}#sk-container-id-7 div.sk-label-container {text-align: center;}#sk-container-id-7 div.sk-container {/* jupyter's `normalize.less` sets `[hidden] { display: none; }` but bootstrap.min.css set `[hidden] { display: none !important; }` so we also need the `!important` here to be able to override the default hidden behavior on the sphinx rendered scikit-learn.org. See: https://github.com/scikit-learn/scikit-learn/issues/21755 */display: inline-block !important;position: relative;}#sk-container-id-7 div.sk-text-repr-fallback {display: none;}</style><div id=\"sk-container-id-7\" class=\"sk-top-container\"><div class=\"sk-text-repr-fallback\"><pre>ColumnTransformer(transformers=[(&#x27;num_transformer&#x27;,\n",
       "                                 Pipeline(steps=[(&#x27;imputer&#x27;, SimpleImputer()),\n",
       "                                                 (&#x27;scaler&#x27;, StandardScaler()),\n",
       "                                                 (&#x27;rounder&#x27;,\n",
       "                                                  FunctionTransformer(func=&lt;function &lt;lambda&gt; at 0x17b649d00&gt;))]),\n",
       "                                 Index([&#x27;so2&#x27;, &#x27;no2&#x27;, &#x27;rainfall&#x27;], dtype=&#x27;object&#x27;)),\n",
       "                                (&#x27;cat_transformer&#x27;,\n",
       "                                 Pipeline(steps=[(&#x27;cat_imputer&#x27;,\n",
       "                                                  SimpleImputer(strategy=&#x27;most_frequent&#x27;)),\n",
       "                                                 (&#x27;cat_encoder&#x27;,\n",
       "                                                  OneHotEncoder(handle_unknown=&#x27;ignore&#x27;,\n",
       "                                                                sparse_output=False))]),\n",
       "                                 [&#x27;state&#x27;, &#x27;type&#x27;])])</pre><b>In a Jupyter environment, please rerun this cell to show the HTML representation or trust the notebook. <br />On GitHub, the HTML representation is unable to render, please try loading this page with nbviewer.org.</b></div><div class=\"sk-container\" hidden><div class=\"sk-item sk-dashed-wrapped\"><div class=\"sk-label-container\"><div class=\"sk-label sk-toggleable\"><input class=\"sk-toggleable__control sk-hidden--visually\" id=\"sk-estimator-id-33\" type=\"checkbox\" ><label for=\"sk-estimator-id-33\" class=\"sk-toggleable__label sk-toggleable__label-arrow\">ColumnTransformer</label><div class=\"sk-toggleable__content\"><pre>ColumnTransformer(transformers=[(&#x27;num_transformer&#x27;,\n",
       "                                 Pipeline(steps=[(&#x27;imputer&#x27;, SimpleImputer()),\n",
       "                                                 (&#x27;scaler&#x27;, StandardScaler()),\n",
       "                                                 (&#x27;rounder&#x27;,\n",
       "                                                  FunctionTransformer(func=&lt;function &lt;lambda&gt; at 0x17b649d00&gt;))]),\n",
       "                                 Index([&#x27;so2&#x27;, &#x27;no2&#x27;, &#x27;rainfall&#x27;], dtype=&#x27;object&#x27;)),\n",
       "                                (&#x27;cat_transformer&#x27;,\n",
       "                                 Pipeline(steps=[(&#x27;cat_imputer&#x27;,\n",
       "                                                  SimpleImputer(strategy=&#x27;most_frequent&#x27;)),\n",
       "                                                 (&#x27;cat_encoder&#x27;,\n",
       "                                                  OneHotEncoder(handle_unknown=&#x27;ignore&#x27;,\n",
       "                                                                sparse_output=False))]),\n",
       "                                 [&#x27;state&#x27;, &#x27;type&#x27;])])</pre></div></div></div><div class=\"sk-parallel\"><div class=\"sk-parallel-item\"><div class=\"sk-item\"><div class=\"sk-label-container\"><div class=\"sk-label sk-toggleable\"><input class=\"sk-toggleable__control sk-hidden--visually\" id=\"sk-estimator-id-34\" type=\"checkbox\" ><label for=\"sk-estimator-id-34\" class=\"sk-toggleable__label sk-toggleable__label-arrow\">num_transformer</label><div class=\"sk-toggleable__content\"><pre>Index([&#x27;so2&#x27;, &#x27;no2&#x27;, &#x27;rainfall&#x27;], dtype=&#x27;object&#x27;)</pre></div></div></div><div class=\"sk-serial\"><div class=\"sk-item\"><div class=\"sk-serial\"><div class=\"sk-item\"><div class=\"sk-estimator sk-toggleable\"><input class=\"sk-toggleable__control sk-hidden--visually\" id=\"sk-estimator-id-35\" type=\"checkbox\" ><label for=\"sk-estimator-id-35\" class=\"sk-toggleable__label sk-toggleable__label-arrow\">SimpleImputer</label><div class=\"sk-toggleable__content\"><pre>SimpleImputer()</pre></div></div></div><div class=\"sk-item\"><div class=\"sk-estimator sk-toggleable\"><input class=\"sk-toggleable__control sk-hidden--visually\" id=\"sk-estimator-id-36\" type=\"checkbox\" ><label for=\"sk-estimator-id-36\" class=\"sk-toggleable__label sk-toggleable__label-arrow\">StandardScaler</label><div class=\"sk-toggleable__content\"><pre>StandardScaler()</pre></div></div></div><div class=\"sk-item\"><div class=\"sk-estimator sk-toggleable\"><input class=\"sk-toggleable__control sk-hidden--visually\" id=\"sk-estimator-id-37\" type=\"checkbox\" ><label for=\"sk-estimator-id-37\" class=\"sk-toggleable__label sk-toggleable__label-arrow\">FunctionTransformer</label><div class=\"sk-toggleable__content\"><pre>FunctionTransformer(func=&lt;function &lt;lambda&gt; at 0x17b649d00&gt;)</pre></div></div></div></div></div></div></div></div><div class=\"sk-parallel-item\"><div class=\"sk-item\"><div class=\"sk-label-container\"><div class=\"sk-label sk-toggleable\"><input class=\"sk-toggleable__control sk-hidden--visually\" id=\"sk-estimator-id-38\" type=\"checkbox\" ><label for=\"sk-estimator-id-38\" class=\"sk-toggleable__label sk-toggleable__label-arrow\">cat_transformer</label><div class=\"sk-toggleable__content\"><pre>[&#x27;state&#x27;, &#x27;type&#x27;]</pre></div></div></div><div class=\"sk-serial\"><div class=\"sk-item\"><div class=\"sk-serial\"><div class=\"sk-item\"><div class=\"sk-estimator sk-toggleable\"><input class=\"sk-toggleable__control sk-hidden--visually\" id=\"sk-estimator-id-39\" type=\"checkbox\" ><label for=\"sk-estimator-id-39\" class=\"sk-toggleable__label sk-toggleable__label-arrow\">SimpleImputer</label><div class=\"sk-toggleable__content\"><pre>SimpleImputer(strategy=&#x27;most_frequent&#x27;)</pre></div></div></div><div class=\"sk-item\"><div class=\"sk-estimator sk-toggleable\"><input class=\"sk-toggleable__control sk-hidden--visually\" id=\"sk-estimator-id-40\" type=\"checkbox\" ><label for=\"sk-estimator-id-40\" class=\"sk-toggleable__label sk-toggleable__label-arrow\">OneHotEncoder</label><div class=\"sk-toggleable__content\"><pre>OneHotEncoder(handle_unknown=&#x27;ignore&#x27;, sparse_output=False)</pre></div></div></div></div></div></div></div></div></div></div></div></div>"
      ],
      "text/plain": [
       "ColumnTransformer(transformers=[('num_transformer',\n",
       "                                 Pipeline(steps=[('imputer', SimpleImputer()),\n",
       "                                                 ('scaler', StandardScaler()),\n",
       "                                                 ('rounder',\n",
       "                                                  FunctionTransformer(func=<function <lambda> at 0x17b649d00>))]),\n",
       "                                 Index(['so2', 'no2', 'rainfall'], dtype='object')),\n",
       "                                ('cat_transformer',\n",
       "                                 Pipeline(steps=[('cat_imputer',\n",
       "                                                  SimpleImputer(strategy='most_frequent')),\n",
       "                                                 ('cat_encoder',\n",
       "                                                  OneHotEncoder(handle_unknown='ignore',\n",
       "                                                                sparse_output=False))]),\n",
       "                                 ['state', 'type'])])"
      ]
     },
     "execution_count": 31,
     "metadata": {},
     "output_type": "execute_result"
    }
   ],
   "source": [
    "preprocessor"
   ]
  },
  {
   "cell_type": "markdown",
   "id": "73989af8-1c83-47b9-acbc-089dca60b6a0",
   "metadata": {
    "editable": true,
    "slideshow": {
     "slide_type": "slide"
    },
    "tags": []
   },
   "source": [
    "# Including models in pipelines\n",
    "<br>\n",
    "\n",
    "<center><img src=\"https://drive.google.com/uc?id=145ST_iBDPTifgO5F7slXyJsOrmgCRpmr\" style=\"width:900px;\"><br>\n",
    " © Cédric John, 2022; Image generated with <a href=\"https://openai.com/blog/dall-e/\">DALL-E</a><br>\n",
    "<br>Prompt: Dramatic view of a rusted yellow oil pump from the 1960's surrounded by the streets of Havana, Cuba.</center>"
   ]
  },
  {
   "cell_type": "markdown",
   "id": "66af2d28-7997-4b53-af1a-eec4ef641a44",
   "metadata": {
    "editable": true,
    "slideshow": {
     "slide_type": "subslide"
    },
    "tags": []
   },
   "source": [
    "\n",
    "* Model objects can be plugged into pipelines\n",
    "* Pipelines inherit the methods of the **last** object in the sequence\n",
    "* Transformers: <code>fit</code> and <code>transform</code>\n",
    "* Models: <code>fit</code>, <code>score</code>, <code>predict</code>, etc...\n"
   ]
  },
  {
   "cell_type": "markdown",
   "id": "02a0b719-4094-48dd-8640-707710f721bf",
   "metadata": {
    "slideshow": {
     "slide_type": "-"
    },
    "tags": []
   },
   "source": [
    "<img src=\"https://drive.google.com/uc?id=13pBbXtuoOyHn8NlZhbsdBVk-kVnib-ep\" style=\"width:1200px;\">\n",
    "<a href=\"https://www.packtpub.com/product/python-machine-learning-third-edition/9781789955750\">Rashka, S., 2015, Packt Publishing</a>"
   ]
  },
  {
   "cell_type": "code",
   "execution_count": 32,
   "id": "095a890f-9991-4b6d-9461-8399d6115264",
   "metadata": {
    "slideshow": {
     "slide_type": "subslide"
    },
    "tags": []
   },
   "outputs": [
    {
     "data": {
      "text/html": [
       "<style>#sk-container-id-7 {color: black;}#sk-container-id-7 pre{padding: 0;}#sk-container-id-7 div.sk-toggleable {background-color: white;}#sk-container-id-7 label.sk-toggleable__label {cursor: pointer;display: block;width: 100%;margin-bottom: 0;padding: 0.3em;box-sizing: border-box;text-align: center;}#sk-container-id-7 label.sk-toggleable__label-arrow:before {content: \"▸\";float: left;margin-right: 0.25em;color: #696969;}#sk-container-id-7 label.sk-toggleable__label-arrow:hover:before {color: black;}#sk-container-id-7 div.sk-estimator:hover label.sk-toggleable__label-arrow:before {color: black;}#sk-container-id-7 div.sk-toggleable__content {max-height: 0;max-width: 0;overflow: hidden;text-align: left;background-color: #f0f8ff;}#sk-container-id-7 div.sk-toggleable__content pre {margin: 0.2em;color: black;border-radius: 0.25em;background-color: #f0f8ff;}#sk-container-id-7 input.sk-toggleable__control:checked~div.sk-toggleable__content {max-height: 200px;max-width: 100%;overflow: auto;}#sk-container-id-7 input.sk-toggleable__control:checked~label.sk-toggleable__label-arrow:before {content: \"▾\";}#sk-container-id-7 div.sk-estimator input.sk-toggleable__control:checked~label.sk-toggleable__label {background-color: #d4ebff;}#sk-container-id-7 div.sk-label input.sk-toggleable__control:checked~label.sk-toggleable__label {background-color: #d4ebff;}#sk-container-id-7 input.sk-hidden--visually {border: 0;clip: rect(1px 1px 1px 1px);clip: rect(1px, 1px, 1px, 1px);height: 1px;margin: -1px;overflow: hidden;padding: 0;position: absolute;width: 1px;}#sk-container-id-7 div.sk-estimator {font-family: monospace;background-color: #f0f8ff;border: 1px dotted black;border-radius: 0.25em;box-sizing: border-box;margin-bottom: 0.5em;}#sk-container-id-7 div.sk-estimator:hover {background-color: #d4ebff;}#sk-container-id-7 div.sk-parallel-item::after {content: \"\";width: 100%;border-bottom: 1px solid gray;flex-grow: 1;}#sk-container-id-7 div.sk-label:hover label.sk-toggleable__label {background-color: #d4ebff;}#sk-container-id-7 div.sk-serial::before {content: \"\";position: absolute;border-left: 1px solid gray;box-sizing: border-box;top: 0;bottom: 0;left: 50%;z-index: 0;}#sk-container-id-7 div.sk-serial {display: flex;flex-direction: column;align-items: center;background-color: white;padding-right: 0.2em;padding-left: 0.2em;position: relative;}#sk-container-id-7 div.sk-item {position: relative;z-index: 1;}#sk-container-id-7 div.sk-parallel {display: flex;align-items: stretch;justify-content: center;background-color: white;position: relative;}#sk-container-id-7 div.sk-item::before, #sk-container-id-7 div.sk-parallel-item::before {content: \"\";position: absolute;border-left: 1px solid gray;box-sizing: border-box;top: 0;bottom: 0;left: 50%;z-index: -1;}#sk-container-id-7 div.sk-parallel-item {display: flex;flex-direction: column;z-index: 1;position: relative;background-color: white;}#sk-container-id-7 div.sk-parallel-item:first-child::after {align-self: flex-end;width: 50%;}#sk-container-id-7 div.sk-parallel-item:last-child::after {align-self: flex-start;width: 50%;}#sk-container-id-7 div.sk-parallel-item:only-child::after {width: 0;}#sk-container-id-7 div.sk-dashed-wrapped {border: 1px dashed gray;margin: 0 0.4em 0.5em 0.4em;box-sizing: border-box;padding-bottom: 0.4em;background-color: white;}#sk-container-id-7 div.sk-label label {font-family: monospace;font-weight: bold;display: inline-block;line-height: 1.2em;}#sk-container-id-7 div.sk-label-container {text-align: center;}#sk-container-id-7 div.sk-container {/* jupyter's `normalize.less` sets `[hidden] { display: none; }` but bootstrap.min.css set `[hidden] { display: none !important; }` so we also need the `!important` here to be able to override the default hidden behavior on the sphinx rendered scikit-learn.org. See: https://github.com/scikit-learn/scikit-learn/issues/21755 */display: inline-block !important;position: relative;}#sk-container-id-7 div.sk-text-repr-fallback {display: none;}</style><div id=\"sk-container-id-7\" class=\"sk-top-container\"><div class=\"sk-text-repr-fallback\"><pre>Pipeline(steps=[(&#x27;preprocessing&#x27;,\n",
       "                 ColumnTransformer(transformers=[(&#x27;num_transformer&#x27;,\n",
       "                                                  Pipeline(steps=[(&#x27;imputer&#x27;,\n",
       "                                                                   SimpleImputer()),\n",
       "                                                                  (&#x27;scaler&#x27;,\n",
       "                                                                   StandardScaler()),\n",
       "                                                                  (&#x27;rounder&#x27;,\n",
       "                                                                   FunctionTransformer(func=&lt;function round at 0x106de05f0&gt;))]),\n",
       "                                                  Index([&#x27;so2&#x27;, &#x27;no2&#x27;, &#x27;rainfall&#x27;], dtype=&#x27;object&#x27;)),\n",
       "                                                 (&#x27;cat_transformer&#x27;,\n",
       "                                                  Pipeline(steps=[(&#x27;cat_imputer&#x27;,\n",
       "                                                                   SimpleImputer(strategy=&#x27;most_frequent&#x27;)),\n",
       "                                                                  (&#x27;cat_encoder&#x27;,\n",
       "                                                                   OneHotEncoder(handle_unknown=&#x27;ignore&#x27;,\n",
       "                                                                                 sparse_output=False))]),\n",
       "                                                  [&#x27;state&#x27;, &#x27;type&#x27;])])),\n",
       "                (&#x27;classifier&#x27;, LogisticRegression(max_iter=2500))])</pre><b>In a Jupyter environment, please rerun this cell to show the HTML representation or trust the notebook. <br />On GitHub, the HTML representation is unable to render, please try loading this page with nbviewer.org.</b></div><div class=\"sk-container\" hidden><div class=\"sk-item sk-dashed-wrapped\"><div class=\"sk-label-container\"><div class=\"sk-label sk-toggleable\"><input class=\"sk-toggleable__control sk-hidden--visually\" id=\"sk-estimator-id-33\" type=\"checkbox\" ><label for=\"sk-estimator-id-33\" class=\"sk-toggleable__label sk-toggleable__label-arrow\">Pipeline</label><div class=\"sk-toggleable__content\"><pre>Pipeline(steps=[(&#x27;preprocessing&#x27;,\n",
       "                 ColumnTransformer(transformers=[(&#x27;num_transformer&#x27;,\n",
       "                                                  Pipeline(steps=[(&#x27;imputer&#x27;,\n",
       "                                                                   SimpleImputer()),\n",
       "                                                                  (&#x27;scaler&#x27;,\n",
       "                                                                   StandardScaler()),\n",
       "                                                                  (&#x27;rounder&#x27;,\n",
       "                                                                   FunctionTransformer(func=&lt;function round at 0x106de05f0&gt;))]),\n",
       "                                                  Index([&#x27;so2&#x27;, &#x27;no2&#x27;, &#x27;rainfall&#x27;], dtype=&#x27;object&#x27;)),\n",
       "                                                 (&#x27;cat_transformer&#x27;,\n",
       "                                                  Pipeline(steps=[(&#x27;cat_imputer&#x27;,\n",
       "                                                                   SimpleImputer(strategy=&#x27;most_frequent&#x27;)),\n",
       "                                                                  (&#x27;cat_encoder&#x27;,\n",
       "                                                                   OneHotEncoder(handle_unknown=&#x27;ignore&#x27;,\n",
       "                                                                                 sparse_output=False))]),\n",
       "                                                  [&#x27;state&#x27;, &#x27;type&#x27;])])),\n",
       "                (&#x27;classifier&#x27;, LogisticRegression(max_iter=2500))])</pre></div></div></div><div class=\"sk-serial\"><div class=\"sk-item sk-dashed-wrapped\"><div class=\"sk-label-container\"><div class=\"sk-label sk-toggleable\"><input class=\"sk-toggleable__control sk-hidden--visually\" id=\"sk-estimator-id-34\" type=\"checkbox\" ><label for=\"sk-estimator-id-34\" class=\"sk-toggleable__label sk-toggleable__label-arrow\">preprocessing: ColumnTransformer</label><div class=\"sk-toggleable__content\"><pre>ColumnTransformer(transformers=[(&#x27;num_transformer&#x27;,\n",
       "                                 Pipeline(steps=[(&#x27;imputer&#x27;, SimpleImputer()),\n",
       "                                                 (&#x27;scaler&#x27;, StandardScaler()),\n",
       "                                                 (&#x27;rounder&#x27;,\n",
       "                                                  FunctionTransformer(func=&lt;function round at 0x106de05f0&gt;))]),\n",
       "                                 Index([&#x27;so2&#x27;, &#x27;no2&#x27;, &#x27;rainfall&#x27;], dtype=&#x27;object&#x27;)),\n",
       "                                (&#x27;cat_transformer&#x27;,\n",
       "                                 Pipeline(steps=[(&#x27;cat_imputer&#x27;,\n",
       "                                                  SimpleImputer(strategy=&#x27;most_frequent&#x27;)),\n",
       "                                                 (&#x27;cat_encoder&#x27;,\n",
       "                                                  OneHotEncoder(handle_unknown=&#x27;ignore&#x27;,\n",
       "                                                                sparse_output=False))]),\n",
       "                                 [&#x27;state&#x27;, &#x27;type&#x27;])])</pre></div></div></div><div class=\"sk-parallel\"><div class=\"sk-parallel-item\"><div class=\"sk-item\"><div class=\"sk-label-container\"><div class=\"sk-label sk-toggleable\"><input class=\"sk-toggleable__control sk-hidden--visually\" id=\"sk-estimator-id-35\" type=\"checkbox\" ><label for=\"sk-estimator-id-35\" class=\"sk-toggleable__label sk-toggleable__label-arrow\">num_transformer</label><div class=\"sk-toggleable__content\"><pre>Index([&#x27;so2&#x27;, &#x27;no2&#x27;, &#x27;rainfall&#x27;], dtype=&#x27;object&#x27;)</pre></div></div></div><div class=\"sk-serial\"><div class=\"sk-item\"><div class=\"sk-serial\"><div class=\"sk-item\"><div class=\"sk-estimator sk-toggleable\"><input class=\"sk-toggleable__control sk-hidden--visually\" id=\"sk-estimator-id-36\" type=\"checkbox\" ><label for=\"sk-estimator-id-36\" class=\"sk-toggleable__label sk-toggleable__label-arrow\">SimpleImputer</label><div class=\"sk-toggleable__content\"><pre>SimpleImputer()</pre></div></div></div><div class=\"sk-item\"><div class=\"sk-estimator sk-toggleable\"><input class=\"sk-toggleable__control sk-hidden--visually\" id=\"sk-estimator-id-37\" type=\"checkbox\" ><label for=\"sk-estimator-id-37\" class=\"sk-toggleable__label sk-toggleable__label-arrow\">StandardScaler</label><div class=\"sk-toggleable__content\"><pre>StandardScaler()</pre></div></div></div><div class=\"sk-item\"><div class=\"sk-estimator sk-toggleable\"><input class=\"sk-toggleable__control sk-hidden--visually\" id=\"sk-estimator-id-38\" type=\"checkbox\" ><label for=\"sk-estimator-id-38\" class=\"sk-toggleable__label sk-toggleable__label-arrow\">FunctionTransformer</label><div class=\"sk-toggleable__content\"><pre>FunctionTransformer(func=&lt;function round at 0x106de05f0&gt;)</pre></div></div></div></div></div></div></div></div><div class=\"sk-parallel-item\"><div class=\"sk-item\"><div class=\"sk-label-container\"><div class=\"sk-label sk-toggleable\"><input class=\"sk-toggleable__control sk-hidden--visually\" id=\"sk-estimator-id-39\" type=\"checkbox\" ><label for=\"sk-estimator-id-39\" class=\"sk-toggleable__label sk-toggleable__label-arrow\">cat_transformer</label><div class=\"sk-toggleable__content\"><pre>[&#x27;state&#x27;, &#x27;type&#x27;]</pre></div></div></div><div class=\"sk-serial\"><div class=\"sk-item\"><div class=\"sk-serial\"><div class=\"sk-item\"><div class=\"sk-estimator sk-toggleable\"><input class=\"sk-toggleable__control sk-hidden--visually\" id=\"sk-estimator-id-40\" type=\"checkbox\" ><label for=\"sk-estimator-id-40\" class=\"sk-toggleable__label sk-toggleable__label-arrow\">SimpleImputer</label><div class=\"sk-toggleable__content\"><pre>SimpleImputer(strategy=&#x27;most_frequent&#x27;)</pre></div></div></div><div class=\"sk-item\"><div class=\"sk-estimator sk-toggleable\"><input class=\"sk-toggleable__control sk-hidden--visually\" id=\"sk-estimator-id-41\" type=\"checkbox\" ><label for=\"sk-estimator-id-41\" class=\"sk-toggleable__label sk-toggleable__label-arrow\">OneHotEncoder</label><div class=\"sk-toggleable__content\"><pre>OneHotEncoder(handle_unknown=&#x27;ignore&#x27;, sparse_output=False)</pre></div></div></div></div></div></div></div></div></div></div><div class=\"sk-item\"><div class=\"sk-estimator sk-toggleable\"><input class=\"sk-toggleable__control sk-hidden--visually\" id=\"sk-estimator-id-42\" type=\"checkbox\" ><label for=\"sk-estimator-id-42\" class=\"sk-toggleable__label sk-toggleable__label-arrow\">LogisticRegression</label><div class=\"sk-toggleable__content\"><pre>LogisticRegression(max_iter=2500)</pre></div></div></div></div></div></div></div>"
      ],
      "text/plain": [
       "Pipeline(steps=[('preprocessing',\n",
       "                 ColumnTransformer(transformers=[('num_transformer',\n",
       "                                                  Pipeline(steps=[('imputer',\n",
       "                                                                   SimpleImputer()),\n",
       "                                                                  ('scaler',\n",
       "                                                                   StandardScaler()),\n",
       "                                                                  ('rounder',\n",
       "                                                                   FunctionTransformer(func=<function round at 0x106de05f0>))]),\n",
       "                                                  Index(['so2', 'no2', 'rainfall'], dtype='object')),\n",
       "                                                 ('cat_transformer',\n",
       "                                                  Pipeline(steps=[('cat_imputer',\n",
       "                                                                   SimpleImputer(strategy='most_frequent')),\n",
       "                                                                  ('cat_encoder',\n",
       "                                                                   OneHotEncoder(handle_unknown='ignore',\n",
       "                                                                                 sparse_output=False))]),\n",
       "                                                  ['state', 'type'])])),\n",
       "                ('classifier', LogisticRegression(max_iter=2500))])"
      ]
     },
     "execution_count": 32,
     "metadata": {},
     "output_type": "execute_result"
    }
   ],
   "source": [
    "from sklearn.linear_model import LogisticRegression\n",
    "\n",
    "# Combine preprocessor and linear model in pipeline\n",
    "final_pipe = Pipeline([\n",
    "    ('preprocessing', preprocessor),\n",
    "    ('classifier', LogisticRegression(max_iter=2500))])\n",
    "final_pipe\n"
   ]
  },
  {
   "cell_type": "code",
   "execution_count": 33,
   "id": "21c3253c",
   "metadata": {
    "slideshow": {
     "slide_type": "subslide"
    },
    "tags": []
   },
   "outputs": [],
   "source": [
    "# Train pipeline\n",
    "final_pipe_trained = final_pipe.fit(X_train, y_train)"
   ]
  },
  {
   "cell_type": "code",
   "execution_count": 34,
   "id": "205912f2",
   "metadata": {
    "slideshow": {
     "slide_type": "subslide"
    },
    "tags": []
   },
   "outputs": [
    {
     "data": {
      "text/plain": [
       "array([0, 0, 1, ..., 0, 1, 1])"
      ]
     },
     "execution_count": 34,
     "metadata": {},
     "output_type": "execute_result"
    }
   ],
   "source": [
    "# Make predictions\n",
    "final_pipe_trained.predict(X_test)"
   ]
  },
  {
   "cell_type": "code",
   "execution_count": 35,
   "id": "ca9a74ae-9331-42b7-bd71-f011dd0d7f69",
   "metadata": {
    "slideshow": {
     "slide_type": "subslide"
    },
    "tags": []
   },
   "outputs": [
    {
     "data": {
      "text/plain": [
       "0.71654108360244"
      ]
     },
     "execution_count": 35,
     "metadata": {},
     "output_type": "execute_result"
    }
   ],
   "source": [
    "# Score model\n",
    "final_pipe_trained.score(X_test, y_test)"
   ]
  },
  {
   "cell_type": "markdown",
   "id": "be5d36ef-dc3d-4bd2-9d26-9c0508ceea27",
   "metadata": {
    "slideshow": {
     "slide_type": "subslide"
    },
    "tags": []
   },
   "source": [
    "### Cross validate a pipeline"
   ]
  },
  {
   "cell_type": "code",
   "execution_count": 36,
   "id": "8b5ff8f8-8854-4713-af4b-b766633b7ce8",
   "metadata": {
    "slideshow": {
     "slide_type": "fragment"
    },
    "tags": []
   },
   "outputs": [
    {
     "data": {
      "text/plain": [
       "0.7203083801894089"
      ]
     },
     "execution_count": 36,
     "metadata": {},
     "output_type": "execute_result"
    }
   ],
   "source": [
    "\n",
    "from sklearn.model_selection import cross_val_score\n",
    "\n",
    "# Cross validate pipeline\n",
    "cross_val_score(final_pipe, X_train, y_train, cv=5, scoring='accuracy').mean()"
   ]
  },
  {
   "cell_type": "markdown",
   "id": "b17d2fcb-e5f1-421f-9cd2-9303d2be7dd6",
   "metadata": {
    "slideshow": {
     "slide_type": "subslide"
    }
   },
   "source": [
    "\n",
    "<h3 id=\"Test-your-pipeline-as-you-build-it\">Test your pipeline as you build it<a class=\"anchor-link\" href=\"https://kitt.lewagon.com/karr/data-lectures.kitt/05-ML_08-Workflow.html?title=Workflow&amp;program_id=10#Test-your-pipeline-as-you-build-it\">¶</a></h3><p>As you are building your pipeline, it is important to ensure it works identically to what you have done in your notebook thus far.</p>\n",
    "<ul>\n",
    "<li>Check the data preprocessing: Compare the statistics of preprocessed data out of the pipeline to the ones of the same data preprocessed outside the pipeline</li>\n",
    "<li>Compare the performance of the model out of the pipeline to the one trained outside the pipeline</li>\n",
    "</ul>\n"
   ]
  },
  {
   "cell_type": "code",
   "execution_count": 37,
   "id": "fbd9fd4a-5d70-40f4-9027-a490aa21098d",
   "metadata": {},
   "outputs": [
    {
     "data": {
      "text/plain": [
       "(22296, 40)"
      ]
     },
     "execution_count": 37,
     "metadata": {},
     "output_type": "execute_result"
    }
   ],
   "source": [
    "# Access component of pipeline with `name_steps`\n",
    "final_pipe.named_steps[\"preprocessing\"].fit_transform(X_train).shape"
   ]
  },
  {
   "cell_type": "markdown",
   "id": "01fb2a16-ffc7-44be-b433-37b004c5f1b6",
   "metadata": {
    "slideshow": {
     "slide_type": "subslide"
    }
   },
   "source": [
    "## Exporting models and Pipelines\n",
    "\n",
    "<li>You can export your final model/pipeline as a pickle file</li>\n",
    "<li>The file can be loaded back into a notebook or deployed on a server</li>\n",
    "</ul>\n"
   ]
  },
  {
   "cell_type": "code",
   "execution_count": 38,
   "id": "c95a91fc",
   "metadata": {},
   "outputs": [
    {
     "data": {
      "text/html": [
       "<style>#sk-container-id-8 {color: black;}#sk-container-id-8 pre{padding: 0;}#sk-container-id-8 div.sk-toggleable {background-color: white;}#sk-container-id-8 label.sk-toggleable__label {cursor: pointer;display: block;width: 100%;margin-bottom: 0;padding: 0.3em;box-sizing: border-box;text-align: center;}#sk-container-id-8 label.sk-toggleable__label-arrow:before {content: \"▸\";float: left;margin-right: 0.25em;color: #696969;}#sk-container-id-8 label.sk-toggleable__label-arrow:hover:before {color: black;}#sk-container-id-8 div.sk-estimator:hover label.sk-toggleable__label-arrow:before {color: black;}#sk-container-id-8 div.sk-toggleable__content {max-height: 0;max-width: 0;overflow: hidden;text-align: left;background-color: #f0f8ff;}#sk-container-id-8 div.sk-toggleable__content pre {margin: 0.2em;color: black;border-radius: 0.25em;background-color: #f0f8ff;}#sk-container-id-8 input.sk-toggleable__control:checked~div.sk-toggleable__content {max-height: 200px;max-width: 100%;overflow: auto;}#sk-container-id-8 input.sk-toggleable__control:checked~label.sk-toggleable__label-arrow:before {content: \"▾\";}#sk-container-id-8 div.sk-estimator input.sk-toggleable__control:checked~label.sk-toggleable__label {background-color: #d4ebff;}#sk-container-id-8 div.sk-label input.sk-toggleable__control:checked~label.sk-toggleable__label {background-color: #d4ebff;}#sk-container-id-8 input.sk-hidden--visually {border: 0;clip: rect(1px 1px 1px 1px);clip: rect(1px, 1px, 1px, 1px);height: 1px;margin: -1px;overflow: hidden;padding: 0;position: absolute;width: 1px;}#sk-container-id-8 div.sk-estimator {font-family: monospace;background-color: #f0f8ff;border: 1px dotted black;border-radius: 0.25em;box-sizing: border-box;margin-bottom: 0.5em;}#sk-container-id-8 div.sk-estimator:hover {background-color: #d4ebff;}#sk-container-id-8 div.sk-parallel-item::after {content: \"\";width: 100%;border-bottom: 1px solid gray;flex-grow: 1;}#sk-container-id-8 div.sk-label:hover label.sk-toggleable__label {background-color: #d4ebff;}#sk-container-id-8 div.sk-serial::before {content: \"\";position: absolute;border-left: 1px solid gray;box-sizing: border-box;top: 0;bottom: 0;left: 50%;z-index: 0;}#sk-container-id-8 div.sk-serial {display: flex;flex-direction: column;align-items: center;background-color: white;padding-right: 0.2em;padding-left: 0.2em;position: relative;}#sk-container-id-8 div.sk-item {position: relative;z-index: 1;}#sk-container-id-8 div.sk-parallel {display: flex;align-items: stretch;justify-content: center;background-color: white;position: relative;}#sk-container-id-8 div.sk-item::before, #sk-container-id-8 div.sk-parallel-item::before {content: \"\";position: absolute;border-left: 1px solid gray;box-sizing: border-box;top: 0;bottom: 0;left: 50%;z-index: -1;}#sk-container-id-8 div.sk-parallel-item {display: flex;flex-direction: column;z-index: 1;position: relative;background-color: white;}#sk-container-id-8 div.sk-parallel-item:first-child::after {align-self: flex-end;width: 50%;}#sk-container-id-8 div.sk-parallel-item:last-child::after {align-self: flex-start;width: 50%;}#sk-container-id-8 div.sk-parallel-item:only-child::after {width: 0;}#sk-container-id-8 div.sk-dashed-wrapped {border: 1px dashed gray;margin: 0 0.4em 0.5em 0.4em;box-sizing: border-box;padding-bottom: 0.4em;background-color: white;}#sk-container-id-8 div.sk-label label {font-family: monospace;font-weight: bold;display: inline-block;line-height: 1.2em;}#sk-container-id-8 div.sk-label-container {text-align: center;}#sk-container-id-8 div.sk-container {/* jupyter's `normalize.less` sets `[hidden] { display: none; }` but bootstrap.min.css set `[hidden] { display: none !important; }` so we also need the `!important` here to be able to override the default hidden behavior on the sphinx rendered scikit-learn.org. See: https://github.com/scikit-learn/scikit-learn/issues/21755 */display: inline-block !important;position: relative;}#sk-container-id-8 div.sk-text-repr-fallback {display: none;}</style><div id=\"sk-container-id-8\" class=\"sk-top-container\"><div class=\"sk-text-repr-fallback\"><pre>Pipeline(steps=[(&#x27;preprocessing&#x27;,\n",
       "                 ColumnTransformer(transformers=[(&#x27;num_transformer&#x27;,\n",
       "                                                  Pipeline(steps=[(&#x27;imputer&#x27;,\n",
       "                                                                   SimpleImputer()),\n",
       "                                                                  (&#x27;scaler&#x27;,\n",
       "                                                                   StandardScaler())]),\n",
       "                                                  Index([&#x27;so2&#x27;, &#x27;no2&#x27;, &#x27;rainfall&#x27;], dtype=&#x27;object&#x27;)),\n",
       "                                                 (&#x27;cat_transformer&#x27;,\n",
       "                                                  Pipeline(steps=[(&#x27;cat_imputer&#x27;,\n",
       "                                                                   SimpleImputer(strategy=&#x27;most_frequent&#x27;)),\n",
       "                                                                  (&#x27;cat_encoder&#x27;,\n",
       "                                                                   OneHotEncoder(handle_unknown=&#x27;ignore&#x27;,\n",
       "                                                                                 sparse_output=False))]),\n",
       "                                                  [&#x27;state&#x27;, &#x27;type&#x27;])])),\n",
       "                (&#x27;classifier&#x27;, LogisticRegression(max_iter=2500))])</pre><b>In a Jupyter environment, please rerun this cell to show the HTML representation or trust the notebook. <br />On GitHub, the HTML representation is unable to render, please try loading this page with nbviewer.org.</b></div><div class=\"sk-container\" hidden><div class=\"sk-item sk-dashed-wrapped\"><div class=\"sk-label-container\"><div class=\"sk-label sk-toggleable\"><input class=\"sk-toggleable__control sk-hidden--visually\" id=\"sk-estimator-id-43\" type=\"checkbox\" ><label for=\"sk-estimator-id-43\" class=\"sk-toggleable__label sk-toggleable__label-arrow\">Pipeline</label><div class=\"sk-toggleable__content\"><pre>Pipeline(steps=[(&#x27;preprocessing&#x27;,\n",
       "                 ColumnTransformer(transformers=[(&#x27;num_transformer&#x27;,\n",
       "                                                  Pipeline(steps=[(&#x27;imputer&#x27;,\n",
       "                                                                   SimpleImputer()),\n",
       "                                                                  (&#x27;scaler&#x27;,\n",
       "                                                                   StandardScaler())]),\n",
       "                                                  Index([&#x27;so2&#x27;, &#x27;no2&#x27;, &#x27;rainfall&#x27;], dtype=&#x27;object&#x27;)),\n",
       "                                                 (&#x27;cat_transformer&#x27;,\n",
       "                                                  Pipeline(steps=[(&#x27;cat_imputer&#x27;,\n",
       "                                                                   SimpleImputer(strategy=&#x27;most_frequent&#x27;)),\n",
       "                                                                  (&#x27;cat_encoder&#x27;,\n",
       "                                                                   OneHotEncoder(handle_unknown=&#x27;ignore&#x27;,\n",
       "                                                                                 sparse_output=False))]),\n",
       "                                                  [&#x27;state&#x27;, &#x27;type&#x27;])])),\n",
       "                (&#x27;classifier&#x27;, LogisticRegression(max_iter=2500))])</pre></div></div></div><div class=\"sk-serial\"><div class=\"sk-item sk-dashed-wrapped\"><div class=\"sk-label-container\"><div class=\"sk-label sk-toggleable\"><input class=\"sk-toggleable__control sk-hidden--visually\" id=\"sk-estimator-id-44\" type=\"checkbox\" ><label for=\"sk-estimator-id-44\" class=\"sk-toggleable__label sk-toggleable__label-arrow\">preprocessing: ColumnTransformer</label><div class=\"sk-toggleable__content\"><pre>ColumnTransformer(transformers=[(&#x27;num_transformer&#x27;,\n",
       "                                 Pipeline(steps=[(&#x27;imputer&#x27;, SimpleImputer()),\n",
       "                                                 (&#x27;scaler&#x27;, StandardScaler())]),\n",
       "                                 Index([&#x27;so2&#x27;, &#x27;no2&#x27;, &#x27;rainfall&#x27;], dtype=&#x27;object&#x27;)),\n",
       "                                (&#x27;cat_transformer&#x27;,\n",
       "                                 Pipeline(steps=[(&#x27;cat_imputer&#x27;,\n",
       "                                                  SimpleImputer(strategy=&#x27;most_frequent&#x27;)),\n",
       "                                                 (&#x27;cat_encoder&#x27;,\n",
       "                                                  OneHotEncoder(handle_unknown=&#x27;ignore&#x27;,\n",
       "                                                                sparse_output=False))]),\n",
       "                                 [&#x27;state&#x27;, &#x27;type&#x27;])])</pre></div></div></div><div class=\"sk-parallel\"><div class=\"sk-parallel-item\"><div class=\"sk-item\"><div class=\"sk-label-container\"><div class=\"sk-label sk-toggleable\"><input class=\"sk-toggleable__control sk-hidden--visually\" id=\"sk-estimator-id-45\" type=\"checkbox\" ><label for=\"sk-estimator-id-45\" class=\"sk-toggleable__label sk-toggleable__label-arrow\">num_transformer</label><div class=\"sk-toggleable__content\"><pre>Index([&#x27;so2&#x27;, &#x27;no2&#x27;, &#x27;rainfall&#x27;], dtype=&#x27;object&#x27;)</pre></div></div></div><div class=\"sk-serial\"><div class=\"sk-item\"><div class=\"sk-serial\"><div class=\"sk-item\"><div class=\"sk-estimator sk-toggleable\"><input class=\"sk-toggleable__control sk-hidden--visually\" id=\"sk-estimator-id-46\" type=\"checkbox\" ><label for=\"sk-estimator-id-46\" class=\"sk-toggleable__label sk-toggleable__label-arrow\">SimpleImputer</label><div class=\"sk-toggleable__content\"><pre>SimpleImputer()</pre></div></div></div><div class=\"sk-item\"><div class=\"sk-estimator sk-toggleable\"><input class=\"sk-toggleable__control sk-hidden--visually\" id=\"sk-estimator-id-47\" type=\"checkbox\" ><label for=\"sk-estimator-id-47\" class=\"sk-toggleable__label sk-toggleable__label-arrow\">StandardScaler</label><div class=\"sk-toggleable__content\"><pre>StandardScaler()</pre></div></div></div></div></div></div></div></div><div class=\"sk-parallel-item\"><div class=\"sk-item\"><div class=\"sk-label-container\"><div class=\"sk-label sk-toggleable\"><input class=\"sk-toggleable__control sk-hidden--visually\" id=\"sk-estimator-id-48\" type=\"checkbox\" ><label for=\"sk-estimator-id-48\" class=\"sk-toggleable__label sk-toggleable__label-arrow\">cat_transformer</label><div class=\"sk-toggleable__content\"><pre>[&#x27;state&#x27;, &#x27;type&#x27;]</pre></div></div></div><div class=\"sk-serial\"><div class=\"sk-item\"><div class=\"sk-serial\"><div class=\"sk-item\"><div class=\"sk-estimator sk-toggleable\"><input class=\"sk-toggleable__control sk-hidden--visually\" id=\"sk-estimator-id-49\" type=\"checkbox\" ><label for=\"sk-estimator-id-49\" class=\"sk-toggleable__label sk-toggleable__label-arrow\">SimpleImputer</label><div class=\"sk-toggleable__content\"><pre>SimpleImputer(strategy=&#x27;most_frequent&#x27;)</pre></div></div></div><div class=\"sk-item\"><div class=\"sk-estimator sk-toggleable\"><input class=\"sk-toggleable__control sk-hidden--visually\" id=\"sk-estimator-id-50\" type=\"checkbox\" ><label for=\"sk-estimator-id-50\" class=\"sk-toggleable__label sk-toggleable__label-arrow\">OneHotEncoder</label><div class=\"sk-toggleable__content\"><pre>OneHotEncoder(handle_unknown=&#x27;ignore&#x27;, sparse_output=False)</pre></div></div></div></div></div></div></div></div></div></div><div class=\"sk-item\"><div class=\"sk-estimator sk-toggleable\"><input class=\"sk-toggleable__control sk-hidden--visually\" id=\"sk-estimator-id-51\" type=\"checkbox\" ><label for=\"sk-estimator-id-51\" class=\"sk-toggleable__label sk-toggleable__label-arrow\">LogisticRegression</label><div class=\"sk-toggleable__content\"><pre>LogisticRegression(max_iter=2500)</pre></div></div></div></div></div></div></div>"
      ],
      "text/plain": [
       "Pipeline(steps=[('preprocessing',\n",
       "                 ColumnTransformer(transformers=[('num_transformer',\n",
       "                                                  Pipeline(steps=[('imputer',\n",
       "                                                                   SimpleImputer()),\n",
       "                                                                  ('scaler',\n",
       "                                                                   StandardScaler())]),\n",
       "                                                  Index(['so2', 'no2', 'rainfall'], dtype='object')),\n",
       "                                                 ('cat_transformer',\n",
       "                                                  Pipeline(steps=[('cat_imputer',\n",
       "                                                                   SimpleImputer(strategy='most_frequent')),\n",
       "                                                                  ('cat_encoder',\n",
       "                                                                   OneHotEncoder(handle_unknown='ignore',\n",
       "                                                                                 sparse_output=False))]),\n",
       "                                                  ['state', 'type'])])),\n",
       "                ('classifier', LogisticRegression(max_iter=2500))])"
      ]
     },
     "execution_count": 38,
     "metadata": {},
     "output_type": "execute_result"
    }
   ],
   "source": [
    "# LET'S START WITH A CLEAN PIPELINE\n",
    "num_transformer = Pipeline([\n",
    "    ('imputer', SimpleImputer()),\n",
    "    ('scaler', StandardScaler())])\n",
    "\n",
    "# Paralellize \"num_transformer\" and \"cat_transformer\"\n",
    "preprocessor = ColumnTransformer([\n",
    "    ('num_transformer', num_transformer, X_train.select_dtypes(include=np.number).columns),\n",
    "    ('cat_transformer', cat_transformer, ['state', 'type'])\n",
    "])\n",
    "\n",
    "# Combine preprocessor and linear model in pipeline\n",
    "final_pipe = Pipeline([\n",
    "    ('preprocessing', preprocessor),\n",
    "    ('classifier', LogisticRegression(max_iter=2500))])\n",
    "\n",
    "final_pipe.fit(X_train, y_train)"
   ]
  },
  {
   "cell_type": "code",
   "execution_count": 39,
   "id": "0e1c12f7",
   "metadata": {
    "slideshow": {
     "slide_type": "subslide"
    }
   },
   "outputs": [],
   "source": [
    "import pickle\n",
    "\n",
    "# Export pipeline as pickle file\n",
    "with open(\"pipeline.pkl\", \"wb\") as file:\n",
    "    pickle.dump(final_pipe, file)"
   ]
  },
  {
   "cell_type": "code",
   "execution_count": 40,
   "id": "823274d2",
   "metadata": {
    "editable": true,
    "slideshow": {
     "slide_type": "fragment"
    },
    "tags": []
   },
   "outputs": [
    {
     "data": {
      "text/html": [
       "<div>\n",
       "<style scoped>\n",
       "    .dataframe tbody tr th:only-of-type {\n",
       "        vertical-align: middle;\n",
       "    }\n",
       "\n",
       "    .dataframe tbody tr th {\n",
       "        vertical-align: top;\n",
       "    }\n",
       "\n",
       "    .dataframe thead th {\n",
       "        text-align: right;\n",
       "    }\n",
       "</style>\n",
       "<table border=\"1\" class=\"dataframe\">\n",
       "  <thead>\n",
       "    <tr style=\"text-align: right;\">\n",
       "      <th></th>\n",
       "      <th>stn_code</th>\n",
       "      <th>state</th>\n",
       "      <th>location</th>\n",
       "      <th>type</th>\n",
       "      <th>so2</th>\n",
       "      <th>no2</th>\n",
       "      <th>date</th>\n",
       "      <th>rainfall</th>\n",
       "    </tr>\n",
       "  </thead>\n",
       "  <tbody>\n",
       "    <tr>\n",
       "      <th>0</th>\n",
       "      <td>527</td>\n",
       "      <td>Madhya Pradesh</td>\n",
       "      <td>Ujjain</td>\n",
       "      <td>Industrial</td>\n",
       "      <td>7.8</td>\n",
       "      <td>9.1</td>\n",
       "      <td>13/10/2011</td>\n",
       "      <td>98.903760</td>\n",
       "    </tr>\n",
       "    <tr>\n",
       "      <th>1</th>\n",
       "      <td>258</td>\n",
       "      <td>Uttar Pradesh</td>\n",
       "      <td>Ghaziabad</td>\n",
       "      <td>Industrial</td>\n",
       "      <td>35.0</td>\n",
       "      <td>39.0</td>\n",
       "      <td>24/05/2011</td>\n",
       "      <td>126.244780</td>\n",
       "    </tr>\n",
       "    <tr>\n",
       "      <th>2</th>\n",
       "      <td>638</td>\n",
       "      <td>Maharashtra</td>\n",
       "      <td>Chandrapur</td>\n",
       "      <td>Industrial</td>\n",
       "      <td>15.0</td>\n",
       "      <td>10.0</td>\n",
       "      <td>21/07/2011</td>\n",
       "      <td>105.816791</td>\n",
       "    </tr>\n",
       "    <tr>\n",
       "      <th>3</th>\n",
       "      <td>537</td>\n",
       "      <td>Assam</td>\n",
       "      <td>Sivasagar</td>\n",
       "      <td>Residential</td>\n",
       "      <td>6.0</td>\n",
       "      <td>14.5</td>\n",
       "      <td>08/05/2013</td>\n",
       "      <td>49.449315</td>\n",
       "    </tr>\n",
       "    <tr>\n",
       "      <th>4</th>\n",
       "      <td>376</td>\n",
       "      <td>Rajasthan</td>\n",
       "      <td>Jodhpur</td>\n",
       "      <td>Residential</td>\n",
       "      <td>4.0</td>\n",
       "      <td>19.0</td>\n",
       "      <td>23/07/2004</td>\n",
       "      <td>86.035515</td>\n",
       "    </tr>\n",
       "  </tbody>\n",
       "</table>\n",
       "</div>"
      ],
      "text/plain": [
       "  stn_code           state    location         type   so2   no2        date  \\\n",
       "0      527  Madhya Pradesh      Ujjain   Industrial   7.8   9.1  13/10/2011   \n",
       "1      258   Uttar Pradesh   Ghaziabad   Industrial  35.0  39.0  24/05/2011   \n",
       "2      638     Maharashtra  Chandrapur   Industrial  15.0  10.0  21/07/2011   \n",
       "3      537           Assam   Sivasagar  Residential   6.0  14.5  08/05/2013   \n",
       "4      376       Rajasthan     Jodhpur  Residential   4.0  19.0  23/07/2004   \n",
       "\n",
       "     rainfall  \n",
       "0   98.903760  \n",
       "1  126.244780  \n",
       "2  105.816791  \n",
       "3   49.449315  \n",
       "4   86.035515  "
      ]
     },
     "execution_count": 40,
     "metadata": {},
     "output_type": "execute_result"
    }
   ],
   "source": [
    "# Load pipeline from pickle file\n",
    "my_pipeline = pickle.load(open(\"pipeline.pkl\", \"rb\"))\n",
    "new_samples = pd.read_csv('Lecture_data/new_samples.csv')\n",
    "new_samples.head()"
   ]
  },
  {
   "cell_type": "code",
   "execution_count": 40,
   "id": "0b82873d",
   "metadata": {},
   "outputs": [
    {
     "data": {
      "text/html": [
       "<div>\n",
       "<style scoped>\n",
       "    .dataframe tbody tr th:only-of-type {\n",
       "        vertical-align: middle;\n",
       "    }\n",
       "\n",
       "    .dataframe tbody tr th {\n",
       "        vertical-align: top;\n",
       "    }\n",
       "\n",
       "    .dataframe thead th {\n",
       "        text-align: right;\n",
       "    }\n",
       "</style>\n",
       "<table border=\"1\" class=\"dataframe\">\n",
       "  <thead>\n",
       "    <tr style=\"text-align: right;\">\n",
       "      <th></th>\n",
       "      <th>stn_code</th>\n",
       "      <th>state</th>\n",
       "      <th>location</th>\n",
       "      <th>type</th>\n",
       "      <th>so2</th>\n",
       "      <th>no2</th>\n",
       "      <th>date</th>\n",
       "      <th>rainfall</th>\n",
       "    </tr>\n",
       "  </thead>\n",
       "  <tbody>\n",
       "    <tr>\n",
       "      <th>0</th>\n",
       "      <td>527</td>\n",
       "      <td>Madhya Pradesh</td>\n",
       "      <td>Ujjain</td>\n",
       "      <td>Industrial</td>\n",
       "      <td>7.8</td>\n",
       "      <td>9.1</td>\n",
       "      <td>13/10/2011</td>\n",
       "      <td>98.903760</td>\n",
       "    </tr>\n",
       "    <tr>\n",
       "      <th>1</th>\n",
       "      <td>258</td>\n",
       "      <td>Uttar Pradesh</td>\n",
       "      <td>Ghaziabad</td>\n",
       "      <td>Industrial</td>\n",
       "      <td>35.0</td>\n",
       "      <td>39.0</td>\n",
       "      <td>24/05/2011</td>\n",
       "      <td>126.244780</td>\n",
       "    </tr>\n",
       "    <tr>\n",
       "      <th>2</th>\n",
       "      <td>638</td>\n",
       "      <td>Maharashtra</td>\n",
       "      <td>Chandrapur</td>\n",
       "      <td>Industrial</td>\n",
       "      <td>15.0</td>\n",
       "      <td>10.0</td>\n",
       "      <td>21/07/2011</td>\n",
       "      <td>105.816791</td>\n",
       "    </tr>\n",
       "    <tr>\n",
       "      <th>3</th>\n",
       "      <td>537</td>\n",
       "      <td>Assam</td>\n",
       "      <td>Sivasagar</td>\n",
       "      <td>Residential</td>\n",
       "      <td>6.0</td>\n",
       "      <td>14.5</td>\n",
       "      <td>08/05/2013</td>\n",
       "      <td>49.449315</td>\n",
       "    </tr>\n",
       "    <tr>\n",
       "      <th>4</th>\n",
       "      <td>376</td>\n",
       "      <td>Rajasthan</td>\n",
       "      <td>Jodhpur</td>\n",
       "      <td>Residential</td>\n",
       "      <td>4.0</td>\n",
       "      <td>19.0</td>\n",
       "      <td>23/07/2004</td>\n",
       "      <td>86.035515</td>\n",
       "    </tr>\n",
       "  </tbody>\n",
       "</table>\n",
       "</div>"
      ],
      "text/plain": [
       "  stn_code           state    location         type   so2   no2        date  \\\n",
       "0      527  Madhya Pradesh      Ujjain   Industrial   7.8   9.1  13/10/2011   \n",
       "1      258   Uttar Pradesh   Ghaziabad   Industrial  35.0  39.0  24/05/2011   \n",
       "2      638     Maharashtra  Chandrapur   Industrial  15.0  10.0  21/07/2011   \n",
       "3      537           Assam   Sivasagar  Residential   6.0  14.5  08/05/2013   \n",
       "4      376       Rajasthan     Jodhpur  Residential   4.0  19.0  23/07/2004   \n",
       "\n",
       "     rainfall  \n",
       "0   98.903760  \n",
       "1  126.244780  \n",
       "2  105.816791  \n",
       "3   49.449315  \n",
       "4   86.035515  "
      ]
     },
     "execution_count": 40,
     "metadata": {},
     "output_type": "execute_result"
    }
   ],
   "source": [
    "new_samples = pd.read_csv('Lecture_data/new_samples.csv')\n",
    "new_samples.head()"
   ]
  },
  {
   "cell_type": "code",
   "execution_count": 41,
   "id": "fd05f191-f7b6-4cd2-9719-afde41f6d409",
   "metadata": {
    "editable": true,
    "slideshow": {
     "slide_type": "subslide"
    },
    "tags": []
   },
   "outputs": [
    {
     "data": {
      "text/plain": [
       "array([1, 1, 0, ..., 1, 1, 0])"
      ]
     },
     "execution_count": 41,
     "metadata": {},
     "output_type": "execute_result"
    }
   ],
   "source": [
    "pred = my_pipeline.predict(new_samples)\n",
    "new_samples['Predictions'] = pred\n",
    "\n",
    "pred"
   ]
  },
  {
   "cell_type": "code",
   "execution_count": 41,
   "id": "e414d4b5",
   "metadata": {},
   "outputs": [
    {
     "data": {
      "text/plain": [
       "array([1, 1, 0, ..., 1, 1, 0])"
      ]
     },
     "execution_count": 41,
     "metadata": {},
     "output_type": "execute_result"
    }
   ],
   "source": [
    "pred = final_pipe.predict(new_samples)\n",
    "pred"
   ]
  },
  {
   "cell_type": "markdown",
   "id": "9f5fd0b7-78c3-43fc-b19b-b9ab3b045826",
   "metadata": {
    "editable": true,
    "slideshow": {
     "slide_type": "slide"
    },
    "tags": []
   },
   "source": [
    "# Moving from Notebooks to Packages\n",
    "<br>\n",
    "\n",
    "<center><img src=\"https://drive.google.com/uc?id=13sDCVeMXEc3kXqI1F_udT8SzAHaEYLqY\" style=\"width:900px;\"><br>\n",
    " © Cédric John, 2022; Image generated with <a href=\"https://openai.com/blog/dall-e/\">DALL-E</a><br>\n",
    "<br>Prompt: 35 view of a well-organised giant warehouse with endless shelves full of items, orange lighting.</center>"
   ]
  },
  {
   "cell_type": "markdown",
   "id": "70ec02f3",
   "metadata": {
    "editable": true,
    "slideshow": {
     "slide_type": "subslide"
    },
    "tags": []
   },
   "source": [
    "\n",
    "<p><img src=\"https://drive.google.com/uc?id=149_jQxru5A1q15RiF9860uatiBDRUfmz\"/></p>\n"
   ]
  },
  {
   "cell_type": "markdown",
   "id": "355e27f9",
   "metadata": {
    "slideshow": {
     "slide_type": "subslide"
    }
   },
   "source": [
    "\n",
    "<p><img src=\"https://drive.google.com/uc?id=145bhQK2Gkcv9d7FgFG8rxyPCMOAW5dNz\" width=\"1600\"/></p>\n"
   ]
  },
  {
   "cell_type": "markdown",
   "id": "2f1c166b",
   "metadata": {
    "slideshow": {
     "slide_type": "subslide"
    }
   },
   "source": [
    "\n",
    "<h3 id=\"Notebooks\">Notebooks<a class=\"anchor-link\" href=\"https://kitt.lewagon.com/karr/data-lectures.kitt/07-Data-Engineering_01.html?title=Code+as+a+Product&amp;program_id=10#Notebooks\">¶</a></h3><p>👉 Great for exploration</p>\n",
    "<p>👉 Offer visible code feedback</p>\n",
    "<p>👉 Plots and graphs</p>\n"
   ]
  },
  {
   "cell_type": "markdown",
   "id": "9a9484eb",
   "metadata": {
    "slideshow": {
     "slide_type": "fragment"
    }
   },
   "source": [
    "\n",
    "<h3 id=\"Packages\">Classes / Packages<a class=\"anchor-link\" href=\"https://kitt.lewagon.com/karr/data-lectures.kitt/07-Data-Engineering_01.html?title=Code+as+a+Product&amp;program_id=10#Packages\">¶</a></h3><p>👉 Reusable code</p>\n",
    "<p>Reuse your code from one project to another, share it with your colleagues, or open source it (remember <code>pip</code>?)</p>\n"
   ]
  },
  {
   "cell_type": "markdown",
   "id": "45bf0f5a",
   "metadata": {
    "slideshow": {
     "slide_type": "fragment"
    }
   },
   "source": [
    "\n",
    "<p>👉 Deployable code</p>\n",
    "<p>Packages are the python standard to exchange code, they will allows us to run our code online and on-demand</p>\n"
   ]
  },
  {
   "cell_type": "markdown",
   "id": "439e8772",
   "metadata": {
    "slideshow": {
     "slide_type": "fragment"
    }
   },
   "source": [
    "\n",
    "<p>👉 Automation of tests and deployment (CI/CD)</p>\n",
    "<p>We want our code to be automatically validated, deployed to production, and to run without error</p>\n",
    "<p>We want to make sure our newly developed features do not break existing ones</p>\n"
   ]
  },
  {
   "cell_type": "markdown",
   "id": "8ec06856-e928-46bf-a681-eeb4517b514e",
   "metadata": {
    "slideshow": {
     "slide_type": "subslide"
    },
    "tags": []
   },
   "source": [
    "# From Notebook to Python Class\n"
   ]
  },
  {
   "cell_type": "markdown",
   "id": "f569ff7b",
   "metadata": {},
   "source": [
    "## Given our exploratory notebook:"
   ]
  },
  {
   "cell_type": "code",
   "execution_count": 42,
   "id": "2638aa88",
   "metadata": {
    "editable": true,
    "scrolled": true,
    "slideshow": {
     "slide_type": "fragment"
    },
    "tags": []
   },
   "outputs": [
    {
     "data": {
      "text/html": [
       "<div>\n",
       "<style scoped>\n",
       "    .dataframe tbody tr th:only-of-type {\n",
       "        vertical-align: middle;\n",
       "    }\n",
       "\n",
       "    .dataframe tbody tr th {\n",
       "        vertical-align: top;\n",
       "    }\n",
       "\n",
       "    .dataframe thead th {\n",
       "        text-align: right;\n",
       "    }\n",
       "</style>\n",
       "<table border=\"1\" class=\"dataframe\">\n",
       "  <thead>\n",
       "    <tr style=\"text-align: right;\">\n",
       "      <th></th>\n",
       "      <th>stn_code</th>\n",
       "      <th>state</th>\n",
       "      <th>location</th>\n",
       "      <th>type</th>\n",
       "      <th>so2</th>\n",
       "      <th>no2</th>\n",
       "      <th>date</th>\n",
       "      <th>rainfall</th>\n",
       "      <th>Predictions</th>\n",
       "    </tr>\n",
       "  </thead>\n",
       "  <tbody>\n",
       "    <tr>\n",
       "      <th>0</th>\n",
       "      <td>527</td>\n",
       "      <td>Madhya Pradesh</td>\n",
       "      <td>Ujjain</td>\n",
       "      <td>Industrial</td>\n",
       "      <td>7.8</td>\n",
       "      <td>9.1</td>\n",
       "      <td>13/10/2011</td>\n",
       "      <td>98.903760</td>\n",
       "      <td>1</td>\n",
       "    </tr>\n",
       "    <tr>\n",
       "      <th>1</th>\n",
       "      <td>258</td>\n",
       "      <td>Uttar Pradesh</td>\n",
       "      <td>Ghaziabad</td>\n",
       "      <td>Industrial</td>\n",
       "      <td>35.0</td>\n",
       "      <td>39.0</td>\n",
       "      <td>24/05/2011</td>\n",
       "      <td>126.244780</td>\n",
       "      <td>1</td>\n",
       "    </tr>\n",
       "    <tr>\n",
       "      <th>2</th>\n",
       "      <td>638</td>\n",
       "      <td>Maharashtra</td>\n",
       "      <td>Chandrapur</td>\n",
       "      <td>Industrial</td>\n",
       "      <td>15.0</td>\n",
       "      <td>10.0</td>\n",
       "      <td>21/07/2011</td>\n",
       "      <td>105.816791</td>\n",
       "      <td>0</td>\n",
       "    </tr>\n",
       "    <tr>\n",
       "      <th>3</th>\n",
       "      <td>537</td>\n",
       "      <td>Assam</td>\n",
       "      <td>Sivasagar</td>\n",
       "      <td>Residential</td>\n",
       "      <td>6.0</td>\n",
       "      <td>14.5</td>\n",
       "      <td>08/05/2013</td>\n",
       "      <td>49.449315</td>\n",
       "      <td>0</td>\n",
       "    </tr>\n",
       "    <tr>\n",
       "      <th>4</th>\n",
       "      <td>376</td>\n",
       "      <td>Rajasthan</td>\n",
       "      <td>Jodhpur</td>\n",
       "      <td>Residential</td>\n",
       "      <td>4.0</td>\n",
       "      <td>19.0</td>\n",
       "      <td>23/07/2004</td>\n",
       "      <td>86.035515</td>\n",
       "      <td>1</td>\n",
       "    </tr>\n",
       "  </tbody>\n",
       "</table>\n",
       "</div>"
      ],
      "text/plain": [
       "  stn_code           state    location         type   so2   no2        date  \\\n",
       "0      527  Madhya Pradesh      Ujjain   Industrial   7.8   9.1  13/10/2011   \n",
       "1      258   Uttar Pradesh   Ghaziabad   Industrial  35.0  39.0  24/05/2011   \n",
       "2      638     Maharashtra  Chandrapur   Industrial  15.0  10.0  21/07/2011   \n",
       "3      537           Assam   Sivasagar  Residential   6.0  14.5  08/05/2013   \n",
       "4      376       Rajasthan     Jodhpur  Residential   4.0  19.0  23/07/2004   \n",
       "\n",
       "     rainfall  Predictions  \n",
       "0   98.903760            1  \n",
       "1  126.244780            1  \n",
       "2  105.816791            0  \n",
       "3   49.449315            0  \n",
       "4   86.035515            1  "
      ]
     },
     "execution_count": 42,
     "metadata": {},
     "output_type": "execute_result"
    }
   ],
   "source": [
    "import pandas as pd\n",
    "import numpy as np\n",
    "from sklearn.model_selection import GridSearchCV, train_test_split\n",
    "from sklearn.preprocessing import OneHotEncoder, StandardScaler\n",
    "from sklearn.impute import SimpleImputer\n",
    "from sklearn.linear_model import LogisticRegression\n",
    "from sklearn.pipeline import Pipeline\n",
    "from sklearn.compose import ColumnTransformer\n",
    "\n",
    "# Load and split data\n",
    "data = pd.read_csv('Lecture_data/India_air_quality_light.csv')\n",
    "data = data.drop_duplicates()\n",
    "\n",
    "y = data.high_level # Target\n",
    "X = data.drop(columns='high_level') #Feature\n",
    "\n",
    "X_train, X_test, y_train, y_test = train_test_split(X, y, train_size=0.8)\n",
    "\n",
    "# Preprocess data\n",
    "\n",
    "# Impute then Scale for numerical variables: \n",
    "num_transformer = Pipeline([\n",
    "    ('num_imputer', SimpleImputer()),\n",
    "    ('num_scaler', StandardScaler())])\n",
    "\n",
    "# Encode categorical variables\n",
    "cat_transformer = Pipeline([\n",
    "    ('cat_imputer',SimpleImputer(strategy = 'most_frequent')),\n",
    "    ('cat_encoder',OneHotEncoder(handle_unknown='ignore', sparse_output=False))\n",
    "     ])\n",
    "\n",
    "preprocessor = ColumnTransformer([\n",
    "    ('num_transformer', num_transformer, X_train.select_dtypes(include=np.number).columns),\n",
    "    ('cat_transformer', cat_transformer, ['state', 'type'])\n",
    "])\n",
    "\n",
    "final_pipe = Pipeline([\n",
    "    ('preprocessing', preprocessor),\n",
    "    ('classifier', LogisticRegression(max_iter=2500))])\n",
    "\n",
    "\n",
    "# Train model with grid search\n",
    "final_pipe.fit(X_train, y_train)\n",
    "\n",
    "# Score final model\n",
    "final_pipe.score(X_test, y_test)\n",
    "\n",
    "# Predict (new) samples\n",
    "new_samples = pd.read_csv('Lecture_data/new_samples.csv')\n",
    "pred = final_pipe.predict(new_samples)\n",
    "new_samples['Predictions'] = pred\n",
    "\n",
    "new_samples.head()\n"
   ]
  },
  {
   "cell_type": "markdown",
   "id": "d4688357",
   "metadata": {
    "slideshow": {
     "slide_type": "subslide"
    }
   },
   "source": [
    "## Let's create a class that does the following:\n",
    "* Train the best Logistics Regression model and saves it\n",
    "* Prints our test score\n",
    "* Load the model and new data to make predictions"
   ]
  },
  {
   "cell_type": "markdown",
   "id": "0390c818",
   "metadata": {
    "slideshow": {
     "slide_type": "fragment"
    }
   },
   "source": [
    "## There are multiple ways to do this:\n",
    "* We can write one <code>PollutionModel</code> class that does it all\n",
    "* We can write one <code>TrainPollutionModel</code> for training and one <code>PredictPollution</code> class\n",
    "* We can write more classes as well as files containing utility functions\n",
    "* ..."
   ]
  },
  {
   "cell_type": "markdown",
   "id": "c8c3eaac",
   "metadata": {
    "slideshow": {
     "slide_type": "fragment"
    }
   },
   "source": [
    "👉🏽 Because our code is simple, let's do one class only"
   ]
  },
  {
   "cell_type": "markdown",
   "id": "fb2919c2",
   "metadata": {
    "slideshow": {
     "slide_type": "subslide"
    }
   },
   "source": [
    "## Let's try our new class!"
   ]
  },
  {
   "cell_type": "code",
   "execution_count": 46,
   "id": "031ab5d8",
   "metadata": {
    "editable": true,
    "slideshow": {
     "slide_type": "-"
    },
    "tags": []
   },
   "outputs": [],
   "source": [
    "from pollution_model import PollutionModel\n",
    "\n",
    "model = PollutionModel('https://drive.google.com/uc?id=13nr-VHGi2zFRpfHhCfz-yHJLX3LQrfTX')"
   ]
  },
  {
   "cell_type": "code",
   "execution_count": 47,
   "id": "d4126b71",
   "metadata": {
    "editable": true,
    "slideshow": {
     "slide_type": ""
    },
    "tags": []
   },
   "outputs": [
    {
     "data": {
      "text/plain": [
       "0.7305346250448511"
      ]
     },
     "execution_count": 47,
     "metadata": {},
     "output_type": "execute_result"
    }
   ],
   "source": [
    "model.score_model()"
   ]
  },
  {
   "cell_type": "code",
   "execution_count": 48,
   "id": "5db98fde",
   "metadata": {},
   "outputs": [
    {
     "data": {
      "text/html": [
       "<div>\n",
       "<style scoped>\n",
       "    .dataframe tbody tr th:only-of-type {\n",
       "        vertical-align: middle;\n",
       "    }\n",
       "\n",
       "    .dataframe tbody tr th {\n",
       "        vertical-align: top;\n",
       "    }\n",
       "\n",
       "    .dataframe thead th {\n",
       "        text-align: right;\n",
       "    }\n",
       "</style>\n",
       "<table border=\"1\" class=\"dataframe\">\n",
       "  <thead>\n",
       "    <tr style=\"text-align: right;\">\n",
       "      <th></th>\n",
       "      <th>stn_code</th>\n",
       "      <th>state</th>\n",
       "      <th>location</th>\n",
       "      <th>type</th>\n",
       "      <th>so2</th>\n",
       "      <th>no2</th>\n",
       "      <th>date</th>\n",
       "      <th>rainfall</th>\n",
       "      <th>Predictions</th>\n",
       "    </tr>\n",
       "  </thead>\n",
       "  <tbody>\n",
       "    <tr>\n",
       "      <th>0</th>\n",
       "      <td>527</td>\n",
       "      <td>Madhya Pradesh</td>\n",
       "      <td>Ujjain</td>\n",
       "      <td>Industrial</td>\n",
       "      <td>7.8</td>\n",
       "      <td>9.1</td>\n",
       "      <td>13/10/2011</td>\n",
       "      <td>98.903760</td>\n",
       "      <td>1</td>\n",
       "    </tr>\n",
       "    <tr>\n",
       "      <th>1</th>\n",
       "      <td>258</td>\n",
       "      <td>Uttar Pradesh</td>\n",
       "      <td>Ghaziabad</td>\n",
       "      <td>Industrial</td>\n",
       "      <td>35.0</td>\n",
       "      <td>39.0</td>\n",
       "      <td>24/05/2011</td>\n",
       "      <td>126.244780</td>\n",
       "      <td>1</td>\n",
       "    </tr>\n",
       "    <tr>\n",
       "      <th>2</th>\n",
       "      <td>638</td>\n",
       "      <td>Maharashtra</td>\n",
       "      <td>Chandrapur</td>\n",
       "      <td>Industrial</td>\n",
       "      <td>15.0</td>\n",
       "      <td>10.0</td>\n",
       "      <td>21/07/2011</td>\n",
       "      <td>105.816791</td>\n",
       "      <td>0</td>\n",
       "    </tr>\n",
       "    <tr>\n",
       "      <th>3</th>\n",
       "      <td>537</td>\n",
       "      <td>Assam</td>\n",
       "      <td>Sivasagar</td>\n",
       "      <td>Residential</td>\n",
       "      <td>6.0</td>\n",
       "      <td>14.5</td>\n",
       "      <td>08/05/2013</td>\n",
       "      <td>49.449315</td>\n",
       "      <td>0</td>\n",
       "    </tr>\n",
       "    <tr>\n",
       "      <th>4</th>\n",
       "      <td>376</td>\n",
       "      <td>Rajasthan</td>\n",
       "      <td>Jodhpur</td>\n",
       "      <td>Residential</td>\n",
       "      <td>4.0</td>\n",
       "      <td>19.0</td>\n",
       "      <td>23/07/2004</td>\n",
       "      <td>86.035515</td>\n",
       "      <td>1</td>\n",
       "    </tr>\n",
       "    <tr>\n",
       "      <th>...</th>\n",
       "      <td>...</td>\n",
       "      <td>...</td>\n",
       "      <td>...</td>\n",
       "      <td>...</td>\n",
       "      <td>...</td>\n",
       "      <td>...</td>\n",
       "      <td>...</td>\n",
       "      <td>...</td>\n",
       "      <td>...</td>\n",
       "    </tr>\n",
       "    <tr>\n",
       "      <th>30999</th>\n",
       "      <td>457</td>\n",
       "      <td>Karnataka</td>\n",
       "      <td>Bangalore</td>\n",
       "      <td>Residential</td>\n",
       "      <td>14.0</td>\n",
       "      <td>28.0</td>\n",
       "      <td>19/05/2014</td>\n",
       "      <td>NaN</td>\n",
       "      <td>0</td>\n",
       "    </tr>\n",
       "    <tr>\n",
       "      <th>31000</th>\n",
       "      <td>565</td>\n",
       "      <td>Himachal Pradesh</td>\n",
       "      <td>Nalagarh</td>\n",
       "      <td>Residential</td>\n",
       "      <td>1.0</td>\n",
       "      <td>10.0</td>\n",
       "      <td>17/01/2011</td>\n",
       "      <td>NaN</td>\n",
       "      <td>0</td>\n",
       "    </tr>\n",
       "    <tr>\n",
       "      <th>31001</th>\n",
       "      <td>574</td>\n",
       "      <td>Maharashtra</td>\n",
       "      <td>Sangli</td>\n",
       "      <td>Residential</td>\n",
       "      <td>14.0</td>\n",
       "      <td>36.0</td>\n",
       "      <td>21/03/2011</td>\n",
       "      <td>131.366458</td>\n",
       "      <td>1</td>\n",
       "    </tr>\n",
       "    <tr>\n",
       "      <th>31002</th>\n",
       "      <td>NaN</td>\n",
       "      <td>Maharashtra</td>\n",
       "      <td>Pune</td>\n",
       "      <td>Others</td>\n",
       "      <td>18.0</td>\n",
       "      <td>49.3</td>\n",
       "      <td>16/11/2007</td>\n",
       "      <td>94.813520</td>\n",
       "      <td>1</td>\n",
       "    </tr>\n",
       "    <tr>\n",
       "      <th>31003</th>\n",
       "      <td>361</td>\n",
       "      <td>Kerala</td>\n",
       "      <td>Kottayam</td>\n",
       "      <td>Industrial</td>\n",
       "      <td>5.0</td>\n",
       "      <td>14.0</td>\n",
       "      <td>29/12/2011</td>\n",
       "      <td>77.968207</td>\n",
       "      <td>0</td>\n",
       "    </tr>\n",
       "  </tbody>\n",
       "</table>\n",
       "<p>31004 rows × 9 columns</p>\n",
       "</div>"
      ],
      "text/plain": [
       "      stn_code             state    location         type   so2   no2  \\\n",
       "0          527    Madhya Pradesh      Ujjain   Industrial   7.8   9.1   \n",
       "1          258     Uttar Pradesh   Ghaziabad   Industrial  35.0  39.0   \n",
       "2          638       Maharashtra  Chandrapur   Industrial  15.0  10.0   \n",
       "3          537             Assam   Sivasagar  Residential   6.0  14.5   \n",
       "4          376         Rajasthan     Jodhpur  Residential   4.0  19.0   \n",
       "...        ...               ...         ...          ...   ...   ...   \n",
       "30999      457         Karnataka   Bangalore  Residential  14.0  28.0   \n",
       "31000      565  Himachal Pradesh    Nalagarh  Residential   1.0  10.0   \n",
       "31001      574       Maharashtra      Sangli  Residential  14.0  36.0   \n",
       "31002      NaN       Maharashtra        Pune       Others  18.0  49.3   \n",
       "31003      361            Kerala    Kottayam   Industrial   5.0  14.0   \n",
       "\n",
       "             date    rainfall  Predictions  \n",
       "0      13/10/2011   98.903760            1  \n",
       "1      24/05/2011  126.244780            1  \n",
       "2      21/07/2011  105.816791            0  \n",
       "3      08/05/2013   49.449315            0  \n",
       "4      23/07/2004   86.035515            1  \n",
       "...           ...         ...          ...  \n",
       "30999  19/05/2014         NaN            0  \n",
       "31000  17/01/2011         NaN            0  \n",
       "31001  21/03/2011  131.366458            1  \n",
       "31002  16/11/2007   94.813520            1  \n",
       "31003  29/12/2011   77.968207            0  \n",
       "\n",
       "[31004 rows x 9 columns]"
      ]
     },
     "execution_count": 48,
     "metadata": {},
     "output_type": "execute_result"
    }
   ],
   "source": [
    "model.predict('https://drive.google.com/uc?id=13k22u8G6FvV7f1Z8rsCrLksLY3j6SNo1')"
   ]
  },
  {
   "cell_type": "markdown",
   "id": "3f860334-2ed5-4a2d-a65c-176d1e13720f",
   "metadata": {
    "slideshow": {
     "slide_type": "subslide"
    }
   },
   "source": [
    "# Suggested Resources"
   ]
  },
  {
   "cell_type": "markdown",
   "id": "87e6ad11-021a-48a5-9a31-585377063520",
   "metadata": {
    "slideshow": {
     "slide_type": "-"
    },
    "tags": []
   },
   "source": [
    "## 📺 Videos \n",
    "#### Short videos from my Undegraduate Machine Learning Classes:\n",
    "* 📼 <a href=\"https://youtu.be/VSGTHhUqIk4?list=PLZzjCZ3QdgQCcRIwQdd-_cJNAUgiEBB_n\">Data preparation pipelines</a>\n",
    "\n",
    "#### Others:\n",
    "\n",
    "* 📼 <a href=\"https://developers.google.com/machine-learning/guides/rules-of-ml\">Rules of Machine Learning</a> by Google Developers (gives advise on designing ML systems) "
   ]
  },
  {
   "cell_type": "markdown",
   "id": "37232105-3381-4f8d-a95a-41a03c25888f",
   "metadata": {
    "slideshow": {
     "slide_type": "-"
    },
    "tags": []
   },
   "source": [
    "## 📚 Further Reading \n",
    "* 📖 <a href=\"https://hazelcast.com/glossary/data-pipeline/\">Data Pipelines</a> by Hazelcast\n",
    "* 📖 <a href=\"https://python-packaging-tutorial.readthedocs.io/en/latest/setup_py.html\">Python packages and easy introduction</a> \n",
    "* 📖 <a href=\"https://packaging.python.org/en/latest/tutorials/packaging-projects/\">Packaging Python Projects</a> \n"
   ]
  },
  {
   "cell_type": "markdown",
   "id": "12875bfd-781a-40f4-8871-67eaf007a396",
   "metadata": {
    "editable": true,
    "slideshow": {
     "slide_type": "subslide"
    },
    "tags": []
   },
   "source": [
    "## 💻🐍 Time to Code ! "
   ]
  }
 ],
 "metadata": {
  "celltoolbar": "Slideshow",
  "kernelspec": {
   "display_name": "Python 3 (ipykernel)",
   "language": "python",
   "name": "python3"
  },
  "language_info": {
   "codemirror_mode": {
    "name": "ipython",
    "version": 3
   },
   "file_extension": ".py",
   "mimetype": "text/x-python",
   "name": "python",
   "nbconvert_exporter": "python",
   "pygments_lexer": "ipython3",
   "version": "3.11.5"
  },
  "rise": {
   "scroll": true,
   "theme": "serif",
   "transition": "none"
  },
  "toc": {
   "base_numbering": 1,
   "nav_menu": {},
   "number_sections": false,
   "sideBar": true,
   "skip_h1_title": false,
   "title_cell": "Table of Contents",
   "title_sidebar": "Contents",
   "toc_cell": false,
   "toc_position": {},
   "toc_section_display": true,
   "toc_window_display": false
  }
 },
 "nbformat": 4,
 "nbformat_minor": 5
}
