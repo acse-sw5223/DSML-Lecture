{
 "cells": [
  {
   "cell_type": "markdown",
   "id": "03aebccf",
   "metadata": {},
   "source": [
    "<img src=\"https://drive.google.com/uc?id=1-cL5eOpEsbuIEkvwW2KnpXC12-PAbamr\" style=\"Width:1000px\">"
   ]
  },
  {
   "cell_type": "markdown",
   "id": "dc210d7f",
   "metadata": {},
   "source": [
    "# Vectorizer Tuning\n",
    "\n",
    "The task of this exercise is to simultaneously tune a vectorizer and a model. You will reuse your pre-processed text (the `processed_data.csv` file you created in the last exercise), and then:\n",
    "- Stack a vectorizer and model in a Pipeline\n",
    "- Set a range of parameters for vectorizer and model in a grid\n",
    "- Perform grid search on entire pipeline\n",
    "\n",
    "## Load the data\n",
    "\n",
    "First, load the data your already processed in a dataframe called `data`."
   ]
  },
  {
   "cell_type": "code",
   "execution_count": null,
   "id": "f8ac87ac",
   "metadata": {},
   "outputs": [],
   "source": [
    "from nltk.stem import WordNetLemmatizer\n",
    "import string\n",
    "from nltk.corpus import stopwords \n",
    "from nltk.tokenize import word_tokenize"
   ]
  },
  {
   "cell_type": "code",
   "execution_count": null,
   "id": "448c4434",
   "metadata": {},
   "outputs": [],
   "source": [
    "import pandas as pd\n",
    "\n",
    "data = pd.read_csv(\"raw_data/processed_data.csv\")\n",
    "\n",
    "data.head()"
   ]
  },
  {
   "cell_type": "markdown",
   "id": "c5a5c0c2",
   "metadata": {},
   "source": [
    "## Tuning"
   ]
  },
  {
   "cell_type": "markdown",
   "id": "a3cd8c30",
   "metadata": {},
   "source": [
    "Now use `GridSearchCV` to tune a vectorizer of your choice (or try both!) and a MultinomialNB model simultaneously. The goal is to beak your previous score. Save your best cross validation score in a variable named `best_score`."
   ]
  },
  {
   "cell_type": "code",
   "execution_count": null,
   "id": "2e357e3a",
   "metadata": {},
   "outputs": [],
   "source": [
    "from sklearn.pipeline import Pipeline\n",
    "from sklearn.model_selection import cross_validate\n",
    "from sklearn.feature_extraction.text import CountVectorizer,TfidfVectorizer\n",
    "from sklearn.naive_bayes import MultinomialNB\n",
    "from sklearn.compose import ColumnTransformer\n"
   ]
  },
  {
   "cell_type": "code",
   "execution_count": null,
   "id": "23a6ef4c",
   "metadata": {},
   "outputs": [],
   "source": [
    "from sklearn.model_selection import GridSearchCV\n",
    "# Set parameters to search (model and vectorizer)\n",
    "\n",
    "params = {\n",
    "    'vectorizer__ngram_range':[(1,1),(1,2),(2,2),(2,3),(3,3)]\n",
    "}\n",
    "\n",
    "\n",
    "results = []\n",
    "\n",
    "\n",
    "for vectorizer in [CountVectorizer(),TfidfVectorizer()]:\n",
    "    pipe = Pipeline([\n",
    "    ('vectorizer',vectorizer),\n",
    "    ('model', MultinomialNB())])\n",
    "    cv = GridSearchCV(estimator=pipe,scoring='accuracy', \n",
    "                          param_grid = params, n_jobs=-1, verbose=1)\n",
    "    results.append(cv.fit(data.clean_text, data.sentiment))"
   ]
  },
  {
   "cell_type": "code",
   "execution_count": null,
   "id": "d75592ff",
   "metadata": {},
   "outputs": [],
   "source": [
    "print(f\"Bag of words: {results[0].best_params_}\")\n",
    "print(f\"Tfidf: {results[1].best_params_}\")"
   ]
  },
  {
   "cell_type": "code",
   "execution_count": null,
   "id": "77dd402b",
   "metadata": {},
   "outputs": [],
   "source": [
    "print(f\"Bag of words: {results[0].best_score_}\")\n",
    "print(f\"Tfidf: {results[1].best_score_}\")"
   ]
  },
  {
   "cell_type": "code",
   "execution_count": null,
   "id": "bf09ff26",
   "metadata": {},
   "outputs": [],
   "source": [
    "best_score = results[1].best_score_"
   ]
  },
  {
   "cell_type": "code",
   "execution_count": null,
   "id": "19c943ad",
   "metadata": {},
   "outputs": [],
   "source": [
    "from nbresult import ChallengeResult\n",
    "\n",
    "result = ChallengeResult('model_performance',\n",
    "                         score = best_score,\n",
    ")\n",
    "\n",
    "result.write()\n",
    "print(result.check())"
   ]
  },
  {
   "cell_type": "markdown",
   "id": "c351722b",
   "metadata": {},
   "source": [
    "# 🏁 Finished!\n",
    "\n",
    "Well done! <span style=\"color:teal\">**Push your exercise to GitHub**</span>, and move on to the next one."
   ]
  }
 ],
 "metadata": {
  "kernelspec": {
   "display_name": "Python 3 (ipykernel)",
   "language": "python",
   "name": "python3"
  },
  "language_info": {
   "codemirror_mode": {
    "name": "ipython",
    "version": 3
   },
   "file_extension": ".py",
   "mimetype": "text/x-python",
   "name": "python",
   "nbconvert_exporter": "python",
   "pygments_lexer": "ipython3",
   "version": "3.11.2"
  }
 },
 "nbformat": 4,
 "nbformat_minor": 5
}
