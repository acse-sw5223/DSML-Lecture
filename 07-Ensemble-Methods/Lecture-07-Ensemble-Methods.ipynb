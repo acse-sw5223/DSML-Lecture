{
 "cells": [
  {
   "cell_type": "markdown",
   "metadata": {},
   "source": [
    "**Day 7**: Ensemble Learning 🫐 (***live in 1.47***)"
   ]
  },
  {
   "cell_type": "markdown",
   "metadata": {
    "editable": true,
    "slideshow": {
     "slide_type": "slide"
    },
    "tags": []
   },
   "source": [
    "<center><h1 style=\"color:maroon\">Ensemble Methods</h1>\n",
    "    <img src=\"https://drive.google.com/uc?id=15nHkPumClrtZSt2QMijeok-h06bkvF0L\" style=\"width:1300px\">\n",
    "\n",
    "    <h3><span style=\"color: #045F5F\">Data Science & Machine Learning for Planet Earth Lecture Series</span></h3><h6><i> by Cédric M. John <span style=\"size:6pts\">(2023)</span></i></h6></center>"
   ]
  },
  {
   "cell_type": "markdown",
   "metadata": {
    "slideshow": {
     "slide_type": "slide"
    }
   },
   "source": [
    "## Plan for today's Lecture 🗓 "
   ]
  },
  {
   "cell_type": "markdown",
   "metadata": {
    "slideshow": {
     "slide_type": "fragment"
    }
   },
   "source": [
    "* <code>DecisionTree</code> for classification\n",
    "* <code>DecisionTree</code> for regression\n",
    "* Bagging algorithms: <code>RandomForest</code>\n",
    "* Boosting: <code>AdaBoost</code> and <code>xgboost</code>\n",
    "* Stacking algorithms"
   ]
  },
  {
   "cell_type": "markdown",
   "metadata": {
    "slideshow": {
     "slide_type": "fragment"
    }
   },
   "source": [
    "## Intended learning outcomes 👩‍🎓"
   ]
  },
  {
   "cell_type": "markdown",
   "metadata": {
    "slideshow": {
     "slide_type": "fragment"
    }
   },
   "source": [
    "* Understand variance in decision trees\n",
    "* Apply <code>RandomForest</code> and <code>xgboost</code> (some of the most powerful algorithms\n",
    "* Unleash the power of Ensemble methods on your problem"
   ]
  },
  {
   "cell_type": "markdown",
   "metadata": {
    "editable": true,
    "slideshow": {
     "slide_type": "subslide"
    },
    "tags": []
   },
   "source": [
    "# Decision Trees\n",
    "<br>\n",
    "<center><img src=\"https://drive.google.com/uc?id=163OsC3pLMZwJvMrwpp_yrYwYnR8ETi-b\" style=\"width:900px;\">\n",
    "<br>\n",
    " © Cédric John, 2022; Image generated with <a href=\"https://openai.com/blog/dall-e/\">DALL-E</a><br>\n",
    "    <br>Prompt: 3D rending of a glass Christmas bubble in purple colors with a tree visible in the reflection.</center>"
   ]
  },
  {
   "cell_type": "markdown",
   "metadata": {
    "editable": true,
    "slideshow": {
     "slide_type": "subslide"
    },
    "tags": []
   },
   "source": [
    "\n",
    "<p>Decision Trees are hierarchical supervised learning algorithms.</p>\n",
    "<ul>\n",
    "<li>Classification and Regression</li>\n",
    "<li>Non-linear modelling</li>\n",
    "<li>Break down the data through binary decisions</li>\n",
    "</ul>\n",
    "<p><img src=\"https://drive.google.com/uc?id=15k9rgeuN6lnBIKYHyVV6Rp_xtndtznAD\" style=\"margin:auto\" width=\"400\"/></p>\n",
    "\n",
    "<a href=\"https://medium.com/analytics-vidhya/ensemble-models-bagging-boosting-c33706db0b0b\">Silipo, 2020</a>\n"
   ]
  },
  {
   "cell_type": "markdown",
   "metadata": {
    "editable": true,
    "slideshow": {
     "slide_type": "subslide"
    },
    "tags": []
   },
   "source": [
    "### Dataset\n",
    "\n",
    "<span style=\"color:teal\">**Let's start with a classic:** </span><a href=\"https://en.wikipedia.org/wiki/Iris_flower_data_set\">Iris Dataset (Fisher, 1936)</a><br>\n",
    "\n",
    "<img src=\"https://drive.google.com/uc?id=15f4Swq-LGEXPl128WepVMWNXF5bb0VCn\" style=\"width:1500px\"/>"
   ]
  },
  {
   "cell_type": "markdown",
   "metadata": {
    "editable": true,
    "slideshow": {
     "slide_type": "subslide"
    },
    "tags": []
   },
   "source": [
    "\n",
    "<h2 id=\"1.1-🖥-DecisionTreeClassifier\">1.1 🖥 <a href=\"https://scikit-learn.org/stable/modules/generated/sklearn.tree.DecisionTreeClassifier.html\"><code>DecisionTreeClassifier</code></a><a class=\"anchor-link\" href=\"https://kitt.lewagon.com/karr/data-lectures.kitt/05-ML_07-Ensemble-Methods.html?title=Ensemble+Methods&amp;program_id=10#1.1-%F0%9F%96%A5-DecisionTreeClassifier\">¶</a></h2>\n"
   ]
  },
  {
   "cell_type": "code",
   "execution_count": 1,
   "metadata": {
    "editable": true,
    "slideshow": {
     "slide_type": "-"
    },
    "tags": []
   },
   "outputs": [
    {
     "name": "stdout",
     "output_type": "stream",
     "text": [
      "(150, 2)\n",
      "target\n",
      "0.0    50\n",
      "1.0    50\n",
      "2.0    50\n",
      "Name: count, dtype: int64\n"
     ]
    }
   ],
   "source": [
    "# Load and prepare iris dataset\n",
    "import pandas as pd\n",
    "import numpy as np\n",
    "import matplotlib.pyplot as plt\n",
    "from sklearn.datasets import load_iris\n",
    "\n",
    "iris = load_iris()\n",
    "data = pd.DataFrame(data= np.c_[iris['data'], iris['target']],\n",
    "                     columns= iris['feature_names'] + ['target'])\n",
    "X = data[['petal length (cm)', 'petal width (cm)']]\n",
    "y = data.target\n",
    "\n",
    "print(X.shape)\n",
    "print(y.value_counts())"
   ]
  },
  {
   "cell_type": "code",
   "execution_count": 2,
   "metadata": {
    "slideshow": {
     "slide_type": "subslide"
    }
   },
   "outputs": [
    {
     "data": {
      "text/html": [
       "<style>#sk-container-id-1 {color: black;}#sk-container-id-1 pre{padding: 0;}#sk-container-id-1 div.sk-toggleable {background-color: white;}#sk-container-id-1 label.sk-toggleable__label {cursor: pointer;display: block;width: 100%;margin-bottom: 0;padding: 0.3em;box-sizing: border-box;text-align: center;}#sk-container-id-1 label.sk-toggleable__label-arrow:before {content: \"▸\";float: left;margin-right: 0.25em;color: #696969;}#sk-container-id-1 label.sk-toggleable__label-arrow:hover:before {color: black;}#sk-container-id-1 div.sk-estimator:hover label.sk-toggleable__label-arrow:before {color: black;}#sk-container-id-1 div.sk-toggleable__content {max-height: 0;max-width: 0;overflow: hidden;text-align: left;background-color: #f0f8ff;}#sk-container-id-1 div.sk-toggleable__content pre {margin: 0.2em;color: black;border-radius: 0.25em;background-color: #f0f8ff;}#sk-container-id-1 input.sk-toggleable__control:checked~div.sk-toggleable__content {max-height: 200px;max-width: 100%;overflow: auto;}#sk-container-id-1 input.sk-toggleable__control:checked~label.sk-toggleable__label-arrow:before {content: \"▾\";}#sk-container-id-1 div.sk-estimator input.sk-toggleable__control:checked~label.sk-toggleable__label {background-color: #d4ebff;}#sk-container-id-1 div.sk-label input.sk-toggleable__control:checked~label.sk-toggleable__label {background-color: #d4ebff;}#sk-container-id-1 input.sk-hidden--visually {border: 0;clip: rect(1px 1px 1px 1px);clip: rect(1px, 1px, 1px, 1px);height: 1px;margin: -1px;overflow: hidden;padding: 0;position: absolute;width: 1px;}#sk-container-id-1 div.sk-estimator {font-family: monospace;background-color: #f0f8ff;border: 1px dotted black;border-radius: 0.25em;box-sizing: border-box;margin-bottom: 0.5em;}#sk-container-id-1 div.sk-estimator:hover {background-color: #d4ebff;}#sk-container-id-1 div.sk-parallel-item::after {content: \"\";width: 100%;border-bottom: 1px solid gray;flex-grow: 1;}#sk-container-id-1 div.sk-label:hover label.sk-toggleable__label {background-color: #d4ebff;}#sk-container-id-1 div.sk-serial::before {content: \"\";position: absolute;border-left: 1px solid gray;box-sizing: border-box;top: 0;bottom: 0;left: 50%;z-index: 0;}#sk-container-id-1 div.sk-serial {display: flex;flex-direction: column;align-items: center;background-color: white;padding-right: 0.2em;padding-left: 0.2em;position: relative;}#sk-container-id-1 div.sk-item {position: relative;z-index: 1;}#sk-container-id-1 div.sk-parallel {display: flex;align-items: stretch;justify-content: center;background-color: white;position: relative;}#sk-container-id-1 div.sk-item::before, #sk-container-id-1 div.sk-parallel-item::before {content: \"\";position: absolute;border-left: 1px solid gray;box-sizing: border-box;top: 0;bottom: 0;left: 50%;z-index: -1;}#sk-container-id-1 div.sk-parallel-item {display: flex;flex-direction: column;z-index: 1;position: relative;background-color: white;}#sk-container-id-1 div.sk-parallel-item:first-child::after {align-self: flex-end;width: 50%;}#sk-container-id-1 div.sk-parallel-item:last-child::after {align-self: flex-start;width: 50%;}#sk-container-id-1 div.sk-parallel-item:only-child::after {width: 0;}#sk-container-id-1 div.sk-dashed-wrapped {border: 1px dashed gray;margin: 0 0.4em 0.5em 0.4em;box-sizing: border-box;padding-bottom: 0.4em;background-color: white;}#sk-container-id-1 div.sk-label label {font-family: monospace;font-weight: bold;display: inline-block;line-height: 1.2em;}#sk-container-id-1 div.sk-label-container {text-align: center;}#sk-container-id-1 div.sk-container {/* jupyter's `normalize.less` sets `[hidden] { display: none; }` but bootstrap.min.css set `[hidden] { display: none !important; }` so we also need the `!important` here to be able to override the default hidden behavior on the sphinx rendered scikit-learn.org. See: https://github.com/scikit-learn/scikit-learn/issues/21755 */display: inline-block !important;position: relative;}#sk-container-id-1 div.sk-text-repr-fallback {display: none;}</style><div id=\"sk-container-id-1\" class=\"sk-top-container\"><div class=\"sk-text-repr-fallback\"><pre>DecisionTreeClassifier(max_depth=2, random_state=2)</pre><b>In a Jupyter environment, please rerun this cell to show the HTML representation or trust the notebook. <br />On GitHub, the HTML representation is unable to render, please try loading this page with nbviewer.org.</b></div><div class=\"sk-container\" hidden><div class=\"sk-item\"><div class=\"sk-estimator sk-toggleable\"><input class=\"sk-toggleable__control sk-hidden--visually\" id=\"sk-estimator-id-1\" type=\"checkbox\" checked><label for=\"sk-estimator-id-1\" class=\"sk-toggleable__label sk-toggleable__label-arrow\">DecisionTreeClassifier</label><div class=\"sk-toggleable__content\"><pre>DecisionTreeClassifier(max_depth=2, random_state=2)</pre></div></div></div></div></div>"
      ],
      "text/plain": [
       "DecisionTreeClassifier(max_depth=2, random_state=2)"
      ]
     },
     "execution_count": 2,
     "metadata": {},
     "output_type": "execute_result"
    }
   ],
   "source": [
    "\n",
    "# Instanciate and train model\n",
    "from sklearn.tree import DecisionTreeClassifier\n",
    "tree_clf = DecisionTreeClassifier(max_depth=2, random_state=2)\n",
    "tree_clf.fit(X,y)"
   ]
  },
  {
   "cell_type": "code",
   "execution_count": 3,
   "metadata": {
    "slideshow": {
     "slide_type": "subslide"
    }
   },
   "outputs": [],
   "source": [
    "import graphviz\n",
    "\n",
    "# Export model graph\n",
    "from sklearn.tree import export_graphviz\n",
    "export_graphviz(tree_clf, out_file=\"iris_tree.dot\", feature_names=X.columns,\n",
    "                class_names=['0','1','2'], rounded=True, filled=True)"
   ]
  },
  {
   "cell_type": "code",
   "execution_count": 4,
   "metadata": {
    "slideshow": {
     "slide_type": "subslide"
    }
   },
   "outputs": [
    {
     "ename": "ExecutableNotFound",
     "evalue": "failed to execute PosixPath('dot'), make sure the Graphviz executables are on your systems' PATH",
     "output_type": "error",
     "traceback": [
      "\u001b[0;31m---------------------------------------------------------------------------\u001b[0m",
      "\u001b[0;31mFileNotFoundError\u001b[0m                         Traceback (most recent call last)",
      "File \u001b[0;32m~/anaconda3/envs/ese-msc/lib/python3.11/site-packages/graphviz/backend/execute.py:79\u001b[0m, in \u001b[0;36mrun_check\u001b[0;34m(cmd, input_lines, encoding, quiet, **kwargs)\u001b[0m\n\u001b[1;32m     78\u001b[0m         kwargs[\u001b[39m'\u001b[39m\u001b[39mstdout\u001b[39m\u001b[39m'\u001b[39m] \u001b[39m=\u001b[39m kwargs[\u001b[39m'\u001b[39m\u001b[39mstderr\u001b[39m\u001b[39m'\u001b[39m] \u001b[39m=\u001b[39m subprocess\u001b[39m.\u001b[39mPIPE\n\u001b[0;32m---> 79\u001b[0m     proc \u001b[39m=\u001b[39m _run_input_lines(cmd, input_lines, kwargs\u001b[39m=\u001b[39mkwargs)\n\u001b[1;32m     80\u001b[0m \u001b[39melse\u001b[39;00m:\n",
      "File \u001b[0;32m~/anaconda3/envs/ese-msc/lib/python3.11/site-packages/graphviz/backend/execute.py:99\u001b[0m, in \u001b[0;36m_run_input_lines\u001b[0;34m(cmd, input_lines, kwargs)\u001b[0m\n\u001b[1;32m     98\u001b[0m \u001b[39mdef\u001b[39;00m \u001b[39m_run_input_lines\u001b[39m(cmd, input_lines, \u001b[39m*\u001b[39m, kwargs):\n\u001b[0;32m---> 99\u001b[0m     popen \u001b[39m=\u001b[39m subprocess\u001b[39m.\u001b[39mPopen(cmd, stdin\u001b[39m=\u001b[39msubprocess\u001b[39m.\u001b[39mPIPE, \u001b[39m*\u001b[39m\u001b[39m*\u001b[39mkwargs)\n\u001b[1;32m    101\u001b[0m     stdin_write \u001b[39m=\u001b[39m popen\u001b[39m.\u001b[39mstdin\u001b[39m.\u001b[39mwrite\n",
      "File \u001b[0;32m~/anaconda3/envs/ese-msc/lib/python3.11/subprocess.py:1026\u001b[0m, in \u001b[0;36mPopen.__init__\u001b[0;34m(self, args, bufsize, executable, stdin, stdout, stderr, preexec_fn, close_fds, shell, cwd, env, universal_newlines, startupinfo, creationflags, restore_signals, start_new_session, pass_fds, user, group, extra_groups, encoding, errors, text, umask, pipesize, process_group)\u001b[0m\n\u001b[1;32m   1023\u001b[0m             \u001b[39mself\u001b[39m\u001b[39m.\u001b[39mstderr \u001b[39m=\u001b[39m io\u001b[39m.\u001b[39mTextIOWrapper(\u001b[39mself\u001b[39m\u001b[39m.\u001b[39mstderr,\n\u001b[1;32m   1024\u001b[0m                     encoding\u001b[39m=\u001b[39mencoding, errors\u001b[39m=\u001b[39merrors)\n\u001b[0;32m-> 1026\u001b[0m     \u001b[39mself\u001b[39m\u001b[39m.\u001b[39m_execute_child(args, executable, preexec_fn, close_fds,\n\u001b[1;32m   1027\u001b[0m                         pass_fds, cwd, env,\n\u001b[1;32m   1028\u001b[0m                         startupinfo, creationflags, shell,\n\u001b[1;32m   1029\u001b[0m                         p2cread, p2cwrite,\n\u001b[1;32m   1030\u001b[0m                         c2pread, c2pwrite,\n\u001b[1;32m   1031\u001b[0m                         errread, errwrite,\n\u001b[1;32m   1032\u001b[0m                         restore_signals,\n\u001b[1;32m   1033\u001b[0m                         gid, gids, uid, umask,\n\u001b[1;32m   1034\u001b[0m                         start_new_session, process_group)\n\u001b[1;32m   1035\u001b[0m \u001b[39mexcept\u001b[39;00m:\n\u001b[1;32m   1036\u001b[0m     \u001b[39m# Cleanup if the child failed starting.\u001b[39;00m\n",
      "File \u001b[0;32m~/anaconda3/envs/ese-msc/lib/python3.11/subprocess.py:1950\u001b[0m, in \u001b[0;36mPopen._execute_child\u001b[0;34m(self, args, executable, preexec_fn, close_fds, pass_fds, cwd, env, startupinfo, creationflags, shell, p2cread, p2cwrite, c2pread, c2pwrite, errread, errwrite, restore_signals, gid, gids, uid, umask, start_new_session, process_group)\u001b[0m\n\u001b[1;32m   1949\u001b[0m         err_msg \u001b[39m=\u001b[39m os\u001b[39m.\u001b[39mstrerror(errno_num)\n\u001b[0;32m-> 1950\u001b[0m     \u001b[39mraise\u001b[39;00m child_exception_type(errno_num, err_msg, err_filename)\n\u001b[1;32m   1951\u001b[0m \u001b[39mraise\u001b[39;00m child_exception_type(err_msg)\n",
      "\u001b[0;31mFileNotFoundError\u001b[0m: [Errno 2] No such file or directory: PosixPath('dot')",
      "\nThe above exception was the direct cause of the following exception:\n",
      "\u001b[0;31mExecutableNotFound\u001b[0m                        Traceback (most recent call last)",
      "File \u001b[0;32m~/anaconda3/envs/ese-msc/lib/python3.11/site-packages/IPython/core/formatters.py:974\u001b[0m, in \u001b[0;36mMimeBundleFormatter.__call__\u001b[0;34m(self, obj, include, exclude)\u001b[0m\n\u001b[1;32m    971\u001b[0m     method \u001b[39m=\u001b[39m get_real_method(obj, \u001b[39mself\u001b[39m\u001b[39m.\u001b[39mprint_method)\n\u001b[1;32m    973\u001b[0m     \u001b[39mif\u001b[39;00m method \u001b[39mis\u001b[39;00m \u001b[39mnot\u001b[39;00m \u001b[39mNone\u001b[39;00m:\n\u001b[0;32m--> 974\u001b[0m         \u001b[39mreturn\u001b[39;00m method(include\u001b[39m=\u001b[39minclude, exclude\u001b[39m=\u001b[39mexclude)\n\u001b[1;32m    975\u001b[0m     \u001b[39mreturn\u001b[39;00m \u001b[39mNone\u001b[39;00m\n\u001b[1;32m    976\u001b[0m \u001b[39melse\u001b[39;00m:\n",
      "File \u001b[0;32m~/anaconda3/envs/ese-msc/lib/python3.11/site-packages/graphviz/jupyter_integration.py:98\u001b[0m, in \u001b[0;36mJupyterIntegration._repr_mimebundle_\u001b[0;34m(self, include, exclude, **_)\u001b[0m\n\u001b[1;32m     96\u001b[0m include \u001b[39m=\u001b[39m \u001b[39mset\u001b[39m(include) \u001b[39mif\u001b[39;00m include \u001b[39mis\u001b[39;00m \u001b[39mnot\u001b[39;00m \u001b[39mNone\u001b[39;00m \u001b[39melse\u001b[39;00m {\u001b[39mself\u001b[39m\u001b[39m.\u001b[39m_jupyter_mimetype}\n\u001b[1;32m     97\u001b[0m include \u001b[39m-\u001b[39m\u001b[39m=\u001b[39m \u001b[39mset\u001b[39m(exclude \u001b[39mor\u001b[39;00m [])\n\u001b[0;32m---> 98\u001b[0m \u001b[39mreturn\u001b[39;00m {mimetype: \u001b[39mgetattr\u001b[39m(\u001b[39mself\u001b[39m, method_name)()\n\u001b[1;32m     99\u001b[0m         \u001b[39mfor\u001b[39;00m mimetype, method_name \u001b[39min\u001b[39;00m MIME_TYPES\u001b[39m.\u001b[39mitems()\n\u001b[1;32m    100\u001b[0m         \u001b[39mif\u001b[39;00m mimetype \u001b[39min\u001b[39;00m include}\n",
      "File \u001b[0;32m~/anaconda3/envs/ese-msc/lib/python3.11/site-packages/graphviz/jupyter_integration.py:98\u001b[0m, in \u001b[0;36m<dictcomp>\u001b[0;34m(.0)\u001b[0m\n\u001b[1;32m     96\u001b[0m include \u001b[39m=\u001b[39m \u001b[39mset\u001b[39m(include) \u001b[39mif\u001b[39;00m include \u001b[39mis\u001b[39;00m \u001b[39mnot\u001b[39;00m \u001b[39mNone\u001b[39;00m \u001b[39melse\u001b[39;00m {\u001b[39mself\u001b[39m\u001b[39m.\u001b[39m_jupyter_mimetype}\n\u001b[1;32m     97\u001b[0m include \u001b[39m-\u001b[39m\u001b[39m=\u001b[39m \u001b[39mset\u001b[39m(exclude \u001b[39mor\u001b[39;00m [])\n\u001b[0;32m---> 98\u001b[0m \u001b[39mreturn\u001b[39;00m {mimetype: \u001b[39mgetattr\u001b[39m(\u001b[39mself\u001b[39m, method_name)()\n\u001b[1;32m     99\u001b[0m         \u001b[39mfor\u001b[39;00m mimetype, method_name \u001b[39min\u001b[39;00m MIME_TYPES\u001b[39m.\u001b[39mitems()\n\u001b[1;32m    100\u001b[0m         \u001b[39mif\u001b[39;00m mimetype \u001b[39min\u001b[39;00m include}\n",
      "File \u001b[0;32m~/anaconda3/envs/ese-msc/lib/python3.11/site-packages/graphviz/jupyter_integration.py:112\u001b[0m, in \u001b[0;36mJupyterIntegration._repr_image_svg_xml\u001b[0;34m(self)\u001b[0m\n\u001b[1;32m    110\u001b[0m \u001b[39mdef\u001b[39;00m \u001b[39m_repr_image_svg_xml\u001b[39m(\u001b[39mself\u001b[39m) \u001b[39m-\u001b[39m\u001b[39m>\u001b[39m \u001b[39mstr\u001b[39m:\n\u001b[1;32m    111\u001b[0m \u001b[39m    \u001b[39m\u001b[39m\"\"\"Return the rendered graph as SVG string.\"\"\"\u001b[39;00m\n\u001b[0;32m--> 112\u001b[0m     \u001b[39mreturn\u001b[39;00m \u001b[39mself\u001b[39m\u001b[39m.\u001b[39mpipe(\u001b[39mformat\u001b[39m\u001b[39m=\u001b[39m\u001b[39m'\u001b[39m\u001b[39msvg\u001b[39m\u001b[39m'\u001b[39m, encoding\u001b[39m=\u001b[39mSVG_ENCODING)\n",
      "File \u001b[0;32m~/anaconda3/envs/ese-msc/lib/python3.11/site-packages/graphviz/piping.py:104\u001b[0m, in \u001b[0;36mPipe.pipe\u001b[0;34m(self, format, renderer, formatter, neato_no_op, quiet, engine, encoding)\u001b[0m\n\u001b[1;32m     55\u001b[0m \u001b[39mdef\u001b[39;00m \u001b[39mpipe\u001b[39m(\u001b[39mself\u001b[39m,\n\u001b[1;32m     56\u001b[0m          \u001b[39mformat\u001b[39m: typing\u001b[39m.\u001b[39mOptional[\u001b[39mstr\u001b[39m] \u001b[39m=\u001b[39m \u001b[39mNone\u001b[39;00m,\n\u001b[1;32m     57\u001b[0m          renderer: typing\u001b[39m.\u001b[39mOptional[\u001b[39mstr\u001b[39m] \u001b[39m=\u001b[39m \u001b[39mNone\u001b[39;00m,\n\u001b[0;32m   (...)\u001b[0m\n\u001b[1;32m     61\u001b[0m          engine: typing\u001b[39m.\u001b[39mOptional[\u001b[39mstr\u001b[39m] \u001b[39m=\u001b[39m \u001b[39mNone\u001b[39;00m,\n\u001b[1;32m     62\u001b[0m          encoding: typing\u001b[39m.\u001b[39mOptional[\u001b[39mstr\u001b[39m] \u001b[39m=\u001b[39m \u001b[39mNone\u001b[39;00m) \u001b[39m-\u001b[39m\u001b[39m>\u001b[39m typing\u001b[39m.\u001b[39mUnion[\u001b[39mbytes\u001b[39m, \u001b[39mstr\u001b[39m]:\n\u001b[1;32m     63\u001b[0m \u001b[39m    \u001b[39m\u001b[39m\"\"\"Return the source piped through the Graphviz layout command.\u001b[39;00m\n\u001b[1;32m     64\u001b[0m \n\u001b[1;32m     65\u001b[0m \u001b[39m    Args:\u001b[39;00m\n\u001b[0;32m   (...)\u001b[0m\n\u001b[1;32m    102\u001b[0m \u001b[39m        '<?xml version='\u001b[39;00m\n\u001b[1;32m    103\u001b[0m \u001b[39m    \"\"\"\u001b[39;00m\n\u001b[0;32m--> 104\u001b[0m     \u001b[39mreturn\u001b[39;00m \u001b[39mself\u001b[39m\u001b[39m.\u001b[39m_pipe_legacy(\u001b[39mformat\u001b[39m,\n\u001b[1;32m    105\u001b[0m                              renderer\u001b[39m=\u001b[39mrenderer,\n\u001b[1;32m    106\u001b[0m                              formatter\u001b[39m=\u001b[39mformatter,\n\u001b[1;32m    107\u001b[0m                              neato_no_op\u001b[39m=\u001b[39mneato_no_op,\n\u001b[1;32m    108\u001b[0m                              quiet\u001b[39m=\u001b[39mquiet,\n\u001b[1;32m    109\u001b[0m                              engine\u001b[39m=\u001b[39mengine,\n\u001b[1;32m    110\u001b[0m                              encoding\u001b[39m=\u001b[39mencoding)\n",
      "File \u001b[0;32m~/anaconda3/envs/ese-msc/lib/python3.11/site-packages/graphviz/_tools.py:171\u001b[0m, in \u001b[0;36mdeprecate_positional_args.<locals>.decorator.<locals>.wrapper\u001b[0;34m(*args, **kwargs)\u001b[0m\n\u001b[1;32m    162\u001b[0m     wanted \u001b[39m=\u001b[39m \u001b[39m'\u001b[39m\u001b[39m, \u001b[39m\u001b[39m'\u001b[39m\u001b[39m.\u001b[39mjoin(\u001b[39mf\u001b[39m\u001b[39m'\u001b[39m\u001b[39m{\u001b[39;00mname\u001b[39m}\u001b[39;00m\u001b[39m=\u001b[39m\u001b[39m{\u001b[39;00mvalue\u001b[39m!r}\u001b[39;00m\u001b[39m'\u001b[39m\n\u001b[1;32m    163\u001b[0m                        \u001b[39mfor\u001b[39;00m name, value \u001b[39min\u001b[39;00m deprecated\u001b[39m.\u001b[39mitems())\n\u001b[1;32m    164\u001b[0m     warnings\u001b[39m.\u001b[39mwarn(\u001b[39mf\u001b[39m\u001b[39m'\u001b[39m\u001b[39mThe signature of \u001b[39m\u001b[39m{\u001b[39;00mfunc\u001b[39m.\u001b[39m\u001b[39m__name__\u001b[39m\u001b[39m}\u001b[39;00m\u001b[39m will be reduced\u001b[39m\u001b[39m'\u001b[39m\n\u001b[1;32m    165\u001b[0m                   \u001b[39mf\u001b[39m\u001b[39m'\u001b[39m\u001b[39m to \u001b[39m\u001b[39m{\u001b[39;00msupported_number\u001b[39m}\u001b[39;00m\u001b[39m positional args\u001b[39m\u001b[39m'\u001b[39m\n\u001b[1;32m    166\u001b[0m                   \u001b[39mf\u001b[39m\u001b[39m'\u001b[39m\u001b[39m \u001b[39m\u001b[39m{\u001b[39;00m\u001b[39mlist\u001b[39m(supported)\u001b[39m}\u001b[39;00m\u001b[39m: pass \u001b[39m\u001b[39m{\u001b[39;00mwanted\u001b[39m}\u001b[39;00m\u001b[39m'\u001b[39m\n\u001b[1;32m    167\u001b[0m                   \u001b[39m'\u001b[39m\u001b[39m as keyword arg(s)\u001b[39m\u001b[39m'\u001b[39m,\n\u001b[1;32m    168\u001b[0m                   stacklevel\u001b[39m=\u001b[39mstacklevel,\n\u001b[1;32m    169\u001b[0m                   category\u001b[39m=\u001b[39mcategory)\n\u001b[0;32m--> 171\u001b[0m \u001b[39mreturn\u001b[39;00m func(\u001b[39m*\u001b[39margs, \u001b[39m*\u001b[39m\u001b[39m*\u001b[39mkwargs)\n",
      "File \u001b[0;32m~/anaconda3/envs/ese-msc/lib/python3.11/site-packages/graphviz/piping.py:121\u001b[0m, in \u001b[0;36mPipe._pipe_legacy\u001b[0;34m(self, format, renderer, formatter, neato_no_op, quiet, engine, encoding)\u001b[0m\n\u001b[1;32m    112\u001b[0m \u001b[39m@_tools\u001b[39m\u001b[39m.\u001b[39mdeprecate_positional_args(supported_number\u001b[39m=\u001b[39m\u001b[39m2\u001b[39m)\n\u001b[1;32m    113\u001b[0m \u001b[39mdef\u001b[39;00m \u001b[39m_pipe_legacy\u001b[39m(\u001b[39mself\u001b[39m,\n\u001b[1;32m    114\u001b[0m                  \u001b[39mformat\u001b[39m: typing\u001b[39m.\u001b[39mOptional[\u001b[39mstr\u001b[39m] \u001b[39m=\u001b[39m \u001b[39mNone\u001b[39;00m,\n\u001b[0;32m   (...)\u001b[0m\n\u001b[1;32m    119\u001b[0m                  engine: typing\u001b[39m.\u001b[39mOptional[\u001b[39mstr\u001b[39m] \u001b[39m=\u001b[39m \u001b[39mNone\u001b[39;00m,\n\u001b[1;32m    120\u001b[0m                  encoding: typing\u001b[39m.\u001b[39mOptional[\u001b[39mstr\u001b[39m] \u001b[39m=\u001b[39m \u001b[39mNone\u001b[39;00m) \u001b[39m-\u001b[39m\u001b[39m>\u001b[39m typing\u001b[39m.\u001b[39mUnion[\u001b[39mbytes\u001b[39m, \u001b[39mstr\u001b[39m]:\n\u001b[0;32m--> 121\u001b[0m     \u001b[39mreturn\u001b[39;00m \u001b[39mself\u001b[39m\u001b[39m.\u001b[39m_pipe_future(\u001b[39mformat\u001b[39m,\n\u001b[1;32m    122\u001b[0m                              renderer\u001b[39m=\u001b[39mrenderer,\n\u001b[1;32m    123\u001b[0m                              formatter\u001b[39m=\u001b[39mformatter,\n\u001b[1;32m    124\u001b[0m                              neato_no_op\u001b[39m=\u001b[39mneato_no_op,\n\u001b[1;32m    125\u001b[0m                              quiet\u001b[39m=\u001b[39mquiet,\n\u001b[1;32m    126\u001b[0m                              engine\u001b[39m=\u001b[39mengine,\n\u001b[1;32m    127\u001b[0m                              encoding\u001b[39m=\u001b[39mencoding)\n",
      "File \u001b[0;32m~/anaconda3/envs/ese-msc/lib/python3.11/site-packages/graphviz/piping.py:149\u001b[0m, in \u001b[0;36mPipe._pipe_future\u001b[0;34m(self, format, renderer, formatter, neato_no_op, quiet, engine, encoding)\u001b[0m\n\u001b[1;32m    146\u001b[0m \u001b[39mif\u001b[39;00m encoding \u001b[39mis\u001b[39;00m \u001b[39mnot\u001b[39;00m \u001b[39mNone\u001b[39;00m:\n\u001b[1;32m    147\u001b[0m     \u001b[39mif\u001b[39;00m codecs\u001b[39m.\u001b[39mlookup(encoding) \u001b[39mis\u001b[39;00m codecs\u001b[39m.\u001b[39mlookup(\u001b[39mself\u001b[39m\u001b[39m.\u001b[39mencoding):\n\u001b[1;32m    148\u001b[0m         \u001b[39m# common case: both stdin and stdout need the same encoding\u001b[39;00m\n\u001b[0;32m--> 149\u001b[0m         \u001b[39mreturn\u001b[39;00m \u001b[39mself\u001b[39m\u001b[39m.\u001b[39m_pipe_lines_string(\u001b[39m*\u001b[39margs, encoding\u001b[39m=\u001b[39mencoding, \u001b[39m*\u001b[39m\u001b[39m*\u001b[39mkwargs)\n\u001b[1;32m    150\u001b[0m     \u001b[39mtry\u001b[39;00m:\n\u001b[1;32m    151\u001b[0m         raw \u001b[39m=\u001b[39m \u001b[39mself\u001b[39m\u001b[39m.\u001b[39m_pipe_lines(\u001b[39m*\u001b[39margs, input_encoding\u001b[39m=\u001b[39m\u001b[39mself\u001b[39m\u001b[39m.\u001b[39mencoding, \u001b[39m*\u001b[39m\u001b[39m*\u001b[39mkwargs)\n",
      "File \u001b[0;32m~/anaconda3/envs/ese-msc/lib/python3.11/site-packages/graphviz/backend/piping.py:212\u001b[0m, in \u001b[0;36mpipe_lines_string\u001b[0;34m(engine, format, input_lines, encoding, renderer, formatter, neato_no_op, quiet)\u001b[0m\n\u001b[1;32m    206\u001b[0m cmd \u001b[39m=\u001b[39m dot_command\u001b[39m.\u001b[39mcommand(engine, \u001b[39mformat\u001b[39m,\n\u001b[1;32m    207\u001b[0m                           renderer\u001b[39m=\u001b[39mrenderer,\n\u001b[1;32m    208\u001b[0m                           formatter\u001b[39m=\u001b[39mformatter,\n\u001b[1;32m    209\u001b[0m                           neato_no_op\u001b[39m=\u001b[39mneato_no_op)\n\u001b[1;32m    210\u001b[0m kwargs \u001b[39m=\u001b[39m {\u001b[39m'\u001b[39m\u001b[39minput_lines\u001b[39m\u001b[39m'\u001b[39m: input_lines, \u001b[39m'\u001b[39m\u001b[39mencoding\u001b[39m\u001b[39m'\u001b[39m: encoding}\n\u001b[0;32m--> 212\u001b[0m proc \u001b[39m=\u001b[39m execute\u001b[39m.\u001b[39mrun_check(cmd, capture_output\u001b[39m=\u001b[39m\u001b[39mTrue\u001b[39;00m, quiet\u001b[39m=\u001b[39mquiet, \u001b[39m*\u001b[39m\u001b[39m*\u001b[39mkwargs)\n\u001b[1;32m    213\u001b[0m \u001b[39mreturn\u001b[39;00m proc\u001b[39m.\u001b[39mstdout\n",
      "File \u001b[0;32m~/anaconda3/envs/ese-msc/lib/python3.11/site-packages/graphviz/backend/execute.py:84\u001b[0m, in \u001b[0;36mrun_check\u001b[0;34m(cmd, input_lines, encoding, quiet, **kwargs)\u001b[0m\n\u001b[1;32m     82\u001b[0m \u001b[39mexcept\u001b[39;00m \u001b[39mOSError\u001b[39;00m \u001b[39mas\u001b[39;00m e:\n\u001b[1;32m     83\u001b[0m     \u001b[39mif\u001b[39;00m e\u001b[39m.\u001b[39merrno \u001b[39m==\u001b[39m errno\u001b[39m.\u001b[39mENOENT:\n\u001b[0;32m---> 84\u001b[0m         \u001b[39mraise\u001b[39;00m ExecutableNotFound(cmd) \u001b[39mfrom\u001b[39;00m \u001b[39me\u001b[39;00m\n\u001b[1;32m     85\u001b[0m     \u001b[39mraise\u001b[39;00m\n\u001b[1;32m     87\u001b[0m \u001b[39mif\u001b[39;00m \u001b[39mnot\u001b[39;00m quiet \u001b[39mand\u001b[39;00m proc\u001b[39m.\u001b[39mstderr:\n",
      "\u001b[0;31mExecutableNotFound\u001b[0m: failed to execute PosixPath('dot'), make sure the Graphviz executables are on your systems' PATH"
     ]
    },
    {
     "data": {
      "text/plain": [
       "<graphviz.sources.Source at 0x124458c10>"
      ]
     },
     "metadata": {},
     "output_type": "display_data"
    }
   ],
   "source": [
    "# Import model graph\n",
    "with open(\"iris_tree.dot\") as f:\n",
    "    dot_graph = f.read()\n",
    "    display(graphviz.Source(dot_graph))"
   ]
  },
  {
   "cell_type": "markdown",
   "metadata": {
    "editable": true,
    "slideshow": {
     "slide_type": "subslide"
    },
    "tags": []
   },
   "source": [
    "\n",
    "## Jargon\n",
    "<p><img src=\"https://drive.google.com/uc?id=15dAvAf5YsBN4mH2E3twjzN5hfTxctyY7\" style=\"margin:auto\" width=\"1000\"/></p>\n",
    "\n",
    "<a href=\"https://www.oreilly.com/library/view/hands-on-machine-learning/9781098125967/\">Géron, 2017</a>\n"
   ]
  },
  {
   "cell_type": "markdown",
   "metadata": {
    "editable": true,
    "slideshow": {
     "slide_type": "subslide"
    },
    "tags": []
   },
   "source": [
    "\n",
    "### Gini Index\n",
    "\n",
    "<p>The Gini index measures the ability of each feature to <strong>separate</strong> the data.</p>\n",
    "<p>It calculates the <strong>impurity</strong> of each node, between [0,1]. The lower the better</p><br>\n",
    "\n",
    "$$Gini(node)=1-\\sum{{p_i}^2}$$\n",
    "\n",
    "<br><p>Where $p_i$ is the ratio of observation of being of class $i$ at each node</p>\n"
   ]
  },
  {
   "cell_type": "markdown",
   "metadata": {
    "slideshow": {
     "slide_type": "subslide"
    }
   },
   "source": [
    "\n",
    "<p><img src=\"https://drive.google.com/uc?id=15dAvAf5YsBN4mH2E3twjzN5hfTxctyY7\" style=\"margin:auto\" width=\"1000\"/></p>\n",
    "\n",
    "<a href=\"https://www.oreilly.com/library/view/hands-on-machine-learning/9781098125967/\">Géron, 2017</a>\n"
   ]
  },
  {
   "cell_type": "code",
   "execution_count": 5,
   "metadata": {
    "slideshow": {
     "slide_type": "fragment"
    }
   },
   "outputs": [
    {
     "data": {
      "text/plain": [
       "0.6666666666666667"
      ]
     },
     "execution_count": 5,
     "metadata": {},
     "output_type": "execute_result"
    }
   ],
   "source": [
    "# Calculate gini of root node\n",
    "1 - 3*(50/150)**2"
   ]
  },
  {
   "cell_type": "code",
   "execution_count": 6,
   "metadata": {
    "slideshow": {
     "slide_type": "fragment"
    }
   },
   "outputs": [
    {
     "data": {
      "text/plain": [
       "0.1680384087791495"
      ]
     },
     "execution_count": 6,
     "metadata": {},
     "output_type": "execute_result"
    }
   ],
   "source": [
    "# Calcultate gini green leaf\n",
    "1 - 0**2 - (49/54)**2 - (5/54)**2"
   ]
  },
  {
   "cell_type": "markdown",
   "metadata": {
    "slideshow": {
     "slide_type": "subslide"
    }
   },
   "source": [
    "<h3 id='\"Growing\"-a-tree?'>\"Growing\" a tree?<a class=\"anchor-link\" href=\"https://kitt.lewagon.com/karr/data-lectures.kitt/05-ML_07-Ensemble-Methods.html?title=Ensemble+Methods&amp;program_id=10#%22Growing%22-a-tree?\">¶</a></h3><p>The tree structure is decided through the following steps:</p>\n",
    "<ol>"
   ]
  },
  {
   "cell_type": "markdown",
   "metadata": {
    "slideshow": {
     "slide_type": "fragment"
    }
   },
   "source": [
    "<li>Start at root node containing all your dataset</li>"
   ]
  },
  {
   "cell_type": "markdown",
   "metadata": {
    "slideshow": {
     "slide_type": "fragment"
    }
   },
   "source": [
    "<li>Try various combination of <strong>(feature, threshold)</strong> tuples. Each would split your dataset into 2 child nodes</li>"
   ]
  },
  {
   "cell_type": "markdown",
   "metadata": {
    "slideshow": {
     "slide_type": "fragment"
    }
   },
   "source": [
    "<li>For each combination, compute <strong>weighted average gini index</strong> of both child nodes (weighted by number of instances)</li>"
   ]
  },
  {
   "cell_type": "markdown",
   "metadata": {
    "slideshow": {
     "slide_type": "fragment"
    }
   },
   "source": [
    "<li>Select (feature, threshold) yielding the <strong>lowest</strong> index (i.e the \"purest child nodes\")</li>"
   ]
  },
  {
   "cell_type": "markdown",
   "metadata": {
    "slideshow": {
     "slide_type": "fragment"
    }
   },
   "source": [
    "<li>Split dataset in two using this rule. Repeat step 2 for both subsets.</li>"
   ]
  },
  {
   "cell_type": "markdown",
   "metadata": {
    "slideshow": {
     "slide_type": "fragment"
    }
   },
   "source": [
    "<li>Stop when no feature improves node impurity (...at what risk?)</li>\n",
    "</ol>"
   ]
  },
  {
   "cell_type": "markdown",
   "metadata": {
    "slideshow": {
     "slide_type": "subslide"
    }
   },
   "source": [
    "\n",
    "<h3 id=\"Predicting\">Predicting</h3><ul>\n",
    "<li>A new point is passed through the tree from top down until it reaches a leaf. </li>\n",
    "<li>It is predicted to correspond to the most represented class in that leaf. </li>\n",
    "</ul>\n",
    "<p>E.g. New point: <code>X_new = [4(length), 1(width)]</code></p>\n",
    "<p><img src=\"https://drive.google.com/uc?id=15vJKlMg97r9QGVr1njq9wtCwpfL6209F\" style=\"margin:auto\" width=\"1000\"/></p>\n",
    "\n",
    "<a href=\"https://www.oreilly.com/library/view/hands-on-machine-learning/9781098125967/\">Géron, 2017</a>"
   ]
  },
  {
   "cell_type": "code",
   "execution_count": 7,
   "metadata": {
    "slideshow": {
     "slide_type": "subslide"
    }
   },
   "outputs": [
    {
     "name": "stdout",
     "output_type": "stream",
     "text": [
      "[1.]\n"
     ]
    },
    {
     "name": "stderr",
     "output_type": "stream",
     "text": [
      "/Users/shiyunwa/anaconda3/envs/ese-msc/lib/python3.11/site-packages/sklearn/base.py:465: UserWarning: X does not have valid feature names, but DecisionTreeClassifier was fitted with feature names\n",
      "  warnings.warn(\n"
     ]
    }
   ],
   "source": [
    "# Let's predict a flower from the top right quardrant\n",
    "print(tree_clf.predict([[4,1]]))"
   ]
  },
  {
   "cell_type": "code",
   "execution_count": 8,
   "metadata": {
    "slideshow": {
     "slide_type": "subslide"
    }
   },
   "outputs": [
    {
     "name": "stdout",
     "output_type": "stream",
     "text": [
      "[[0.         0.90740741 0.09259259]]\n"
     ]
    },
    {
     "name": "stderr",
     "output_type": "stream",
     "text": [
      "/Users/shiyunwa/anaconda3/envs/ese-msc/lib/python3.11/site-packages/sklearn/base.py:465: UserWarning: X does not have valid feature names, but DecisionTreeClassifier was fitted with feature names\n",
      "  warnings.warn(\n"
     ]
    }
   ],
   "source": [
    "# Predict proba is just the ratio of flowers in this leaf/quadrant\n",
    "print(tree_clf.predict_proba([[4,1]]))"
   ]
  },
  {
   "cell_type": "markdown",
   "metadata": {
    "slideshow": {
     "slide_type": "fragment"
    }
   },
   "source": [
    "\n",
    "<p>⚠️ 91% is not really a \"probability\"</p>\n",
    "<p>Trees are not <em>calibrated</em> probability classifiers as opposed to logistic regression</p>\n"
   ]
  },
  {
   "cell_type": "markdown",
   "metadata": {
    "slideshow": {
     "slide_type": "subslide"
    }
   },
   "source": [
    "\n",
    "<h3 id='Think-about-decision-trees-as-\"orthogonal\"-classifiers'>Think about decision trees as \"orthogonal\" classifiers<a class=\"anchor-link\" href=\"https://kitt.lewagon.com/karr/data-lectures.kitt/05-ML_07-Ensemble-Methods.html?title=Ensemble+Methods&amp;program_id=10#Think-about-decision-trees-as-%22orthogonal%22-classifiers\">¶</a></h3>\n"
   ]
  },
  {
   "cell_type": "code",
   "execution_count": 9,
   "metadata": {
    "slideshow": {
     "slide_type": "fragment"
    }
   },
   "outputs": [
    {
     "name": "stderr",
     "output_type": "stream",
     "text": [
      "/Users/shiyunwa/anaconda3/envs/ese-msc/lib/python3.11/site-packages/sklearn/base.py:465: UserWarning: X does not have valid feature names, but DecisionTreeClassifier was fitted with feature names\n",
      "  warnings.warn(\n"
     ]
    },
    {
     "data": {
      "image/png": "[encoded data removed]",
      "text/plain": [
       "<Figure size 1200x800 with 1 Axes>"
      ]
     },
     "metadata": {},
     "output_type": "display_data"
    }
   ],
   "source": [
    "from utils import plot_decision_regions\n",
    "\n",
    "plot_decision_regions(X, y, classifier=tree_clf)"
   ]
  },
  {
   "cell_type": "markdown",
   "metadata": {
    "slideshow": {
     "slide_type": "subslide"
    }
   },
   "source": [
    "\n",
    "<p><img src=\"https://drive.google.com/uc?id=15kUHhYRxXlap6skLxn8lTZW60EzgZEth\" style=\"width:1700px\"></p>\n",
    "\n",
    "<a href=\"https://scikit-learn.org/stable/auto_examples/classification/plot_classifier_comparison.html\">scikit-learn doc</a>\n"
   ]
  },
  {
   "cell_type": "markdown",
   "metadata": {
    "slideshow": {
     "slide_type": "subslide"
    }
   },
   "source": [
    "\n",
    "<h2 id=\"1.2-DecisionTreeRegressor\">1.2 <a href=\"https://scikit-learn.org/stable/modules/generated/sklearn.tree.DecisionTreeRegressor.html\"><code>DecisionTreeRegressor</code></a><a class=\"anchor-link\" href=\"https://kitt.lewagon.com/karr/data-lectures.kitt/05-ML_07-Ensemble-Methods.html?title=Ensemble+Methods&amp;program_id=10#1.2-DecisionTreeRegressor\">¶</a></h2>\n"
   ]
  },
  {
   "cell_type": "markdown",
   "metadata": {
    "slideshow": {
     "slide_type": "fragment"
    }
   },
   "source": [
    "\n",
    "<p>Regression trees consist of predicting a continuous value. They are \"grown\" differently than classification trees.<br>\n",
    "\n",
    "<img src=\"https://drive.google.com/uc?id=15qT_ZdPYUSBVuyjiIgMdpx7xIjVbhW99\" style=\"margin:auto\" width=\"1300\"/></p>\n",
    "\n",
    "<p><a href=\"https://www.youtube.com/channel/UCtYLUTtgS3k1Fg4y5tAhLbw\">John Starmer, 2019</a></p>\n"
   ]
  },
  {
   "cell_type": "markdown",
   "metadata": {
    "slideshow": {
     "slide_type": "subslide"
    }
   },
   "source": [
    "\n",
    "<h3 id=\"Growing-the-Regression-tree\">Growing the Regression tree<a class=\"anchor-link\" href=\"https://kitt.lewagon.com/karr/data-lectures.kitt/05-ML_07-Ensemble-Methods.html?title=Ensemble+Methods&amp;program_id=10#Growing-the-Regression-tree\">¶</a></h3>\n"
   ]
  },
  {
   "cell_type": "markdown",
   "metadata": {
    "slideshow": {
     "slide_type": "fragment"
    }
   },
   "source": [
    "\n",
    "<p><img src=\"https://drive.google.com/uc?id=15dBpVBe0lMXW9zyCxAafxhT0tqlLKmo7\" style=\"margin:auto\" width=\"900\"/></p>\n",
    "\n",
    "<p><a href=\"https://www.youtube.com/channel/UCtYLUTtgS3k1Fg4y5tAhLbw\">John Starmer, 2019</a></p>"
   ]
  },
  {
   "cell_type": "markdown",
   "metadata": {
    "slideshow": {
     "slide_type": "subslide"
    }
   },
   "source": [
    "\n",
    "<ul>\n",
    "<li>Select a threshold </li>\n",
    "<li>Compute the <strong>SSR residuals</strong> between average and true values on both side</li>\n",
    "<li>Compute weighted-average sum of SSR on both sides, weighted by number of datapoints</li>\n",
    "</ul>\n",
    "<p><img src=\"https://drive.google.com/uc?id=161miEuFtVIvECmFu6JTi5pBbngUuo78R\" style=\"margin:auto\" width=\"1300\"/></p>\n",
    "\n",
    "<p><a href=\"https://www.youtube.com/channel/UCtYLUTtgS3k1Fg4y5tAhLbw\">John Starmer, 2019</a></p>\n"
   ]
  },
  {
   "cell_type": "markdown",
   "metadata": {
    "slideshow": {
     "slide_type": "subslide"
    }
   },
   "source": [
    "\n",
    "<p>Compute residuals for next hypothetical threshold\n",
    "<img src=\"https://drive.google.com/uc?id=15kzAmCrcVlH-UUAb-_nG8Q6xnA-6X-7q\" style=\"margin:auto\" width=\"1300\"/></p>\n",
    "\n",
    "<p><a href=\"https://www.youtube.com/channel/UCtYLUTtgS3k1Fg4y5tAhLbw\">John Starmer, 2019</a></p>"
   ]
  },
  {
   "cell_type": "markdown",
   "metadata": {
    "slideshow": {
     "slide_type": "subslide"
    }
   },
   "source": [
    "\n",
    "<p>The threshold that minimizes residuals becomes the Root node of the tree</p>\n",
    "<p><img src=\"https://drive.google.com/uc?id=15r-VyXdAKjoohkk95mfbxYahqKYmN18J\" style=\"margin:auto\" width=\"1300\"/></p>\n",
    "\n",
    "<p><a href=\"https://www.youtube.com/channel/UCtYLUTtgS3k1Fg4y5tAhLbw\">John Starmer, 2019</a></p>"
   ]
  },
  {
   "cell_type": "markdown",
   "metadata": {
    "slideshow": {
     "slide_type": "subslide"
    }
   },
   "source": [
    "\n",
    "<p><img src=\"https://drive.google.com/uc?id=1602ORKB0EBnAubQSlEetp56Et6eI3viE\" style=\"margin:auto\" width=\"1300\"/></p>\n",
    "\n",
    "<p><a href=\"https://www.youtube.com/channel/UCtYLUTtgS3k1Fg4y5tAhLbw\">John Starmer, 2019</a></p>"
   ]
  },
  {
   "cell_type": "markdown",
   "metadata": {
    "slideshow": {
     "slide_type": "fragment"
    }
   },
   "source": [
    "\n",
    "<p>We could further split the points below a dosage of 14.5, but we probably shouldnt. Why?</p>\n"
   ]
  },
  {
   "cell_type": "markdown",
   "metadata": {
    "slideshow": {
     "slide_type": "subslide"
    }
   },
   "source": [
    "\n",
    "<p>⚠️ We would be <strong>overfitting</strong>!</p>\n",
    "<p><img src=\"https://drive.google.com/uc?id=15qVShonMz3NSTbl3YRbsoJwYLIvYi4fq\" style=\"margin:auto\" width=\"900\"/></p>\n",
    "\n",
    "<p><a href=\"https://www.youtube.com/channel/UCtYLUTtgS3k1Fg4y5tAhLbw\">John Starmer, 2019</a></p>"
   ]
  },
  {
   "cell_type": "markdown",
   "metadata": {
    "slideshow": {
     "slide_type": "subslide"
    }
   },
   "source": [
    "\n",
    "<p>Instead, stop splitting and use the average value of points within group to <strong>generalize</strong>.</p>\n",
    "<p><img src=\"https://drive.google.com/uc?id=16-_OA1JoaPupXfjhRg2Wvn0l9PZHVC_t\" style=\"margin:auto\" width=\"1300\"/></p>\n",
    "\n",
    "<p><a href=\"https://www.youtube.com/channel/UCtYLUTtgS3k1Fg4y5tAhLbw\">John Starmer, 2019</a></p>"
   ]
  },
  {
   "cell_type": "markdown",
   "metadata": {
    "slideshow": {
     "slide_type": "subslide"
    }
   },
   "source": [
    "\n",
    "<h3 id=\"⚠️-Controlling-overfitting\">⚠️ Controlling overfitting<a class=\"anchor-link\" href=\"https://kitt.lewagon.com/karr/data-lectures.kitt/05-ML_07-Ensemble-Methods.html?title=Ensemble+Methods&amp;program_id=10#%E2%9A%A0%EF%B8%8F-Controlling-overfitting\">¶</a></h3><ul>\n",
    "<li><strong>Decision trees must be tuned!!</strong></li>\n",
    "<li>Default parameters will almost certainly overfit</li>\n",
    "<li>Control split</li>\n",
    "<li>Control tree depth</li>\n",
    "</ul>\n"
   ]
  },
  {
   "cell_type": "markdown",
   "metadata": {
    "slideshow": {
     "slide_type": "subslide"
    }
   },
   "source": [
    "\n",
    "<h4 id=\"min_samples_split\"><code>min_samples_split</code></h4><ul>\n",
    "<li>Specify the minimum number of samples required to split an internal node</li>\n",
    "<li>In the example, <code>min_samples_split</code> is set to 7</li>\n",
    "</ul>\n",
    "<p><img  src=\"https://drive.google.com/uc?id=15qT_ZdPYUSBVuyjiIgMdpx7xIjVbhW99\" style=\"margin:auto\" width=\"1300\"/></p>\n",
    "\n",
    "<p><a href=\"https://www.youtube.com/channel/UCtYLUTtgS3k1Fg4y5tAhLbw\">John Starmer, 2019</a></p>"
   ]
  },
  {
   "cell_type": "markdown",
   "metadata": {
    "slideshow": {
     "slide_type": "subslide"
    }
   },
   "source": [
    "\n",
    "<h4 id=\"max_depth\"><code>max_depth</code><a class=\"anchor-link\" href=\"https://kitt.lewagon.com/karr/data-lectures.kitt/05-ML_07-Ensemble-Methods.html?title=Ensemble+Methods&amp;program_id=10#max_depth\">¶</a></h4><ul>\n",
    "<li>The maximum depth of the tree</li>\n",
    "</ul>\n"
   ]
  },
  {
   "cell_type": "markdown",
   "metadata": {
    "slideshow": {
     "slide_type": "fragment"
    }
   },
   "source": [
    "\n",
    "<h4 id=\"min_samples_leaf\"><code>min_samples_leaf</code><a class=\"anchor-link\" href=\"https://kitt.lewagon.com/karr/data-lectures.kitt/05-ML_07-Ensemble-Methods.html?title=Ensemble+Methods&amp;program_id=10#min_samples_leaf\">¶</a></h4><ul>\n",
    "<li>The minimum number of samples required to be at a leaf node.</li>\n",
    "</ul>\n"
   ]
  },
  {
   "cell_type": "markdown",
   "metadata": {
    "slideshow": {
     "slide_type": "subslide"
    }
   },
   "source": [
    "\n",
    "<h2 id=\"💻--Variance-illustrated\">💻  Variance illustrated<a class=\"anchor-link\" href=\"https://kitt.lewagon.com/karr/data-lectures.kitt/05-ML_07-Ensemble-Methods.html?title=Ensemble+Methods&amp;program_id=10#%F0%9F%92%BB--Variance-illustrated\">¶</a></h2>\n"
   ]
  },
  {
   "cell_type": "markdown",
   "metadata": {
    "editable": true,
    "slideshow": {
     "slide_type": "subslide"
    },
    "tags": []
   },
   "source": [
    "#### Regression\n",
    "We will use a dataset of <span style=\"color:teal\">**Greenhouse Temperatures** </span>to illustrate regression with DecisionTrees.<br>\n",
    "\n",
    "<img src=\"https://drive.google.com/uc?id=15xoFfJBG6HBvuWyv0L0Qpc8KMhl34aSs\" style=\"width:1500px\">\n"
   ]
  },
  {
   "cell_type": "code",
   "execution_count": 10,
   "metadata": {
    "editable": true,
    "slideshow": {
     "slide_type": "subslide"
    },
    "tags": []
   },
   "outputs": [
    {
     "data": {
      "text/html": [
       "<div>\n",
       "<style scoped>\n",
       "    .dataframe tbody tr th:only-of-type {\n",
       "        vertical-align: middle;\n",
       "    }\n",
       "\n",
       "    .dataframe tbody tr th {\n",
       "        vertical-align: top;\n",
       "    }\n",
       "\n",
       "    .dataframe thead th {\n",
       "        text-align: right;\n",
       "    }\n",
       "</style>\n",
       "<table border=\"1\" class=\"dataframe\">\n",
       "  <thead>\n",
       "    <tr style=\"text-align: right;\">\n",
       "      <th></th>\n",
       "      <th>Relative Compactness</th>\n",
       "      <th>Surface Area</th>\n",
       "      <th>Wall Area</th>\n",
       "      <th>Roof Area</th>\n",
       "      <th>Overall Height</th>\n",
       "      <th>Glazing Area</th>\n",
       "      <th>Average Temperature</th>\n",
       "    </tr>\n",
       "  </thead>\n",
       "  <tbody>\n",
       "    <tr>\n",
       "      <th>0</th>\n",
       "      <td>0.98</td>\n",
       "      <td>514.5</td>\n",
       "      <td>294.0</td>\n",
       "      <td>110.25</td>\n",
       "      <td>7.0</td>\n",
       "      <td>0.0</td>\n",
       "      <td>18.440</td>\n",
       "    </tr>\n",
       "    <tr>\n",
       "      <th>1</th>\n",
       "      <td>0.98</td>\n",
       "      <td>514.5</td>\n",
       "      <td>294.0</td>\n",
       "      <td>110.25</td>\n",
       "      <td>7.0</td>\n",
       "      <td>0.0</td>\n",
       "      <td>18.440</td>\n",
       "    </tr>\n",
       "    <tr>\n",
       "      <th>2</th>\n",
       "      <td>0.98</td>\n",
       "      <td>514.5</td>\n",
       "      <td>294.0</td>\n",
       "      <td>110.25</td>\n",
       "      <td>7.0</td>\n",
       "      <td>0.0</td>\n",
       "      <td>18.440</td>\n",
       "    </tr>\n",
       "    <tr>\n",
       "      <th>3</th>\n",
       "      <td>0.98</td>\n",
       "      <td>514.5</td>\n",
       "      <td>294.0</td>\n",
       "      <td>110.25</td>\n",
       "      <td>7.0</td>\n",
       "      <td>0.0</td>\n",
       "      <td>18.440</td>\n",
       "    </tr>\n",
       "    <tr>\n",
       "      <th>4</th>\n",
       "      <td>0.90</td>\n",
       "      <td>563.5</td>\n",
       "      <td>318.5</td>\n",
       "      <td>122.50</td>\n",
       "      <td>7.0</td>\n",
       "      <td>0.0</td>\n",
       "      <td>24.560</td>\n",
       "    </tr>\n",
       "    <tr>\n",
       "      <th>...</th>\n",
       "      <td>...</td>\n",
       "      <td>...</td>\n",
       "      <td>...</td>\n",
       "      <td>...</td>\n",
       "      <td>...</td>\n",
       "      <td>...</td>\n",
       "      <td>...</td>\n",
       "    </tr>\n",
       "    <tr>\n",
       "      <th>763</th>\n",
       "      <td>0.64</td>\n",
       "      <td>784.0</td>\n",
       "      <td>343.0</td>\n",
       "      <td>220.50</td>\n",
       "      <td>3.5</td>\n",
       "      <td>0.4</td>\n",
       "      <td>19.640</td>\n",
       "    </tr>\n",
       "    <tr>\n",
       "      <th>764</th>\n",
       "      <td>0.62</td>\n",
       "      <td>808.5</td>\n",
       "      <td>367.5</td>\n",
       "      <td>220.50</td>\n",
       "      <td>3.5</td>\n",
       "      <td>0.4</td>\n",
       "      <td>16.710</td>\n",
       "    </tr>\n",
       "    <tr>\n",
       "      <th>765</th>\n",
       "      <td>0.62</td>\n",
       "      <td>808.5</td>\n",
       "      <td>367.5</td>\n",
       "      <td>220.50</td>\n",
       "      <td>3.5</td>\n",
       "      <td>0.4</td>\n",
       "      <td>16.775</td>\n",
       "    </tr>\n",
       "    <tr>\n",
       "      <th>766</th>\n",
       "      <td>0.62</td>\n",
       "      <td>808.5</td>\n",
       "      <td>367.5</td>\n",
       "      <td>220.50</td>\n",
       "      <td>3.5</td>\n",
       "      <td>0.4</td>\n",
       "      <td>16.545</td>\n",
       "    </tr>\n",
       "    <tr>\n",
       "      <th>767</th>\n",
       "      <td>0.62</td>\n",
       "      <td>808.5</td>\n",
       "      <td>367.5</td>\n",
       "      <td>220.50</td>\n",
       "      <td>3.5</td>\n",
       "      <td>0.4</td>\n",
       "      <td>16.335</td>\n",
       "    </tr>\n",
       "  </tbody>\n",
       "</table>\n",
       "<p>768 rows × 7 columns</p>\n",
       "</div>"
      ],
      "text/plain": [
       "     Relative Compactness  Surface Area  Wall Area  Roof Area  Overall Height  \\\n",
       "0                    0.98         514.5      294.0     110.25             7.0   \n",
       "1                    0.98         514.5      294.0     110.25             7.0   \n",
       "2                    0.98         514.5      294.0     110.25             7.0   \n",
       "3                    0.98         514.5      294.0     110.25             7.0   \n",
       "4                    0.90         563.5      318.5     122.50             7.0   \n",
       "..                    ...           ...        ...        ...             ...   \n",
       "763                  0.64         784.0      343.0     220.50             3.5   \n",
       "764                  0.62         808.5      367.5     220.50             3.5   \n",
       "765                  0.62         808.5      367.5     220.50             3.5   \n",
       "766                  0.62         808.5      367.5     220.50             3.5   \n",
       "767                  0.62         808.5      367.5     220.50             3.5   \n",
       "\n",
       "     Glazing Area  Average Temperature  \n",
       "0             0.0               18.440  \n",
       "1             0.0               18.440  \n",
       "2             0.0               18.440  \n",
       "3             0.0               18.440  \n",
       "4             0.0               24.560  \n",
       "..            ...                  ...  \n",
       "763           0.4               19.640  \n",
       "764           0.4               16.710  \n",
       "765           0.4               16.775  \n",
       "766           0.4               16.545  \n",
       "767           0.4               16.335  \n",
       "\n",
       "[768 rows x 7 columns]"
      ]
     },
     "execution_count": 10,
     "metadata": {},
     "output_type": "execute_result"
    }
   ],
   "source": [
    "import pandas as pd\n",
    "reg_data = pd.read_csv('Lecture_data/greenhouse.csv')\n",
    "reg_data"
   ]
  },
  {
   "cell_type": "code",
   "execution_count": 11,
   "metadata": {
    "slideshow": {
     "slide_type": "fragment"
    }
   },
   "outputs": [],
   "source": [
    "from sklearn.model_selection import train_test_split\n",
    "\n",
    "reg_X = reg_data[['Overall Height', 'Glazing Area']]\n",
    "reg_y = reg_data['Average Temperature']\n",
    "\n",
    "X_train_reg, X_test_reg, y_train_reg, y_test_reg = train_test_split(reg_X, reg_y, train_size=0.7, random_state=5)\n"
   ]
  },
  {
   "cell_type": "code",
   "execution_count": 12,
   "metadata": {
    "editable": true,
    "slideshow": {
     "slide_type": "subslide"
    },
    "tags": []
   },
   "outputs": [
    {
     "name": "stdout",
     "output_type": "stream",
     "text": [
      "std:  11.675169942084784\n",
      "mean:  13.236938524725568\n"
     ]
    }
   ],
   "source": [
    "from sklearn.tree import DecisionTreeRegressor\n",
    "from sklearn.model_selection import cross_validate\n",
    "\n",
    "tree = DecisionTreeRegressor()\n",
    "\n",
    "cv_results = cross_validate(tree, reg_X, reg_y, scoring = \"neg_mean_squared_error\", cv=60)\n",
    "\n",
    "print('std: ', cv_results['test_score'].std())\n",
    "print('mean: ', cv_results['test_score'].mean()*-1)"
   ]
  },
  {
   "cell_type": "code",
   "execution_count": 13,
   "metadata": {},
   "outputs": [
    {
     "data": {
      "image/png": "[encoded data removed]",
      "text/plain": [
       "<Figure size 640x480 with 1 Axes>"
      ]
     },
     "metadata": {},
     "output_type": "display_data"
    }
   ],
   "source": [
    "plt.hist(cv_results['test_score']*-1);"
   ]
  },
  {
   "cell_type": "markdown",
   "metadata": {
    "slideshow": {
     "slide_type": "subslide"
    }
   },
   "source": [
    "#### Classification\n",
    "\n",
    "<span style=\"color:teal\">**We will use a dataset of pH vs water chemistry for classification** </span><br>\n",
    "\n",
    "<img src=\"https://drive.google.com/uc?id=15ghba_8Hus87XNDl5YoMuTBMpCItXy8Q\" style=\"width:1500px\">"
   ]
  },
  {
   "cell_type": "code",
   "execution_count": 14,
   "metadata": {
    "slideshow": {
     "slide_type": "subslide"
    }
   },
   "outputs": [
    {
     "data": {
      "text/html": [
       "<div>\n",
       "<style scoped>\n",
       "    .dataframe tbody tr th:only-of-type {\n",
       "        vertical-align: middle;\n",
       "    }\n",
       "\n",
       "    .dataframe tbody tr th {\n",
       "        vertical-align: top;\n",
       "    }\n",
       "\n",
       "    .dataframe thead th {\n",
       "        text-align: right;\n",
       "    }\n",
       "</style>\n",
       "<table border=\"1\" class=\"dataframe\">\n",
       "  <thead>\n",
       "    <tr style=\"text-align: right;\">\n",
       "      <th></th>\n",
       "      <th>Ca_ICP_PCT</th>\n",
       "      <th>K_ICP_PCT</th>\n",
       "      <th>pH</th>\n",
       "    </tr>\n",
       "  </thead>\n",
       "  <tbody>\n",
       "    <tr>\n",
       "      <th>0</th>\n",
       "      <td>2.72</td>\n",
       "      <td>0.03</td>\n",
       "      <td>2</td>\n",
       "    </tr>\n",
       "    <tr>\n",
       "      <th>1</th>\n",
       "      <td>0.35</td>\n",
       "      <td>0.08</td>\n",
       "      <td>0</td>\n",
       "    </tr>\n",
       "    <tr>\n",
       "      <th>2</th>\n",
       "      <td>0.40</td>\n",
       "      <td>0.08</td>\n",
       "      <td>0</td>\n",
       "    </tr>\n",
       "    <tr>\n",
       "      <th>3</th>\n",
       "      <td>0.59</td>\n",
       "      <td>0.04</td>\n",
       "      <td>0</td>\n",
       "    </tr>\n",
       "    <tr>\n",
       "      <th>4</th>\n",
       "      <td>2.39</td>\n",
       "      <td>0.03</td>\n",
       "      <td>2</td>\n",
       "    </tr>\n",
       "    <tr>\n",
       "      <th>...</th>\n",
       "      <td>...</td>\n",
       "      <td>...</td>\n",
       "      <td>...</td>\n",
       "    </tr>\n",
       "    <tr>\n",
       "      <th>834</th>\n",
       "      <td>0.50</td>\n",
       "      <td>0.17</td>\n",
       "      <td>0</td>\n",
       "    </tr>\n",
       "    <tr>\n",
       "      <th>835</th>\n",
       "      <td>0.63</td>\n",
       "      <td>0.23</td>\n",
       "      <td>1</td>\n",
       "    </tr>\n",
       "    <tr>\n",
       "      <th>836</th>\n",
       "      <td>0.55</td>\n",
       "      <td>0.20</td>\n",
       "      <td>0</td>\n",
       "    </tr>\n",
       "    <tr>\n",
       "      <th>837</th>\n",
       "      <td>0.31</td>\n",
       "      <td>0.03</td>\n",
       "      <td>0</td>\n",
       "    </tr>\n",
       "    <tr>\n",
       "      <th>838</th>\n",
       "      <td>0.40</td>\n",
       "      <td>0.24</td>\n",
       "      <td>1</td>\n",
       "    </tr>\n",
       "  </tbody>\n",
       "</table>\n",
       "<p>839 rows × 3 columns</p>\n",
       "</div>"
      ],
      "text/plain": [
       "     Ca_ICP_PCT  K_ICP_PCT  pH\n",
       "0          2.72       0.03   2\n",
       "1          0.35       0.08   0\n",
       "2          0.40       0.08   0\n",
       "3          0.59       0.04   0\n",
       "4          2.39       0.03   2\n",
       "..          ...        ...  ..\n",
       "834        0.50       0.17   0\n",
       "835        0.63       0.23   1\n",
       "836        0.55       0.20   0\n",
       "837        0.31       0.03   0\n",
       "838        0.40       0.24   1\n",
       "\n",
       "[839 rows x 3 columns]"
      ]
     },
     "execution_count": 14,
     "metadata": {},
     "output_type": "execute_result"
    }
   ],
   "source": [
    "class_data = pd.read_csv('Lecture_data/geochem.csv')\n",
    "class_data"
   ]
  },
  {
   "cell_type": "code",
   "execution_count": 15,
   "metadata": {
    "slideshow": {
     "slide_type": "subslide"
    }
   },
   "outputs": [],
   "source": [
    "X = class_data.drop(columns='pH')\n",
    "y = class_data['pH']\n",
    "\n",
    "X_train, X_test, y_train, y_test = train_test_split(X, y, train_size=0.8, random_state=3)"
   ]
  },
  {
   "cell_type": "code",
   "execution_count": null,
   "metadata": {
    "scrolled": true,
    "slideshow": {
     "slide_type": "subslide"
    }
   },
   "outputs": [],
   "source": [
    "plt.scatter(X_train['Ca_ICP_PCT'], X_train['K_ICP_PCT'], c=y_train)\n",
    "plt.xlabel('Ca_ICP_PCT')\n",
    "plt.ylabel('K_ICP_PCT');"
   ]
  },
  {
   "cell_type": "code",
   "execution_count": 16,
   "metadata": {
    "slideshow": {
     "slide_type": "subslide"
    }
   },
   "outputs": [
    {
     "data": {
      "application/vnd.jupyter.widget-view+json": {
       "model_id": "17438e5e56c14f009137f84f2fed769e",
       "version_major": 2,
       "version_minor": 0
      },
      "text/plain": [
       "interactive(children=(IntSlider(value=3, description='max_depth', max=15, min=1), Output()), _dom_classes=('wi…"
      ]
     },
     "metadata": {},
     "output_type": "display_data"
    }
   ],
   "source": [
    "from sklearn.tree import DecisionTreeClassifier\n",
    "from ipywidgets import interact, IntSlider\n",
    "from utils import plot_decision_regions\n",
    "\n",
    "@interact(max_depth=IntSlider(min=1, max=15, step=1, value=3))\n",
    "def plot_classifier(max_depth):\n",
    "    clf = DecisionTreeClassifier(max_depth=max_depth)\n",
    "    clf.fit(X_train.values, y_train.values)\n",
    "    print(f'Test Accuracy: {clf.score(X_test.values, y_test.values)}')\n",
    "    plot_decision_regions(X_train, y_train, classifier=clf, y_pad=.0,x_pad=.2)\n",
    "    plt.plot()"
   ]
  },
  {
   "cell_type": "markdown",
   "metadata": {
    "slideshow": {
     "slide_type": "subslide"
    }
   },
   "source": [
    "\n",
    "<h2 id=\"Pros-and-cons-of-Decision-Trees\">Pros and cons of Decision Trees<a class=\"anchor-link\" href=\"https://kitt.lewagon.com/karr/data-lectures.kitt/05-ML_07-Ensemble-Methods.html?title=Ensemble+Methods&amp;program_id=10#Pros-and-cons-of-Decision-Trees\">¶</a></h2><p>👍 Advantages</p>\n",
    "<ul>\n",
    "<li>No scaling necessary</li>\n",
    "<li>Resistant to outliers</li>\n",
    "<li>Intuitive and interpretable</li>\n",
    "<li>Allow feature selection (see gini-based <a href=\"https://scikit-learn.org/stable/modules/generated/sklearn.tree.DecisionTreeClassifier.html#sklearn.tree.DecisionTreeClassifier.feature_importances_\"><code>feature_importance_</code></a>)</li>\n",
    "<li>Non-Linear modelisation</li>\n",
    "</ul>\n"
   ]
  },
  {
   "cell_type": "markdown",
   "metadata": {
    "slideshow": {
     "slide_type": "fragment"
    }
   },
   "source": [
    "\n",
    "<p>👎 Disadvantages</p>\n",
    "<ul>\n",
    "<li>High variance (i.e small change in data has a big change in the tree structure)</li>\n",
    "<li>Long training time if grown up to max depth <span class=\"MathJax_Preview\" style=\"color: inherit;\"></span><span class=\"mjx-chtml MathJax_CHTML\" data-mathml='&lt;math xmlns=\"http://www.w3.org/1998/Math/MathML\"&gt;&lt;mi&gt;O&lt;/mi&gt;&lt;mo stretchy=\"false\"&gt;(&lt;/mo&gt;&lt;msub&gt;&lt;mi&gt;N&lt;/mi&gt;&lt;mrow class=\"MJX-TeXAtom-ORD\"&gt;&lt;mi&gt;o&lt;/mi&gt;&lt;mi&gt;b&lt;/mi&gt;&lt;mi&gt;s&lt;/mi&gt;&lt;/mrow&gt;&lt;/msub&gt;&lt;mo&gt;&amp;#x2217;&lt;/mo&gt;&lt;msub&gt;&lt;mi&gt;m&lt;/mi&gt;&lt;mrow class=\"MJX-TeXAtom-ORD\"&gt;&lt;mi&gt;f&lt;/mi&gt;&lt;mi&gt;e&lt;/mi&gt;&lt;mi&gt;a&lt;/mi&gt;&lt;mi&gt;t&lt;/mi&gt;&lt;/mrow&gt;&lt;/msub&gt;&lt;mo&gt;&amp;#x2217;&lt;/mo&gt;&lt;mi&gt;d&lt;/mi&gt;&lt;mi&gt;e&lt;/mi&gt;&lt;mi&gt;p&lt;/mi&gt;&lt;mi&gt;t&lt;/mi&gt;&lt;mi&gt;h&lt;/mi&gt;&lt;mo stretchy=\"false\"&gt;)&lt;/mo&gt;&lt;/math&gt;' id=\"MathJax-Element-4-Frame\" role=\"presentation\" style=\"font-size: 116%; position: relative;\" tabindex=\"0\"><span aria-hidden=\"true\" class=\"mjx-math\" id=\"MJXc-Node-20\"><span class=\"mjx-mrow\" id=\"MJXc-Node-21\"><span class=\"mjx-mi\" id=\"MJXc-Node-22\"><span class=\"mjx-char MJXc-TeX-math-I\" style=\"padding-top: 0.496em; padding-bottom: 0.311em;\">O</span></span><span class=\"mjx-mo\" id=\"MJXc-Node-23\"><span class=\"mjx-char MJXc-TeX-main-R\" style=\"padding-top: 0.434em; padding-bottom: 0.619em;\">(</span></span><span class=\"mjx-msubsup\" id=\"MJXc-Node-24\"><span class=\"mjx-base\" style=\"margin-right: -0.085em;\"><span class=\"mjx-mi\" id=\"MJXc-Node-25\"><span class=\"mjx-char MJXc-TeX-math-I\" style=\"padding-top: 0.434em; padding-bottom: 0.249em; padding-right: 0.085em;\">N</span></span></span><span class=\"mjx-sub\" style=\"font-size: 70.7%; vertical-align: -0.219em; padding-right: 0.071em;\"><span class=\"mjx-texatom\" id=\"MJXc-Node-26\" style=\"\"><span class=\"mjx-mrow\" id=\"MJXc-Node-27\"><span class=\"mjx-mi\" id=\"MJXc-Node-28\"><span class=\"mjx-char MJXc-TeX-math-I\" style=\"padding-top: 0.249em; padding-bottom: 0.311em;\">o</span></span><span class=\"mjx-mi\" id=\"MJXc-Node-29\"><span class=\"mjx-char MJXc-TeX-math-I\" style=\"padding-top: 0.496em; padding-bottom: 0.311em;\">b</span></span><span class=\"mjx-mi\" id=\"MJXc-Node-30\"><span class=\"mjx-char MJXc-TeX-math-I\" style=\"padding-top: 0.249em; padding-bottom: 0.311em;\">s</span></span></span></span></span></span><span class=\"mjx-mo MJXc-space2\" id=\"MJXc-Node-31\"><span class=\"mjx-char MJXc-TeX-main-R\" style=\"padding-top: 0.188em; padding-bottom: 0.311em;\">∗</span></span><span class=\"mjx-msubsup MJXc-space2\" id=\"MJXc-Node-32\"><span class=\"mjx-base\"><span class=\"mjx-mi\" id=\"MJXc-Node-33\"><span class=\"mjx-char MJXc-TeX-math-I\" style=\"padding-top: 0.249em; padding-bottom: 0.311em;\">m</span></span></span><span class=\"mjx-sub\" style=\"font-size: 70.7%; vertical-align: -0.23em; padding-right: 0.071em;\"><span class=\"mjx-texatom\" id=\"MJXc-Node-34\" style=\"\"><span class=\"mjx-mrow\" id=\"MJXc-Node-35\"><span class=\"mjx-mi\" id=\"MJXc-Node-36\"><span class=\"mjx-char MJXc-TeX-math-I\" style=\"padding-top: 0.496em; padding-bottom: 0.496em; padding-right: 0.06em;\">f</span></span><span class=\"mjx-mi\" id=\"MJXc-Node-37\"><span class=\"mjx-char MJXc-TeX-math-I\" style=\"padding-top: 0.249em; padding-bottom: 0.311em;\">e</span></span><span class=\"mjx-mi\" id=\"MJXc-Node-38\"><span class=\"mjx-char MJXc-TeX-math-I\" style=\"padding-top: 0.249em; padding-bottom: 0.311em;\">a</span></span><span class=\"mjx-mi\" id=\"MJXc-Node-39\"><span class=\"mjx-char MJXc-TeX-math-I\" style=\"padding-top: 0.434em; padding-bottom: 0.311em;\">t</span></span></span></span></span></span><span class=\"mjx-mo MJXc-space2\" id=\"MJXc-Node-40\"><span class=\"mjx-char MJXc-TeX-main-R\" style=\"padding-top: 0.188em; padding-bottom: 0.311em;\">∗</span></span><span class=\"mjx-mi MJXc-space2\" id=\"MJXc-Node-41\"><span class=\"mjx-char MJXc-TeX-math-I\" style=\"padding-top: 0.496em; padding-bottom: 0.311em; padding-right: 0.003em;\">d</span></span><span class=\"mjx-mi\" id=\"MJXc-Node-42\"><span class=\"mjx-char MJXc-TeX-math-I\" style=\"padding-top: 0.249em; padding-bottom: 0.311em;\">e</span></span><span class=\"mjx-mi\" id=\"MJXc-Node-43\"><span class=\"mjx-char MJXc-TeX-math-I\" style=\"padding-top: 0.249em; padding-bottom: 0.496em;\">p</span></span><span class=\"mjx-mi\" id=\"MJXc-Node-44\"><span class=\"mjx-char MJXc-TeX-math-I\" style=\"padding-top: 0.434em; padding-bottom: 0.311em;\">t</span></span><span class=\"mjx-mi\" id=\"MJXc-Node-45\"><span class=\"mjx-char MJXc-TeX-math-I\" style=\"padding-top: 0.496em; padding-bottom: 0.311em;\">h</span></span><span class=\"mjx-mo\" id=\"MJXc-Node-46\"><span class=\"mjx-char MJXc-TeX-main-R\" style=\"padding-top: 0.434em; padding-bottom: 0.619em;\">)</span></span></span></span><span class=\"MJX_Assistive_MathML\" role=\"presentation\"><math xmlns=\"http://www.w3.org/1998/Math/MathML\"><mi>O</mi><mo stretchy=\"false\">(</mo><msub><mi>N</mi><mrow class=\"MJX-TeXAtom-ORD\"><mi>o</mi><mi>b</mi><mi>s</mi></mrow></msub><mo>∗</mo><msub><mi>m</mi><mrow class=\"MJX-TeXAtom-ORD\"><mi>f</mi><mi>e</mi><mi>a</mi><mi>t</mi></mrow></msub><mo>∗</mo><mi>d</mi><mi>e</mi><mi>p</mi><mi>t</mi><mi>h</mi><mo stretchy=\"false\">)</mo></math></span></span><script id=\"MathJax-Element-4\" type=\"math/tex\">O(N_{obs}*m_{feat}*depth)</script></li>\n",
    "<li>Split data \"orthogonally\" to feature directions (use PCA upfront to \"orient\" data)</li>\n",
    "</ul>\n"
   ]
  },
  {
   "cell_type": "markdown",
   "metadata": {
    "editable": true,
    "slideshow": {
     "slide_type": "slide"
    },
    "tags": []
   },
   "source": [
    "\n",
    "# Ensemble Methods\n",
    "<br>\n",
    "<center><img src=\"https://drive.google.com/uc?id=15vBdptV3FxSd9aT4B06yiXxWW-m5hBRq\" style=\"width:900px;\"><br>\n",
    "Image generated with <a href=\"https://openai.com/blog/dall-e/\">DALL-E</a><br>\n",
    "\n",
    "Prompt: A photo of a forest in autumn with colorful leaves and many animals in the branches. <br>© Cédric John, 2022.</center>\n"
   ]
  },
  {
   "cell_type": "markdown",
   "metadata": {
    "editable": true,
    "slideshow": {
     "slide_type": "subslide"
    },
    "tags": []
   },
   "source": [
    "# Boostrap Aggregation\n",
    "\n",
    "<p>Bootstrap aggregating, also known as Bagging, is the aggregation of multiple versions of a model.</p>\n",
    "<ul>\n",
    "<li>It is a <strong>parallel</strong> ensemble method</li>\n",
    "<li>The aim of bagging is to <strong>reduce variance</strong></li>\n",
    "<li>Each version of the model is called a <strong>weak learner</strong></li>\n",
    "<li>Weak learners are trained on <strong>boostrapped</strong> samples of the dataset</li>\n",
    "</ul>\n",
    "<p><img align=\"center\" src=\"https://drive.google.com/uc?id=15karOVgKRq-AYmpfPcTW3oNQjesoJRPB\" style=\"margin:auto\" width=\"900\"/></p>\n",
    "\n",
    "<a href=\"https://medium.com/analytics-vidhya/ensemble-models-bagging-boosting-c33706db0b0b\">Silipo, 2020</a>\n"
   ]
  },
  {
   "cell_type": "markdown",
   "metadata": {
    "slideshow": {
     "slide_type": "subslide"
    }
   },
   "source": [
    "\n",
    "<h2 id=\"Bootstrapping\">Bootstrapping</h2><ul>\n",
    "<li>Generating \"bootstrapped\" samples from the given dataset</li>\n",
    "<li>The samples are created by randomly drawing the data points with replacement.</li>\n",
    "<li>Features can also be randomly filtered to increase bagging diversity</li>\n",
    "</ul>\n",
    "<p><img align=\"center\" src=\"https://drive.google.com/uc?id=15e76Tpt-yb71fJ-1G0TdHQ7yP1iIdFzE\" style=\"margin:auto\" width=\"1000\"/></p>\n",
    "\n",
    "<a href=\"https://towardsdatascience.com/seeing-the-forest-for-the-trees-an-introduction-to-random-forest-41a24fc842ac\">Firmin, 2019</a>\n"
   ]
  },
  {
   "cell_type": "markdown",
   "metadata": {
    "slideshow": {
     "slide_type": "subslide"
    }
   },
   "source": [
    "\n",
    "<h2 id=\"Random-Forests-=-Bagged-Trees\">Random Forests = Bagged Trees</h2><p>Random Forests are a Bagged ensemble of Decision trees.</p>\n",
    "\n",
    "<p><img align=\"center\" src=\"https://drive.google.com/uc?id=15gn_isa8pgkTkvRwowwR_QmrujKAvCfY\" style=\"margin:auto\" width=\"1000\"/></p>\n",
    "\n",
    "<a href=\"https://towardsdatascience.com/seeing-the-forest-for-the-trees-an-introduction-to-random-forest-41a24fc842ac\">Firmin, 2019</a>"
   ]
  },
  {
   "cell_type": "markdown",
   "metadata": {
    "editable": true,
    "slideshow": {
     "slide_type": "subslide"
    },
    "tags": []
   },
   "source": [
    "\n",
    "<p>Prediction are averaged (for regression) or voted (classification)</p>\n",
    "<p><img align=\"center\" src=\"https://drive.google.com/uc?id=162UCDj9_FNbvR2dNLiRBNTMZcGBW2GVS\" style=\"margin:auto\" width=\"1000\"/></p>\n",
    "\n",
    "<a href=\"https://www.researchgate.net/publication/301638643_Electromyographic_Patterns_during_Golf_Swing_Activation_Sequence_Profiling_and_Prediction_of_Shot_Effectiveness\">Verikas et al, 2016</a>"
   ]
  },
  {
   "cell_type": "markdown",
   "metadata": {
    "slideshow": {
     "slide_type": "subslide"
    }
   },
   "source": [
    "\n",
    "<h3 id=\"💻-Sklearn-RandomForestRegressor-and-Classifier\">💻 Sklearn <a href=\"https://scikit-learn.org/stable/modules/generated/sklearn.ensemble.RandomForestRegressor.html\">RandomForestRegressor</a> and <a href=\"https://scikit-learn.org/stable/modules/generated/sklearn.ensemble.RandomForestClassifier.html\">Classifier</a><a class=\"anchor-link\" href=\"https://kitt.lewagon.com/karr/data-lectures.kitt/05-ML_07-Ensemble-Methods.html?title=Ensemble+Methods&amp;program_id=10#%F0%9F%92%BB-Sklearn-RandomForestRegressor-and-Classifier\">¶</a></h3>\n"
   ]
  },
  {
   "cell_type": "code",
   "execution_count": 17,
   "metadata": {
    "editable": true,
    "slideshow": {
     "slide_type": "-"
    },
    "tags": []
   },
   "outputs": [
    {
     "name": "stdout",
     "output_type": "stream",
     "text": [
      "[-28.82100136  -9.74027076 -13.2682221  -13.70098333 -10.17123487\n",
      " -14.67325253  -9.63673062 -13.45545066 -13.30324486  -8.29101159]\n",
      "mean mse:  13.506140267566124\n",
      "std mse:  5.509253048658625\n"
     ]
    }
   ],
   "source": [
    "from sklearn.ensemble import RandomForestRegressor\n",
    "\n",
    "forest = RandomForestRegressor(n_estimators=100)\n",
    "\n",
    "cv_results = cross_validate(forest, reg_X, reg_y, scoring = \"neg_mean_squared_error\", cv=10)\n",
    "\n",
    "print(cv_results['test_score'])\n",
    "print('mean mse: ',-1*cv_results['test_score'].mean())\n",
    "print('std mse: ', cv_results['test_score'].std())\n"
   ]
  },
  {
   "cell_type": "code",
   "execution_count": 18,
   "metadata": {
    "editable": true,
    "slideshow": {
     "slide_type": "subslide"
    },
    "tags": []
   },
   "outputs": [
    {
     "data": {
      "application/vnd.jupyter.widget-view+json": {
       "model_id": "e1879ee0311c4487bf71cac9c47538d1",
       "version_major": 2,
       "version_minor": 0
      },
      "text/plain": [
       "interactive(children=(IntSlider(value=3, description='max_depth', max=30, min=1), Output()), _dom_classes=('wi…"
      ]
     },
     "metadata": {},
     "output_type": "display_data"
    }
   ],
   "source": [
    "from sklearn.ensemble import RandomForestClassifier\n",
    "\n",
    "@interact(max_depth=IntSlider(min=1, max=30, step=1, value=3))\n",
    "def plot_classifier(max_depth):\n",
    "    clf = RandomForestClassifier(max_depth=max_depth)\n",
    "    clf.fit(X_train.values, y_train.values)\n",
    "    print(f'Test Accuracy: {clf.score(X_test.values, y_test.values)}')\n",
    "    plot_decision_regions(X_train, y_train, classifier=clf, y_pad=.0,x_pad=.2)\n",
    "    plt.plot()"
   ]
  },
  {
   "cell_type": "markdown",
   "metadata": {
    "slideshow": {
     "slide_type": "subslide"
    }
   },
   "source": [
    "\n",
    "<h2 id=\"💻-Bagging-any-algorithm-!\">💻 Bagging any algorithm !<a class=\"anchor-link\" href=\"https://kitt.lewagon.com/karr/data-lectures.kitt/05-ML_07-Ensemble-Methods.html?title=Ensemble+Methods&amp;program_id=10#%F0%9F%92%BB-Bagging-any-algorithm-!\">¶</a></h2><p>Bagging can be implemented on any algorithm using <a href=\"https://scikit-learn.org/stable/modules/generated/sklearn.ensemble.BaggingRegressor.html\"><code>BaggingRegressor</code></a> and <a href=\"https://scikit-learn.org/stable/modules/generated/sklearn.ensemble.BaggingClassifier.html\"><code>BaggingClassifier</code></a></p>\n"
   ]
  },
  {
   "cell_type": "code",
   "execution_count": 19,
   "metadata": {
    "editable": true,
    "slideshow": {
     "slide_type": "-"
    },
    "tags": []
   },
   "outputs": [
    {
     "name": "stdout",
     "output_type": "stream",
     "text": [
      "mean mse:  13.420640034445446\n",
      "std dev:  3.893642769818285\n"
     ]
    }
   ],
   "source": [
    "\n",
    "from sklearn.ensemble import BaggingRegressor\n",
    "from sklearn.linear_model import LinearRegression\n",
    "\n",
    "linear_model = LinearRegression()\n",
    "\n",
    "bagged_model = BaggingRegressor(linear_model, n_estimators=50)\n",
    "\n",
    "cv_results = cross_validate(bagged_model, reg_X, reg_y, scoring = \"neg_mean_squared_error\", cv=10)\n",
    "print('mean mse: ',-1*cv_results['test_score'].mean())\n",
    "print('std dev: ', cv_results['test_score'].std())\n"
   ]
  },
  {
   "cell_type": "markdown",
   "metadata": {
    "editable": true,
    "slideshow": {
     "slide_type": "subslide"
    },
    "tags": []
   },
   "source": [
    "\n",
    "<h4 id=\"Out-of-Bag-samples\">Out-of-Bag samples<a class=\"anchor-link\" href=\"https://kitt.lewagon.com/karr/data-lectures.kitt/05-ML_07-Ensemble-Methods.html?title=Ensemble+Methods&amp;program_id=10#Out-of-Bag-samples\">¶</a></h4><p>Sample not \"drawn\" by the bagging can be used to give a pseudo \"test\" score</p>\n"
   ]
  },
  {
   "cell_type": "code",
   "execution_count": 20,
   "metadata": {
    "slideshow": {
     "slide_type": "fragment"
    }
   },
   "outputs": [
    {
     "data": {
      "text/plain": [
       "0.8631981369099049"
      ]
     },
     "execution_count": 20,
     "metadata": {},
     "output_type": "execute_result"
    }
   ],
   "source": [
    "bagged_model = BaggingRegressor(\n",
    "    linear_model,\n",
    "    n_estimators=50,\n",
    "    oob_score=True\n",
    ")\n",
    "\n",
    "bagged_model.fit(reg_X,reg_y).oob_score_\n"
   ]
  },
  {
   "cell_type": "markdown",
   "metadata": {
    "slideshow": {
     "slide_type": "subslide"
    }
   },
   "source": [
    "\n",
    "<h3 id=\"Pros-and-cons-of-Bagging\">Pros and cons of Bagging<a class=\"anchor-link\" href=\"https://kitt.lewagon.com/karr/data-lectures.kitt/05-ML_07-Ensemble-Methods.html?title=Ensemble+Methods&amp;program_id=10#Pros-and-cons-of-Bagging\">¶</a></h3>\n"
   ]
  },
  {
   "cell_type": "markdown",
   "metadata": {
    "slideshow": {
     "slide_type": "fragment"
    }
   },
   "source": [
    "\n",
    "<p>👍 Advantages:</p>\n",
    "<ul>\n",
    "<li>Reduces variance/overfitting</li>\n",
    "<li>Can be applied to any model</li>\n",
    "</ul>\n"
   ]
  },
  {
   "cell_type": "markdown",
   "metadata": {
    "slideshow": {
     "slide_type": "fragment"
    }
   },
   "source": [
    "\n",
    "<p>👎 Disadvantages</p>\n",
    "<ul>\n",
    "<li>Complex structure</li>\n",
    "<li>High training time</li>\n",
    "<li>Disregards the performance of individual sub-models</li>\n",
    "</ul>\n"
   ]
  },
  {
   "cell_type": "markdown",
   "metadata": {
    "slideshow": {
     "slide_type": "slide"
    }
   },
   "source": [
    "\n",
    "<h1 id=\"3.-Boosting\">3. Boosting<a class=\"anchor-link\" href=\"https://kitt.lewagon.com/karr/data-lectures.kitt/05-ML_07-Ensemble-Methods.html?title=Ensemble+Methods&amp;program_id=10#3.-Boosting\">¶</a></h1>\n"
   ]
  },
  {
   "cell_type": "markdown",
   "metadata": {
    "slideshow": {
     "slide_type": "fragment"
    }
   },
   "source": [
    "\n",
    "<p>Boosting is a sequential ensemble method made up of weak learners that learn from their predecessor's mistakes.</p>\n",
    "<ul>\n",
    "<li>It is a <strong>sequential</strong> ensemble method</li>\n",
    "<li>The aim of boosting is to <strong>reduce bias</strong></li>\n",
    "<li>Focuses on the observations that are harder to predict</li>\n",
    "<li>The best weak learners are given more weight in the final vote</li>\n",
    "</ul>\n",
    "<p><img align=\"center\" src=\"https://drive.google.com/uc?id=15karOVgKRq-AYmpfPcTW3oNQjesoJRPB\" style=\"margin:auto\" width=\"1000\"/></p>\n",
    "\n",
    "<a href=\"https://medium.com/analytics-vidhya/ensemble-models-bagging-boosting-c33706db0b0b\">Silipo, 2020</a>\n"
   ]
  },
  {
   "cell_type": "markdown",
   "metadata": {
    "slideshow": {
     "slide_type": "subslide"
    }
   },
   "source": [
    "\n",
    "<h2 >AdaBoost (Adaptative Boosting)</h2><p><a href=\"https://scikit-learn.org/stable/modules/generated/sklearn.ensemble.AdaBoostRegressor.html\"><code>AdaBoostRegressor</code></a> and <a href=\"https://scikit-learn.org/stable/modules/generated/sklearn.ensemble.AdaBoostClassifier.html\"><code>AdaBoostClassifier</code></a></p>\n",
    "\n",
    "<p><strong>One implementation</strong> of boosting that works particularly well with trees.</p>\n",
    "<p><img align=\"center\" src=\"https://drive.google.com/uc?id=15xeV5WyvNmkNX0LpdW1zImAjJZ7TbFdC\" style=\"margin:auto\" width=\"1300\"/></p>\n",
    "\n",
    "<a href=\"https://chrisalbon.com/code/machine_learning/trees_and_forests/adaboost_classifier/\">Albon, 2017</a>\n"
   ]
  },
  {
   "cell_type": "markdown",
   "metadata": {
    "slideshow": {
     "slide_type": "subslide"
    }
   },
   "source": [
    "\n",
    "<h3 id=\"💻-AdaBoosted-Trees-in-Sklearn\">💻 AdaBoosted Trees in Sklearn<a class=\"anchor-link\" href=\"https://kitt.lewagon.com/karr/data-lectures.kitt/05-ML_07-Ensemble-Methods.html?title=Ensemble+Methods&amp;program_id=10#%F0%9F%92%BB-AdaBoosted-Trees-in-Sklearn\">¶</a></h3>\n"
   ]
  },
  {
   "cell_type": "code",
   "execution_count": 21,
   "metadata": {
    "editable": true,
    "slideshow": {
     "slide_type": "-"
    },
    "tags": []
   },
   "outputs": [
    {
     "name": "stdout",
     "output_type": "stream",
     "text": [
      "mean mse:  13.912304163814445\n",
      "std dev:  5.851788866583492\n"
     ]
    }
   ],
   "source": [
    "\n",
    "from sklearn.ensemble import AdaBoostRegressor\n",
    "\n",
    "adaboost = AdaBoostRegressor(DecisionTreeRegressor(max_depth=3))\n",
    "\n",
    "cv_results = cross_validate(adaboost, reg_X, reg_y, scoring = \"neg_mean_squared_error\", cv=10)\n",
    "\n",
    "print('mean mse: ',-1*cv_results['test_score'].mean())\n",
    "print('std dev: ', cv_results['test_score'].std())\n",
    "\n"
   ]
  },
  {
   "cell_type": "code",
   "execution_count": 22,
   "metadata": {
    "editable": true,
    "slideshow": {
     "slide_type": "subslide"
    },
    "tags": []
   },
   "outputs": [
    {
     "data": {
      "application/vnd.jupyter.widget-view+json": {
       "model_id": "2ccd5729802c46428010bd3fd363ae0f",
       "version_major": 2,
       "version_minor": 0
      },
      "text/plain": [
       "interactive(children=(Dropdown(description='n_estimators', options=(10, 30, 50, 100), value=10), IntSlider(val…"
      ]
     },
     "metadata": {},
     "output_type": "display_data"
    }
   ],
   "source": [
    "from sklearn.ensemble import AdaBoostClassifier\n",
    "\n",
    "@interact(n_estimators=[10, 30, 50,100], max_depth=IntSlider(min=1, max=30, step=1, value=2))\n",
    "def plot_classifier(n_estimators, max_depth):\n",
    "    model = AdaBoostClassifier(DecisionTreeClassifier(max_depth=max_depth),\n",
    "                               n_estimators=n_estimators)\n",
    "    model.fit(X_train.values, y_train.values)\n",
    "    print(f'Test Accuracy: {model.score(X_test.values, y_test.values)}')\n",
    "    plot_decision_regions(X_train, y_train, classifier=model,  y_pad=.0,x_pad=.2)"
   ]
  },
  {
   "cell_type": "markdown",
   "metadata": {
    "slideshow": {
     "slide_type": "subslide"
    }
   },
   "source": [
    "\n",
    "<h2 id=\"3.2-Gradient-Boosting-🔥\">3.2 Gradient Boosting 🔥<a class=\"anchor-link\" href=\"https://kitt.lewagon.com/karr/data-lectures.kitt/05-ML_07-Ensemble-Methods.html?title=Ensemble+Methods&amp;program_id=10#3.2-Gradient-Boosting-%F0%9F%94%A5\">¶</a></h2><ul>\n",
    "<li>Only implemented for trees</li>\n",
    "<li>Generally more performant than AdaBoost</li>\n",
    "</ul>\n"
   ]
  },
  {
   "cell_type": "markdown",
   "metadata": {
    "slideshow": {
     "slide_type": "fragment"
    }
   },
   "source": [
    "\n",
    "<p>Instead of updating the weights of observations misclassified...</p>\n",
    "<ol>\n",
    "<li>Recursively fit each weak-learner on the <strong>residuals</strong> of the previous one</li>\n",
    "<li>Then <strong>adds</strong> all the predictions of each weak learners (for regression)</li>\n",
    "</ol>\n"
   ]
  },
  {
   "cell_type": "markdown",
   "metadata": {
    "slideshow": {
     "slide_type": "fragment"
    }
   },
   "source": [
    "\n",
    "<p>For classification, ~ similar principle but in the logit space (if loss chosen is log-loss)</p>\n",
    "<p>📚 Read sklearn <a href=\"https://scikit-learn.org/stable/modules/ensemble.html#gradient-boosting\">user guide</a></p>\n"
   ]
  },
  {
   "cell_type": "code",
   "execution_count": 23,
   "metadata": {
    "slideshow": {
     "slide_type": "subslide"
    }
   },
   "outputs": [],
   "source": [
    "from sklearn.ensemble import GradientBoostingRegressor\n",
    "model = GradientBoostingRegressor(\n",
    "    n_estimators=100, \n",
    "    learning_rate=0.1\n",
    ")"
   ]
  },
  {
   "cell_type": "code",
   "execution_count": 24,
   "metadata": {},
   "outputs": [
    {
     "name": "stdout",
     "output_type": "stream",
     "text": [
      "Test Accuracy: 0.8812411112352591\n"
     ]
    }
   ],
   "source": [
    "model.fit(X_train_reg, y_train_reg)\n",
    "print(f'Test Accuracy: {model.score(X_test_reg, y_test_reg)}')"
   ]
  },
  {
   "cell_type": "markdown",
   "metadata": {
    "editable": true,
    "slideshow": {
     "slide_type": "subslide"
    },
    "tags": []
   },
   "source": [
    "### XGBOOST\n",
    "\n",
    "* Extreme Gradient Tree Boosting\n",
    "* Dedicated library, optimized for this task\n",
    "* Nice features inspired from Deep Learning\n",
    "\n",
    "<a href=\"https://xgboost.readthedocs.io/en/latest/\">See the XGBOOST Documentation</a>"
   ]
  },
  {
   "cell_type": "code",
   "execution_count": 26,
   "metadata": {
    "editable": true,
    "slideshow": {
     "slide_type": "subslide"
    },
    "tags": []
   },
   "outputs": [
    {
     "name": "stdout",
     "output_type": "stream",
     "text": [
      "[0]\tvalidation_0-rmse:7.10485\tvalidation_0-mean_squared_error:50.47894\n",
      "[1]\tvalidation_0-rmse:5.50202\tvalidation_0-mean_squared_error:30.27219\n",
      "[2]\tvalidation_0-rmse:4.50714\tvalidation_0-mean_squared_error:20.31434\n",
      "[3]\tvalidation_0-rmse:3.92712\tvalidation_0-mean_squared_error:15.42224\n",
      "[4]\tvalidation_0-rmse:3.60967\tvalidation_0-mean_squared_error:13.02975\n",
      "[5]\tvalidation_0-rmse:3.44494\tvalidation_0-mean_squared_error:11.86760\n",
      "[6]\tvalidation_0-rmse:3.36286\tvalidation_0-mean_squared_error:11.30881\n",
      "[7]\tvalidation_0-rmse:3.32330\tvalidation_0-mean_squared_error:11.04431\n",
      "[8]\tvalidation_0-rmse:3.30487\tvalidation_0-mean_squared_error:10.92219\n",
      "[9]\tvalidation_0-rmse:3.29668\tvalidation_0-mean_squared_error:10.86811\n",
      "[10]\tvalidation_0-rmse:3.29331\tvalidation_0-mean_squared_error:10.84592\n",
      "[11]\tvalidation_0-rmse:3.29215\tvalidation_0-mean_squared_error:10.83822\n",
      "[12]\tvalidation_0-rmse:3.29192\tvalidation_0-mean_squared_error:10.83677\n",
      "[13]\tvalidation_0-rmse:3.29207\tvalidation_0-mean_squared_error:10.83773\n",
      "[14]\tvalidation_0-rmse:3.29233\tvalidation_0-mean_squared_error:10.83941\n",
      "[15]\tvalidation_0-rmse:3.29258\tvalidation_0-mean_squared_error:10.84110\n",
      "[16]\tvalidation_0-rmse:3.29280\tvalidation_0-mean_squared_error:10.84255\n",
      "[17]\tvalidation_0-rmse:3.29298\tvalidation_0-mean_squared_error:10.84370\n",
      "[18]\tvalidation_0-rmse:3.29311\tvalidation_0-mean_squared_error:10.84458\n",
      "[19]\tvalidation_0-rmse:3.29321\tvalidation_0-mean_squared_error:10.84524\n",
      "[20]\tvalidation_0-rmse:3.29328\tvalidation_0-mean_squared_error:10.84572\n",
      "[21]\tvalidation_0-rmse:3.29334\tvalidation_0-mean_squared_error:10.84607\n",
      "[22]\tvalidation_0-rmse:3.29338\tvalidation_0-mean_squared_error:10.84633\n",
      "[23]\tvalidation_0-rmse:3.29340\tvalidation_0-mean_squared_error:10.84651\n",
      "[24]\tvalidation_0-rmse:3.29342\tvalidation_0-mean_squared_error:10.84664\n",
      "[25]\tvalidation_0-rmse:3.29344\tvalidation_0-mean_squared_error:10.84677\n",
      "[26]\tvalidation_0-rmse:3.29345\tvalidation_0-mean_squared_error:10.84683\n",
      "[27]\tvalidation_0-rmse:3.29346\tvalidation_0-mean_squared_error:10.84687\n"
     ]
    },
    {
     "data": {
      "text/html": [
       "<style>#sk-container-id-2 {color: black;}#sk-container-id-2 pre{padding: 0;}#sk-container-id-2 div.sk-toggleable {background-color: white;}#sk-container-id-2 label.sk-toggleable__label {cursor: pointer;display: block;width: 100%;margin-bottom: 0;padding: 0.3em;box-sizing: border-box;text-align: center;}#sk-container-id-2 label.sk-toggleable__label-arrow:before {content: \"▸\";float: left;margin-right: 0.25em;color: #696969;}#sk-container-id-2 label.sk-toggleable__label-arrow:hover:before {color: black;}#sk-container-id-2 div.sk-estimator:hover label.sk-toggleable__label-arrow:before {color: black;}#sk-container-id-2 div.sk-toggleable__content {max-height: 0;max-width: 0;overflow: hidden;text-align: left;background-color: #f0f8ff;}#sk-container-id-2 div.sk-toggleable__content pre {margin: 0.2em;color: black;border-radius: 0.25em;background-color: #f0f8ff;}#sk-container-id-2 input.sk-toggleable__control:checked~div.sk-toggleable__content {max-height: 200px;max-width: 100%;overflow: auto;}#sk-container-id-2 input.sk-toggleable__control:checked~label.sk-toggleable__label-arrow:before {content: \"▾\";}#sk-container-id-2 div.sk-estimator input.sk-toggleable__control:checked~label.sk-toggleable__label {background-color: #d4ebff;}#sk-container-id-2 div.sk-label input.sk-toggleable__control:checked~label.sk-toggleable__label {background-color: #d4ebff;}#sk-container-id-2 input.sk-hidden--visually {border: 0;clip: rect(1px 1px 1px 1px);clip: rect(1px, 1px, 1px, 1px);height: 1px;margin: -1px;overflow: hidden;padding: 0;position: absolute;width: 1px;}#sk-container-id-2 div.sk-estimator {font-family: monospace;background-color: #f0f8ff;border: 1px dotted black;border-radius: 0.25em;box-sizing: border-box;margin-bottom: 0.5em;}#sk-container-id-2 div.sk-estimator:hover {background-color: #d4ebff;}#sk-container-id-2 div.sk-parallel-item::after {content: \"\";width: 100%;border-bottom: 1px solid gray;flex-grow: 1;}#sk-container-id-2 div.sk-label:hover label.sk-toggleable__label {background-color: #d4ebff;}#sk-container-id-2 div.sk-serial::before {content: \"\";position: absolute;border-left: 1px solid gray;box-sizing: border-box;top: 0;bottom: 0;left: 50%;z-index: 0;}#sk-container-id-2 div.sk-serial {display: flex;flex-direction: column;align-items: center;background-color: white;padding-right: 0.2em;padding-left: 0.2em;position: relative;}#sk-container-id-2 div.sk-item {position: relative;z-index: 1;}#sk-container-id-2 div.sk-parallel {display: flex;align-items: stretch;justify-content: center;background-color: white;position: relative;}#sk-container-id-2 div.sk-item::before, #sk-container-id-2 div.sk-parallel-item::before {content: \"\";position: absolute;border-left: 1px solid gray;box-sizing: border-box;top: 0;bottom: 0;left: 50%;z-index: -1;}#sk-container-id-2 div.sk-parallel-item {display: flex;flex-direction: column;z-index: 1;position: relative;background-color: white;}#sk-container-id-2 div.sk-parallel-item:first-child::after {align-self: flex-end;width: 50%;}#sk-container-id-2 div.sk-parallel-item:last-child::after {align-self: flex-start;width: 50%;}#sk-container-id-2 div.sk-parallel-item:only-child::after {width: 0;}#sk-container-id-2 div.sk-dashed-wrapped {border: 1px dashed gray;margin: 0 0.4em 0.5em 0.4em;box-sizing: border-box;padding-bottom: 0.4em;background-color: white;}#sk-container-id-2 div.sk-label label {font-family: monospace;font-weight: bold;display: inline-block;line-height: 1.2em;}#sk-container-id-2 div.sk-label-container {text-align: center;}#sk-container-id-2 div.sk-container {/* jupyter's `normalize.less` sets `[hidden] { display: none; }` but bootstrap.min.css set `[hidden] { display: none !important; }` so we also need the `!important` here to be able to override the default hidden behavior on the sphinx rendered scikit-learn.org. See: https://github.com/scikit-learn/scikit-learn/issues/21755 */display: inline-block !important;position: relative;}#sk-container-id-2 div.sk-text-repr-fallback {display: none;}</style><div id=\"sk-container-id-2\" class=\"sk-top-container\"><div class=\"sk-text-repr-fallback\"><pre>XGBRegressor(base_score=None, booster=None, callbacks=None,\n",
       "             colsample_bylevel=None, colsample_bynode=None,\n",
       "             colsample_bytree=None, device=None, early_stopping_rounds=15,\n",
       "             enable_categorical=False,\n",
       "             eval_metric=&lt;function mean_squared_error at 0x124bf80e0&gt;,\n",
       "             feature_types=None, gamma=None, grow_policy=None,\n",
       "             importance_type=None, interaction_constraints=None,\n",
       "             learning_rate=None, max_bin=None, max_cat_threshold=None,\n",
       "             max_cat_to_onehot=None, max_delta_step=None, max_depth=None,\n",
       "             max_leaves=None, min_child_weight=None, missing=nan,\n",
       "             monotone_constraints=None, multi_strategy=None, n_estimators=None,\n",
       "             n_jobs=None, num_parallel_tree=None, random_state=None, ...)</pre><b>In a Jupyter environment, please rerun this cell to show the HTML representation or trust the notebook. <br />On GitHub, the HTML representation is unable to render, please try loading this page with nbviewer.org.</b></div><div class=\"sk-container\" hidden><div class=\"sk-item\"><div class=\"sk-estimator sk-toggleable\"><input class=\"sk-toggleable__control sk-hidden--visually\" id=\"sk-estimator-id-2\" type=\"checkbox\" checked><label for=\"sk-estimator-id-2\" class=\"sk-toggleable__label sk-toggleable__label-arrow\">XGBRegressor</label><div class=\"sk-toggleable__content\"><pre>XGBRegressor(base_score=None, booster=None, callbacks=None,\n",
       "             colsample_bylevel=None, colsample_bynode=None,\n",
       "             colsample_bytree=None, device=None, early_stopping_rounds=15,\n",
       "             enable_categorical=False,\n",
       "             eval_metric=&lt;function mean_squared_error at 0x124bf80e0&gt;,\n",
       "             feature_types=None, gamma=None, grow_policy=None,\n",
       "             importance_type=None, interaction_constraints=None,\n",
       "             learning_rate=None, max_bin=None, max_cat_threshold=None,\n",
       "             max_cat_to_onehot=None, max_delta_step=None, max_depth=None,\n",
       "             max_leaves=None, min_child_weight=None, missing=nan,\n",
       "             monotone_constraints=None, multi_strategy=None, n_estimators=None,\n",
       "             n_jobs=None, num_parallel_tree=None, random_state=None, ...)</pre></div></div></div></div></div>"
      ],
      "text/plain": [
       "XGBRegressor(base_score=None, booster=None, callbacks=None,\n",
       "             colsample_bylevel=None, colsample_bynode=None,\n",
       "             colsample_bytree=None, device=None, early_stopping_rounds=15,\n",
       "             enable_categorical=False,\n",
       "             eval_metric=<function mean_squared_error at 0x124bf80e0>,\n",
       "             feature_types=None, gamma=None, grow_policy=None,\n",
       "             importance_type=None, interaction_constraints=None,\n",
       "             learning_rate=None, max_bin=None, max_cat_threshold=None,\n",
       "             max_cat_to_onehot=None, max_delta_step=None, max_depth=None,\n",
       "             max_leaves=None, min_child_weight=None, missing=nan,\n",
       "             monotone_constraints=None, multi_strategy=None, n_estimators=None,\n",
       "             n_jobs=None, num_parallel_tree=None, random_state=None, ...)"
      ]
     },
     "execution_count": 26,
     "metadata": {},
     "output_type": "execute_result"
    }
   ],
   "source": [
    "from xgboost import XGBRegressor\n",
    "from sklearn.metrics import mean_squared_error\n",
    "\n",
    "xgb_reg = XGBRegressor(early_stopping_rounds=15,\n",
    "    eval_metric=mean_squared_error)\n",
    "\n",
    "xgb_reg.fit(\n",
    "    X_train_reg, y_train_reg,\n",
    "    # evaluate loss at each iteration\n",
    "    eval_set=[(X_test_reg, y_test_reg)], \n",
    ") "
   ]
  },
  {
   "cell_type": "markdown",
   "metadata": {
    "editable": true,
    "slideshow": {
     "slide_type": "subslide"
    },
    "tags": []
   },
   "source": [
    "\n",
    "<h2 id=\"Pros-and-cons-of-boosting\">Pros and cons of boosting<a class=\"anchor-link\" href=\"https://kitt.lewagon.com/karr/data-lectures.kitt/05-ML_07-Ensemble-Methods.html?title=Ensemble+Methods&amp;program_id=10#Pros-and-cons-of-boosting\">¶</a></h2>\n"
   ]
  },
  {
   "cell_type": "markdown",
   "metadata": {
    "slideshow": {
     "slide_type": "fragment"
    }
   },
   "source": [
    "\n",
    "<p>👍 Advantages:</p>\n",
    "<ul>\n",
    "<li>Strong sub-models have more influence in final decision</li>\n",
    "<li>Reduce bias</li>\n",
    "</ul>\n"
   ]
  },
  {
   "cell_type": "markdown",
   "metadata": {
    "slideshow": {
     "slide_type": "fragment"
    }
   },
   "source": [
    "\n",
    "<p>👎 Disadvantages:</p>\n",
    "<ul>\n",
    "<li>Computationally expensive (sequential)</li>\n",
    "<li>Easily overfit</li>\n",
    "<li>Sensitive to outliers (too much time spent trying to correctly predict them)</li>\n",
    "</ul>\n"
   ]
  },
  {
   "cell_type": "markdown",
   "metadata": {
    "slideshow": {
     "slide_type": "subslide"
    }
   },
   "source": [
    "\n",
    "<h2 id=\"Ensemble-methods-recap\">Ensemble methods recap</h2><p>Ensemble learning combines several base algorithms (e.g. Decision trees) to form one optimized predictive algorithm. Ensemble methods can be broken down into two categories:</p>\n",
    "<ul>\n",
    "<li><strong>Parallel Learners</strong>:  different models are trained in parallel and their predictions are aggregated (e.g. Random Forest)</li>\n",
    "</ul>\n",
    "<ul>\n",
    "<li><strong>Sequential Learners</strong>: different models are trained sequentially and the mistakes of previous models are learned by their successors (e.g. Boosted trees)</li>\n",
    "</ul>\n",
    "\n",
    "<p><img align=\"center\" src=\"https://drive.google.com/uc?id=15karOVgKRq-AYmpfPcTW3oNQjesoJRPB\" style=\"margin:auto\" width=\"1000\"/></p>\n",
    "\n",
    "<a href=\"https://medium.com/analytics-vidhya/ensemble-models-bagging-boosting-c33706db0b0b\">Silipo, 2020</a>"
   ]
  },
  {
   "cell_type": "markdown",
   "metadata": {
    "editable": true,
    "slideshow": {
     "slide_type": "slide"
    },
    "tags": []
   },
   "source": [
    "# Models Stacking\n",
    "<br>\n",
    "\n",
    "<center><img src=\"https://drive.google.com/uc?id=163V9vbFGzIyUZGwy3xCA7A0J_gLrVVXj\" style=\"width:900px;\"><br>\n",
    "\n",
    " © Cédric John, 2022; Image generated with <a href=\"https://openai.com/blog/dall-e/\">DALL-E</a><br>\n",
    "<br>Prompt: A very high stack of delicious looking pancakes with glass-looking mapple sirup, creamy butter, and colorful rasberries, soft lighting.</center>"
   ]
  },
  {
   "cell_type": "markdown",
   "metadata": {
    "editable": true,
    "slideshow": {
     "slide_type": "subslide"
    },
    "tags": []
   },
   "source": [
    "## Stacking"
   ]
  },
  {
   "cell_type": "markdown",
   "metadata": {
    "slideshow": {
     "slide_type": "fragment"
    }
   },
   "source": [
    "\n",
    "<p>Stacking consists of training different algorithms and aggregating their predictions.</p>\n",
    "<ul>\n",
    "<li>Different algorithms capture different structures of data</li>\n",
    "<li>Combining sometimes enhances the predictive power</li>\n",
    "<li>The results are aggregated by voting (classification) or averaging (regression)</li>\n",
    "</ul>\n"
   ]
  },
  {
   "cell_type": "markdown",
   "metadata": {
    "slideshow": {
     "slide_type": "subslide"
    }
   },
   "source": [
    "\n",
    "<h3 id=\"Simple-aggregation\">Simple aggregation<a class=\"anchor-link\" href=\"https://kitt.lewagon.com/karr/data-lectures.kitt/05-ML_07-Ensemble-Methods.html?title=Ensemble+Methods&amp;program_id=10#Simple-aggregation\">¶</a></h3><p>\n",
    "sklearn <a href=\"https://scikit-learn.org/stable/modules/generated/sklearn.ensemble.VotingClassifier.html\">VotingClassifier</a> and <a href=\"https://scikit-learn.org/stable/modules/generated/sklearn.ensemble.VotingRegressor.html\">VotingRegressor</a></p>\n"
   ]
  },
  {
   "cell_type": "markdown",
   "metadata": {
    "slideshow": {
     "slide_type": "fragment"
    }
   },
   "source": [
    "\n",
    "<p><img align=\"center\" src=\"https://drive.google.com/uc?id=15iJYy1CHpzkPFJo0OO4K9u0K6RjzHIr3\" style=\"margin:auto\" width=\"1300\"/></p>\n",
    "\n",
    "<a href=\"https://www.oreilly.com/library/view/hands-on-machine-learning/9781098125967/\">Géron, 2017-2022</a>"
   ]
  },
  {
   "cell_type": "code",
   "execution_count": 27,
   "metadata": {
    "slideshow": {
     "slide_type": "subslide"
    }
   },
   "outputs": [
    {
     "name": "stdout",
     "output_type": "stream",
     "text": [
      "Test Accuracy: 0.7142857142857143\n"
     ]
    },
    {
     "data": {
      "image/png": "[encoded data removed]",
      "text/plain": [
       "<Figure size 1200x800 with 1 Axes>"
      ]
     },
     "metadata": {},
     "output_type": "display_data"
    }
   ],
   "source": [
    "\n",
    "from sklearn.ensemble import VotingClassifier\n",
    "from sklearn.linear_model import LogisticRegression\n",
    "\n",
    "forest = RandomForestClassifier(max_depth=2)\n",
    "logreg = LogisticRegression()\n",
    "\n",
    "ensemble = VotingClassifier(\n",
    "    estimators = [(\"rf\", forest),(\"lr\", logreg)],\n",
    "    voting = 'soft', # to use predict_proba of each classifier before voting\n",
    "    weights = [1,1] # to equally weight forest and logreg in the vote\n",
    ")\n",
    "ensemble.fit(X_train.values, y_train.values)\n",
    "print(f'Test Accuracy: {ensemble.score(X_test.values, y_test.values)}')\n",
    "plot_decision_regions(X_train, y_train, classifier=ensemble,  y_pad=.0,x_pad=.2)"
   ]
  },
  {
   "cell_type": "markdown",
   "metadata": {
    "slideshow": {
     "slide_type": "subslide"
    }
   },
   "source": [
    "\n",
    "<h3 id=\"Multi-layer-stacking!\">Multi-layer stacking!<a class=\"anchor-link\" href=\"https://kitt.lewagon.com/karr/data-lectures.kitt/05-ML_07-Ensemble-Methods.html?title=Ensemble+Methods&amp;program_id=10#Multi-layer-stacking!\">¶</a></h3><p>sklearn <a href=\"https://scikit-learn.org/stable/modules/generated/sklearn.ensemble.StackingClassifier.html\">StackingClassifier</a> and <a href=\"https://scikit-learn.org/stable/modules/generated/sklearn.ensemble.StackingRegressor.html\">StackingRegressor</a></p>\n",
    "<p>Train a <strong>final estimator</strong> on the predictions of the previous ones</p>\n"
   ]
  },
  {
   "cell_type": "code",
   "execution_count": 28,
   "metadata": {
    "slideshow": {
     "slide_type": "fragment"
    }
   },
   "outputs": [
    {
     "name": "stdout",
     "output_type": "stream",
     "text": [
      "Test Accuracy: 0.6964285714285714\n"
     ]
    },
    {
     "data": {
      "image/png": "[encoded data removed]",
      "text/plain": [
       "<Figure size 1200x800 with 1 Axes>"
      ]
     },
     "metadata": {},
     "output_type": "display_data"
    }
   ],
   "source": [
    "from sklearn.ensemble import StackingClassifier\n",
    "from sklearn.neighbors import KNeighborsClassifier\n",
    "\n",
    "ensemble = StackingClassifier(\n",
    "    estimators = [(\"rf\", RandomForestClassifier(max_depth=2)),\n",
    "                  (\"knn\", KNeighborsClassifier(n_neighbors=10))],\n",
    "    final_estimator = LogisticRegression())\n",
    "\n",
    "ensemble.fit(X_train.values, y_train.values)\n",
    "print(f'Test Accuracy: {ensemble.score(X_test.values, y_test.values)}')\n",
    "plot_decision_regions(X_train, y_train, classifier=ensemble, y_pad=.0,x_pad=.2)\n"
   ]
  },
  {
   "cell_type": "markdown",
   "metadata": {
    "slideshow": {
     "slide_type": "subslide"
    }
   },
   "source": [
    "# Suggested Resources"
   ]
  },
  {
   "cell_type": "markdown",
   "metadata": {
    "slideshow": {
     "slide_type": "-"
    },
    "tags": []
   },
   "source": [
    "## 📺 Videos \n",
    "#### Short videos from my Undegraduate Machine Learning Classes:\n",
    "* 📼 <a href=\"https://youtu.be/FHk46klXgZs?list=PLZzjCZ3QdgQCcRIwQdd-_cJNAUgiEBB_n\">Decision Trees</a>\n",
    "* 📼 <a href=\"https://youtu.be/v15RrzYaXqY?list=PLZzjCZ3QdgQCcRIwQdd-_cJNAUgiEBB_n\">RandomForest</a>"
   ]
  },
  {
   "cell_type": "markdown",
   "metadata": {
    "slideshow": {
     "slide_type": "-"
    },
    "tags": []
   },
   "source": [
    "## 📚 Further Reading \n",
    "* 📖 <a href=\"https://towardsdatascience.com/ensemble-methods-in-machine-learning-what-are-they-and-why-use-them-68ec3f9fef5f\">Ensemble Methods in Machine Learning: What are They and Why Use Them?</a> by Evan Lutins\n",
    "* 📖 <a href=\"https://machinelearningmastery.com/tour-of-ensemble-learning-algorithms/\">A Gentle Introduction to Ensemble Learning Algorithms</a> by Jason Brown, 2021\n",
    "* 📖 <a href=\"https://towardsdatascience.com/understanding-random-forest-58381e0602d2\">Understanding Random Forest - How the Algorithm Works and Why it Is So Effective</a> by Tony Yiu, 2019\n"
   ]
  },
  {
   "cell_type": "markdown",
   "metadata": {
    "editable": true,
    "slideshow": {
     "slide_type": "subslide"
    },
    "tags": []
   },
   "source": [
    "# 💻🐍 Time to Code ! "
   ]
  }
 ],
 "metadata": {
  "celltoolbar": "Slideshow",
  "kernelspec": {
   "display_name": "Python 3 (ipykernel)",
   "language": "python",
   "name": "python3"
  },
  "language_info": {
   "codemirror_mode": {
    "name": "ipython",
    "version": 3
   },
   "file_extension": ".py",
   "mimetype": "text/x-python",
   "name": "python",
   "nbconvert_exporter": "python",
   "pygments_lexer": "ipython3",
   "version": "3.11.5"
  },
  "rise": {
   "scroll": true,
   "theme": "serif",
   "transition": "none"
  }
 },
 "nbformat": 4,
 "nbformat_minor": 4
}
